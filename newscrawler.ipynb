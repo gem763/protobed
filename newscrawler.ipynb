{
 "cells": [
  {
   "cell_type": "code",
   "execution_count": 59,
   "metadata": {},
   "outputs": [],
   "source": [
    "import newspaper\n",
    "from newspaper import news_pool, Source, Article\n",
    "from tqdm import tqdm_notebook"
   ]
  },
  {
   "cell_type": "code",
   "execution_count": 44,
   "metadata": {},
   "outputs": [],
   "source": [
    "cnn = newspaper.build('http://cnn.com/world', fetch_images=False, memoize_articles=False)"
   ]
  },
  {
   "cell_type": "code",
   "execution_count": 57,
   "metadata": {},
   "outputs": [],
   "source": [
    "wsj = newspaper.build('http://wsj.com', fetch_images=False, memoize_articles=False)"
   ]
  },
  {
   "cell_type": "code",
   "execution_count": 11,
   "metadata": {},
   "outputs": [],
   "source": [
    "ft = newspaper.build('http://ft.com', fetch_images=False, memoize_articles=False)"
   ]
  },
  {
   "cell_type": "code",
   "execution_count": 3,
   "metadata": {},
   "outputs": [],
   "source": [
    "inv = newspaper.build('https://investing.com', fetch_images=False, memoize_articles=False)"
   ]
  },
  {
   "cell_type": "code",
   "execution_count": 82,
   "metadata": {},
   "outputs": [],
   "source": [
    "gn = newspaper.build('http://news.google.com', fetch_images=False, memoize_articles=False)"
   ]
  },
  {
   "cell_type": "code",
   "execution_count": null,
   "metadata": {},
   "outputs": [],
   "source": []
  },
  {
   "cell_type": "code",
   "execution_count": 15,
   "metadata": {},
   "outputs": [
    {
     "data": {
      "text/plain": [
       "datetime.datetime(2019, 8, 2, 0, 0)"
      ]
     },
     "execution_count": 15,
     "metadata": {},
     "output_type": "execute_result"
    }
   ],
   "source": [
    "article = cnn.articles[3]\n",
    "article.download()\n",
    "article.parse()\n",
    "article.publish_date"
   ]
  },
  {
   "cell_type": "code",
   "execution_count": 85,
   "metadata": {
    "scrolled": true
   },
   "outputs": [
    {
     "data": {
      "application/vnd.jupyter.widget-view+json": {
       "model_id": "9fff48b64d3f44de94fda6d41b776ebc",
       "version_major": 2,
       "version_minor": 0
      },
      "text/plain": [
       "HBox(children=(IntProgress(value=0, max=27), HTML(value='')))"
      ]
     },
     "metadata": {},
     "output_type": "display_data"
    },
    {
     "name": "stdout",
     "output_type": "stream",
     "text": [
      "https://play.google.com/store/audiobooks/details/Mark_Manson_The_Subtle_Art_of_Not_Giving_a_F_ck?id=AQAAAAA0lhmWPM\n",
      "https://play.google.com/store/audiobooks/details/Delia_Owens_Where_the_Crawdads_Sing?id=AQAAAICz_Xt92M\n",
      "https://play.google.com/store/audiobooks/details/Sun_Tzu_The_Art_of_War?id=AQAAAEDMG2VbuM\n",
      "https://play.google.com/store/audiobooks/details/Timothy_Zahn_Thrawn_Treason_Star_Wars?id=AQAAAEBMOnt6JM\n",
      "https://play.google.com/store/audiobooks/details/Dale_Carnegie_How_To_Win_Friends_And_Influence_Peo?id=AQAAAIA86zVrGM\n",
      "https://play.google.com/store/audiobooks/details/Gary_John_Bishop_Unfu_k_Yourself?id=AQAAAADER0JHlM\n",
      "https://play.google.com/store/audiobooks/details/Gary_Chapman_The_5_Love_Languages?id=AQAAAIDFa0zrmM\n",
      "https://play.google.com/store/books/details/Sarah_MacLean_Brazen_and_the_Beast?id=tnFdDwAAQBAJ\n",
      "https://play.google.com/store/books/details/Cullen_Bunn_Deadpool_Kills_the_Marvel_Universe?id=4pRfAwAAQBAJ\n",
      "https://play.google.com/store/books/details/Alvin_Schwartz_Scary_Stories_to_Tell_in_the_Dark?id=jXNADwAAQBAJ\n",
      "https://play.google.com/store/books/details/Marc_Cameron_Tom_Clancy_Power_and_Empire?id=76iiDgAAQBAJ\n",
      "https://play.google.com/store/books/details/Liane_Moriarty_The_Husband_s_Secret?id=jZIUcMyLFzAC\n",
      "https://play.google.com/store/books/details/Margaret_Atwood_The_Handmaid_s_Tale?id=ZrsVZKWJg4UC\n",
      "https://play.google.com/store/tv/show/What_We_Do_in_the_Shadows?id=phQEC15d8ud114ggQVIQCA\n",
      "https://play.google.com/store/books/details/Tui_T_Sutherland_The_Poison_Jungle_Wings_of_Fire_B?id=lLdrDwAAQBAJ\n",
      "https://play.google.com/store/books/details/Scholastic_Joey_Drew_Studios_Employee_Handbook_Ben?id=qb5rDwAAQBAJ\n",
      "https://play.google.com/store/books/details/John_Jackson_Miller_Star_Trek_Discovery_The_Enterp?id=LbSDDwAAQBAJ\n",
      "https://play.google.com/store/audiobooks/details/Katherine_Center_The_Girl_in_the_Plane?id=AQAAAEAs6TOpDM\n",
      "https://play.google.com/store/audiobooks/details/Gucci_Mane_The_Autobiography_of_Gucci_Mane?id=AQAAAIBCNlW2BM\n",
      "https://play.google.com/store/audiobooks/details/Eric_Nylund_HALO_The_Fall_of_Reach?id=AQAAAEBMxmSGOM\n",
      "https://play.google.com/store/audiobooks/details/Becky_Chambers_The_Long_Way_to_a_Small_Angry_Plane?id=AQAAAEDMtQH13M\n",
      "https://play.google.com/store/movies/details/Fast_Furious_The_Ultimate_Ride_Collection?id=egL6eBiUb2E\n",
      "https://play.google.com/store/movies/details/Spider_Man_Into_the_Spider_Verse_Spider_Man_Homeco?id=2IrGxIQqnf4\n",
      "https://play.google.com/store/movies/details/The_LEGO_Movie_2_Film_Collection?id=lZs8FWve4vQ\n",
      "https://play.google.com/store/movies/details/Get_Out_Us_2_Movie_Collection?id=T7nSkHAwor4\n",
      "https://support.google.com/news/publisher-center/?hl=en\n",
      "https://support.google.com/news/producer/?hl=en\n",
      "\n"
     ]
    }
   ],
   "source": [
    "for article in tqdm_notebook(gn.articles):\n",
    "    #article.download()\n",
    "    #article.parse()\n",
    "    #print(article.publish_date)\n",
    "    print(article.url)"
   ]
  },
  {
   "cell_type": "code",
   "execution_count": 61,
   "metadata": {
    "scrolled": false
   },
   "outputs": [],
   "source": [
    "article = Article('https://www.wsj.com/articles/chinas-currency-weakening-escalates-trade-war-11565027431')\n",
    "article.download()\n",
    "article.parse()"
   ]
  },
  {
   "cell_type": "code",
   "execution_count": 62,
   "metadata": {},
   "outputs": [
    {
     "data": {
      "text/plain": [
       "'WASHINGTON—The U.S. Treasury labeled China a currency manipulator after the Chinese central bank let the yuan depreciate, capping a day of trade-war escalations that sparked a global fall in financial markets and fears the clash could stall the U.S.’s economic expansion.\\n\\nThe uncertainty could pressure the Federal Reserve to consider more interest-rate cuts, following its decision last week to lower rates for the first time in more than a decade.\\n\\n...'"
      ]
     },
     "execution_count": 62,
     "metadata": {},
     "output_type": "execute_result"
    }
   ],
   "source": [
    "article.text"
   ]
  },
  {
   "cell_type": "code",
   "execution_count": 56,
   "metadata": {},
   "outputs": [
    {
     "name": "stdout",
     "output_type": "stream",
     "text": [
      "None\n",
      "None\n",
      "None\n",
      "None\n",
      "None\n",
      "None\n",
      "None\n",
      "None\n",
      "None\n",
      "None\n",
      "None\n",
      "None\n",
      "None\n",
      "None\n",
      "None\n",
      "None\n",
      "None\n",
      "None\n",
      "None\n",
      "None\n",
      "None\n",
      "None\n",
      "None\n",
      "None\n",
      "None\n",
      "None\n",
      "None\n",
      "None\n",
      "None\n",
      "None\n",
      "None\n",
      "None\n",
      "None\n",
      "None\n",
      "None\n",
      "None\n",
      "None\n",
      "None\n",
      "None\n",
      "None\n",
      "None\n",
      "None\n",
      "None\n",
      "None\n",
      "None\n",
      "None\n",
      "None\n",
      "None\n",
      "None\n",
      "None\n",
      "None\n",
      "None\n",
      "None\n",
      "None\n",
      "None\n",
      "None\n",
      "None\n",
      "None\n",
      "None\n",
      "None\n",
      "None\n",
      "None\n",
      "None\n",
      "None\n",
      "None\n",
      "None\n",
      "None\n",
      "None\n",
      "None\n",
      "None\n",
      "None\n",
      "None\n",
      "None\n",
      "None\n",
      "None\n",
      "None\n",
      "None\n",
      "None\n",
      "None\n",
      "None\n",
      "None\n",
      "None\n",
      "None\n",
      "None\n",
      "None\n",
      "None\n",
      "None\n",
      "None\n",
      "None\n",
      "2019-08-05 00:00:00\n",
      "2019-08-05 00:00:00\n",
      "2019-08-05 00:00:00\n",
      "None\n",
      "None\n",
      "None\n",
      "None\n",
      "None\n",
      "None\n",
      "None\n",
      "None\n",
      "None\n",
      "None\n",
      "None\n",
      "None\n",
      "None\n",
      "None\n",
      "None\n",
      "None\n",
      "None\n",
      "None\n",
      "None\n",
      "None\n",
      "None\n",
      "None\n",
      "None\n",
      "None\n",
      "None\n",
      "None\n",
      "None\n",
      "None\n",
      "None\n",
      "None\n",
      "None\n",
      "None\n"
     ]
    }
   ],
   "source": [
    "for article in wsj.articles:\n",
    "    article.parse()\n",
    "    print(article.publish_date)"
   ]
  },
  {
   "cell_type": "code",
   "execution_count": null,
   "metadata": {},
   "outputs": [],
   "source": []
  },
  {
   "cell_type": "code",
   "execution_count": 72,
   "metadata": {
    "collapsed": true
   },
   "outputs": [
    {
     "name": "stdout",
     "output_type": "stream",
     "text": [
      "None\n",
      "None\n",
      "None\n",
      "None\n",
      "None\n",
      "None\n",
      "None\n",
      "None\n",
      "None\n",
      "None\n",
      "None\n",
      "None\n",
      "None\n",
      "None\n",
      "None\n",
      "2019-06-25 00:00:00\n",
      "2019-07-10 11:30:00+01:00\n",
      "2019-01-08 16:10:01+00:00\n",
      "2019-07-17 11:00:00+01:00\n",
      "None\n",
      "None\n",
      "None\n",
      "None\n",
      "None\n",
      "None\n",
      "None\n",
      "None\n",
      "2019-08-02 00:00:00\n",
      "2019-07-29 00:00:00\n",
      "None\n",
      "None\n",
      "2006-09-20 00:00:00\n",
      "2018-04-23 11:00:00+01:00\n",
      "2016-12-16 10:00:00+00:00\n",
      "2019-08-02 00:00:00\n",
      "2019-08-02 00:00:00\n",
      "2019-08-02 00:00:00\n",
      "2019-08-02 00:00:00\n",
      "2019-08-02 00:00:00\n",
      "2019-08-02 00:00:00\n",
      "2019-08-02 00:00:00\n",
      "2019-08-02 00:00:00\n"
     ]
    },
    {
     "ename": "KeyboardInterrupt",
     "evalue": "",
     "output_type": "error",
     "traceback": [
      "\u001b[1;31m---------------------------------------------------------------------------\u001b[0m",
      "\u001b[1;31mWantReadError\u001b[0m                             Traceback (most recent call last)",
      "\u001b[1;32m~\\Anaconda3\\lib\\site-packages\\urllib3\\contrib\\pyopenssl.py\u001b[0m in \u001b[0;36mwrap_socket\u001b[1;34m(self, sock, server_side, do_handshake_on_connect, suppress_ragged_eofs, server_hostname)\u001b[0m\n\u001b[0;32m    452\u001b[0m             \u001b[1;32mtry\u001b[0m\u001b[1;33m:\u001b[0m\u001b[1;33m\u001b[0m\u001b[1;33m\u001b[0m\u001b[0m\n\u001b[1;32m--> 453\u001b[1;33m                 \u001b[0mcnx\u001b[0m\u001b[1;33m.\u001b[0m\u001b[0mdo_handshake\u001b[0m\u001b[1;33m(\u001b[0m\u001b[1;33m)\u001b[0m\u001b[1;33m\u001b[0m\u001b[1;33m\u001b[0m\u001b[0m\n\u001b[0m\u001b[0;32m    454\u001b[0m             \u001b[1;32mexcept\u001b[0m \u001b[0mOpenSSL\u001b[0m\u001b[1;33m.\u001b[0m\u001b[0mSSL\u001b[0m\u001b[1;33m.\u001b[0m\u001b[0mWantReadError\u001b[0m\u001b[1;33m:\u001b[0m\u001b[1;33m\u001b[0m\u001b[1;33m\u001b[0m\u001b[0m\n",
      "\u001b[1;32m~\\Anaconda3\\lib\\site-packages\\OpenSSL\\SSL.py\u001b[0m in \u001b[0;36mdo_handshake\u001b[1;34m(self)\u001b[0m\n\u001b[0;32m   1914\u001b[0m         \u001b[0mresult\u001b[0m \u001b[1;33m=\u001b[0m \u001b[0m_lib\u001b[0m\u001b[1;33m.\u001b[0m\u001b[0mSSL_do_handshake\u001b[0m\u001b[1;33m(\u001b[0m\u001b[0mself\u001b[0m\u001b[1;33m.\u001b[0m\u001b[0m_ssl\u001b[0m\u001b[1;33m)\u001b[0m\u001b[1;33m\u001b[0m\u001b[1;33m\u001b[0m\u001b[0m\n\u001b[1;32m-> 1915\u001b[1;33m         \u001b[0mself\u001b[0m\u001b[1;33m.\u001b[0m\u001b[0m_raise_ssl_error\u001b[0m\u001b[1;33m(\u001b[0m\u001b[0mself\u001b[0m\u001b[1;33m.\u001b[0m\u001b[0m_ssl\u001b[0m\u001b[1;33m,\u001b[0m \u001b[0mresult\u001b[0m\u001b[1;33m)\u001b[0m\u001b[1;33m\u001b[0m\u001b[1;33m\u001b[0m\u001b[0m\n\u001b[0m\u001b[0;32m   1916\u001b[0m \u001b[1;33m\u001b[0m\u001b[0m\n",
      "\u001b[1;32m~\\Anaconda3\\lib\\site-packages\\OpenSSL\\SSL.py\u001b[0m in \u001b[0;36m_raise_ssl_error\u001b[1;34m(self, ssl, result)\u001b[0m\n\u001b[0;32m   1621\u001b[0m         \u001b[1;32mif\u001b[0m \u001b[0merror\u001b[0m \u001b[1;33m==\u001b[0m \u001b[0m_lib\u001b[0m\u001b[1;33m.\u001b[0m\u001b[0mSSL_ERROR_WANT_READ\u001b[0m\u001b[1;33m:\u001b[0m\u001b[1;33m\u001b[0m\u001b[1;33m\u001b[0m\u001b[0m\n\u001b[1;32m-> 1622\u001b[1;33m             \u001b[1;32mraise\u001b[0m \u001b[0mWantReadError\u001b[0m\u001b[1;33m(\u001b[0m\u001b[1;33m)\u001b[0m\u001b[1;33m\u001b[0m\u001b[1;33m\u001b[0m\u001b[0m\n\u001b[0m\u001b[0;32m   1623\u001b[0m         \u001b[1;32melif\u001b[0m \u001b[0merror\u001b[0m \u001b[1;33m==\u001b[0m \u001b[0m_lib\u001b[0m\u001b[1;33m.\u001b[0m\u001b[0mSSL_ERROR_WANT_WRITE\u001b[0m\u001b[1;33m:\u001b[0m\u001b[1;33m\u001b[0m\u001b[1;33m\u001b[0m\u001b[0m\n",
      "\u001b[1;31mWantReadError\u001b[0m: ",
      "\nDuring handling of the above exception, another exception occurred:\n",
      "\u001b[1;31mKeyboardInterrupt\u001b[0m                         Traceback (most recent call last)",
      "\u001b[1;32m<ipython-input-72-eaa97dedb705>\u001b[0m in \u001b[0;36m<module>\u001b[1;34m\u001b[0m\n\u001b[0;32m      1\u001b[0m \u001b[1;32mfor\u001b[0m \u001b[0marticle\u001b[0m \u001b[1;32min\u001b[0m \u001b[0mcnn_paper\u001b[0m\u001b[1;33m.\u001b[0m\u001b[0marticles\u001b[0m\u001b[1;33m:\u001b[0m\u001b[1;33m\u001b[0m\u001b[1;33m\u001b[0m\u001b[0m\n\u001b[1;32m----> 2\u001b[1;33m     \u001b[0marticle\u001b[0m\u001b[1;33m.\u001b[0m\u001b[0mdownload\u001b[0m\u001b[1;33m(\u001b[0m\u001b[1;33m)\u001b[0m\u001b[1;33m\u001b[0m\u001b[1;33m\u001b[0m\u001b[0m\n\u001b[0m\u001b[0;32m      3\u001b[0m     \u001b[0marticle\u001b[0m\u001b[1;33m.\u001b[0m\u001b[0mparse\u001b[0m\u001b[1;33m(\u001b[0m\u001b[1;33m)\u001b[0m\u001b[1;33m\u001b[0m\u001b[1;33m\u001b[0m\u001b[0m\n\u001b[0;32m      4\u001b[0m     \u001b[0mprint\u001b[0m\u001b[1;33m(\u001b[0m\u001b[0marticle\u001b[0m\u001b[1;33m.\u001b[0m\u001b[0mpublish_date\u001b[0m\u001b[1;33m)\u001b[0m\u001b[1;33m\u001b[0m\u001b[1;33m\u001b[0m\u001b[0m\n",
      "\u001b[1;32m~\\Anaconda3\\lib\\site-packages\\newspaper\\article.py\u001b[0m in \u001b[0;36mdownload\u001b[1;34m(self, input_html, title, recursion_counter)\u001b[0m\n\u001b[0;32m    168\u001b[0m         \u001b[1;32mif\u001b[0m \u001b[0minput_html\u001b[0m \u001b[1;32mis\u001b[0m \u001b[1;32mNone\u001b[0m\u001b[1;33m:\u001b[0m\u001b[1;33m\u001b[0m\u001b[1;33m\u001b[0m\u001b[0m\n\u001b[0;32m    169\u001b[0m             \u001b[1;32mtry\u001b[0m\u001b[1;33m:\u001b[0m\u001b[1;33m\u001b[0m\u001b[1;33m\u001b[0m\u001b[0m\n\u001b[1;32m--> 170\u001b[1;33m                 \u001b[0mhtml\u001b[0m \u001b[1;33m=\u001b[0m \u001b[0mnetwork\u001b[0m\u001b[1;33m.\u001b[0m\u001b[0mget_html_2XX_only\u001b[0m\u001b[1;33m(\u001b[0m\u001b[0mself\u001b[0m\u001b[1;33m.\u001b[0m\u001b[0murl\u001b[0m\u001b[1;33m,\u001b[0m \u001b[0mself\u001b[0m\u001b[1;33m.\u001b[0m\u001b[0mconfig\u001b[0m\u001b[1;33m)\u001b[0m\u001b[1;33m\u001b[0m\u001b[1;33m\u001b[0m\u001b[0m\n\u001b[0m\u001b[0;32m    171\u001b[0m             \u001b[1;32mexcept\u001b[0m \u001b[0mrequests\u001b[0m\u001b[1;33m.\u001b[0m\u001b[0mexceptions\u001b[0m\u001b[1;33m.\u001b[0m\u001b[0mRequestException\u001b[0m \u001b[1;32mas\u001b[0m \u001b[0me\u001b[0m\u001b[1;33m:\u001b[0m\u001b[1;33m\u001b[0m\u001b[1;33m\u001b[0m\u001b[0m\n\u001b[0;32m    172\u001b[0m                 \u001b[0mself\u001b[0m\u001b[1;33m.\u001b[0m\u001b[0mdownload_state\u001b[0m \u001b[1;33m=\u001b[0m \u001b[0mArticleDownloadState\u001b[0m\u001b[1;33m.\u001b[0m\u001b[0mFAILED_RESPONSE\u001b[0m\u001b[1;33m\u001b[0m\u001b[1;33m\u001b[0m\u001b[0m\n",
      "\u001b[1;32m~\\Anaconda3\\lib\\site-packages\\newspaper\\network.py\u001b[0m in \u001b[0;36mget_html_2XX_only\u001b[1;34m(url, config, response)\u001b[0m\n\u001b[0;32m     61\u001b[0m \u001b[1;33m\u001b[0m\u001b[0m\n\u001b[0;32m     62\u001b[0m     response = requests.get(\n\u001b[1;32m---> 63\u001b[1;33m         url=url, **get_request_kwargs(timeout, useragent, proxies, headers))\n\u001b[0m\u001b[0;32m     64\u001b[0m \u001b[1;33m\u001b[0m\u001b[0m\n\u001b[0;32m     65\u001b[0m     \u001b[0mhtml\u001b[0m \u001b[1;33m=\u001b[0m \u001b[0m_get_html_from_response\u001b[0m\u001b[1;33m(\u001b[0m\u001b[0mresponse\u001b[0m\u001b[1;33m)\u001b[0m\u001b[1;33m\u001b[0m\u001b[1;33m\u001b[0m\u001b[0m\n",
      "\u001b[1;32m~\\Anaconda3\\lib\\site-packages\\requests\\api.py\u001b[0m in \u001b[0;36mget\u001b[1;34m(url, params, **kwargs)\u001b[0m\n\u001b[0;32m     73\u001b[0m \u001b[1;33m\u001b[0m\u001b[0m\n\u001b[0;32m     74\u001b[0m     \u001b[0mkwargs\u001b[0m\u001b[1;33m.\u001b[0m\u001b[0msetdefault\u001b[0m\u001b[1;33m(\u001b[0m\u001b[1;34m'allow_redirects'\u001b[0m\u001b[1;33m,\u001b[0m \u001b[1;32mTrue\u001b[0m\u001b[1;33m)\u001b[0m\u001b[1;33m\u001b[0m\u001b[1;33m\u001b[0m\u001b[0m\n\u001b[1;32m---> 75\u001b[1;33m     \u001b[1;32mreturn\u001b[0m \u001b[0mrequest\u001b[0m\u001b[1;33m(\u001b[0m\u001b[1;34m'get'\u001b[0m\u001b[1;33m,\u001b[0m \u001b[0murl\u001b[0m\u001b[1;33m,\u001b[0m \u001b[0mparams\u001b[0m\u001b[1;33m=\u001b[0m\u001b[0mparams\u001b[0m\u001b[1;33m,\u001b[0m \u001b[1;33m**\u001b[0m\u001b[0mkwargs\u001b[0m\u001b[1;33m)\u001b[0m\u001b[1;33m\u001b[0m\u001b[1;33m\u001b[0m\u001b[0m\n\u001b[0m\u001b[0;32m     76\u001b[0m \u001b[1;33m\u001b[0m\u001b[0m\n\u001b[0;32m     77\u001b[0m \u001b[1;33m\u001b[0m\u001b[0m\n",
      "\u001b[1;32m~\\Anaconda3\\lib\\site-packages\\requests\\api.py\u001b[0m in \u001b[0;36mrequest\u001b[1;34m(method, url, **kwargs)\u001b[0m\n\u001b[0;32m     58\u001b[0m     \u001b[1;31m# cases, and look like a memory leak in others.\u001b[0m\u001b[1;33m\u001b[0m\u001b[1;33m\u001b[0m\u001b[1;33m\u001b[0m\u001b[0m\n\u001b[0;32m     59\u001b[0m     \u001b[1;32mwith\u001b[0m \u001b[0msessions\u001b[0m\u001b[1;33m.\u001b[0m\u001b[0mSession\u001b[0m\u001b[1;33m(\u001b[0m\u001b[1;33m)\u001b[0m \u001b[1;32mas\u001b[0m \u001b[0msession\u001b[0m\u001b[1;33m:\u001b[0m\u001b[1;33m\u001b[0m\u001b[1;33m\u001b[0m\u001b[0m\n\u001b[1;32m---> 60\u001b[1;33m         \u001b[1;32mreturn\u001b[0m \u001b[0msession\u001b[0m\u001b[1;33m.\u001b[0m\u001b[0mrequest\u001b[0m\u001b[1;33m(\u001b[0m\u001b[0mmethod\u001b[0m\u001b[1;33m=\u001b[0m\u001b[0mmethod\u001b[0m\u001b[1;33m,\u001b[0m \u001b[0murl\u001b[0m\u001b[1;33m=\u001b[0m\u001b[0murl\u001b[0m\u001b[1;33m,\u001b[0m \u001b[1;33m**\u001b[0m\u001b[0mkwargs\u001b[0m\u001b[1;33m)\u001b[0m\u001b[1;33m\u001b[0m\u001b[1;33m\u001b[0m\u001b[0m\n\u001b[0m\u001b[0;32m     61\u001b[0m \u001b[1;33m\u001b[0m\u001b[0m\n\u001b[0;32m     62\u001b[0m \u001b[1;33m\u001b[0m\u001b[0m\n",
      "\u001b[1;32m~\\Anaconda3\\lib\\site-packages\\requests\\sessions.py\u001b[0m in \u001b[0;36mrequest\u001b[1;34m(self, method, url, params, data, headers, cookies, files, auth, timeout, allow_redirects, proxies, hooks, stream, verify, cert, json)\u001b[0m\n\u001b[0;32m    531\u001b[0m         }\n\u001b[0;32m    532\u001b[0m         \u001b[0msend_kwargs\u001b[0m\u001b[1;33m.\u001b[0m\u001b[0mupdate\u001b[0m\u001b[1;33m(\u001b[0m\u001b[0msettings\u001b[0m\u001b[1;33m)\u001b[0m\u001b[1;33m\u001b[0m\u001b[1;33m\u001b[0m\u001b[0m\n\u001b[1;32m--> 533\u001b[1;33m         \u001b[0mresp\u001b[0m \u001b[1;33m=\u001b[0m \u001b[0mself\u001b[0m\u001b[1;33m.\u001b[0m\u001b[0msend\u001b[0m\u001b[1;33m(\u001b[0m\u001b[0mprep\u001b[0m\u001b[1;33m,\u001b[0m \u001b[1;33m**\u001b[0m\u001b[0msend_kwargs\u001b[0m\u001b[1;33m)\u001b[0m\u001b[1;33m\u001b[0m\u001b[1;33m\u001b[0m\u001b[0m\n\u001b[0m\u001b[0;32m    534\u001b[0m \u001b[1;33m\u001b[0m\u001b[0m\n\u001b[0;32m    535\u001b[0m         \u001b[1;32mreturn\u001b[0m \u001b[0mresp\u001b[0m\u001b[1;33m\u001b[0m\u001b[1;33m\u001b[0m\u001b[0m\n",
      "\u001b[1;32m~\\Anaconda3\\lib\\site-packages\\requests\\sessions.py\u001b[0m in \u001b[0;36msend\u001b[1;34m(self, request, **kwargs)\u001b[0m\n\u001b[0;32m    644\u001b[0m \u001b[1;33m\u001b[0m\u001b[0m\n\u001b[0;32m    645\u001b[0m         \u001b[1;31m# Send the request\u001b[0m\u001b[1;33m\u001b[0m\u001b[1;33m\u001b[0m\u001b[1;33m\u001b[0m\u001b[0m\n\u001b[1;32m--> 646\u001b[1;33m         \u001b[0mr\u001b[0m \u001b[1;33m=\u001b[0m \u001b[0madapter\u001b[0m\u001b[1;33m.\u001b[0m\u001b[0msend\u001b[0m\u001b[1;33m(\u001b[0m\u001b[0mrequest\u001b[0m\u001b[1;33m,\u001b[0m \u001b[1;33m**\u001b[0m\u001b[0mkwargs\u001b[0m\u001b[1;33m)\u001b[0m\u001b[1;33m\u001b[0m\u001b[1;33m\u001b[0m\u001b[0m\n\u001b[0m\u001b[0;32m    647\u001b[0m \u001b[1;33m\u001b[0m\u001b[0m\n\u001b[0;32m    648\u001b[0m         \u001b[1;31m# Total elapsed time of the request (approximately)\u001b[0m\u001b[1;33m\u001b[0m\u001b[1;33m\u001b[0m\u001b[1;33m\u001b[0m\u001b[0m\n",
      "\u001b[1;32m~\\Anaconda3\\lib\\site-packages\\requests\\adapters.py\u001b[0m in \u001b[0;36msend\u001b[1;34m(self, request, stream, timeout, verify, cert, proxies)\u001b[0m\n\u001b[0;32m    447\u001b[0m                     \u001b[0mdecode_content\u001b[0m\u001b[1;33m=\u001b[0m\u001b[1;32mFalse\u001b[0m\u001b[1;33m,\u001b[0m\u001b[1;33m\u001b[0m\u001b[1;33m\u001b[0m\u001b[0m\n\u001b[0;32m    448\u001b[0m                     \u001b[0mretries\u001b[0m\u001b[1;33m=\u001b[0m\u001b[0mself\u001b[0m\u001b[1;33m.\u001b[0m\u001b[0mmax_retries\u001b[0m\u001b[1;33m,\u001b[0m\u001b[1;33m\u001b[0m\u001b[1;33m\u001b[0m\u001b[0m\n\u001b[1;32m--> 449\u001b[1;33m                     \u001b[0mtimeout\u001b[0m\u001b[1;33m=\u001b[0m\u001b[0mtimeout\u001b[0m\u001b[1;33m\u001b[0m\u001b[1;33m\u001b[0m\u001b[0m\n\u001b[0m\u001b[0;32m    450\u001b[0m                 )\n\u001b[0;32m    451\u001b[0m \u001b[1;33m\u001b[0m\u001b[0m\n",
      "\u001b[1;32m~\\Anaconda3\\lib\\site-packages\\urllib3\\connectionpool.py\u001b[0m in \u001b[0;36murlopen\u001b[1;34m(self, method, url, body, headers, retries, redirect, assert_same_host, timeout, pool_timeout, release_conn, chunked, body_pos, **response_kw)\u001b[0m\n\u001b[0;32m    598\u001b[0m                                                   \u001b[0mtimeout\u001b[0m\u001b[1;33m=\u001b[0m\u001b[0mtimeout_obj\u001b[0m\u001b[1;33m,\u001b[0m\u001b[1;33m\u001b[0m\u001b[1;33m\u001b[0m\u001b[0m\n\u001b[0;32m    599\u001b[0m                                                   \u001b[0mbody\u001b[0m\u001b[1;33m=\u001b[0m\u001b[0mbody\u001b[0m\u001b[1;33m,\u001b[0m \u001b[0mheaders\u001b[0m\u001b[1;33m=\u001b[0m\u001b[0mheaders\u001b[0m\u001b[1;33m,\u001b[0m\u001b[1;33m\u001b[0m\u001b[1;33m\u001b[0m\u001b[0m\n\u001b[1;32m--> 600\u001b[1;33m                                                   chunked=chunked)\n\u001b[0m\u001b[0;32m    601\u001b[0m \u001b[1;33m\u001b[0m\u001b[0m\n\u001b[0;32m    602\u001b[0m             \u001b[1;31m# If we're going to release the connection in ``finally:``, then\u001b[0m\u001b[1;33m\u001b[0m\u001b[1;33m\u001b[0m\u001b[1;33m\u001b[0m\u001b[0m\n",
      "\u001b[1;32m~\\Anaconda3\\lib\\site-packages\\urllib3\\connectionpool.py\u001b[0m in \u001b[0;36m_make_request\u001b[1;34m(self, conn, method, url, timeout, chunked, **httplib_request_kw)\u001b[0m\n\u001b[0;32m    341\u001b[0m         \u001b[1;31m# Trigger any extra validation we need to do.\u001b[0m\u001b[1;33m\u001b[0m\u001b[1;33m\u001b[0m\u001b[1;33m\u001b[0m\u001b[0m\n\u001b[0;32m    342\u001b[0m         \u001b[1;32mtry\u001b[0m\u001b[1;33m:\u001b[0m\u001b[1;33m\u001b[0m\u001b[1;33m\u001b[0m\u001b[0m\n\u001b[1;32m--> 343\u001b[1;33m             \u001b[0mself\u001b[0m\u001b[1;33m.\u001b[0m\u001b[0m_validate_conn\u001b[0m\u001b[1;33m(\u001b[0m\u001b[0mconn\u001b[0m\u001b[1;33m)\u001b[0m\u001b[1;33m\u001b[0m\u001b[1;33m\u001b[0m\u001b[0m\n\u001b[0m\u001b[0;32m    344\u001b[0m         \u001b[1;32mexcept\u001b[0m \u001b[1;33m(\u001b[0m\u001b[0mSocketTimeout\u001b[0m\u001b[1;33m,\u001b[0m \u001b[0mBaseSSLError\u001b[0m\u001b[1;33m)\u001b[0m \u001b[1;32mas\u001b[0m \u001b[0me\u001b[0m\u001b[1;33m:\u001b[0m\u001b[1;33m\u001b[0m\u001b[1;33m\u001b[0m\u001b[0m\n\u001b[0;32m    345\u001b[0m             \u001b[1;31m# Py2 raises this as a BaseSSLError, Py3 raises it as socket timeout.\u001b[0m\u001b[1;33m\u001b[0m\u001b[1;33m\u001b[0m\u001b[1;33m\u001b[0m\u001b[0m\n",
      "\u001b[1;32m~\\Anaconda3\\lib\\site-packages\\urllib3\\connectionpool.py\u001b[0m in \u001b[0;36m_validate_conn\u001b[1;34m(self, conn)\u001b[0m\n\u001b[0;32m    837\u001b[0m         \u001b[1;31m# Force connect early to allow us to validate the connection.\u001b[0m\u001b[1;33m\u001b[0m\u001b[1;33m\u001b[0m\u001b[1;33m\u001b[0m\u001b[0m\n\u001b[0;32m    838\u001b[0m         \u001b[1;32mif\u001b[0m \u001b[1;32mnot\u001b[0m \u001b[0mgetattr\u001b[0m\u001b[1;33m(\u001b[0m\u001b[0mconn\u001b[0m\u001b[1;33m,\u001b[0m \u001b[1;34m'sock'\u001b[0m\u001b[1;33m,\u001b[0m \u001b[1;32mNone\u001b[0m\u001b[1;33m)\u001b[0m\u001b[1;33m:\u001b[0m  \u001b[1;31m# AppEngine might not have  `.sock`\u001b[0m\u001b[1;33m\u001b[0m\u001b[1;33m\u001b[0m\u001b[0m\n\u001b[1;32m--> 839\u001b[1;33m             \u001b[0mconn\u001b[0m\u001b[1;33m.\u001b[0m\u001b[0mconnect\u001b[0m\u001b[1;33m(\u001b[0m\u001b[1;33m)\u001b[0m\u001b[1;33m\u001b[0m\u001b[1;33m\u001b[0m\u001b[0m\n\u001b[0m\u001b[0;32m    840\u001b[0m \u001b[1;33m\u001b[0m\u001b[0m\n\u001b[0;32m    841\u001b[0m         \u001b[1;32mif\u001b[0m \u001b[1;32mnot\u001b[0m \u001b[0mconn\u001b[0m\u001b[1;33m.\u001b[0m\u001b[0mis_verified\u001b[0m\u001b[1;33m:\u001b[0m\u001b[1;33m\u001b[0m\u001b[1;33m\u001b[0m\u001b[0m\n",
      "\u001b[1;32m~\\Anaconda3\\lib\\site-packages\\urllib3\\connection.py\u001b[0m in \u001b[0;36mconnect\u001b[1;34m(self)\u001b[0m\n\u001b[0;32m    342\u001b[0m             \u001b[0mca_cert_dir\u001b[0m\u001b[1;33m=\u001b[0m\u001b[0mself\u001b[0m\u001b[1;33m.\u001b[0m\u001b[0mca_cert_dir\u001b[0m\u001b[1;33m,\u001b[0m\u001b[1;33m\u001b[0m\u001b[1;33m\u001b[0m\u001b[0m\n\u001b[0;32m    343\u001b[0m             \u001b[0mserver_hostname\u001b[0m\u001b[1;33m=\u001b[0m\u001b[0mserver_hostname\u001b[0m\u001b[1;33m,\u001b[0m\u001b[1;33m\u001b[0m\u001b[1;33m\u001b[0m\u001b[0m\n\u001b[1;32m--> 344\u001b[1;33m             ssl_context=context)\n\u001b[0m\u001b[0;32m    345\u001b[0m \u001b[1;33m\u001b[0m\u001b[0m\n\u001b[0;32m    346\u001b[0m         \u001b[1;32mif\u001b[0m \u001b[0mself\u001b[0m\u001b[1;33m.\u001b[0m\u001b[0massert_fingerprint\u001b[0m\u001b[1;33m:\u001b[0m\u001b[1;33m\u001b[0m\u001b[1;33m\u001b[0m\u001b[0m\n",
      "\u001b[1;32m~\\Anaconda3\\lib\\site-packages\\urllib3\\util\\ssl_.py\u001b[0m in \u001b[0;36mssl_wrap_socket\u001b[1;34m(sock, keyfile, certfile, cert_reqs, ca_certs, server_hostname, ssl_version, ciphers, ssl_context, ca_cert_dir)\u001b[0m\n\u001b[0;32m    342\u001b[0m             or IS_SECURETRANSPORT):\n\u001b[0;32m    343\u001b[0m         \u001b[1;32mif\u001b[0m \u001b[0mHAS_SNI\u001b[0m \u001b[1;32mand\u001b[0m \u001b[0mserver_hostname\u001b[0m \u001b[1;32mis\u001b[0m \u001b[1;32mnot\u001b[0m \u001b[1;32mNone\u001b[0m\u001b[1;33m:\u001b[0m\u001b[1;33m\u001b[0m\u001b[1;33m\u001b[0m\u001b[0m\n\u001b[1;32m--> 344\u001b[1;33m             \u001b[1;32mreturn\u001b[0m \u001b[0mcontext\u001b[0m\u001b[1;33m.\u001b[0m\u001b[0mwrap_socket\u001b[0m\u001b[1;33m(\u001b[0m\u001b[0msock\u001b[0m\u001b[1;33m,\u001b[0m \u001b[0mserver_hostname\u001b[0m\u001b[1;33m=\u001b[0m\u001b[0mserver_hostname\u001b[0m\u001b[1;33m)\u001b[0m\u001b[1;33m\u001b[0m\u001b[1;33m\u001b[0m\u001b[0m\n\u001b[0m\u001b[0;32m    345\u001b[0m \u001b[1;33m\u001b[0m\u001b[0m\n\u001b[0;32m    346\u001b[0m         warnings.warn(\n",
      "\u001b[1;32m~\\Anaconda3\\lib\\site-packages\\urllib3\\contrib\\pyopenssl.py\u001b[0m in \u001b[0;36mwrap_socket\u001b[1;34m(self, sock, server_side, do_handshake_on_connect, suppress_ragged_eofs, server_hostname)\u001b[0m\n\u001b[0;32m    453\u001b[0m                 \u001b[0mcnx\u001b[0m\u001b[1;33m.\u001b[0m\u001b[0mdo_handshake\u001b[0m\u001b[1;33m(\u001b[0m\u001b[1;33m)\u001b[0m\u001b[1;33m\u001b[0m\u001b[1;33m\u001b[0m\u001b[0m\n\u001b[0;32m    454\u001b[0m             \u001b[1;32mexcept\u001b[0m \u001b[0mOpenSSL\u001b[0m\u001b[1;33m.\u001b[0m\u001b[0mSSL\u001b[0m\u001b[1;33m.\u001b[0m\u001b[0mWantReadError\u001b[0m\u001b[1;33m:\u001b[0m\u001b[1;33m\u001b[0m\u001b[1;33m\u001b[0m\u001b[0m\n\u001b[1;32m--> 455\u001b[1;33m                 \u001b[1;32mif\u001b[0m \u001b[1;32mnot\u001b[0m \u001b[0mutil\u001b[0m\u001b[1;33m.\u001b[0m\u001b[0mwait_for_read\u001b[0m\u001b[1;33m(\u001b[0m\u001b[0msock\u001b[0m\u001b[1;33m,\u001b[0m \u001b[0msock\u001b[0m\u001b[1;33m.\u001b[0m\u001b[0mgettimeout\u001b[0m\u001b[1;33m(\u001b[0m\u001b[1;33m)\u001b[0m\u001b[1;33m)\u001b[0m\u001b[1;33m:\u001b[0m\u001b[1;33m\u001b[0m\u001b[1;33m\u001b[0m\u001b[0m\n\u001b[0m\u001b[0;32m    456\u001b[0m                     \u001b[1;32mraise\u001b[0m \u001b[0mtimeout\u001b[0m\u001b[1;33m(\u001b[0m\u001b[1;34m'select timed out'\u001b[0m\u001b[1;33m)\u001b[0m\u001b[1;33m\u001b[0m\u001b[1;33m\u001b[0m\u001b[0m\n\u001b[0;32m    457\u001b[0m                 \u001b[1;32mcontinue\u001b[0m\u001b[1;33m\u001b[0m\u001b[1;33m\u001b[0m\u001b[0m\n",
      "\u001b[1;32m~\\Anaconda3\\lib\\site-packages\\urllib3\\util\\wait.py\u001b[0m in \u001b[0;36mwait_for_read\u001b[1;34m(sock, timeout)\u001b[0m\n\u001b[0;32m    141\u001b[0m     \u001b[0mReturns\u001b[0m \u001b[1;32mTrue\u001b[0m \u001b[1;32mif\u001b[0m \u001b[0mthe\u001b[0m \u001b[0msocket\u001b[0m \u001b[1;32mis\u001b[0m \u001b[0mreadable\u001b[0m\u001b[1;33m,\u001b[0m \u001b[1;32mor\u001b[0m \u001b[1;32mFalse\u001b[0m \u001b[1;32mif\u001b[0m \u001b[0mthe\u001b[0m \u001b[0mtimeout\u001b[0m \u001b[0mexpired\u001b[0m\u001b[1;33m.\u001b[0m\u001b[1;33m\u001b[0m\u001b[1;33m\u001b[0m\u001b[0m\n\u001b[0;32m    142\u001b[0m     \"\"\"\n\u001b[1;32m--> 143\u001b[1;33m     \u001b[1;32mreturn\u001b[0m \u001b[0mwait_for_socket\u001b[0m\u001b[1;33m(\u001b[0m\u001b[0msock\u001b[0m\u001b[1;33m,\u001b[0m \u001b[0mread\u001b[0m\u001b[1;33m=\u001b[0m\u001b[1;32mTrue\u001b[0m\u001b[1;33m,\u001b[0m \u001b[0mtimeout\u001b[0m\u001b[1;33m=\u001b[0m\u001b[0mtimeout\u001b[0m\u001b[1;33m)\u001b[0m\u001b[1;33m\u001b[0m\u001b[1;33m\u001b[0m\u001b[0m\n\u001b[0m\u001b[0;32m    144\u001b[0m \u001b[1;33m\u001b[0m\u001b[0m\n\u001b[0;32m    145\u001b[0m \u001b[1;33m\u001b[0m\u001b[0m\n",
      "\u001b[1;32m~\\Anaconda3\\lib\\site-packages\\urllib3\\util\\wait.py\u001b[0m in \u001b[0;36mselect_wait_for_socket\u001b[1;34m(sock, read, write, timeout)\u001b[0m\n\u001b[0;32m     81\u001b[0m     \u001b[1;31m# thing.)\u001b[0m\u001b[1;33m\u001b[0m\u001b[1;33m\u001b[0m\u001b[1;33m\u001b[0m\u001b[0m\n\u001b[0;32m     82\u001b[0m     \u001b[0mfn\u001b[0m \u001b[1;33m=\u001b[0m \u001b[0mpartial\u001b[0m\u001b[1;33m(\u001b[0m\u001b[0mselect\u001b[0m\u001b[1;33m.\u001b[0m\u001b[0mselect\u001b[0m\u001b[1;33m,\u001b[0m \u001b[0mrcheck\u001b[0m\u001b[1;33m,\u001b[0m \u001b[0mwcheck\u001b[0m\u001b[1;33m,\u001b[0m \u001b[0mwcheck\u001b[0m\u001b[1;33m)\u001b[0m\u001b[1;33m\u001b[0m\u001b[1;33m\u001b[0m\u001b[0m\n\u001b[1;32m---> 83\u001b[1;33m     \u001b[0mrready\u001b[0m\u001b[1;33m,\u001b[0m \u001b[0mwready\u001b[0m\u001b[1;33m,\u001b[0m \u001b[0mxready\u001b[0m \u001b[1;33m=\u001b[0m \u001b[0m_retry_on_intr\u001b[0m\u001b[1;33m(\u001b[0m\u001b[0mfn\u001b[0m\u001b[1;33m,\u001b[0m \u001b[0mtimeout\u001b[0m\u001b[1;33m)\u001b[0m\u001b[1;33m\u001b[0m\u001b[1;33m\u001b[0m\u001b[0m\n\u001b[0m\u001b[0;32m     84\u001b[0m     \u001b[1;32mreturn\u001b[0m \u001b[0mbool\u001b[0m\u001b[1;33m(\u001b[0m\u001b[0mrready\u001b[0m \u001b[1;32mor\u001b[0m \u001b[0mwready\u001b[0m \u001b[1;32mor\u001b[0m \u001b[0mxready\u001b[0m\u001b[1;33m)\u001b[0m\u001b[1;33m\u001b[0m\u001b[1;33m\u001b[0m\u001b[0m\n\u001b[0;32m     85\u001b[0m \u001b[1;33m\u001b[0m\u001b[0m\n",
      "\u001b[1;32m~\\Anaconda3\\lib\\site-packages\\urllib3\\util\\wait.py\u001b[0m in \u001b[0;36m_retry_on_intr\u001b[1;34m(fn, timeout)\u001b[0m\n\u001b[0;32m     40\u001b[0m     \u001b[1;31m# Modern Python, that retries syscalls by default\u001b[0m\u001b[1;33m\u001b[0m\u001b[1;33m\u001b[0m\u001b[1;33m\u001b[0m\u001b[0m\n\u001b[0;32m     41\u001b[0m     \u001b[1;32mdef\u001b[0m \u001b[0m_retry_on_intr\u001b[0m\u001b[1;33m(\u001b[0m\u001b[0mfn\u001b[0m\u001b[1;33m,\u001b[0m \u001b[0mtimeout\u001b[0m\u001b[1;33m)\u001b[0m\u001b[1;33m:\u001b[0m\u001b[1;33m\u001b[0m\u001b[1;33m\u001b[0m\u001b[0m\n\u001b[1;32m---> 42\u001b[1;33m         \u001b[1;32mreturn\u001b[0m \u001b[0mfn\u001b[0m\u001b[1;33m(\u001b[0m\u001b[0mtimeout\u001b[0m\u001b[1;33m)\u001b[0m\u001b[1;33m\u001b[0m\u001b[1;33m\u001b[0m\u001b[0m\n\u001b[0m\u001b[0;32m     43\u001b[0m \u001b[1;32melse\u001b[0m\u001b[1;33m:\u001b[0m\u001b[1;33m\u001b[0m\u001b[1;33m\u001b[0m\u001b[0m\n\u001b[0;32m     44\u001b[0m     \u001b[1;31m# Old and broken Pythons.\u001b[0m\u001b[1;33m\u001b[0m\u001b[1;33m\u001b[0m\u001b[1;33m\u001b[0m\u001b[0m\n",
      "\u001b[1;31mKeyboardInterrupt\u001b[0m: "
     ]
    }
   ],
   "source": [
    "for article in cnn_paper.articles:\n",
    "    article.download()\n",
    "    article.parse()\n",
    "    print(article.publish_date)"
   ]
  },
  {
   "cell_type": "code",
   "execution_count": 101,
   "metadata": {},
   "outputs": [
    {
     "data": {
      "text/plain": [
       "['weekyou',\n",
       " 'trial',\n",
       " 'useget',\n",
       " 'pay',\n",
       " 'startedpurchase',\n",
       " 'read',\n",
       " 'subscribe',\n",
       " 'month',\n",
       " 'ends',\n",
       " 'team',\n",
       " 'subscription',\n",
       " 'enterprise']"
      ]
     },
     "execution_count": 101,
     "metadata": {},
     "output_type": "execute_result"
    }
   ],
   "source": [
    "article = cnn_paper.articles[0]\n",
    "article.download()\n",
    "article.parse()\n",
    "article.nlp()\n",
    "article.keywords"
   ]
  },
  {
   "cell_type": "code",
   "execution_count": 2,
   "metadata": {
    "collapsed": true
   },
   "outputs": [
    {
     "data": {
      "text/plain": [
       "['http://www.huffingtonpost.com',\n",
       " 'http://cnn.com',\n",
       " 'http://www.time.com',\n",
       " 'http://www.ted.com',\n",
       " 'http://pandodaily.com',\n",
       " 'http://www.cnbc.com',\n",
       " 'http://www.mlb.com',\n",
       " 'http://www.pcmag.com',\n",
       " 'http://www.foxnews.com',\n",
       " 'http://theatlantic.com',\n",
       " 'http://www.bbc.co.uk',\n",
       " 'http://www.vice.com',\n",
       " 'http://www.elle.com',\n",
       " 'http://www.vh1.com',\n",
       " 'http://espnf1.com',\n",
       " 'http://espn.com',\n",
       " 'http://www.npr.org',\n",
       " 'http://www.sfgate.com',\n",
       " 'http://www.glamour.com',\n",
       " 'http://www.whosdatedwho.com',\n",
       " 'http://kotaku.com',\n",
       " 'http://thebostonchannel.com',\n",
       " 'http://www.suntimes.com',\n",
       " 'http://www.businessinsider.com',\n",
       " 'http://www.rivals.com',\n",
       " 'http://thebusinessjournal.com',\n",
       " 'http://www.newrepublic.com',\n",
       " 'http://allthingsd.com',\n",
       " 'http://www.topgear.com',\n",
       " 'http://thecitizen.com',\n",
       " 'http://www.ign.com',\n",
       " 'http://www.sci-news.com',\n",
       " 'http://www.morningstar.com',\n",
       " 'http://www.variety.com',\n",
       " 'http://thebottomline.as.ucsb.edu',\n",
       " 'http://www.gamefaqs.com',\n",
       " 'http://blog.searchenginewatch.com',\n",
       " 'http://thedailyfairfield.com',\n",
       " 'http://www.solarnovus.com',\n",
       " 'http://medicalxpress.com',\n",
       " 'http://www.news.com.au',\n",
       " 'http://www.health.com',\n",
       " 'http://www.computerandvideogames.com',\n",
       " 'http://wsj.com',\n",
       " 'http://www.allure.com',\n",
       " 'http://www.theinsider.com',\n",
       " 'http://cnet.com',\n",
       " 'http://venturebeat.com',\n",
       " 'http://www.topspeed.com',\n",
       " 'http://thedailyworld.com',\n",
       " 'http://games.com',\n",
       " 'http://www.religionnews.com',\n",
       " 'http://blogs.berkeley.edu',\n",
       " 'http://www.sbnation.com',\n",
       " 'http://www.polygon.com',\n",
       " 'http://nytimes.com',\n",
       " 'http://www.thefrisky.com',\n",
       " 'http://telegram.com',\n",
       " 'http://yahoo.com',\n",
       " 'http://www.nbcnews.com',\n",
       " 'http://thedailypage.com',\n",
       " 'http://www.popsci.com',\n",
       " 'http://www.pbs.org',\n",
       " 'http://www.nasa.gov',\n",
       " 'http://www.guardiannews.com',\n",
       " 'http://www.weather.com',\n",
       " 'http://www.gq.com',\n",
       " 'http://www.etonline.com',\n",
       " 'http://telegraph.co.uk',\n",
       " 'http://www.fastcompany.com',\n",
       " 'http://www.infoworld.com',\n",
       " 'http://www.wired.com',\n",
       " 'http://www.pcgamer.com',\n",
       " 'http://sportingnews.com',\n",
       " 'http://theatlanticwire.com',\n",
       " 'http://thecarconnection.com',\n",
       " 'http://www.sun-sentinel.com',\n",
       " 'http://autoblog.com',\n",
       " 'http://www.environmentalleader.com',\n",
       " 'http://thecrimson.com',\n",
       " 'http://thecypresstimes.com',\n",
       " 'http://www.dailyfinance.com',\n",
       " 'http://www.politico.com',\n",
       " 'http://newsroom.fb.com',\n",
       " 'http://news.ycombinator.com',\n",
       " 'http://lifehacker.com',\n",
       " 'http://www.bet.com',\n",
       " 'http://independent.co.uk',\n",
       " 'http://www.mlssoccer.com',\n",
       " 'http://www.bodybuilding.com',\n",
       " 'http://www.cosmopolitan.com',\n",
       " 'http://www.apple.com',\n",
       " 'http://www.autonews.com',\n",
       " 'http://www.eonline.com',\n",
       " 'http://www.vanityfair.com',\n",
       " 'http://techdigest.tv',\n",
       " 'http://www.maximumpc.com',\n",
       " 'http://www.techradar.com',\n",
       " 'http://thedailyjournal.com',\n",
       " 'http://www.mlive.com',\n",
       " 'http://techworld.com.au',\n",
       " 'http://www.techmeme.com',\n",
       " 'http://thedailynewsegypt.com',\n",
       " 'http://thedailygrind.com.au',\n",
       " 'http://techcrunch.com',\n",
       " 'http://tehrantimes.com',\n",
       " 'http://www.hollywoodreporter.com',\n",
       " 'http://thedailysound.com',\n",
       " 'http://www.stltoday.com',\n",
       " 'http://deadspin.com',\n",
       " 'http://www.digitaltrends.com',\n",
       " 'http://seattletimes.com',\n",
       " 'http://seattlepi.com',\n",
       " 'http://www.cleveland.com',\n",
       " 'http://heritage.org',\n",
       " 'http://www.today.com',\n",
       " 'http://www.politifact.com',\n",
       " 'http://zdnet.com',\n",
       " 'http://www.nationalenquirer.com',\n",
       " 'http://egotastic.com',\n",
       " 'http://blogs.creativeloafing.com',\n",
       " 'http://townhall.com',\n",
       " 'http://www.eweek.com',\n",
       " 'http://www.vogue.co.uk',\n",
       " 'http://www.teenvogue.com',\n",
       " 'http://www.nypost.com',\n",
       " 'http://www.reuters.com',\n",
       " 'http://www.scientificamerican.com',\n",
       " 'http://www.miamiherald.com',\n",
       " 'http://www.nydailynews.com',\n",
       " 'http://www.newscientist.com',\n",
       " 'http://bigstory.ap.org',\n",
       " 'http://www.ebony.com',\n",
       " 'http://thedailystar.com',\n",
       " 'http://www.technologyreview.com',\n",
       " 'http://www.theverge.com',\n",
       " 'http://www.nba.com',\n",
       " 'http://www.cbssports.com',\n",
       " 'http://betabeat.com',\n",
       " 'http://www.tmz.com',\n",
       " 'http://tcnewsnet.com',\n",
       " 'http://www.latimes.com',\n",
       " 'http://www.c-span.org',\n",
       " 'http://www.style.com',\n",
       " 'http://www.peoplestylewatch.com',\n",
       " 'http://theboot.com',\n",
       " 'http://www.foxbusiness.com',\n",
       " 'http://www.pcworld.com',\n",
       " 'http://washingtontimes.com',\n",
       " 'http://thedailyreview.com',\n",
       " 'http://www.nfl.com',\n",
       " 'http://www.space.com',\n",
       " 'http://washingtontechnology.com',\n",
       " 'http://www.buzzfeed.com',\n",
       " 'http://inquirer.net',\n",
       " 'http://www.maxim.com',\n",
       " 'http://abcnews.com',\n",
       " 'http://www.extremetech.com',\n",
       " 'http://thedailytimes.com',\n",
       " 'http://mashable.com',\n",
       " 'http://washingtonexaminer.com',\n",
       " 'http://www.bhg.com',\n",
       " 'http://tech.mit.edu',\n",
       " 'http://hotair.com',\n",
       " 'http://www.1up.com',\n",
       " 'http://www.cbc.ca',\n",
       " 'http://gawker.com',\n",
       " 'http://celebuzz.com',\n",
       " 'http://sciencemag.org',\n",
       " 'http://www.rollingstone.com',\n",
       " 'http://slashdot.org',\n",
       " 'http://www.slate.com',\n",
       " 'http://bleacherreport.com',\n",
       " 'http://www.nascar.com',\n",
       " 'http://www.forbes.com',\n",
       " 'http://washingtonpost.com',\n",
       " 'http://nymag.com',\n",
       " 'http://www.microsoft.com',\n",
       " 'http://hbr.org',\n",
       " 'http://www.ft.com',\n",
       " 'http://www.dailymail.co.uk',\n",
       " 'http://www.theautochannel.com',\n",
       " 'http://g4tv.com',\n",
       " 'http://www.aljazeera.com',\n",
       " 'http://politicker.com',\n",
       " 'http://nbcsports.nbc.com',\n",
       " 'http://www.gamespot.com',\n",
       " 'http://news.sky.com',\n",
       " 'http://www.joystiq.com',\n",
       " 'http://www.escapistmagazine.com',\n",
       " 'http://www.thestreet.com',\n",
       " 'http://www.ew.com',\n",
       " 'http://www.nj.com',\n",
       " 'http://msn.com',\n",
       " 'http://thedailyreporter.com',\n",
       " 'http://www.economist.com',\n",
       " 'http://phys.org',\n",
       " 'http://www.glam.com',\n",
       " 'http://perezhilton.com',\n",
       " 'http://www.usmagazine.com',\n",
       " 'http://aol.com',\n",
       " 'http://www.cbsnews.com',\n",
       " 'http://www.tennis.com',\n",
       " 'http://washingtonian.com',\n",
       " 'http://www.sciencedaily.com',\n",
       " 'http://foxsports.com',\n",
       " 'http://www.popularmechanics.com',\n",
       " 'http://www.macworld.com',\n",
       " 'http://thinkprogress.org',\n",
       " 'http://www.mtv.com',\n",
       " 'http://discovery.com',\n",
       " 'http://www.people.com',\n",
       " 'http://thedailybeast.com',\n",
       " 'http://www.hollywood.com',\n",
       " 'http://medium.com',\n",
       " 'http://www.engadget.com',\n",
       " 'http://www.usnews.com',\n",
       " 'http://www.billboard.com',\n",
       " 'http://nationalgeographic.com',\n",
       " 'http://www.purseblog.com',\n",
       " 'http://www.giantbomb.com',\n",
       " 'http://www.automobilemag.com',\n",
       " 'http://thechronicle.com.au',\n",
       " 'http://tbnweekly.com',\n",
       " 'http://techreport.com',\n",
       " 'http://thedailyfix.com',\n",
       " 'http://www.animenewsnetwork.com',\n",
       " 'http://www.realclearpolitics.com',\n",
       " 'http://usatoday.com',\n",
       " 'http://www.techspot.com',\n",
       " 'http://discovermagazine.com',\n",
       " 'http://arstechnica.com',\n",
       " 'http://foreignpolicy.com',\n",
       " 'http://www.redstate.com',\n",
       " 'http://www.marketwatch.com',\n",
       " 'http://www.eurogamer.net',\n",
       " 'http://cbn.com',\n",
       " 'http://www.parade.com',\n",
       " 'http://www.bbcamerica.com',\n",
       " 'http://washingtonindependent.com',\n",
       " 'http://drudgereport.com',\n",
       " 'http://beta.na.leagueoflegends.com']"
      ]
     },
     "execution_count": 2,
     "metadata": {},
     "output_type": "execute_result"
    }
   ],
   "source": [
    "newspaper.popular_urls()"
   ]
  },
  {
   "cell_type": "code",
   "execution_count": null,
   "metadata": {},
   "outputs": [],
   "source": []
  },
  {
   "cell_type": "code",
   "execution_count": null,
   "metadata": {},
   "outputs": [],
   "source": []
  },
  {
   "cell_type": "code",
   "execution_count": null,
   "metadata": {},
   "outputs": [],
   "source": []
  },
  {
   "cell_type": "code",
   "execution_count": null,
   "metadata": {},
   "outputs": [],
   "source": []
  },
  {
   "cell_type": "code",
   "execution_count": null,
   "metadata": {},
   "outputs": [],
   "source": []
  },
  {
   "cell_type": "code",
   "execution_count": 64,
   "metadata": {},
   "outputs": [],
   "source": [
    "import requests"
   ]
  },
  {
   "cell_type": "code",
   "execution_count": 80,
   "metadata": {},
   "outputs": [],
   "source": [
    "url = 'https://newsapi.org/v2/everything?from=2019-08-01&category=business&language=en&apiKey=bfb917bca91c435d9c7efd247d95227b&page=1'\n",
    "resp = requests.get(url)"
   ]
  },
  {
   "cell_type": "code",
   "execution_count": 81,
   "metadata": {},
   "outputs": [
    {
     "data": {
      "text/plain": [
       "{'status': 'error',\n",
       " 'code': 'parameterInvalid',\n",
       " 'message': 'The category param is not currently supported on the /everything endpoint.'}"
      ]
     },
     "execution_count": 81,
     "metadata": {},
     "output_type": "execute_result"
    }
   ],
   "source": [
    "resp.json()"
   ]
  },
  {
   "cell_type": "code",
   "execution_count": 113,
   "metadata": {},
   "outputs": [],
   "source": [
    "url = 'https://newsapi.org/v2/sources?apiKey=bfb917bca91c435d9c7efd247d95227b'\n",
    "resp = requests.get(url)"
   ]
  },
  {
   "cell_type": "code",
   "execution_count": 116,
   "metadata": {
    "collapsed": true
   },
   "outputs": [
    {
     "data": {
      "text/plain": [
       "['ABC News',\n",
       " 'ABC News (AU)',\n",
       " 'Aftenposten',\n",
       " 'Al Jazeera English',\n",
       " 'ANSA.it',\n",
       " 'Argaam',\n",
       " 'Ars Technica',\n",
       " 'Ary News',\n",
       " 'Associated Press',\n",
       " 'Australian Financial Review',\n",
       " 'Axios',\n",
       " 'BBC News',\n",
       " 'BBC Sport',\n",
       " 'Bild',\n",
       " 'Blasting News (BR)',\n",
       " 'Bleacher Report',\n",
       " 'Bloomberg',\n",
       " 'Breitbart News',\n",
       " 'Business Insider',\n",
       " 'Business Insider (UK)',\n",
       " 'Buzzfeed',\n",
       " 'CBC News',\n",
       " 'CBS News',\n",
       " 'CNBC',\n",
       " 'CNN',\n",
       " 'CNN Spanish',\n",
       " 'Crypto Coins News',\n",
       " 'Daily Mail',\n",
       " 'Der Tagesspiegel',\n",
       " 'Die Zeit',\n",
       " 'El Mundo',\n",
       " 'Engadget',\n",
       " 'Entertainment Weekly',\n",
       " 'ESPN',\n",
       " 'ESPN Cric Info',\n",
       " 'Financial Post',\n",
       " 'Focus',\n",
       " 'Football Italia',\n",
       " 'Fortune',\n",
       " 'FourFourTwo',\n",
       " 'Fox News',\n",
       " 'Fox Sports',\n",
       " 'Globo',\n",
       " 'Google News',\n",
       " 'Google News (Argentina)',\n",
       " 'Google News (Australia)',\n",
       " 'Google News (Brasil)',\n",
       " 'Google News (Canada)',\n",
       " 'Google News (France)',\n",
       " 'Google News (India)',\n",
       " 'Google News (Israel)',\n",
       " 'Google News (Italy)',\n",
       " 'Google News (Russia)',\n",
       " 'Google News (Saudi Arabia)',\n",
       " 'Google News (UK)',\n",
       " 'Göteborgs-Posten',\n",
       " 'Gruenderszene',\n",
       " 'Hacker News',\n",
       " 'Handelsblatt',\n",
       " 'IGN',\n",
       " 'Il Sole 24 Ore',\n",
       " 'Independent',\n",
       " 'Infobae',\n",
       " 'InfoMoney',\n",
       " 'La Gaceta',\n",
       " 'La Nacion',\n",
       " 'La Repubblica',\n",
       " 'Le Monde',\n",
       " 'Lenta',\n",
       " \"L'equipe\",\n",
       " 'Les Echos',\n",
       " 'Libération',\n",
       " 'Marca',\n",
       " 'Mashable',\n",
       " 'Medical News Today',\n",
       " 'Metro',\n",
       " 'Mirror',\n",
       " 'MSNBC',\n",
       " 'MTV News',\n",
       " 'MTV News (UK)',\n",
       " 'National Geographic',\n",
       " 'National Review',\n",
       " 'NBC News',\n",
       " 'News24',\n",
       " 'New Scientist',\n",
       " 'News.com.au',\n",
       " 'Newsweek',\n",
       " 'New York Magazine',\n",
       " 'Next Big Future',\n",
       " 'NFL News',\n",
       " 'NHL News',\n",
       " 'NRK',\n",
       " 'Politico',\n",
       " 'Polygon',\n",
       " 'RBC',\n",
       " 'Recode',\n",
       " 'Reddit /r/all',\n",
       " 'Reuters',\n",
       " 'RT',\n",
       " 'RTE',\n",
       " 'RTL Nieuws',\n",
       " 'SABQ',\n",
       " 'Spiegel Online',\n",
       " 'Svenska Dagbladet',\n",
       " 'T3n',\n",
       " 'TalkSport',\n",
       " 'TechCrunch',\n",
       " 'TechCrunch (CN)',\n",
       " 'TechRadar',\n",
       " 'The American Conservative',\n",
       " 'The Economist',\n",
       " 'The Globe And Mail',\n",
       " 'The Hill',\n",
       " 'The Hindu',\n",
       " 'The Huffington Post',\n",
       " 'The Irish Times',\n",
       " 'The Jerusalem Post',\n",
       " 'The Lad Bible',\n",
       " 'The New York Times',\n",
       " 'The Next Web',\n",
       " 'The Sport Bible',\n",
       " 'The Telegraph',\n",
       " 'The Times of India',\n",
       " 'The Verge',\n",
       " 'The Wall Street Journal',\n",
       " 'The Washington Post',\n",
       " 'The Washington Times',\n",
       " 'Time',\n",
       " 'USA Today',\n",
       " 'Vice News',\n",
       " 'Wired',\n",
       " 'Wired.de',\n",
       " 'Wirtschafts Woche',\n",
       " 'Xinhua Net',\n",
       " 'Ynet']"
      ]
     },
     "execution_count": 116,
     "metadata": {},
     "output_type": "execute_result"
    }
   ],
   "source": [
    "[src['name'] for src in resp.json()['sources']]"
   ]
  },
  {
   "cell_type": "code",
   "execution_count": 45,
   "metadata": {},
   "outputs": [],
   "source": [
    "import feedparser"
   ]
  },
  {
   "cell_type": "code",
   "execution_count": 46,
   "metadata": {},
   "outputs": [],
   "source": [
    "feeds = feedparser.parse('https://feeds.a.dj.com/rss/RSSMarketsMain.xml')"
   ]
  },
  {
   "cell_type": "code",
   "execution_count": 47,
   "metadata": {},
   "outputs": [
    {
     "data": {
      "text/plain": [
       "['https://www.wsj.com/articles/stocks-yuan-drop-sharply-as-trade-spat-intensifies-11564981961',\n",
       " 'https://www.wsj.com/articles/chinas-yuan-falls-past-key-level-of-7-to-the-dollar-11564977948',\n",
       " 'https://www.wsj.com/articles/hsbc-to-slash-thousands-of-jobs-after-ceo-ouster-11564990152',\n",
       " 'https://www.wsj.com/articles/beijing-risks-economic-self-harm-by-weaponizing-the-yuan-11564983069',\n",
       " 'https://www.wsj.com/articles/hsbc-ceo-john-flint-is-out-after-18-months-in-role-11564963125',\n",
       " 'https://www.wsj.com/articles/3-ways-grandparents-can-help-pay-for-college-11564971241',\n",
       " 'https://www.wsj.com/articles/the-downside-of-knowing-a-lot-about-your-mutual-fund-11564971181',\n",
       " 'https://www.wsj.com/articles/what-investors-worry-yes-but-u-s-stock-funds-are-up-19-11564971121',\n",
       " 'https://www.wsj.com/articles/as-emerging-markets-recover-heres-what-investors-need-to-know-11564971000',\n",
       " 'https://www.wsj.com/articles/money-is-pouring-in-to-low-volatility-funds-11564970976',\n",
       " 'https://www.wsj.com/articles/why-arent-investors-worried-ask-howard-marks-11564970406',\n",
       " 'https://www.wsj.com/articles/stocks-and-bonds-are-up-at-the-same-time-no-worries-11564970976',\n",
       " 'https://www.wsj.com/articles/some-closed-end-funds-seem-to-have-permanent-premiums-11564970976',\n",
       " 'https://www.wsj.com/articles/reits-show-resilience-11564970743',\n",
       " 'https://www.wsj.com/articles/etfs-dont-rule-gold-after-all-says-one-analysis-11564970690',\n",
       " 'https://www.wsj.com/articles/about-to-retire-check-your-stock-exposurequickly-11564970680',\n",
       " 'https://www.wsj.com/articles/what-does-premium-priced-bonds-mean-11564970580',\n",
       " 'https://www.wsj.com/articles/quran-guided-funds-attract-non-muslims-11564970460',\n",
       " 'https://www.wsj.com/articles/vegans-may-soon-have-an-etf-11564970407',\n",
       " 'https://www.wsj.com/articles/money-rains-on-a-cloud-etf-11564970403']"
      ]
     },
     "execution_count": 47,
     "metadata": {},
     "output_type": "execute_result"
    }
   ],
   "source": [
    "[entry['link'] for entry in feeds['entries']]"
   ]
  },
  {
   "cell_type": "code",
   "execution_count": 48,
   "metadata": {},
   "outputs": [
    {
     "data": {
      "text/plain": [
       "'Stocks Drop as Trade Spat Intensifies The yuan’s fall is due to protectionism and higher tariffs on Chinese goods, China’s central bank says'"
      ]
     },
     "execution_count": 48,
     "metadata": {},
     "output_type": "execute_result"
    }
   ],
   "source": [
    "article = newspaper.Article('https://www.wsj.com/articles/stocks-yuan-drop-sharply-as-trade-spat-intensifies-11564981961')\n",
    "article.download()\n",
    "article.parse()\n",
    "article.text"
   ]
  },
  {
   "cell_type": "code",
   "execution_count": null,
   "metadata": {},
   "outputs": [],
   "source": []
  },
  {
   "cell_type": "code",
   "execution_count": null,
   "metadata": {},
   "outputs": [],
   "source": []
  },
  {
   "cell_type": "code",
   "execution_count": 1,
   "metadata": {},
   "outputs": [],
   "source": [
    "from newsplease import NewsPlease"
   ]
  },
  {
   "cell_type": "code",
   "execution_count": 2,
   "metadata": {},
   "outputs": [],
   "source": [
    "article = NewsPlease.from_url('https://www.nytimes.com/2017/02/23/us/politics/cpac-stephen-bannon-reince-priebus.html?hp')"
   ]
  },
  {
   "cell_type": "code",
   "execution_count": 5,
   "metadata": {},
   "outputs": [
    {
     "data": {
      "text/plain": [
       "'Ms. Conway said the stories of disarray in the White House, including recent accounts that she has been sidelined lately, were nothing more than tiresome palace intrigue. And without naming names, she said the attacks directed at her were really desperate attacks against the president by political enemies still sore about the election.\\n“To try to remove me from the equation would remove one of his voices and one of his trusted aides. And that would be hurtful to him,” she said. “They didn’t see this coming. They weren’t prepared for this result — even though they all ran around and said: ‘We’re a divided country! We’re a divided country!’”\\nIt was not as if the support for Mr. Trump, who will speak to the conference Friday morning, is not enthusiastic.\\n“I always said he’s not a stupid man. And if he has the right people around him he’s going to do the right thing,” said Daniel Cirucci of Cherry Hill, N.J., who was standing in line on Thursday evening to listen to Vice President Mike Pence, a conservative he said he deeply admired. “I think he realizes the enormity of the job,” Mr. Cirucci added. “Now does that mean Trump is going to stop being Trump? No.”\\nThese should be good times for conservatives — and much of the time they are. They control not just the White House but both houses of Congress and appear on the verge of regaining a majority on the Supreme Court. They have not dominated so many state governments in close to a century.\\nBut part of the subtext of CPAC this year has been how conservative leaders are trying to smooth out the rougher edges of their movement, not all of which involve Mr. Trump.'"
      ]
     },
     "execution_count": 5,
     "metadata": {},
     "output_type": "execute_result"
    }
   ],
   "source": [
    "article.text"
   ]
  },
  {
   "cell_type": "code",
   "execution_count": null,
   "metadata": {},
   "outputs": [],
   "source": []
  }
 ],
 "metadata": {
  "kernelspec": {
   "display_name": "Python 3",
   "language": "python",
   "name": "python3"
  },
  "language_info": {
   "codemirror_mode": {
    "name": "ipython",
    "version": 3
   },
   "file_extension": ".py",
   "mimetype": "text/x-python",
   "name": "python",
   "nbconvert_exporter": "python",
   "pygments_lexer": "ipython3",
   "version": "3.7.3"
  }
 },
 "nbformat": 4,
 "nbformat_minor": 2
}
