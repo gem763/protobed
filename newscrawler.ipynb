{
 "cells": [
  {
   "cell_type": "code",
   "execution_count": 2,
   "metadata": {},
   "outputs": [],
   "source": [
    "import newspaper\n",
    "from newspaper import Article, Config\n",
    "from IPython.core.debugger import set_trace\n",
    "import requests\n",
    "import feedparser\n",
    "import pandas as pd\n",
    "import spacy\n",
    "from data.models import Newsdata\n",
    "\n",
    "from tqdm.autonotebook import tqdm\n",
    "tqdm.pandas()"
   ]
  },
  {
   "cell_type": "code",
   "execution_count": 3,
   "metadata": {},
   "outputs": [],
   "source": [
    "nlp = spacy.load('en_core_web_lg')"
   ]
  },
  {
   "cell_type": "code",
   "execution_count": 4,
   "metadata": {},
   "outputs": [],
   "source": [
    "urls = {\n",
    "    'huffington_post':         'https://huffpost.com', \n",
    "    'cnn':                     'https://cnn.com', \n",
    "    'investing_com':           'https://investing.com', \n",
    "    'politico':                'https://politico.com', \n",
    "    'time':                    'https://time.com', \n",
    "    'cnbc':                    'https://cnbc.com', \n",
    "    'fox':                     'https://foxnews.com', \n",
    "    'fox_business':            'https://foxbusiness.com', \n",
    "    'bbc':                     'https://bbc.com', \n",
    "    'business_insider':        'https://businessinsider.com', \n",
    "    'morningstar':             'https://morningstar.com', \n",
    "    #'wallstreet_journal':      'https://wsj.com', \n",
    "    'newyork_times':           'https://nytimes.com', \n",
    "    'nbc':                     'https://nbcnews.com', \n",
    "    'guardian':                'https://theguardian.com', \n",
    "    'reuters':                 'https://reuters.com', \n",
    "    'washington_times':        'https://washingtontimes.com', \n",
    "    #'forbes':                  'https://forbes.com', \n",
    "    'washington_post':         'https://washingtonpost.com', \n",
    "    #'harvard_business_review': 'https://hbr.org', \n",
    "    #'financial_times':         'https://ft.com', \n",
    "    #'economist':               'https://economist.com', \n",
    "    'cbs':                     'https://cbsnews.com', \n",
    "    'market_watch':            'https://marketwatch.com', \n",
    "}"
   ]
  },
  {
   "cell_type": "code",
   "execution_count": 5,
   "metadata": {},
   "outputs": [],
   "source": [
    "config = Config()\n",
    "config.fetch_images = False\n",
    "config.memoize_articles = False\n",
    "config.language = 'en'"
   ]
  },
  {
   "cell_type": "code",
   "execution_count": 6,
   "metadata": {
    "scrolled": true
   },
   "outputs": [
    {
     "data": {
      "application/vnd.jupyter.widget-view+json": {
       "model_id": "1c7766a36bac4dbb9355b749951fd165",
       "version_major": 2,
       "version_minor": 0
      },
      "text/plain": [
       "HBox(children=(IntProgress(value=0, max=19), HTML(value='')))"
      ]
     },
     "metadata": {},
     "output_type": "display_data"
    },
    {
     "name": "stdout",
     "output_type": "stream",
     "text": [
      "\n"
     ]
    }
   ],
   "source": [
    "src = {publisher: newspaper.build(url, config=config).articles for publisher, url in tqdm(urls.items())}"
   ]
  },
  {
   "cell_type": "code",
   "execution_count": 18,
   "metadata": {},
   "outputs": [],
   "source": [
    "Newsdata.objects.all().delete();"
   ]
  },
  {
   "cell_type": "code",
   "execution_count": null,
   "metadata": {},
   "outputs": [
    {
     "data": {
      "application/vnd.jupyter.widget-view+json": {
       "model_id": "7cc0a62fc4a3458db47aa7081801dae3",
       "version_major": 2,
       "version_minor": 0
      },
      "text/plain": [
       "HBox(children=(IntProgress(value=0, max=19), HTML(value='')))"
      ]
     },
     "metadata": {},
     "output_type": "display_data"
    },
    {
     "data": {
      "application/vnd.jupyter.widget-view+json": {
       "model_id": "d86269f2024547979eb5de4afa676d9c",
       "version_major": 2,
       "version_minor": 0
      },
      "text/plain": [
       "HBox(children=(IntProgress(value=0, max=79), HTML(value='')))"
      ]
     },
     "metadata": {},
     "output_type": "display_data"
    },
    {
     "name": "stdout",
     "output_type": "stream",
     "text": [
      "\n"
     ]
    },
    {
     "data": {
      "application/vnd.jupyter.widget-view+json": {
       "model_id": "59d43748c2824cf7b81349a2aa715227",
       "version_major": 2,
       "version_minor": 0
      },
      "text/plain": [
       "HBox(children=(IntProgress(value=0, max=806), HTML(value='')))"
      ]
     },
     "metadata": {},
     "output_type": "display_data"
    },
    {
     "name": "stderr",
     "output_type": "stream",
     "text": [
      "C:\\Users\\infomax\\Documents\\GitHub\\protobed\\venv\\lib\\site-packages\\django\\db\\models\\fields\\__init__.py:1421: RuntimeWarning: DateTimeField Newsdata.publish_date received a naive datetime (2019-08-18 00:00:00) while time zone support is active.\n",
      "  RuntimeWarning)\n",
      "C:\\Users\\infomax\\Documents\\GitHub\\protobed\\venv\\lib\\site-packages\\django\\db\\models\\fields\\__init__.py:1421: RuntimeWarning: DateTimeField Newsdata.publish_date received a naive datetime (2019-08-17 00:00:00) while time zone support is active.\n",
      "  RuntimeWarning)\n",
      "C:\\Users\\infomax\\Documents\\GitHub\\protobed\\venv\\lib\\site-packages\\django\\db\\models\\fields\\__init__.py:1421: RuntimeWarning: DateTimeField Newsdata.publish_date received a naive datetime (2019-08-16 00:00:00) while time zone support is active.\n",
      "  RuntimeWarning)\n",
      "C:\\Users\\infomax\\Documents\\GitHub\\protobed\\venv\\lib\\site-packages\\django\\db\\models\\fields\\__init__.py:1421: RuntimeWarning: DateTimeField Newsdata.publish_date received a naive datetime (2019-08-13 00:00:00) while time zone support is active.\n",
      "  RuntimeWarning)\n",
      "C:\\Users\\infomax\\Documents\\GitHub\\protobed\\venv\\lib\\site-packages\\django\\db\\models\\fields\\__init__.py:1421: RuntimeWarning: DateTimeField Newsdata.publish_date received a naive datetime (2019-08-08 00:00:00) while time zone support is active.\n",
      "  RuntimeWarning)\n",
      "C:\\Users\\infomax\\Documents\\GitHub\\protobed\\venv\\lib\\site-packages\\django\\db\\models\\fields\\__init__.py:1421: RuntimeWarning: DateTimeField Newsdata.publish_date received a naive datetime (2019-08-12 00:00:00) while time zone support is active.\n",
      "  RuntimeWarning)\n",
      "C:\\Users\\infomax\\Documents\\GitHub\\protobed\\venv\\lib\\site-packages\\django\\db\\models\\fields\\__init__.py:1421: RuntimeWarning: DateTimeField Newsdata.publish_date received a naive datetime (2019-08-11 00:00:00) while time zone support is active.\n",
      "  RuntimeWarning)\n",
      "C:\\Users\\infomax\\Documents\\GitHub\\protobed\\venv\\lib\\site-packages\\django\\db\\models\\fields\\__init__.py:1421: RuntimeWarning: DateTimeField Newsdata.publish_date received a naive datetime (2019-08-09 00:00:00) while time zone support is active.\n",
      "  RuntimeWarning)\n",
      "C:\\Users\\infomax\\Documents\\GitHub\\protobed\\venv\\lib\\site-packages\\django\\db\\models\\fields\\__init__.py:1421: RuntimeWarning: DateTimeField Newsdata.publish_date received a naive datetime (2019-08-01 00:00:00) while time zone support is active.\n",
      "  RuntimeWarning)\n",
      "C:\\Users\\infomax\\Documents\\GitHub\\protobed\\venv\\lib\\site-packages\\django\\db\\models\\fields\\__init__.py:1421: RuntimeWarning: DateTimeField Newsdata.publish_date received a naive datetime (2019-06-19 00:00:00) while time zone support is active.\n",
      "  RuntimeWarning)\n",
      "C:\\Users\\infomax\\Documents\\GitHub\\protobed\\venv\\lib\\site-packages\\django\\db\\models\\fields\\__init__.py:1421: RuntimeWarning: DateTimeField Newsdata.publish_date received a naive datetime (2019-07-18 00:00:00) while time zone support is active.\n",
      "  RuntimeWarning)\n",
      "C:\\Users\\infomax\\Documents\\GitHub\\protobed\\venv\\lib\\site-packages\\django\\db\\models\\fields\\__init__.py:1421: RuntimeWarning: DateTimeField Newsdata.publish_date received a naive datetime (2019-07-16 00:00:00) while time zone support is active.\n",
      "  RuntimeWarning)\n",
      "C:\\Users\\infomax\\Documents\\GitHub\\protobed\\venv\\lib\\site-packages\\django\\db\\models\\fields\\__init__.py:1421: RuntimeWarning: DateTimeField Newsdata.publish_date received a naive datetime (2019-07-26 00:00:00) while time zone support is active.\n",
      "  RuntimeWarning)\n",
      "C:\\Users\\infomax\\Documents\\GitHub\\protobed\\venv\\lib\\site-packages\\django\\db\\models\\fields\\__init__.py:1421: RuntimeWarning: DateTimeField Newsdata.publish_date received a naive datetime (2019-07-27 00:00:00) while time zone support is active.\n",
      "  RuntimeWarning)\n",
      "C:\\Users\\infomax\\Documents\\GitHub\\protobed\\venv\\lib\\site-packages\\django\\db\\models\\fields\\__init__.py:1421: RuntimeWarning: DateTimeField Newsdata.publish_date received a naive datetime (2019-06-12 00:00:00) while time zone support is active.\n",
      "  RuntimeWarning)\n",
      "C:\\Users\\infomax\\Documents\\GitHub\\protobed\\venv\\lib\\site-packages\\django\\db\\models\\fields\\__init__.py:1421: RuntimeWarning: DateTimeField Newsdata.publish_date received a naive datetime (2019-08-05 00:00:00) while time zone support is active.\n",
      "  RuntimeWarning)\n",
      "C:\\Users\\infomax\\Documents\\GitHub\\protobed\\venv\\lib\\site-packages\\django\\db\\models\\fields\\__init__.py:1421: RuntimeWarning: DateTimeField Newsdata.publish_date received a naive datetime (2019-07-31 00:00:00) while time zone support is active.\n",
      "  RuntimeWarning)\n",
      "C:\\Users\\infomax\\Documents\\GitHub\\protobed\\venv\\lib\\site-packages\\django\\db\\models\\fields\\__init__.py:1421: RuntimeWarning: DateTimeField Newsdata.publish_date received a naive datetime (2019-08-14 00:00:00) while time zone support is active.\n",
      "  RuntimeWarning)\n",
      "C:\\Users\\infomax\\Documents\\GitHub\\protobed\\venv\\lib\\site-packages\\django\\db\\models\\fields\\__init__.py:1421: RuntimeWarning: DateTimeField Newsdata.publish_date received a naive datetime (2019-08-10 00:00:00) while time zone support is active.\n",
      "  RuntimeWarning)\n",
      "C:\\Users\\infomax\\Documents\\GitHub\\protobed\\venv\\lib\\site-packages\\django\\db\\models\\fields\\__init__.py:1421: RuntimeWarning: DateTimeField Newsdata.publish_date received a naive datetime (2019-08-03 00:00:00) while time zone support is active.\n",
      "  RuntimeWarning)\n",
      "C:\\Users\\infomax\\Documents\\GitHub\\protobed\\venv\\lib\\site-packages\\django\\db\\models\\fields\\__init__.py:1421: RuntimeWarning: DateTimeField Newsdata.publish_date received a naive datetime (2019-08-02 00:00:00) while time zone support is active.\n",
      "  RuntimeWarning)\n",
      "C:\\Users\\infomax\\Documents\\GitHub\\protobed\\venv\\lib\\site-packages\\django\\db\\models\\fields\\__init__.py:1421: RuntimeWarning: DateTimeField Newsdata.publish_date received a naive datetime (2019-03-19 00:00:00) while time zone support is active.\n",
      "  RuntimeWarning)\n",
      "C:\\Users\\infomax\\Documents\\GitHub\\protobed\\venv\\lib\\site-packages\\django\\db\\models\\fields\\__init__.py:1421: RuntimeWarning: DateTimeField Newsdata.publish_date received a naive datetime (2019-03-22 00:00:00) while time zone support is active.\n",
      "  RuntimeWarning)\n",
      "C:\\Users\\infomax\\Documents\\GitHub\\protobed\\venv\\lib\\site-packages\\django\\db\\models\\fields\\__init__.py:1421: RuntimeWarning: DateTimeField Newsdata.publish_date received a naive datetime (2019-03-28 00:00:00) while time zone support is active.\n",
      "  RuntimeWarning)\n",
      "C:\\Users\\infomax\\Documents\\GitHub\\protobed\\venv\\lib\\site-packages\\django\\db\\models\\fields\\__init__.py:1421: RuntimeWarning: DateTimeField Newsdata.publish_date received a naive datetime (2019-03-20 00:00:00) while time zone support is active.\n",
      "  RuntimeWarning)\n",
      "C:\\Users\\infomax\\Documents\\GitHub\\protobed\\venv\\lib\\site-packages\\django\\db\\models\\fields\\__init__.py:1421: RuntimeWarning: DateTimeField Newsdata.publish_date received a naive datetime (2018-08-15 00:00:00) while time zone support is active.\n",
      "  RuntimeWarning)\n",
      "C:\\Users\\infomax\\Documents\\GitHub\\protobed\\venv\\lib\\site-packages\\django\\db\\models\\fields\\__init__.py:1421: RuntimeWarning: DateTimeField Newsdata.publish_date received a naive datetime (2019-05-04 00:00:00) while time zone support is active.\n",
      "  RuntimeWarning)\n",
      "C:\\Users\\infomax\\Documents\\GitHub\\protobed\\venv\\lib\\site-packages\\django\\db\\models\\fields\\__init__.py:1421: RuntimeWarning: DateTimeField Newsdata.publish_date received a naive datetime (2019-07-13 00:00:00) while time zone support is active.\n",
      "  RuntimeWarning)\n",
      "C:\\Users\\infomax\\Documents\\GitHub\\protobed\\venv\\lib\\site-packages\\django\\db\\models\\fields\\__init__.py:1421: RuntimeWarning: DateTimeField Newsdata.publish_date received a naive datetime (2019-05-28 00:00:00) while time zone support is active.\n",
      "  RuntimeWarning)\n",
      "C:\\Users\\infomax\\Documents\\GitHub\\protobed\\venv\\lib\\site-packages\\django\\db\\models\\fields\\__init__.py:1421: RuntimeWarning: DateTimeField Newsdata.publish_date received a naive datetime (2018-08-17 00:00:00) while time zone support is active.\n",
      "  RuntimeWarning)\n",
      "C:\\Users\\infomax\\Documents\\GitHub\\protobed\\venv\\lib\\site-packages\\django\\db\\models\\fields\\__init__.py:1421: RuntimeWarning: DateTimeField Newsdata.publish_date received a naive datetime (2019-05-06 00:00:00) while time zone support is active.\n",
      "  RuntimeWarning)\n",
      "C:\\Users\\infomax\\Documents\\GitHub\\protobed\\venv\\lib\\site-packages\\django\\db\\models\\fields\\__init__.py:1421: RuntimeWarning: DateTimeField Newsdata.publish_date received a naive datetime (2018-07-09 00:00:00) while time zone support is active.\n",
      "  RuntimeWarning)\n"
     ]
    },
    {
     "name": "stderr",
     "output_type": "stream",
     "text": [
      "C:\\Users\\infomax\\Documents\\GitHub\\protobed\\venv\\lib\\site-packages\\django\\db\\models\\fields\\__init__.py:1421: RuntimeWarning: DateTimeField Newsdata.publish_date received a naive datetime (2018-10-17 00:00:00) while time zone support is active.\n",
      "  RuntimeWarning)\n",
      "C:\\Users\\infomax\\Documents\\GitHub\\protobed\\venv\\lib\\site-packages\\django\\db\\models\\fields\\__init__.py:1421: RuntimeWarning: DateTimeField Newsdata.publish_date received a naive datetime (2018-09-28 00:00:00) while time zone support is active.\n",
      "  RuntimeWarning)\n",
      "C:\\Users\\infomax\\Documents\\GitHub\\protobed\\venv\\lib\\site-packages\\django\\db\\models\\fields\\__init__.py:1421: RuntimeWarning: DateTimeField Newsdata.publish_date received a naive datetime (2018-09-07 00:00:00) while time zone support is active.\n",
      "  RuntimeWarning)\n",
      "C:\\Users\\infomax\\Documents\\GitHub\\protobed\\venv\\lib\\site-packages\\django\\db\\models\\fields\\__init__.py:1421: RuntimeWarning: DateTimeField Newsdata.publish_date received a naive datetime (2017-09-14 00:00:00) while time zone support is active.\n",
      "  RuntimeWarning)\n",
      "C:\\Users\\infomax\\Documents\\GitHub\\protobed\\venv\\lib\\site-packages\\django\\db\\models\\fields\\__init__.py:1421: RuntimeWarning: DateTimeField Newsdata.publish_date received a naive datetime (2019-07-22 00:00:00) while time zone support is active.\n",
      "  RuntimeWarning)\n",
      "C:\\Users\\infomax\\Documents\\GitHub\\protobed\\venv\\lib\\site-packages\\django\\db\\models\\fields\\__init__.py:1421: RuntimeWarning: DateTimeField Newsdata.publish_date received a naive datetime (2019-07-15 00:00:00) while time zone support is active.\n",
      "  RuntimeWarning)\n",
      "C:\\Users\\infomax\\Documents\\GitHub\\protobed\\venv\\lib\\site-packages\\django\\db\\models\\fields\\__init__.py:1421: RuntimeWarning: DateTimeField Newsdata.publish_date received a naive datetime (2019-07-01 00:00:00) while time zone support is active.\n",
      "  RuntimeWarning)\n",
      "C:\\Users\\infomax\\Documents\\GitHub\\protobed\\venv\\lib\\site-packages\\django\\db\\models\\fields\\__init__.py:1421: RuntimeWarning: DateTimeField Newsdata.publish_date received a naive datetime (2019-06-10 00:00:00) while time zone support is active.\n",
      "  RuntimeWarning)\n",
      "C:\\Users\\infomax\\Documents\\GitHub\\protobed\\venv\\lib\\site-packages\\django\\db\\models\\fields\\__init__.py:1421: RuntimeWarning: DateTimeField Newsdata.publish_date received a naive datetime (2019-06-03 00:00:00) while time zone support is active.\n",
      "  RuntimeWarning)\n",
      "C:\\Users\\infomax\\Documents\\GitHub\\protobed\\venv\\lib\\site-packages\\django\\db\\models\\fields\\__init__.py:1421: RuntimeWarning: DateTimeField Newsdata.publish_date received a naive datetime (2019-03-17 00:00:00) while time zone support is active.\n",
      "  RuntimeWarning)\n",
      "C:\\Users\\infomax\\Documents\\GitHub\\protobed\\venv\\lib\\site-packages\\django\\db\\models\\fields\\__init__.py:1421: RuntimeWarning: DateTimeField Newsdata.publish_date received a naive datetime (2019-05-12 00:00:00) while time zone support is active.\n",
      "  RuntimeWarning)\n",
      "C:\\Users\\infomax\\Documents\\GitHub\\protobed\\venv\\lib\\site-packages\\django\\db\\models\\fields\\__init__.py:1421: RuntimeWarning: DateTimeField Newsdata.publish_date received a naive datetime (2019-04-14 00:00:00) while time zone support is active.\n",
      "  RuntimeWarning)\n",
      "C:\\Users\\infomax\\Documents\\GitHub\\protobed\\venv\\lib\\site-packages\\django\\db\\models\\fields\\__init__.py:1421: RuntimeWarning: DateTimeField Newsdata.publish_date received a naive datetime (2019-03-25 00:00:00) while time zone support is active.\n",
      "  RuntimeWarning)\n",
      "C:\\Users\\infomax\\Documents\\GitHub\\protobed\\venv\\lib\\site-packages\\django\\db\\models\\fields\\__init__.py:1421: RuntimeWarning: DateTimeField Newsdata.publish_date received a naive datetime (2019-03-27 00:00:00) while time zone support is active.\n",
      "  RuntimeWarning)\n",
      "C:\\Users\\infomax\\Documents\\GitHub\\protobed\\venv\\lib\\site-packages\\django\\db\\models\\fields\\__init__.py:1421: RuntimeWarning: DateTimeField Newsdata.publish_date received a naive datetime (2019-07-03 00:00:00) while time zone support is active.\n",
      "  RuntimeWarning)\n",
      "C:\\Users\\infomax\\Documents\\GitHub\\protobed\\venv\\lib\\site-packages\\django\\db\\models\\fields\\__init__.py:1421: RuntimeWarning: DateTimeField Newsdata.publish_date received a naive datetime (2019-06-27 00:00:00) while time zone support is active.\n",
      "  RuntimeWarning)\n",
      "C:\\Users\\infomax\\Documents\\GitHub\\protobed\\venv\\lib\\site-packages\\django\\db\\models\\fields\\__init__.py:1421: RuntimeWarning: DateTimeField Newsdata.publish_date received a naive datetime (2019-07-08 00:00:00) while time zone support is active.\n",
      "  RuntimeWarning)\n",
      "C:\\Users\\infomax\\Documents\\GitHub\\protobed\\venv\\lib\\site-packages\\django\\db\\models\\fields\\__init__.py:1421: RuntimeWarning: DateTimeField Newsdata.publish_date received a naive datetime (2019-08-19 00:00:00) while time zone support is active.\n",
      "  RuntimeWarning)\n",
      "C:\\Users\\infomax\\Documents\\GitHub\\protobed\\venv\\lib\\site-packages\\django\\db\\models\\fields\\__init__.py:1421: RuntimeWarning: DateTimeField Newsdata.publish_date received a naive datetime (2013-09-09 00:00:00) while time zone support is active.\n",
      "  RuntimeWarning)\n",
      "C:\\Users\\infomax\\Documents\\GitHub\\protobed\\venv\\lib\\site-packages\\django\\db\\models\\fields\\__init__.py:1421: RuntimeWarning: DateTimeField Newsdata.publish_date received a naive datetime (2019-07-10 00:00:00) while time zone support is active.\n",
      "  RuntimeWarning)\n",
      "C:\\Users\\infomax\\Documents\\GitHub\\protobed\\venv\\lib\\site-packages\\django\\db\\models\\fields\\__init__.py:1421: RuntimeWarning: DateTimeField Newsdata.publish_date received a naive datetime (2019-02-01 00:00:00) while time zone support is active.\n",
      "  RuntimeWarning)\n",
      "C:\\Users\\infomax\\Documents\\GitHub\\protobed\\venv\\lib\\site-packages\\django\\db\\models\\fields\\__init__.py:1421: RuntimeWarning: DateTimeField Newsdata.publish_date received a naive datetime (2019-01-21 00:00:00) while time zone support is active.\n",
      "  RuntimeWarning)\n",
      "C:\\Users\\infomax\\Documents\\GitHub\\protobed\\venv\\lib\\site-packages\\django\\db\\models\\fields\\__init__.py:1421: RuntimeWarning: DateTimeField Newsdata.publish_date received a naive datetime (2019-08-07 00:00:00) while time zone support is active.\n",
      "  RuntimeWarning)\n",
      "C:\\Users\\infomax\\Documents\\GitHub\\protobed\\venv\\lib\\site-packages\\django\\db\\models\\fields\\__init__.py:1421: RuntimeWarning: DateTimeField Newsdata.publish_date received a naive datetime (2019-08-04 00:00:00) while time zone support is active.\n",
      "  RuntimeWarning)\n",
      "C:\\Users\\infomax\\Documents\\GitHub\\protobed\\venv\\lib\\site-packages\\django\\db\\models\\fields\\__init__.py:1421: RuntimeWarning: DateTimeField Newsdata.publish_date received a naive datetime (2019-07-25 00:00:00) while time zone support is active.\n",
      "  RuntimeWarning)\n",
      "C:\\Users\\infomax\\Documents\\GitHub\\protobed\\venv\\lib\\site-packages\\django\\db\\models\\fields\\__init__.py:1421: RuntimeWarning: DateTimeField Newsdata.publish_date received a naive datetime (2019-07-29 00:00:00) while time zone support is active.\n",
      "  RuntimeWarning)\n",
      "C:\\Users\\infomax\\Documents\\GitHub\\protobed\\venv\\lib\\site-packages\\django\\db\\models\\fields\\__init__.py:1421: RuntimeWarning: DateTimeField Newsdata.publish_date received a naive datetime (2018-07-25 00:00:00) while time zone support is active.\n",
      "  RuntimeWarning)\n",
      "C:\\Users\\infomax\\Documents\\GitHub\\protobed\\venv\\lib\\site-packages\\django\\db\\models\\fields\\__init__.py:1421: RuntimeWarning: DateTimeField Newsdata.publish_date received a naive datetime (2018-01-30 00:00:00) while time zone support is active.\n",
      "  RuntimeWarning)\n",
      "C:\\Users\\infomax\\Documents\\GitHub\\protobed\\venv\\lib\\site-packages\\django\\db\\models\\fields\\__init__.py:1421: RuntimeWarning: DateTimeField Newsdata.publish_date received a naive datetime (2018-07-30 00:00:00) while time zone support is active.\n",
      "  RuntimeWarning)\n",
      "C:\\Users\\infomax\\Documents\\GitHub\\protobed\\venv\\lib\\site-packages\\django\\db\\models\\fields\\__init__.py:1421: RuntimeWarning: DateTimeField Newsdata.publish_date received a naive datetime (2019-07-23 00:00:00) while time zone support is active.\n",
      "  RuntimeWarning)\n",
      "C:\\Users\\infomax\\Documents\\GitHub\\protobed\\venv\\lib\\site-packages\\django\\db\\models\\fields\\__init__.py:1421: RuntimeWarning: DateTimeField Newsdata.publish_date received a naive datetime (2019-07-19 00:00:00) while time zone support is active.\n",
      "  RuntimeWarning)\n",
      "C:\\Users\\infomax\\Documents\\GitHub\\protobed\\venv\\lib\\site-packages\\django\\db\\models\\fields\\__init__.py:1421: RuntimeWarning: DateTimeField Newsdata.publish_date received a naive datetime (2019-07-17 00:00:00) while time zone support is active.\n",
      "  RuntimeWarning)\n"
     ]
    },
    {
     "name": "stderr",
     "output_type": "stream",
     "text": [
      "C:\\Users\\infomax\\Documents\\GitHub\\protobed\\venv\\lib\\site-packages\\django\\db\\models\\fields\\__init__.py:1421: RuntimeWarning: DateTimeField Newsdata.publish_date received a naive datetime (2019-07-11 00:00:00) while time zone support is active.\n",
      "  RuntimeWarning)\n",
      "C:\\Users\\infomax\\Documents\\GitHub\\protobed\\venv\\lib\\site-packages\\django\\db\\models\\fields\\__init__.py:1421: RuntimeWarning: DateTimeField Newsdata.publish_date received a naive datetime (2019-07-09 00:00:00) while time zone support is active.\n",
      "  RuntimeWarning)\n",
      "C:\\Users\\infomax\\Documents\\GitHub\\protobed\\venv\\lib\\site-packages\\django\\db\\models\\fields\\__init__.py:1421: RuntimeWarning: DateTimeField Newsdata.publish_date received a naive datetime (2019-07-06 00:00:00) while time zone support is active.\n",
      "  RuntimeWarning)\n",
      "C:\\Users\\infomax\\Documents\\GitHub\\protobed\\venv\\lib\\site-packages\\django\\db\\models\\fields\\__init__.py:1421: RuntimeWarning: DateTimeField Newsdata.publish_date received a naive datetime (2019-07-05 00:00:00) while time zone support is active.\n",
      "  RuntimeWarning)\n",
      "C:\\Users\\infomax\\Documents\\GitHub\\protobed\\venv\\lib\\site-packages\\django\\db\\models\\fields\\__init__.py:1421: RuntimeWarning: DateTimeField Newsdata.publish_date received a naive datetime (2019-05-01 00:00:00) while time zone support is active.\n",
      "  RuntimeWarning)\n",
      "C:\\Users\\infomax\\Documents\\GitHub\\protobed\\venv\\lib\\site-packages\\django\\db\\models\\fields\\__init__.py:1421: RuntimeWarning: DateTimeField Newsdata.publish_date received a naive datetime (2019-05-20 00:00:00) while time zone support is active.\n",
      "  RuntimeWarning)\n",
      "C:\\Users\\infomax\\Documents\\GitHub\\protobed\\venv\\lib\\site-packages\\django\\db\\models\\fields\\__init__.py:1421: RuntimeWarning: DateTimeField Newsdata.publish_date received a naive datetime (2018-09-11 00:00:00) while time zone support is active.\n",
      "  RuntimeWarning)\n",
      "C:\\Users\\infomax\\Documents\\GitHub\\protobed\\venv\\lib\\site-packages\\django\\db\\models\\fields\\__init__.py:1421: RuntimeWarning: DateTimeField Newsdata.publish_date received a naive datetime (2018-08-20 00:00:00) while time zone support is active.\n",
      "  RuntimeWarning)\n",
      "C:\\Users\\infomax\\Documents\\GitHub\\protobed\\venv\\lib\\site-packages\\django\\db\\models\\fields\\__init__.py:1421: RuntimeWarning: DateTimeField Newsdata.publish_date received a naive datetime (2019-06-28 00:00:00) while time zone support is active.\n",
      "  RuntimeWarning)\n",
      "C:\\Users\\infomax\\Documents\\GitHub\\protobed\\venv\\lib\\site-packages\\django\\db\\models\\fields\\__init__.py:1421: RuntimeWarning: DateTimeField Newsdata.publish_date received a naive datetime (2019-08-06 00:00:00) while time zone support is active.\n",
      "  RuntimeWarning)\n",
      "C:\\Users\\infomax\\Documents\\GitHub\\protobed\\venv\\lib\\site-packages\\django\\db\\models\\fields\\__init__.py:1421: RuntimeWarning: DateTimeField Newsdata.publish_date received a naive datetime (2019-07-07 00:00:00) while time zone support is active.\n",
      "  RuntimeWarning)\n",
      "C:\\Users\\infomax\\Documents\\GitHub\\protobed\\venv\\lib\\site-packages\\django\\db\\models\\fields\\__init__.py:1421: RuntimeWarning: DateTimeField Newsdata.publish_date received a naive datetime (2019-05-25 00:00:00) while time zone support is active.\n",
      "  RuntimeWarning)\n",
      "C:\\Users\\infomax\\Documents\\GitHub\\protobed\\venv\\lib\\site-packages\\django\\db\\models\\fields\\__init__.py:1421: RuntimeWarning: DateTimeField Newsdata.publish_date received a naive datetime (2019-05-09 00:00:00) while time zone support is active.\n",
      "  RuntimeWarning)\n",
      "C:\\Users\\infomax\\Documents\\GitHub\\protobed\\venv\\lib\\site-packages\\django\\db\\models\\fields\\__init__.py:1421: RuntimeWarning: DateTimeField Newsdata.publish_date received a naive datetime (2019-05-31 00:00:00) while time zone support is active.\n",
      "  RuntimeWarning)\n",
      "C:\\Users\\infomax\\Documents\\GitHub\\protobed\\venv\\lib\\site-packages\\django\\db\\models\\fields\\__init__.py:1421: RuntimeWarning: DateTimeField Newsdata.publish_date received a naive datetime (2013-10-16 00:00:00) while time zone support is active.\n",
      "  RuntimeWarning)\n",
      "C:\\Users\\infomax\\Documents\\GitHub\\protobed\\venv\\lib\\site-packages\\django\\db\\models\\fields\\__init__.py:1421: RuntimeWarning: DateTimeField Newsdata.publish_date received a naive datetime (2019-06-18 00:00:00) while time zone support is active.\n",
      "  RuntimeWarning)\n",
      "C:\\Users\\infomax\\Documents\\GitHub\\protobed\\venv\\lib\\site-packages\\django\\db\\models\\fields\\__init__.py:1421: RuntimeWarning: DateTimeField Newsdata.publish_date received a naive datetime (2019-02-14 00:00:00) while time zone support is active.\n",
      "  RuntimeWarning)\n",
      "C:\\Users\\infomax\\Documents\\GitHub\\protobed\\venv\\lib\\site-packages\\django\\db\\models\\fields\\__init__.py:1421: RuntimeWarning: DateTimeField Newsdata.publish_date received a naive datetime (2019-04-25 00:00:00) while time zone support is active.\n",
      "  RuntimeWarning)\n",
      "C:\\Users\\infomax\\Documents\\GitHub\\protobed\\venv\\lib\\site-packages\\django\\db\\models\\fields\\__init__.py:1421: RuntimeWarning: DateTimeField Newsdata.publish_date received a naive datetime (2018-09-21 00:00:00) while time zone support is active.\n",
      "  RuntimeWarning)\n",
      "C:\\Users\\infomax\\Documents\\GitHub\\protobed\\venv\\lib\\site-packages\\django\\db\\models\\fields\\__init__.py:1421: RuntimeWarning: DateTimeField Newsdata.publish_date received a naive datetime (2019-01-09 00:00:00) while time zone support is active.\n",
      "  RuntimeWarning)\n",
      "C:\\Users\\infomax\\Documents\\GitHub\\protobed\\venv\\lib\\site-packages\\django\\db\\models\\fields\\__init__.py:1421: RuntimeWarning: DateTimeField Newsdata.publish_date received a naive datetime (2018-10-18 00:00:00) while time zone support is active.\n",
      "  RuntimeWarning)\n",
      "C:\\Users\\infomax\\Documents\\GitHub\\protobed\\venv\\lib\\site-packages\\django\\db\\models\\fields\\__init__.py:1421: RuntimeWarning: DateTimeField Newsdata.publish_date received a naive datetime (2018-12-12 00:00:00) while time zone support is active.\n",
      "  RuntimeWarning)\n",
      "C:\\Users\\infomax\\Documents\\GitHub\\protobed\\venv\\lib\\site-packages\\django\\db\\models\\fields\\__init__.py:1421: RuntimeWarning: DateTimeField Newsdata.publish_date received a naive datetime (2019-01-29 00:00:00) while time zone support is active.\n",
      "  RuntimeWarning)\n",
      "C:\\Users\\infomax\\Documents\\GitHub\\protobed\\venv\\lib\\site-packages\\django\\db\\models\\fields\\__init__.py:1421: RuntimeWarning: DateTimeField Newsdata.publish_date received a naive datetime (2019-03-11 00:00:00) while time zone support is active.\n",
      "  RuntimeWarning)\n",
      "C:\\Users\\infomax\\Documents\\GitHub\\protobed\\venv\\lib\\site-packages\\django\\db\\models\\fields\\__init__.py:1421: RuntimeWarning: DateTimeField Newsdata.publish_date received a naive datetime (2018-11-22 00:00:00) while time zone support is active.\n",
      "  RuntimeWarning)\n",
      "C:\\Users\\infomax\\Documents\\GitHub\\protobed\\venv\\lib\\site-packages\\django\\db\\models\\fields\\__init__.py:1421: RuntimeWarning: DateTimeField Newsdata.publish_date received a naive datetime (2018-10-25 00:00:00) while time zone support is active.\n",
      "  RuntimeWarning)\n",
      "C:\\Users\\infomax\\Documents\\GitHub\\protobed\\venv\\lib\\site-packages\\django\\db\\models\\fields\\__init__.py:1421: RuntimeWarning: DateTimeField Newsdata.publish_date received a naive datetime (2018-09-04 00:00:00) while time zone support is active.\n",
      "  RuntimeWarning)\n",
      "C:\\Users\\infomax\\Documents\\GitHub\\protobed\\venv\\lib\\site-packages\\django\\db\\models\\fields\\__init__.py:1421: RuntimeWarning: DateTimeField Newsdata.publish_date received a naive datetime (2018-08-07 00:00:00) while time zone support is active.\n",
      "  RuntimeWarning)\n",
      "C:\\Users\\infomax\\Documents\\GitHub\\protobed\\venv\\lib\\site-packages\\django\\db\\models\\fields\\__init__.py:1421: RuntimeWarning: DateTimeField Newsdata.publish_date received a naive datetime (2018-07-20 00:00:00) while time zone support is active.\n",
      "  RuntimeWarning)\n",
      "C:\\Users\\infomax\\Documents\\GitHub\\protobed\\venv\\lib\\site-packages\\django\\db\\models\\fields\\__init__.py:1421: RuntimeWarning: DateTimeField Newsdata.publish_date received a naive datetime (2018-07-04 00:00:00) while time zone support is active.\n",
      "  RuntimeWarning)\n",
      "C:\\Users\\infomax\\Documents\\GitHub\\protobed\\venv\\lib\\site-packages\\django\\db\\models\\fields\\__init__.py:1421: RuntimeWarning: DateTimeField Newsdata.publish_date received a naive datetime (2018-06-28 00:00:00) while time zone support is active.\n",
      "  RuntimeWarning)\n",
      "C:\\Users\\infomax\\Documents\\GitHub\\protobed\\venv\\lib\\site-packages\\django\\db\\models\\fields\\__init__.py:1421: RuntimeWarning: DateTimeField Newsdata.publish_date received a naive datetime (2018-06-11 00:00:00) while time zone support is active.\n",
      "  RuntimeWarning)\n"
     ]
    },
    {
     "name": "stderr",
     "output_type": "stream",
     "text": [
      "C:\\Users\\infomax\\Documents\\GitHub\\protobed\\venv\\lib\\site-packages\\django\\db\\models\\fields\\__init__.py:1421: RuntimeWarning: DateTimeField Newsdata.publish_date received a naive datetime (2018-06-04 00:00:00) while time zone support is active.\n",
      "  RuntimeWarning)\n",
      "C:\\Users\\infomax\\Documents\\GitHub\\protobed\\venv\\lib\\site-packages\\django\\db\\models\\fields\\__init__.py:1421: RuntimeWarning: DateTimeField Newsdata.publish_date received a naive datetime (2018-05-01 00:00:00) while time zone support is active.\n",
      "  RuntimeWarning)\n",
      "C:\\Users\\infomax\\Documents\\GitHub\\protobed\\venv\\lib\\site-packages\\django\\db\\models\\fields\\__init__.py:1421: RuntimeWarning: DateTimeField Newsdata.publish_date received a naive datetime (2018-04-30 00:00:00) while time zone support is active.\n",
      "  RuntimeWarning)\n",
      "C:\\Users\\infomax\\Documents\\GitHub\\protobed\\venv\\lib\\site-packages\\django\\db\\models\\fields\\__init__.py:1421: RuntimeWarning: DateTimeField Newsdata.publish_date received a naive datetime (2017-11-28 00:00:00) while time zone support is active.\n",
      "  RuntimeWarning)\n",
      "C:\\Users\\infomax\\Documents\\GitHub\\protobed\\venv\\lib\\site-packages\\django\\db\\models\\fields\\__init__.py:1421: RuntimeWarning: DateTimeField Newsdata.publish_date received a naive datetime (2017-08-25 00:00:00) while time zone support is active.\n",
      "  RuntimeWarning)\n",
      "C:\\Users\\infomax\\Documents\\GitHub\\protobed\\venv\\lib\\site-packages\\django\\db\\models\\fields\\__init__.py:1421: RuntimeWarning: DateTimeField Newsdata.publish_date received a naive datetime (2017-06-16 00:00:00) while time zone support is active.\n",
      "  RuntimeWarning)\n",
      "C:\\Users\\infomax\\Documents\\GitHub\\protobed\\venv\\lib\\site-packages\\django\\db\\models\\fields\\__init__.py:1421: RuntimeWarning: DateTimeField Newsdata.publish_date received a naive datetime (2017-06-12 00:00:00) while time zone support is active.\n",
      "  RuntimeWarning)\n",
      "C:\\Users\\infomax\\Documents\\GitHub\\protobed\\venv\\lib\\site-packages\\django\\db\\models\\fields\\__init__.py:1421: RuntimeWarning: DateTimeField Newsdata.publish_date received a naive datetime (2018-02-09 00:00:00) while time zone support is active.\n",
      "  RuntimeWarning)\n",
      "C:\\Users\\infomax\\Documents\\GitHub\\protobed\\venv\\lib\\site-packages\\django\\db\\models\\fields\\__init__.py:1421: RuntimeWarning: DateTimeField Newsdata.publish_date received a naive datetime (2018-01-26 00:00:00) while time zone support is active.\n",
      "  RuntimeWarning)\n",
      "C:\\Users\\infomax\\Documents\\GitHub\\protobed\\venv\\lib\\site-packages\\django\\db\\models\\fields\\__init__.py:1421: RuntimeWarning: DateTimeField Newsdata.publish_date received a naive datetime (2018-01-18 00:00:00) while time zone support is active.\n",
      "  RuntimeWarning)\n",
      "C:\\Users\\infomax\\Documents\\GitHub\\protobed\\venv\\lib\\site-packages\\django\\db\\models\\fields\\__init__.py:1421: RuntimeWarning: DateTimeField Newsdata.publish_date received a naive datetime (2017-11-14 00:00:00) while time zone support is active.\n",
      "  RuntimeWarning)\n",
      "C:\\Users\\infomax\\Documents\\GitHub\\protobed\\venv\\lib\\site-packages\\django\\db\\models\\fields\\__init__.py:1421: RuntimeWarning: DateTimeField Newsdata.publish_date received a naive datetime (2017-03-11 00:00:00) while time zone support is active.\n",
      "  RuntimeWarning)\n",
      "C:\\Users\\infomax\\Documents\\GitHub\\protobed\\venv\\lib\\site-packages\\django\\db\\models\\fields\\__init__.py:1421: RuntimeWarning: DateTimeField Newsdata.publish_date received a naive datetime (2017-03-14 00:00:00) while time zone support is active.\n",
      "  RuntimeWarning)\n",
      "C:\\Users\\infomax\\Documents\\GitHub\\protobed\\venv\\lib\\site-packages\\django\\db\\models\\fields\\__init__.py:1421: RuntimeWarning: DateTimeField Newsdata.publish_date received a naive datetime (2017-03-04 00:00:00) while time zone support is active.\n",
      "  RuntimeWarning)\n",
      "C:\\Users\\infomax\\Documents\\GitHub\\protobed\\venv\\lib\\site-packages\\django\\db\\models\\fields\\__init__.py:1421: RuntimeWarning: DateTimeField Newsdata.publish_date received a naive datetime (2019-06-24 00:00:00) while time zone support is active.\n",
      "  RuntimeWarning)\n",
      "C:\\Users\\infomax\\Documents\\GitHub\\protobed\\venv\\lib\\site-packages\\django\\db\\models\\fields\\__init__.py:1421: RuntimeWarning: DateTimeField Newsdata.publish_date received a naive datetime (2019-06-06 00:00:00) while time zone support is active.\n",
      "  RuntimeWarning)\n",
      "C:\\Users\\infomax\\Documents\\GitHub\\protobed\\venv\\lib\\site-packages\\django\\db\\models\\fields\\__init__.py:1421: RuntimeWarning: DateTimeField Newsdata.publish_date received a naive datetime (2019-05-29 00:00:00) while time zone support is active.\n",
      "  RuntimeWarning)\n",
      "C:\\Users\\infomax\\Documents\\GitHub\\protobed\\venv\\lib\\site-packages\\django\\db\\models\\fields\\__init__.py:1421: RuntimeWarning: DateTimeField Newsdata.publish_date received a naive datetime (2019-01-15 00:00:00) while time zone support is active.\n",
      "  RuntimeWarning)\n",
      "C:\\Users\\infomax\\Documents\\GitHub\\protobed\\venv\\lib\\site-packages\\django\\db\\models\\fields\\__init__.py:1421: RuntimeWarning: DateTimeField Newsdata.publish_date received a naive datetime (2018-11-09 00:00:00) while time zone support is active.\n",
      "  RuntimeWarning)\n",
      "C:\\Users\\infomax\\Documents\\GitHub\\protobed\\venv\\lib\\site-packages\\django\\db\\models\\fields\\__init__.py:1421: RuntimeWarning: DateTimeField Newsdata.publish_date received a naive datetime (2018-11-01 00:00:00) while time zone support is active.\n",
      "  RuntimeWarning)\n",
      "C:\\Users\\infomax\\Documents\\GitHub\\protobed\\venv\\lib\\site-packages\\django\\db\\models\\fields\\__init__.py:1421: RuntimeWarning: DateTimeField Newsdata.publish_date received a naive datetime (2019-04-19 00:00:00) while time zone support is active.\n",
      "  RuntimeWarning)\n",
      "C:\\Users\\infomax\\Documents\\GitHub\\protobed\\venv\\lib\\site-packages\\django\\db\\models\\fields\\__init__.py:1421: RuntimeWarning: DateTimeField Newsdata.publish_date received a naive datetime (2019-05-14 00:00:00) while time zone support is active.\n",
      "  RuntimeWarning)\n",
      "C:\\Users\\infomax\\Documents\\GitHub\\protobed\\venv\\lib\\site-packages\\django\\db\\models\\fields\\__init__.py:1421: RuntimeWarning: DateTimeField Newsdata.publish_date received a naive datetime (2019-01-11 00:00:00) while time zone support is active.\n",
      "  RuntimeWarning)\n",
      "C:\\Users\\infomax\\Documents\\GitHub\\protobed\\venv\\lib\\site-packages\\django\\db\\models\\fields\\__init__.py:1421: RuntimeWarning: DateTimeField Newsdata.publish_date received a naive datetime (2018-05-22 00:00:00) while time zone support is active.\n",
      "  RuntimeWarning)\n",
      "C:\\Users\\infomax\\Documents\\GitHub\\protobed\\venv\\lib\\site-packages\\django\\db\\models\\fields\\__init__.py:1421: RuntimeWarning: DateTimeField Newsdata.publish_date received a naive datetime (2018-05-21 00:00:00) while time zone support is active.\n",
      "  RuntimeWarning)\n",
      "C:\\Users\\infomax\\Documents\\GitHub\\protobed\\venv\\lib\\site-packages\\django\\db\\models\\fields\\__init__.py:1421: RuntimeWarning: DateTimeField Newsdata.publish_date received a naive datetime (2018-05-03 00:00:00) while time zone support is active.\n",
      "  RuntimeWarning)\n",
      "C:\\Users\\infomax\\Documents\\GitHub\\protobed\\venv\\lib\\site-packages\\django\\db\\models\\fields\\__init__.py:1421: RuntimeWarning: DateTimeField Newsdata.publish_date received a naive datetime (2019-04-03 00:00:00) while time zone support is active.\n",
      "  RuntimeWarning)\n",
      "C:\\Users\\infomax\\Documents\\GitHub\\protobed\\venv\\lib\\site-packages\\django\\db\\models\\fields\\__init__.py:1421: RuntimeWarning: DateTimeField Newsdata.publish_date received a naive datetime (2019-05-15 00:00:00) while time zone support is active.\n",
      "  RuntimeWarning)\n",
      "C:\\Users\\infomax\\Documents\\GitHub\\protobed\\venv\\lib\\site-packages\\django\\db\\models\\fields\\__init__.py:1421: RuntimeWarning: DateTimeField Newsdata.publish_date received a naive datetime (2019-04-13 00:00:00) while time zone support is active.\n",
      "  RuntimeWarning)\n",
      "C:\\Users\\infomax\\Documents\\GitHub\\protobed\\venv\\lib\\site-packages\\django\\db\\models\\fields\\__init__.py:1421: RuntimeWarning: DateTimeField Newsdata.publish_date received a naive datetime (2018-01-09 00:00:00) while time zone support is active.\n",
      "  RuntimeWarning)\n",
      "C:\\Users\\infomax\\Documents\\GitHub\\protobed\\venv\\lib\\site-packages\\django\\db\\models\\fields\\__init__.py:1421: RuntimeWarning: DateTimeField Newsdata.publish_date received a naive datetime (2018-01-04 00:00:00) while time zone support is active.\n",
      "  RuntimeWarning)\n",
      "C:\\Users\\infomax\\Documents\\GitHub\\protobed\\venv\\lib\\site-packages\\django\\db\\models\\fields\\__init__.py:1421: RuntimeWarning: DateTimeField Newsdata.publish_date received a naive datetime (2018-04-11 00:00:00) while time zone support is active.\n",
      "  RuntimeWarning)\n"
     ]
    },
    {
     "name": "stderr",
     "output_type": "stream",
     "text": [
      "C:\\Users\\infomax\\Documents\\GitHub\\protobed\\venv\\lib\\site-packages\\django\\db\\models\\fields\\__init__.py:1421: RuntimeWarning: DateTimeField Newsdata.publish_date received a naive datetime (2014-05-29 00:00:00) while time zone support is active.\n",
      "  RuntimeWarning)\n",
      "C:\\Users\\infomax\\Documents\\GitHub\\protobed\\venv\\lib\\site-packages\\django\\db\\models\\fields\\__init__.py:1421: RuntimeWarning: DateTimeField Newsdata.publish_date received a naive datetime (2015-08-17 00:00:00) while time zone support is active.\n",
      "  RuntimeWarning)\n",
      "C:\\Users\\infomax\\Documents\\GitHub\\protobed\\venv\\lib\\site-packages\\django\\db\\models\\fields\\__init__.py:1421: RuntimeWarning: DateTimeField Newsdata.publish_date received a naive datetime (2015-06-23 00:00:00) while time zone support is active.\n",
      "  RuntimeWarning)\n",
      "C:\\Users\\infomax\\Documents\\GitHub\\protobed\\venv\\lib\\site-packages\\django\\db\\models\\fields\\__init__.py:1421: RuntimeWarning: DateTimeField Newsdata.publish_date received a naive datetime (2017-12-11 00:00:00) while time zone support is active.\n",
      "  RuntimeWarning)\n",
      "C:\\Users\\infomax\\Documents\\GitHub\\protobed\\venv\\lib\\site-packages\\django\\db\\models\\fields\\__init__.py:1421: RuntimeWarning: DateTimeField Newsdata.publish_date received a naive datetime (2018-01-31 00:00:00) while time zone support is active.\n",
      "  RuntimeWarning)\n",
      "C:\\Users\\infomax\\Documents\\GitHub\\protobed\\venv\\lib\\site-packages\\django\\db\\models\\fields\\__init__.py:1421: RuntimeWarning: DateTimeField Newsdata.publish_date received a naive datetime (2019-04-11 00:00:00) while time zone support is active.\n",
      "  RuntimeWarning)\n",
      "C:\\Users\\infomax\\Documents\\GitHub\\protobed\\venv\\lib\\site-packages\\django\\db\\models\\fields\\__init__.py:1421: RuntimeWarning: DateTimeField Newsdata.publish_date received a naive datetime (2019-04-05 00:00:00) while time zone support is active.\n",
      "  RuntimeWarning)\n",
      "C:\\Users\\infomax\\Documents\\GitHub\\protobed\\venv\\lib\\site-packages\\django\\db\\models\\fields\\__init__.py:1421: RuntimeWarning: DateTimeField Newsdata.publish_date received a naive datetime (2018-03-04 00:00:00) while time zone support is active.\n",
      "  RuntimeWarning)\n",
      "C:\\Users\\infomax\\Documents\\GitHub\\protobed\\venv\\lib\\site-packages\\django\\db\\models\\fields\\__init__.py:1421: RuntimeWarning: DateTimeField Newsdata.publish_date received a naive datetime (2018-03-19 00:00:00) while time zone support is active.\n",
      "  RuntimeWarning)\n",
      "C:\\Users\\infomax\\Documents\\GitHub\\protobed\\venv\\lib\\site-packages\\django\\db\\models\\fields\\__init__.py:1421: RuntimeWarning: DateTimeField Newsdata.publish_date received a naive datetime (2018-02-28 00:00:00) while time zone support is active.\n",
      "  RuntimeWarning)\n",
      "C:\\Users\\infomax\\Documents\\GitHub\\protobed\\venv\\lib\\site-packages\\django\\db\\models\\fields\\__init__.py:1421: RuntimeWarning: DateTimeField Newsdata.publish_date received a naive datetime (2012-08-16 00:00:00) while time zone support is active.\n",
      "  RuntimeWarning)\n",
      "C:\\Users\\infomax\\Documents\\GitHub\\protobed\\venv\\lib\\site-packages\\django\\db\\models\\fields\\__init__.py:1421: RuntimeWarning: DateTimeField Newsdata.publish_date received a naive datetime (2013-08-27 00:00:00) while time zone support is active.\n",
      "  RuntimeWarning)\n",
      "C:\\Users\\infomax\\Documents\\GitHub\\protobed\\venv\\lib\\site-packages\\django\\db\\models\\fields\\__init__.py:1421: RuntimeWarning: DateTimeField Newsdata.publish_date received a naive datetime (2014-04-11 00:00:00) while time zone support is active.\n",
      "  RuntimeWarning)\n",
      "C:\\Users\\infomax\\Documents\\GitHub\\protobed\\venv\\lib\\site-packages\\django\\db\\models\\fields\\__init__.py:1421: RuntimeWarning: DateTimeField Newsdata.publish_date received a naive datetime (2019-07-20 00:00:00) while time zone support is active.\n",
      "  RuntimeWarning)\n",
      "C:\\Users\\infomax\\Documents\\GitHub\\protobed\\venv\\lib\\site-packages\\django\\db\\models\\fields\\__init__.py:1421: RuntimeWarning: DateTimeField Newsdata.publish_date received a naive datetime (2019-07-12 00:00:00) while time zone support is active.\n",
      "  RuntimeWarning)\n",
      "C:\\Users\\infomax\\Documents\\GitHub\\protobed\\venv\\lib\\site-packages\\django\\db\\models\\fields\\__init__.py:1421: RuntimeWarning: DateTimeField Newsdata.publish_date received a naive datetime (2019-06-25 00:00:00) while time zone support is active.\n",
      "  RuntimeWarning)\n",
      "C:\\Users\\infomax\\Documents\\GitHub\\protobed\\venv\\lib\\site-packages\\django\\db\\models\\fields\\__init__.py:1421: RuntimeWarning: DateTimeField Newsdata.publish_date received a naive datetime (2019-06-13 00:00:00) while time zone support is active.\n",
      "  RuntimeWarning)\n",
      "C:\\Users\\infomax\\Documents\\GitHub\\protobed\\venv\\lib\\site-packages\\django\\db\\models\\fields\\__init__.py:1421: RuntimeWarning: DateTimeField Newsdata.publish_date received a naive datetime (2019-05-13 00:00:00) while time zone support is active.\n",
      "  RuntimeWarning)\n",
      "C:\\Users\\infomax\\Documents\\GitHub\\protobed\\venv\\lib\\site-packages\\django\\db\\models\\fields\\__init__.py:1421: RuntimeWarning: DateTimeField Newsdata.publish_date received a naive datetime (2019-05-02 00:00:00) while time zone support is active.\n",
      "  RuntimeWarning)\n",
      "C:\\Users\\infomax\\Documents\\GitHub\\protobed\\venv\\lib\\site-packages\\django\\db\\models\\fields\\__init__.py:1421: RuntimeWarning: DateTimeField Newsdata.publish_date received a naive datetime (2018-12-09 00:00:00) while time zone support is active.\n",
      "  RuntimeWarning)\n",
      "C:\\Users\\infomax\\Documents\\GitHub\\protobed\\venv\\lib\\site-packages\\django\\db\\models\\fields\\__init__.py:1421: RuntimeWarning: DateTimeField Newsdata.publish_date received a naive datetime (2019-06-09 00:00:00) while time zone support is active.\n",
      "  RuntimeWarning)\n",
      "C:\\Users\\infomax\\Documents\\GitHub\\protobed\\venv\\lib\\site-packages\\django\\db\\models\\fields\\__init__.py:1421: RuntimeWarning: DateTimeField Newsdata.publish_date received a naive datetime (2017-01-27 00:00:00) while time zone support is active.\n",
      "  RuntimeWarning)\n",
      "C:\\Users\\infomax\\Documents\\GitHub\\protobed\\venv\\lib\\site-packages\\django\\db\\models\\fields\\__init__.py:1421: RuntimeWarning: DateTimeField Newsdata.publish_date received a naive datetime (2015-04-07 00:00:00) while time zone support is active.\n",
      "  RuntimeWarning)\n",
      "C:\\Users\\infomax\\Documents\\GitHub\\protobed\\venv\\lib\\site-packages\\django\\db\\models\\fields\\__init__.py:1421: RuntimeWarning: DateTimeField Newsdata.publish_date received a naive datetime (2015-04-05 00:00:00) while time zone support is active.\n",
      "  RuntimeWarning)\n",
      "C:\\Users\\infomax\\Documents\\GitHub\\protobed\\venv\\lib\\site-packages\\django\\db\\models\\fields\\__init__.py:1421: RuntimeWarning: DateTimeField Newsdata.publish_date received a naive datetime (2015-02-08 00:00:00) while time zone support is active.\n",
      "  RuntimeWarning)\n",
      "C:\\Users\\infomax\\Documents\\GitHub\\protobed\\venv\\lib\\site-packages\\django\\db\\models\\fields\\__init__.py:1421: RuntimeWarning: DateTimeField Newsdata.publish_date received a naive datetime (2015-03-31 00:00:00) while time zone support is active.\n",
      "  RuntimeWarning)\n",
      "C:\\Users\\infomax\\Documents\\GitHub\\protobed\\venv\\lib\\site-packages\\django\\db\\models\\fields\\__init__.py:1421: RuntimeWarning: DateTimeField Newsdata.publish_date received a naive datetime (2015-03-29 00:00:00) while time zone support is active.\n",
      "  RuntimeWarning)\n",
      "C:\\Users\\infomax\\Documents\\GitHub\\protobed\\venv\\lib\\site-packages\\django\\db\\models\\fields\\__init__.py:1421: RuntimeWarning: DateTimeField Newsdata.publish_date received a naive datetime (2015-03-26 00:00:00) while time zone support is active.\n",
      "  RuntimeWarning)\n",
      "C:\\Users\\infomax\\Documents\\GitHub\\protobed\\venv\\lib\\site-packages\\django\\db\\models\\fields\\__init__.py:1421: RuntimeWarning: DateTimeField Newsdata.publish_date received a naive datetime (2015-03-24 00:00:00) while time zone support is active.\n",
      "  RuntimeWarning)\n",
      "C:\\Users\\infomax\\Documents\\GitHub\\protobed\\venv\\lib\\site-packages\\django\\db\\models\\fields\\__init__.py:1421: RuntimeWarning: DateTimeField Newsdata.publish_date received a naive datetime (2015-03-17 00:00:00) while time zone support is active.\n",
      "  RuntimeWarning)\n",
      "C:\\Users\\infomax\\Documents\\GitHub\\protobed\\venv\\lib\\site-packages\\django\\db\\models\\fields\\__init__.py:1421: RuntimeWarning: DateTimeField Newsdata.publish_date received a naive datetime (2018-05-31 00:00:00) while time zone support is active.\n",
      "  RuntimeWarning)\n",
      "C:\\Users\\infomax\\Documents\\GitHub\\protobed\\venv\\lib\\site-packages\\django\\db\\models\\fields\\__init__.py:1421: RuntimeWarning: DateTimeField Newsdata.publish_date received a naive datetime (2018-05-10 00:00:00) while time zone support is active.\n",
      "  RuntimeWarning)\n"
     ]
    },
    {
     "name": "stderr",
     "output_type": "stream",
     "text": [
      "C:\\Users\\infomax\\Documents\\GitHub\\protobed\\venv\\lib\\site-packages\\django\\db\\models\\fields\\__init__.py:1421: RuntimeWarning: DateTimeField Newsdata.publish_date received a naive datetime (2018-04-19 00:00:00) while time zone support is active.\n",
      "  RuntimeWarning)\n",
      "C:\\Users\\infomax\\Documents\\GitHub\\protobed\\venv\\lib\\site-packages\\django\\db\\models\\fields\\__init__.py:1421: RuntimeWarning: DateTimeField Newsdata.publish_date received a naive datetime (2013-11-05 00:00:00) while time zone support is active.\n",
      "  RuntimeWarning)\n",
      "C:\\Users\\infomax\\Documents\\GitHub\\protobed\\venv\\lib\\site-packages\\django\\db\\models\\fields\\__init__.py:1421: RuntimeWarning: DateTimeField Newsdata.publish_date received a naive datetime (2015-04-03 00:00:00) while time zone support is active.\n",
      "  RuntimeWarning)\n",
      "C:\\Users\\infomax\\Documents\\GitHub\\protobed\\venv\\lib\\site-packages\\django\\db\\models\\fields\\__init__.py:1421: RuntimeWarning: DateTimeField Newsdata.publish_date received a naive datetime (2014-06-26 00:00:00) while time zone support is active.\n",
      "  RuntimeWarning)\n",
      "C:\\Users\\infomax\\Documents\\GitHub\\protobed\\venv\\lib\\site-packages\\django\\db\\models\\fields\\__init__.py:1421: RuntimeWarning: DateTimeField Newsdata.publish_date received a naive datetime (2015-04-02 00:00:00) while time zone support is active.\n",
      "  RuntimeWarning)\n",
      "C:\\Users\\infomax\\Documents\\GitHub\\protobed\\venv\\lib\\site-packages\\django\\db\\models\\fields\\__init__.py:1421: RuntimeWarning: DateTimeField Newsdata.publish_date received a naive datetime (2015-03-14 00:00:00) while time zone support is active.\n",
      "  RuntimeWarning)\n",
      "C:\\Users\\infomax\\Documents\\GitHub\\protobed\\venv\\lib\\site-packages\\django\\db\\models\\fields\\__init__.py:1421: RuntimeWarning: DateTimeField Newsdata.publish_date received a naive datetime (2015-03-30 00:00:00) while time zone support is active.\n",
      "  RuntimeWarning)\n",
      "C:\\Users\\infomax\\Documents\\GitHub\\protobed\\venv\\lib\\site-packages\\django\\db\\models\\fields\\__init__.py:1421: RuntimeWarning: DateTimeField Newsdata.publish_date received a naive datetime (2015-01-06 00:00:00) while time zone support is active.\n",
      "  RuntimeWarning)\n",
      "C:\\Users\\infomax\\Documents\\GitHub\\protobed\\venv\\lib\\site-packages\\django\\db\\models\\fields\\__init__.py:1421: RuntimeWarning: DateTimeField Newsdata.publish_date received a naive datetime (2015-04-06 00:00:00) while time zone support is active.\n",
      "  RuntimeWarning)\n",
      "C:\\Users\\infomax\\Documents\\GitHub\\protobed\\venv\\lib\\site-packages\\django\\db\\models\\fields\\__init__.py:1421: RuntimeWarning: DateTimeField Newsdata.publish_date received a naive datetime (2015-04-01 00:00:00) while time zone support is active.\n",
      "  RuntimeWarning)\n",
      "C:\\Users\\infomax\\Documents\\GitHub\\protobed\\venv\\lib\\site-packages\\django\\db\\models\\fields\\__init__.py:1421: RuntimeWarning: DateTimeField Newsdata.publish_date received a naive datetime (2015-03-18 00:00:00) while time zone support is active.\n",
      "  RuntimeWarning)\n",
      "C:\\Users\\infomax\\Documents\\GitHub\\protobed\\venv\\lib\\site-packages\\django\\db\\models\\fields\\__init__.py:1421: RuntimeWarning: DateTimeField Newsdata.publish_date received a naive datetime (2018-04-27 00:00:00) while time zone support is active.\n",
      "  RuntimeWarning)\n",
      "C:\\Users\\infomax\\Documents\\GitHub\\protobed\\venv\\lib\\site-packages\\django\\db\\models\\fields\\__init__.py:1421: RuntimeWarning: DateTimeField Newsdata.publish_date received a naive datetime (2013-10-30 00:00:00) while time zone support is active.\n",
      "  RuntimeWarning)\n",
      "C:\\Users\\infomax\\Documents\\GitHub\\protobed\\venv\\lib\\site-packages\\django\\db\\models\\fields\\__init__.py:1421: RuntimeWarning: DateTimeField Newsdata.publish_date received a naive datetime (2019-07-30 00:00:00) while time zone support is active.\n",
      "  RuntimeWarning)\n"
     ]
    },
    {
     "name": "stdout",
     "output_type": "stream",
     "text": [
      "\n"
     ]
    },
    {
     "data": {
      "application/vnd.jupyter.widget-view+json": {
       "model_id": "cb01b96ae2744bd18cabd780b9e1cda7",
       "version_major": 2,
       "version_minor": 0
      },
      "text/plain": [
       "HBox(children=(IntProgress(value=0, max=1071), HTML(value='')))"
      ]
     },
     "metadata": {},
     "output_type": "display_data"
    },
    {
     "name": "stderr",
     "output_type": "stream",
     "text": [
      "C:\\Users\\infomax\\Documents\\GitHub\\protobed\\venv\\lib\\site-packages\\django\\db\\models\\fields\\__init__.py:1421: RuntimeWarning: DateTimeField Newsdata.publish_date received a naive datetime (2019-08-19 22:00:00) while time zone support is active.\n",
      "  RuntimeWarning)\n"
     ]
    },
    {
     "name": "stdout",
     "output_type": "stream",
     "text": [
      "\n"
     ]
    },
    {
     "data": {
      "application/vnd.jupyter.widget-view+json": {
       "model_id": "0b7054d0d0f54cbbb8e7f7e7f6d3d27c",
       "version_major": 2,
       "version_minor": 0
      },
      "text/plain": [
       "HBox(children=(IntProgress(value=0, max=179), HTML(value='')))"
      ]
     },
     "metadata": {},
     "output_type": "display_data"
    },
    {
     "name": "stderr",
     "output_type": "stream",
     "text": [
      "C:\\Users\\infomax\\Documents\\GitHub\\protobed\\venv\\lib\\site-packages\\django\\db\\models\\fields\\__init__.py:1421: RuntimeWarning: DateTimeField Newsdata.publish_date received a naive datetime (2019-08-19 05:02:41) while time zone support is active.\n",
      "  RuntimeWarning)\n",
      "C:\\Users\\infomax\\Documents\\GitHub\\protobed\\venv\\lib\\site-packages\\django\\db\\models\\fields\\__init__.py:1421: RuntimeWarning: DateTimeField Newsdata.publish_date received a naive datetime (2016-06-27 15:15:28) while time zone support is active.\n",
      "  RuntimeWarning)\n",
      "C:\\Users\\infomax\\Documents\\GitHub\\protobed\\venv\\lib\\site-packages\\django\\db\\models\\fields\\__init__.py:1421: RuntimeWarning: DateTimeField Newsdata.publish_date received a naive datetime (2019-06-28 05:44:17) while time zone support is active.\n",
      "  RuntimeWarning)\n"
     ]
    },
    {
     "name": "stdout",
     "output_type": "stream",
     "text": [
      "\n"
     ]
    },
    {
     "data": {
      "application/vnd.jupyter.widget-view+json": {
       "model_id": "9009e4ab38da43f9903c4a0985fa6485",
       "version_major": 2,
       "version_minor": 0
      },
      "text/plain": [
       "HBox(children=(IntProgress(value=0, max=71), HTML(value='')))"
      ]
     },
     "metadata": {},
     "output_type": "display_data"
    },
    {
     "name": "stderr",
     "output_type": "stream",
     "text": [
      "C:\\Users\\infomax\\Documents\\GitHub\\protobed\\venv\\lib\\site-packages\\django\\db\\models\\fields\\__init__.py:1421: RuntimeWarning: DateTimeField Newsdata.publish_date received a naive datetime (2016-02-22 00:00:00) while time zone support is active.\n",
      "  RuntimeWarning)\n",
      "C:\\Users\\infomax\\Documents\\GitHub\\protobed\\venv\\lib\\site-packages\\django\\db\\models\\fields\\__init__.py:1421: RuntimeWarning: DateTimeField Newsdata.publish_date received a naive datetime (2015-12-15 00:00:00) while time zone support is active.\n",
      "  RuntimeWarning)\n",
      "C:\\Users\\infomax\\Documents\\GitHub\\protobed\\venv\\lib\\site-packages\\django\\db\\models\\fields\\__init__.py:1421: RuntimeWarning: DateTimeField Newsdata.publish_date received a naive datetime (2015-09-28 00:00:00) while time zone support is active.\n",
      "  RuntimeWarning)\n",
      "C:\\Users\\infomax\\Documents\\GitHub\\protobed\\venv\\lib\\site-packages\\django\\db\\models\\fields\\__init__.py:1421: RuntimeWarning: DateTimeField Newsdata.publish_date received a naive datetime (2015-09-17 00:00:00) while time zone support is active.\n",
      "  RuntimeWarning)\n",
      "C:\\Users\\infomax\\Documents\\GitHub\\protobed\\venv\\lib\\site-packages\\django\\db\\models\\fields\\__init__.py:1421: RuntimeWarning: DateTimeField Newsdata.publish_date received a naive datetime (2015-09-15 00:00:00) while time zone support is active.\n",
      "  RuntimeWarning)\n",
      "C:\\Users\\infomax\\Documents\\GitHub\\protobed\\venv\\lib\\site-packages\\django\\db\\models\\fields\\__init__.py:1421: RuntimeWarning: DateTimeField Newsdata.publish_date received a naive datetime (2015-08-07 00:00:00) while time zone support is active.\n",
      "  RuntimeWarning)\n",
      "C:\\Users\\infomax\\Documents\\GitHub\\protobed\\venv\\lib\\site-packages\\django\\db\\models\\fields\\__init__.py:1421: RuntimeWarning: DateTimeField Newsdata.publish_date received a naive datetime (2019-08-15 06:54:17) while time zone support is active.\n",
      "  RuntimeWarning)\n"
     ]
    },
    {
     "name": "stdout",
     "output_type": "stream",
     "text": [
      "\n"
     ]
    },
    {
     "data": {
      "application/vnd.jupyter.widget-view+json": {
       "model_id": "109180db7a5948dd84fea568c91efa65",
       "version_major": 2,
       "version_minor": 0
      },
      "text/plain": [
       "HBox(children=(IntProgress(value=0, max=166), HTML(value='')))"
      ]
     },
     "metadata": {},
     "output_type": "display_data"
    },
    {
     "name": "stderr",
     "output_type": "stream",
     "text": [
      "C:\\Users\\infomax\\Documents\\GitHub\\protobed\\venv\\lib\\site-packages\\django\\db\\models\\fields\\__init__.py:1421: RuntimeWarning: DateTimeField Newsdata.publish_date received a naive datetime (2019-06-21 00:00:00) while time zone support is active.\n",
      "  RuntimeWarning)\n",
      "C:\\Users\\infomax\\Documents\\GitHub\\protobed\\venv\\lib\\site-packages\\django\\db\\models\\fields\\__init__.py:1421: RuntimeWarning: DateTimeField Newsdata.publish_date received a naive datetime (2019-07-02 00:00:00) while time zone support is active.\n",
      "  RuntimeWarning)\n",
      "C:\\Users\\infomax\\Documents\\GitHub\\protobed\\venv\\lib\\site-packages\\django\\db\\models\\fields\\__init__.py:1421: RuntimeWarning: DateTimeField Newsdata.publish_date received a naive datetime (2019-06-20 00:00:00) while time zone support is active.\n",
      "  RuntimeWarning)\n",
      "C:\\Users\\infomax\\Documents\\GitHub\\protobed\\venv\\lib\\site-packages\\django\\db\\models\\fields\\__init__.py:1421: RuntimeWarning: DateTimeField Newsdata.publish_date received a naive datetime (2018-05-07 00:00:00) while time zone support is active.\n",
      "  RuntimeWarning)\n",
      "C:\\Users\\infomax\\Documents\\GitHub\\protobed\\venv\\lib\\site-packages\\django\\db\\models\\fields\\__init__.py:1421: RuntimeWarning: DateTimeField Newsdata.publish_date received a naive datetime (2018-09-10 00:00:00) while time zone support is active.\n",
      "  RuntimeWarning)\n",
      "C:\\Users\\infomax\\Documents\\GitHub\\protobed\\venv\\lib\\site-packages\\django\\db\\models\\fields\\__init__.py:1421: RuntimeWarning: DateTimeField Newsdata.publish_date received a naive datetime (2018-03-29 00:00:00) while time zone support is active.\n",
      "  RuntimeWarning)\n",
      "C:\\Users\\infomax\\Documents\\GitHub\\protobed\\venv\\lib\\site-packages\\django\\db\\models\\fields\\__init__.py:1421: RuntimeWarning: DateTimeField Newsdata.publish_date received a naive datetime (2018-06-26 00:00:00) while time zone support is active.\n",
      "  RuntimeWarning)\n",
      "C:\\Users\\infomax\\Documents\\GitHub\\protobed\\venv\\lib\\site-packages\\django\\db\\models\\fields\\__init__.py:1421: RuntimeWarning: DateTimeField Newsdata.publish_date received a naive datetime (2018-04-01 00:00:00) while time zone support is active.\n",
      "  RuntimeWarning)\n",
      "C:\\Users\\infomax\\Documents\\GitHub\\protobed\\venv\\lib\\site-packages\\django\\db\\models\\fields\\__init__.py:1421: RuntimeWarning: DateTimeField Newsdata.publish_date received a naive datetime (2018-07-02 00:00:00) while time zone support is active.\n",
      "  RuntimeWarning)\n",
      "C:\\Users\\infomax\\Documents\\GitHub\\protobed\\venv\\lib\\site-packages\\django\\db\\models\\fields\\__init__.py:1421: RuntimeWarning: DateTimeField Newsdata.publish_date received a naive datetime (2018-06-20 00:00:00) while time zone support is active.\n",
      "  RuntimeWarning)\n",
      "C:\\Users\\infomax\\Documents\\GitHub\\protobed\\venv\\lib\\site-packages\\django\\db\\models\\fields\\__init__.py:1421: RuntimeWarning: DateTimeField Newsdata.publish_date received a naive datetime (2016-05-11 00:00:00) while time zone support is active.\n",
      "  RuntimeWarning)\n",
      "C:\\Users\\infomax\\Documents\\GitHub\\protobed\\venv\\lib\\site-packages\\django\\db\\models\\fields\\__init__.py:1421: RuntimeWarning: DateTimeField Newsdata.publish_date received a naive datetime (2019-02-15 00:00:00) while time zone support is active.\n",
      "  RuntimeWarning)\n",
      "C:\\Users\\infomax\\Documents\\GitHub\\protobed\\venv\\lib\\site-packages\\django\\db\\models\\fields\\__init__.py:1421: RuntimeWarning: DateTimeField Newsdata.publish_date received a naive datetime (2019-02-08 00:00:00) while time zone support is active.\n",
      "  RuntimeWarning)\n",
      "C:\\Users\\infomax\\Documents\\GitHub\\protobed\\venv\\lib\\site-packages\\django\\db\\models\\fields\\__init__.py:1421: RuntimeWarning: DateTimeField Newsdata.publish_date received a naive datetime (2018-08-10 00:00:00) while time zone support is active.\n",
      "  RuntimeWarning)\n",
      "C:\\Users\\infomax\\Documents\\GitHub\\protobed\\venv\\lib\\site-packages\\django\\db\\models\\fields\\__init__.py:1421: RuntimeWarning: DateTimeField Newsdata.publish_date received a naive datetime (2018-08-01 00:00:00) while time zone support is active.\n",
      "  RuntimeWarning)\n",
      "C:\\Users\\infomax\\Documents\\GitHub\\protobed\\venv\\lib\\site-packages\\django\\db\\models\\fields\\__init__.py:1421: RuntimeWarning: DateTimeField Newsdata.publish_date received a naive datetime (2018-07-23 00:00:00) while time zone support is active.\n",
      "  RuntimeWarning)\n",
      "C:\\Users\\infomax\\Documents\\GitHub\\protobed\\venv\\lib\\site-packages\\django\\db\\models\\fields\\__init__.py:1421: RuntimeWarning: DateTimeField Newsdata.publish_date received a naive datetime (2018-04-12 00:00:00) while time zone support is active.\n",
      "  RuntimeWarning)\n"
     ]
    },
    {
     "name": "stdout",
     "output_type": "stream",
     "text": [
      "\n"
     ]
    },
    {
     "data": {
      "application/vnd.jupyter.widget-view+json": {
       "model_id": "368d82d56bc1401fb9078eaf48df0386",
       "version_major": 2,
       "version_minor": 0
      },
      "text/plain": [
       "HBox(children=(IntProgress(value=0, max=303), HTML(value='')))"
      ]
     },
     "metadata": {},
     "output_type": "display_data"
    },
    {
     "name": "stderr",
     "output_type": "stream",
     "text": [
      "C:\\Users\\infomax\\Documents\\GitHub\\protobed\\venv\\lib\\site-packages\\django\\db\\models\\fields\\__init__.py:1421: RuntimeWarning: DateTimeField Newsdata.publish_date received a naive datetime (2019-06-17 00:00:00) while time zone support is active.\n",
      "  RuntimeWarning)\n",
      "C:\\Users\\infomax\\Documents\\GitHub\\protobed\\venv\\lib\\site-packages\\django\\db\\models\\fields\\__init__.py:1421: RuntimeWarning: DateTimeField Newsdata.publish_date received a naive datetime (2019-06-14 00:00:00) while time zone support is active.\n",
      "  RuntimeWarning)\n",
      "C:\\Users\\infomax\\Documents\\GitHub\\protobed\\venv\\lib\\site-packages\\django\\db\\models\\fields\\__init__.py:1421: RuntimeWarning: DateTimeField Newsdata.publish_date received a naive datetime (2019-04-12 00:00:00) while time zone support is active.\n",
      "  RuntimeWarning)\n",
      "C:\\Users\\infomax\\Documents\\GitHub\\protobed\\venv\\lib\\site-packages\\django\\db\\models\\fields\\__init__.py:1421: RuntimeWarning: DateTimeField Newsdata.publish_date received a naive datetime (2019-03-15 00:00:00) while time zone support is active.\n",
      "  RuntimeWarning)\n",
      "C:\\Users\\infomax\\Documents\\GitHub\\protobed\\venv\\lib\\site-packages\\django\\db\\models\\fields\\__init__.py:1421: RuntimeWarning: DateTimeField Newsdata.publish_date received a naive datetime (2019-02-22 00:00:00) while time zone support is active.\n",
      "  RuntimeWarning)\n",
      "C:\\Users\\infomax\\Documents\\GitHub\\protobed\\venv\\lib\\site-packages\\django\\db\\models\\fields\\__init__.py:1421: RuntimeWarning: DateTimeField Newsdata.publish_date received a naive datetime (2019-02-19 00:00:00) while time zone support is active.\n",
      "  RuntimeWarning)\n"
     ]
    },
    {
     "name": "stdout",
     "output_type": "stream",
     "text": [
      "\n"
     ]
    },
    {
     "data": {
      "application/vnd.jupyter.widget-view+json": {
       "model_id": "3d2d174e13d048a584c600424ef7fb47",
       "version_major": 2,
       "version_minor": 0
      },
      "text/plain": [
       "HBox(children=(IntProgress(value=0, max=175), HTML(value='')))"
      ]
     },
     "metadata": {},
     "output_type": "display_data"
    },
    {
     "name": "stdout",
     "output_type": "stream",
     "text": [
      "\n"
     ]
    },
    {
     "data": {
      "application/vnd.jupyter.widget-view+json": {
       "model_id": "222a5a346df341829c2e6f26a5f8d8c1",
       "version_major": 2,
       "version_minor": 0
      },
      "text/plain": [
       "HBox(children=(IntProgress(value=0, max=451), HTML(value='')))"
      ]
     },
     "metadata": {},
     "output_type": "display_data"
    },
    {
     "name": "stderr",
     "output_type": "stream",
     "text": [
      "C:\\Users\\infomax\\Documents\\GitHub\\protobed\\venv\\lib\\site-packages\\django\\db\\models\\fields\\__init__.py:1421: RuntimeWarning: DateTimeField Newsdata.publish_date received a naive datetime (2016-08-26 00:00:00) while time zone support is active.\n",
      "  RuntimeWarning)\n",
      "C:\\Users\\infomax\\Documents\\GitHub\\protobed\\venv\\lib\\site-packages\\django\\db\\models\\fields\\__init__.py:1421: RuntimeWarning: DateTimeField Newsdata.publish_date received a naive datetime (2009-02-09 00:00:00) while time zone support is active.\n",
      "  RuntimeWarning)\n"
     ]
    },
    {
     "name": "stdout",
     "output_type": "stream",
     "text": [
      "\n"
     ]
    },
    {
     "data": {
      "application/vnd.jupyter.widget-view+json": {
       "model_id": "70b61cb4b7274b40a3b464a9e6b21e7f",
       "version_major": 2,
       "version_minor": 0
      },
      "text/plain": [
       "HBox(children=(IntProgress(value=0, max=525), HTML(value='')))"
      ]
     },
     "metadata": {},
     "output_type": "display_data"
    },
    {
     "name": "stderr",
     "output_type": "stream",
     "text": [
      "C:\\Users\\infomax\\Documents\\GitHub\\protobed\\venv\\lib\\site-packages\\django\\db\\models\\fields\\__init__.py:1421: RuntimeWarning: DateTimeField Newsdata.publish_date received a naive datetime (2019-05-24 00:00:00) while time zone support is active.\n",
      "  RuntimeWarning)\n",
      "C:\\Users\\infomax\\Documents\\GitHub\\protobed\\venv\\lib\\site-packages\\django\\db\\models\\fields\\__init__.py:1421: RuntimeWarning: DateTimeField Newsdata.publish_date received a naive datetime (2018-10-02 00:00:00) while time zone support is active.\n",
      "  RuntimeWarning)\n",
      "C:\\Users\\infomax\\Documents\\GitHub\\protobed\\venv\\lib\\site-packages\\django\\db\\models\\fields\\__init__.py:1421: RuntimeWarning: DateTimeField Newsdata.publish_date received a naive datetime (2018-10-23 00:00:00) while time zone support is active.\n",
      "  RuntimeWarning)\n",
      "C:\\Users\\infomax\\Documents\\GitHub\\protobed\\venv\\lib\\site-packages\\django\\db\\models\\fields\\__init__.py:1421: RuntimeWarning: DateTimeField Newsdata.publish_date received a naive datetime (2019-04-22 00:00:00) while time zone support is active.\n",
      "  RuntimeWarning)\n",
      "C:\\Users\\infomax\\Documents\\GitHub\\protobed\\venv\\lib\\site-packages\\django\\db\\models\\fields\\__init__.py:1421: RuntimeWarning: DateTimeField Newsdata.publish_date received a naive datetime (2019-05-10 00:00:00) while time zone support is active.\n",
      "  RuntimeWarning)\n",
      "C:\\Users\\infomax\\Documents\\GitHub\\protobed\\venv\\lib\\site-packages\\django\\db\\models\\fields\\__init__.py:1421: RuntimeWarning: DateTimeField Newsdata.publish_date received a naive datetime (2019-02-04 00:00:00) while time zone support is active.\n",
      "  RuntimeWarning)\n",
      "C:\\Users\\infomax\\Documents\\GitHub\\protobed\\venv\\lib\\site-packages\\django\\db\\models\\fields\\__init__.py:1421: RuntimeWarning: DateTimeField Newsdata.publish_date received a naive datetime (2018-12-21 00:00:00) while time zone support is active.\n",
      "  RuntimeWarning)\n",
      "C:\\Users\\infomax\\Documents\\GitHub\\protobed\\venv\\lib\\site-packages\\django\\db\\models\\fields\\__init__.py:1421: RuntimeWarning: DateTimeField Newsdata.publish_date received a naive datetime (2019-05-03 00:00:00) while time zone support is active.\n",
      "  RuntimeWarning)\n",
      "C:\\Users\\infomax\\Documents\\GitHub\\protobed\\venv\\lib\\site-packages\\django\\db\\models\\fields\\__init__.py:1421: RuntimeWarning: DateTimeField Newsdata.publish_date received a naive datetime (2018-11-16 00:00:00) while time zone support is active.\n",
      "  RuntimeWarning)\n",
      "C:\\Users\\infomax\\Documents\\GitHub\\protobed\\venv\\lib\\site-packages\\django\\db\\models\\fields\\__init__.py:1421: RuntimeWarning: DateTimeField Newsdata.publish_date received a naive datetime (2019-01-19 00:00:00) while time zone support is active.\n",
      "  RuntimeWarning)\n",
      "C:\\Users\\infomax\\Documents\\GitHub\\protobed\\venv\\lib\\site-packages\\django\\db\\models\\fields\\__init__.py:1421: RuntimeWarning: DateTimeField Newsdata.publish_date received a naive datetime (2019-01-07 00:00:00) while time zone support is active.\n",
      "  RuntimeWarning)\n",
      "C:\\Users\\infomax\\Documents\\GitHub\\protobed\\venv\\lib\\site-packages\\django\\db\\models\\fields\\__init__.py:1421: RuntimeWarning: DateTimeField Newsdata.publish_date received a naive datetime (2018-11-08 00:00:00) while time zone support is active.\n",
      "  RuntimeWarning)\n",
      "C:\\Users\\infomax\\Documents\\GitHub\\protobed\\venv\\lib\\site-packages\\django\\db\\models\\fields\\__init__.py:1421: RuntimeWarning: DateTimeField Newsdata.publish_date received a naive datetime (2019-08-30 00:00:00) while time zone support is active.\n",
      "  RuntimeWarning)\n"
     ]
    },
    {
     "name": "stdout",
     "output_type": "stream",
     "text": [
      "\n"
     ]
    },
    {
     "data": {
      "application/vnd.jupyter.widget-view+json": {
       "model_id": "39948834b9144995ba0e7b66599a6bd7",
       "version_major": 2,
       "version_minor": 0
      },
      "text/plain": [
       "HBox(children=(IntProgress(value=0, max=155), HTML(value='')))"
      ]
     },
     "metadata": {},
     "output_type": "display_data"
    },
    {
     "name": "stderr",
     "output_type": "stream",
     "text": [
      "C:\\Users\\infomax\\Documents\\GitHub\\protobed\\venv\\lib\\site-packages\\django\\db\\models\\fields\\__init__.py:1421: RuntimeWarning: DateTimeField Newsdata.publish_date received a naive datetime (2017-04-09 00:00:00) while time zone support is active.\n",
      "  RuntimeWarning)\n",
      "C:\\Users\\infomax\\Documents\\GitHub\\protobed\\venv\\lib\\site-packages\\django\\db\\models\\fields\\__init__.py:1421: RuntimeWarning: DateTimeField Newsdata.publish_date received a naive datetime (2018-12-30 00:00:00) while time zone support is active.\n",
      "  RuntimeWarning)\n",
      "C:\\Users\\infomax\\Documents\\GitHub\\protobed\\venv\\lib\\site-packages\\django\\db\\models\\fields\\__init__.py:1421: RuntimeWarning: DateTimeField Newsdata.publish_date received a naive datetime (2017-03-26 00:00:00) while time zone support is active.\n",
      "  RuntimeWarning)\n",
      "C:\\Users\\infomax\\Documents\\GitHub\\protobed\\venv\\lib\\site-packages\\django\\db\\models\\fields\\__init__.py:1421: RuntimeWarning: DateTimeField Newsdata.publish_date received a naive datetime (2017-04-02 00:00:00) while time zone support is active.\n",
      "  RuntimeWarning)\n",
      "C:\\Users\\infomax\\Documents\\GitHub\\protobed\\venv\\lib\\site-packages\\django\\db\\models\\fields\\__init__.py:1421: RuntimeWarning: DateTimeField Newsdata.publish_date received a naive datetime (2017-06-26 00:00:00) while time zone support is active.\n",
      "  RuntimeWarning)\n",
      "C:\\Users\\infomax\\Documents\\GitHub\\protobed\\venv\\lib\\site-packages\\django\\db\\models\\fields\\__init__.py:1421: RuntimeWarning: DateTimeField Newsdata.publish_date received a naive datetime (2019-07-24 00:00:00) while time zone support is active.\n",
      "  RuntimeWarning)\n",
      "C:\\Users\\infomax\\Documents\\GitHub\\protobed\\venv\\lib\\site-packages\\django\\db\\models\\fields\\__init__.py:1421: RuntimeWarning: DateTimeField Newsdata.publish_date received a naive datetime (2018-03-01 00:00:00) while time zone support is active.\n",
      "  RuntimeWarning)\n",
      "C:\\Users\\infomax\\Documents\\GitHub\\protobed\\venv\\lib\\site-packages\\django\\db\\models\\fields\\__init__.py:1421: RuntimeWarning: DateTimeField Newsdata.publish_date received a naive datetime (2019-04-18 00:00:00) while time zone support is active.\n",
      "  RuntimeWarning)\n",
      "C:\\Users\\infomax\\Documents\\GitHub\\protobed\\venv\\lib\\site-packages\\django\\db\\models\\fields\\__init__.py:1421: RuntimeWarning: DateTimeField Newsdata.publish_date received a naive datetime (2018-02-27 00:00:00) while time zone support is active.\n",
      "  RuntimeWarning)\n",
      "C:\\Users\\infomax\\Documents\\GitHub\\protobed\\venv\\lib\\site-packages\\django\\db\\models\\fields\\__init__.py:1421: RuntimeWarning: DateTimeField Newsdata.publish_date received a naive datetime (2019-05-07 00:00:00) while time zone support is active.\n",
      "  RuntimeWarning)\n",
      "C:\\Users\\infomax\\Documents\\GitHub\\protobed\\venv\\lib\\site-packages\\django\\db\\models\\fields\\__init__.py:1421: RuntimeWarning: DateTimeField Newsdata.publish_date received a naive datetime (2019-04-26 00:00:00) while time zone support is active.\n",
      "  RuntimeWarning)\n",
      "C:\\Users\\infomax\\Documents\\GitHub\\protobed\\venv\\lib\\site-packages\\django\\db\\models\\fields\\__init__.py:1421: RuntimeWarning: DateTimeField Newsdata.publish_date received a naive datetime (2018-09-14 00:00:00) while time zone support is active.\n",
      "  RuntimeWarning)\n",
      "C:\\Users\\infomax\\Documents\\GitHub\\protobed\\venv\\lib\\site-packages\\django\\db\\models\\fields\\__init__.py:1421: RuntimeWarning: DateTimeField Newsdata.publish_date received a naive datetime (2018-12-24 00:00:00) while time zone support is active.\n",
      "  RuntimeWarning)\n",
      "C:\\Users\\infomax\\Documents\\GitHub\\protobed\\venv\\lib\\site-packages\\django\\db\\models\\fields\\__init__.py:1421: RuntimeWarning: DateTimeField Newsdata.publish_date received a naive datetime (2019-05-21 00:00:00) while time zone support is active.\n",
      "  RuntimeWarning)\n",
      "C:\\Users\\infomax\\Documents\\GitHub\\protobed\\venv\\lib\\site-packages\\django\\db\\models\\fields\\__init__.py:1421: RuntimeWarning: DateTimeField Newsdata.publish_date received a naive datetime (2018-04-14 00:00:00) while time zone support is active.\n",
      "  RuntimeWarning)\n",
      "C:\\Users\\infomax\\Documents\\GitHub\\protobed\\venv\\lib\\site-packages\\django\\db\\models\\fields\\__init__.py:1421: RuntimeWarning: DateTimeField Newsdata.publish_date received a naive datetime (2017-12-19 00:00:00) while time zone support is active.\n",
      "  RuntimeWarning)\n",
      "C:\\Users\\infomax\\Documents\\GitHub\\protobed\\venv\\lib\\site-packages\\django\\db\\models\\fields\\__init__.py:1421: RuntimeWarning: DateTimeField Newsdata.publish_date received a naive datetime (2019-04-08 00:00:00) while time zone support is active.\n",
      "  RuntimeWarning)\n",
      "C:\\Users\\infomax\\Documents\\GitHub\\protobed\\venv\\lib\\site-packages\\django\\db\\models\\fields\\__init__.py:1421: RuntimeWarning: DateTimeField Newsdata.publish_date received a naive datetime (2019-01-30 00:00:00) while time zone support is active.\n",
      "  RuntimeWarning)\n",
      "C:\\Users\\infomax\\Documents\\GitHub\\protobed\\venv\\lib\\site-packages\\django\\db\\models\\fields\\__init__.py:1421: RuntimeWarning: DateTimeField Newsdata.publish_date received a naive datetime (2019-04-15 00:00:00) while time zone support is active.\n",
      "  RuntimeWarning)\n",
      "C:\\Users\\infomax\\Documents\\GitHub\\protobed\\venv\\lib\\site-packages\\django\\db\\models\\fields\\__init__.py:1421: RuntimeWarning: DateTimeField Newsdata.publish_date received a naive datetime (2019-02-18 00:00:00) while time zone support is active.\n",
      "  RuntimeWarning)\n",
      "C:\\Users\\infomax\\Documents\\GitHub\\protobed\\venv\\lib\\site-packages\\django\\db\\models\\fields\\__init__.py:1421: RuntimeWarning: DateTimeField Newsdata.publish_date received a naive datetime (2019-02-12 00:00:00) while time zone support is active.\n",
      "  RuntimeWarning)\n",
      "C:\\Users\\infomax\\Documents\\GitHub\\protobed\\venv\\lib\\site-packages\\django\\db\\models\\fields\\__init__.py:1421: RuntimeWarning: DateTimeField Newsdata.publish_date received a naive datetime (2019-03-26 00:00:00) while time zone support is active.\n",
      "  RuntimeWarning)\n",
      "C:\\Users\\infomax\\Documents\\GitHub\\protobed\\venv\\lib\\site-packages\\django\\db\\models\\fields\\__init__.py:1421: RuntimeWarning: DateTimeField Newsdata.publish_date received a naive datetime (2019-01-17 00:00:00) while time zone support is active.\n",
      "  RuntimeWarning)\n",
      "C:\\Users\\infomax\\Documents\\GitHub\\protobed\\venv\\lib\\site-packages\\django\\db\\models\\fields\\__init__.py:1421: RuntimeWarning: DateTimeField Newsdata.publish_date received a naive datetime (2019-01-14 00:00:00) while time zone support is active.\n",
      "  RuntimeWarning)\n",
      "C:\\Users\\infomax\\Documents\\GitHub\\protobed\\venv\\lib\\site-packages\\django\\db\\models\\fields\\__init__.py:1421: RuntimeWarning: DateTimeField Newsdata.publish_date received a naive datetime (2019-01-10 00:00:00) while time zone support is active.\n",
      "  RuntimeWarning)\n",
      "C:\\Users\\infomax\\Documents\\GitHub\\protobed\\venv\\lib\\site-packages\\django\\db\\models\\fields\\__init__.py:1421: RuntimeWarning: DateTimeField Newsdata.publish_date received a naive datetime (2016-11-01 00:00:00) while time zone support is active.\n",
      "  RuntimeWarning)\n"
     ]
    },
    {
     "name": "stdout",
     "output_type": "stream",
     "text": [
      "\n"
     ]
    },
    {
     "data": {
      "application/vnd.jupyter.widget-view+json": {
       "model_id": "6ced5d15e6294c368f2a6fa388775234",
       "version_major": 2,
       "version_minor": 0
      },
      "text/plain": [
       "HBox(children=(IntProgress(value=0, max=156), HTML(value='')))"
      ]
     },
     "metadata": {},
     "output_type": "display_data"
    },
    {
     "name": "stderr",
     "output_type": "stream",
     "text": [
      "C:\\Users\\infomax\\Documents\\GitHub\\protobed\\venv\\lib\\site-packages\\django\\db\\models\\fields\\__init__.py:1421: RuntimeWarning: DateTimeField Newsdata.publish_date received a naive datetime (2016-04-27 00:00:00) while time zone support is active.\n",
      "  RuntimeWarning)\n",
      "C:\\Users\\infomax\\Documents\\GitHub\\protobed\\venv\\lib\\site-packages\\django\\db\\models\\fields\\__init__.py:1421: RuntimeWarning: DateTimeField Newsdata.publish_date received a naive datetime (2017-08-28 00:00:00) while time zone support is active.\n",
      "  RuntimeWarning)\n"
     ]
    },
    {
     "name": "stdout",
     "output_type": "stream",
     "text": [
      "\n"
     ]
    },
    {
     "data": {
      "application/vnd.jupyter.widget-view+json": {
       "model_id": "5319d2a29255483a8f046eb24aff7541",
       "version_major": 2,
       "version_minor": 0
      },
      "text/plain": [
       "HBox(children=(IntProgress(value=0, max=172), HTML(value='')))"
      ]
     },
     "metadata": {},
     "output_type": "display_data"
    },
    {
     "name": "stderr",
     "output_type": "stream",
     "text": [
      "C:\\Users\\infomax\\Documents\\GitHub\\protobed\\venv\\lib\\site-packages\\django\\db\\models\\fields\\__init__.py:1421: RuntimeWarning: DateTimeField Newsdata.publish_date received a naive datetime (2019-01-28 00:00:00) while time zone support is active.\n",
      "  RuntimeWarning)\n"
     ]
    },
    {
     "name": "stdout",
     "output_type": "stream",
     "text": [
      "\n"
     ]
    },
    {
     "data": {
      "application/vnd.jupyter.widget-view+json": {
       "model_id": "bd4e7f347b1c42a797db6751ff811b91",
       "version_major": 2,
       "version_minor": 0
      },
      "text/plain": [
       "HBox(children=(IntProgress(value=0, max=157), HTML(value='')))"
      ]
     },
     "metadata": {},
     "output_type": "display_data"
    },
    {
     "name": "stderr",
     "output_type": "stream",
     "text": [
      "C:\\Users\\infomax\\Documents\\GitHub\\protobed\\venv\\lib\\site-packages\\django\\db\\models\\fields\\__init__.py:1421: RuntimeWarning: DateTimeField Newsdata.publish_date received a naive datetime (2017-05-15 00:00:00) while time zone support is active.\n",
      "  RuntimeWarning)\n",
      "C:\\Users\\infomax\\Documents\\GitHub\\protobed\\venv\\lib\\site-packages\\django\\db\\models\\fields\\__init__.py:1421: RuntimeWarning: DateTimeField Newsdata.publish_date received a naive datetime (2017-03-17 00:00:00) while time zone support is active.\n",
      "  RuntimeWarning)\n",
      "C:\\Users\\infomax\\Documents\\GitHub\\protobed\\venv\\lib\\site-packages\\django\\db\\models\\fields\\__init__.py:1421: RuntimeWarning: DateTimeField Newsdata.publish_date received a naive datetime (2019-06-26 00:00:00) while time zone support is active.\n",
      "  RuntimeWarning)\n",
      "C:\\Users\\infomax\\Documents\\GitHub\\protobed\\venv\\lib\\site-packages\\django\\db\\models\\fields\\__init__.py:1421: RuntimeWarning: DateTimeField Newsdata.publish_date received a naive datetime (2019-06-05 00:00:00) while time zone support is active.\n",
      "  RuntimeWarning)\n",
      "C:\\Users\\infomax\\Documents\\GitHub\\protobed\\venv\\lib\\site-packages\\django\\db\\models\\fields\\__init__.py:1421: RuntimeWarning: DateTimeField Newsdata.publish_date received a naive datetime (2019-05-17 00:00:00) while time zone support is active.\n",
      "  RuntimeWarning)\n",
      "C:\\Users\\infomax\\Documents\\GitHub\\protobed\\venv\\lib\\site-packages\\django\\db\\models\\fields\\__init__.py:1421: RuntimeWarning: DateTimeField Newsdata.publish_date received a naive datetime (2019-05-08 00:00:00) while time zone support is active.\n",
      "  RuntimeWarning)\n",
      "C:\\Users\\infomax\\Documents\\GitHub\\protobed\\venv\\lib\\site-packages\\django\\db\\models\\fields\\__init__.py:1421: RuntimeWarning: DateTimeField Newsdata.publish_date received a naive datetime (2018-12-19 00:00:00) while time zone support is active.\n",
      "  RuntimeWarning)\n",
      "C:\\Users\\infomax\\Documents\\GitHub\\protobed\\venv\\lib\\site-packages\\django\\db\\models\\fields\\__init__.py:1421: RuntimeWarning: DateTimeField Newsdata.publish_date received a naive datetime (2019-03-18 00:00:00) while time zone support is active.\n",
      "  RuntimeWarning)\n",
      "C:\\Users\\infomax\\Documents\\GitHub\\protobed\\venv\\lib\\site-packages\\django\\db\\models\\fields\\__init__.py:1421: RuntimeWarning: DateTimeField Newsdata.publish_date received a naive datetime (2018-12-05 00:00:00) while time zone support is active.\n",
      "  RuntimeWarning)\n",
      "C:\\Users\\infomax\\Documents\\GitHub\\protobed\\venv\\lib\\site-packages\\django\\db\\models\\fields\\__init__.py:1421: RuntimeWarning: DateTimeField Newsdata.publish_date received a naive datetime (2018-11-30 00:00:00) while time zone support is active.\n",
      "  RuntimeWarning)\n",
      "C:\\Users\\infomax\\Documents\\GitHub\\protobed\\venv\\lib\\site-packages\\django\\db\\models\\fields\\__init__.py:1421: RuntimeWarning: DateTimeField Newsdata.publish_date received a naive datetime (2018-11-15 00:00:00) while time zone support is active.\n",
      "  RuntimeWarning)\n",
      "C:\\Users\\infomax\\Documents\\GitHub\\protobed\\venv\\lib\\site-packages\\django\\db\\models\\fields\\__init__.py:1421: RuntimeWarning: DateTimeField Newsdata.publish_date received a naive datetime (2015-09-03 00:00:00) while time zone support is active.\n",
      "  RuntimeWarning)\n",
      "C:\\Users\\infomax\\Documents\\GitHub\\protobed\\venv\\lib\\site-packages\\django\\db\\models\\fields\\__init__.py:1421: RuntimeWarning: DateTimeField Newsdata.publish_date received a naive datetime (2010-04-05 00:00:00) while time zone support is active.\n",
      "  RuntimeWarning)\n"
     ]
    },
    {
     "name": "stdout",
     "output_type": "stream",
     "text": [
      "\n"
     ]
    },
    {
     "data": {
      "application/vnd.jupyter.widget-view+json": {
       "model_id": "fb2026e8a8cf49e28051881091f0b605",
       "version_major": 2,
       "version_minor": 0
      },
      "text/plain": [
       "HBox(children=(IntProgress(value=0, max=1485), HTML(value='')))"
      ]
     },
     "metadata": {},
     "output_type": "display_data"
    },
    {
     "name": "stderr",
     "output_type": "stream",
     "text": [
      "C:\\Users\\infomax\\Documents\\GitHub\\protobed\\venv\\lib\\site-packages\\django\\db\\models\\fields\\__init__.py:1421: RuntimeWarning: DateTimeField Newsdata.publish_date received a naive datetime (2018-03-16 00:00:00) while time zone support is active.\n",
      "  RuntimeWarning)\n",
      "C:\\Users\\infomax\\Documents\\GitHub\\protobed\\venv\\lib\\site-packages\\django\\db\\models\\fields\\__init__.py:1421: RuntimeWarning: DateTimeField Newsdata.publish_date received a naive datetime (2017-12-22 00:00:00) while time zone support is active.\n",
      "  RuntimeWarning)\n",
      "C:\\Users\\infomax\\Documents\\GitHub\\protobed\\venv\\lib\\site-packages\\django\\db\\models\\fields\\__init__.py:1421: RuntimeWarning: DateTimeField Newsdata.publish_date received a naive datetime (2019-07-14 00:00:00) while time zone support is active.\n",
      "  RuntimeWarning)\n",
      "C:\\Users\\infomax\\Documents\\GitHub\\protobed\\venv\\lib\\site-packages\\django\\db\\models\\fields\\__init__.py:1421: RuntimeWarning: DateTimeField Newsdata.publish_date received a naive datetime (2019-04-02 00:00:00) while time zone support is active.\n",
      "  RuntimeWarning)\n",
      "C:\\Users\\infomax\\Documents\\GitHub\\protobed\\venv\\lib\\site-packages\\django\\db\\models\\fields\\__init__.py:1421: RuntimeWarning: DateTimeField Newsdata.publish_date received a naive datetime (2019-03-01 00:00:00) while time zone support is active.\n",
      "  RuntimeWarning)\n",
      "C:\\Users\\infomax\\Documents\\GitHub\\protobed\\venv\\lib\\site-packages\\django\\db\\models\\fields\\__init__.py:1421: RuntimeWarning: DateTimeField Newsdata.publish_date received a naive datetime (2019-01-02 00:00:00) while time zone support is active.\n",
      "  RuntimeWarning)\n",
      "C:\\Users\\infomax\\Documents\\GitHub\\protobed\\venv\\lib\\site-packages\\django\\db\\models\\fields\\__init__.py:1421: RuntimeWarning: DateTimeField Newsdata.publish_date received a naive datetime (2018-12-17 00:00:00) while time zone support is active.\n",
      "  RuntimeWarning)\n",
      "C:\\Users\\infomax\\Documents\\GitHub\\protobed\\venv\\lib\\site-packages\\django\\db\\models\\fields\\__init__.py:1421: RuntimeWarning: DateTimeField Newsdata.publish_date received a naive datetime (2017-10-11 00:00:00) while time zone support is active.\n",
      "  RuntimeWarning)\n",
      "C:\\Users\\infomax\\Documents\\GitHub\\protobed\\venv\\lib\\site-packages\\django\\db\\models\\fields\\__init__.py:1421: RuntimeWarning: DateTimeField Newsdata.publish_date received a naive datetime (2017-08-23 00:00:00) while time zone support is active.\n",
      "  RuntimeWarning)\n",
      "C:\\Users\\infomax\\Documents\\GitHub\\protobed\\venv\\lib\\site-packages\\django\\db\\models\\fields\\__init__.py:1421: RuntimeWarning: DateTimeField Newsdata.publish_date received a naive datetime (2017-03-16 00:00:00) while time zone support is active.\n",
      "  RuntimeWarning)\n",
      "C:\\Users\\infomax\\Documents\\GitHub\\protobed\\venv\\lib\\site-packages\\django\\db\\models\\fields\\__init__.py:1421: RuntimeWarning: DateTimeField Newsdata.publish_date received a naive datetime (2016-09-29 00:00:00) while time zone support is active.\n",
      "  RuntimeWarning)\n",
      "C:\\Users\\infomax\\Documents\\GitHub\\protobed\\venv\\lib\\site-packages\\django\\db\\models\\fields\\__init__.py:1421: RuntimeWarning: DateTimeField Newsdata.publish_date received a naive datetime (2016-08-05 00:00:00) while time zone support is active.\n",
      "  RuntimeWarning)\n",
      "C:\\Users\\infomax\\Documents\\GitHub\\protobed\\venv\\lib\\site-packages\\django\\db\\models\\fields\\__init__.py:1421: RuntimeWarning: DateTimeField Newsdata.publish_date received a naive datetime (2016-03-28 00:00:00) while time zone support is active.\n",
      "  RuntimeWarning)\n",
      "C:\\Users\\infomax\\Documents\\GitHub\\protobed\\venv\\lib\\site-packages\\django\\db\\models\\fields\\__init__.py:1421: RuntimeWarning: DateTimeField Newsdata.publish_date received a naive datetime (2016-03-10 00:00:00) while time zone support is active.\n",
      "  RuntimeWarning)\n",
      "C:\\Users\\infomax\\Documents\\GitHub\\protobed\\venv\\lib\\site-packages\\django\\db\\models\\fields\\__init__.py:1421: RuntimeWarning: DateTimeField Newsdata.publish_date received a naive datetime (2015-12-07 00:00:00) while time zone support is active.\n",
      "  RuntimeWarning)\n"
     ]
    },
    {
     "name": "stdout",
     "output_type": "stream",
     "text": [
      "\n"
     ]
    },
    {
     "data": {
      "application/vnd.jupyter.widget-view+json": {
       "model_id": "40e95b54a33841938387284a4b457689",
       "version_major": 2,
       "version_minor": 0
      },
      "text/plain": [
       "HBox(children=(IntProgress(value=0, max=637), HTML(value='')))"
      ]
     },
     "metadata": {},
     "output_type": "display_data"
    }
   ],
   "source": [
    "# bulk_newsdata = []\n",
    "i = 1\n",
    "\n",
    "for publisher, articles in tqdm(list(src.items())[:]):\n",
    "    for article in tqdm(articles):\n",
    "        try:\n",
    "            article.download()\n",
    "            article.parse()\n",
    "\n",
    "            publish_date = article.publish_date\n",
    "            text = article.text\n",
    "\n",
    "            if (text!='') and (publish_date is not None):\n",
    "                obj = Newsdata()\n",
    "                obj.id = i\n",
    "                obj.text = article.text\n",
    "                obj.authors = ','.join(article.authors)\n",
    "                obj.url = article.url\n",
    "                obj.title = article.title\n",
    "                obj.publish_date = pd.Timestamp(article.publish_date)\n",
    "                obj.publisher = publisher\n",
    "\n",
    "                doc = nlp(article.text)\n",
    "                obj.words = ','.join([str(noun) for noun in doc.noun_chunks])\n",
    "                obj.save()\n",
    "                \n",
    "                i += 1\n",
    "\n",
    "                #bulk_newsdata.append(obj)\n",
    "                \n",
    "        except:\n",
    "            continue"
   ]
  },
  {
   "cell_type": "code",
   "execution_count": 242,
   "metadata": {},
   "outputs": [],
   "source": [
    "#Newsdata.objects.bulk_create(bulk_newsdata);"
   ]
  },
  {
   "cell_type": "code",
   "execution_count": 11,
   "metadata": {},
   "outputs": [
    {
     "data": {
      "text/plain": [
       "<newspaper.article.Article at 0x24dd3dc90b8>"
      ]
     },
     "execution_count": 11,
     "metadata": {},
     "output_type": "execute_result"
    }
   ],
   "source": [
    "src['cnn'][0]"
   ]
  },
  {
   "cell_type": "code",
   "execution_count": 12,
   "metadata": {
    "collapsed": true
   },
   "outputs": [
    {
     "name": "stdout",
     "output_type": "stream",
     "text": [
      "https://cnn.com/2019/08/15/sport/joshua-ruiz-boxing-saudi-arabia-hearn-spt-intl/index.html\n",
      "2019-08-15 00:00:00\n",
      "(CNN) Muhammad Ali's fights against George Foreman -- \"the Rumble in the Jungle\" -- and Joe Frazier -- the \"Thrilla in Manila\" -- helped establish boxing's heavyweight division in the global public's consciousness.\n",
      "\n",
      "Boxing promoter Eddie Hearn is hoping the rematch between Anthony Joshua and Andy Ruiz Jr. in Saudi Arabia -- dubbed the \"Clash of the Dunes\" -- could do the same and \"change boxing forever.\"\n",
      "\n",
      "The fight is due to be held in Diriyah, on the outskirts of Riyadh, on December 7.\n",
      "\n",
      "Saudi Arabia has hosted a number of fights in recent times, including Amir Khan's win over Billy Dib, but Amnesty International UK has urged Joshua to \"inform himself of the human rights situation\" in the Middle East country ahead of the rematch.\n",
      "\n",
      "\"We had approaches from Saudi Arabia, Dubai, Qatar and Abu Dhabi,\" Hearn told a media conference in London, explaining the decision to stage the fight In Riyadh.\n",
      "\n",
      "\"We wanted to go somewhere that believed in the sport of boxing, which had a vision. We already knew Saudi Arabia was for real and knew they were investing in the sport of boxing. That was very important for us.\"\n",
      "\n",
      "Boxing promoter Eddie Hearn says the Saudi Arabia rematch could change boxing forever.\n",
      "\n",
      "'Sportswash'\n",
      "\n",
      "Saudi Arabia has recently hosted sporting events such as soccer's Italian Super Cup, the opening race of the 2018-19 Formula E season and will stage the world's richest horse race in 2020.\n",
      "\n",
      "However, there are fears over the current human rights crackdown \"with women's rights activists, lawyers and members of the Shia minority community all being targeted,\" according to Amnesty International UK.\n",
      "\n",
      "\"It's likely to be yet another opportunity for the Saudi authorities to try to 'sportswash' their severely tarnished image,\" said Felix Jakens, Amnesty International UK's Head of Campaigns.\n",
      "\n",
      "\"I knew that when we made the decision not every response would be positive, and that there would be criticism and controversy,\" Hearn told the Guardian, in response to the criticism of staging the fight in Saudi Arabia. \"I'm a boxing promoter and sometimes the criticism and the curiosity will lead to an event of an extraordinary magnitude.\"\n",
      "\n",
      "Hearn also believes the country's growing population -- over 34 million -- can give boxing a platform to reach new levels of popularity.\n",
      "\n",
      "\"If Saudi Arabia is going to invest in these fights, with the population they have, with the potential to grow the sport of boxing, you could be seeing a big change in the dynamics of the sport, which truly excites me,\" Hearn added.\n",
      "\n",
      "CNN has reached out to Saudi Arabian government officials but has yet to receive a reply.\n",
      "\n",
      "JUST WATCHED Tyson Fury looking to save lives and win belts Replay More Videos ... MUST WATCH Tyson Fury looking to save lives and win belts 04:18\n",
      "\n",
      "Ruiz confusion\n",
      "\n",
      "On Wednesday, a video on social media appeared to show Ruiz Jr. dismissing the fight would be held in Saudi Arabia and a widely reported television appearance later added to the confusion.\n",
      "\n",
      "\"I have not signed anything yet, we are negotiating everything,\" he told ESPN in Mexico, before stating he would prefer the rematch to take place in New York.\n",
      "\n",
      "However, Hearn said that both fighters have signed the contract and confirmed the fight would go ahead.\n",
      "\n",
      "Ruiz, who was born in California but has Mexican parents, had made calls for the rematch to be held in Tijuana where he made his professional debut in 2009.\n",
      "\n",
      "The Principality Stadium in Wales -- the site of two professional victories for Joshua -- had previously been thought of as the most likely site for the fight.\n",
      "\n",
      "\"Ruiz had a moan about the UK,\" added Hearn. \"We said: there's your neutral venue.\"\n"
     ]
    }
   ],
   "source": [
    "article = src['cnn'][10]\n",
    "article.download()\n",
    "article.parse()\n",
    "print(article.url)\n",
    "print(article.publish_date)\n",
    "print(article.text)"
   ]
  },
  {
   "cell_type": "code",
   "execution_count": 17,
   "metadata": {},
   "outputs": [],
   "source": [
    "# Newsdata.objects.all().delete();\n",
    "obj = Newsdata()\n",
    "obj.id = 1\n",
    "obj.text = article.text\n",
    "obj.authors = ','.join(article.authors)\n",
    "obj.url = article.url\n",
    "obj.title = article.title\n",
    "obj.publish_date = pd.Timestamp(article.publish_date)\n",
    "obj.publisher = 'cnn'\n",
    "obj.save()"
   ]
  },
  {
   "cell_type": "code",
   "execution_count": null,
   "metadata": {},
   "outputs": [],
   "source": [
    "#bulk_newsdata = []\n",
    "ibrands = list(pd.read_excel('data/keywords and logos.xlsx', sheet_name='20190430').itertuples())[3:]\n",
    "\n",
    "for i, row in enumerate(tqdm(sorted(ibrands, key=lambda x:x.shortname)[::-1])):\n",
    "    obj = Brand()\n",
    "    obj.id = i+1\n",
    "    obj.name = row.shortname\n",
    "    obj.fullname_kr = row.koname\n",
    "    obj.fullname_en = row.fullname\n",
    "    obj.keywords = row.keywords\n",
    "    # obj.website = row.website\n",
    "    obj.origin = row.origin\n",
    "    obj.awareness = row.awareness\n",
    "    obj.category = row.category.lower()\n",
    "    obj.description = ''\n",
    "    # obj.history = ''\n",
    "    obj.image = os.path.join('brand_images', get_logo_fname(row.shortname, 'uploads/brand_images'))\n",
    "    bulk_brand.append(obj)\n",
    "    \n",
    "#Brand.objects.bulk_create(bulk_brand);"
   ]
  },
  {
   "cell_type": "code",
   "execution_count": null,
   "metadata": {},
   "outputs": [],
   "source": []
  },
  {
   "cell_type": "code",
   "execution_count": null,
   "metadata": {},
   "outputs": [],
   "source": []
  },
  {
   "cell_type": "code",
   "execution_count": null,
   "metadata": {},
   "outputs": [],
   "source": []
  },
  {
   "cell_type": "code",
   "execution_count": null,
   "metadata": {},
   "outputs": [],
   "source": []
  },
  {
   "cell_type": "code",
   "execution_count": null,
   "metadata": {},
   "outputs": [],
   "source": []
  },
  {
   "cell_type": "code",
   "execution_count": null,
   "metadata": {},
   "outputs": [],
   "source": []
  },
  {
   "cell_type": "code",
   "execution_count": null,
   "metadata": {},
   "outputs": [],
   "source": []
  },
  {
   "cell_type": "code",
   "execution_count": null,
   "metadata": {},
   "outputs": [],
   "source": []
  },
  {
   "cell_type": "code",
   "execution_count": null,
   "metadata": {},
   "outputs": [],
   "source": []
  },
  {
   "cell_type": "code",
   "execution_count": 64,
   "metadata": {},
   "outputs": [],
   "source": [
    "import requests"
   ]
  },
  {
   "cell_type": "code",
   "execution_count": 81,
   "metadata": {},
   "outputs": [],
   "source": [
    "url = 'https://newsapi.org/v2/everything?sources=polygon&language=en&apiKey=bfb917bca91c435d9c7efd247d95227b'\n",
    "resp = requests.get(url)"
   ]
  },
  {
   "cell_type": "code",
   "execution_count": 82,
   "metadata": {},
   "outputs": [
    {
     "data": {
      "text/plain": [
       "{'status': 'ok',\n",
       " 'totalResults': 641,\n",
       " 'articles': [{'source': {'id': 'polygon', 'name': 'Polygon'},\n",
       "   'author': 'Palmer Haasch',\n",
       "   'title': 'Every new anime series & movie on Netflix in August',\n",
       "   'description': 'After the release of Neon Genesis Evangelion in June, July and August have been slightly dry anime-wise for Netflix. However, a number of original series like Cannon Busters, Carole & Tuesday, and Kengan Ashura have been or will be released, alongside documen…',\n",
       "   'url': 'https://www.polygon.com/2019/8/16/20809194/netflix-new-anime-august-2019-shows-carole-and-tuesday-cannon-busters-kengan-ashura-release-dates',\n",
       "   'urlToImage': 'https://cdn.vox-cdn.com/thumbor/nxAj8jKnfIEgWaJAzcZmoAGc7FU=/0x24:1436x776/fit-in/1200x630/cdn.vox-cdn.com/uploads/chorus_asset/file/19016092/image__2_.jpg',\n",
       "   'publishedAt': '2019-08-17T00:45:11Z',\n",
       "   'content': 'June was a monster month of anime for Netflix. The series finally gave a legal home to Hideaki Annos seminal work Neon Genesis Evangelion, while emotionally laden series like March Comes in Like a Lion and A Silent Voice also hit the platform. Those releases … [+3959 chars]'},\n",
       "  {'source': {'id': 'polygon', 'name': 'Polygon'},\n",
       "   'author': 'Palmer Haasch',\n",
       "   'title': 'The best thing about Netflix’s Invader Zim: Enter the Florpus is Dib getting what he wants',\n",
       "   'description': 'Invader Zim returned today with a Netflix special titled Enter the Florpus. The special brings back classic characters like Zim, Gir, Dib, Gaz, Minimoose, and Professor Membrane. It also digs into the relationship between Dib and his father, which has histori…',\n",
       "   'url': 'https://www.polygon.com/2019/8/16/20808600/invader-zim-enter-the-florpus-dib-professor-membrane-review',\n",
       "   'urlToImage': 'https://cdn.vox-cdn.com/thumbor/lIb1SJPljj3hr17Lkrdw1DwSbxg=/0x75:3840x2085/fit-in/1200x630/cdn.vox-cdn.com/uploads/chorus_asset/file/18995331/Zim_Still_3.png',\n",
       "   'publishedAt': '2019-08-16T22:00:00Z',\n",
       "   'content': 'Invader Zim is fully back on its typical Invader Zim bullshit in Enter the Florpus, a new Netflix special that revisits the series over 10 years after it went off the air. \\r\\nThe special revisits the perpetual conflict between Zim and Dib, who are both feeling… [+3396 chars]'},\n",
       "  {'source': {'id': 'polygon', 'name': 'Polygon'},\n",
       "   'author': 'Russ Frushtick',\n",
       "   'title': 'Respawn reverses course after Apex Legends loot box controversy',\n",
       "   'description': 'After negatively reacting to the news that certain cosmetics were locked behind loot boxes, fans will now be able to purchase Iron Crown skins directly.',\n",
       "   'url': 'https://www.polygon.com/2019/8/16/20809376/apex-legends-loot-boxes-skins-iron-crown',\n",
       "   'urlToImage': 'https://cdn.vox-cdn.com/thumbor/xbnR4oQGCPEEYnzqnzubkv6rD4U=/0x31:1600x869/fit-in/1200x630/cdn.vox-cdn.com/uploads/chorus_asset/file/18969565/Iron_crown_patch.png',\n",
       "   'publishedAt': '2019-08-16T21:57:22Z',\n",
       "   'content': 'Respawn Entertainment/Electronic Arts Fans will now be able to purchase Iron Crown skins directly Earlier this week, Respawn launched the Iron Crown event in Apex Legends. The event introduced a handful of new skins to the game, but all of these cosmetics wer… [+1168 chars]'},\n",
       "  {'source': {'id': 'polygon', 'name': 'Polygon'},\n",
       "   'author': 'Ryan Gilliam',\n",
       "   'title': 'Destiny 2: Shadowkeep will see reduced player numbers, damage buff changes',\n",
       "   'description': 'Destiny 2 damage has gotten out of control over the past two years. With Destiny 2: Shadowkeep, Bungie intends to reduce player access to Supers, heavy ammo, and reduce damage buffs and debuffs.',\n",
       "   'url': 'https://www.polygon.com/2019/8/16/20809139/destiny-2-shadowkeep-damage-buffs-debuffs-numbers-reduced-enemy-immunity',\n",
       "   'urlToImage': 'https://cdn.vox-cdn.com/thumbor/T8KcRLO32Z9j3B_H9u_4IXfEpCI=/35x0:1406x718/fit-in/1200x630/cdn.vox-cdn.com/uploads/chorus_asset/file/10781951/strikes_desktop.jpg',\n",
       "   'publishedAt': '2019-08-16T20:30:00Z',\n",
       "   'content': 'Bungie/Activision Few Supers and less access to heavy ammo is also on the way After two full years of Destiny 2, some player powers have gotten a bit out of hand. Every expansion or season that goes by, it gets easier and easier to hit 999,999 damage on a onc… [+2560 chars]'},\n",
       "  {'source': {'id': 'polygon', 'name': 'Polygon'},\n",
       "   'author': 'Matt Patches',\n",
       "   'title': 'Cold Case Hammarskjöld is like a twist-filled, true crime podcast in movie form',\n",
       "   'description': 'Mads Brügger’s new documentary is like Serial for the 1961 plane crash death of UN General Secretary Dag Hammarskjöld. The movie, now in theaters, punctures a conspiracy theory and uncovers a plot involving African politics, shadow government orgs, and the AI…',\n",
       "   'url': 'https://www.polygon.com/2019/8/16/20805810/cold-case-hammarskjold-review-true-crime-documentary',\n",
       "   'urlToImage': 'https://cdn.vox-cdn.com/thumbor/pBtFRPADb6gYTFmQLHrCNsQCE4Y=/0x340:3240x2036/fit-in/1200x630/cdn.vox-cdn.com/uploads/chorus_asset/file/18972055/1.jpg',\n",
       "   'publishedAt': '2019-08-16T20:13:09Z',\n",
       "   'content': 'You know the feeling you have when youre really close to something, but youre further away than ever before?\\r\\nDocumentarian Mads Brügger didnt particularly care about Dag Hammarskjöld when he began investigating the mysterious plane crash that took the U.N. S… [+3979 chars]'},\n",
       "  {'source': {'id': 'polygon', 'name': 'Polygon'},\n",
       "   'author': 'Owen S. Good',\n",
       "   'title': 'Travis Strikes Again gets a PS4 and PC launch date',\n",
       "   'description': 'Travis Strikes Again: No More Heroes launches Oct. 17 on PlayStation 4 and Windows PC. The launch includes two DLC extensions that followed the game when it originally debuted on Nintendo Switch in January 2019.',\n",
       "   'url': 'https://www.polygon.com/2019/8/16/20809213/travis-strikes-again-no-more-heroes-release-dates-pc-ps4-steam',\n",
       "   'urlToImage': 'https://cdn.vox-cdn.com/thumbor/lKVRPpIaCab5TBS9-Lp9Hb5ygb8=/0x20:1176x636/fit-in/1200x630/cdn.vox-cdn.com/uploads/chorus_asset/file/9146411/DIf1sTUXoAAAIUu.jpg',\n",
       "   'publishedAt': '2019-08-16T20:06:11Z',\n",
       "   'content': 'Grasshopper Manufacture Travis Touchdown and his Beam Katana arrive in October Travis Strikes Again: No More Heroes has a launch date on PlayStation 4 and Windows PC : Oct. 17. The third game in Suda51’s eclectic series launched in January on Nintendo Switch.… [+828 chars]'},\n",
       "  {'source': {'id': 'polygon', 'name': 'Polygon'},\n",
       "   'author': 'Ryan Gilliam',\n",
       "   'title': 'Bungie is retooling Destiny 2’s PvP this fall, teasing the return of Trials',\n",
       "   'description': 'Destiny 2’s Crucible has been in a tough spot for a few months. PvP players have struggled to find the fun, but Bungie is revitalizing the mode with new maps, playlists, and the potential return of Trials of Osiris.',\n",
       "   'url': 'https://www.polygon.com/2019/8/16/20809001/destiny-2-shadowkeep-pvp-crucible-rework-trials-nine-osiris-elimination-mode-playlist',\n",
       "   'urlToImage': 'https://cdn.vox-cdn.com/thumbor/OBduzGBrLnmmetHk-z-_5s-K33k=/0x38:1920x1043/fit-in/1200x630/cdn.vox-cdn.com/uploads/chorus_asset/file/9239041/Destiny_2_20170912214832.jpg',\n",
       "   'publishedAt': '2019-08-16T19:39:06Z',\n",
       "   'content': 'Image: Bungie via Polygon Some fan-favorite Destiny maps are also returning Destiny franchise director Luke Smith spelled out major changes for Destiny 2: Shadowkeep ’s player-versus-player modes in his final Director’s Cut blog post on Friday. Destiny 2 ’s m… [+2157 chars]'},\n",
       "  {'source': {'id': 'polygon', 'name': 'Polygon'},\n",
       "   'author': 'Karen Han',\n",
       "   'title': 'Buñuel in the Labyrinth of the Turtles is provocative animated look at a provocateur',\n",
       "   'description': 'Salvador Simó’s new animated film about Luis Buñuel takes place during the shooting of Las Hurdes. It’s gorgeous to look at, but perhaps a little difficult to follow for anyone unfamiliar with Buñuel’s work. In limited release now.',\n",
       "   'url': 'https://www.polygon.com/2019/8/16/20807815/bunuel-in-the-labyrinth-of-the-turtles-review-animated-films',\n",
       "   'urlToImage': 'https://cdn.vox-cdn.com/thumbor/rPWQVfv52i2kYUKm8dQ7W5gUcco=/0x0:1920x1005/fit-in/1200x630/cdn.vox-cdn.com/uploads/chorus_asset/file/18994648/ae02cb_0aa250362bdb417e9e6ba5d8e8d5565a_mv2.jpg',\n",
       "   'publishedAt': '2019-08-16T19:20:04Z',\n",
       "   'content': 'Salvador Simós animated film Buñuel in the Labyrinth of the Turtles tells the real-life story about a surrealist through the marvels of animation, bringing life to his visions in a way that live action cant quite embody. But while the movies broader musings o… [+3910 chars]'},\n",
       "  {'source': {'id': 'polygon', 'name': 'Polygon'},\n",
       "   'author': 'Michael McWhertor',\n",
       "   'title': 'Nintendo exchanging some Switch consoles to new model with better battery life',\n",
       "   'description': 'If you bought a Switch on or after July 17, you could be eligible for a return with Nintendo to receive the upgraded Nintendo Switch model with improved battery life.',\n",
       "   'url': 'https://www.polygon.com/2019/8/16/20809056/nintendo-switch-exchange-upgrade-new-battery-life',\n",
       "   'urlToImage': 'https://cdn.vox-cdn.com/thumbor/-lLzKyWXYuuIez-e7ToenqFDrU0=/0x220:2040x1288/fit-in/1200x630/cdn.vox-cdn.com/uploads/chorus_asset/file/8030119/nintendo_switch_with_dock.jpg',\n",
       "   'publishedAt': '2019-08-16T19:12:52Z',\n",
       "   'content': 'Nintendo is giving some Switch owners the option to trade in their recently purchased systems for the latest revision of the console that offers improved battery life. But the offer to upgrade to the latest model of the Nintendo Switch appears to be limited t… [+1588 chars]'},\n",
       "  {'source': {'id': 'polygon', 'name': 'Polygon'},\n",
       "   'author': 'Chelsea Stark',\n",
       "   'title': 'The definitive Alvin and the Chipmunks movie ranking (if you only watch YouTube clip compilations)',\n",
       "   'description': 'The Polygon Show reminisces about Rocko’s Modern Life, learns about Ouran High School Host Club, and stans the criminally underappreciated Blue Lion house.',\n",
       "   'url': 'https://www.polygon.com/the-polygon-show/2019/8/16/20808961/the-polygon-show-rockos-modern-life-static-cling-intelligence-qube-blue-lions',\n",
       "   'urlToImage': 'https://cdn.vox-cdn.com/thumbor/vk25fJ0z6Bitg3FpM_Ic7jKdTkQ=/4x0:1437x750/fit-in/1200x630/cdn.vox-cdn.com/uploads/chorus_asset/file/18995486/alvin_and_the_chipmunks_chipwrecked.jpg',\n",
       "   'publishedAt': '2019-08-16T18:24:58Z',\n",
       "   'content': 'Did you know Jason Lee receives top billing in Alvin and the Chipmunks: The Squeakquel, despite only appearing in a full-body cast for most of the film? \\r\\nThese horrifying revelations were brought on The Polygon Show by Allegra this week, who mysteriously wat… [+1052 chars]'},\n",
       "  {'source': {'id': 'polygon', 'name': 'Polygon'},\n",
       "   'author': 'Austen Goslin',\n",
       "   'title': 'New deleted scene from Super Mario Bros. movie unearthed',\n",
       "   'description': 'The dedicated fans at Super Mario Bros. The Movie Archive have finally released one of the deleted Super Mario Bros. movie scenes they found back in May. The scene will eventually be part of the site’s hopeful Blu-ray re-release of the 1993 cult classic.',\n",
       "   'url': 'https://www.polygon.com/2019/8/16/20808895/smbmovie-new-deleted-scene-super-mario-bros-movie',\n",
       "   'urlToImage': 'https://cdn.vox-cdn.com/thumbor/v5NwmUCedfmFEi7pSHsobsUYP0I=/0x0:1280x670/fit-in/1200x630/cdn.vox-cdn.com/uploads/chorus_asset/file/6489677/mario-bros.0.jpg',\n",
       "   'publishedAt': '2019-08-16T17:40:51Z',\n",
       "   'content': 'The scene will hopefully be part of an eventual Blu-ray re-release Continue reading…'},\n",
       "  {'source': {'id': 'polygon', 'name': 'Polygon'},\n",
       "   'author': 'Ryan Gilliam',\n",
       "   'title': 'Destiny 2 Xur location and items, Aug. 16-20',\n",
       "   'description': 'Where is Xur this week? Head to Titan for some Exotic items from your favorite merchant. This week’s Xur inventory includes Telesto, Aeon Swift, Verity’s Brow, and Stronghold.',\n",
       "   'url': 'https://www.polygon.com/destiny-2-guide-walkthrough/2019/8/16/20808903/destiny-2-xur-location-items-august-16-20',\n",
       "   'urlToImage': 'https://cdn.vox-cdn.com/thumbor/iBLL-5itZUSZVwU_dfN80WEZSVY=/0x0:1920x1005/fit-in/1200x630/cdn.vox-cdn.com/uploads/chorus_asset/file/9253051/Xur_Destiny_2_.jpg',\n",
       "   'publishedAt': '2019-08-16T17:21:36Z',\n",
       "   'content': 'If you played Destiny, you may be familiar with Xur, the weekly Exotic item merchant. In Destiny 2, hes back, and he now appears all over the map. This week, you can find Xur on Titan, hanging out in a small building east of The Rig, taking shelter from the r… [+3133 chars]'},\n",
       "  {'source': {'id': 'polygon', 'name': 'Polygon'},\n",
       "   'author': 'Ryan Gilliam',\n",
       "   'title': 'Dauntless guide: Weekly Hunt Pass challenge for Aug 16-22',\n",
       "   'description': 'Complete Gregario Flynt’s weekly bonus challenges to get tons of Gleaming Pearls just for playing Dauntless.',\n",
       "   'url': 'https://www.polygon.com/guides/2019/8/16/20808890/dauntless-guide-weekly-hunt-pass-challenge-for-aug-16-22',\n",
       "   'urlToImage': 'https://cdn.vox-cdn.com/thumbor/YQy5QsbYYfKTOpQB79g-RhlIy54=/0x106:1572x929/fit-in/1200x630/cdn.vox-cdn.com/uploads/chorus_asset/file/16446925/Dauntless_weekly_Hunt_Pass_challenge_guide.jpg',\n",
       "   'publishedAt': '2019-08-16T16:54:13Z',\n",
       "   'content': 'Dauntless is a free-to-play monster hunting game from the team at Phoenix Labs. In a game all about hunters making suits out of monsters, the fashion can get a bit drab. Phoenix Labs solution is the Hunt Pass, which rewards players with cosmetic items to spic… [+877 chars]'},\n",
       "  {'source': {'id': 'polygon', 'name': 'Polygon'},\n",
       "   'author': 'Clayton Ashley',\n",
       "   'title': 'Anomia and Skull: two perfect board game appetizers',\n",
       "   'description': 'We play fasting thinking card game Anomia and bluffing game Skull with Brennan Lee Mulligan on the latest episode of Overboard.',\n",
       "   'url': 'https://www.polygon.com/videos/2019/8/16/20807586/anomia-skull-board-game-lets-play-overboard',\n",
       "   'urlToImage': 'https://cdn.vox-cdn.com/thumbor/suX3R3ImYMAyf9L4--HlV146fqg=/0x38:1920x1043/fit-in/1200x630/cdn.vox-cdn.com/uploads/chorus_asset/file/18994874/Overboard_party_games_thumb_no_text.png',\n",
       "   'publishedAt': '2019-08-16T16:42:00Z',\n",
       "   'content': 'Continuing our streak of short but sweet games, the Overboard crew played two more quick games with Special guest Brennan Lee Mulligan of College Humor. These are the prefect games to pull out when youre waiting on some stragglers on your board game day or ne… [+2504 chars]'},\n",
       "  {'source': {'id': 'polygon', 'name': 'Polygon'},\n",
       "   'author': 'Austen Goslin',\n",
       "   'title': 'Apex Legends has a new Octane skin available through Twitch Prime',\n",
       "   'description': 'Apex Legends’ latest event, Iron Crown, didn’t include an Octane skin. But Twitch Prime subscribers can get one in the same style as a free reward.',\n",
       "   'url': 'https://www.polygon.com/2019/8/16/20808714/apex-legends-octane-skin-twitch-prime',\n",
       "   'urlToImage': 'https://cdn.vox-cdn.com/thumbor/hJvslUvWFtpu4PBhpyNdHV8K1RM=/666x189:1920x846/fit-in/1200x630/cdn.vox-cdn.com/uploads/chorus_asset/file/18995072/Apex_Legends_08.16.2019___11.15.06.02.png',\n",
       "   'publishedAt': '2019-08-16T16:27:05Z',\n",
       "   'content': 'Respawn Entertainment/Electronic Arts Octane gets his own Iron Crown-style skin Apex Legends has, once again, partnered with Twitch to give players a new skin. This time around the new skin is for Octane, and it’s available to anyone who has Twitch Prime. The… [+1178 chars]'},\n",
       "  {'source': {'id': 'polygon', 'name': 'Polygon'},\n",
       "   'author': 'Owen S. Good',\n",
       "   'title': 'Beating this Super Mario Maker 2 level is harder than winning the lottery',\n",
       "   'description': 'YouTuber PangaeaPanda set out to create the most impossible level in Super Mario Maker 2, and he may well have succeeded. This number-guesser is solvable, but you’ll have to guess an eight-digit code correctly. Twice.',\n",
       "   'url': 'https://www.polygon.com/nintendo/2019/8/16/20808756/super-mario-maker-2-hardest-level-number-puzzle-nintendo-switch',\n",
       "   'urlToImage': 'https://cdn.vox-cdn.com/thumbor/_jQQnMAsB6gO09d4R7SdCWrXPCc=/0x12:1267x675/fit-in/1200x630/cdn.vox-cdn.com/uploads/chorus_asset/file/18994971/Screen_Shot_2019_08_16_at_11.39.11_AM.png',\n",
       "   'publishedAt': '2019-08-16T16:00:00Z',\n",
       "   'content': 'Sorry, there’s no money involved Continue reading…'},\n",
       "  {'source': {'id': 'polygon', 'name': 'Polygon'},\n",
       "   'author': 'Petrana Radulovic',\n",
       "   'title': 'Netflix unveils first look at Michael B. Jordan’s superpower family drama Raising Dion',\n",
       "   'description': 'Raising Dion stars Alisha Wainwright and Jason Ritter, with Michael B. Jordan. Single mother Nicole raises her superpowered son Dion. Based on the comic of the same name by Dennis Liu, Raising Dion premieres on Netflix on Oct. 4.',\n",
       "   'url': 'https://www.polygon.com/2019/8/16/20808711/raising-dion-michael-b-jordan-netflix-release-date',\n",
       "   'urlToImage': 'https://cdn.vox-cdn.com/thumbor/RZpzXLccCErXdGF8Fa5_Sz5ykjM=/0x285:4500x2641/fit-in/1200x630/cdn.vox-cdn.com/uploads/chorus_asset/file/18994893/RaisingDion_Season1_Episode1_00_02_34_16R2C.jpg',\n",
       "   'publishedAt': '2019-08-16T15:41:07Z',\n",
       "   'content': 'NETFLIX As if the single parent lifestyle wasn’t already hard Continue reading…'},\n",
       "  {'source': {'id': 'polygon', 'name': 'Polygon'},\n",
       "   'author': 'Cass Marshall',\n",
       "   'title': 'Tencent’s new mobile game looks like Overwatch, but even more anime',\n",
       "   'description': 'Ace Force, a new mobile game from Tencent, just opened open beta. But where does this title come from? Ace Force looks a lot like a mobile version of Blizzard’s team shooter Overwatch, and the game is already garnering significant interest in China.',\n",
       "   'url': 'https://www.polygon.com/mobile/2019/8/16/20808671/tencent-ace-force-mobile-overwatch-3v3',\n",
       "   'urlToImage': 'https://cdn.vox-cdn.com/thumbor/hRc0-GvAg4OjB8GwF8FdHLYSxaw=/0x25:1280x695/fit-in/1200x630/cdn.vox-cdn.com/uploads/chorus_asset/file/18994908/maxresdefault.jpg',\n",
       "   'publishedAt': '2019-08-16T15:27:45Z',\n",
       "   'content': 'Tencent Ace Force enters open beta Continue reading…'},\n",
       "  {'source': {'id': 'polygon', 'name': 'Polygon'},\n",
       "   'author': 'John Walker',\n",
       "   'title': 'An RPG made of beautiful ASCII drawings, and other undiscovered gems',\n",
       "   'description': 'Each week we bring you three lesser-known indie games for your consideration. This week includes Stone Story, a wonderful side-scrolling game made of ASCII characters; OXXO, an inventive puzzler; and Apsulov: End of Gods, a terrifying Viking horror game.',\n",
       "   'url': 'https://www.polygon.com/2019/8/16/20806861/new-games-2019-what-to-play-stone-story-oxxo-apsulov-pc-steam',\n",
       "   'urlToImage': 'https://cdn.vox-cdn.com/thumbor/5Fn_4Lu6o40fRwTgy5Zrss55JqQ=/0x104:2116x1212/fit-in/1200x630/cdn.vox-cdn.com/uploads/chorus_asset/file/18980593/bt_StoneStory_MartianRex2.jpg',\n",
       "   'publishedAt': '2019-08-16T15:00:00Z',\n",
       "   'content': 'Martian Rex/standardcombo We’ve sifted through the unknown to bring you three games worth your time It’s fascinating to unpack what is necessary for a great game, and it’s usually less than you think. Stone Story, an RPG made from punctuation, letters, and nu… [+6572 chars]'},\n",
       "  {'source': {'id': 'polygon', 'name': 'Polygon'},\n",
       "   'author': 'Karen Han',\n",
       "   'title': 'Danny McBride charts the ‘evolution of the misunderstood angry man’',\n",
       "   'description': 'The Righteous Gemstones marks McBride’s third HBO series, following Eastbound & Down and Vice Principals. Polygon sits down with the writer-director-actor triple threat to discuss the so-called trilogy, as well as Halloween, Alien: Covenant, and Kindle vs. ph…',\n",
       "   'url': 'https://www.polygon.com/interviews/2019/8/16/20805976/righteous-gemstones-hbo-danny-mcbride-halloween-sequels-vice-principals-eastbound-down',\n",
       "   'urlToImage': 'https://cdn.vox-cdn.com/thumbor/OU8KCwi6O64NEVK_LCADWCFiPEQ=/0x146:2040x1214/fit-in/1200x630/cdn.vox-cdn.com/uploads/chorus_asset/file/18993140/jbareham_190815_0906_danny_0001.jpg',\n",
       "   'publishedAt': '2019-08-16T15:00:00Z',\n",
       "   'content': 'HBOs new comedy The Righteous Gemstones is filled with characters that are hard to like but you cant help but sympathize with. If youre at all familiar with the men behind it Danny McBride, Jody Hill, and David Gordon Green that dichotomy shouldnt come as too… [+22394 chars]'}]}"
      ]
     },
     "execution_count": 82,
     "metadata": {},
     "output_type": "execute_result"
    }
   ],
   "source": [
    "resp.json()"
   ]
  },
  {
   "cell_type": "code",
   "execution_count": 113,
   "metadata": {},
   "outputs": [],
   "source": [
    "url = 'https://newsapi.org/v2/sources?apiKey=bfb917bca91c435d9c7efd247d95227b'\n",
    "resp = requests.get(url)"
   ]
  },
  {
   "cell_type": "code",
   "execution_count": 116,
   "metadata": {
    "collapsed": true
   },
   "outputs": [
    {
     "data": {
      "text/plain": [
       "['ABC News',\n",
       " 'ABC News (AU)',\n",
       " 'Aftenposten',\n",
       " 'Al Jazeera English',\n",
       " 'ANSA.it',\n",
       " 'Argaam',\n",
       " 'Ars Technica',\n",
       " 'Ary News',\n",
       " 'Associated Press',\n",
       " 'Australian Financial Review',\n",
       " 'Axios',\n",
       " 'BBC News',\n",
       " 'BBC Sport',\n",
       " 'Bild',\n",
       " 'Blasting News (BR)',\n",
       " 'Bleacher Report',\n",
       " 'Bloomberg',\n",
       " 'Breitbart News',\n",
       " 'Business Insider',\n",
       " 'Business Insider (UK)',\n",
       " 'Buzzfeed',\n",
       " 'CBC News',\n",
       " 'CBS News',\n",
       " 'CNBC',\n",
       " 'CNN',\n",
       " 'CNN Spanish',\n",
       " 'Crypto Coins News',\n",
       " 'Daily Mail',\n",
       " 'Der Tagesspiegel',\n",
       " 'Die Zeit',\n",
       " 'El Mundo',\n",
       " 'Engadget',\n",
       " 'Entertainment Weekly',\n",
       " 'ESPN',\n",
       " 'ESPN Cric Info',\n",
       " 'Financial Post',\n",
       " 'Focus',\n",
       " 'Football Italia',\n",
       " 'Fortune',\n",
       " 'FourFourTwo',\n",
       " 'Fox News',\n",
       " 'Fox Sports',\n",
       " 'Globo',\n",
       " 'Google News',\n",
       " 'Google News (Argentina)',\n",
       " 'Google News (Australia)',\n",
       " 'Google News (Brasil)',\n",
       " 'Google News (Canada)',\n",
       " 'Google News (France)',\n",
       " 'Google News (India)',\n",
       " 'Google News (Israel)',\n",
       " 'Google News (Italy)',\n",
       " 'Google News (Russia)',\n",
       " 'Google News (Saudi Arabia)',\n",
       " 'Google News (UK)',\n",
       " 'Göteborgs-Posten',\n",
       " 'Gruenderszene',\n",
       " 'Hacker News',\n",
       " 'Handelsblatt',\n",
       " 'IGN',\n",
       " 'Il Sole 24 Ore',\n",
       " 'Independent',\n",
       " 'Infobae',\n",
       " 'InfoMoney',\n",
       " 'La Gaceta',\n",
       " 'La Nacion',\n",
       " 'La Repubblica',\n",
       " 'Le Monde',\n",
       " 'Lenta',\n",
       " \"L'equipe\",\n",
       " 'Les Echos',\n",
       " 'Libération',\n",
       " 'Marca',\n",
       " 'Mashable',\n",
       " 'Medical News Today',\n",
       " 'Metro',\n",
       " 'Mirror',\n",
       " 'MSNBC',\n",
       " 'MTV News',\n",
       " 'MTV News (UK)',\n",
       " 'National Geographic',\n",
       " 'National Review',\n",
       " 'NBC News',\n",
       " 'News24',\n",
       " 'New Scientist',\n",
       " 'News.com.au',\n",
       " 'Newsweek',\n",
       " 'New York Magazine',\n",
       " 'Next Big Future',\n",
       " 'NFL News',\n",
       " 'NHL News',\n",
       " 'NRK',\n",
       " 'Politico',\n",
       " 'Polygon',\n",
       " 'RBC',\n",
       " 'Recode',\n",
       " 'Reddit /r/all',\n",
       " 'Reuters',\n",
       " 'RT',\n",
       " 'RTE',\n",
       " 'RTL Nieuws',\n",
       " 'SABQ',\n",
       " 'Spiegel Online',\n",
       " 'Svenska Dagbladet',\n",
       " 'T3n',\n",
       " 'TalkSport',\n",
       " 'TechCrunch',\n",
       " 'TechCrunch (CN)',\n",
       " 'TechRadar',\n",
       " 'The American Conservative',\n",
       " 'The Economist',\n",
       " 'The Globe And Mail',\n",
       " 'The Hill',\n",
       " 'The Hindu',\n",
       " 'The Huffington Post',\n",
       " 'The Irish Times',\n",
       " 'The Jerusalem Post',\n",
       " 'The Lad Bible',\n",
       " 'The New York Times',\n",
       " 'The Next Web',\n",
       " 'The Sport Bible',\n",
       " 'The Telegraph',\n",
       " 'The Times of India',\n",
       " 'The Verge',\n",
       " 'The Wall Street Journal',\n",
       " 'The Washington Post',\n",
       " 'The Washington Times',\n",
       " 'Time',\n",
       " 'USA Today',\n",
       " 'Vice News',\n",
       " 'Wired',\n",
       " 'Wired.de',\n",
       " 'Wirtschafts Woche',\n",
       " 'Xinhua Net',\n",
       " 'Ynet']"
      ]
     },
     "execution_count": 116,
     "metadata": {},
     "output_type": "execute_result"
    }
   ],
   "source": [
    "[src['name'] for src in resp.json()['sources']]"
   ]
  },
  {
   "cell_type": "code",
   "execution_count": 45,
   "metadata": {},
   "outputs": [],
   "source": [
    "import feedparser"
   ]
  },
  {
   "cell_type": "code",
   "execution_count": 46,
   "metadata": {},
   "outputs": [],
   "source": [
    "feeds = feedparser.parse('https://feeds.a.dj.com/rss/RSSMarketsMain.xml')"
   ]
  },
  {
   "cell_type": "code",
   "execution_count": 47,
   "metadata": {
    "collapsed": true
   },
   "outputs": [
    {
     "data": {
      "text/plain": [
       "['https://www.wsj.com/articles/stocks-yuan-drop-sharply-as-trade-spat-intensifies-11564981961',\n",
       " 'https://www.wsj.com/articles/chinas-yuan-falls-past-key-level-of-7-to-the-dollar-11564977948',\n",
       " 'https://www.wsj.com/articles/hsbc-to-slash-thousands-of-jobs-after-ceo-ouster-11564990152',\n",
       " 'https://www.wsj.com/articles/beijing-risks-economic-self-harm-by-weaponizing-the-yuan-11564983069',\n",
       " 'https://www.wsj.com/articles/hsbc-ceo-john-flint-is-out-after-18-months-in-role-11564963125',\n",
       " 'https://www.wsj.com/articles/3-ways-grandparents-can-help-pay-for-college-11564971241',\n",
       " 'https://www.wsj.com/articles/the-downside-of-knowing-a-lot-about-your-mutual-fund-11564971181',\n",
       " 'https://www.wsj.com/articles/what-investors-worry-yes-but-u-s-stock-funds-are-up-19-11564971121',\n",
       " 'https://www.wsj.com/articles/as-emerging-markets-recover-heres-what-investors-need-to-know-11564971000',\n",
       " 'https://www.wsj.com/articles/money-is-pouring-in-to-low-volatility-funds-11564970976',\n",
       " 'https://www.wsj.com/articles/why-arent-investors-worried-ask-howard-marks-11564970406',\n",
       " 'https://www.wsj.com/articles/stocks-and-bonds-are-up-at-the-same-time-no-worries-11564970976',\n",
       " 'https://www.wsj.com/articles/some-closed-end-funds-seem-to-have-permanent-premiums-11564970976',\n",
       " 'https://www.wsj.com/articles/reits-show-resilience-11564970743',\n",
       " 'https://www.wsj.com/articles/etfs-dont-rule-gold-after-all-says-one-analysis-11564970690',\n",
       " 'https://www.wsj.com/articles/about-to-retire-check-your-stock-exposurequickly-11564970680',\n",
       " 'https://www.wsj.com/articles/what-does-premium-priced-bonds-mean-11564970580',\n",
       " 'https://www.wsj.com/articles/quran-guided-funds-attract-non-muslims-11564970460',\n",
       " 'https://www.wsj.com/articles/vegans-may-soon-have-an-etf-11564970407',\n",
       " 'https://www.wsj.com/articles/money-rains-on-a-cloud-etf-11564970403']"
      ]
     },
     "execution_count": 47,
     "metadata": {},
     "output_type": "execute_result"
    }
   ],
   "source": [
    "[entry['link'] for entry in feeds['entries']]"
   ]
  },
  {
   "cell_type": "code",
   "execution_count": 78,
   "metadata": {
    "collapsed": true
   },
   "outputs": [
    {
     "data": {
      "text/plain": [
       "\"Mediation between the U.S. Women’s National Soccer team and U.S. Soccer broke down this week, putting into question the future of the team’s fight over equal pay.\\n\\nPlayers with the USWNT sued U.S. Soccer in March, accusing the federation of not compensating or treating them in a manner equivalent to what the men’s team received. Mediation began in New York this week as representatives from both sides met to discuss compensation and treatment—but the efforts came to a seemingly abrupt stop on Wednesday. USWNT spokesperson Molly Levinson said they ended the meetings “sorely disappointed in the federation’s determination to perpetuate fundamentally discriminatory workplace conditions and behavior.”\\n\\nShe added that the ongoing dispute over pay disparity is likely to end up in a trial.\\n\\n“It is clear that USSF, including its Board of Directors and President Carlos Cordeiro, fully intend to continue to compensate women players less than men. They will not succeed,” Levinson said. “We want all of our fans, sponsors, peers around the world, and women everywhere to know we are undaunted and will eagerly look forward to a jury trial.”\\n\\nRepresentatives for U.S. Soccer did not immediately respond to TIME’s request for comment. In a statement to CNN, the organization said, “We have said numerous times that our goal is to find a resolution, and during mediation we had hoped we would be able to address the issues in a respectful manner and reach an agreement.”\\n\\nHere’s what to know about the USWNT’s ongoing fight for equal pay.\\n\\nWhat the U.S. Women’s National Soccer team players want\\n\\nIn a class action lawsuit filed in March and signed by 28 players on the USWNT, the women allege that they are consistently paid less than the players on the men’s team and discriminated against because of their gender, despite a strong performance record.\\n\\nThe lawsuit was part of a years-long battle between the USWNT and U.S. Soccer regarding equal pay and gender equality. In 2016, five of the team’s players filed a complaint over unequal pay and bonuses with the federal Equal Employment Opportunity Commission (EEOC). In 2017, the players signed a new collective-bargaining agreement with the soccer federation and won control over some licensing and marketing rights. But the USWNT says that agreement did not go far enough.\\n\\n“Despite continued discrimination, we do feel like we have made progress toward a more collaborative way of operating. And yet, while we made progress in our compensation terms, we were still unable to achieve equal treatment with the Men’s National Team in the CBA we ratified in April 2017,” they wrote in a letter to the federation Monday ahead of the mediation.\\n\\nNow, following years of frustration between the players and the federation, the USWNT is pointing to their successes and widespread popularity as one factor in the push for equal pay. They’ve won four of eight World Cup titles since the championship games began in 1991 and four Olympic gold medals since the first women’s soccer tournament in 1996.\\n\\nIn their letter to U.S. Soccer, the women’s team pointed to their “remarkable” success during the 2019 World Cup. “We witnessed higher revenue numbers, higher ratings, more fans, more enthusiasm,” the players wrote. “The tired, arcane, irrelevant arguments and protestations of the male-dominated soccer world fell apart during those weeks.”\\n\\nThey added: “For both parties, the risk of not resolving our disagreements over equal treatment that were not addressed either in bargaining or through the EEOC is too high.”\\n\\nMegan Rapinoe of the USA lifts the FIFA Women's World Cup Trophy following her team's victory in the 2019 FIFA Women's World Cup France Final match between The United States of America and The Netherlands at Stade de Lyon on July 07, 2019 in Lyon, France. Alex Grimm—Getty Images\\n\\nWhat U.S. Soccer has said\\n\\nIn an open letter issued after the lawsuit was filed, the U.S. Soccer said it surprised by the complaint and that it had increased its investment in the women’s team in recent years.\\n\\nU.S. Soccer denied the women players’ claims in a court filing in May, saying the gap in pay stems from “differences in aggregate revenue generated by the different teams and/or any other factor other than sex,” arguing that the men’s and women’s teams are “physically and functionally separate organizations,” the Washington Post reported in July.\\n\\nAfter the World Cup, U.S. Soccer hired two lobbying firms in Washington D.C. to deny the claims of unequal pay in front of Congress, which sought to require the federation to pay both teams equally, according to a Politico report. While the U.S. government does not fund U.S. Soccer, the USWNT’s fight over equal pay has attracted attention from lawmakers. More than 50 members of Congress sent a letter to U.S. Soccer decrying the unequal treatment alleged by the USWNT. West Virginia Sen. Joe Manchin tied the equal pay issue into a bill he introduced that would withhold federal funding for the men’s 2026 World Cup, which will be held in the U.S., Mexico and Canada, until the pay dispute was resolved.\\n\\nU.S. Soccer’s move to hire lobbyists was criticized by both the mens and women’s teams.\\n\\nAt the end of July, U.S. Soccer president Carlos Cordeiro argued that the women’s team has actually been paid more than the men’s team, saying that the federation paid the USWNT $34.1 million in salaries and game bonuses, while the men received $26.4 million. The figures, compiled by U.S. Soccer and based on an analysis by the federation’s staff, did not include the benefits, such as health care and a 401(k), that female players get. (Men are not provided the same benefits, according to the federation). U.S. Soccer’s numbers also included National Women’s Soccer League salaries that U.S. Soccer pays, which were negotiated in the 2017 CBA. (The federation does not pay Major League Soccer salaries).\\n\\nHow women players are compensated compared to the men\\n\\nThis is where things get very complicated. While the issue of establishing equal pay between the two teams seems like a matter of adjusting some numbers, the collective bargaining agreements for the men and women players detail differing pay structures.\\n\\nGabe Feldman, a sports law professor at Tulane University, tells TIME it’s not that unusual that the mediation attempt ended unsuccessfully. “Many equal pay cases are complicated and are difficult issues to prove,” he says. “In many cases, the fight is over whether the jobs are similar, not over the level of pay. In this case, both questions are difficult: Are the jobs similar and is the pay equal? Are there factors other than gender leading to pay difference?”\\n\\nMaking a direct comparison between how much the men earned versus the women is difficult because of the different contracts signed by men and women players and other factors that come into play, according to Feldman. Among other things, players factor in the number of games they play, which tournaments they play in, the popularity of soccer in general and the money they make outside of soccer through sponsorships or other work to determine what they think is a fair amount to make, he says.\\n\\nWomen players under contract earn a base salary of $100,000 and can earn some bonuses based on game performance. Players on the men’s team only earn bonuses.\\n\\nIn the USWNT’s lawsuit, compensation models showed that if both teams won 20 games in a row, women would make 38% less than their male counterparts. That calculation was based on the women’s team’s prior collective bargaining agreement, which expired in December 2016. The Washington Post, which ran the numbers based on the new collective bargaining agreement that became effective in April 2017, found that if the women’s team won 20 games in a row, a player would earn $28,333 less, or about 89% of what a male player would make.\\n\\nThe Post noted that were both teams to lose all 20 games, they would make the same amount because the men receive a $5,000 bonus for losing and the women have a base salary.\\n\\nCompensation changes even further when it comes to the World Cup—though the pool money at stake here is set by FIFA, which gives prize winnings to the national federations behind each soccer team. For the Women’s World Cup, prize money totaled to $30 million in 2019, according to the Post. The USWNT earned about $4 million for winning the tournament. By contrast, the prize money pool for the 2018 Men’s World Cup totaled about $400 million, giving reigning champion France’s men’s team $38 million—more than the total pool for the women.\\n\\nU.S. Soccer offers bonuses to each team based on different wins throughout the World Cup tournament. The USWNT players each received about $250,000 in bonus payment for the World Cup, according to the Times. Under the men’s team’s collective bargaining agreement, players receive $3,000 more if they lose a Wold Cup qualifying match than what women earn for winning, the Post reports.\\n\\nCarli Lloyd #10 of the United States celebrates her goal with Tobin Heath #17 and Crystal Dunn #19, to take a 3-0 lead over the Republic of Ireland, during the first half of the first game of the USWNT Victory Tour at Rose Bowl on August 03, 2019 in Pasadena, California. Harry How—Getty Images\\n\\nWhat will happen next in the USWNT equal pay lawsuit\\n\\nThe case is likely to be settled in a trial, according to Feldman. U.S. Soccer will be responsible for proving that any gaps in pay are a result of “good faith negotiation,” Feldman says. U.S. Soccer will try to make the case that the pay gap boils down to the two different collective bargaining agreements agreed to by each team under their separate players’ associations, he says. They will have to show that the current situation is “just a product of collective bargaining.”\\n\\nU.S. Soccer and the USWNT disagree both on how much the players get paid and on how such payments are quantified when compared with what male players receive. “The federation says, among other things, that it’s apples to oranges,” says Feldman. “There is not one right answer to what is fair—the answer is in what they agreed [in the collective bargaining agreements]. It’s not like a math formula will give you the right amount.”\\n\\nFor the women players, he says, the challenge will be to prove that the gaps are a product of gender discrimination.\\n\\n“One of the threshold issues is that there’s no agreement on what the relative levels of pay are,” Feldman says. “[U.S. Soccer] claims the women are making just as much if not more than the men. They have to prove they are getting paid less and then prove that the disparity is attributable to gender discrimination and not other gender neutral factors.”\\n\\nWrite to Mahita Gajanan at mahita.gajanan@time.com.\""
      ]
     },
     "execution_count": 78,
     "metadata": {},
     "output_type": "execute_result"
    }
   ],
   "source": [
    "article = newspaper.Article('https://time.com/5653250/uswnt-equal-pay-lawsuit/')\n",
    "article.download()\n",
    "article.parse()\n",
    "article.text"
   ]
  },
  {
   "cell_type": "code",
   "execution_count": null,
   "metadata": {},
   "outputs": [],
   "source": []
  },
  {
   "cell_type": "code",
   "execution_count": null,
   "metadata": {},
   "outputs": [],
   "source": []
  },
  {
   "cell_type": "code",
   "execution_count": null,
   "metadata": {},
   "outputs": [],
   "source": []
  },
  {
   "cell_type": "code",
   "execution_count": null,
   "metadata": {},
   "outputs": [],
   "source": []
  },
  {
   "cell_type": "code",
   "execution_count": null,
   "metadata": {},
   "outputs": [],
   "source": []
  },
  {
   "cell_type": "code",
   "execution_count": null,
   "metadata": {},
   "outputs": [],
   "source": []
  },
  {
   "cell_type": "code",
   "execution_count": null,
   "metadata": {},
   "outputs": [],
   "source": []
  },
  {
   "cell_type": "code",
   "execution_count": null,
   "metadata": {},
   "outputs": [],
   "source": []
  }
 ],
 "metadata": {
  "kernelspec": {
   "display_name": "Django Shell-Plus",
   "language": "python",
   "name": "django_extensions"
  },
  "language_info": {
   "codemirror_mode": {
    "name": "ipython",
    "version": 3
   },
   "file_extension": ".py",
   "mimetype": "text/x-python",
   "name": "python",
   "nbconvert_exporter": "python",
   "pygments_lexer": "ipython3",
   "version": "3.7.3"
  }
 },
 "nbformat": 4,
 "nbformat_minor": 2
}
