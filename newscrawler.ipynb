{
 "cells": [
  {
   "cell_type": "code",
   "execution_count": 2,
   "metadata": {},
   "outputs": [],
   "source": [
    "import newspaper\n",
    "from newspaper import Article, Config\n",
    "from IPython.core.debugger import set_trace\n",
    "import requests\n",
    "# from newsplease import NewsPlease\n",
    "import pandas as pd\n",
    "# import os\n",
    "# from dateutil.parser import *\n",
    "from data.models import Newsdata\n",
    "\n",
    "from tqdm.autonotebook import tqdm\n",
    "tqdm.pandas()"
   ]
  },
  {
   "cell_type": "code",
   "execution_count": 9,
   "metadata": {},
   "outputs": [],
   "source": [
    "# 필요없는 신문사 지우기: nbc - text가 잘 extract 안됨 \n",
    "Newsdata.objects.filter(publisher='nbc').delete();"
   ]
  },
  {
   "cell_type": "code",
   "execution_count": 20,
   "metadata": {},
   "outputs": [
    {
     "data": {
      "application/vnd.jupyter.widget-view+json": {
       "model_id": "bdc1233bcbad4aaaadfc62eb3a131789",
       "version_major": 2,
       "version_minor": 0
      },
      "text/plain": [
       "HBox(children=(IntProgress(value=0, max=27), HTML(value='')))"
      ]
     },
     "metadata": {},
     "output_type": "display_data"
    },
    {
     "name": "stdout",
     "output_type": "stream",
     "text": [
      "\n"
     ]
    }
   ],
   "source": [
    "# url 끝이 / 로 안끝나게 하기\n",
    "for obj in tqdm(Newsdata.objects.filter(url__endswith='/')):\n",
    "    obj.url = obj.url[:-1]\n",
    "    obj.save()"
   ]
  },
  {
   "cell_type": "code",
   "execution_count": 50,
   "metadata": {},
   "outputs": [
    {
     "data": {
      "application/vnd.jupyter.widget-view+json": {
       "model_id": "8ce1437a543e4e48945ca8b4a55cf1fd",
       "version_major": 2,
       "version_minor": 0
      },
      "text/plain": [
       "HBox(children=(IntProgress(value=0, max=3200), HTML(value='')))"
      ]
     },
     "metadata": {},
     "output_type": "display_data"
    },
    {
     "name": "stdout",
     "output_type": "stream",
     "text": [
      "\n"
     ]
    }
   ],
   "source": [
    "# url이 항상 https://로 시작하게(www없이)\n",
    "# 그리고 ?mod= 는 제거\n",
    "for obj in tqdm(Newsdata.objects.all()):\n",
    "    url = obj.url.replace('http://', 'https://')\n",
    "    url = url.replace('https://www', 'https://')\n",
    "    # url = url.replace('https://.', 'https://')\n",
    "    \n",
    "    try:\n",
    "        url = url[:url.index('?mod=')]\n",
    "\n",
    "    except:\n",
    "        pass\n",
    "        \n",
    "    obj.url = url\n",
    "    obj.publish_date = None\n",
    "    obj.save()"
   ]
  },
  {
   "cell_type": "code",
   "execution_count": 71,
   "metadata": {
    "collapsed": true
   },
   "outputs": [
    {
     "data": {
      "application/vnd.jupyter.widget-view+json": {
       "model_id": "db69c2b24027479eadde6acd0a00b7da",
       "version_major": 2,
       "version_minor": 0
      },
      "text/plain": [
       "HBox(children=(IntProgress(value=0, max=2783), HTML(value='')))"
      ]
     },
     "metadata": {},
     "output_type": "display_data"
    },
    {
     "name": "stdout",
     "output_type": "stream",
     "text": [
      "https://reuters.com/article/us-japan-economy-trade/japans-exports-slip-for-eighth-month-sales-to-china-drop-as-recession-fears-grow-idUSKCN1V9015\n",
      "https://reuters.com/article/us-usa-economy/trump-not-ready-for-china-trade-deal-dismisses-recession-fears-idUSKCN1V80HS\n",
      "https://washingtontimes.com/news/2019/aug/18/thailand-animal-trafficking-cases-difficult-prosec\n",
      "https://cbsnews.com/news/hong-kong-protests-1-7-million-protesters-march-victoria-park-latest-updates-today-2019-08-18\n",
      "https://morningstar.com/articles/938581/9-exceptional-and-plucky-core-bond-funds\n",
      "https://reuters.com/article/us-hongkong-protests/more-mass-protests-planned-in-hong-kong-after-peaceful-weekend-of-rallies-idUSKCN1V900Z\n",
      "https://washingtontimes.com/news/2019/aug/18/robert-davis-making-strong-case-roster-spot\n",
      "https://washingtontimes.com/news/2019/aug/16/being-human\n",
      "https://morningstar.com/articles/799730/investing-tips-for-twenty-and-thirtysomethings\n",
      "https://morningstar.com/articles/940316/an-etf-for-exposure-to-short-term-high-yield-bonds\n",
      "https://morningstar.com/articles/941160/4-more-stocks-for-the-next-decade\n",
      "https://washingtontimes.com/news/2019/aug/13/democrats-keep-push-gun-control-bills\n",
      "https://washingtontimes.com/news/2019/aug/13/jeffrey-epsteins-prison-guard-who-wasnt-regular-gu\n",
      "https://morningstar.com/news/dow-jones/201908191466/fed-chief-faces-scrutiny-from-markets-and-the-white-house\n",
      "https://morningstar.com/news/dow-jones/201908191497/corporate-debt-cuts-fuel-surge-in-leverage-worry-bonds\n",
      "https://washingtontimes.com/news/2019/aug/18/stefan-halpers-pentagon-contracts-investigation-sh\n",
      "https://nytimes.com/2019/08/18/world/europe/iran-tanker-gibraltar.html\n",
      "https://nytimes.com/2019/08/18/opinion/democrats-donor-data.html\n",
      "https://reuters.com/article/us-people-jeffrey-epstein-royals/britains-prince-andrew-denies-any-involvement-in-epstein-sex-scandal-idUSKCN1V90RD?il=0\n",
      "https://reuters.com/article/us-sudan-politics/sudans-ex-president-bashir-arrives-at-corruption-trial-idUSKCN1V90NU?il=0\n",
      "https://morningstar.com/articles/942606/5-of-the-biggest-upgrades-of-2019\n",
      "https://washingtontimes.com/news/2019/aug/13/i-unleashed-college-kids-determine-hate-speech\n",
      "https://reuters.com/article/us-spain-wildfire/evacuees-fleeing-canary-islands-wildfire-rise-to-8000-idUSKCN1V90PH?il=0\n",
      "https://morningstar.com/articles/942676/the-time-is-right-to-de-risk-your-retirement-portfolio\n",
      "https://reuters.com/article/us-israel-palestinians-usa/u-s-rep-tlaib-rejects-west-bank-visit-citing-israels-oppressive-conditions-idUSKCN1V60SN\n",
      "https://cbsnews.com/news/at-least-9-injured-from-fallen-tree-at-feasterville-trevose-pennsylvania-swim-club-struck-by-lightning-2019-08-18\n",
      "https://reuters.com/article/us-usa-election-race-poll/for-trump-appeals-to-white-fears-about-race-may-be-a-tougher-sell-in-2020-reuters-ipsos-poll-idUSKCN1V90TX\n",
      "https://morningstar.com/articles/942791/is-the-end-near-for-ge\n",
      "https://reuters.com/news/picture/islamic-state-blast-at-afghan-wedding-idUSRTS2N0RM\n",
      "https://markets.businessinsider.com/news/stocks/ge-markopolos-report-goldman-on-long-term-care-insurance-allegations-2019-8-1028453423\n",
      "https://washingtontimes.com/news/2019/aug/18/nypd-rejects-all-immigrant-detainer-requests-repor\n",
      "https://markets.businessinsider.com/commodities/news/oil-price-slides-into-bear-market-global-slowdown-recession-concerns-2019-8-1028428222\n",
      "https://morningstar.com/news/dow-jones/201908191596/europe-markets-after-three-down-weeks-europe-stocks-advance\n",
      "https://washingtontimes.com/news/2019/feb/20/catholic-vatican-sex-abuse-summit-sidesteps-role-g\n",
      "https://cbsnews.com/news/hospital-honors-marine-micah-wooten-who-missed-his-graduation-for-emergency-surgery-2019-08-13\n",
      "https://reuters.com/article/us-hongkong-protests/hong-kong-readies-for-further-protests-after-huge-peaceful-rally-idUSKCN1V900Z\n",
      "https://washingtontimes.com/news/2019/aug/13/flights-resuming-at-hong-kong-airport-after-protes\n",
      "https://morningstar.com/news/dow-jones/20190819925/global-stocks-jump-to-start-the-week\n",
      "https://reuters.com/news/picture/photos-of-the-week-idUSRTS2MSMJ\n",
      "https://markets.businessinsider.com/news/stocks/harry-markopolos-madoff-whistleblower-accounting-expert-who-is-he-2019-8-1028453215\n",
      "https://reuters.com/article/us-china-venezuela-oil-cnpc/china-cnpc-suspends-venezuelan-oil-loading-worried-about-u-s-sanctions-sources-idUSKCN1V909C\n",
      "https://cbsnews.com/news/the-great-pacific-garbage-patch-cleaning-up-the-plastic-in-the-ocean-60-minutes-2019-08-18\n",
      "https://nytimes.com/interactive/2019/08/14/magazine/sugar-slave-trade-slavery.html\n",
      "https://washingtontimes.com/polls/2019/aug/16/gun-control-winning-issue-democrats/results\n",
      "https://marketwatch.com/story/softbank-to-lend-its-workers-billions-to-invest-in-its-giant-vc-fund-2019-08-18\n",
      "https://morningstar.com/news/dow-jones/201908191556/market-snapshot-us-stock-futures-rise-on-global-stimulus-talk-trade-optimism\n",
      "https://washingtontimes.com/news/2019/aug/16/most-adults-support-raising-federal-income-tax-to-\n",
      "https://washingtontimes.com/news/2019/aug/14/emma-lazarus-huddled-masses-rejected-paupers-year-\n",
      "https://washingtontimes.com/news/2019/aug/17/beto-orourke-seeks-to-hold-internet-companies-acco\n",
      "https://reuters.com/article/us-yandex-driverless/russias-yandex-looks-at-ten-fold-increase-in-driverless-car-fleet-to-speed-up-testing-idUSKCN1V90K8\n",
      "https://reuters.com/video/2019/08/17/rescue-vessel-still-blocked-from-italys?videoId=588310762&videoChannel=118169\n",
      "https://washingtontimes.com/news/2019/aug/19/after-justin-amash-dumped-donald-trump-his-distric\n",
      "https://morningstar.com/articles/941522/china-in-doldrums-as-trade-war-looms\n",
      "https://reuters.com/article/us-singapore-electric-shell/shell-debuts-electric-vehicle-chargers-in-singapore-first-in-southeast-asia-idUSKCN1V906D\n",
      "https://reuters.com/article/us-global-markets/stimulus-hopes-support-stocks-ease-pressure-on-bonds-idUSKCN1V901Q?il=0\n",
      "https://cbsnews.com/news/trump-greenland-what-people-told-cbs-news-about-president-trump-plan-to-buy-island-denmark-2019-08-16\n",
      "https://washingtontimes.com/news/2019/aug/18/steve-bullock-2020-democrat-vows-break-through-cro\n",
      "https://morningstar.com/articles/940945/7-upgrades-highlight-july-ratings-changes\n",
      "https://nytimes.com/2019/08/18/health/opioids-purdue-pennington-gap.html\n",
      "https://morningstar.com/articles/923971/3-ways-to-make-your-portfolio-more-climate-aware\n",
      "https://morningstar.com/news/dow-jones/20190819594/whats-news-business-finance-wsj\n",
      "https://washingtontimes.com/news/2019/aug/18/benjamin-netanyahus-israel-election-do-over-likely\n",
      "https://newslink.reuters.com/video/2019/08/17/rescue-vessel-still-blocked-from-italys?videoId=588310762&videoChannel=118169\n",
      "https://marketwatch.com/story/libra-partner-mastercard-is-building-its-own-cryptocurrency-team-2019-08-18\n",
      "https://washingtontimes.com/news/2019/aug/18/donald-trump-accuses-new-york-times-leading-racism\n",
      "https://nytimes.com/2019/08/18/opinion/parenting-children-home.html\n",
      "https://morningstar.com/articles/813179/webcast-best-practices-for-investing-at-every-life-stage\n",
      "https://reuters.com/video/2019/08/17/scientists-find-microplastics-deep-in-ar?videoId=587718020&videoChannel=118169\n",
      "https://washingtontimes.com/news/2019/aug/15/bernie-sanders-medicare-all-sputters-kamala-harris\n",
      "https://cbsnews.com/news/widow-with-down-syndrome-shows-power-of-love-after-husband-death-2019-08-16\n",
      "https://reuters.com/article/us-hongkong-protests-shenzhen/chinas-state-council-calls-for-shenzhen-integration-with-hong-kong-macau-idUSKCN1V902W\n",
      "https://newslink.reuters.com/video/2019/08/16/a-concept-cant-be-killed-hong-kongs-fron?videoId=588107331&videoChannel=118169\n",
      "https://reuters.com/article/us-britain-economy-carney/boes-carney-says-negative-rates-not-an-option-for-uk-central-banking-idUSKCN1V90R9\n",
      "https://reuters.com/video/2019/08/16/a-concept-cant-be-killed-hong-kongs-fron?videoId=588107331&videoChannel=118169\n",
      "https://markets.businessinsider.com/news/stocks/trump-appears-defiant-on-trade-war-despite-recession-signals-2019-8-1028453353\n",
      "https://nytimes.com/2019/08/18/opinion/democrats-donor-data.html#commentsContainer\n",
      "https://reuters.com/article/us-uganda-fire/at-least-19-dead-after-fuel-truck-crash-in-western-uganda-police-idUSKCN1V90BI?il=0\n"
     ]
    },
    {
     "name": "stdout",
     "output_type": "stream",
     "text": [
      "https://washingtontimes.com/news/2019/aug/18/trump-remarks-on-mental-illness-gun-violence-slamm\n",
      "https://nytimes.com/2019/08/17/opinion/sunday/childhood-suicide-depression-anxiety.html\n",
      "https://reuters.com/article/us-health-vaping-cdc/cdc-probes-lung-illnesses-linked-to-e-cigarette-use-idUSKCN1V80MA\n",
      "https://washingtontimes.com/quiz/2019/aug/8/can-you-name-product-its-ad-slogan\n",
      "https://morningstar.com/articles/942670/3-funds-that-are-better-than-they-look\n",
      "https://morningstar.com/articles/939227/ges-turnaround-continues-with-improved-outlook\n",
      "https://reuters.com/article/us-turkey-security-kurds/turkey-replaces-three-pro-kurdish-party-mayors-for-suspected-militant-links-idUSKCN1V90A8\n",
      "https://morningstar.com/articles/866474/what-if-this-turns-out-to-be-a-terrible-time-to-retire\n",
      "https://reuters.com/article/us-malaysia-politics-najib/malaysia-court-postpones-biggest-1mdb-trial-involving-ex-pm-najib-idUSKCN1V904F\n",
      "https://morningstar.com/articles/853199/finding-gun-stocks-in-fund-portfolios\n",
      "https://morningstar.com/articles/935874/16-high-quality-companies-with-exceptional-leadership\n",
      "https://washingtontimes.com/news/2019/aug/17/advocates-for-gun-safety-to-rally-in-baltimore\n",
      "https://nytimes.com/2019/08/18/world/asia/kabul-wedding-bomb-isis.html\n",
      "https://reuters.com/article/us-afghanistan-blast/islamic-state-claims-afghan-wedding-blast-as-families-bury-the-dead-idUSKCN1V70K6\n",
      "https://reuters.com/article/us-people-jeffrey-epstein-royals/britains-prince-andrew-denies-any-involvement-in-epstein-sex-scandal-idUSKCN1V90RD\n",
      "https://washingtontimes.com/news/2019/aug/18/take-time-to-reflect-on-the-meaning-of-your-life\n",
      "https://washingtontimes.com/news/2019/aug/18/mark-sanford-weighs-donald-trump-2020-primary-chal\n",
      "https://reuters.com/article/us-huawei-tech-usa-license-exclusive/exclusive-u-s-set-to-give-huawei-another-90-days-to-buy-from-american-suppliers-sources-idUSKCN1V701U\n",
      "https://washingtontimes.com/news/2019/aug/16/russian-pilot-says-landing-in-corn-field-was-his-o\n",
      "https://reuters.com/article/us-apple-trump/apple-ceo-warns-trump-about-china-tariffs-samsung-competition-idUSKCN1V80O9\n",
      "https://washingtontimes.com/news/2019/aug/18/ghislaine-maxwell-jeffrey-epstein-purported-madam-\n",
      "https://nytimes.com/2019/08/15/the-weekly/how-youtube-misinformation-resolved-a-whatsapp-mystery-in-brazil.html\n",
      "https://nytimes.com/2019/08/17/opinion/sunday/my-mothers-calendar-memory.html\n",
      "https://reuters.com/article/us-poland-caverescue/over-two-dozen-rescuers-try-to-save-trapped-cavers-in-poland-idUSKCN1V80AJ?il=0\n",
      "https://cnbc.com/2019/08/19/us-bonds-treasury-yields-rally-as-investors-await-auctions.html\n",
      "https://washingtontimes.com/news/2019/aug/18/inside-the-beltway-deep-fried-politics\n",
      "https://washingtontimes.com/news/2019/aug/16/methodist-church-closer-official-split-over-lgbtq-\n",
      "https://cbsnews.com/news/syracuse-officer-bonds-with-kids-on-and-off-the-basketball-court-2019-08-15\n",
      "https://washingtontimes.com/news/2019/aug/16/peter-fonda-easy-rider-star-and-writer-has-died-ag\n",
      "https://washingtontimes.com/news/2019/aug/16/seeking-different-behavior-china\n",
      "https://nytimes.com/2019/08/18/world/americas/guatemala-violence-women-asylum.html#commentsContainer\n",
      "https://washingtontimes.com/news/2019/aug/16/unceremonious-firing-strategic-thinker\n",
      "https://reuters.com/article/us-hongkong-protests/hong-kong-readies-for-further-protests-after-huge-peaceful-rally-idUSKCN1V900Z?il=0\n",
      "https://cbsnews.com/news/interview-with-ceo-of-nso-group-spyware-maker-fighting-terror-khashoggi-murder-and-saudi-arabia-60-minutes-2019-08-18\n",
      "https://reuters.com/article/us-ecb-policy-muller/low-euro-zone-inflation-means-more-stimulus-may-be-needed-ecbs-mller-idUSKCN1V90UE?il=0\n",
      "https://washingtontimes.com/news/2019/aug/18/mystics-break-wnba-3-point-record-win-sixth-straig\n",
      "https://nytimes.com/2019/08/19/t-magazine/jonathan-anderson-loewe-interview.html\n",
      "https://reuters.com/article/us-novartis-avexis/novartis-to-answer-u-s-senate-demand-for-data-manipulation-details-idUSKCN1V90IM\n",
      "https://washingtontimes.com/news/2019/aug/18/nationals-pummel-brewers-eight-homers-win-series\n",
      "https://reuters.com/article/us-usa-election-race-poll-explainer/explainer-how-reuters-ipsos-measured-the-shift-in-the-way-americans-see-race-idUSKCN1V90TB?il=0\n",
      "https://washingtontimes.com/news/2019/aug/18/donald-trump-afghanistan-troops-dwindle-taliban-ta\n",
      "https://morningstar.com/articles/801856/an-investing-road-map-for-pre-retirees\n",
      "https://washingtontimes.com/news/2019/aug/16/supporting-rail-car-traffic\n",
      "https://morningstar.com/articles/937951/a-new-high-quality-stock-for-your-watchlist\n",
      "https://morningstar.com/articles/801856/think-youre-ready-to-retire-read-this-first\n",
      "https://reuters.com/article/us-alphabet-data-exclusive/exclusive-fearing-data-privacy-issues-google-cuts-some-android-phone-data-for-wireless-carriers-idUSKCN1V90SQ\n",
      "https://marketwatch.com/story/asian-markets-rise-as-investors-keep-wary-eye-on-recession-risks-2019-08-18\n",
      "https://reuters.com/article/us-china-economy-rates-explainer/explainer-how-chinas-new-interest-rate-reforms-will-work-idUSKCN1V90Q8\n",
      "https://washingtontimes.com/news/2019/aug/18/gloria-steinem-blasts-benjamin-netanyahu-over-isra\n",
      "https://washingtontimes.com/news/2019/aug/15/judge-rules-georgias-electronic-voting-system-ille\n",
      "https://washingtontimes.com/news/2019/aug/19/afghanistan-vows-to-crush-islamic-state-havens-aft\n",
      "https://marketwatch.com/story/this-31-year-old-made-700000-selling-stuff-online-without-any-inventory-2019-08-16\n",
      "https://reuters.com/article/us-alphabet-data-exclusive/exclusive-fearing-data-privacy-issues-google-cuts-some-android-phone-data-for-wireless-carriers-idUSKCN1V90SQ?il=0\n",
      "https://morningstar.com/articles/942480/17-stocks-to-come-back-to\n",
      "https://morningstar.com/articles/933730/a-bond-fund-with-a-strong-pedigree-earns-an-upgrade\n",
      "https://cbsnews.com/news/the-great-pacific-garbage-patch-isnt-what-you-think-60-minutes-2019-08-18\n",
      "https://marketwatch.com/story/us-stock-futures-rise-on-global-stimulus-talk-trade-optimism-2019-08-19\n",
      "https://reuters.com/article/us-germany-economy-bundesbank/germany-economy-could-continue-to-shrink-bundesbank-idUSKCN1V90TT?il=0\n",
      "https://reuters.com/article/us-health-ebola-congo/ebola-spreads-200-km-west-to-remote-militia-run-congo-town-idUSKCN1V90O7\n",
      "https://nytimes.com/2019/08/18/opinion/weight-watchers-kids.html\n",
      "https://washingtontimes.com/news/2019/aug/18/clarissa-ward-cnn-says-intimidation-effort-made-ru\n",
      "https://morningstar.com/articles/942663/how-funds-with-hidden-china-exposure-fared-during-the-latest-trade-war-sell-off\n",
      "https://morningstar.com/articles/937342/4-superior-foreign-stocks-to-buy\n",
      "https://morningstar.com/articles/933102/does-ownership-or-avoidance-of-an-irresponsible-company-make-a-difference\n",
      "https://washingtontimes.com/news/2019/aug/18/loudoun-south-wins-first-two-little-league-world-s\n",
      "https://morningstar.com/articles/940995/6-ways-to-protect-yourself-from-a-data-breach\n",
      "https://washingtontimes.com/news/2019/aug/18/rhoda-wise-canton-ohio-miracle-house-draws-pilgrim\n",
      "https://washingtontimes.com/news/2019/aug/18/elizabeth-warrens-plans-cost-5-trillion-over-10-ye\n",
      "https://washingtontimes.com/news/2019/aug/14/stocks-plummet-new-recession-fears-bond-yields-fal\n",
      "https://marketwatch.com/story/how-much-would-it-cost-to-buy-greenland-and-how-would-you-calculate-that-price-2019-08-16\n",
      "https://washingtontimes.com/news/2019/aug/7/dishwasher-regulations-draw-trump-administration-s\n",
      "https://marketwatch.com/story/auction-of-one-of-a-kind-porsche-falls-apart-after-bizarre-bidding-error-2019-08-18\n",
      "https://washingtontimes.com/news/2019/aug/18/boxings-online-bible-missed-punch-its-top-25-fight\n",
      "https://washingtontimes.com/news/2019/aug/15/democrats-fuel-attacks-police-ice-incendiary-polit\n",
      "https://nytimes.com/2019/08/18/opinion/weight-watchers-kids.html#commentsContainer\n",
      "https://washingtontimes.com/news/2019/aug/14/inside-the-ring-chinese-military-preparing-crackdo\n",
      "https://washingtontimes.com/news/2019/aug/17/slayer-loses-nascar-deal-over-concerns-metal-bands\n",
      "https://marketwatch.com/story/investors-might-be-disappointed-in-feds-message-from-jackson-hole-2019-08-16\n",
      "https://marketwatch.com/story/look-for-these-4-important-features-to-find-the-perfect-home-2019-08-19\n"
     ]
    },
    {
     "name": "stdout",
     "output_type": "stream",
     "text": [
      "https://reuters.com/article/us-argentina-emerging-markets-analysis/from-tsunami-to-ripples-other-emerging-markets-surf-argentinas-latest-shock-idUSKCN1V61HI\n",
      "https://reuters.com/article/us-japan-economy-trade/japans-exports-slip-for-eighth-month-sales-to-china-drop-as-recession-fears-grow-idUSKCN1V9015?il=0\n",
      "https://washingtontimes.com/news/2019/aug/18/north-korea-china-generals-meet-beijing\n",
      "https://morningstar.com/articles/801233/an-investing-road-map-if-youre-in-your-40s-and-50s\n",
      "https://reuters.com/article/us-usa-election-trump/trump-affirms-that-mike-pence-will-be-2020-running-mate-idUSKCN1V80NU\n",
      "https://morningstar.com/articles/934609/building-a-low-cost-fossil-fuel-free-etf-portfolio\n",
      "https://washingtontimes.com/news/2019/aug/18/owen-jones-guardian-journalist-says-he-was-victim-\n",
      "https://nytimes.com/2019/08/19/arts/queer-eye-kondo-makeover.html\n",
      "https://washingtontimes.com/news/2019/aug/18/nancy-pelosi-calls-donald-trump-foreign-aid-cuts-i\n",
      "https://washingtontimes.com/news/2019/aug/18/president-trump-keep-mike-pence-ticket-2020-electi\n",
      "https://nytimes.com/2019/08/18/arts/music/placido-domingo-opera-harassment.html#commentsContainer\n",
      "https://morningstar.com/articles/813318/morningstars-guide-to-life-stage-investing\n",
      "https://marketwatch.com/story/after-three-down-weeks-europe-stocks-start-higher-2019-08-19\n",
      "https://nytimes.com/2019/08/18/arts/music/placido-domingo-opera-harassment.html\n",
      "https://newslink.reuters.com/video/2019/08/17/petitioners-want-trump-tower-on-obama-av?videoId=588304296&videoChannel=118169\n",
      "https://morningstar.com/articles/942820/earnings-from-salesforce-retailers-and-more\n",
      "https://reuters.com/article/us-china-economy-rates-explainer/explainer-how-chinas-new-interest-rate-reforms-will-work-idUSKCN1V90Q8?il=0\n",
      "https://nytimes.com/2019/08/18/opinion/trump-foreign-policy.html\n",
      "https://washingtontimes.com/news/2019/aug/18/obama-basketball-jersey-sells-120000\n",
      "https://washingtontimes.com/news/2019/aug/17/washington-monument-to-reopen-next-month-following\n",
      "https://washingtontimes.com/news/2019/aug/18/khalifa-haftars-forces-claim-target-turkish-drones\n",
      "https://washingtontimes.com/quiz/2019/aug/1/name-actors-played-1980s-tv-icons\n",
      "https://cnn.com/2019/08/15/tennis/nick-kyrgios-cincinnati-defeat-rant-spt-intl/index.html\n",
      "https://washingtontimes.com/news/2019/aug/16/trump-administration-seeks-permanent-reauthorizati\n",
      "https://nytimes.com/2019/08/16/the-weekly/opioid-crisis-epidemic.html#commentsContainer\n",
      "https://reuters.com/article/us-aramark-us-mantleridge/mantle-ridge-buys-stake-in-aramark-eyes-talks-with-management-idUSKCN1V6227\n",
      "https://reuters.com/article/us-health-ebola-congo/ebola-spreads-to-remote-militia-run-congo-territory-idUSKCN1V90O7?il=0\n",
      "https://washingtontimes.com/news/2019/aug/18/steven-menashi-trump-judicial-nominee-opposed-cair\n",
      "https://marketwatch.com/story/eurozone-inflation-slows-to-weakest-in-more-than-two-years-2019-08-19\n",
      "https://reuters.com/article/us-asiana-airlines-sale/south-korean-activist-fund-kcgi-eyes-asiana-airlines-stake-shares-soar-idUSKCN1V903G\n",
      "https://washingtontimes.com/news/2019/aug/18/larry-kudlow-rejects-recession-fears\n",
      "https://nytimes.com/interactive/2019/08/18/us/mexico-immigration-asylum.html\n",
      "https://cnbc.com/2019/08/19/us-decision-on-huawei-looms-as-stock-traders-follow-us-china-trade.html\n",
      "https://reuters.com/article/us-global-markets/stimulus-hopes-support-stocks-ease-pressure-on-bonds-idUSKCN1V901Q\n",
      "https://nytimes.com/2019/08/17/opinion/sunday/what-happens-in-a-recession.html\n",
      "https://reuters.com/article/us-britain-eu/recall-uk-parliament-to-tackle-brexit-crisis-opposition-labour-party-says-idUSKCN1V90J8\n",
      "https://cnbc.com/2019/08/16/heres-what-powell-could-say-at-jackson-hole-to-soothe-the-markets.html\n",
      "https://reuters.com/article/us-argentina-election-youth/not-your-fathers-peronists-why-macri-flopped-with-young-argentines-idUSKCN1V80IT\n",
      "https://reuters.com/article/us-usa-trump-lewandowski/ex-trump-campaign-chief-lewandowski-says-happy-to-testify-before-congress-idUSKCN1V6244\n",
      "https://markets.businessinsider.com/currencies/news/bitcoin-price-nears-12000-as-stocks-slip-on-trade-tension-2019-8-1028418882\n",
      "https://washingtontimes.com/news/2019/aug/14/faa-bans-faulty-macbook-pro-models-recalled-by-app\n",
      "https://markets.businessinsider.com/news/stocks/ge-fraud-report-accounting-controversy-history-sec-investigations-markopolos-2019-8-1028453418\n",
      "https://marketwatch.com/story/9-ways-californias-new-retirement-plan-changes-the-retirement-savings-landscape-2019-08-16\n",
      "https://reuters.com/article/us-jpmorgan-markets/jpmorgan-to-brief-clients-on-volatility-in-equity-markets-idUSKCN1V80LK\n",
      "https://nytimes.com/interactive/2019/08/15/opinion/brianna-wu-gamergate.html\n",
      "https://washingtontimes.com/news/2019/aug/15/citgo-venezuela-fight-between-nicolas-maduro-juan-\n",
      "https://washingtontimes.com/news/2019/aug/18/portland-ground-zero-right-wing-groups-vow-crush-a\n",
      "https://morningstar.com/articles/933703/7-cheap-stocks-for-risk-takers\n",
      "https://nytimes.com/2019/08/19/travel/ken-burns-country-music.html\n",
      "https://newslink.reuters.com/video/2019/08/19/hong-kong-protests-march-on-with-massive?videoId=589146323&videoChannel=118169\n",
      "https://nytimes.com/2019/08/14/style/modern-love-podcast-nikolaj-coster-waldau.html\n",
      "https://washingtontimes.com/news/2019/aug/18/joe-manchin-encouraged-gun-control-talks-capitol-h\n",
      "https://cbsnews.com/news/hong-kong-protests-how-did-we-get-here-2019-08-15\n",
      "https://reuters.com/article/us-usa-trade-whiskey/u-s-whiskey-exporters-struggle-after-year-of-eu-tariffs-idUSKCN1V80DN?il=0\n",
      "https://reuters.com/article/us-mideast-iran-tanker/iran-tanker-heads-to-greece-after-release-iran-warns-u-s-against-seizure-attempt-idUSKCN1V90DM?il=0\n",
      "https://washingtontimes.com/news/2019/aug/15/rashida-tlaib-ilhan-omar-have-no-right-visit-israe\n",
      "https://reuters.com/article/us-mideast-iran-tanker/iran-tanker-heads-to-greece-after-release-iran-warns-u-s-against-seizure-attempt-idUSKCN1V90DM\n",
      "https://reuters.com/article/us-nvidia-gaming/microsoft-nvidia-team-up-for-more-realistic-visuals-on-minecraft-game-idUSKCN1V90HS?il=0\n",
      "https://washingtontimes.com/news/2019/aug/14/investigation-clears-analyst-accused-of-leaking-da\n",
      "https://nytimes.com/2019/08/17/opinion/sunday/high-school-reunion.html\n",
      "https://morningstar.com/articles/941147/gun-stocks-in-fund-portfolios-revisited\n",
      "https://morningstar.com/articles/935414/are-these-9-stocks-with-fair-value-hikes-worth-buying\n",
      "https://nytimes.com/2019/08/18/world/americas/guatemala-violence-women-asylum.html\n",
      "https://morningstar.com/news/dow-jones/20190819775/europe-markets-after-three-down-weeks-europe-stocks-start-higher\n",
      "https://reuters.com/article/us-europe-stocks/last-orders-rise-of-closing-auctions-stirs-worries-in-european-stock-markets-idUSKCN1V90DE?il=0\n",
      "https://washingtontimes.com/news/2019/aug/18/ted-cruz-new-york-times-destroying-itself-trump-ha\n",
      "https://washingtontimes.com/news/2019/aug/15/google-employees-demand-anti-ice-pledge\n",
      "https://nytimes.com/2019/08/18/reader-center/theweekly-opioids-purdue-witnesses.html\n",
      "https://marketwatch.com/story/this-amazon-workers-reason-for-quitting-seemed-so-completely-ridiculous-that-hr-thought-he-was-joking-2019-08-07\n",
      "https://reuters.com/article/us-usa-trade-whiskey/u-s-whiskey-exporters-struggle-after-year-of-eu-tariffs-idUSKCN1V80DN\n",
      "https://nytimes.com/2019/08/17/opinion/sunday/global-recession.html\n",
      "https://washingtontimes.com/news/2019/aug/18/pete-buttigieg-donald-trump-china-tariffs-fools-er\n",
      "https://reuters.com/video/2019/08/19/hong-kong-protests-march-on-with-massive?videoId=589146323&videoChannel=118169\n",
      "https://reuters.com/article/us-europe-migrants-spain-denial/spain-says-no-deal-with-italy-on-migrants-offers-its-ports-idUSKCN1V90S1?il=0\n",
      "https://morningstar.com/news/dow-jones/201908191574/global-stocks-jump-to-start-the-week\n",
      "https://reuters.com/article/us-afghanistan-blast/explosions-in-afghanistan-wound-dozens-on-independence-day-idUSKCN1V90OI\n",
      "https://nytimes.com/2019/08/16/the-weekly/opioid-crisis-epidemic.html\n",
      "https://washingtontimes.com/news/2019/aug/18/donald-trump-china-trade-deal-unlikely-if-hong-kon\n",
      "https://washingtontimes.com/news/2019/aug/15/vaping-industry-suing-fda-over-unreasonable-and-ar\n"
     ]
    },
    {
     "name": "stdout",
     "output_type": "stream",
     "text": [
      "https://reuters.com/video/2019/08/17/petitioners-want-trump-tower-on-obama-av?videoId=588304296&videoChannel=118169\n",
      "https://nytimes.com/2019/08/17/opinion/sunday/light-pollution.html\n",
      "https://reuters.com/article/us-britain-economy-carney/boes-carney-says-negative-rates-not-an-option-for-uk-central-banking-idUSKCN1V90R9?il=0\n",
      "https://morningstar.com/news/dow-jones/20190819596/whats-news-world-wide-wsj\n",
      "https://washingtontimes.com/news/2019/aug/18/bernie-sanders-criminal-justice-system-overhaul-ta\n",
      "https://reuters.com/article/us-pes-bankruptcy-buyer/pes-up-against-the-clock-to-sell-philadelphia-refinery-in-cash-crunch-idUSKCN1V61M3\n",
      "https://washingtontimes.com/news/2019/aug/17/bill-maher-calls-movement-to-boycott-israel-a-bull\n",
      "https://marketwatch.com/story/these-college-students-are-far-more-prone-to-mental-health-issues-2019-08-19\n",
      "https://washingtonpost.com/terms-of-service/2011/11/18/gIQAldiYiN_story.html\n",
      "https://reuters.com/article/us-huawei-tech-usa/u-s-president-trump-does-not-want-to-do-business-with-chinas-huawei-idUSKCN1V80P6\n",
      "https://washingtontimes.com/news/2019/aug/18/philadelphia-mayor-jim-kenney-should-blame-gunman-\n",
      "https://cbsnews.com/news/stephanie-frappart-makes-history-as-first-woman-to-officiate-a-major-european-mens-soccer-final-2019-08-14\n",
      "https://newslink.reuters.com/video/2019/08/17/scientists-find-microplastics-deep-in-ar?videoId=587718020&videoChannel=118169\n",
      "https://morningstar.com/news/dow-jones/20190819853/asia-markets-asian-markets-climb-on-china-stimulus-move-trade-talks-optimism\n",
      "https://morningstar.com/articles/923704/4-excellent-dividend-growth-funds-and-etfs\n",
      "https://washingtontimes.com/quiz/2019/aug/15/do-you-remember-movie-taglines\n",
      "https://reuters.com/article/us-nvidia-gaming/microsoft-nvidia-team-up-for-more-realistic-visuals-on-minecraft-game-idUSKCN1V90HS\n",
      "https://morningstar.com/articles/912917/5-things-to-know-about-sustainable-funds\n",
      "https://markets.businessinsider.com/currencies/news/bitcoin-price-rises-over-12000-traders-view-as-safe-haven-2019-8-1028427592\n",
      "https://cbsnews.com/news/jeffrey-epstein-prince-andrew-says-hes-appalled-by-alleged-epstein-crimes-today-2019-08-19\n",
      "https://washingtontimes.com/news/2019/aug/18/gibraltar-rejects-us-request-hold-iran-supertanker\n",
      "\n"
     ]
    }
   ],
   "source": [
    "# 동일 url 모두 제거\n",
    "for url in tqdm(set(Newsdata.objects.values_list('url', flat=True))):\n",
    "    objs = Newsdata.objects.filter(url=url)\n",
    "    if len(objs)>1:\n",
    "        [obj.delete() for obj in objs[1:]]\n",
    "        print(url)"
   ]
  },
  {
   "cell_type": "code",
   "execution_count": 76,
   "metadata": {},
   "outputs": [
    {
     "data": {
      "text/plain": [
       "<QuerySet [<Newsdata: [None | newyork_times] The Weekly | A Secret Opioid Memo That Could Have Slowed an Epidemic>, <Newsdata: [None | newyork_times] How Trump’s Policies Are Leaving Thousands of Asylum Seekers Waiting in Mexico>, <Newsdata: [None | newyork_times] The Weekly | A Secret Opioid Memo That Could Have Slowed an Epidemic>, <Newsdata: [None | newyork_times] A Nun, a Doctor and a Lawyer — and Deep Regret Over the Nation’s Handling of Opioids>, <Newsdata: [None | newyork_times] Opinion | Our Kids Do Not Need a Weight Watchers App>, <Newsdata: [None | newyork_times] Opinion | I Wish I Could Tell You It’s Gotten Better. It Hasn’t.>, <Newsdata: [None | newyork_times] In Southern Appalachia, Searching for the ‘Big Bang’ of Country Music>, <Newsdata: [None | newyork_times] One Minute It Was an Afghan Wedding. The Next, a Funeral for 63.>, <Newsdata: [None | newyork_times] Seized Iranian Tanker Leaves Gibraltar Despite U.S. Pressure>, <Newsdata: [None | newyork_times] Opinion | What’s Wrong With the Global Economy?>, <Newsdata: [None | newyork_times] 时报普利策获奖作品>, <Newsdata: [None | newyork_times] 掉入未知的“兔子洞”>, <Newsdata: [None | newyork_times] How YouTube Misinformation Resolved a WhatsApp Mystery in Brazil>, <Newsdata: [None | newyork_times] Women Are Fleeing Death at Home. The U.S. Wants to Keep Them Out.>, <Newsdata: [None | newyork_times] The Barbaric History of Sugar in America>, <Newsdata: [None | newyork_times] Opinion | Personal Data About Small-Donor Democrats Is All Over the Internet>, <Newsdata: [None | newyork_times] No Pre-Reading, No Rehearsing: How ‘The Weekly’ Kept Its Recreation of Historic Opioid Testimony Authentic>, <Newsdata: [None | newyork_times] Opinion | Personal Data About Small-Donor Democrats Is All Over the Internet>, <Newsdata: [None | newyork_times] Accusations Against Plácido Domingo Divide the Opera World>, <Newsdata: [None | newyork_times] Opinion | Our Kids Do Not Need a Weight Watchers App>, '...(remaining elements truncated)...']>"
      ]
     },
     "execution_count": 76,
     "metadata": {},
     "output_type": "execute_result"
    }
   ],
   "source": [
    "Newsdata.objects.filter(publisher__contains='newyork')"
   ]
  },
  {
   "cell_type": "code",
   "execution_count": 78,
   "metadata": {},
   "outputs": [
    {
     "data": {
      "application/vnd.jupyter.widget-view+json": {
       "model_id": "3313251b9b9248ff886dfcf9e3004acc",
       "version_major": 2,
       "version_minor": 0
      },
      "text/plain": [
       "HBox(children=(IntProgress(value=0, max=2783), HTML(value='')))"
      ]
     },
     "metadata": {},
     "output_type": "display_data"
    },
    {
     "name": "stdout",
     "output_type": "stream",
     "text": [
      "\n"
     ]
    }
   ],
   "source": [
    "for obj in tqdm(Newsdata.objects.all()):\n",
    "    publisher = obj.publisher\n",
    "    if 'huffing' in publisher:\n",
    "        obj.publisher = 'huffingtonpost'\n",
    "    elif 'investing' in publisher:\n",
    "        obj.publisher = 'investingcom'\n",
    "    elif 'fox'==publisher:\n",
    "        obj.publisher = 'foxnews'\n",
    "    elif 'fox_business'==publisher:\n",
    "        obj.publisher = 'foxbusiness'\n",
    "    elif 'business_insider'==publisher:\n",
    "        obj.publisher = 'businessinsider'\n",
    "    elif 'newyork_times'==publisher:\n",
    "        obj.publisher = 'nyt'\n",
    "    elif 'washington_times'==publisher:\n",
    "        obj.publisher = 'washingtontimes'\n",
    "    elif 'washington_post'==publisher:\n",
    "        obj.publisher = 'washingtonpost'\n",
    "    elif 'market_watch'==publisher:\n",
    "        obj.publisher = 'marketwatch'\n",
    "        \n",
    "    obj.save()"
   ]
  },
  {
   "cell_type": "code",
   "execution_count": 40,
   "metadata": {},
   "outputs": [],
   "source": [
    "config = Config()\n",
    "config.fetch_images = False\n",
    "config.memoize_articles = False\n",
    "config.language = 'en'"
   ]
  },
  {
   "cell_type": "code",
   "execution_count": null,
   "metadata": {},
   "outputs": [],
   "source": [
    "urls = {\n",
    "    'huffingtonpost':  'https://huffpost.com', #\n",
    "    'cnn':             'https://cnn.com', #\n",
    "    'investingcom':    'https://investing.com', #\n",
    "    'politico':        'https://politico.com', #\n",
    "    'time':            'https://time.com', # 다시\n",
    "    'cnbc':            'https://cnbc.com', #\n",
    "    'foxnews':         'https://foxnews.com', #\n",
    "    'foxbusiness':     'https://foxbusiness.com', # 다시\n",
    "    'bbc':             'https://bbc.com', # 다시\n",
    "    'businessinsider': 'https://businessinsider.com', #\n",
    "    'morningstar':     'https://morningstar.com', #\n",
    "    'wsj':             'https://wsj.com', # ?mod=rsswn\n",
    "    'nyt':             'https://nytimes.com', #\n",
    "    'nbc':             'https://nbcnews.com', # 안됨, 지울것\n",
    "    'guardian':        'https://theguardian.com', #\n",
    "    'reuters':         'https://reuters.com', #\n",
    "    'washingtontimes': 'https://washingtontimes.com', #\n",
    "    'washingtonpost':  'https://washingtonpost.com', #\n",
    "    'cbs':             'https://cbsnews.com', #\n",
    "    'marketwatch':     'https://marketwatch.com', #\n",
    "    #'forbes':          'https://forbes.com', \n",
    "    #'hbr':             'https://hbr.org', \n",
    "    #'ft':              'https://ft.com', \n",
    "    #'economist':       'https://economist.com', \n",
    "}"
   ]
  },
  {
   "cell_type": "code",
   "execution_count": 56,
   "metadata": {},
   "outputs": [],
   "source": [
    "urls = {'foxbusiness':'https://foxbusiness.com'}"
   ]
  },
  {
   "cell_type": "code",
   "execution_count": 57,
   "metadata": {
    "scrolled": false
   },
   "outputs": [
    {
     "data": {
      "application/vnd.jupyter.widget-view+json": {
       "model_id": "acb2cf905f9e4be1aabf6805977b48a3",
       "version_major": 2,
       "version_minor": 0
      },
      "text/plain": [
       "HBox(children=(IntProgress(value=0, max=1), HTML(value='')))"
      ]
     },
     "metadata": {},
     "output_type": "display_data"
    },
    {
     "name": "stdout",
     "output_type": "stream",
     "text": [
      "\n"
     ]
    }
   ],
   "source": [
    "src = {publisher: newspaper.build(url, config=config).articles for publisher, url in tqdm(urls.items())}"
   ]
  },
  {
   "cell_type": "code",
   "execution_count": 77,
   "metadata": {},
   "outputs": [
    {
     "data": {
      "text/plain": [
       "\"'Watershed moment': Israel critics seize on Trump-Netanyahu bromance after travel ban\\nOmar and Tlaib were denied entry as progressive groups in the U.S. pressure Democratic candidates to back the Palestinian cause.\""
      ]
     },
     "execution_count": 77,
     "metadata": {},
     "output_type": "execute_result"
    }
   ],
   "source": [
    "NewsPlease.from_url('https://www.nbcnews.com/politics/2020-election/watershed-moment-israel-critics-seize-trump-netanyahu-bromance-after-travel-n1042971').text"
   ]
  },
  {
   "cell_type": "code",
   "execution_count": 65,
   "metadata": {},
   "outputs": [
    {
     "data": {
      "text/plain": [
       "'President Trump ordered U.S. shipping companies to block shipments of the opioid painkiller fentanyl into the country from China.\\n\\nContinue Reading Below\\n\\n\"I am ordering all carriers, including Fed Ex, Amazon, UPS and the Post Office, to SEARCH FOR & REFUSE all deliveries of Fentanyl from China (or anywhere else!),\" Trump tweeted Friday.\\n\\n\"Fentanyl kills 100,000 Americans a year. President Xi said this would stop - it didn’t,\" he continued. \"Our Economy, because of our gains in the last 2 1/2 years, is MUCH larger than that of China. We will keep it that way!\"\\n\\nThe comments come as China announced a new round of retaliatory tariffs on about $75 billion worth of U.S. goods. Trump said on Twitter that he would respond to the tariffs Friday afternoon.\\n\\nTrump\\'s director of trade and manufacturing policy, Peter Navarro, echoed the president\\'s message in an interview with FOX Business anchor Maria Bartiromo Friday morning.\\n\\nAdvertisement\\n\\n\"He has absolutely galvanized the American people and Capitol Hill behind his China policy, and we know why,\" Navarro said of Trump. \"China steals our stuff, they flood our communities with fentanyl and everything in between.\"\\n\\nChina added fentanyl products to the country\\'s list of narcotics subject to state control after President Xi Jinping met with Trump in December 2018, but the White House says it has not seen substantial action on blocking major shipments.\\n\\nUPS responded to the tweets, telling FOX Business it \"follows all applicable laws and administrative orders of the governments in the countries where we do business.\"\\n\\n\"We work closely with regulatory authorities to monitor for prohibited substances,\" UPS said in a statement.\\n\\nFedEx said it \"already has extensive security measures in place to prevent the use of our networks for illegal purposes.\"\\n\\n\"We follow the laws and regulations everywhere we do business and have a long history of close cooperation with authorities,\" the company told FOX Business. \"FedEx supported passage of the STOP Act and encourages accelerated implementation and enforcement of its provisions to protect the health and safety of the American people.”\\n\\nSuzanne O\\'Halloran contributed to this report.'"
      ]
     },
     "execution_count": 65,
     "metadata": {},
     "output_type": "execute_result"
    }
   ],
   "source": [
    "article0 = src['foxbusiness'][22]\n",
    "article0.download()\n",
    "article0.parse()\n",
    "article0.text\n",
    "# article0.url"
   ]
  },
  {
   "cell_type": "code",
   "execution_count": null,
   "metadata": {},
   "outputs": [],
   "source": []
  },
  {
   "cell_type": "code",
   "execution_count": null,
   "metadata": {},
   "outputs": [],
   "source": []
  },
  {
   "cell_type": "code",
   "execution_count": null,
   "metadata": {},
   "outputs": [],
   "source": []
  },
  {
   "cell_type": "code",
   "execution_count": null,
   "metadata": {},
   "outputs": [],
   "source": []
  },
  {
   "cell_type": "code",
   "execution_count": null,
   "metadata": {},
   "outputs": [],
   "source": []
  },
  {
   "cell_type": "code",
   "execution_count": 66,
   "metadata": {},
   "outputs": [
    {
     "data": {
      "text/plain": [
       "\"'Watershed moment': Israel critics seize on Trump-Netanyahu bromance after travel ban\\n\\nOmar and Tlaib were denied entry as progressive groups in the U.S. pressure Democratic candidates to back the Palestinian cause.\""
      ]
     },
     "execution_count": 66,
     "metadata": {},
     "output_type": "execute_result"
    }
   ],
   "source": [
    "k0 = Article('https://www.nbcnews.com/politics/2020-election/watershed-moment-israel-critics-seize-trump-netanyahu-bromance-after-travel-n1042971')\n",
    "k0.download()\n",
    "k0.parse()\n",
    "k0.text"
   ]
  },
  {
   "cell_type": "code",
   "execution_count": 67,
   "metadata": {},
   "outputs": [
    {
     "data": {
      "text/plain": [
       "datetime.datetime(2019, 8, 16, 15, 51, tzinfo=tzutc())"
      ]
     },
     "execution_count": 67,
     "metadata": {},
     "output_type": "execute_result"
    }
   ],
   "source": [
    "k0.publish_date"
   ]
  },
  {
   "cell_type": "code",
   "execution_count": 68,
   "metadata": {},
   "outputs": [
    {
     "data": {
      "text/plain": [
       "\"'Watershed moment': Israel critics seize on Trump-Netanyahu bromance after travel ban\""
      ]
     },
     "execution_count": 68,
     "metadata": {},
     "output_type": "execute_result"
    }
   ],
   "source": [
    "k0.title"
   ]
  },
  {
   "cell_type": "code",
   "execution_count": null,
   "metadata": {},
   "outputs": [],
   "source": []
  },
  {
   "cell_type": "code",
   "execution_count": 18,
   "metadata": {},
   "outputs": [],
   "source": [
    "Newsdata.objects.all().delete();"
   ]
  },
  {
   "cell_type": "code",
   "execution_count": 19,
   "metadata": {},
   "outputs": [
    {
     "data": {
      "application/vnd.jupyter.widget-view+json": {
       "model_id": "7cc0a62fc4a3458db47aa7081801dae3",
       "version_major": 2,
       "version_minor": 0
      },
      "text/plain": [
       "HBox(children=(IntProgress(value=0, max=19), HTML(value='')))"
      ]
     },
     "metadata": {},
     "output_type": "display_data"
    },
    {
     "data": {
      "application/vnd.jupyter.widget-view+json": {
       "model_id": "d86269f2024547979eb5de4afa676d9c",
       "version_major": 2,
       "version_minor": 0
      },
      "text/plain": [
       "HBox(children=(IntProgress(value=0, max=79), HTML(value='')))"
      ]
     },
     "metadata": {},
     "output_type": "display_data"
    },
    {
     "name": "stdout",
     "output_type": "stream",
     "text": [
      "\n"
     ]
    },
    {
     "data": {
      "application/vnd.jupyter.widget-view+json": {
       "model_id": "59d43748c2824cf7b81349a2aa715227",
       "version_major": 2,
       "version_minor": 0
      },
      "text/plain": [
       "HBox(children=(IntProgress(value=0, max=806), HTML(value='')))"
      ]
     },
     "metadata": {},
     "output_type": "display_data"
    },
    {
     "name": "stderr",
     "output_type": "stream",
     "text": [
      "C:\\Users\\infomax\\Documents\\GitHub\\protobed\\venv\\lib\\site-packages\\django\\db\\models\\fields\\__init__.py:1421: RuntimeWarning: DateTimeField Newsdata.publish_date received a naive datetime (2019-08-18 00:00:00) while time zone support is active.\n",
      "  RuntimeWarning)\n",
      "C:\\Users\\infomax\\Documents\\GitHub\\protobed\\venv\\lib\\site-packages\\django\\db\\models\\fields\\__init__.py:1421: RuntimeWarning: DateTimeField Newsdata.publish_date received a naive datetime (2019-08-17 00:00:00) while time zone support is active.\n",
      "  RuntimeWarning)\n",
      "C:\\Users\\infomax\\Documents\\GitHub\\protobed\\venv\\lib\\site-packages\\django\\db\\models\\fields\\__init__.py:1421: RuntimeWarning: DateTimeField Newsdata.publish_date received a naive datetime (2019-08-16 00:00:00) while time zone support is active.\n",
      "  RuntimeWarning)\n",
      "C:\\Users\\infomax\\Documents\\GitHub\\protobed\\venv\\lib\\site-packages\\django\\db\\models\\fields\\__init__.py:1421: RuntimeWarning: DateTimeField Newsdata.publish_date received a naive datetime (2019-08-13 00:00:00) while time zone support is active.\n",
      "  RuntimeWarning)\n",
      "C:\\Users\\infomax\\Documents\\GitHub\\protobed\\venv\\lib\\site-packages\\django\\db\\models\\fields\\__init__.py:1421: RuntimeWarning: DateTimeField Newsdata.publish_date received a naive datetime (2019-08-08 00:00:00) while time zone support is active.\n",
      "  RuntimeWarning)\n",
      "C:\\Users\\infomax\\Documents\\GitHub\\protobed\\venv\\lib\\site-packages\\django\\db\\models\\fields\\__init__.py:1421: RuntimeWarning: DateTimeField Newsdata.publish_date received a naive datetime (2019-08-12 00:00:00) while time zone support is active.\n",
      "  RuntimeWarning)\n",
      "C:\\Users\\infomax\\Documents\\GitHub\\protobed\\venv\\lib\\site-packages\\django\\db\\models\\fields\\__init__.py:1421: RuntimeWarning: DateTimeField Newsdata.publish_date received a naive datetime (2019-08-11 00:00:00) while time zone support is active.\n",
      "  RuntimeWarning)\n",
      "C:\\Users\\infomax\\Documents\\GitHub\\protobed\\venv\\lib\\site-packages\\django\\db\\models\\fields\\__init__.py:1421: RuntimeWarning: DateTimeField Newsdata.publish_date received a naive datetime (2019-08-09 00:00:00) while time zone support is active.\n",
      "  RuntimeWarning)\n",
      "C:\\Users\\infomax\\Documents\\GitHub\\protobed\\venv\\lib\\site-packages\\django\\db\\models\\fields\\__init__.py:1421: RuntimeWarning: DateTimeField Newsdata.publish_date received a naive datetime (2019-08-01 00:00:00) while time zone support is active.\n",
      "  RuntimeWarning)\n",
      "C:\\Users\\infomax\\Documents\\GitHub\\protobed\\venv\\lib\\site-packages\\django\\db\\models\\fields\\__init__.py:1421: RuntimeWarning: DateTimeField Newsdata.publish_date received a naive datetime (2019-06-19 00:00:00) while time zone support is active.\n",
      "  RuntimeWarning)\n",
      "C:\\Users\\infomax\\Documents\\GitHub\\protobed\\venv\\lib\\site-packages\\django\\db\\models\\fields\\__init__.py:1421: RuntimeWarning: DateTimeField Newsdata.publish_date received a naive datetime (2019-07-18 00:00:00) while time zone support is active.\n",
      "  RuntimeWarning)\n",
      "C:\\Users\\infomax\\Documents\\GitHub\\protobed\\venv\\lib\\site-packages\\django\\db\\models\\fields\\__init__.py:1421: RuntimeWarning: DateTimeField Newsdata.publish_date received a naive datetime (2019-07-16 00:00:00) while time zone support is active.\n",
      "  RuntimeWarning)\n",
      "C:\\Users\\infomax\\Documents\\GitHub\\protobed\\venv\\lib\\site-packages\\django\\db\\models\\fields\\__init__.py:1421: RuntimeWarning: DateTimeField Newsdata.publish_date received a naive datetime (2019-07-26 00:00:00) while time zone support is active.\n",
      "  RuntimeWarning)\n",
      "C:\\Users\\infomax\\Documents\\GitHub\\protobed\\venv\\lib\\site-packages\\django\\db\\models\\fields\\__init__.py:1421: RuntimeWarning: DateTimeField Newsdata.publish_date received a naive datetime (2019-07-27 00:00:00) while time zone support is active.\n",
      "  RuntimeWarning)\n",
      "C:\\Users\\infomax\\Documents\\GitHub\\protobed\\venv\\lib\\site-packages\\django\\db\\models\\fields\\__init__.py:1421: RuntimeWarning: DateTimeField Newsdata.publish_date received a naive datetime (2019-06-12 00:00:00) while time zone support is active.\n",
      "  RuntimeWarning)\n",
      "C:\\Users\\infomax\\Documents\\GitHub\\protobed\\venv\\lib\\site-packages\\django\\db\\models\\fields\\__init__.py:1421: RuntimeWarning: DateTimeField Newsdata.publish_date received a naive datetime (2019-08-05 00:00:00) while time zone support is active.\n",
      "  RuntimeWarning)\n",
      "C:\\Users\\infomax\\Documents\\GitHub\\protobed\\venv\\lib\\site-packages\\django\\db\\models\\fields\\__init__.py:1421: RuntimeWarning: DateTimeField Newsdata.publish_date received a naive datetime (2019-07-31 00:00:00) while time zone support is active.\n",
      "  RuntimeWarning)\n",
      "C:\\Users\\infomax\\Documents\\GitHub\\protobed\\venv\\lib\\site-packages\\django\\db\\models\\fields\\__init__.py:1421: RuntimeWarning: DateTimeField Newsdata.publish_date received a naive datetime (2019-08-14 00:00:00) while time zone support is active.\n",
      "  RuntimeWarning)\n",
      "C:\\Users\\infomax\\Documents\\GitHub\\protobed\\venv\\lib\\site-packages\\django\\db\\models\\fields\\__init__.py:1421: RuntimeWarning: DateTimeField Newsdata.publish_date received a naive datetime (2019-08-10 00:00:00) while time zone support is active.\n",
      "  RuntimeWarning)\n",
      "C:\\Users\\infomax\\Documents\\GitHub\\protobed\\venv\\lib\\site-packages\\django\\db\\models\\fields\\__init__.py:1421: RuntimeWarning: DateTimeField Newsdata.publish_date received a naive datetime (2019-08-03 00:00:00) while time zone support is active.\n",
      "  RuntimeWarning)\n",
      "C:\\Users\\infomax\\Documents\\GitHub\\protobed\\venv\\lib\\site-packages\\django\\db\\models\\fields\\__init__.py:1421: RuntimeWarning: DateTimeField Newsdata.publish_date received a naive datetime (2019-08-02 00:00:00) while time zone support is active.\n",
      "  RuntimeWarning)\n",
      "C:\\Users\\infomax\\Documents\\GitHub\\protobed\\venv\\lib\\site-packages\\django\\db\\models\\fields\\__init__.py:1421: RuntimeWarning: DateTimeField Newsdata.publish_date received a naive datetime (2019-03-19 00:00:00) while time zone support is active.\n",
      "  RuntimeWarning)\n",
      "C:\\Users\\infomax\\Documents\\GitHub\\protobed\\venv\\lib\\site-packages\\django\\db\\models\\fields\\__init__.py:1421: RuntimeWarning: DateTimeField Newsdata.publish_date received a naive datetime (2019-03-22 00:00:00) while time zone support is active.\n",
      "  RuntimeWarning)\n",
      "C:\\Users\\infomax\\Documents\\GitHub\\protobed\\venv\\lib\\site-packages\\django\\db\\models\\fields\\__init__.py:1421: RuntimeWarning: DateTimeField Newsdata.publish_date received a naive datetime (2019-03-28 00:00:00) while time zone support is active.\n",
      "  RuntimeWarning)\n",
      "C:\\Users\\infomax\\Documents\\GitHub\\protobed\\venv\\lib\\site-packages\\django\\db\\models\\fields\\__init__.py:1421: RuntimeWarning: DateTimeField Newsdata.publish_date received a naive datetime (2019-03-20 00:00:00) while time zone support is active.\n",
      "  RuntimeWarning)\n",
      "C:\\Users\\infomax\\Documents\\GitHub\\protobed\\venv\\lib\\site-packages\\django\\db\\models\\fields\\__init__.py:1421: RuntimeWarning: DateTimeField Newsdata.publish_date received a naive datetime (2018-08-15 00:00:00) while time zone support is active.\n",
      "  RuntimeWarning)\n",
      "C:\\Users\\infomax\\Documents\\GitHub\\protobed\\venv\\lib\\site-packages\\django\\db\\models\\fields\\__init__.py:1421: RuntimeWarning: DateTimeField Newsdata.publish_date received a naive datetime (2019-05-04 00:00:00) while time zone support is active.\n",
      "  RuntimeWarning)\n",
      "C:\\Users\\infomax\\Documents\\GitHub\\protobed\\venv\\lib\\site-packages\\django\\db\\models\\fields\\__init__.py:1421: RuntimeWarning: DateTimeField Newsdata.publish_date received a naive datetime (2019-07-13 00:00:00) while time zone support is active.\n",
      "  RuntimeWarning)\n",
      "C:\\Users\\infomax\\Documents\\GitHub\\protobed\\venv\\lib\\site-packages\\django\\db\\models\\fields\\__init__.py:1421: RuntimeWarning: DateTimeField Newsdata.publish_date received a naive datetime (2019-05-28 00:00:00) while time zone support is active.\n",
      "  RuntimeWarning)\n",
      "C:\\Users\\infomax\\Documents\\GitHub\\protobed\\venv\\lib\\site-packages\\django\\db\\models\\fields\\__init__.py:1421: RuntimeWarning: DateTimeField Newsdata.publish_date received a naive datetime (2018-08-17 00:00:00) while time zone support is active.\n",
      "  RuntimeWarning)\n",
      "C:\\Users\\infomax\\Documents\\GitHub\\protobed\\venv\\lib\\site-packages\\django\\db\\models\\fields\\__init__.py:1421: RuntimeWarning: DateTimeField Newsdata.publish_date received a naive datetime (2019-05-06 00:00:00) while time zone support is active.\n",
      "  RuntimeWarning)\n",
      "C:\\Users\\infomax\\Documents\\GitHub\\protobed\\venv\\lib\\site-packages\\django\\db\\models\\fields\\__init__.py:1421: RuntimeWarning: DateTimeField Newsdata.publish_date received a naive datetime (2018-07-09 00:00:00) while time zone support is active.\n",
      "  RuntimeWarning)\n"
     ]
    },
    {
     "name": "stderr",
     "output_type": "stream",
     "text": [
      "C:\\Users\\infomax\\Documents\\GitHub\\protobed\\venv\\lib\\site-packages\\django\\db\\models\\fields\\__init__.py:1421: RuntimeWarning: DateTimeField Newsdata.publish_date received a naive datetime (2018-10-17 00:00:00) while time zone support is active.\n",
      "  RuntimeWarning)\n",
      "C:\\Users\\infomax\\Documents\\GitHub\\protobed\\venv\\lib\\site-packages\\django\\db\\models\\fields\\__init__.py:1421: RuntimeWarning: DateTimeField Newsdata.publish_date received a naive datetime (2018-09-28 00:00:00) while time zone support is active.\n",
      "  RuntimeWarning)\n",
      "C:\\Users\\infomax\\Documents\\GitHub\\protobed\\venv\\lib\\site-packages\\django\\db\\models\\fields\\__init__.py:1421: RuntimeWarning: DateTimeField Newsdata.publish_date received a naive datetime (2018-09-07 00:00:00) while time zone support is active.\n",
      "  RuntimeWarning)\n",
      "C:\\Users\\infomax\\Documents\\GitHub\\protobed\\venv\\lib\\site-packages\\django\\db\\models\\fields\\__init__.py:1421: RuntimeWarning: DateTimeField Newsdata.publish_date received a naive datetime (2017-09-14 00:00:00) while time zone support is active.\n",
      "  RuntimeWarning)\n",
      "C:\\Users\\infomax\\Documents\\GitHub\\protobed\\venv\\lib\\site-packages\\django\\db\\models\\fields\\__init__.py:1421: RuntimeWarning: DateTimeField Newsdata.publish_date received a naive datetime (2019-07-22 00:00:00) while time zone support is active.\n",
      "  RuntimeWarning)\n",
      "C:\\Users\\infomax\\Documents\\GitHub\\protobed\\venv\\lib\\site-packages\\django\\db\\models\\fields\\__init__.py:1421: RuntimeWarning: DateTimeField Newsdata.publish_date received a naive datetime (2019-07-15 00:00:00) while time zone support is active.\n",
      "  RuntimeWarning)\n",
      "C:\\Users\\infomax\\Documents\\GitHub\\protobed\\venv\\lib\\site-packages\\django\\db\\models\\fields\\__init__.py:1421: RuntimeWarning: DateTimeField Newsdata.publish_date received a naive datetime (2019-07-01 00:00:00) while time zone support is active.\n",
      "  RuntimeWarning)\n",
      "C:\\Users\\infomax\\Documents\\GitHub\\protobed\\venv\\lib\\site-packages\\django\\db\\models\\fields\\__init__.py:1421: RuntimeWarning: DateTimeField Newsdata.publish_date received a naive datetime (2019-06-10 00:00:00) while time zone support is active.\n",
      "  RuntimeWarning)\n",
      "C:\\Users\\infomax\\Documents\\GitHub\\protobed\\venv\\lib\\site-packages\\django\\db\\models\\fields\\__init__.py:1421: RuntimeWarning: DateTimeField Newsdata.publish_date received a naive datetime (2019-06-03 00:00:00) while time zone support is active.\n",
      "  RuntimeWarning)\n",
      "C:\\Users\\infomax\\Documents\\GitHub\\protobed\\venv\\lib\\site-packages\\django\\db\\models\\fields\\__init__.py:1421: RuntimeWarning: DateTimeField Newsdata.publish_date received a naive datetime (2019-03-17 00:00:00) while time zone support is active.\n",
      "  RuntimeWarning)\n",
      "C:\\Users\\infomax\\Documents\\GitHub\\protobed\\venv\\lib\\site-packages\\django\\db\\models\\fields\\__init__.py:1421: RuntimeWarning: DateTimeField Newsdata.publish_date received a naive datetime (2019-05-12 00:00:00) while time zone support is active.\n",
      "  RuntimeWarning)\n",
      "C:\\Users\\infomax\\Documents\\GitHub\\protobed\\venv\\lib\\site-packages\\django\\db\\models\\fields\\__init__.py:1421: RuntimeWarning: DateTimeField Newsdata.publish_date received a naive datetime (2019-04-14 00:00:00) while time zone support is active.\n",
      "  RuntimeWarning)\n",
      "C:\\Users\\infomax\\Documents\\GitHub\\protobed\\venv\\lib\\site-packages\\django\\db\\models\\fields\\__init__.py:1421: RuntimeWarning: DateTimeField Newsdata.publish_date received a naive datetime (2019-03-25 00:00:00) while time zone support is active.\n",
      "  RuntimeWarning)\n",
      "C:\\Users\\infomax\\Documents\\GitHub\\protobed\\venv\\lib\\site-packages\\django\\db\\models\\fields\\__init__.py:1421: RuntimeWarning: DateTimeField Newsdata.publish_date received a naive datetime (2019-03-27 00:00:00) while time zone support is active.\n",
      "  RuntimeWarning)\n",
      "C:\\Users\\infomax\\Documents\\GitHub\\protobed\\venv\\lib\\site-packages\\django\\db\\models\\fields\\__init__.py:1421: RuntimeWarning: DateTimeField Newsdata.publish_date received a naive datetime (2019-07-03 00:00:00) while time zone support is active.\n",
      "  RuntimeWarning)\n",
      "C:\\Users\\infomax\\Documents\\GitHub\\protobed\\venv\\lib\\site-packages\\django\\db\\models\\fields\\__init__.py:1421: RuntimeWarning: DateTimeField Newsdata.publish_date received a naive datetime (2019-06-27 00:00:00) while time zone support is active.\n",
      "  RuntimeWarning)\n",
      "C:\\Users\\infomax\\Documents\\GitHub\\protobed\\venv\\lib\\site-packages\\django\\db\\models\\fields\\__init__.py:1421: RuntimeWarning: DateTimeField Newsdata.publish_date received a naive datetime (2019-07-08 00:00:00) while time zone support is active.\n",
      "  RuntimeWarning)\n",
      "C:\\Users\\infomax\\Documents\\GitHub\\protobed\\venv\\lib\\site-packages\\django\\db\\models\\fields\\__init__.py:1421: RuntimeWarning: DateTimeField Newsdata.publish_date received a naive datetime (2019-08-19 00:00:00) while time zone support is active.\n",
      "  RuntimeWarning)\n",
      "C:\\Users\\infomax\\Documents\\GitHub\\protobed\\venv\\lib\\site-packages\\django\\db\\models\\fields\\__init__.py:1421: RuntimeWarning: DateTimeField Newsdata.publish_date received a naive datetime (2013-09-09 00:00:00) while time zone support is active.\n",
      "  RuntimeWarning)\n",
      "C:\\Users\\infomax\\Documents\\GitHub\\protobed\\venv\\lib\\site-packages\\django\\db\\models\\fields\\__init__.py:1421: RuntimeWarning: DateTimeField Newsdata.publish_date received a naive datetime (2019-07-10 00:00:00) while time zone support is active.\n",
      "  RuntimeWarning)\n",
      "C:\\Users\\infomax\\Documents\\GitHub\\protobed\\venv\\lib\\site-packages\\django\\db\\models\\fields\\__init__.py:1421: RuntimeWarning: DateTimeField Newsdata.publish_date received a naive datetime (2019-02-01 00:00:00) while time zone support is active.\n",
      "  RuntimeWarning)\n",
      "C:\\Users\\infomax\\Documents\\GitHub\\protobed\\venv\\lib\\site-packages\\django\\db\\models\\fields\\__init__.py:1421: RuntimeWarning: DateTimeField Newsdata.publish_date received a naive datetime (2019-01-21 00:00:00) while time zone support is active.\n",
      "  RuntimeWarning)\n",
      "C:\\Users\\infomax\\Documents\\GitHub\\protobed\\venv\\lib\\site-packages\\django\\db\\models\\fields\\__init__.py:1421: RuntimeWarning: DateTimeField Newsdata.publish_date received a naive datetime (2019-08-07 00:00:00) while time zone support is active.\n",
      "  RuntimeWarning)\n",
      "C:\\Users\\infomax\\Documents\\GitHub\\protobed\\venv\\lib\\site-packages\\django\\db\\models\\fields\\__init__.py:1421: RuntimeWarning: DateTimeField Newsdata.publish_date received a naive datetime (2019-08-04 00:00:00) while time zone support is active.\n",
      "  RuntimeWarning)\n",
      "C:\\Users\\infomax\\Documents\\GitHub\\protobed\\venv\\lib\\site-packages\\django\\db\\models\\fields\\__init__.py:1421: RuntimeWarning: DateTimeField Newsdata.publish_date received a naive datetime (2019-07-25 00:00:00) while time zone support is active.\n",
      "  RuntimeWarning)\n",
      "C:\\Users\\infomax\\Documents\\GitHub\\protobed\\venv\\lib\\site-packages\\django\\db\\models\\fields\\__init__.py:1421: RuntimeWarning: DateTimeField Newsdata.publish_date received a naive datetime (2019-07-29 00:00:00) while time zone support is active.\n",
      "  RuntimeWarning)\n",
      "C:\\Users\\infomax\\Documents\\GitHub\\protobed\\venv\\lib\\site-packages\\django\\db\\models\\fields\\__init__.py:1421: RuntimeWarning: DateTimeField Newsdata.publish_date received a naive datetime (2018-07-25 00:00:00) while time zone support is active.\n",
      "  RuntimeWarning)\n",
      "C:\\Users\\infomax\\Documents\\GitHub\\protobed\\venv\\lib\\site-packages\\django\\db\\models\\fields\\__init__.py:1421: RuntimeWarning: DateTimeField Newsdata.publish_date received a naive datetime (2018-01-30 00:00:00) while time zone support is active.\n",
      "  RuntimeWarning)\n",
      "C:\\Users\\infomax\\Documents\\GitHub\\protobed\\venv\\lib\\site-packages\\django\\db\\models\\fields\\__init__.py:1421: RuntimeWarning: DateTimeField Newsdata.publish_date received a naive datetime (2018-07-30 00:00:00) while time zone support is active.\n",
      "  RuntimeWarning)\n",
      "C:\\Users\\infomax\\Documents\\GitHub\\protobed\\venv\\lib\\site-packages\\django\\db\\models\\fields\\__init__.py:1421: RuntimeWarning: DateTimeField Newsdata.publish_date received a naive datetime (2019-07-23 00:00:00) while time zone support is active.\n",
      "  RuntimeWarning)\n",
      "C:\\Users\\infomax\\Documents\\GitHub\\protobed\\venv\\lib\\site-packages\\django\\db\\models\\fields\\__init__.py:1421: RuntimeWarning: DateTimeField Newsdata.publish_date received a naive datetime (2019-07-19 00:00:00) while time zone support is active.\n",
      "  RuntimeWarning)\n",
      "C:\\Users\\infomax\\Documents\\GitHub\\protobed\\venv\\lib\\site-packages\\django\\db\\models\\fields\\__init__.py:1421: RuntimeWarning: DateTimeField Newsdata.publish_date received a naive datetime (2019-07-17 00:00:00) while time zone support is active.\n",
      "  RuntimeWarning)\n"
     ]
    },
    {
     "name": "stderr",
     "output_type": "stream",
     "text": [
      "C:\\Users\\infomax\\Documents\\GitHub\\protobed\\venv\\lib\\site-packages\\django\\db\\models\\fields\\__init__.py:1421: RuntimeWarning: DateTimeField Newsdata.publish_date received a naive datetime (2019-07-11 00:00:00) while time zone support is active.\n",
      "  RuntimeWarning)\n",
      "C:\\Users\\infomax\\Documents\\GitHub\\protobed\\venv\\lib\\site-packages\\django\\db\\models\\fields\\__init__.py:1421: RuntimeWarning: DateTimeField Newsdata.publish_date received a naive datetime (2019-07-09 00:00:00) while time zone support is active.\n",
      "  RuntimeWarning)\n",
      "C:\\Users\\infomax\\Documents\\GitHub\\protobed\\venv\\lib\\site-packages\\django\\db\\models\\fields\\__init__.py:1421: RuntimeWarning: DateTimeField Newsdata.publish_date received a naive datetime (2019-07-06 00:00:00) while time zone support is active.\n",
      "  RuntimeWarning)\n",
      "C:\\Users\\infomax\\Documents\\GitHub\\protobed\\venv\\lib\\site-packages\\django\\db\\models\\fields\\__init__.py:1421: RuntimeWarning: DateTimeField Newsdata.publish_date received a naive datetime (2019-07-05 00:00:00) while time zone support is active.\n",
      "  RuntimeWarning)\n",
      "C:\\Users\\infomax\\Documents\\GitHub\\protobed\\venv\\lib\\site-packages\\django\\db\\models\\fields\\__init__.py:1421: RuntimeWarning: DateTimeField Newsdata.publish_date received a naive datetime (2019-05-01 00:00:00) while time zone support is active.\n",
      "  RuntimeWarning)\n",
      "C:\\Users\\infomax\\Documents\\GitHub\\protobed\\venv\\lib\\site-packages\\django\\db\\models\\fields\\__init__.py:1421: RuntimeWarning: DateTimeField Newsdata.publish_date received a naive datetime (2019-05-20 00:00:00) while time zone support is active.\n",
      "  RuntimeWarning)\n",
      "C:\\Users\\infomax\\Documents\\GitHub\\protobed\\venv\\lib\\site-packages\\django\\db\\models\\fields\\__init__.py:1421: RuntimeWarning: DateTimeField Newsdata.publish_date received a naive datetime (2018-09-11 00:00:00) while time zone support is active.\n",
      "  RuntimeWarning)\n",
      "C:\\Users\\infomax\\Documents\\GitHub\\protobed\\venv\\lib\\site-packages\\django\\db\\models\\fields\\__init__.py:1421: RuntimeWarning: DateTimeField Newsdata.publish_date received a naive datetime (2018-08-20 00:00:00) while time zone support is active.\n",
      "  RuntimeWarning)\n",
      "C:\\Users\\infomax\\Documents\\GitHub\\protobed\\venv\\lib\\site-packages\\django\\db\\models\\fields\\__init__.py:1421: RuntimeWarning: DateTimeField Newsdata.publish_date received a naive datetime (2019-06-28 00:00:00) while time zone support is active.\n",
      "  RuntimeWarning)\n",
      "C:\\Users\\infomax\\Documents\\GitHub\\protobed\\venv\\lib\\site-packages\\django\\db\\models\\fields\\__init__.py:1421: RuntimeWarning: DateTimeField Newsdata.publish_date received a naive datetime (2019-08-06 00:00:00) while time zone support is active.\n",
      "  RuntimeWarning)\n",
      "C:\\Users\\infomax\\Documents\\GitHub\\protobed\\venv\\lib\\site-packages\\django\\db\\models\\fields\\__init__.py:1421: RuntimeWarning: DateTimeField Newsdata.publish_date received a naive datetime (2019-07-07 00:00:00) while time zone support is active.\n",
      "  RuntimeWarning)\n",
      "C:\\Users\\infomax\\Documents\\GitHub\\protobed\\venv\\lib\\site-packages\\django\\db\\models\\fields\\__init__.py:1421: RuntimeWarning: DateTimeField Newsdata.publish_date received a naive datetime (2019-05-25 00:00:00) while time zone support is active.\n",
      "  RuntimeWarning)\n",
      "C:\\Users\\infomax\\Documents\\GitHub\\protobed\\venv\\lib\\site-packages\\django\\db\\models\\fields\\__init__.py:1421: RuntimeWarning: DateTimeField Newsdata.publish_date received a naive datetime (2019-05-09 00:00:00) while time zone support is active.\n",
      "  RuntimeWarning)\n",
      "C:\\Users\\infomax\\Documents\\GitHub\\protobed\\venv\\lib\\site-packages\\django\\db\\models\\fields\\__init__.py:1421: RuntimeWarning: DateTimeField Newsdata.publish_date received a naive datetime (2019-05-31 00:00:00) while time zone support is active.\n",
      "  RuntimeWarning)\n",
      "C:\\Users\\infomax\\Documents\\GitHub\\protobed\\venv\\lib\\site-packages\\django\\db\\models\\fields\\__init__.py:1421: RuntimeWarning: DateTimeField Newsdata.publish_date received a naive datetime (2013-10-16 00:00:00) while time zone support is active.\n",
      "  RuntimeWarning)\n",
      "C:\\Users\\infomax\\Documents\\GitHub\\protobed\\venv\\lib\\site-packages\\django\\db\\models\\fields\\__init__.py:1421: RuntimeWarning: DateTimeField Newsdata.publish_date received a naive datetime (2019-06-18 00:00:00) while time zone support is active.\n",
      "  RuntimeWarning)\n",
      "C:\\Users\\infomax\\Documents\\GitHub\\protobed\\venv\\lib\\site-packages\\django\\db\\models\\fields\\__init__.py:1421: RuntimeWarning: DateTimeField Newsdata.publish_date received a naive datetime (2019-02-14 00:00:00) while time zone support is active.\n",
      "  RuntimeWarning)\n",
      "C:\\Users\\infomax\\Documents\\GitHub\\protobed\\venv\\lib\\site-packages\\django\\db\\models\\fields\\__init__.py:1421: RuntimeWarning: DateTimeField Newsdata.publish_date received a naive datetime (2019-04-25 00:00:00) while time zone support is active.\n",
      "  RuntimeWarning)\n",
      "C:\\Users\\infomax\\Documents\\GitHub\\protobed\\venv\\lib\\site-packages\\django\\db\\models\\fields\\__init__.py:1421: RuntimeWarning: DateTimeField Newsdata.publish_date received a naive datetime (2018-09-21 00:00:00) while time zone support is active.\n",
      "  RuntimeWarning)\n",
      "C:\\Users\\infomax\\Documents\\GitHub\\protobed\\venv\\lib\\site-packages\\django\\db\\models\\fields\\__init__.py:1421: RuntimeWarning: DateTimeField Newsdata.publish_date received a naive datetime (2019-01-09 00:00:00) while time zone support is active.\n",
      "  RuntimeWarning)\n",
      "C:\\Users\\infomax\\Documents\\GitHub\\protobed\\venv\\lib\\site-packages\\django\\db\\models\\fields\\__init__.py:1421: RuntimeWarning: DateTimeField Newsdata.publish_date received a naive datetime (2018-10-18 00:00:00) while time zone support is active.\n",
      "  RuntimeWarning)\n",
      "C:\\Users\\infomax\\Documents\\GitHub\\protobed\\venv\\lib\\site-packages\\django\\db\\models\\fields\\__init__.py:1421: RuntimeWarning: DateTimeField Newsdata.publish_date received a naive datetime (2018-12-12 00:00:00) while time zone support is active.\n",
      "  RuntimeWarning)\n",
      "C:\\Users\\infomax\\Documents\\GitHub\\protobed\\venv\\lib\\site-packages\\django\\db\\models\\fields\\__init__.py:1421: RuntimeWarning: DateTimeField Newsdata.publish_date received a naive datetime (2019-01-29 00:00:00) while time zone support is active.\n",
      "  RuntimeWarning)\n",
      "C:\\Users\\infomax\\Documents\\GitHub\\protobed\\venv\\lib\\site-packages\\django\\db\\models\\fields\\__init__.py:1421: RuntimeWarning: DateTimeField Newsdata.publish_date received a naive datetime (2019-03-11 00:00:00) while time zone support is active.\n",
      "  RuntimeWarning)\n",
      "C:\\Users\\infomax\\Documents\\GitHub\\protobed\\venv\\lib\\site-packages\\django\\db\\models\\fields\\__init__.py:1421: RuntimeWarning: DateTimeField Newsdata.publish_date received a naive datetime (2018-11-22 00:00:00) while time zone support is active.\n",
      "  RuntimeWarning)\n",
      "C:\\Users\\infomax\\Documents\\GitHub\\protobed\\venv\\lib\\site-packages\\django\\db\\models\\fields\\__init__.py:1421: RuntimeWarning: DateTimeField Newsdata.publish_date received a naive datetime (2018-10-25 00:00:00) while time zone support is active.\n",
      "  RuntimeWarning)\n",
      "C:\\Users\\infomax\\Documents\\GitHub\\protobed\\venv\\lib\\site-packages\\django\\db\\models\\fields\\__init__.py:1421: RuntimeWarning: DateTimeField Newsdata.publish_date received a naive datetime (2018-09-04 00:00:00) while time zone support is active.\n",
      "  RuntimeWarning)\n",
      "C:\\Users\\infomax\\Documents\\GitHub\\protobed\\venv\\lib\\site-packages\\django\\db\\models\\fields\\__init__.py:1421: RuntimeWarning: DateTimeField Newsdata.publish_date received a naive datetime (2018-08-07 00:00:00) while time zone support is active.\n",
      "  RuntimeWarning)\n",
      "C:\\Users\\infomax\\Documents\\GitHub\\protobed\\venv\\lib\\site-packages\\django\\db\\models\\fields\\__init__.py:1421: RuntimeWarning: DateTimeField Newsdata.publish_date received a naive datetime (2018-07-20 00:00:00) while time zone support is active.\n",
      "  RuntimeWarning)\n",
      "C:\\Users\\infomax\\Documents\\GitHub\\protobed\\venv\\lib\\site-packages\\django\\db\\models\\fields\\__init__.py:1421: RuntimeWarning: DateTimeField Newsdata.publish_date received a naive datetime (2018-07-04 00:00:00) while time zone support is active.\n",
      "  RuntimeWarning)\n",
      "C:\\Users\\infomax\\Documents\\GitHub\\protobed\\venv\\lib\\site-packages\\django\\db\\models\\fields\\__init__.py:1421: RuntimeWarning: DateTimeField Newsdata.publish_date received a naive datetime (2018-06-28 00:00:00) while time zone support is active.\n",
      "  RuntimeWarning)\n",
      "C:\\Users\\infomax\\Documents\\GitHub\\protobed\\venv\\lib\\site-packages\\django\\db\\models\\fields\\__init__.py:1421: RuntimeWarning: DateTimeField Newsdata.publish_date received a naive datetime (2018-06-11 00:00:00) while time zone support is active.\n",
      "  RuntimeWarning)\n"
     ]
    },
    {
     "name": "stderr",
     "output_type": "stream",
     "text": [
      "C:\\Users\\infomax\\Documents\\GitHub\\protobed\\venv\\lib\\site-packages\\django\\db\\models\\fields\\__init__.py:1421: RuntimeWarning: DateTimeField Newsdata.publish_date received a naive datetime (2018-06-04 00:00:00) while time zone support is active.\n",
      "  RuntimeWarning)\n",
      "C:\\Users\\infomax\\Documents\\GitHub\\protobed\\venv\\lib\\site-packages\\django\\db\\models\\fields\\__init__.py:1421: RuntimeWarning: DateTimeField Newsdata.publish_date received a naive datetime (2018-05-01 00:00:00) while time zone support is active.\n",
      "  RuntimeWarning)\n",
      "C:\\Users\\infomax\\Documents\\GitHub\\protobed\\venv\\lib\\site-packages\\django\\db\\models\\fields\\__init__.py:1421: RuntimeWarning: DateTimeField Newsdata.publish_date received a naive datetime (2018-04-30 00:00:00) while time zone support is active.\n",
      "  RuntimeWarning)\n",
      "C:\\Users\\infomax\\Documents\\GitHub\\protobed\\venv\\lib\\site-packages\\django\\db\\models\\fields\\__init__.py:1421: RuntimeWarning: DateTimeField Newsdata.publish_date received a naive datetime (2017-11-28 00:00:00) while time zone support is active.\n",
      "  RuntimeWarning)\n",
      "C:\\Users\\infomax\\Documents\\GitHub\\protobed\\venv\\lib\\site-packages\\django\\db\\models\\fields\\__init__.py:1421: RuntimeWarning: DateTimeField Newsdata.publish_date received a naive datetime (2017-08-25 00:00:00) while time zone support is active.\n",
      "  RuntimeWarning)\n",
      "C:\\Users\\infomax\\Documents\\GitHub\\protobed\\venv\\lib\\site-packages\\django\\db\\models\\fields\\__init__.py:1421: RuntimeWarning: DateTimeField Newsdata.publish_date received a naive datetime (2017-06-16 00:00:00) while time zone support is active.\n",
      "  RuntimeWarning)\n",
      "C:\\Users\\infomax\\Documents\\GitHub\\protobed\\venv\\lib\\site-packages\\django\\db\\models\\fields\\__init__.py:1421: RuntimeWarning: DateTimeField Newsdata.publish_date received a naive datetime (2017-06-12 00:00:00) while time zone support is active.\n",
      "  RuntimeWarning)\n",
      "C:\\Users\\infomax\\Documents\\GitHub\\protobed\\venv\\lib\\site-packages\\django\\db\\models\\fields\\__init__.py:1421: RuntimeWarning: DateTimeField Newsdata.publish_date received a naive datetime (2018-02-09 00:00:00) while time zone support is active.\n",
      "  RuntimeWarning)\n",
      "C:\\Users\\infomax\\Documents\\GitHub\\protobed\\venv\\lib\\site-packages\\django\\db\\models\\fields\\__init__.py:1421: RuntimeWarning: DateTimeField Newsdata.publish_date received a naive datetime (2018-01-26 00:00:00) while time zone support is active.\n",
      "  RuntimeWarning)\n",
      "C:\\Users\\infomax\\Documents\\GitHub\\protobed\\venv\\lib\\site-packages\\django\\db\\models\\fields\\__init__.py:1421: RuntimeWarning: DateTimeField Newsdata.publish_date received a naive datetime (2018-01-18 00:00:00) while time zone support is active.\n",
      "  RuntimeWarning)\n",
      "C:\\Users\\infomax\\Documents\\GitHub\\protobed\\venv\\lib\\site-packages\\django\\db\\models\\fields\\__init__.py:1421: RuntimeWarning: DateTimeField Newsdata.publish_date received a naive datetime (2017-11-14 00:00:00) while time zone support is active.\n",
      "  RuntimeWarning)\n",
      "C:\\Users\\infomax\\Documents\\GitHub\\protobed\\venv\\lib\\site-packages\\django\\db\\models\\fields\\__init__.py:1421: RuntimeWarning: DateTimeField Newsdata.publish_date received a naive datetime (2017-03-11 00:00:00) while time zone support is active.\n",
      "  RuntimeWarning)\n",
      "C:\\Users\\infomax\\Documents\\GitHub\\protobed\\venv\\lib\\site-packages\\django\\db\\models\\fields\\__init__.py:1421: RuntimeWarning: DateTimeField Newsdata.publish_date received a naive datetime (2017-03-14 00:00:00) while time zone support is active.\n",
      "  RuntimeWarning)\n",
      "C:\\Users\\infomax\\Documents\\GitHub\\protobed\\venv\\lib\\site-packages\\django\\db\\models\\fields\\__init__.py:1421: RuntimeWarning: DateTimeField Newsdata.publish_date received a naive datetime (2017-03-04 00:00:00) while time zone support is active.\n",
      "  RuntimeWarning)\n",
      "C:\\Users\\infomax\\Documents\\GitHub\\protobed\\venv\\lib\\site-packages\\django\\db\\models\\fields\\__init__.py:1421: RuntimeWarning: DateTimeField Newsdata.publish_date received a naive datetime (2019-06-24 00:00:00) while time zone support is active.\n",
      "  RuntimeWarning)\n",
      "C:\\Users\\infomax\\Documents\\GitHub\\protobed\\venv\\lib\\site-packages\\django\\db\\models\\fields\\__init__.py:1421: RuntimeWarning: DateTimeField Newsdata.publish_date received a naive datetime (2019-06-06 00:00:00) while time zone support is active.\n",
      "  RuntimeWarning)\n",
      "C:\\Users\\infomax\\Documents\\GitHub\\protobed\\venv\\lib\\site-packages\\django\\db\\models\\fields\\__init__.py:1421: RuntimeWarning: DateTimeField Newsdata.publish_date received a naive datetime (2019-05-29 00:00:00) while time zone support is active.\n",
      "  RuntimeWarning)\n",
      "C:\\Users\\infomax\\Documents\\GitHub\\protobed\\venv\\lib\\site-packages\\django\\db\\models\\fields\\__init__.py:1421: RuntimeWarning: DateTimeField Newsdata.publish_date received a naive datetime (2019-01-15 00:00:00) while time zone support is active.\n",
      "  RuntimeWarning)\n",
      "C:\\Users\\infomax\\Documents\\GitHub\\protobed\\venv\\lib\\site-packages\\django\\db\\models\\fields\\__init__.py:1421: RuntimeWarning: DateTimeField Newsdata.publish_date received a naive datetime (2018-11-09 00:00:00) while time zone support is active.\n",
      "  RuntimeWarning)\n",
      "C:\\Users\\infomax\\Documents\\GitHub\\protobed\\venv\\lib\\site-packages\\django\\db\\models\\fields\\__init__.py:1421: RuntimeWarning: DateTimeField Newsdata.publish_date received a naive datetime (2018-11-01 00:00:00) while time zone support is active.\n",
      "  RuntimeWarning)\n",
      "C:\\Users\\infomax\\Documents\\GitHub\\protobed\\venv\\lib\\site-packages\\django\\db\\models\\fields\\__init__.py:1421: RuntimeWarning: DateTimeField Newsdata.publish_date received a naive datetime (2019-04-19 00:00:00) while time zone support is active.\n",
      "  RuntimeWarning)\n",
      "C:\\Users\\infomax\\Documents\\GitHub\\protobed\\venv\\lib\\site-packages\\django\\db\\models\\fields\\__init__.py:1421: RuntimeWarning: DateTimeField Newsdata.publish_date received a naive datetime (2019-05-14 00:00:00) while time zone support is active.\n",
      "  RuntimeWarning)\n",
      "C:\\Users\\infomax\\Documents\\GitHub\\protobed\\venv\\lib\\site-packages\\django\\db\\models\\fields\\__init__.py:1421: RuntimeWarning: DateTimeField Newsdata.publish_date received a naive datetime (2019-01-11 00:00:00) while time zone support is active.\n",
      "  RuntimeWarning)\n",
      "C:\\Users\\infomax\\Documents\\GitHub\\protobed\\venv\\lib\\site-packages\\django\\db\\models\\fields\\__init__.py:1421: RuntimeWarning: DateTimeField Newsdata.publish_date received a naive datetime (2018-05-22 00:00:00) while time zone support is active.\n",
      "  RuntimeWarning)\n",
      "C:\\Users\\infomax\\Documents\\GitHub\\protobed\\venv\\lib\\site-packages\\django\\db\\models\\fields\\__init__.py:1421: RuntimeWarning: DateTimeField Newsdata.publish_date received a naive datetime (2018-05-21 00:00:00) while time zone support is active.\n",
      "  RuntimeWarning)\n",
      "C:\\Users\\infomax\\Documents\\GitHub\\protobed\\venv\\lib\\site-packages\\django\\db\\models\\fields\\__init__.py:1421: RuntimeWarning: DateTimeField Newsdata.publish_date received a naive datetime (2018-05-03 00:00:00) while time zone support is active.\n",
      "  RuntimeWarning)\n",
      "C:\\Users\\infomax\\Documents\\GitHub\\protobed\\venv\\lib\\site-packages\\django\\db\\models\\fields\\__init__.py:1421: RuntimeWarning: DateTimeField Newsdata.publish_date received a naive datetime (2019-04-03 00:00:00) while time zone support is active.\n",
      "  RuntimeWarning)\n",
      "C:\\Users\\infomax\\Documents\\GitHub\\protobed\\venv\\lib\\site-packages\\django\\db\\models\\fields\\__init__.py:1421: RuntimeWarning: DateTimeField Newsdata.publish_date received a naive datetime (2019-05-15 00:00:00) while time zone support is active.\n",
      "  RuntimeWarning)\n",
      "C:\\Users\\infomax\\Documents\\GitHub\\protobed\\venv\\lib\\site-packages\\django\\db\\models\\fields\\__init__.py:1421: RuntimeWarning: DateTimeField Newsdata.publish_date received a naive datetime (2019-04-13 00:00:00) while time zone support is active.\n",
      "  RuntimeWarning)\n",
      "C:\\Users\\infomax\\Documents\\GitHub\\protobed\\venv\\lib\\site-packages\\django\\db\\models\\fields\\__init__.py:1421: RuntimeWarning: DateTimeField Newsdata.publish_date received a naive datetime (2018-01-09 00:00:00) while time zone support is active.\n",
      "  RuntimeWarning)\n",
      "C:\\Users\\infomax\\Documents\\GitHub\\protobed\\venv\\lib\\site-packages\\django\\db\\models\\fields\\__init__.py:1421: RuntimeWarning: DateTimeField Newsdata.publish_date received a naive datetime (2018-01-04 00:00:00) while time zone support is active.\n",
      "  RuntimeWarning)\n",
      "C:\\Users\\infomax\\Documents\\GitHub\\protobed\\venv\\lib\\site-packages\\django\\db\\models\\fields\\__init__.py:1421: RuntimeWarning: DateTimeField Newsdata.publish_date received a naive datetime (2018-04-11 00:00:00) while time zone support is active.\n",
      "  RuntimeWarning)\n"
     ]
    },
    {
     "name": "stderr",
     "output_type": "stream",
     "text": [
      "C:\\Users\\infomax\\Documents\\GitHub\\protobed\\venv\\lib\\site-packages\\django\\db\\models\\fields\\__init__.py:1421: RuntimeWarning: DateTimeField Newsdata.publish_date received a naive datetime (2014-05-29 00:00:00) while time zone support is active.\n",
      "  RuntimeWarning)\n",
      "C:\\Users\\infomax\\Documents\\GitHub\\protobed\\venv\\lib\\site-packages\\django\\db\\models\\fields\\__init__.py:1421: RuntimeWarning: DateTimeField Newsdata.publish_date received a naive datetime (2015-08-17 00:00:00) while time zone support is active.\n",
      "  RuntimeWarning)\n",
      "C:\\Users\\infomax\\Documents\\GitHub\\protobed\\venv\\lib\\site-packages\\django\\db\\models\\fields\\__init__.py:1421: RuntimeWarning: DateTimeField Newsdata.publish_date received a naive datetime (2015-06-23 00:00:00) while time zone support is active.\n",
      "  RuntimeWarning)\n",
      "C:\\Users\\infomax\\Documents\\GitHub\\protobed\\venv\\lib\\site-packages\\django\\db\\models\\fields\\__init__.py:1421: RuntimeWarning: DateTimeField Newsdata.publish_date received a naive datetime (2017-12-11 00:00:00) while time zone support is active.\n",
      "  RuntimeWarning)\n",
      "C:\\Users\\infomax\\Documents\\GitHub\\protobed\\venv\\lib\\site-packages\\django\\db\\models\\fields\\__init__.py:1421: RuntimeWarning: DateTimeField Newsdata.publish_date received a naive datetime (2018-01-31 00:00:00) while time zone support is active.\n",
      "  RuntimeWarning)\n",
      "C:\\Users\\infomax\\Documents\\GitHub\\protobed\\venv\\lib\\site-packages\\django\\db\\models\\fields\\__init__.py:1421: RuntimeWarning: DateTimeField Newsdata.publish_date received a naive datetime (2019-04-11 00:00:00) while time zone support is active.\n",
      "  RuntimeWarning)\n",
      "C:\\Users\\infomax\\Documents\\GitHub\\protobed\\venv\\lib\\site-packages\\django\\db\\models\\fields\\__init__.py:1421: RuntimeWarning: DateTimeField Newsdata.publish_date received a naive datetime (2019-04-05 00:00:00) while time zone support is active.\n",
      "  RuntimeWarning)\n",
      "C:\\Users\\infomax\\Documents\\GitHub\\protobed\\venv\\lib\\site-packages\\django\\db\\models\\fields\\__init__.py:1421: RuntimeWarning: DateTimeField Newsdata.publish_date received a naive datetime (2018-03-04 00:00:00) while time zone support is active.\n",
      "  RuntimeWarning)\n",
      "C:\\Users\\infomax\\Documents\\GitHub\\protobed\\venv\\lib\\site-packages\\django\\db\\models\\fields\\__init__.py:1421: RuntimeWarning: DateTimeField Newsdata.publish_date received a naive datetime (2018-03-19 00:00:00) while time zone support is active.\n",
      "  RuntimeWarning)\n",
      "C:\\Users\\infomax\\Documents\\GitHub\\protobed\\venv\\lib\\site-packages\\django\\db\\models\\fields\\__init__.py:1421: RuntimeWarning: DateTimeField Newsdata.publish_date received a naive datetime (2018-02-28 00:00:00) while time zone support is active.\n",
      "  RuntimeWarning)\n",
      "C:\\Users\\infomax\\Documents\\GitHub\\protobed\\venv\\lib\\site-packages\\django\\db\\models\\fields\\__init__.py:1421: RuntimeWarning: DateTimeField Newsdata.publish_date received a naive datetime (2012-08-16 00:00:00) while time zone support is active.\n",
      "  RuntimeWarning)\n",
      "C:\\Users\\infomax\\Documents\\GitHub\\protobed\\venv\\lib\\site-packages\\django\\db\\models\\fields\\__init__.py:1421: RuntimeWarning: DateTimeField Newsdata.publish_date received a naive datetime (2013-08-27 00:00:00) while time zone support is active.\n",
      "  RuntimeWarning)\n",
      "C:\\Users\\infomax\\Documents\\GitHub\\protobed\\venv\\lib\\site-packages\\django\\db\\models\\fields\\__init__.py:1421: RuntimeWarning: DateTimeField Newsdata.publish_date received a naive datetime (2014-04-11 00:00:00) while time zone support is active.\n",
      "  RuntimeWarning)\n",
      "C:\\Users\\infomax\\Documents\\GitHub\\protobed\\venv\\lib\\site-packages\\django\\db\\models\\fields\\__init__.py:1421: RuntimeWarning: DateTimeField Newsdata.publish_date received a naive datetime (2019-07-20 00:00:00) while time zone support is active.\n",
      "  RuntimeWarning)\n",
      "C:\\Users\\infomax\\Documents\\GitHub\\protobed\\venv\\lib\\site-packages\\django\\db\\models\\fields\\__init__.py:1421: RuntimeWarning: DateTimeField Newsdata.publish_date received a naive datetime (2019-07-12 00:00:00) while time zone support is active.\n",
      "  RuntimeWarning)\n",
      "C:\\Users\\infomax\\Documents\\GitHub\\protobed\\venv\\lib\\site-packages\\django\\db\\models\\fields\\__init__.py:1421: RuntimeWarning: DateTimeField Newsdata.publish_date received a naive datetime (2019-06-25 00:00:00) while time zone support is active.\n",
      "  RuntimeWarning)\n",
      "C:\\Users\\infomax\\Documents\\GitHub\\protobed\\venv\\lib\\site-packages\\django\\db\\models\\fields\\__init__.py:1421: RuntimeWarning: DateTimeField Newsdata.publish_date received a naive datetime (2019-06-13 00:00:00) while time zone support is active.\n",
      "  RuntimeWarning)\n",
      "C:\\Users\\infomax\\Documents\\GitHub\\protobed\\venv\\lib\\site-packages\\django\\db\\models\\fields\\__init__.py:1421: RuntimeWarning: DateTimeField Newsdata.publish_date received a naive datetime (2019-05-13 00:00:00) while time zone support is active.\n",
      "  RuntimeWarning)\n",
      "C:\\Users\\infomax\\Documents\\GitHub\\protobed\\venv\\lib\\site-packages\\django\\db\\models\\fields\\__init__.py:1421: RuntimeWarning: DateTimeField Newsdata.publish_date received a naive datetime (2019-05-02 00:00:00) while time zone support is active.\n",
      "  RuntimeWarning)\n",
      "C:\\Users\\infomax\\Documents\\GitHub\\protobed\\venv\\lib\\site-packages\\django\\db\\models\\fields\\__init__.py:1421: RuntimeWarning: DateTimeField Newsdata.publish_date received a naive datetime (2018-12-09 00:00:00) while time zone support is active.\n",
      "  RuntimeWarning)\n",
      "C:\\Users\\infomax\\Documents\\GitHub\\protobed\\venv\\lib\\site-packages\\django\\db\\models\\fields\\__init__.py:1421: RuntimeWarning: DateTimeField Newsdata.publish_date received a naive datetime (2019-06-09 00:00:00) while time zone support is active.\n",
      "  RuntimeWarning)\n",
      "C:\\Users\\infomax\\Documents\\GitHub\\protobed\\venv\\lib\\site-packages\\django\\db\\models\\fields\\__init__.py:1421: RuntimeWarning: DateTimeField Newsdata.publish_date received a naive datetime (2017-01-27 00:00:00) while time zone support is active.\n",
      "  RuntimeWarning)\n",
      "C:\\Users\\infomax\\Documents\\GitHub\\protobed\\venv\\lib\\site-packages\\django\\db\\models\\fields\\__init__.py:1421: RuntimeWarning: DateTimeField Newsdata.publish_date received a naive datetime (2015-04-07 00:00:00) while time zone support is active.\n",
      "  RuntimeWarning)\n",
      "C:\\Users\\infomax\\Documents\\GitHub\\protobed\\venv\\lib\\site-packages\\django\\db\\models\\fields\\__init__.py:1421: RuntimeWarning: DateTimeField Newsdata.publish_date received a naive datetime (2015-04-05 00:00:00) while time zone support is active.\n",
      "  RuntimeWarning)\n",
      "C:\\Users\\infomax\\Documents\\GitHub\\protobed\\venv\\lib\\site-packages\\django\\db\\models\\fields\\__init__.py:1421: RuntimeWarning: DateTimeField Newsdata.publish_date received a naive datetime (2015-02-08 00:00:00) while time zone support is active.\n",
      "  RuntimeWarning)\n",
      "C:\\Users\\infomax\\Documents\\GitHub\\protobed\\venv\\lib\\site-packages\\django\\db\\models\\fields\\__init__.py:1421: RuntimeWarning: DateTimeField Newsdata.publish_date received a naive datetime (2015-03-31 00:00:00) while time zone support is active.\n",
      "  RuntimeWarning)\n",
      "C:\\Users\\infomax\\Documents\\GitHub\\protobed\\venv\\lib\\site-packages\\django\\db\\models\\fields\\__init__.py:1421: RuntimeWarning: DateTimeField Newsdata.publish_date received a naive datetime (2015-03-29 00:00:00) while time zone support is active.\n",
      "  RuntimeWarning)\n",
      "C:\\Users\\infomax\\Documents\\GitHub\\protobed\\venv\\lib\\site-packages\\django\\db\\models\\fields\\__init__.py:1421: RuntimeWarning: DateTimeField Newsdata.publish_date received a naive datetime (2015-03-26 00:00:00) while time zone support is active.\n",
      "  RuntimeWarning)\n",
      "C:\\Users\\infomax\\Documents\\GitHub\\protobed\\venv\\lib\\site-packages\\django\\db\\models\\fields\\__init__.py:1421: RuntimeWarning: DateTimeField Newsdata.publish_date received a naive datetime (2015-03-24 00:00:00) while time zone support is active.\n",
      "  RuntimeWarning)\n",
      "C:\\Users\\infomax\\Documents\\GitHub\\protobed\\venv\\lib\\site-packages\\django\\db\\models\\fields\\__init__.py:1421: RuntimeWarning: DateTimeField Newsdata.publish_date received a naive datetime (2015-03-17 00:00:00) while time zone support is active.\n",
      "  RuntimeWarning)\n",
      "C:\\Users\\infomax\\Documents\\GitHub\\protobed\\venv\\lib\\site-packages\\django\\db\\models\\fields\\__init__.py:1421: RuntimeWarning: DateTimeField Newsdata.publish_date received a naive datetime (2018-05-31 00:00:00) while time zone support is active.\n",
      "  RuntimeWarning)\n",
      "C:\\Users\\infomax\\Documents\\GitHub\\protobed\\venv\\lib\\site-packages\\django\\db\\models\\fields\\__init__.py:1421: RuntimeWarning: DateTimeField Newsdata.publish_date received a naive datetime (2018-05-10 00:00:00) while time zone support is active.\n",
      "  RuntimeWarning)\n"
     ]
    },
    {
     "name": "stderr",
     "output_type": "stream",
     "text": [
      "C:\\Users\\infomax\\Documents\\GitHub\\protobed\\venv\\lib\\site-packages\\django\\db\\models\\fields\\__init__.py:1421: RuntimeWarning: DateTimeField Newsdata.publish_date received a naive datetime (2018-04-19 00:00:00) while time zone support is active.\n",
      "  RuntimeWarning)\n",
      "C:\\Users\\infomax\\Documents\\GitHub\\protobed\\venv\\lib\\site-packages\\django\\db\\models\\fields\\__init__.py:1421: RuntimeWarning: DateTimeField Newsdata.publish_date received a naive datetime (2013-11-05 00:00:00) while time zone support is active.\n",
      "  RuntimeWarning)\n",
      "C:\\Users\\infomax\\Documents\\GitHub\\protobed\\venv\\lib\\site-packages\\django\\db\\models\\fields\\__init__.py:1421: RuntimeWarning: DateTimeField Newsdata.publish_date received a naive datetime (2015-04-03 00:00:00) while time zone support is active.\n",
      "  RuntimeWarning)\n",
      "C:\\Users\\infomax\\Documents\\GitHub\\protobed\\venv\\lib\\site-packages\\django\\db\\models\\fields\\__init__.py:1421: RuntimeWarning: DateTimeField Newsdata.publish_date received a naive datetime (2014-06-26 00:00:00) while time zone support is active.\n",
      "  RuntimeWarning)\n",
      "C:\\Users\\infomax\\Documents\\GitHub\\protobed\\venv\\lib\\site-packages\\django\\db\\models\\fields\\__init__.py:1421: RuntimeWarning: DateTimeField Newsdata.publish_date received a naive datetime (2015-04-02 00:00:00) while time zone support is active.\n",
      "  RuntimeWarning)\n",
      "C:\\Users\\infomax\\Documents\\GitHub\\protobed\\venv\\lib\\site-packages\\django\\db\\models\\fields\\__init__.py:1421: RuntimeWarning: DateTimeField Newsdata.publish_date received a naive datetime (2015-03-14 00:00:00) while time zone support is active.\n",
      "  RuntimeWarning)\n",
      "C:\\Users\\infomax\\Documents\\GitHub\\protobed\\venv\\lib\\site-packages\\django\\db\\models\\fields\\__init__.py:1421: RuntimeWarning: DateTimeField Newsdata.publish_date received a naive datetime (2015-03-30 00:00:00) while time zone support is active.\n",
      "  RuntimeWarning)\n",
      "C:\\Users\\infomax\\Documents\\GitHub\\protobed\\venv\\lib\\site-packages\\django\\db\\models\\fields\\__init__.py:1421: RuntimeWarning: DateTimeField Newsdata.publish_date received a naive datetime (2015-01-06 00:00:00) while time zone support is active.\n",
      "  RuntimeWarning)\n",
      "C:\\Users\\infomax\\Documents\\GitHub\\protobed\\venv\\lib\\site-packages\\django\\db\\models\\fields\\__init__.py:1421: RuntimeWarning: DateTimeField Newsdata.publish_date received a naive datetime (2015-04-06 00:00:00) while time zone support is active.\n",
      "  RuntimeWarning)\n",
      "C:\\Users\\infomax\\Documents\\GitHub\\protobed\\venv\\lib\\site-packages\\django\\db\\models\\fields\\__init__.py:1421: RuntimeWarning: DateTimeField Newsdata.publish_date received a naive datetime (2015-04-01 00:00:00) while time zone support is active.\n",
      "  RuntimeWarning)\n",
      "C:\\Users\\infomax\\Documents\\GitHub\\protobed\\venv\\lib\\site-packages\\django\\db\\models\\fields\\__init__.py:1421: RuntimeWarning: DateTimeField Newsdata.publish_date received a naive datetime (2015-03-18 00:00:00) while time zone support is active.\n",
      "  RuntimeWarning)\n",
      "C:\\Users\\infomax\\Documents\\GitHub\\protobed\\venv\\lib\\site-packages\\django\\db\\models\\fields\\__init__.py:1421: RuntimeWarning: DateTimeField Newsdata.publish_date received a naive datetime (2018-04-27 00:00:00) while time zone support is active.\n",
      "  RuntimeWarning)\n",
      "C:\\Users\\infomax\\Documents\\GitHub\\protobed\\venv\\lib\\site-packages\\django\\db\\models\\fields\\__init__.py:1421: RuntimeWarning: DateTimeField Newsdata.publish_date received a naive datetime (2013-10-30 00:00:00) while time zone support is active.\n",
      "  RuntimeWarning)\n",
      "C:\\Users\\infomax\\Documents\\GitHub\\protobed\\venv\\lib\\site-packages\\django\\db\\models\\fields\\__init__.py:1421: RuntimeWarning: DateTimeField Newsdata.publish_date received a naive datetime (2019-07-30 00:00:00) while time zone support is active.\n",
      "  RuntimeWarning)\n"
     ]
    },
    {
     "name": "stdout",
     "output_type": "stream",
     "text": [
      "\n"
     ]
    },
    {
     "data": {
      "application/vnd.jupyter.widget-view+json": {
       "model_id": "cb01b96ae2744bd18cabd780b9e1cda7",
       "version_major": 2,
       "version_minor": 0
      },
      "text/plain": [
       "HBox(children=(IntProgress(value=0, max=1071), HTML(value='')))"
      ]
     },
     "metadata": {},
     "output_type": "display_data"
    },
    {
     "name": "stderr",
     "output_type": "stream",
     "text": [
      "C:\\Users\\infomax\\Documents\\GitHub\\protobed\\venv\\lib\\site-packages\\django\\db\\models\\fields\\__init__.py:1421: RuntimeWarning: DateTimeField Newsdata.publish_date received a naive datetime (2019-08-19 22:00:00) while time zone support is active.\n",
      "  RuntimeWarning)\n"
     ]
    },
    {
     "name": "stdout",
     "output_type": "stream",
     "text": [
      "\n"
     ]
    },
    {
     "data": {
      "application/vnd.jupyter.widget-view+json": {
       "model_id": "0b7054d0d0f54cbbb8e7f7e7f6d3d27c",
       "version_major": 2,
       "version_minor": 0
      },
      "text/plain": [
       "HBox(children=(IntProgress(value=0, max=179), HTML(value='')))"
      ]
     },
     "metadata": {},
     "output_type": "display_data"
    },
    {
     "name": "stderr",
     "output_type": "stream",
     "text": [
      "C:\\Users\\infomax\\Documents\\GitHub\\protobed\\venv\\lib\\site-packages\\django\\db\\models\\fields\\__init__.py:1421: RuntimeWarning: DateTimeField Newsdata.publish_date received a naive datetime (2019-08-19 05:02:41) while time zone support is active.\n",
      "  RuntimeWarning)\n",
      "C:\\Users\\infomax\\Documents\\GitHub\\protobed\\venv\\lib\\site-packages\\django\\db\\models\\fields\\__init__.py:1421: RuntimeWarning: DateTimeField Newsdata.publish_date received a naive datetime (2016-06-27 15:15:28) while time zone support is active.\n",
      "  RuntimeWarning)\n",
      "C:\\Users\\infomax\\Documents\\GitHub\\protobed\\venv\\lib\\site-packages\\django\\db\\models\\fields\\__init__.py:1421: RuntimeWarning: DateTimeField Newsdata.publish_date received a naive datetime (2019-06-28 05:44:17) while time zone support is active.\n",
      "  RuntimeWarning)\n"
     ]
    },
    {
     "name": "stdout",
     "output_type": "stream",
     "text": [
      "\n"
     ]
    },
    {
     "data": {
      "application/vnd.jupyter.widget-view+json": {
       "model_id": "9009e4ab38da43f9903c4a0985fa6485",
       "version_major": 2,
       "version_minor": 0
      },
      "text/plain": [
       "HBox(children=(IntProgress(value=0, max=71), HTML(value='')))"
      ]
     },
     "metadata": {},
     "output_type": "display_data"
    },
    {
     "name": "stderr",
     "output_type": "stream",
     "text": [
      "C:\\Users\\infomax\\Documents\\GitHub\\protobed\\venv\\lib\\site-packages\\django\\db\\models\\fields\\__init__.py:1421: RuntimeWarning: DateTimeField Newsdata.publish_date received a naive datetime (2016-02-22 00:00:00) while time zone support is active.\n",
      "  RuntimeWarning)\n",
      "C:\\Users\\infomax\\Documents\\GitHub\\protobed\\venv\\lib\\site-packages\\django\\db\\models\\fields\\__init__.py:1421: RuntimeWarning: DateTimeField Newsdata.publish_date received a naive datetime (2015-12-15 00:00:00) while time zone support is active.\n",
      "  RuntimeWarning)\n",
      "C:\\Users\\infomax\\Documents\\GitHub\\protobed\\venv\\lib\\site-packages\\django\\db\\models\\fields\\__init__.py:1421: RuntimeWarning: DateTimeField Newsdata.publish_date received a naive datetime (2015-09-28 00:00:00) while time zone support is active.\n",
      "  RuntimeWarning)\n",
      "C:\\Users\\infomax\\Documents\\GitHub\\protobed\\venv\\lib\\site-packages\\django\\db\\models\\fields\\__init__.py:1421: RuntimeWarning: DateTimeField Newsdata.publish_date received a naive datetime (2015-09-17 00:00:00) while time zone support is active.\n",
      "  RuntimeWarning)\n",
      "C:\\Users\\infomax\\Documents\\GitHub\\protobed\\venv\\lib\\site-packages\\django\\db\\models\\fields\\__init__.py:1421: RuntimeWarning: DateTimeField Newsdata.publish_date received a naive datetime (2015-09-15 00:00:00) while time zone support is active.\n",
      "  RuntimeWarning)\n",
      "C:\\Users\\infomax\\Documents\\GitHub\\protobed\\venv\\lib\\site-packages\\django\\db\\models\\fields\\__init__.py:1421: RuntimeWarning: DateTimeField Newsdata.publish_date received a naive datetime (2015-08-07 00:00:00) while time zone support is active.\n",
      "  RuntimeWarning)\n",
      "C:\\Users\\infomax\\Documents\\GitHub\\protobed\\venv\\lib\\site-packages\\django\\db\\models\\fields\\__init__.py:1421: RuntimeWarning: DateTimeField Newsdata.publish_date received a naive datetime (2019-08-15 06:54:17) while time zone support is active.\n",
      "  RuntimeWarning)\n"
     ]
    },
    {
     "name": "stdout",
     "output_type": "stream",
     "text": [
      "\n"
     ]
    },
    {
     "data": {
      "application/vnd.jupyter.widget-view+json": {
       "model_id": "109180db7a5948dd84fea568c91efa65",
       "version_major": 2,
       "version_minor": 0
      },
      "text/plain": [
       "HBox(children=(IntProgress(value=0, max=166), HTML(value='')))"
      ]
     },
     "metadata": {},
     "output_type": "display_data"
    },
    {
     "name": "stderr",
     "output_type": "stream",
     "text": [
      "C:\\Users\\infomax\\Documents\\GitHub\\protobed\\venv\\lib\\site-packages\\django\\db\\models\\fields\\__init__.py:1421: RuntimeWarning: DateTimeField Newsdata.publish_date received a naive datetime (2019-06-21 00:00:00) while time zone support is active.\n",
      "  RuntimeWarning)\n",
      "C:\\Users\\infomax\\Documents\\GitHub\\protobed\\venv\\lib\\site-packages\\django\\db\\models\\fields\\__init__.py:1421: RuntimeWarning: DateTimeField Newsdata.publish_date received a naive datetime (2019-07-02 00:00:00) while time zone support is active.\n",
      "  RuntimeWarning)\n",
      "C:\\Users\\infomax\\Documents\\GitHub\\protobed\\venv\\lib\\site-packages\\django\\db\\models\\fields\\__init__.py:1421: RuntimeWarning: DateTimeField Newsdata.publish_date received a naive datetime (2019-06-20 00:00:00) while time zone support is active.\n",
      "  RuntimeWarning)\n",
      "C:\\Users\\infomax\\Documents\\GitHub\\protobed\\venv\\lib\\site-packages\\django\\db\\models\\fields\\__init__.py:1421: RuntimeWarning: DateTimeField Newsdata.publish_date received a naive datetime (2018-05-07 00:00:00) while time zone support is active.\n",
      "  RuntimeWarning)\n",
      "C:\\Users\\infomax\\Documents\\GitHub\\protobed\\venv\\lib\\site-packages\\django\\db\\models\\fields\\__init__.py:1421: RuntimeWarning: DateTimeField Newsdata.publish_date received a naive datetime (2018-09-10 00:00:00) while time zone support is active.\n",
      "  RuntimeWarning)\n",
      "C:\\Users\\infomax\\Documents\\GitHub\\protobed\\venv\\lib\\site-packages\\django\\db\\models\\fields\\__init__.py:1421: RuntimeWarning: DateTimeField Newsdata.publish_date received a naive datetime (2018-03-29 00:00:00) while time zone support is active.\n",
      "  RuntimeWarning)\n",
      "C:\\Users\\infomax\\Documents\\GitHub\\protobed\\venv\\lib\\site-packages\\django\\db\\models\\fields\\__init__.py:1421: RuntimeWarning: DateTimeField Newsdata.publish_date received a naive datetime (2018-06-26 00:00:00) while time zone support is active.\n",
      "  RuntimeWarning)\n",
      "C:\\Users\\infomax\\Documents\\GitHub\\protobed\\venv\\lib\\site-packages\\django\\db\\models\\fields\\__init__.py:1421: RuntimeWarning: DateTimeField Newsdata.publish_date received a naive datetime (2018-04-01 00:00:00) while time zone support is active.\n",
      "  RuntimeWarning)\n",
      "C:\\Users\\infomax\\Documents\\GitHub\\protobed\\venv\\lib\\site-packages\\django\\db\\models\\fields\\__init__.py:1421: RuntimeWarning: DateTimeField Newsdata.publish_date received a naive datetime (2018-07-02 00:00:00) while time zone support is active.\n",
      "  RuntimeWarning)\n",
      "C:\\Users\\infomax\\Documents\\GitHub\\protobed\\venv\\lib\\site-packages\\django\\db\\models\\fields\\__init__.py:1421: RuntimeWarning: DateTimeField Newsdata.publish_date received a naive datetime (2018-06-20 00:00:00) while time zone support is active.\n",
      "  RuntimeWarning)\n",
      "C:\\Users\\infomax\\Documents\\GitHub\\protobed\\venv\\lib\\site-packages\\django\\db\\models\\fields\\__init__.py:1421: RuntimeWarning: DateTimeField Newsdata.publish_date received a naive datetime (2016-05-11 00:00:00) while time zone support is active.\n",
      "  RuntimeWarning)\n",
      "C:\\Users\\infomax\\Documents\\GitHub\\protobed\\venv\\lib\\site-packages\\django\\db\\models\\fields\\__init__.py:1421: RuntimeWarning: DateTimeField Newsdata.publish_date received a naive datetime (2019-02-15 00:00:00) while time zone support is active.\n",
      "  RuntimeWarning)\n",
      "C:\\Users\\infomax\\Documents\\GitHub\\protobed\\venv\\lib\\site-packages\\django\\db\\models\\fields\\__init__.py:1421: RuntimeWarning: DateTimeField Newsdata.publish_date received a naive datetime (2019-02-08 00:00:00) while time zone support is active.\n",
      "  RuntimeWarning)\n",
      "C:\\Users\\infomax\\Documents\\GitHub\\protobed\\venv\\lib\\site-packages\\django\\db\\models\\fields\\__init__.py:1421: RuntimeWarning: DateTimeField Newsdata.publish_date received a naive datetime (2018-08-10 00:00:00) while time zone support is active.\n",
      "  RuntimeWarning)\n",
      "C:\\Users\\infomax\\Documents\\GitHub\\protobed\\venv\\lib\\site-packages\\django\\db\\models\\fields\\__init__.py:1421: RuntimeWarning: DateTimeField Newsdata.publish_date received a naive datetime (2018-08-01 00:00:00) while time zone support is active.\n",
      "  RuntimeWarning)\n",
      "C:\\Users\\infomax\\Documents\\GitHub\\protobed\\venv\\lib\\site-packages\\django\\db\\models\\fields\\__init__.py:1421: RuntimeWarning: DateTimeField Newsdata.publish_date received a naive datetime (2018-07-23 00:00:00) while time zone support is active.\n",
      "  RuntimeWarning)\n",
      "C:\\Users\\infomax\\Documents\\GitHub\\protobed\\venv\\lib\\site-packages\\django\\db\\models\\fields\\__init__.py:1421: RuntimeWarning: DateTimeField Newsdata.publish_date received a naive datetime (2018-04-12 00:00:00) while time zone support is active.\n",
      "  RuntimeWarning)\n"
     ]
    },
    {
     "name": "stdout",
     "output_type": "stream",
     "text": [
      "\n"
     ]
    },
    {
     "data": {
      "application/vnd.jupyter.widget-view+json": {
       "model_id": "368d82d56bc1401fb9078eaf48df0386",
       "version_major": 2,
       "version_minor": 0
      },
      "text/plain": [
       "HBox(children=(IntProgress(value=0, max=303), HTML(value='')))"
      ]
     },
     "metadata": {},
     "output_type": "display_data"
    },
    {
     "name": "stderr",
     "output_type": "stream",
     "text": [
      "C:\\Users\\infomax\\Documents\\GitHub\\protobed\\venv\\lib\\site-packages\\django\\db\\models\\fields\\__init__.py:1421: RuntimeWarning: DateTimeField Newsdata.publish_date received a naive datetime (2019-06-17 00:00:00) while time zone support is active.\n",
      "  RuntimeWarning)\n",
      "C:\\Users\\infomax\\Documents\\GitHub\\protobed\\venv\\lib\\site-packages\\django\\db\\models\\fields\\__init__.py:1421: RuntimeWarning: DateTimeField Newsdata.publish_date received a naive datetime (2019-06-14 00:00:00) while time zone support is active.\n",
      "  RuntimeWarning)\n",
      "C:\\Users\\infomax\\Documents\\GitHub\\protobed\\venv\\lib\\site-packages\\django\\db\\models\\fields\\__init__.py:1421: RuntimeWarning: DateTimeField Newsdata.publish_date received a naive datetime (2019-04-12 00:00:00) while time zone support is active.\n",
      "  RuntimeWarning)\n",
      "C:\\Users\\infomax\\Documents\\GitHub\\protobed\\venv\\lib\\site-packages\\django\\db\\models\\fields\\__init__.py:1421: RuntimeWarning: DateTimeField Newsdata.publish_date received a naive datetime (2019-03-15 00:00:00) while time zone support is active.\n",
      "  RuntimeWarning)\n",
      "C:\\Users\\infomax\\Documents\\GitHub\\protobed\\venv\\lib\\site-packages\\django\\db\\models\\fields\\__init__.py:1421: RuntimeWarning: DateTimeField Newsdata.publish_date received a naive datetime (2019-02-22 00:00:00) while time zone support is active.\n",
      "  RuntimeWarning)\n",
      "C:\\Users\\infomax\\Documents\\GitHub\\protobed\\venv\\lib\\site-packages\\django\\db\\models\\fields\\__init__.py:1421: RuntimeWarning: DateTimeField Newsdata.publish_date received a naive datetime (2019-02-19 00:00:00) while time zone support is active.\n",
      "  RuntimeWarning)\n"
     ]
    },
    {
     "name": "stdout",
     "output_type": "stream",
     "text": [
      "\n"
     ]
    },
    {
     "data": {
      "application/vnd.jupyter.widget-view+json": {
       "model_id": "3d2d174e13d048a584c600424ef7fb47",
       "version_major": 2,
       "version_minor": 0
      },
      "text/plain": [
       "HBox(children=(IntProgress(value=0, max=175), HTML(value='')))"
      ]
     },
     "metadata": {},
     "output_type": "display_data"
    },
    {
     "name": "stdout",
     "output_type": "stream",
     "text": [
      "\n"
     ]
    },
    {
     "data": {
      "application/vnd.jupyter.widget-view+json": {
       "model_id": "222a5a346df341829c2e6f26a5f8d8c1",
       "version_major": 2,
       "version_minor": 0
      },
      "text/plain": [
       "HBox(children=(IntProgress(value=0, max=451), HTML(value='')))"
      ]
     },
     "metadata": {},
     "output_type": "display_data"
    },
    {
     "name": "stderr",
     "output_type": "stream",
     "text": [
      "C:\\Users\\infomax\\Documents\\GitHub\\protobed\\venv\\lib\\site-packages\\django\\db\\models\\fields\\__init__.py:1421: RuntimeWarning: DateTimeField Newsdata.publish_date received a naive datetime (2016-08-26 00:00:00) while time zone support is active.\n",
      "  RuntimeWarning)\n",
      "C:\\Users\\infomax\\Documents\\GitHub\\protobed\\venv\\lib\\site-packages\\django\\db\\models\\fields\\__init__.py:1421: RuntimeWarning: DateTimeField Newsdata.publish_date received a naive datetime (2009-02-09 00:00:00) while time zone support is active.\n",
      "  RuntimeWarning)\n"
     ]
    },
    {
     "name": "stdout",
     "output_type": "stream",
     "text": [
      "\n"
     ]
    },
    {
     "data": {
      "application/vnd.jupyter.widget-view+json": {
       "model_id": "70b61cb4b7274b40a3b464a9e6b21e7f",
       "version_major": 2,
       "version_minor": 0
      },
      "text/plain": [
       "HBox(children=(IntProgress(value=0, max=525), HTML(value='')))"
      ]
     },
     "metadata": {},
     "output_type": "display_data"
    },
    {
     "name": "stderr",
     "output_type": "stream",
     "text": [
      "C:\\Users\\infomax\\Documents\\GitHub\\protobed\\venv\\lib\\site-packages\\django\\db\\models\\fields\\__init__.py:1421: RuntimeWarning: DateTimeField Newsdata.publish_date received a naive datetime (2019-05-24 00:00:00) while time zone support is active.\n",
      "  RuntimeWarning)\n",
      "C:\\Users\\infomax\\Documents\\GitHub\\protobed\\venv\\lib\\site-packages\\django\\db\\models\\fields\\__init__.py:1421: RuntimeWarning: DateTimeField Newsdata.publish_date received a naive datetime (2018-10-02 00:00:00) while time zone support is active.\n",
      "  RuntimeWarning)\n",
      "C:\\Users\\infomax\\Documents\\GitHub\\protobed\\venv\\lib\\site-packages\\django\\db\\models\\fields\\__init__.py:1421: RuntimeWarning: DateTimeField Newsdata.publish_date received a naive datetime (2018-10-23 00:00:00) while time zone support is active.\n",
      "  RuntimeWarning)\n",
      "C:\\Users\\infomax\\Documents\\GitHub\\protobed\\venv\\lib\\site-packages\\django\\db\\models\\fields\\__init__.py:1421: RuntimeWarning: DateTimeField Newsdata.publish_date received a naive datetime (2019-04-22 00:00:00) while time zone support is active.\n",
      "  RuntimeWarning)\n",
      "C:\\Users\\infomax\\Documents\\GitHub\\protobed\\venv\\lib\\site-packages\\django\\db\\models\\fields\\__init__.py:1421: RuntimeWarning: DateTimeField Newsdata.publish_date received a naive datetime (2019-05-10 00:00:00) while time zone support is active.\n",
      "  RuntimeWarning)\n",
      "C:\\Users\\infomax\\Documents\\GitHub\\protobed\\venv\\lib\\site-packages\\django\\db\\models\\fields\\__init__.py:1421: RuntimeWarning: DateTimeField Newsdata.publish_date received a naive datetime (2019-02-04 00:00:00) while time zone support is active.\n",
      "  RuntimeWarning)\n",
      "C:\\Users\\infomax\\Documents\\GitHub\\protobed\\venv\\lib\\site-packages\\django\\db\\models\\fields\\__init__.py:1421: RuntimeWarning: DateTimeField Newsdata.publish_date received a naive datetime (2018-12-21 00:00:00) while time zone support is active.\n",
      "  RuntimeWarning)\n",
      "C:\\Users\\infomax\\Documents\\GitHub\\protobed\\venv\\lib\\site-packages\\django\\db\\models\\fields\\__init__.py:1421: RuntimeWarning: DateTimeField Newsdata.publish_date received a naive datetime (2019-05-03 00:00:00) while time zone support is active.\n",
      "  RuntimeWarning)\n",
      "C:\\Users\\infomax\\Documents\\GitHub\\protobed\\venv\\lib\\site-packages\\django\\db\\models\\fields\\__init__.py:1421: RuntimeWarning: DateTimeField Newsdata.publish_date received a naive datetime (2018-11-16 00:00:00) while time zone support is active.\n",
      "  RuntimeWarning)\n",
      "C:\\Users\\infomax\\Documents\\GitHub\\protobed\\venv\\lib\\site-packages\\django\\db\\models\\fields\\__init__.py:1421: RuntimeWarning: DateTimeField Newsdata.publish_date received a naive datetime (2019-01-19 00:00:00) while time zone support is active.\n",
      "  RuntimeWarning)\n",
      "C:\\Users\\infomax\\Documents\\GitHub\\protobed\\venv\\lib\\site-packages\\django\\db\\models\\fields\\__init__.py:1421: RuntimeWarning: DateTimeField Newsdata.publish_date received a naive datetime (2019-01-07 00:00:00) while time zone support is active.\n",
      "  RuntimeWarning)\n",
      "C:\\Users\\infomax\\Documents\\GitHub\\protobed\\venv\\lib\\site-packages\\django\\db\\models\\fields\\__init__.py:1421: RuntimeWarning: DateTimeField Newsdata.publish_date received a naive datetime (2018-11-08 00:00:00) while time zone support is active.\n",
      "  RuntimeWarning)\n",
      "C:\\Users\\infomax\\Documents\\GitHub\\protobed\\venv\\lib\\site-packages\\django\\db\\models\\fields\\__init__.py:1421: RuntimeWarning: DateTimeField Newsdata.publish_date received a naive datetime (2019-08-30 00:00:00) while time zone support is active.\n",
      "  RuntimeWarning)\n"
     ]
    },
    {
     "name": "stdout",
     "output_type": "stream",
     "text": [
      "\n"
     ]
    },
    {
     "data": {
      "application/vnd.jupyter.widget-view+json": {
       "model_id": "39948834b9144995ba0e7b66599a6bd7",
       "version_major": 2,
       "version_minor": 0
      },
      "text/plain": [
       "HBox(children=(IntProgress(value=0, max=155), HTML(value='')))"
      ]
     },
     "metadata": {},
     "output_type": "display_data"
    },
    {
     "name": "stderr",
     "output_type": "stream",
     "text": [
      "C:\\Users\\infomax\\Documents\\GitHub\\protobed\\venv\\lib\\site-packages\\django\\db\\models\\fields\\__init__.py:1421: RuntimeWarning: DateTimeField Newsdata.publish_date received a naive datetime (2017-04-09 00:00:00) while time zone support is active.\n",
      "  RuntimeWarning)\n",
      "C:\\Users\\infomax\\Documents\\GitHub\\protobed\\venv\\lib\\site-packages\\django\\db\\models\\fields\\__init__.py:1421: RuntimeWarning: DateTimeField Newsdata.publish_date received a naive datetime (2018-12-30 00:00:00) while time zone support is active.\n",
      "  RuntimeWarning)\n",
      "C:\\Users\\infomax\\Documents\\GitHub\\protobed\\venv\\lib\\site-packages\\django\\db\\models\\fields\\__init__.py:1421: RuntimeWarning: DateTimeField Newsdata.publish_date received a naive datetime (2017-03-26 00:00:00) while time zone support is active.\n",
      "  RuntimeWarning)\n",
      "C:\\Users\\infomax\\Documents\\GitHub\\protobed\\venv\\lib\\site-packages\\django\\db\\models\\fields\\__init__.py:1421: RuntimeWarning: DateTimeField Newsdata.publish_date received a naive datetime (2017-04-02 00:00:00) while time zone support is active.\n",
      "  RuntimeWarning)\n",
      "C:\\Users\\infomax\\Documents\\GitHub\\protobed\\venv\\lib\\site-packages\\django\\db\\models\\fields\\__init__.py:1421: RuntimeWarning: DateTimeField Newsdata.publish_date received a naive datetime (2017-06-26 00:00:00) while time zone support is active.\n",
      "  RuntimeWarning)\n",
      "C:\\Users\\infomax\\Documents\\GitHub\\protobed\\venv\\lib\\site-packages\\django\\db\\models\\fields\\__init__.py:1421: RuntimeWarning: DateTimeField Newsdata.publish_date received a naive datetime (2019-07-24 00:00:00) while time zone support is active.\n",
      "  RuntimeWarning)\n",
      "C:\\Users\\infomax\\Documents\\GitHub\\protobed\\venv\\lib\\site-packages\\django\\db\\models\\fields\\__init__.py:1421: RuntimeWarning: DateTimeField Newsdata.publish_date received a naive datetime (2018-03-01 00:00:00) while time zone support is active.\n",
      "  RuntimeWarning)\n",
      "C:\\Users\\infomax\\Documents\\GitHub\\protobed\\venv\\lib\\site-packages\\django\\db\\models\\fields\\__init__.py:1421: RuntimeWarning: DateTimeField Newsdata.publish_date received a naive datetime (2019-04-18 00:00:00) while time zone support is active.\n",
      "  RuntimeWarning)\n",
      "C:\\Users\\infomax\\Documents\\GitHub\\protobed\\venv\\lib\\site-packages\\django\\db\\models\\fields\\__init__.py:1421: RuntimeWarning: DateTimeField Newsdata.publish_date received a naive datetime (2018-02-27 00:00:00) while time zone support is active.\n",
      "  RuntimeWarning)\n",
      "C:\\Users\\infomax\\Documents\\GitHub\\protobed\\venv\\lib\\site-packages\\django\\db\\models\\fields\\__init__.py:1421: RuntimeWarning: DateTimeField Newsdata.publish_date received a naive datetime (2019-05-07 00:00:00) while time zone support is active.\n",
      "  RuntimeWarning)\n",
      "C:\\Users\\infomax\\Documents\\GitHub\\protobed\\venv\\lib\\site-packages\\django\\db\\models\\fields\\__init__.py:1421: RuntimeWarning: DateTimeField Newsdata.publish_date received a naive datetime (2019-04-26 00:00:00) while time zone support is active.\n",
      "  RuntimeWarning)\n",
      "C:\\Users\\infomax\\Documents\\GitHub\\protobed\\venv\\lib\\site-packages\\django\\db\\models\\fields\\__init__.py:1421: RuntimeWarning: DateTimeField Newsdata.publish_date received a naive datetime (2018-09-14 00:00:00) while time zone support is active.\n",
      "  RuntimeWarning)\n",
      "C:\\Users\\infomax\\Documents\\GitHub\\protobed\\venv\\lib\\site-packages\\django\\db\\models\\fields\\__init__.py:1421: RuntimeWarning: DateTimeField Newsdata.publish_date received a naive datetime (2018-12-24 00:00:00) while time zone support is active.\n",
      "  RuntimeWarning)\n",
      "C:\\Users\\infomax\\Documents\\GitHub\\protobed\\venv\\lib\\site-packages\\django\\db\\models\\fields\\__init__.py:1421: RuntimeWarning: DateTimeField Newsdata.publish_date received a naive datetime (2019-05-21 00:00:00) while time zone support is active.\n",
      "  RuntimeWarning)\n",
      "C:\\Users\\infomax\\Documents\\GitHub\\protobed\\venv\\lib\\site-packages\\django\\db\\models\\fields\\__init__.py:1421: RuntimeWarning: DateTimeField Newsdata.publish_date received a naive datetime (2018-04-14 00:00:00) while time zone support is active.\n",
      "  RuntimeWarning)\n",
      "C:\\Users\\infomax\\Documents\\GitHub\\protobed\\venv\\lib\\site-packages\\django\\db\\models\\fields\\__init__.py:1421: RuntimeWarning: DateTimeField Newsdata.publish_date received a naive datetime (2017-12-19 00:00:00) while time zone support is active.\n",
      "  RuntimeWarning)\n",
      "C:\\Users\\infomax\\Documents\\GitHub\\protobed\\venv\\lib\\site-packages\\django\\db\\models\\fields\\__init__.py:1421: RuntimeWarning: DateTimeField Newsdata.publish_date received a naive datetime (2019-04-08 00:00:00) while time zone support is active.\n",
      "  RuntimeWarning)\n",
      "C:\\Users\\infomax\\Documents\\GitHub\\protobed\\venv\\lib\\site-packages\\django\\db\\models\\fields\\__init__.py:1421: RuntimeWarning: DateTimeField Newsdata.publish_date received a naive datetime (2019-01-30 00:00:00) while time zone support is active.\n",
      "  RuntimeWarning)\n",
      "C:\\Users\\infomax\\Documents\\GitHub\\protobed\\venv\\lib\\site-packages\\django\\db\\models\\fields\\__init__.py:1421: RuntimeWarning: DateTimeField Newsdata.publish_date received a naive datetime (2019-04-15 00:00:00) while time zone support is active.\n",
      "  RuntimeWarning)\n",
      "C:\\Users\\infomax\\Documents\\GitHub\\protobed\\venv\\lib\\site-packages\\django\\db\\models\\fields\\__init__.py:1421: RuntimeWarning: DateTimeField Newsdata.publish_date received a naive datetime (2019-02-18 00:00:00) while time zone support is active.\n",
      "  RuntimeWarning)\n",
      "C:\\Users\\infomax\\Documents\\GitHub\\protobed\\venv\\lib\\site-packages\\django\\db\\models\\fields\\__init__.py:1421: RuntimeWarning: DateTimeField Newsdata.publish_date received a naive datetime (2019-02-12 00:00:00) while time zone support is active.\n",
      "  RuntimeWarning)\n",
      "C:\\Users\\infomax\\Documents\\GitHub\\protobed\\venv\\lib\\site-packages\\django\\db\\models\\fields\\__init__.py:1421: RuntimeWarning: DateTimeField Newsdata.publish_date received a naive datetime (2019-03-26 00:00:00) while time zone support is active.\n",
      "  RuntimeWarning)\n",
      "C:\\Users\\infomax\\Documents\\GitHub\\protobed\\venv\\lib\\site-packages\\django\\db\\models\\fields\\__init__.py:1421: RuntimeWarning: DateTimeField Newsdata.publish_date received a naive datetime (2019-01-17 00:00:00) while time zone support is active.\n",
      "  RuntimeWarning)\n",
      "C:\\Users\\infomax\\Documents\\GitHub\\protobed\\venv\\lib\\site-packages\\django\\db\\models\\fields\\__init__.py:1421: RuntimeWarning: DateTimeField Newsdata.publish_date received a naive datetime (2019-01-14 00:00:00) while time zone support is active.\n",
      "  RuntimeWarning)\n",
      "C:\\Users\\infomax\\Documents\\GitHub\\protobed\\venv\\lib\\site-packages\\django\\db\\models\\fields\\__init__.py:1421: RuntimeWarning: DateTimeField Newsdata.publish_date received a naive datetime (2019-01-10 00:00:00) while time zone support is active.\n",
      "  RuntimeWarning)\n",
      "C:\\Users\\infomax\\Documents\\GitHub\\protobed\\venv\\lib\\site-packages\\django\\db\\models\\fields\\__init__.py:1421: RuntimeWarning: DateTimeField Newsdata.publish_date received a naive datetime (2016-11-01 00:00:00) while time zone support is active.\n",
      "  RuntimeWarning)\n"
     ]
    },
    {
     "name": "stdout",
     "output_type": "stream",
     "text": [
      "\n"
     ]
    },
    {
     "data": {
      "application/vnd.jupyter.widget-view+json": {
       "model_id": "6ced5d15e6294c368f2a6fa388775234",
       "version_major": 2,
       "version_minor": 0
      },
      "text/plain": [
       "HBox(children=(IntProgress(value=0, max=156), HTML(value='')))"
      ]
     },
     "metadata": {},
     "output_type": "display_data"
    },
    {
     "name": "stderr",
     "output_type": "stream",
     "text": [
      "C:\\Users\\infomax\\Documents\\GitHub\\protobed\\venv\\lib\\site-packages\\django\\db\\models\\fields\\__init__.py:1421: RuntimeWarning: DateTimeField Newsdata.publish_date received a naive datetime (2016-04-27 00:00:00) while time zone support is active.\n",
      "  RuntimeWarning)\n",
      "C:\\Users\\infomax\\Documents\\GitHub\\protobed\\venv\\lib\\site-packages\\django\\db\\models\\fields\\__init__.py:1421: RuntimeWarning: DateTimeField Newsdata.publish_date received a naive datetime (2017-08-28 00:00:00) while time zone support is active.\n",
      "  RuntimeWarning)\n"
     ]
    },
    {
     "name": "stdout",
     "output_type": "stream",
     "text": [
      "\n"
     ]
    },
    {
     "data": {
      "application/vnd.jupyter.widget-view+json": {
       "model_id": "5319d2a29255483a8f046eb24aff7541",
       "version_major": 2,
       "version_minor": 0
      },
      "text/plain": [
       "HBox(children=(IntProgress(value=0, max=172), HTML(value='')))"
      ]
     },
     "metadata": {},
     "output_type": "display_data"
    },
    {
     "name": "stderr",
     "output_type": "stream",
     "text": [
      "C:\\Users\\infomax\\Documents\\GitHub\\protobed\\venv\\lib\\site-packages\\django\\db\\models\\fields\\__init__.py:1421: RuntimeWarning: DateTimeField Newsdata.publish_date received a naive datetime (2019-01-28 00:00:00) while time zone support is active.\n",
      "  RuntimeWarning)\n"
     ]
    },
    {
     "name": "stdout",
     "output_type": "stream",
     "text": [
      "\n"
     ]
    },
    {
     "data": {
      "application/vnd.jupyter.widget-view+json": {
       "model_id": "bd4e7f347b1c42a797db6751ff811b91",
       "version_major": 2,
       "version_minor": 0
      },
      "text/plain": [
       "HBox(children=(IntProgress(value=0, max=157), HTML(value='')))"
      ]
     },
     "metadata": {},
     "output_type": "display_data"
    },
    {
     "name": "stderr",
     "output_type": "stream",
     "text": [
      "C:\\Users\\infomax\\Documents\\GitHub\\protobed\\venv\\lib\\site-packages\\django\\db\\models\\fields\\__init__.py:1421: RuntimeWarning: DateTimeField Newsdata.publish_date received a naive datetime (2017-05-15 00:00:00) while time zone support is active.\n",
      "  RuntimeWarning)\n",
      "C:\\Users\\infomax\\Documents\\GitHub\\protobed\\venv\\lib\\site-packages\\django\\db\\models\\fields\\__init__.py:1421: RuntimeWarning: DateTimeField Newsdata.publish_date received a naive datetime (2017-03-17 00:00:00) while time zone support is active.\n",
      "  RuntimeWarning)\n",
      "C:\\Users\\infomax\\Documents\\GitHub\\protobed\\venv\\lib\\site-packages\\django\\db\\models\\fields\\__init__.py:1421: RuntimeWarning: DateTimeField Newsdata.publish_date received a naive datetime (2019-06-26 00:00:00) while time zone support is active.\n",
      "  RuntimeWarning)\n",
      "C:\\Users\\infomax\\Documents\\GitHub\\protobed\\venv\\lib\\site-packages\\django\\db\\models\\fields\\__init__.py:1421: RuntimeWarning: DateTimeField Newsdata.publish_date received a naive datetime (2019-06-05 00:00:00) while time zone support is active.\n",
      "  RuntimeWarning)\n",
      "C:\\Users\\infomax\\Documents\\GitHub\\protobed\\venv\\lib\\site-packages\\django\\db\\models\\fields\\__init__.py:1421: RuntimeWarning: DateTimeField Newsdata.publish_date received a naive datetime (2019-05-17 00:00:00) while time zone support is active.\n",
      "  RuntimeWarning)\n",
      "C:\\Users\\infomax\\Documents\\GitHub\\protobed\\venv\\lib\\site-packages\\django\\db\\models\\fields\\__init__.py:1421: RuntimeWarning: DateTimeField Newsdata.publish_date received a naive datetime (2019-05-08 00:00:00) while time zone support is active.\n",
      "  RuntimeWarning)\n",
      "C:\\Users\\infomax\\Documents\\GitHub\\protobed\\venv\\lib\\site-packages\\django\\db\\models\\fields\\__init__.py:1421: RuntimeWarning: DateTimeField Newsdata.publish_date received a naive datetime (2018-12-19 00:00:00) while time zone support is active.\n",
      "  RuntimeWarning)\n",
      "C:\\Users\\infomax\\Documents\\GitHub\\protobed\\venv\\lib\\site-packages\\django\\db\\models\\fields\\__init__.py:1421: RuntimeWarning: DateTimeField Newsdata.publish_date received a naive datetime (2019-03-18 00:00:00) while time zone support is active.\n",
      "  RuntimeWarning)\n",
      "C:\\Users\\infomax\\Documents\\GitHub\\protobed\\venv\\lib\\site-packages\\django\\db\\models\\fields\\__init__.py:1421: RuntimeWarning: DateTimeField Newsdata.publish_date received a naive datetime (2018-12-05 00:00:00) while time zone support is active.\n",
      "  RuntimeWarning)\n",
      "C:\\Users\\infomax\\Documents\\GitHub\\protobed\\venv\\lib\\site-packages\\django\\db\\models\\fields\\__init__.py:1421: RuntimeWarning: DateTimeField Newsdata.publish_date received a naive datetime (2018-11-30 00:00:00) while time zone support is active.\n",
      "  RuntimeWarning)\n",
      "C:\\Users\\infomax\\Documents\\GitHub\\protobed\\venv\\lib\\site-packages\\django\\db\\models\\fields\\__init__.py:1421: RuntimeWarning: DateTimeField Newsdata.publish_date received a naive datetime (2018-11-15 00:00:00) while time zone support is active.\n",
      "  RuntimeWarning)\n",
      "C:\\Users\\infomax\\Documents\\GitHub\\protobed\\venv\\lib\\site-packages\\django\\db\\models\\fields\\__init__.py:1421: RuntimeWarning: DateTimeField Newsdata.publish_date received a naive datetime (2015-09-03 00:00:00) while time zone support is active.\n",
      "  RuntimeWarning)\n",
      "C:\\Users\\infomax\\Documents\\GitHub\\protobed\\venv\\lib\\site-packages\\django\\db\\models\\fields\\__init__.py:1421: RuntimeWarning: DateTimeField Newsdata.publish_date received a naive datetime (2010-04-05 00:00:00) while time zone support is active.\n",
      "  RuntimeWarning)\n"
     ]
    },
    {
     "name": "stdout",
     "output_type": "stream",
     "text": [
      "\n"
     ]
    },
    {
     "data": {
      "application/vnd.jupyter.widget-view+json": {
       "model_id": "fb2026e8a8cf49e28051881091f0b605",
       "version_major": 2,
       "version_minor": 0
      },
      "text/plain": [
       "HBox(children=(IntProgress(value=0, max=1485), HTML(value='')))"
      ]
     },
     "metadata": {},
     "output_type": "display_data"
    },
    {
     "name": "stderr",
     "output_type": "stream",
     "text": [
      "C:\\Users\\infomax\\Documents\\GitHub\\protobed\\venv\\lib\\site-packages\\django\\db\\models\\fields\\__init__.py:1421: RuntimeWarning: DateTimeField Newsdata.publish_date received a naive datetime (2018-03-16 00:00:00) while time zone support is active.\n",
      "  RuntimeWarning)\n",
      "C:\\Users\\infomax\\Documents\\GitHub\\protobed\\venv\\lib\\site-packages\\django\\db\\models\\fields\\__init__.py:1421: RuntimeWarning: DateTimeField Newsdata.publish_date received a naive datetime (2017-12-22 00:00:00) while time zone support is active.\n",
      "  RuntimeWarning)\n",
      "C:\\Users\\infomax\\Documents\\GitHub\\protobed\\venv\\lib\\site-packages\\django\\db\\models\\fields\\__init__.py:1421: RuntimeWarning: DateTimeField Newsdata.publish_date received a naive datetime (2019-07-14 00:00:00) while time zone support is active.\n",
      "  RuntimeWarning)\n",
      "C:\\Users\\infomax\\Documents\\GitHub\\protobed\\venv\\lib\\site-packages\\django\\db\\models\\fields\\__init__.py:1421: RuntimeWarning: DateTimeField Newsdata.publish_date received a naive datetime (2019-04-02 00:00:00) while time zone support is active.\n",
      "  RuntimeWarning)\n",
      "C:\\Users\\infomax\\Documents\\GitHub\\protobed\\venv\\lib\\site-packages\\django\\db\\models\\fields\\__init__.py:1421: RuntimeWarning: DateTimeField Newsdata.publish_date received a naive datetime (2019-03-01 00:00:00) while time zone support is active.\n",
      "  RuntimeWarning)\n",
      "C:\\Users\\infomax\\Documents\\GitHub\\protobed\\venv\\lib\\site-packages\\django\\db\\models\\fields\\__init__.py:1421: RuntimeWarning: DateTimeField Newsdata.publish_date received a naive datetime (2019-01-02 00:00:00) while time zone support is active.\n",
      "  RuntimeWarning)\n",
      "C:\\Users\\infomax\\Documents\\GitHub\\protobed\\venv\\lib\\site-packages\\django\\db\\models\\fields\\__init__.py:1421: RuntimeWarning: DateTimeField Newsdata.publish_date received a naive datetime (2018-12-17 00:00:00) while time zone support is active.\n",
      "  RuntimeWarning)\n",
      "C:\\Users\\infomax\\Documents\\GitHub\\protobed\\venv\\lib\\site-packages\\django\\db\\models\\fields\\__init__.py:1421: RuntimeWarning: DateTimeField Newsdata.publish_date received a naive datetime (2017-10-11 00:00:00) while time zone support is active.\n",
      "  RuntimeWarning)\n",
      "C:\\Users\\infomax\\Documents\\GitHub\\protobed\\venv\\lib\\site-packages\\django\\db\\models\\fields\\__init__.py:1421: RuntimeWarning: DateTimeField Newsdata.publish_date received a naive datetime (2017-08-23 00:00:00) while time zone support is active.\n",
      "  RuntimeWarning)\n",
      "C:\\Users\\infomax\\Documents\\GitHub\\protobed\\venv\\lib\\site-packages\\django\\db\\models\\fields\\__init__.py:1421: RuntimeWarning: DateTimeField Newsdata.publish_date received a naive datetime (2017-03-16 00:00:00) while time zone support is active.\n",
      "  RuntimeWarning)\n",
      "C:\\Users\\infomax\\Documents\\GitHub\\protobed\\venv\\lib\\site-packages\\django\\db\\models\\fields\\__init__.py:1421: RuntimeWarning: DateTimeField Newsdata.publish_date received a naive datetime (2016-09-29 00:00:00) while time zone support is active.\n",
      "  RuntimeWarning)\n",
      "C:\\Users\\infomax\\Documents\\GitHub\\protobed\\venv\\lib\\site-packages\\django\\db\\models\\fields\\__init__.py:1421: RuntimeWarning: DateTimeField Newsdata.publish_date received a naive datetime (2016-08-05 00:00:00) while time zone support is active.\n",
      "  RuntimeWarning)\n",
      "C:\\Users\\infomax\\Documents\\GitHub\\protobed\\venv\\lib\\site-packages\\django\\db\\models\\fields\\__init__.py:1421: RuntimeWarning: DateTimeField Newsdata.publish_date received a naive datetime (2016-03-28 00:00:00) while time zone support is active.\n",
      "  RuntimeWarning)\n",
      "C:\\Users\\infomax\\Documents\\GitHub\\protobed\\venv\\lib\\site-packages\\django\\db\\models\\fields\\__init__.py:1421: RuntimeWarning: DateTimeField Newsdata.publish_date received a naive datetime (2016-03-10 00:00:00) while time zone support is active.\n",
      "  RuntimeWarning)\n",
      "C:\\Users\\infomax\\Documents\\GitHub\\protobed\\venv\\lib\\site-packages\\django\\db\\models\\fields\\__init__.py:1421: RuntimeWarning: DateTimeField Newsdata.publish_date received a naive datetime (2015-12-07 00:00:00) while time zone support is active.\n",
      "  RuntimeWarning)\n"
     ]
    },
    {
     "name": "stdout",
     "output_type": "stream",
     "text": [
      "\n"
     ]
    },
    {
     "data": {
      "application/vnd.jupyter.widget-view+json": {
       "model_id": "40e95b54a33841938387284a4b457689",
       "version_major": 2,
       "version_minor": 0
      },
      "text/plain": [
       "HBox(children=(IntProgress(value=0, max=637), HTML(value='')))"
      ]
     },
     "metadata": {},
     "output_type": "display_data"
    },
    {
     "name": "stderr",
     "output_type": "stream",
     "text": [
      "C:\\Users\\infomax\\Documents\\GitHub\\protobed\\venv\\lib\\site-packages\\django\\db\\models\\fields\\__init__.py:1421: RuntimeWarning: DateTimeField Newsdata.publish_date received a naive datetime (2015-07-14 00:00:00) while time zone support is active.\n",
      "  RuntimeWarning)\n",
      "C:\\Users\\infomax\\Documents\\GitHub\\protobed\\venv\\lib\\site-packages\\django\\db\\models\\fields\\__init__.py:1421: RuntimeWarning: DateTimeField Newsdata.publish_date received a naive datetime (2019-02-20 00:00:00) while time zone support is active.\n",
      "  RuntimeWarning)\n",
      "C:\\Users\\infomax\\Documents\\GitHub\\protobed\\venv\\lib\\site-packages\\django\\db\\models\\fields\\__init__.py:1421: RuntimeWarning: DateTimeField Newsdata.publish_date received a naive datetime (2019-05-30 00:00:00) while time zone support is active.\n",
      "  RuntimeWarning)\n",
      "C:\\Users\\infomax\\Documents\\GitHub\\protobed\\venv\\lib\\site-packages\\django\\db\\models\\fields\\__init__.py:1421: RuntimeWarning: DateTimeField Newsdata.publish_date received a naive datetime (2019-05-23 00:00:00) while time zone support is active.\n",
      "  RuntimeWarning)\n",
      "C:\\Users\\infomax\\Documents\\GitHub\\protobed\\venv\\lib\\site-packages\\django\\db\\models\\fields\\__init__.py:1421: RuntimeWarning: DateTimeField Newsdata.publish_date received a naive datetime (2019-05-16 00:00:00) while time zone support is active.\n",
      "  RuntimeWarning)\n",
      "C:\\Users\\infomax\\Documents\\GitHub\\protobed\\venv\\lib\\site-packages\\django\\db\\models\\fields\\__init__.py:1421: RuntimeWarning: DateTimeField Newsdata.publish_date received a naive datetime (2019-04-17 00:00:00) while time zone support is active.\n",
      "  RuntimeWarning)\n",
      "C:\\Users\\infomax\\Documents\\GitHub\\protobed\\venv\\lib\\site-packages\\django\\db\\models\\fields\\__init__.py:1421: RuntimeWarning: DateTimeField Newsdata.publish_date received a naive datetime (2019-04-04 00:00:00) while time zone support is active.\n",
      "  RuntimeWarning)\n",
      "C:\\Users\\infomax\\Documents\\GitHub\\protobed\\venv\\lib\\site-packages\\django\\db\\models\\fields\\__init__.py:1421: RuntimeWarning: DateTimeField Newsdata.publish_date received a naive datetime (2019-03-21 00:00:00) while time zone support is active.\n",
      "  RuntimeWarning)\n",
      "C:\\Users\\infomax\\Documents\\GitHub\\protobed\\venv\\lib\\site-packages\\django\\db\\models\\fields\\__init__.py:1421: RuntimeWarning: DateTimeField Newsdata.publish_date received a naive datetime (2019-03-14 00:00:00) while time zone support is active.\n",
      "  RuntimeWarning)\n",
      "C:\\Users\\infomax\\Documents\\GitHub\\protobed\\venv\\lib\\site-packages\\django\\db\\models\\fields\\__init__.py:1421: RuntimeWarning: DateTimeField Newsdata.publish_date received a naive datetime (2019-03-07 00:00:00) while time zone support is active.\n",
      "  RuntimeWarning)\n",
      "C:\\Users\\infomax\\Documents\\GitHub\\protobed\\venv\\lib\\site-packages\\django\\db\\models\\fields\\__init__.py:1421: RuntimeWarning: DateTimeField Newsdata.publish_date received a naive datetime (2019-02-28 00:00:00) while time zone support is active.\n",
      "  RuntimeWarning)\n",
      "C:\\Users\\infomax\\Documents\\GitHub\\protobed\\venv\\lib\\site-packages\\django\\db\\models\\fields\\__init__.py:1421: RuntimeWarning: DateTimeField Newsdata.publish_date received a naive datetime (2019-02-21 00:00:00) while time zone support is active.\n",
      "  RuntimeWarning)\n",
      "C:\\Users\\infomax\\Documents\\GitHub\\protobed\\venv\\lib\\site-packages\\django\\db\\models\\fields\\__init__.py:1421: RuntimeWarning: DateTimeField Newsdata.publish_date received a naive datetime (2019-02-07 00:00:00) while time zone support is active.\n",
      "  RuntimeWarning)\n",
      "C:\\Users\\infomax\\Documents\\GitHub\\protobed\\venv\\lib\\site-packages\\django\\db\\models\\fields\\__init__.py:1421: RuntimeWarning: DateTimeField Newsdata.publish_date received a naive datetime (2019-01-31 00:00:00) while time zone support is active.\n",
      "  RuntimeWarning)\n",
      "C:\\Users\\infomax\\Documents\\GitHub\\protobed\\venv\\lib\\site-packages\\django\\db\\models\\fields\\__init__.py:1421: RuntimeWarning: DateTimeField Newsdata.publish_date received a naive datetime (2019-01-24 00:00:00) while time zone support is active.\n",
      "  RuntimeWarning)\n",
      "C:\\Users\\infomax\\Documents\\GitHub\\protobed\\venv\\lib\\site-packages\\django\\db\\models\\fields\\__init__.py:1421: RuntimeWarning: DateTimeField Newsdata.publish_date received a naive datetime (2019-01-03 00:00:00) while time zone support is active.\n",
      "  RuntimeWarning)\n",
      "C:\\Users\\infomax\\Documents\\GitHub\\protobed\\venv\\lib\\site-packages\\django\\db\\models\\fields\\__init__.py:1421: RuntimeWarning: DateTimeField Newsdata.publish_date received a naive datetime (2018-12-26 00:00:00) while time zone support is active.\n",
      "  RuntimeWarning)\n",
      "C:\\Users\\infomax\\Documents\\GitHub\\protobed\\venv\\lib\\site-packages\\django\\db\\models\\fields\\__init__.py:1421: RuntimeWarning: DateTimeField Newsdata.publish_date received a naive datetime (2018-12-20 00:00:00) while time zone support is active.\n",
      "  RuntimeWarning)\n",
      "C:\\Users\\infomax\\Documents\\GitHub\\protobed\\venv\\lib\\site-packages\\django\\db\\models\\fields\\__init__.py:1421: RuntimeWarning: DateTimeField Newsdata.publish_date received a naive datetime (2018-12-13 00:00:00) while time zone support is active.\n",
      "  RuntimeWarning)\n",
      "C:\\Users\\infomax\\Documents\\GitHub\\protobed\\venv\\lib\\site-packages\\django\\db\\models\\fields\\__init__.py:1421: RuntimeWarning: DateTimeField Newsdata.publish_date received a naive datetime (2018-11-29 00:00:00) while time zone support is active.\n",
      "  RuntimeWarning)\n",
      "C:\\Users\\infomax\\Documents\\GitHub\\protobed\\venv\\lib\\site-packages\\django\\db\\models\\fields\\__init__.py:1421: RuntimeWarning: DateTimeField Newsdata.publish_date received a naive datetime (2018-11-21 00:00:00) while time zone support is active.\n",
      "  RuntimeWarning)\n",
      "C:\\Users\\infomax\\Documents\\GitHub\\protobed\\venv\\lib\\site-packages\\django\\db\\models\\fields\\__init__.py:1421: RuntimeWarning: DateTimeField Newsdata.publish_date received a naive datetime (2018-10-24 00:00:00) while time zone support is active.\n",
      "  RuntimeWarning)\n",
      "C:\\Users\\infomax\\Documents\\GitHub\\protobed\\venv\\lib\\site-packages\\django\\db\\models\\fields\\__init__.py:1421: RuntimeWarning: DateTimeField Newsdata.publish_date received a naive datetime (2018-10-11 00:00:00) while time zone support is active.\n",
      "  RuntimeWarning)\n",
      "C:\\Users\\infomax\\Documents\\GitHub\\protobed\\venv\\lib\\site-packages\\django\\db\\models\\fields\\__init__.py:1421: RuntimeWarning: DateTimeField Newsdata.publish_date received a naive datetime (2018-10-04 00:00:00) while time zone support is active.\n",
      "  RuntimeWarning)\n",
      "C:\\Users\\infomax\\Documents\\GitHub\\protobed\\venv\\lib\\site-packages\\django\\db\\models\\fields\\__init__.py:1421: RuntimeWarning: DateTimeField Newsdata.publish_date received a naive datetime (2018-09-27 00:00:00) while time zone support is active.\n",
      "  RuntimeWarning)\n",
      "C:\\Users\\infomax\\Documents\\GitHub\\protobed\\venv\\lib\\site-packages\\django\\db\\models\\fields\\__init__.py:1421: RuntimeWarning: DateTimeField Newsdata.publish_date received a naive datetime (2018-09-20 00:00:00) while time zone support is active.\n",
      "  RuntimeWarning)\n",
      "C:\\Users\\infomax\\Documents\\GitHub\\protobed\\venv\\lib\\site-packages\\django\\db\\models\\fields\\__init__.py:1421: RuntimeWarning: DateTimeField Newsdata.publish_date received a naive datetime (2018-09-13 00:00:00) while time zone support is active.\n",
      "  RuntimeWarning)\n",
      "C:\\Users\\infomax\\Documents\\GitHub\\protobed\\venv\\lib\\site-packages\\django\\db\\models\\fields\\__init__.py:1421: RuntimeWarning: DateTimeField Newsdata.publish_date received a naive datetime (2018-09-05 00:00:00) while time zone support is active.\n",
      "  RuntimeWarning)\n",
      "C:\\Users\\infomax\\Documents\\GitHub\\protobed\\venv\\lib\\site-packages\\django\\db\\models\\fields\\__init__.py:1421: RuntimeWarning: DateTimeField Newsdata.publish_date received a naive datetime (2018-08-30 00:00:00) while time zone support is active.\n",
      "  RuntimeWarning)\n",
      "C:\\Users\\infomax\\Documents\\GitHub\\protobed\\venv\\lib\\site-packages\\django\\db\\models\\fields\\__init__.py:1421: RuntimeWarning: DateTimeField Newsdata.publish_date received a naive datetime (2018-08-22 00:00:00) while time zone support is active.\n",
      "  RuntimeWarning)\n",
      "C:\\Users\\infomax\\Documents\\GitHub\\protobed\\venv\\lib\\site-packages\\django\\db\\models\\fields\\__init__.py:1421: RuntimeWarning: DateTimeField Newsdata.publish_date received a naive datetime (2018-08-16 00:00:00) while time zone support is active.\n",
      "  RuntimeWarning)\n",
      "C:\\Users\\infomax\\Documents\\GitHub\\protobed\\venv\\lib\\site-packages\\django\\db\\models\\fields\\__init__.py:1421: RuntimeWarning: DateTimeField Newsdata.publish_date received a naive datetime (2018-08-09 00:00:00) while time zone support is active.\n",
      "  RuntimeWarning)\n"
     ]
    },
    {
     "name": "stderr",
     "output_type": "stream",
     "text": [
      "C:\\Users\\infomax\\Documents\\GitHub\\protobed\\venv\\lib\\site-packages\\django\\db\\models\\fields\\__init__.py:1421: RuntimeWarning: DateTimeField Newsdata.publish_date received a naive datetime (2018-08-02 00:00:00) while time zone support is active.\n",
      "  RuntimeWarning)\n",
      "C:\\Users\\infomax\\Documents\\GitHub\\protobed\\venv\\lib\\site-packages\\django\\db\\models\\fields\\__init__.py:1421: RuntimeWarning: DateTimeField Newsdata.publish_date received a naive datetime (2018-07-26 00:00:00) while time zone support is active.\n",
      "  RuntimeWarning)\n",
      "C:\\Users\\infomax\\Documents\\GitHub\\protobed\\venv\\lib\\site-packages\\django\\db\\models\\fields\\__init__.py:1421: RuntimeWarning: DateTimeField Newsdata.publish_date received a naive datetime (2018-07-19 00:00:00) while time zone support is active.\n",
      "  RuntimeWarning)\n",
      "C:\\Users\\infomax\\Documents\\GitHub\\protobed\\venv\\lib\\site-packages\\django\\db\\models\\fields\\__init__.py:1421: RuntimeWarning: DateTimeField Newsdata.publish_date received a naive datetime (2018-07-12 00:00:00) while time zone support is active.\n",
      "  RuntimeWarning)\n",
      "C:\\Users\\infomax\\Documents\\GitHub\\protobed\\venv\\lib\\site-packages\\django\\db\\models\\fields\\__init__.py:1421: RuntimeWarning: DateTimeField Newsdata.publish_date received a naive datetime (2018-07-05 00:00:00) while time zone support is active.\n",
      "  RuntimeWarning)\n",
      "C:\\Users\\infomax\\Documents\\GitHub\\protobed\\venv\\lib\\site-packages\\django\\db\\models\\fields\\__init__.py:1421: RuntimeWarning: DateTimeField Newsdata.publish_date received a naive datetime (2018-06-21 00:00:00) while time zone support is active.\n",
      "  RuntimeWarning)\n",
      "C:\\Users\\infomax\\Documents\\GitHub\\protobed\\venv\\lib\\site-packages\\django\\db\\models\\fields\\__init__.py:1421: RuntimeWarning: DateTimeField Newsdata.publish_date received a naive datetime (2018-06-14 00:00:00) while time zone support is active.\n",
      "  RuntimeWarning)\n",
      "C:\\Users\\infomax\\Documents\\GitHub\\protobed\\venv\\lib\\site-packages\\django\\db\\models\\fields\\__init__.py:1421: RuntimeWarning: DateTimeField Newsdata.publish_date received a naive datetime (2018-06-07 00:00:00) while time zone support is active.\n",
      "  RuntimeWarning)\n",
      "C:\\Users\\infomax\\Documents\\GitHub\\protobed\\venv\\lib\\site-packages\\django\\db\\models\\fields\\__init__.py:1421: RuntimeWarning: DateTimeField Newsdata.publish_date received a naive datetime (2018-05-24 00:00:00) while time zone support is active.\n",
      "  RuntimeWarning)\n",
      "C:\\Users\\infomax\\Documents\\GitHub\\protobed\\venv\\lib\\site-packages\\django\\db\\models\\fields\\__init__.py:1421: RuntimeWarning: DateTimeField Newsdata.publish_date received a naive datetime (2018-05-17 00:00:00) while time zone support is active.\n",
      "  RuntimeWarning)\n",
      "C:\\Users\\infomax\\Documents\\GitHub\\protobed\\venv\\lib\\site-packages\\django\\db\\models\\fields\\__init__.py:1421: RuntimeWarning: DateTimeField Newsdata.publish_date received a naive datetime (2018-04-26 00:00:00) while time zone support is active.\n",
      "  RuntimeWarning)\n",
      "C:\\Users\\infomax\\Documents\\GitHub\\protobed\\venv\\lib\\site-packages\\django\\db\\models\\fields\\__init__.py:1421: RuntimeWarning: DateTimeField Newsdata.publish_date received a naive datetime (2018-04-05 00:00:00) while time zone support is active.\n",
      "  RuntimeWarning)\n",
      "C:\\Users\\infomax\\Documents\\GitHub\\protobed\\venv\\lib\\site-packages\\django\\db\\models\\fields\\__init__.py:1421: RuntimeWarning: DateTimeField Newsdata.publish_date received a naive datetime (2018-03-22 00:00:00) while time zone support is active.\n",
      "  RuntimeWarning)\n",
      "C:\\Users\\infomax\\Documents\\GitHub\\protobed\\venv\\lib\\site-packages\\django\\db\\models\\fields\\__init__.py:1421: RuntimeWarning: DateTimeField Newsdata.publish_date received a naive datetime (2018-03-15 00:00:00) while time zone support is active.\n",
      "  RuntimeWarning)\n",
      "C:\\Users\\infomax\\Documents\\GitHub\\protobed\\venv\\lib\\site-packages\\django\\db\\models\\fields\\__init__.py:1421: RuntimeWarning: DateTimeField Newsdata.publish_date received a naive datetime (2018-03-07 00:00:00) while time zone support is active.\n",
      "  RuntimeWarning)\n",
      "C:\\Users\\infomax\\Documents\\GitHub\\protobed\\venv\\lib\\site-packages\\django\\db\\models\\fields\\__init__.py:1421: RuntimeWarning: DateTimeField Newsdata.publish_date received a naive datetime (2018-02-22 00:00:00) while time zone support is active.\n",
      "  RuntimeWarning)\n",
      "C:\\Users\\infomax\\Documents\\GitHub\\protobed\\venv\\lib\\site-packages\\django\\db\\models\\fields\\__init__.py:1421: RuntimeWarning: DateTimeField Newsdata.publish_date received a naive datetime (2018-02-15 00:00:00) while time zone support is active.\n",
      "  RuntimeWarning)\n",
      "C:\\Users\\infomax\\Documents\\GitHub\\protobed\\venv\\lib\\site-packages\\django\\db\\models\\fields\\__init__.py:1421: RuntimeWarning: DateTimeField Newsdata.publish_date received a naive datetime (2018-02-08 00:00:00) while time zone support is active.\n",
      "  RuntimeWarning)\n",
      "C:\\Users\\infomax\\Documents\\GitHub\\protobed\\venv\\lib\\site-packages\\django\\db\\models\\fields\\__init__.py:1421: RuntimeWarning: DateTimeField Newsdata.publish_date received a naive datetime (2018-02-01 00:00:00) while time zone support is active.\n",
      "  RuntimeWarning)\n",
      "C:\\Users\\infomax\\Documents\\GitHub\\protobed\\venv\\lib\\site-packages\\django\\db\\models\\fields\\__init__.py:1421: RuntimeWarning: DateTimeField Newsdata.publish_date received a naive datetime (2018-01-25 00:00:00) while time zone support is active.\n",
      "  RuntimeWarning)\n",
      "C:\\Users\\infomax\\Documents\\GitHub\\protobed\\venv\\lib\\site-packages\\django\\db\\models\\fields\\__init__.py:1421: RuntimeWarning: DateTimeField Newsdata.publish_date received a naive datetime (2018-01-11 00:00:00) while time zone support is active.\n",
      "  RuntimeWarning)\n",
      "C:\\Users\\infomax\\Documents\\GitHub\\protobed\\venv\\lib\\site-packages\\django\\db\\models\\fields\\__init__.py:1421: RuntimeWarning: DateTimeField Newsdata.publish_date received a naive datetime (2017-12-28 00:00:00) while time zone support is active.\n",
      "  RuntimeWarning)\n",
      "C:\\Users\\infomax\\Documents\\GitHub\\protobed\\venv\\lib\\site-packages\\django\\db\\models\\fields\\__init__.py:1421: RuntimeWarning: DateTimeField Newsdata.publish_date received a naive datetime (2017-12-21 00:00:00) while time zone support is active.\n",
      "  RuntimeWarning)\n",
      "C:\\Users\\infomax\\Documents\\GitHub\\protobed\\venv\\lib\\site-packages\\django\\db\\models\\fields\\__init__.py:1421: RuntimeWarning: DateTimeField Newsdata.publish_date received a naive datetime (2017-12-14 00:00:00) while time zone support is active.\n",
      "  RuntimeWarning)\n",
      "C:\\Users\\infomax\\Documents\\GitHub\\protobed\\venv\\lib\\site-packages\\django\\db\\models\\fields\\__init__.py:1421: RuntimeWarning: DateTimeField Newsdata.publish_date received a naive datetime (2017-12-07 00:00:00) while time zone support is active.\n",
      "  RuntimeWarning)\n",
      "C:\\Users\\infomax\\Documents\\GitHub\\protobed\\venv\\lib\\site-packages\\django\\db\\models\\fields\\__init__.py:1421: RuntimeWarning: DateTimeField Newsdata.publish_date received a naive datetime (2017-11-30 00:00:00) while time zone support is active.\n",
      "  RuntimeWarning)\n",
      "C:\\Users\\infomax\\Documents\\GitHub\\protobed\\venv\\lib\\site-packages\\django\\db\\models\\fields\\__init__.py:1421: RuntimeWarning: DateTimeField Newsdata.publish_date received a naive datetime (2017-11-22 00:00:00) while time zone support is active.\n",
      "  RuntimeWarning)\n",
      "C:\\Users\\infomax\\Documents\\GitHub\\protobed\\venv\\lib\\site-packages\\django\\db\\models\\fields\\__init__.py:1421: RuntimeWarning: DateTimeField Newsdata.publish_date received a naive datetime (2017-11-16 00:00:00) while time zone support is active.\n",
      "  RuntimeWarning)\n",
      "C:\\Users\\infomax\\Documents\\GitHub\\protobed\\venv\\lib\\site-packages\\django\\db\\models\\fields\\__init__.py:1421: RuntimeWarning: DateTimeField Newsdata.publish_date received a naive datetime (2017-11-10 00:00:00) while time zone support is active.\n",
      "  RuntimeWarning)\n",
      "C:\\Users\\infomax\\Documents\\GitHub\\protobed\\venv\\lib\\site-packages\\django\\db\\models\\fields\\__init__.py:1421: RuntimeWarning: DateTimeField Newsdata.publish_date received a naive datetime (2017-11-03 00:00:00) while time zone support is active.\n",
      "  RuntimeWarning)\n",
      "C:\\Users\\infomax\\Documents\\GitHub\\protobed\\venv\\lib\\site-packages\\django\\db\\models\\fields\\__init__.py:1421: RuntimeWarning: DateTimeField Newsdata.publish_date received a naive datetime (2017-10-27 00:00:00) while time zone support is active.\n",
      "  RuntimeWarning)\n",
      "C:\\Users\\infomax\\Documents\\GitHub\\protobed\\venv\\lib\\site-packages\\django\\db\\models\\fields\\__init__.py:1421: RuntimeWarning: DateTimeField Newsdata.publish_date received a naive datetime (2017-10-19 00:00:00) while time zone support is active.\n",
      "  RuntimeWarning)\n"
     ]
    },
    {
     "name": "stderr",
     "output_type": "stream",
     "text": [
      "C:\\Users\\infomax\\Documents\\GitHub\\protobed\\venv\\lib\\site-packages\\django\\db\\models\\fields\\__init__.py:1421: RuntimeWarning: DateTimeField Newsdata.publish_date received a naive datetime (2017-10-17 00:00:00) while time zone support is active.\n",
      "  RuntimeWarning)\n",
      "C:\\Users\\infomax\\Documents\\GitHub\\protobed\\venv\\lib\\site-packages\\django\\db\\models\\fields\\__init__.py:1421: RuntimeWarning: DateTimeField Newsdata.publish_date received a naive datetime (2017-10-06 00:00:00) while time zone support is active.\n",
      "  RuntimeWarning)\n",
      "C:\\Users\\infomax\\Documents\\GitHub\\protobed\\venv\\lib\\site-packages\\django\\db\\models\\fields\\__init__.py:1421: RuntimeWarning: DateTimeField Newsdata.publish_date received a naive datetime (2017-09-29 00:00:00) while time zone support is active.\n",
      "  RuntimeWarning)\n",
      "C:\\Users\\infomax\\Documents\\GitHub\\protobed\\venv\\lib\\site-packages\\django\\db\\models\\fields\\__init__.py:1421: RuntimeWarning: DateTimeField Newsdata.publish_date received a naive datetime (2017-09-22 00:00:00) while time zone support is active.\n",
      "  RuntimeWarning)\n",
      "C:\\Users\\infomax\\Documents\\GitHub\\protobed\\venv\\lib\\site-packages\\django\\db\\models\\fields\\__init__.py:1421: RuntimeWarning: DateTimeField Newsdata.publish_date received a naive datetime (2017-09-15 00:00:00) while time zone support is active.\n",
      "  RuntimeWarning)\n",
      "C:\\Users\\infomax\\Documents\\GitHub\\protobed\\venv\\lib\\site-packages\\django\\db\\models\\fields\\__init__.py:1421: RuntimeWarning: DateTimeField Newsdata.publish_date received a naive datetime (2017-09-07 00:00:00) while time zone support is active.\n",
      "  RuntimeWarning)\n",
      "C:\\Users\\infomax\\Documents\\GitHub\\protobed\\venv\\lib\\site-packages\\django\\db\\models\\fields\\__init__.py:1421: RuntimeWarning: DateTimeField Newsdata.publish_date received a naive datetime (2017-08-30 00:00:00) while time zone support is active.\n",
      "  RuntimeWarning)\n",
      "C:\\Users\\infomax\\Documents\\GitHub\\protobed\\venv\\lib\\site-packages\\django\\db\\models\\fields\\__init__.py:1421: RuntimeWarning: DateTimeField Newsdata.publish_date received a naive datetime (2017-08-21 00:00:00) while time zone support is active.\n",
      "  RuntimeWarning)\n",
      "C:\\Users\\infomax\\Documents\\GitHub\\protobed\\venv\\lib\\site-packages\\django\\db\\models\\fields\\__init__.py:1421: RuntimeWarning: DateTimeField Newsdata.publish_date received a naive datetime (2017-08-12 00:00:00) while time zone support is active.\n",
      "  RuntimeWarning)\n",
      "C:\\Users\\infomax\\Documents\\GitHub\\protobed\\venv\\lib\\site-packages\\django\\db\\models\\fields\\__init__.py:1421: RuntimeWarning: DateTimeField Newsdata.publish_date received a naive datetime (2016-06-02 00:00:00) while time zone support is active.\n",
      "  RuntimeWarning)\n",
      "C:\\Users\\infomax\\Documents\\GitHub\\protobed\\venv\\lib\\site-packages\\django\\db\\models\\fields\\__init__.py:1421: RuntimeWarning: DateTimeField Newsdata.publish_date received a naive datetime (2016-04-22 00:00:00) while time zone support is active.\n",
      "  RuntimeWarning)\n",
      "C:\\Users\\infomax\\Documents\\GitHub\\protobed\\venv\\lib\\site-packages\\django\\db\\models\\fields\\__init__.py:1421: RuntimeWarning: DateTimeField Newsdata.publish_date received a naive datetime (2016-04-21 00:00:00) while time zone support is active.\n",
      "  RuntimeWarning)\n",
      "C:\\Users\\infomax\\Documents\\GitHub\\protobed\\venv\\lib\\site-packages\\django\\db\\models\\fields\\__init__.py:1421: RuntimeWarning: DateTimeField Newsdata.publish_date received a naive datetime (2016-04-20 00:00:00) while time zone support is active.\n",
      "  RuntimeWarning)\n",
      "C:\\Users\\infomax\\Documents\\GitHub\\protobed\\venv\\lib\\site-packages\\django\\db\\models\\fields\\__init__.py:1421: RuntimeWarning: DateTimeField Newsdata.publish_date received a naive datetime (2016-04-18 00:00:00) while time zone support is active.\n",
      "  RuntimeWarning)\n",
      "C:\\Users\\infomax\\Documents\\GitHub\\protobed\\venv\\lib\\site-packages\\django\\db\\models\\fields\\__init__.py:1421: RuntimeWarning: DateTimeField Newsdata.publish_date received a naive datetime (2016-04-14 00:00:00) while time zone support is active.\n",
      "  RuntimeWarning)\n",
      "C:\\Users\\infomax\\Documents\\GitHub\\protobed\\venv\\lib\\site-packages\\django\\db\\models\\fields\\__init__.py:1421: RuntimeWarning: DateTimeField Newsdata.publish_date received a naive datetime (2016-04-11 00:00:00) while time zone support is active.\n",
      "  RuntimeWarning)\n",
      "C:\\Users\\infomax\\Documents\\GitHub\\protobed\\venv\\lib\\site-packages\\django\\db\\models\\fields\\__init__.py:1421: RuntimeWarning: DateTimeField Newsdata.publish_date received a naive datetime (2016-04-05 00:00:00) while time zone support is active.\n",
      "  RuntimeWarning)\n",
      "C:\\Users\\infomax\\Documents\\GitHub\\protobed\\venv\\lib\\site-packages\\django\\db\\models\\fields\\__init__.py:1421: RuntimeWarning: DateTimeField Newsdata.publish_date received a naive datetime (2016-03-24 00:00:00) while time zone support is active.\n",
      "  RuntimeWarning)\n",
      "C:\\Users\\infomax\\Documents\\GitHub\\protobed\\venv\\lib\\site-packages\\django\\db\\models\\fields\\__init__.py:1421: RuntimeWarning: DateTimeField Newsdata.publish_date received a naive datetime (2016-03-23 00:00:00) while time zone support is active.\n",
      "  RuntimeWarning)\n",
      "C:\\Users\\infomax\\Documents\\GitHub\\protobed\\venv\\lib\\site-packages\\django\\db\\models\\fields\\__init__.py:1421: RuntimeWarning: DateTimeField Newsdata.publish_date received a naive datetime (2016-03-22 00:00:00) while time zone support is active.\n",
      "  RuntimeWarning)\n",
      "C:\\Users\\infomax\\Documents\\GitHub\\protobed\\venv\\lib\\site-packages\\django\\db\\models\\fields\\__init__.py:1421: RuntimeWarning: DateTimeField Newsdata.publish_date received a naive datetime (2016-03-16 00:00:00) while time zone support is active.\n",
      "  RuntimeWarning)\n",
      "C:\\Users\\infomax\\Documents\\GitHub\\protobed\\venv\\lib\\site-packages\\django\\db\\models\\fields\\__init__.py:1421: RuntimeWarning: DateTimeField Newsdata.publish_date received a naive datetime (2016-03-15 00:00:00) while time zone support is active.\n",
      "  RuntimeWarning)\n",
      "C:\\Users\\infomax\\Documents\\GitHub\\protobed\\venv\\lib\\site-packages\\django\\db\\models\\fields\\__init__.py:1421: RuntimeWarning: DateTimeField Newsdata.publish_date received a naive datetime (2016-03-14 00:00:00) while time zone support is active.\n",
      "  RuntimeWarning)\n",
      "C:\\Users\\infomax\\Documents\\GitHub\\protobed\\venv\\lib\\site-packages\\django\\db\\models\\fields\\__init__.py:1421: RuntimeWarning: DateTimeField Newsdata.publish_date received a naive datetime (2016-02-23 00:00:00) while time zone support is active.\n",
      "  RuntimeWarning)\n",
      "C:\\Users\\infomax\\Documents\\GitHub\\protobed\\venv\\lib\\site-packages\\django\\db\\models\\fields\\__init__.py:1421: RuntimeWarning: DateTimeField Newsdata.publish_date received a naive datetime (2016-02-15 00:00:00) while time zone support is active.\n",
      "  RuntimeWarning)\n",
      "C:\\Users\\infomax\\Documents\\GitHub\\protobed\\venv\\lib\\site-packages\\django\\db\\models\\fields\\__init__.py:1421: RuntimeWarning: DateTimeField Newsdata.publish_date received a naive datetime (2016-02-10 00:00:00) while time zone support is active.\n",
      "  RuntimeWarning)\n",
      "C:\\Users\\infomax\\Documents\\GitHub\\protobed\\venv\\lib\\site-packages\\django\\db\\models\\fields\\__init__.py:1421: RuntimeWarning: DateTimeField Newsdata.publish_date received a naive datetime (2016-02-08 00:00:00) while time zone support is active.\n",
      "  RuntimeWarning)\n",
      "C:\\Users\\infomax\\Documents\\GitHub\\protobed\\venv\\lib\\site-packages\\django\\db\\models\\fields\\__init__.py:1421: RuntimeWarning: DateTimeField Newsdata.publish_date received a naive datetime (2016-02-05 00:00:00) while time zone support is active.\n",
      "  RuntimeWarning)\n",
      "C:\\Users\\infomax\\Documents\\GitHub\\protobed\\venv\\lib\\site-packages\\django\\db\\models\\fields\\__init__.py:1421: RuntimeWarning: DateTimeField Newsdata.publish_date received a naive datetime (2016-01-26 00:00:00) while time zone support is active.\n",
      "  RuntimeWarning)\n",
      "C:\\Users\\infomax\\Documents\\GitHub\\protobed\\venv\\lib\\site-packages\\django\\db\\models\\fields\\__init__.py:1421: RuntimeWarning: DateTimeField Newsdata.publish_date received a naive datetime (2016-01-18 00:00:00) while time zone support is active.\n",
      "  RuntimeWarning)\n",
      "C:\\Users\\infomax\\Documents\\GitHub\\protobed\\venv\\lib\\site-packages\\django\\db\\models\\fields\\__init__.py:1421: RuntimeWarning: DateTimeField Newsdata.publish_date received a naive datetime (2016-01-15 00:00:00) while time zone support is active.\n",
      "  RuntimeWarning)\n",
      "C:\\Users\\infomax\\Documents\\GitHub\\protobed\\venv\\lib\\site-packages\\django\\db\\models\\fields\\__init__.py:1421: RuntimeWarning: DateTimeField Newsdata.publish_date received a naive datetime (2016-01-13 00:00:00) while time zone support is active.\n",
      "  RuntimeWarning)\n"
     ]
    },
    {
     "name": "stderr",
     "output_type": "stream",
     "text": [
      "C:\\Users\\infomax\\Documents\\GitHub\\protobed\\venv\\lib\\site-packages\\django\\db\\models\\fields\\__init__.py:1421: RuntimeWarning: DateTimeField Newsdata.publish_date received a naive datetime (2016-01-12 00:00:00) while time zone support is active.\n",
      "  RuntimeWarning)\n",
      "C:\\Users\\infomax\\Documents\\GitHub\\protobed\\venv\\lib\\site-packages\\django\\db\\models\\fields\\__init__.py:1421: RuntimeWarning: DateTimeField Newsdata.publish_date received a naive datetime (2016-01-06 00:00:00) while time zone support is active.\n",
      "  RuntimeWarning)\n",
      "C:\\Users\\infomax\\Documents\\GitHub\\protobed\\venv\\lib\\site-packages\\django\\db\\models\\fields\\__init__.py:1421: RuntimeWarning: DateTimeField Newsdata.publish_date received a naive datetime (2016-01-05 00:00:00) while time zone support is active.\n",
      "  RuntimeWarning)\n",
      "C:\\Users\\infomax\\Documents\\GitHub\\protobed\\venv\\lib\\site-packages\\django\\db\\models\\fields\\__init__.py:1421: RuntimeWarning: DateTimeField Newsdata.publish_date received a naive datetime (2016-01-04 00:00:00) while time zone support is active.\n",
      "  RuntimeWarning)\n",
      "C:\\Users\\infomax\\Documents\\GitHub\\protobed\\venv\\lib\\site-packages\\django\\db\\models\\fields\\__init__.py:1421: RuntimeWarning: DateTimeField Newsdata.publish_date received a naive datetime (2015-12-22 00:00:00) while time zone support is active.\n",
      "  RuntimeWarning)\n",
      "C:\\Users\\infomax\\Documents\\GitHub\\protobed\\venv\\lib\\site-packages\\django\\db\\models\\fields\\__init__.py:1421: RuntimeWarning: DateTimeField Newsdata.publish_date received a naive datetime (2015-12-21 00:00:00) while time zone support is active.\n",
      "  RuntimeWarning)\n",
      "C:\\Users\\infomax\\Documents\\GitHub\\protobed\\venv\\lib\\site-packages\\django\\db\\models\\fields\\__init__.py:1421: RuntimeWarning: DateTimeField Newsdata.publish_date received a naive datetime (2015-12-16 00:00:00) while time zone support is active.\n",
      "  RuntimeWarning)\n",
      "C:\\Users\\infomax\\Documents\\GitHub\\protobed\\venv\\lib\\site-packages\\django\\db\\models\\fields\\__init__.py:1421: RuntimeWarning: DateTimeField Newsdata.publish_date received a naive datetime (2015-12-14 00:00:00) while time zone support is active.\n",
      "  RuntimeWarning)\n",
      "C:\\Users\\infomax\\Documents\\GitHub\\protobed\\venv\\lib\\site-packages\\django\\db\\models\\fields\\__init__.py:1421: RuntimeWarning: DateTimeField Newsdata.publish_date received a naive datetime (2015-12-10 00:00:00) while time zone support is active.\n",
      "  RuntimeWarning)\n",
      "C:\\Users\\infomax\\Documents\\GitHub\\protobed\\venv\\lib\\site-packages\\django\\db\\models\\fields\\__init__.py:1421: RuntimeWarning: DateTimeField Newsdata.publish_date received a naive datetime (2015-12-02 00:00:00) while time zone support is active.\n",
      "  RuntimeWarning)\n",
      "C:\\Users\\infomax\\Documents\\GitHub\\protobed\\venv\\lib\\site-packages\\django\\db\\models\\fields\\__init__.py:1421: RuntimeWarning: DateTimeField Newsdata.publish_date received a naive datetime (2015-11-24 00:00:00) while time zone support is active.\n",
      "  RuntimeWarning)\n",
      "C:\\Users\\infomax\\Documents\\GitHub\\protobed\\venv\\lib\\site-packages\\django\\db\\models\\fields\\__init__.py:1421: RuntimeWarning: DateTimeField Newsdata.publish_date received a naive datetime (2015-11-09 00:00:00) while time zone support is active.\n",
      "  RuntimeWarning)\n",
      "C:\\Users\\infomax\\Documents\\GitHub\\protobed\\venv\\lib\\site-packages\\django\\db\\models\\fields\\__init__.py:1421: RuntimeWarning: DateTimeField Newsdata.publish_date received a naive datetime (2015-11-03 00:00:00) while time zone support is active.\n",
      "  RuntimeWarning)\n",
      "C:\\Users\\infomax\\Documents\\GitHub\\protobed\\venv\\lib\\site-packages\\django\\db\\models\\fields\\__init__.py:1421: RuntimeWarning: DateTimeField Newsdata.publish_date received a naive datetime (2015-10-28 00:00:00) while time zone support is active.\n",
      "  RuntimeWarning)\n",
      "C:\\Users\\infomax\\Documents\\GitHub\\protobed\\venv\\lib\\site-packages\\django\\db\\models\\fields\\__init__.py:1421: RuntimeWarning: DateTimeField Newsdata.publish_date received a naive datetime (2015-10-26 00:00:00) while time zone support is active.\n",
      "  RuntimeWarning)\n",
      "C:\\Users\\infomax\\Documents\\GitHub\\protobed\\venv\\lib\\site-packages\\django\\db\\models\\fields\\__init__.py:1421: RuntimeWarning: DateTimeField Newsdata.publish_date received a naive datetime (2015-10-12 00:00:00) while time zone support is active.\n",
      "  RuntimeWarning)\n",
      "C:\\Users\\infomax\\Documents\\GitHub\\protobed\\venv\\lib\\site-packages\\django\\db\\models\\fields\\__init__.py:1421: RuntimeWarning: DateTimeField Newsdata.publish_date received a naive datetime (2015-09-25 00:00:00) while time zone support is active.\n",
      "  RuntimeWarning)\n",
      "C:\\Users\\infomax\\Documents\\GitHub\\protobed\\venv\\lib\\site-packages\\django\\db\\models\\fields\\__init__.py:1421: RuntimeWarning: DateTimeField Newsdata.publish_date received a naive datetime (2015-09-18 00:00:00) while time zone support is active.\n",
      "  RuntimeWarning)\n",
      "C:\\Users\\infomax\\Documents\\GitHub\\protobed\\venv\\lib\\site-packages\\django\\db\\models\\fields\\__init__.py:1421: RuntimeWarning: DateTimeField Newsdata.publish_date received a naive datetime (2015-09-14 00:00:00) while time zone support is active.\n",
      "  RuntimeWarning)\n",
      "C:\\Users\\infomax\\Documents\\GitHub\\protobed\\venv\\lib\\site-packages\\django\\db\\models\\fields\\__init__.py:1421: RuntimeWarning: DateTimeField Newsdata.publish_date received a naive datetime (2015-09-10 00:00:00) while time zone support is active.\n",
      "  RuntimeWarning)\n",
      "C:\\Users\\infomax\\Documents\\GitHub\\protobed\\venv\\lib\\site-packages\\django\\db\\models\\fields\\__init__.py:1421: RuntimeWarning: DateTimeField Newsdata.publish_date received a naive datetime (2015-09-08 00:00:00) while time zone support is active.\n",
      "  RuntimeWarning)\n",
      "C:\\Users\\infomax\\Documents\\GitHub\\protobed\\venv\\lib\\site-packages\\django\\db\\models\\fields\\__init__.py:1421: RuntimeWarning: DateTimeField Newsdata.publish_date received a naive datetime (2015-08-31 00:00:00) while time zone support is active.\n",
      "  RuntimeWarning)\n",
      "C:\\Users\\infomax\\Documents\\GitHub\\protobed\\venv\\lib\\site-packages\\django\\db\\models\\fields\\__init__.py:1421: RuntimeWarning: DateTimeField Newsdata.publish_date received a naive datetime (2015-08-19 00:00:00) while time zone support is active.\n",
      "  RuntimeWarning)\n",
      "C:\\Users\\infomax\\Documents\\GitHub\\protobed\\venv\\lib\\site-packages\\django\\db\\models\\fields\\__init__.py:1421: RuntimeWarning: DateTimeField Newsdata.publish_date received a naive datetime (2015-08-12 00:00:00) while time zone support is active.\n",
      "  RuntimeWarning)\n",
      "C:\\Users\\infomax\\Documents\\GitHub\\protobed\\venv\\lib\\site-packages\\django\\db\\models\\fields\\__init__.py:1421: RuntimeWarning: DateTimeField Newsdata.publish_date received a naive datetime (2015-08-05 00:00:00) while time zone support is active.\n",
      "  RuntimeWarning)\n",
      "C:\\Users\\infomax\\Documents\\GitHub\\protobed\\venv\\lib\\site-packages\\django\\db\\models\\fields\\__init__.py:1421: RuntimeWarning: DateTimeField Newsdata.publish_date received a naive datetime (2015-07-29 00:00:00) while time zone support is active.\n",
      "  RuntimeWarning)\n",
      "C:\\Users\\infomax\\Documents\\GitHub\\protobed\\venv\\lib\\site-packages\\django\\db\\models\\fields\\__init__.py:1421: RuntimeWarning: DateTimeField Newsdata.publish_date received a naive datetime (2015-07-06 00:00:00) while time zone support is active.\n",
      "  RuntimeWarning)\n",
      "C:\\Users\\infomax\\Documents\\GitHub\\protobed\\venv\\lib\\site-packages\\django\\db\\models\\fields\\__init__.py:1421: RuntimeWarning: DateTimeField Newsdata.publish_date received a naive datetime (2015-06-30 00:00:00) while time zone support is active.\n",
      "  RuntimeWarning)\n",
      "C:\\Users\\infomax\\Documents\\GitHub\\protobed\\venv\\lib\\site-packages\\django\\db\\models\\fields\\__init__.py:1421: RuntimeWarning: DateTimeField Newsdata.publish_date received a naive datetime (2015-06-25 00:00:00) while time zone support is active.\n",
      "  RuntimeWarning)\n",
      "C:\\Users\\infomax\\Documents\\GitHub\\protobed\\venv\\lib\\site-packages\\django\\db\\models\\fields\\__init__.py:1421: RuntimeWarning: DateTimeField Newsdata.publish_date received a naive datetime (2015-06-16 00:00:00) while time zone support is active.\n",
      "  RuntimeWarning)\n",
      "C:\\Users\\infomax\\Documents\\GitHub\\protobed\\venv\\lib\\site-packages\\django\\db\\models\\fields\\__init__.py:1421: RuntimeWarning: DateTimeField Newsdata.publish_date received a naive datetime (2015-06-11 00:00:00) while time zone support is active.\n",
      "  RuntimeWarning)\n",
      "C:\\Users\\infomax\\Documents\\GitHub\\protobed\\venv\\lib\\site-packages\\django\\db\\models\\fields\\__init__.py:1421: RuntimeWarning: DateTimeField Newsdata.publish_date received a naive datetime (2015-06-02 00:00:00) while time zone support is active.\n",
      "  RuntimeWarning)\n"
     ]
    },
    {
     "name": "stderr",
     "output_type": "stream",
     "text": [
      "C:\\Users\\infomax\\Documents\\GitHub\\protobed\\venv\\lib\\site-packages\\django\\db\\models\\fields\\__init__.py:1421: RuntimeWarning: DateTimeField Newsdata.publish_date received a naive datetime (2015-05-28 00:00:00) while time zone support is active.\n",
      "  RuntimeWarning)\n",
      "C:\\Users\\infomax\\Documents\\GitHub\\protobed\\venv\\lib\\site-packages\\django\\db\\models\\fields\\__init__.py:1421: RuntimeWarning: DateTimeField Newsdata.publish_date received a naive datetime (2015-05-26 00:00:00) while time zone support is active.\n",
      "  RuntimeWarning)\n",
      "C:\\Users\\infomax\\Documents\\GitHub\\protobed\\venv\\lib\\site-packages\\django\\db\\models\\fields\\__init__.py:1421: RuntimeWarning: DateTimeField Newsdata.publish_date received a naive datetime (2015-05-21 00:00:00) while time zone support is active.\n",
      "  RuntimeWarning)\n",
      "C:\\Users\\infomax\\Documents\\GitHub\\protobed\\venv\\lib\\site-packages\\django\\db\\models\\fields\\__init__.py:1421: RuntimeWarning: DateTimeField Newsdata.publish_date received a naive datetime (2015-05-20 00:00:00) while time zone support is active.\n",
      "  RuntimeWarning)\n",
      "C:\\Users\\infomax\\Documents\\GitHub\\protobed\\venv\\lib\\site-packages\\django\\db\\models\\fields\\__init__.py:1421: RuntimeWarning: DateTimeField Newsdata.publish_date received a naive datetime (2015-05-14 00:00:00) while time zone support is active.\n",
      "  RuntimeWarning)\n",
      "C:\\Users\\infomax\\Documents\\GitHub\\protobed\\venv\\lib\\site-packages\\django\\db\\models\\fields\\__init__.py:1421: RuntimeWarning: DateTimeField Newsdata.publish_date received a naive datetime (2015-05-04 00:00:00) while time zone support is active.\n",
      "  RuntimeWarning)\n",
      "C:\\Users\\infomax\\Documents\\GitHub\\protobed\\venv\\lib\\site-packages\\django\\db\\models\\fields\\__init__.py:1421: RuntimeWarning: DateTimeField Newsdata.publish_date received a naive datetime (2015-04-23 00:00:00) while time zone support is active.\n",
      "  RuntimeWarning)\n",
      "C:\\Users\\infomax\\Documents\\GitHub\\protobed\\venv\\lib\\site-packages\\django\\db\\models\\fields\\__init__.py:1421: RuntimeWarning: DateTimeField Newsdata.publish_date received a naive datetime (2015-03-05 00:00:00) while time zone support is active.\n",
      "  RuntimeWarning)\n",
      "C:\\Users\\infomax\\Documents\\GitHub\\protobed\\venv\\lib\\site-packages\\django\\db\\models\\fields\\__init__.py:1421: RuntimeWarning: DateTimeField Newsdata.publish_date received a naive datetime (2015-02-27 00:00:00) while time zone support is active.\n",
      "  RuntimeWarning)\n",
      "C:\\Users\\infomax\\Documents\\GitHub\\protobed\\venv\\lib\\site-packages\\django\\db\\models\\fields\\__init__.py:1421: RuntimeWarning: DateTimeField Newsdata.publish_date received a naive datetime (2015-02-25 00:00:00) while time zone support is active.\n",
      "  RuntimeWarning)\n",
      "C:\\Users\\infomax\\Documents\\GitHub\\protobed\\venv\\lib\\site-packages\\django\\db\\models\\fields\\__init__.py:1421: RuntimeWarning: DateTimeField Newsdata.publish_date received a naive datetime (2015-02-23 00:00:00) while time zone support is active.\n",
      "  RuntimeWarning)\n",
      "C:\\Users\\infomax\\Documents\\GitHub\\protobed\\venv\\lib\\site-packages\\django\\db\\models\\fields\\__init__.py:1421: RuntimeWarning: DateTimeField Newsdata.publish_date received a naive datetime (2015-02-20 00:00:00) while time zone support is active.\n",
      "  RuntimeWarning)\n",
      "C:\\Users\\infomax\\Documents\\GitHub\\protobed\\venv\\lib\\site-packages\\django\\db\\models\\fields\\__init__.py:1421: RuntimeWarning: DateTimeField Newsdata.publish_date received a naive datetime (2015-02-19 00:00:00) while time zone support is active.\n",
      "  RuntimeWarning)\n",
      "C:\\Users\\infomax\\Documents\\GitHub\\protobed\\venv\\lib\\site-packages\\django\\db\\models\\fields\\__init__.py:1421: RuntimeWarning: DateTimeField Newsdata.publish_date received a naive datetime (2015-02-13 00:00:00) while time zone support is active.\n",
      "  RuntimeWarning)\n",
      "C:\\Users\\infomax\\Documents\\GitHub\\protobed\\venv\\lib\\site-packages\\django\\db\\models\\fields\\__init__.py:1421: RuntimeWarning: DateTimeField Newsdata.publish_date received a naive datetime (2015-02-11 00:00:00) while time zone support is active.\n",
      "  RuntimeWarning)\n",
      "C:\\Users\\infomax\\Documents\\GitHub\\protobed\\venv\\lib\\site-packages\\django\\db\\models\\fields\\__init__.py:1421: RuntimeWarning: DateTimeField Newsdata.publish_date received a naive datetime (2015-02-10 00:00:00) while time zone support is active.\n",
      "  RuntimeWarning)\n",
      "C:\\Users\\infomax\\Documents\\GitHub\\protobed\\venv\\lib\\site-packages\\django\\db\\models\\fields\\__init__.py:1421: RuntimeWarning: DateTimeField Newsdata.publish_date received a naive datetime (2015-02-04 00:00:00) while time zone support is active.\n",
      "  RuntimeWarning)\n",
      "C:\\Users\\infomax\\Documents\\GitHub\\protobed\\venv\\lib\\site-packages\\django\\db\\models\\fields\\__init__.py:1421: RuntimeWarning: DateTimeField Newsdata.publish_date received a naive datetime (2015-01-21 00:00:00) while time zone support is active.\n",
      "  RuntimeWarning)\n"
     ]
    },
    {
     "name": "stdout",
     "output_type": "stream",
     "text": [
      "\n"
     ]
    },
    {
     "data": {
      "application/vnd.jupyter.widget-view+json": {
       "model_id": "ceb9b9f8a19a47118ce64f028034a99c",
       "version_major": 2,
       "version_minor": 0
      },
      "text/plain": [
       "HBox(children=(IntProgress(value=0, max=128), HTML(value='')))"
      ]
     },
     "metadata": {},
     "output_type": "display_data"
    },
    {
     "name": "stderr",
     "output_type": "stream",
     "text": [
      "C:\\Users\\infomax\\Documents\\GitHub\\protobed\\venv\\lib\\site-packages\\django\\db\\models\\fields\\__init__.py:1421: RuntimeWarning: DateTimeField Newsdata.publish_date received a naive datetime (2011-11-18 00:00:00) while time zone support is active.\n",
      "  RuntimeWarning)\n",
      "C:\\Users\\infomax\\Documents\\GitHub\\protobed\\venv\\lib\\site-packages\\django\\db\\models\\fields\\__init__.py:1421: RuntimeWarning: DateTimeField Newsdata.publish_date received a naive datetime (2014-05-06 00:00:00) while time zone support is active.\n",
      "  RuntimeWarning)\n",
      "C:\\Users\\infomax\\Documents\\GitHub\\protobed\\venv\\lib\\site-packages\\django\\db\\models\\fields\\__init__.py:1421: RuntimeWarning: DateTimeField Newsdata.publish_date received a naive datetime (2014-05-08 00:00:00) while time zone support is active.\n",
      "  RuntimeWarning)\n",
      "C:\\Users\\infomax\\Documents\\GitHub\\protobed\\venv\\lib\\site-packages\\django\\db\\models\\fields\\__init__.py:1421: RuntimeWarning: DateTimeField Newsdata.publish_date received a naive datetime (2012-01-16 00:00:00) while time zone support is active.\n",
      "  RuntimeWarning)\n"
     ]
    },
    {
     "name": "stdout",
     "output_type": "stream",
     "text": [
      "\n"
     ]
    },
    {
     "data": {
      "application/vnd.jupyter.widget-view+json": {
       "model_id": "4afa432a736c4702bd001d4b654d10d7",
       "version_major": 2,
       "version_minor": 0
      },
      "text/plain": [
       "HBox(children=(IntProgress(value=0, max=430), HTML(value='')))"
      ]
     },
     "metadata": {},
     "output_type": "display_data"
    },
    {
     "name": "stderr",
     "output_type": "stream",
     "text": [
      "C:\\Users\\infomax\\Documents\\GitHub\\protobed\\venv\\lib\\site-packages\\django\\db\\models\\fields\\__init__.py:1421: RuntimeWarning: DateTimeField Newsdata.publish_date received a naive datetime (2019-04-24 00:00:00) while time zone support is active.\n",
      "  RuntimeWarning)\n",
      "C:\\Users\\infomax\\Documents\\GitHub\\protobed\\venv\\lib\\site-packages\\django\\db\\models\\fields\\__init__.py:1421: RuntimeWarning: DateTimeField Newsdata.publish_date received a naive datetime (2019-03-12 00:00:00) while time zone support is active.\n",
      "  RuntimeWarning)\n",
      "C:\\Users\\infomax\\Documents\\GitHub\\protobed\\venv\\lib\\site-packages\\django\\db\\models\\fields\\__init__.py:1421: RuntimeWarning: DateTimeField Newsdata.publish_date received a naive datetime (2019-07-04 00:00:00) while time zone support is active.\n",
      "  RuntimeWarning)\n",
      "C:\\Users\\infomax\\Documents\\GitHub\\protobed\\venv\\lib\\site-packages\\django\\db\\models\\fields\\__init__.py:1421: RuntimeWarning: DateTimeField Newsdata.publish_date received a naive datetime (2019-04-07 00:00:00) while time zone support is active.\n",
      "  RuntimeWarning)\n",
      "C:\\Users\\infomax\\Documents\\GitHub\\protobed\\venv\\lib\\site-packages\\django\\db\\models\\fields\\__init__.py:1421: RuntimeWarning: DateTimeField Newsdata.publish_date received a naive datetime (2019-06-30 00:00:00) while time zone support is active.\n",
      "  RuntimeWarning)\n"
     ]
    },
    {
     "name": "stdout",
     "output_type": "stream",
     "text": [
      "\n"
     ]
    },
    {
     "data": {
      "application/vnd.jupyter.widget-view+json": {
       "model_id": "f285da7c1f6c40bda95050bd667d7a9b",
       "version_major": 2,
       "version_minor": 0
      },
      "text/plain": [
       "HBox(children=(IntProgress(value=0, max=186), HTML(value='')))"
      ]
     },
     "metadata": {},
     "output_type": "display_data"
    },
    {
     "name": "stderr",
     "output_type": "stream",
     "text": [
      "C:\\Users\\infomax\\Documents\\GitHub\\protobed\\venv\\lib\\site-packages\\django\\db\\models\\fields\\__init__.py:1421: RuntimeWarning: DateTimeField Newsdata.publish_date received a naive datetime (2018-10-10 00:00:00) while time zone support is active.\n",
      "  RuntimeWarning)\n",
      "C:\\Users\\infomax\\Documents\\GitHub\\protobed\\venv\\lib\\site-packages\\django\\db\\models\\fields\\__init__.py:1421: RuntimeWarning: DateTimeField Newsdata.publish_date received a naive datetime (2016-06-14 00:00:00) while time zone support is active.\n",
      "  RuntimeWarning)\n",
      "C:\\Users\\infomax\\Documents\\GitHub\\protobed\\venv\\lib\\site-packages\\django\\db\\models\\fields\\__init__.py:1421: RuntimeWarning: DateTimeField Newsdata.publish_date received a naive datetime (2018-11-12 00:00:00) while time zone support is active.\n",
      "  RuntimeWarning)\n",
      "C:\\Users\\infomax\\Documents\\GitHub\\protobed\\venv\\lib\\site-packages\\django\\db\\models\\fields\\__init__.py:1421: RuntimeWarning: DateTimeField Newsdata.publish_date received a naive datetime (2019-04-29 00:00:00) while time zone support is active.\n",
      "  RuntimeWarning)\n"
     ]
    },
    {
     "name": "stdout",
     "output_type": "stream",
     "text": [
      "\n",
      "\n"
     ]
    }
   ],
   "source": [
    "# bulk_newsdata = []\n",
    "i = 1\n",
    "\n",
    "for publisher, articles in tqdm(list(src.items())[:]):\n",
    "    for article in tqdm(articles):\n",
    "        try:\n",
    "            article.download()\n",
    "            article.parse()\n",
    "\n",
    "            publish_date = article.publish_date\n",
    "            text = article.text\n",
    "\n",
    "            if (text!='') and (publish_date is not None):\n",
    "                obj = Newsdata()\n",
    "                obj.id = i\n",
    "                obj.text = article.text\n",
    "                obj.authors = ','.join(article.authors)\n",
    "                obj.url = article.url\n",
    "                obj.title = article.title\n",
    "                obj.publish_date = pd.Timestamp(article.publish_date)\n",
    "                obj.publisher = publisher\n",
    "\n",
    "                doc = nlp(article.text)\n",
    "                obj.words = ','.join([str(noun) for noun in doc.noun_chunks])\n",
    "                obj.save()\n",
    "                \n",
    "                i += 1\n",
    "\n",
    "                #bulk_newsdata.append(obj)\n",
    "                \n",
    "        except:\n",
    "            continue"
   ]
  },
  {
   "cell_type": "code",
   "execution_count": 242,
   "metadata": {},
   "outputs": [],
   "source": [
    "#Newsdata.objects.bulk_create(bulk_newsdata);"
   ]
  },
  {
   "cell_type": "code",
   "execution_count": 11,
   "metadata": {},
   "outputs": [
    {
     "data": {
      "text/plain": [
       "<newspaper.article.Article at 0x24dd3dc90b8>"
      ]
     },
     "execution_count": 11,
     "metadata": {},
     "output_type": "execute_result"
    }
   ],
   "source": [
    "src['cnn'][0]"
   ]
  },
  {
   "cell_type": "code",
   "execution_count": 12,
   "metadata": {
    "collapsed": true
   },
   "outputs": [
    {
     "name": "stdout",
     "output_type": "stream",
     "text": [
      "https://cnn.com/2019/08/15/sport/joshua-ruiz-boxing-saudi-arabia-hearn-spt-intl/index.html\n",
      "2019-08-15 00:00:00\n",
      "(CNN) Muhammad Ali's fights against George Foreman -- \"the Rumble in the Jungle\" -- and Joe Frazier -- the \"Thrilla in Manila\" -- helped establish boxing's heavyweight division in the global public's consciousness.\n",
      "\n",
      "Boxing promoter Eddie Hearn is hoping the rematch between Anthony Joshua and Andy Ruiz Jr. in Saudi Arabia -- dubbed the \"Clash of the Dunes\" -- could do the same and \"change boxing forever.\"\n",
      "\n",
      "The fight is due to be held in Diriyah, on the outskirts of Riyadh, on December 7.\n",
      "\n",
      "Saudi Arabia has hosted a number of fights in recent times, including Amir Khan's win over Billy Dib, but Amnesty International UK has urged Joshua to \"inform himself of the human rights situation\" in the Middle East country ahead of the rematch.\n",
      "\n",
      "\"We had approaches from Saudi Arabia, Dubai, Qatar and Abu Dhabi,\" Hearn told a media conference in London, explaining the decision to stage the fight In Riyadh.\n",
      "\n",
      "\"We wanted to go somewhere that believed in the sport of boxing, which had a vision. We already knew Saudi Arabia was for real and knew they were investing in the sport of boxing. That was very important for us.\"\n",
      "\n",
      "Boxing promoter Eddie Hearn says the Saudi Arabia rematch could change boxing forever.\n",
      "\n",
      "'Sportswash'\n",
      "\n",
      "Saudi Arabia has recently hosted sporting events such as soccer's Italian Super Cup, the opening race of the 2018-19 Formula E season and will stage the world's richest horse race in 2020.\n",
      "\n",
      "However, there are fears over the current human rights crackdown \"with women's rights activists, lawyers and members of the Shia minority community all being targeted,\" according to Amnesty International UK.\n",
      "\n",
      "\"It's likely to be yet another opportunity for the Saudi authorities to try to 'sportswash' their severely tarnished image,\" said Felix Jakens, Amnesty International UK's Head of Campaigns.\n",
      "\n",
      "\"I knew that when we made the decision not every response would be positive, and that there would be criticism and controversy,\" Hearn told the Guardian, in response to the criticism of staging the fight in Saudi Arabia. \"I'm a boxing promoter and sometimes the criticism and the curiosity will lead to an event of an extraordinary magnitude.\"\n",
      "\n",
      "Hearn also believes the country's growing population -- over 34 million -- can give boxing a platform to reach new levels of popularity.\n",
      "\n",
      "\"If Saudi Arabia is going to invest in these fights, with the population they have, with the potential to grow the sport of boxing, you could be seeing a big change in the dynamics of the sport, which truly excites me,\" Hearn added.\n",
      "\n",
      "CNN has reached out to Saudi Arabian government officials but has yet to receive a reply.\n",
      "\n",
      "JUST WATCHED Tyson Fury looking to save lives and win belts Replay More Videos ... MUST WATCH Tyson Fury looking to save lives and win belts 04:18\n",
      "\n",
      "Ruiz confusion\n",
      "\n",
      "On Wednesday, a video on social media appeared to show Ruiz Jr. dismissing the fight would be held in Saudi Arabia and a widely reported television appearance later added to the confusion.\n",
      "\n",
      "\"I have not signed anything yet, we are negotiating everything,\" he told ESPN in Mexico, before stating he would prefer the rematch to take place in New York.\n",
      "\n",
      "However, Hearn said that both fighters have signed the contract and confirmed the fight would go ahead.\n",
      "\n",
      "Ruiz, who was born in California but has Mexican parents, had made calls for the rematch to be held in Tijuana where he made his professional debut in 2009.\n",
      "\n",
      "The Principality Stadium in Wales -- the site of two professional victories for Joshua -- had previously been thought of as the most likely site for the fight.\n",
      "\n",
      "\"Ruiz had a moan about the UK,\" added Hearn. \"We said: there's your neutral venue.\"\n"
     ]
    }
   ],
   "source": [
    "article = src['cnn'][10]\n",
    "article.download()\n",
    "article.parse()\n",
    "print(article.url)\n",
    "print(article.publish_date)\n",
    "print(article.text)"
   ]
  },
  {
   "cell_type": "code",
   "execution_count": 17,
   "metadata": {},
   "outputs": [],
   "source": [
    "# Newsdata.objects.all().delete();\n",
    "obj = Newsdata()\n",
    "obj.id = 1\n",
    "obj.text = article.text\n",
    "obj.authors = ','.join(article.authors)\n",
    "obj.url = article.url\n",
    "obj.title = article.title\n",
    "obj.publish_date = pd.Timestamp(article.publish_date)\n",
    "obj.publisher = 'cnn'\n",
    "obj.save()"
   ]
  },
  {
   "cell_type": "code",
   "execution_count": null,
   "metadata": {},
   "outputs": [],
   "source": [
    "#bulk_newsdata = []\n",
    "ibrands = list(pd.read_excel('data/keywords and logos.xlsx', sheet_name='20190430').itertuples())[3:]\n",
    "\n",
    "for i, row in enumerate(tqdm(sorted(ibrands, key=lambda x:x.shortname)[::-1])):\n",
    "    obj = Brand()\n",
    "    obj.id = i+1\n",
    "    obj.name = row.shortname\n",
    "    obj.fullname_kr = row.koname\n",
    "    obj.fullname_en = row.fullname\n",
    "    obj.keywords = row.keywords\n",
    "    # obj.website = row.website\n",
    "    obj.origin = row.origin\n",
    "    obj.awareness = row.awareness\n",
    "    obj.category = row.category.lower()\n",
    "    obj.description = ''\n",
    "    # obj.history = ''\n",
    "    obj.image = os.path.join('brand_images', get_logo_fname(row.shortname, 'uploads/brand_images'))\n",
    "    bulk_brand.append(obj)\n",
    "    \n",
    "#Brand.objects.bulk_create(bulk_brand);"
   ]
  },
  {
   "cell_type": "code",
   "execution_count": null,
   "metadata": {},
   "outputs": [],
   "source": []
  },
  {
   "cell_type": "code",
   "execution_count": null,
   "metadata": {},
   "outputs": [],
   "source": []
  },
  {
   "cell_type": "code",
   "execution_count": null,
   "metadata": {},
   "outputs": [],
   "source": []
  },
  {
   "cell_type": "code",
   "execution_count": null,
   "metadata": {},
   "outputs": [],
   "source": []
  },
  {
   "cell_type": "code",
   "execution_count": 13,
   "metadata": {},
   "outputs": [
    {
     "data": {
      "text/plain": [
       "3000.0"
      ]
     },
     "execution_count": 13,
     "metadata": {},
     "output_type": "execute_result"
    }
   ],
   "source": []
  },
  {
   "cell_type": "code",
   "execution_count": null,
   "metadata": {},
   "outputs": [],
   "source": []
  },
  {
   "cell_type": "code",
   "execution_count": 1,
   "metadata": {},
   "outputs": [],
   "source": [
    "import newspaper\n",
    "from newspaper import Article, Config"
   ]
  },
  {
   "cell_type": "code",
   "execution_count": 10,
   "metadata": {
    "collapsed": true
   },
   "outputs": [
    {
     "data": {
      "text/plain": [
       "'Hong Kong’s summer of political unrest is going global.\\n\\nIn Toronto, Chinese flags flutter out the side of pricey convertibles, engines revving loudly. In Edinburgh, Beijing backers belt out lyrics from a Taiwanese pop song to exhort Hong Kong to listen to its “mother”—the Chinese Communist Party, in this version. And in Vancouver, about 60 pro-China demonstrators surround a quiet church where churchgoers have gathered to pray for the protesters in Hong Kong.\\n\\nIn recent weeks, Chinese demonstrators have attracted attention in cities across the Western world by staging boisterous, at times aggressive, rallies in support of Beijing’s stance on the antigovernment protests that have roiled Hong Kong for almost three months. It is globalizing a standoff that had, until now, been largely confined to the internet and Hong Kong itself.\\n\\nPatriotic displays by overseas Chinese are hardly a new phenomenon. But the reach of the pro-Chinese demonstrations has grown as natives of mainland China study and work in the West in ever-greater numbers.\\n\\nA pro-China protester in London. Photo: Pete Maclaine/i-Images/Zuma Press\\n\\nThe fight is splitting diaspora communities in cities across the West with large ethnic Chinese populations, including New York, Boston, San Francisco, London, Berlin, Paris, Sydney and Melbourne.\\n\\nBy taking the fight to the West, pro-Beijing protesters are seeking to counter what they regard as a bias toward the Hong Kong demonstrators, while exercising a freedom that is far more limited back home.\\n\\nTheir sometimes aggressive tactics, taking a cue from the Communist Party’s own increasingly strident rhetoric against Hong Kong’s protests, threaten a backlash in the West and raise questions about Beijing’s approach to projecting soft power under President Xi Jinping.\\n\\nOn Tuesday, Nathan Law, a former Hong Kong lawmaker and prominent pro-democracy activist who is studying for a graduate degree at Yale University, posted screenshots on Twitter of death threats that he received, written in Chinese.\\n\\nWhat started off as a demonstration against a controversial extradition bill has become a series of massive protests with broad political demands. Here is why so many Hong Kongers keep taking to the streets in a leaderless movement and whether their goals can be achieved. Photo: Thomas Peter/Reuters\\n\\n“They abuse the freedom of speech and internet freedom, which they don’t enjoy in their home country, to spread terror misinformation,” Mr. Law wrote, adding that campus and local police officials had responded to his complaints.\\n\\nIn Boston, Frances Hui, organizer of a pro-Hong Kong march last Sunday, said participants were assaulted and stalked by pro-Beijing demonstrators.\\n\\nThe pro-Chinese demonstrations are a direct response to gatherings organized by supporters of the Hong Kong protesters, whose initial demands have expanded into a broader fight about the nature of Chinese rule in the former British colony, now a semiautonomous Chinese territory.\\n\\nAs the protests in Hong Kong have escalated, so has the sophistication of overseas activity by Beijing’s supporters abroad.\\n\\nThe apparent high level of coordination has prompted questions about whether the Chinese government is directing them through its diplomatic missions or its overseas influence arm, the United Front Work Department.\\n\\nA rally in Canada’s Vancouver. Photo: DARRYL DYCK/Associated Press\\n\\nTwitter Inc. and Facebook Inc. on Monday suspended accounts believed to be part of a coordinated Chinese effort to undermine antigovernment protests in Hong Kong, marking the first time the social-media companies have pointed to China as a source of disinformation campaigns. China denies the charge.\\n\\nIn New York, Anna Cheung, convener of a pro-Hong Kong advocacy group, said while the group was able to hold earlier events without incident, she received threats of violence before the group’s most recent rally last week, prompting her to file a police report.\\n\\n“This is not by coincidence,” said Ms. Cheung, of NY4HK, or New Yorkers Supporting Hong Kong. “We believe there is a machinery behind this and they do it to all the cities to try to intimidate us.”\\n\\nTom Tugendhat, chairman of the Foreign Affairs Committee of Britain’s House of Commons, says Chinese protesters have the right, like anyone else, to air their views, but “these cannot become simply forms of state-sponsored attempts at silencing freedom of speech in the U.K.”\\n\\nIn Australia, a close trading partner of China and a popular destination for Chinese students, serious clashes erupted last month. Three officials at Canberra’s Department of Home Affairs said Wednesday that authorities, including intelligence agencies, were investigating whether the counter-rallies had been planned by Chinese diplomatic missions.\\n\\nLarge-scale peaceful marches in Hong Kong have attracted hundreds of thousands of people. Photo: Kyle Lam/Bloomberg News\\n\\n“There is a lot of concern that these rallies may have had organizational support from Chinese officials here, because it has happened in the past,” said one of the officials who had knowledge of the investigation but wasn’t authorized to speak publicly about the matter. “There are some indications that these protests have the same involvement.”\\n\\nFollowing clashes at the University of Queensland in Brisbane last month, Xu Jie, the Chinese consul-general in the city, praised pro-Beijing students for confronting what he called “anti-China separatist” protesters with “ulterior motives.”\\n\\nChinese Foreign Ministry spokesman Geng Shuang, asked about any role that Beijing may have played in organizing overseas protests, said Thursday that all people in China and Hong Kong were united in a desire to “stop chaos and violence and restore order to Hong Kong.”\\n\\n“This is the collective will of 1.4 billion Chinese people,” he said. “Do you think the will of 1.4 billion people can be organized or controlled?”\\n\\nEven without encouragement from Beijing, many mainland Chinese studying abroad share the official Chinese view. Despite unfettered access to news sources, they believe that Hong Kong’s protesters, guided by the “black hand” of America, are seeking independence. But that is in fact a fringe demand among demonstrators.\\n\\nProtesters in Hong Kong have been throwing back rounds of tear gas at police. Photo: anthony wallace/Agence France-Presse/Getty Images\\n\\n“As a Chinese student overseas, resolutely safeguarding the unity of the motherland is something we should be doing,” said one student in Berlin surnamed Zhang, who declined to give his first name. “We will fight all separatist behavior to the end.”\\n\\nThe genuine ardor of many pro-Beijing protesters highlights just how successful the Communist Party’s patriotic education campaigns have been in molding the worldview of college-aged Chinese nationals now living abroad, says Alex Joske, an expert at the Australian Strategic Policy Institute think tank in Canberra.\\n\\nIsaac Huo, a 28-year-old who works in public relations, attended a pro-Beijing demonstration in Sydney last week after reading about it on WeChat , a popular Chinese messaging app. He spent 30 minutes at the rally, chanting slogans affirming his love for China and Hong Kong.\\n\\nMr. Huo, a native of southern China who moved to Australia more than 10 years ago, said it was important to be there because he felt people in Hong Kong had been misled into opposing Beijing.\\n\\n“We are brothers and sisters, so what’s the point of fighting against each other?” he said.\\n\\n—Rob Taylor, Kim Mackrael, Xiao Xiao, Jeremy Page and Shan Li contributed to this article.\\n\\nWrite to Philip Wen at philip.wen@wsj.com and Mike Cherney at mike.cherney@wsj.com'"
      ]
     },
     "execution_count": 10,
     "metadata": {},
     "output_type": "execute_result"
    }
   ],
   "source": [
    "article = Article('https://www.wsj.com/articles/expat-chinese-embrace-freedommarching-against-hong-kong-protests-11566481893?mod=rsswn')\n",
    "article.download()\n",
    "article.parse()\n",
    "article.text"
   ]
  },
  {
   "cell_type": "code",
   "execution_count": 12,
   "metadata": {},
   "outputs": [
    {
     "data": {
      "text/plain": [
       "7689"
      ]
     },
     "execution_count": 12,
     "metadata": {},
     "output_type": "execute_result"
    }
   ],
   "source": [
    "len(article.text)"
   ]
  },
  {
   "cell_type": "code",
   "execution_count": 8,
   "metadata": {},
   "outputs": [
    {
     "data": {
      "text/plain": [
       "\"LONDON (Reuters) - Most euro zone bond yields rose on Friday to their highest in more than a week as investors scaled back expectations for aggressive U.S. rate cuts before a speech by Federal Reserve Chairman Jerome Powell later in the day.\\n\\nFILE PHOTO - A trader looks at his screens on the Unicredit Bank trading floor in downtown Milan June 13, 2013. REUTERS/Alessandro Garofalo\\n\\nTwo Federal Reserve officials said on Thursday they saw no reason to cut rates without new economic deterioration, a day after Fed meeting minutes showed policymakers disagreed on the rate cut last month.\\n\\nAlong with slightly improved data in the euro area and over-stretched positions in global bond markets, that encouraged some selling before Powell speaks, analysts said.\\n\\n“There’s been no jaw-dropping news this week, but we have had incrementally less bond-friendly news - the FOMC minutes, the euro area PMIs, and Fed speakers in recent days that give the impression that July was an insurance rate cut,” said John Davies, G10 rates strategist at Standard Chartered Bank.\\n\\n“This has dragged the market away from speculating about a 25- to 50-basis-point rate cut in September to a discussion on a 25 bps cut to `will they cut rates’, so a bit more uncertainty has been injected into markets.”\\n\\nAcross the euro area, 10-year bond yields were 2 to 3 basis points higher on the day.\\n\\nGermany’s 10-year bond yield rose to -0.603% DE10YT-RR, its highest in just over a week and a half; U.S. 10-year Treasury yields rose 5 bps to 1.66% US10YT=RR; and Britain’s 10-year gilt yield rose to a three-week high around 0.57% GB10YT=RR.\\n\\nPowell is due to speak at a gathering of central bankers in Jackson Hole, Wyoming, expected at 1400 GMT.\\n\\nThe Fed chief is caught between discord within the U.S. central bank over appropriate monetary policy and mounting outside pressure for more interest rate cuts.\\n\\nBucking the trend in euro zone bond markets, Italian yields edged lower on hopes that snap elections in the euro zone’s third-biggest economy can be avoided.\\n\\nPresident Sergio Mattarella on Thursday gave Italy’s bickering parties five days to clinch a deal to resolve a political crisis and avoid an election.\\n\\n“Since the resignation of (Giuseppe) Conte as prime minister on Tuesday, the outperformance of BTPs has gathered momentum, which suggests there is hope a government will be formed and a budget will be in place,” said Pooja Kumra, European rates strategist at TD Securities.\\n\\n“The situation is still tricky, although BTPs still have positive yields compared to other European government bonds, so that is supportive.”\\n\\nThe 10-year Italian bond yield dipped to around 1.32% IT10YT=RR, close to its lowest in almost three years. The gap over German bond yields narrowed to around 190 bps, its tightest in four weeks DE10IT10=RR.\\n\\nItaly's 10-year bond yield gap with Gerrmany - here\""
      ]
     },
     "execution_count": 8,
     "metadata": {},
     "output_type": "execute_result"
    }
   ],
   "source": [
    "article2 = Article('https://www.reuters.com/article/us-eurozone-bonds/euro-zone-bond-yields-rise-before-powell-speaks-at-jackson-hole-idUSKCN1VD0N2?il=0')\n",
    "article2.download()\n",
    "article2.parse()\n",
    "# article2.text\n",
    "article2.text"
   ]
  },
  {
   "cell_type": "code",
   "execution_count": 93,
   "metadata": {},
   "outputs": [
    {
     "data": {
      "text/plain": [
       "defaultdict(dict, {'viewport': 'width=device-width, initial-scale=1'})"
      ]
     },
     "execution_count": 93,
     "metadata": {},
     "output_type": "execute_result"
    }
   ],
   "source": [
    "article2.meta_data"
   ]
  },
  {
   "cell_type": "code",
   "execution_count": 53,
   "metadata": {},
   "outputs": [],
   "source": [
    "import requests"
   ]
  },
  {
   "cell_type": "code",
   "execution_count": 93,
   "metadata": {},
   "outputs": [
    {
     "data": {
      "text/plain": [
       "{'status': 'ok',\n",
       " 'totalResults': 1,\n",
       " 'articles': [{'source': {'id': None, 'name': 'Marketwatch.com'},\n",
       "   'author': 'Jon Swartz',\n",
       "   'title': 'Google tells workers to cool it on politics at work',\n",
       "   'description': 'Alphabet Inc.\\'s Google has issued \"community guidelines\" that discourage employees from debating politics in the workplace, an about-face from its previously open policy. The new rule is an effort to tone done \"disruptive\" conversations, and hold employees re…',\n",
       "   'url': 'https://www.marketwatch.com/story/google-tells-workers-to-cool-it-on-politics-at-work-2019-08-23',\n",
       "   'urlToImage': 'https://mw3.wsj.net/mw5/content/logos/mw_logo_social.png',\n",
       "   'publishedAt': '2019-08-23T23:05:32Z',\n",
       "   'content': 'Alphabet Inc.\\'s \\r\\nGOOGL, -3.18%GOOG, -3.21%\\r\\nGoogle has issued \"community guidelines\" that discourage employees from debating politics in the workplace, an about-face from its previously open policy. The new rule is an effort to tone done \"disruptive\" convers… [+419 chars]'}]}"
      ]
     },
     "execution_count": 93,
     "metadata": {},
     "output_type": "execute_result"
    }
   ],
   "source": [
    "url = 'https://newsapi.org/v2/everything?q=\"Google tells workers to cool it on politics at work\"&domains=marketwatch.com&language=en&apiKey=bfb917bca91c435d9c7efd247d95227b'\n",
    "resp = requests.get(url)\n",
    "resp.json()"
   ]
  },
  {
   "cell_type": "code",
   "execution_count": 99,
   "metadata": {},
   "outputs": [
    {
     "data": {
      "text/plain": [
       "{'status': 'ok',\n",
       " 'totalResults': 2594,\n",
       " 'articles': [{'source': {'id': None, 'name': 'Marketwatch.com'},\n",
       "   'author': 'MarketWatch',\n",
       "   'title': 'The dirty secret about most ‘fixer uppers’',\n",
       "   'description': 'The findings of a new survey appear to go against the interests of the company that paid for it.',\n",
       "   'url': 'https://www.marketwatch.com/story/the-dirty-secret-about-most-fixer-uppers-2019-08-24',\n",
       "   'urlToImage': 'https://mw3.wsj.net/mw5/content/logos/mw_logo_social.png',\n",
       "   'publishedAt': '2019-08-24T16:00:13Z',\n",
       "   'content': 'Copyright © 2019 MarketWatch, Inc. All rights reserved.\\r\\nBy using this site you agree to the Terms of Service,\\r\\n Privacy Policy, and\\r\\n Cookie Policy.'},\n",
       "  {'source': {'id': None, 'name': 'Marketwatch.com'},\n",
       "   'author': 'Greg Robb',\n",
       "   'title': 'The Fed: Jackson Hole notebook: Talk of full-fledged trade war, growing U.S. recession risk',\n",
       "   'description': 'Leading economist gathered at',\n",
       "   'url': 'https://www.marketwatch.com/story/jackson-hole-notebook-talk-of-full-fledged-trade-war-growing-us-recession-risk-2019-08-24',\n",
       "   'urlToImage': 'http://s.marketwatch.com/public/resources/MWimages/MW-HQ075_carney_ZG_20190823173647.jpg',\n",
       "   'publishedAt': '2019-08-24T15:42:30Z',\n",
       "   'content': 'The Federal Reserve gathers leading economic thinkers every summer to mull over the outlook and debate the challenges facing policy makers. Those attending the conference this year talk about a sense of trepidation among participants but no sense that the eco… [+3156 chars]'},\n",
       "  {'source': {'id': None, 'name': 'Marketwatch.com'},\n",
       "   'author': 'Jeffry Bartash',\n",
       "   'title': 'Mounting China trade tensions to keep Wall Street on edge and the economy under a cloud',\n",
       "   'description': 'Investors and business leaders, it’s often said, hate uncertainty and don’t react very well to it. Well, get used to uncertain times. The Chine trade fight isn’t over anytime soon and neither is the threat it poses to the U.S. economy.',\n",
       "   'url': 'https://www.marketwatch.com/story/mounting-china-trade-tensions-to-keep-wall-street-on-edge-and-the-economy-under-a-cloud-2019-08-24',\n",
       "   'urlToImage': 'http://s.marketwatch.com/public/resources/MWimages/MW-HQ072_great__ZG_20190823164319.jpg',\n",
       "   'publishedAt': '2019-08-24T13:02:42Z',\n",
       "   'content': 'A great wall evidently separates the U.S. and China on trade, with potentially ominous implications for the global economy. \\r\\nInvestors and businesses, goes a Wall Street truism, hate uncertainty and dont react very well to it. Well, get used to uncertain tim… [+3410 chars]'},\n",
       "  {'source': {'id': None, 'name': 'Marketwatch.com'},\n",
       "   'author': 'Jon Swartz',\n",
       "   'title': 'News cycle is daily reminder of Big Tech’s antitrust vulnerabilities',\n",
       "   'description': 'Each of the four Big Tech companies under investigation, to varying degrees, faces exposure to antitrust charges. Their vulnerabilities reflect their marketing strengths, from Apple Inc.’s money-minting App Store to Facebook Inc.’s vice-like grip on social me…',\n",
       "   'url': 'https://www.marketwatch.com/story/news-cycle-is-daily-reminder-of-big-techs-antitrust-vulnerabilities-2019-08-24',\n",
       "   'urlToImage': 'http://s.marketwatch.com/public/resources/MWimages/MW-HP337_Vulner_ZG_20190813124415.jpg',\n",
       "   'publishedAt': '2019-08-24T13:01:26Z',\n",
       "   'content': 'At an exclusive American Bar Association retreat in Jackson Hole, Wyo., last week, 300 antitrust experts and academics squeezed into a conference room at a private resort to get the latest on what has become a daily topic in legal circles. \\r\\nThe featured spea… [+11284 chars]'},\n",
       "  {'source': {'id': None, 'name': 'Marketwatch.com'},\n",
       "   'author': 'Chris Matthews',\n",
       "   'title': 'As U.S.-China trade war deepens, can Corporate America handle the uncertainty?',\n",
       "   'description': 'The further upping of trade barriers, along with President’s forceful response, threatens to further erode already sagging business confidence and trigger more weakness in U.S. business investment.',\n",
       "   'url': 'https://www.marketwatch.com/story/as-us-china-trade-war-deepens-can-corporate-america-handle-the-uncertainty-2019-08-24',\n",
       "   'urlToImage': 'http://s.marketwatch.com/public/resources/MWimages/MW-GR634_Trump__ZG_20181011154842.jpg',\n",
       "   'publishedAt': '2019-08-24T12:15:39Z',\n",
       "   'content': 'U.S. China tensions over trade policy have reached a boiling point, the only question remaining is whether business executives and the stock market can stand the heat. \\r\\nOn what was supposed to be a day focused on Federal Reserve policy, international trade s… [+4937 chars]'},\n",
       "  {'source': {'id': None, 'name': 'Marketwatch.com'},\n",
       "   'author': 'Ivan Martchev',\n",
       "   'title': 'Add a new risk — geopolitics — to the list of U.S. stock market worries',\n",
       "   'description': 'Keep an eye on Argentina, Turkey and China.',\n",
       "   'url': 'https://www.marketwatch.com/story/add-a-new-risk-geopolitics-to-the-list-of-us-stock-market-worries-2019-08-24',\n",
       "   'urlToImage': 'http://s.marketwatch.com/public/resources/MWimages/MW-FT836_global_ZG_20170907104254.jpg',\n",
       "   'publishedAt': '2019-08-24T10:35:33Z',\n",
       "   'content': 'The Federal Reserve has now stopped its monetary tightening, yet the most vulnerable emerging market currencies are still falling like flies. \\r\\nThe reason why monetary tightening pressures weaker currencies of countries with inadequate foreign-exchange reserv… [+5139 chars]'},\n",
       "  {'source': {'id': None, 'name': 'Marketwatch.com'},\n",
       "   'author': 'Joy Wiltermuth',\n",
       "   'title': 'Market Extra: Interest rate cuts could make these bonds an attractive target',\n",
       "   'description': 'Bonds issued by home builders are signaling a pretty upbeat tone for the U.S. economy, even as U.S. recession fears linger.',\n",
       "   'url': 'https://www.marketwatch.com/story/interest-rate-cuts-could-make-these-bonds-an-attractive-target-2019-08-23',\n",
       "   'urlToImage': 'http://s.marketwatch.com/public/resources/MWimages/MW-HQ068_HYHome_ZG_20190823132228.jpg',\n",
       "   'publishedAt': '2019-08-23T23:31:05Z',\n",
       "   'content': 'Bonds issued by home builders are signaling a pretty upbeat tone for the U.S. economy, even as U.S. recession fears linger. \\r\\nWage growth has been on the rise while borrowing costs have fallen, with the average 30-year fixed-rate mortgage plunging this week t… [+3818 chars]'},\n",
       "  {'source': {'id': None, 'name': 'Marketwatch.com'},\n",
       "   'author': 'Jon Swartz',\n",
       "   'title': 'Google tells workers to cool it on politics at work',\n",
       "   'description': 'Alphabet Inc.\\'s Google has issued \"community guidelines\" that discourage employees from debating politics in the workplace, an about-face from its previously open policy. The new rule is an effort to tone done \"disruptive\" conversations, and hold employees re…',\n",
       "   'url': 'https://www.marketwatch.com/story/google-tells-workers-to-cool-it-on-politics-at-work-2019-08-23',\n",
       "   'urlToImage': 'https://mw3.wsj.net/mw5/content/logos/mw_logo_social.png',\n",
       "   'publishedAt': '2019-08-23T23:05:32Z',\n",
       "   'content': 'Alphabet Inc.\\'s \\r\\nGOOGL, -3.18%GOOG, -3.21%\\r\\nGoogle has issued \"community guidelines\" that discourage employees from debating politics in the workplace, an about-face from its previously open policy. The new rule is an effort to tone done \"disruptive\" convers… [+419 chars]'},\n",
       "  {'source': {'id': None, 'name': 'Marketwatch.com'},\n",
       "   'author': 'Wallace Witkowski',\n",
       "   'title': ': Cloudflare IPO: 5 things to know about the cloud-network platform',\n",
       "   'description': 'Cloudflare Inc. is looking to be the next big tech company to go public, and investors who climbed on board a decade ago stand to reap huge rewards.',\n",
       "   'url': 'https://www.marketwatch.com/story/cloudflare-ipo-5-things-to-know-about-the-cloud-network-platform-2019-08-23',\n",
       "   'urlToImage': 'http://s.marketwatch.com/public/resources/MWimages/MW-HP990_cloudf_MG_20190822134128.jpg',\n",
       "   'publishedAt': '2019-08-23T22:06:35Z',\n",
       "   'content': 'Cloudflare Inc. is looking to be the next big tech company to go public, and investors who climbed on board a decade ago stand to reap huge rewards.\\r\\nCloudflare \\r\\nNET, +0.00%\\r\\n\\xa0announced it plans to go public with a Securities and Exchange Commission filing o… [+6171 chars]'},\n",
       "  {'source': {'id': None, 'name': 'Marketwatch.com'},\n",
       "   'author': 'Robert Schroeder',\n",
       "   'title': 'Trump raises China tariffs in escalation of trade war',\n",
       "   'description': 'President Donald Trump said he would increase tariffs on Chinese imports in an escalation of a trade war between Washington and Beijing that rocked stock markets on Friday.',\n",
       "   'url': 'https://www.marketwatch.com/story/trump-raises-china-tariffs-in-escalation-of-trade-war-2019-08-23',\n",
       "   'urlToImage': 'http://s.marketwatch.com/public/resources/MWimages/MW-HP889_trump__ZG_20190821151824.jpg',\n",
       "   'publishedAt': '2019-08-23T21:35:47Z',\n",
       "   'content': 'President Donald Trump fired back at China on Friday by announcing he would increase tariffs. \\r\\nPresident Donald Trump said he would increase tariffs on Chinese imports in an escalation of a trade war between Washington and Beijing that rocked stock markets o… [+1259 chars]'},\n",
       "  {'source': {'id': None, 'name': 'Marketwatch.com'},\n",
       "   'author': 'Robert Schroeder',\n",
       "   'title': 'Trump says U.S. tariffs will increase on Chinese goods',\n",
       "   'description': 'President Donald Trump hit back at China Friday for its new tariffs on U.S. products by increasing American levies on Chinese goods. On Twitter Trump said 25% tariffs on $250 billion in Chinese products would rise to 30% starting Oct. 1. Separately, the remai…',\n",
       "   'url': 'https://www.marketwatch.com/story/trump-says-us-tariffs-will-increase-on-chinese-goods-2019-08-23',\n",
       "   'urlToImage': 'https://mw3.wsj.net/mw5/content/logos/mw_logo_social.png',\n",
       "   'publishedAt': '2019-08-23T21:10:36Z',\n",
       "   'content': 'President Donald Trump hit back at China Friday for its new tariffs on U.S. products by increasing American levies on Chinese goods. On Twitter Trump said 25% tariffs on $250 billion in Chinese products would rise to 30% starting Oct. 1. Separately, the remai… [+221 chars]'},\n",
       "  {'source': {'id': None, 'name': 'Marketwatch.com'},\n",
       "   'author': 'Meera Jagannathan',\n",
       "   'title': 'Personal Finance Daily: This is exactly how much a payroll-tax cut would help the average American, and this man paid off $10,000 in credit-card debt after having a revelation (at the Gap)',\n",
       "   'description': 'Friday’s top personal finance stories',\n",
       "   'url': 'https://www.marketwatch.com/story/this-is-exactly-how-much-a-payroll-tax-cut-would-help-the-average-american-and-this-man-paid-off-10000-in-credit-card-debt-after-having-a-revelation-at-the-gap-2019-08-23',\n",
       "   'urlToImage': 'https://mw3.wsj.net/mw5/content/logos/mw_logo_social.png',\n",
       "   'publishedAt': '2019-08-23T21:09:36Z',\n",
       "   'content': 'TGIF, MarketWatchers. Dont miss these top stories:\\r\\nPersonal Finance\\r\\nWe may make better consumer choices when were angry\\r\\nNew research turns conventional wisdom on its head.\\r\\nMy aunt is stealing my dead mothers Social Security and persuaded my hospitalized f… [+2826 chars]'},\n",
       "  {'source': {'id': None, 'name': 'Marketwatch.com'},\n",
       "   'author': 'Meera Jagannathan',\n",
       "   'title': 'Personal Finance Daily: This is exactly how much a payroll-tax cut would help the average American, and this man paid off $10,000 in credit-card debt after having a revelation (at the Gap)',\n",
       "   'description': 'Friday’s top personal finance stories',\n",
       "   'url': 'https://www.marketwatch.com/story/this-is-exactly-how-much-a-payroll-tax-cut-would-help-the-average-american-and-this-man-paid-off-10000-in-credit-card-debt-after-having-a-revelation-at-the-gap-2019-08-23',\n",
       "   'urlToImage': 'https://mw3.wsj.net/mw5/content/logos/mw_logo_social.png',\n",
       "   'publishedAt': '2019-08-23T21:08:06Z',\n",
       "   'content': 'TGIF, MarketWatchers. Dont miss these top stories:\\r\\nPersonal Finance\\r\\nWe may make better consumer choices when were angry\\r\\nNew research turns conventional wisdom on its head.\\r\\nMy aunt is stealing my dead mothers Social Security and persuaded my hospitalized f… [+2826 chars]'},\n",
       "  {'source': {'id': None, 'name': 'Marketwatch.com'},\n",
       "   'author': 'MarketWatch',\n",
       "   'title': 'NewsWatch: Dow ends more than 600 points lower as U.S.-China trade war intensifies',\n",
       "   'description': 'U.S. stocks fall sharply Friday as President Donald Trump says he’s “ordering” U.S. companies to start looking for “an alternative to China” after Beijing imposed more retaliatory tariffs on U.S. goods.',\n",
       "   'url': 'https://www.marketwatch.com/story/dow-ends-more-than-600-points-lower-as-us-china-trade-war-intensifies-2019-08-23',\n",
       "   'urlToImage': 'https://mw3.wsj.net/mw5/content/logos/mw_logo_social.png',\n",
       "   'publishedAt': '2019-08-23T21:00:08Z',\n",
       "   'content': 'U.S. stocks fall sharply Friday as President Donald Trump says hes ordering U.S. companies to start looking for an alternative to China after Beijing imposed more retaliatory tariffs on U.S. goods. See full story.\\r\\nThe dirty secret about most fixer uppers\\r\\nTh… [+961 chars]'},\n",
       "  {'source': {'id': None, 'name': 'Marketwatch.com'},\n",
       "   'author': 'Jon Swartz',\n",
       "   'title': 'Qualcomm CFO Wise retires; interim replacement named',\n",
       "   'description': \"Qualcomm Inc. on Friday said Dave Wise has retired, effective today, after 23 years at the company. Qualcomm's board of directors unanimously approved Akash Palkhiwala, senior vice president of finance, as interim CFO while the company seeks a permanent repla…\",\n",
       "   'url': 'https://www.marketwatch.com/story/qualcomm-cfo-wise-retires-interim-replacement-named-2019-08-23',\n",
       "   'urlToImage': 'https://mw3.wsj.net/mw5/content/logos/mw_logo_social.png',\n",
       "   'publishedAt': '2019-08-23T20:48:43Z',\n",
       "   'content': \"Qualcomm Inc. \\r\\nQCOM, -4.71%\\r\\non Friday said Dave Wise has retired, effective today, after 23 years at the company. Qualcomm's board of directors unanimously approved Akash Palkhiwala, senior vice president of finance, as interim CFO while the company seeks a… [+196 chars]\"},\n",
       "  {'source': {'id': None, 'name': 'Marketwatch.com'},\n",
       "   'author': 'Jon Swartz',\n",
       "   'title': \"Apple shares slump nearly 5% on Trump's tough talk on China\",\n",
       "   'description': 'Shares of Apple Inc. dove 4.6% on Friday after President Donald Trump said he\\'s ordering U.S. companies to start looking for \"an alternative to China.\" Trump\\'s pronouncement, which sent the Dow down more than 600 points, came after Beijing announced retaliato…',\n",
       "   'url': 'https://www.marketwatch.com/story/apple-shares-slump-on-trumps-tough-talk-on-china-2019-08-23',\n",
       "   'urlToImage': 'https://mw3.wsj.net/mw5/content/logos/mw_logo_social.png',\n",
       "   'publishedAt': '2019-08-23T20:05:09Z',\n",
       "   'content': 'Shares of Apple Inc. \\r\\nAAPL, -4.62%\\r\\ndove 4.6% on Friday after President Donald Trump said he\\'s ordering U.S. companies to start looking for \"an alternative to China.\" Trump\\'s pronouncement, which sent the Dow down more than 600 points, came after Beijing ann… [+532 chars]'},\n",
       "  {'source': {'id': None, 'name': 'Marketwatch.com'},\n",
       "   'author': 'Chris Matthews',\n",
       "   'title': 'Dow ends down over 600 points as Trump escalates trade war rhetoric',\n",
       "   'description': 'U.S. stocks ended the trading day sharply lower after President Trump escalated trade war rhetoric Friday, tweeting that he had \"hereby ordered\"...',\n",
       "   'url': 'https://www.marketwatch.com/story/dow-closes-down-more-than-600-points-after-trump-orders-us-companies-to-leave-china-2019-08-23',\n",
       "   'urlToImage': 'https://mw3.wsj.net/mw5/content/logos/mw_logo_social.png',\n",
       "   'publishedAt': '2019-08-23T20:02:51Z',\n",
       "   'content': 'U.S. stocks ended the trading day sharply lower after President Trump escalated trade war rhetoric Friday, tweeting that he had \"hereby ordered\" U.S. companies \"to immediately start looking for an alternative to China.\" The Dow Jones Industrial Average \\r\\nDJIA… [+760 chars]'},\n",
       "  {'source': {'id': None, 'name': 'Marketwatch.com'},\n",
       "   'author': 'William Watts',\n",
       "   'title': 'Currencies: U.S. dollar sinks as Trump tweets stoke intervention fears',\n",
       "   'description': 'President Donald Trump’s latest Twitter attack on Federal Reserve Chairman Jerome Powell, accompanied with more complaints about the U.S. dollar, is stoking long-running fears of currency intervention.',\n",
       "   'url': 'https://www.marketwatch.com/story/us-dollar-sinks-as-trump-tweets-stoke-intervention-fears-2019-08-23',\n",
       "   'urlToImage': 'http://s.marketwatch.com/public/resources/MWimages/MW-GC396_trump__ZG_20180124161655.jpg',\n",
       "   'publishedAt': '2019-08-23T19:29:45Z',\n",
       "   'content': 'President Donald Trumps latest Twitter attack on Federal Reserve Chairman Jerome Powell on Friday, accompanied with more complaints about the strength of the U.S. dollar, is stoking long-running fears the administration could break with decades-long orthodoxy… [+4759 chars]'},\n",
       "  {'source': {'id': None, 'name': 'Marketwatch.com'},\n",
       "   'author': 'MarketWatch',\n",
       "   'title': \"Apple Inc., Intel share losses contribute to Dow's 582-point fall - MarketWatch\",\n",
       "   'description': \"Apple Inc., Intel share losses contribute to Dow's 582-point fall MarketWatch Dow plummets more than 600 points after Trump orders US manufacturers to leave China CNBC DJIA heavily in the red after Trump says U.S. companies must look for ‘alternative to China…\",\n",
       "   'url': 'https://www.marketwatch.com/story/apple-inc-intel-share-losses-contribute-to-dows-582-point-fall-2019-08-23',\n",
       "   'urlToImage': 'https://mw3.wsj.net/mw5/content/logos/mw_logo_social.png',\n",
       "   'publishedAt': '2019-08-23T19:11:00Z',\n",
       "   'content': 'The Dow Jones Industrial Average is slumping Friday afternoon with shares of Apple Inc. and Intel facing the biggest losses for the index. The Dow \\r\\nDJIA, -2.37%\\r\\nwas most recently trading 582 points (2.2%) lower, as shares of Apple Inc. \\r\\nAAPL, -4.62%\\r\\nand I… [+600 chars]'},\n",
       "  {'source': {'id': None, 'name': 'Marketwatch.com'},\n",
       "   'author': 'Myra P. Saefong',\n",
       "   'title': 'U.S. oil futures drop, post a more than 1% loss for the week',\n",
       "   'description': 'Oil futures declined on Friday, posting a loss for the week, following news of China\\'s plan for retaliatory tariffs on U.S. products. President Donald Trump took to social media, tweeting that the U.S. is \"better off without\" China. The tweets further exacerb…',\n",
       "   'url': 'https://www.marketwatch.com/story/us-oil-futures-drop-post-a-more-than-1-loss-for-the-week-2019-08-23',\n",
       "   'urlToImage': 'https://mw3.wsj.net/mw5/content/logos/mw_logo_social.png',\n",
       "   'publishedAt': '2019-08-23T18:57:35Z',\n",
       "   'content': 'Oil futures declined on Friday, posting a loss for the week, following news of China\\'s plan for retaliatory tariffs on U.S. products. President Donald Trump took to social media, tweeting that the U.S. is \"better off without\" China. The tweets further exacerb… [+376 chars]'},\n",
       "  {'source': {'id': None, 'name': 'Marketwatch.com'},\n",
       "   'author': 'Victor Reklaitis',\n",
       "   'title': 'Ruth Bader Ginsburg received treatment for tumor on her pancreas',\n",
       "   'description': 'Supreme Court Justice Ruth Bader Ginsburg on Friday completed a three-week treatment for a tumor on her pancreas, court officials said in a statement. \"The Justice tolerated treatment well,\" the statement said. \"The tumor was treated definitively and there is…',\n",
       "   'url': 'https://www.marketwatch.com/story/ruth-bader-ginsburg-received-treatment-for-tumor-on-her-pancreas-2019-08-23',\n",
       "   'urlToImage': 'https://mw3.wsj.net/mw5/content/logos/mw_logo_social.png',\n",
       "   'publishedAt': '2019-08-23T18:48:03Z',\n",
       "   'content': 'Supreme Court Justice Ruth Bader Ginsburg on Friday completed a three-week treatment for a tumor on her pancreas, court officials said in a statement. \"The Justice tolerated treatment well,\" the statement said. \"The tumor was treated definitively and there is… [+204 chars]'},\n",
       "  {'source': {'id': None, 'name': 'Marketwatch.com'},\n",
       "   'author': 'Howard Gold',\n",
       "   'title': 'Retirement Weekly: This annuity will help you live long and prosper',\n",
       "   'description': 'Immediate annuities are good bets in a low-yield world',\n",
       "   'url': 'https://www.marketwatch.com/story/this-annuity-will-help-you-live-long-and-prosper-2019-08-23',\n",
       "   'urlToImage': 'http://s.marketwatch.com/public/resources/MWimages/MW-HQ053_spock_ZG_20190823111834.jpg',\n",
       "   'publishedAt': '2019-08-23T18:25:58Z',\n",
       "   'content': 'Recently, I wrote about how retirees could assemble their own pension to replicate the ones our parents and grandparents used to get. Two of its pillars would be Social Security benefits and your required minimum distributions (RMDs) from IRAs, 401ks, and oth… [+550 chars]'},\n",
       "  {'source': {'id': None, 'name': 'Marketwatch.com'},\n",
       "   'author': 'Mark Hulbert',\n",
       "   'title': 'Retirement Weekly: How much will you spend in each retirement year?',\n",
       "   'description': 'New research explores various retirement spending strategies.',\n",
       "   'url': 'https://www.marketwatch.com/story/how-much-will-you-spend-in-each-retirement-year-2019-08-23',\n",
       "   'urlToImage': 'http://s.marketwatch.com/public/resources/MWimages/MW-HF536_MLseni_ZG_20190312150205.jpg',\n",
       "   'publishedAt': '2019-08-23T18:25:58Z',\n",
       "   'content': 'Do you expect to spend the same amount in each and every year in retirement?\\r\\nOf course not. Yet many financial plans nevertheless assume that you will. The famous 4% rule, for example, grew out of research about what steady withdrawal rate you could maintain… [+374 chars]'},\n",
       "  {'source': {'id': None, 'name': 'Marketwatch.com'},\n",
       "   'author': 'Cody Willard',\n",
       "   'title': 'Revolution Investing: Don’t overreact when the stock market gyrates',\n",
       "   'description': 'Cody Willard recommends that you stay calm amid higher volatility.',\n",
       "   'url': 'https://www.marketwatch.com/story/dont-overreact-when-the-stock-market-gyrates-2019-08-23',\n",
       "   'urlToImage': 'https://mw3.wsj.net/mw5/content/logos/mw_logo_social.png',\n",
       "   'publishedAt': '2019-08-23T18:05:55Z',\n",
       "   'content': 'Check out the recent action in the stock market:\\r\\n At one point on Aug. 1, the Nasdaq-100 Index \\r\\nNDX, -2.79%\\r\\n\\xa0was above 8,000 points.\\r\\n Two trading days later, it was down nearly 65\\r\\nTo continue reading, please subscribe.Already a Subscriber? Log in'},\n",
       "  {'source': {'id': None, 'name': 'Marketwatch.com'},\n",
       "   'author': 'Alessandra Malito',\n",
       "   'title': 'Retirement Weekly: News and analysis for those planning for or living in retirement',\n",
       "   'description': 'Retirement news and analysis',\n",
       "   'url': 'https://www.marketwatch.com/story/news-and-analysis-for-those-planning-for-or-living-in-retirement-2019-08-23',\n",
       "   'urlToImage': 'https://mw3.wsj.net/mw5/content/logos/mw_logo_social.png',\n",
       "   'publishedAt': '2019-08-23T18:05:55Z',\n",
       "   'content': 'From MarketWatch: \\r\\nIt is an act of insanity to stay in the U.S.: Why this 63-year-old teacher ditched Massachusetts to retire in the highlands of Panama: Not everybody wants to move to Florida when they retire. Some people want to move even farther away, and… [+577 chars]'},\n",
       "  {'source': {'id': None, 'name': 'Marketwatch.com'},\n",
       "   'author': 'Dan Moisand',\n",
       "   'title': 'Retirement Weekly: Should I invest a large sum at once? Or space it out?',\n",
       "   'description': 'The ups and downs of dollar-cost averaging.',\n",
       "   'url': 'https://www.marketwatch.com/story/should-i-invest-a-large-sum-at-once-or-space-it-out-2019-08-23',\n",
       "   'urlToImage': 'http://s.marketwatch.com/public/resources/MWimages/MW-HE760_cliff__ZG_20190228071020.jpg',\n",
       "   'publishedAt': '2019-08-23T18:05:55Z',\n",
       "   'content': 'Q.: I inherited some money recently but with the market at all-time highs, I m worried I will invest and see it drop immediately. A broker friend says I should dollar cost average. Is that a good idea? \\r\\nA.: Assuming you are going to be broadly diversified ra… [+729 chars]'},\n",
       "  {'source': {'id': None, 'name': 'Marketwatch.com'},\n",
       "   'author': 'Tonya Garcia',\n",
       "   'title': 'Hibbett shares sink as late back-to-school shoppers hurt sales',\n",
       "   'description': 'Hibbett Sports Inc. stock sank 15.5% after the athletic retailer reported second-quarter sales that missed expectations. Hibbett had a net loss of $8.8 million, or 49 cents per share, after a loss of 1.2 million, or 6 cents per share, the year prior. Adjusted…',\n",
       "   'url': 'https://www.marketwatch.com/story/hibbett-shares-sink-as-late-back-to-school-shoppers-hurt-sales-2019-08-23',\n",
       "   'urlToImage': 'https://mw3.wsj.net/mw5/content/logos/mw_logo_social.png',\n",
       "   'publishedAt': '2019-08-23T18:03:40Z',\n",
       "   'content': 'Hibbett Sports Inc. \\r\\nHIBB, -14.12%\\r\\nstock sank 15.5% after the athletic retailer reported second-quarter sales that missed expectations. Hibbett had a net loss of $8.8 million, or 49 cents per share, after a loss of 1.2 million, or 6 cents per share, the yea… [+1253 chars]'},\n",
       "  {'source': {'id': None, 'name': 'Marketwatch.com'},\n",
       "   'author': 'Myra P. Saefong',\n",
       "   'title': 'Gold futures post a gain for a 4th week in a row',\n",
       "   'description': 'Gold futures rallied Friday, with China’s plan for retaliatory tariffs on U.S. goods helping to boost investor interest in the haven metal. \"Gold is likely to be most volatile during FOMC meetings and days (like today) when we receive a barrage of tweets from…',\n",
       "   'url': 'https://www.marketwatch.com/story/gold-futures-post-a-gain-for-a-4th-week-in-a-row-2019-08-23',\n",
       "   'urlToImage': 'https://mw3.wsj.net/mw5/content/logos/mw_logo_social.png',\n",
       "   'publishedAt': '2019-08-23T17:43:35Z',\n",
       "   'content': 'Gold futures rallied Friday, with Chinas plan for retaliatory tariffs on U.S. goods helping to boost investor interest in the haven metal. \"Gold is likely to be most volatile during FOMC meetings and days (like today) when we receive a barrage of tweets from … [+583 chars]'},\n",
       "  {'source': {'id': None, 'name': 'Marketwatch.com'},\n",
       "   'author': 'Sunny Oh',\n",
       "   'title': 'This bond-market strategy returned more than 30% this year in a sea of negative yields',\n",
       "   'description': 'One group of fixed-income traders have capitalized on the roaring rally in government bonds that has driven their yields below zero.',\n",
       "   'url': 'https://www.marketwatch.com/story/this-bond-market-strategy-returned-more-than-30-this-year-in-a-sea-of-negative-yields-2019-08-23',\n",
       "   'urlToImage': 'http://s.marketwatch.com/public/resources/MWimages/MW-HQ065_trader_ZG_20190823130737.jpg',\n",
       "   'publishedAt': '2019-08-23T17:35:52Z',\n",
       "   'content': 'One group of fixed-income traders have capitalized on the rip-roaring rally in government bonds that has driven their yields below zero.\\r\\nSo-called momentum traders that bet and ride on the continuation of price trends have thrived in part because they dont c… [+3229 chars]'},\n",
       "  {'source': {'id': None, 'name': 'Marketwatch.com'},\n",
       "   'author': 'Jon Swartz',\n",
       "   'title': 'HP stock falls on analyst downgrade following CEO departure, weak outlook',\n",
       "   'description': 'HP announced a trifecta of jolting news during its third-quarter earnings statement Thursday: It named a new CEO, reported a significant slide in printer supply sales, and offered tepid guidance for its current quarter amid economic uncertainty.',\n",
       "   'url': 'https://www.marketwatch.com/story/hp-stock-falls-on-analyst-downgrade-following-ceo-departure-weak-outlook-2019-08-23',\n",
       "   'urlToImage': 'http://s.marketwatch.com/public/resources/MWimages/MW-HQ059_Hewlet_ZG_20190823122316.jpg',\n",
       "   'publishedAt': '2019-08-23T17:33:46Z',\n",
       "   'content': 'As ratings games go, this one is pretty much X-rated.\\r\\nTheres no other way to sugarcoat Wall Streets reaction after HP Inc. \\r\\nHPQ, -6.29%\\r\\n\\xa0announced a trifecta of jolting news during its third-quarter earnings statement Thursday: It named a new CEO, reported… [+2824 chars]'},\n",
       "  {'source': {'id': None, 'name': 'Marketwatch.com'},\n",
       "   'author': 'Mark DeCambre',\n",
       "   'title': 'Market Extra: Why Anthony Scaramucci is waging a media war on President Donald Trump',\n",
       "   'description': 'A friendship between President Donald Trump and one of his most vocal advocates has taken an almost-Shakespearean twist.',\n",
       "   'url': 'https://www.marketwatch.com/story/why-anthony-scaramucci-is-waging-a-media-war-on-president-donald-trump-2019-08-23',\n",
       "   'urlToImage': 'http://s.marketwatch.com/public/resources/MWimages/MW-FT373_Anthon_ZG_20170830111528.jpg',\n",
       "   'publishedAt': '2019-08-23T17:29:55Z',\n",
       "   'content': 'A friendship between President Donald Trump and one of his formerly most vocal advocates has taken an almost-Shakespearean twist. \\r\\nAnthony Scaramucci was once an ardent Trump supporter. He enjoyed a fleeting 11-day stint as the presidents White House communi… [+5165 chars]'},\n",
       "  {'source': {'id': None, 'name': 'Marketwatch.com'},\n",
       "   'author': 'Myra P. Saefong',\n",
       "   'title': 'Baker Hughes data reveal the biggest weekly drop in the U.S. oil-rig count since April',\n",
       "   'description': 'Baker Hughes on Friday reported that the number of active U.S. rigs drilling for oil declined by 16 to 754 this week. That was the biggest weekly decline since late April, when Baker Hughes reported a weekly drop of 20 oil rigs. The total active U.S. rig coun…',\n",
       "   'url': 'https://www.marketwatch.com/story/baker-hughes-data-reveal-the-biggest-weekly-drop-in-the-us-oil-rig-count-since-april-2019-08-23',\n",
       "   'urlToImage': 'https://mw3.wsj.net/mw5/content/logos/mw_logo_social.png',\n",
       "   'publishedAt': '2019-08-23T17:23:44Z',\n",
       "   'content': 'Baker Hughes \\r\\nBHGE, -1.73%\\r\\non Friday reported that the number of active U.S. rigs drilling for oil declined by 16 to 754 this week. That was the biggest weekly decline since late April, when Baker Hughes reported a weekly drop of 20 oil rigs. The total acti… [+289 chars]'},\n",
       "  {'source': {'id': None, 'name': 'Marketwatch.com'},\n",
       "   'author': 'Myra P. Saefong',\n",
       "   'title': 'Oil prices may drop back toward the year’s lows near $50 a barrel',\n",
       "   'description': 'China announced plans for retaliatory tariffs on U.S. goods on Friday, sinking U.S. oil prices and putting them on a path toward the year’s lows near $50 a barrel.',\n",
       "   'url': 'https://www.marketwatch.com/story/oil-prices-may-drop-back-toward-the-years-lows-near-50-a-barrel-2019-08-23',\n",
       "   'urlToImage': 'http://s.marketwatch.com/public/resources/MWimages/MW-HQ067_oil_ch_ZG_20190823131325.jpg',\n",
       "   'publishedAt': '2019-08-23T17:18:28Z',\n",
       "   'content': 'China announced plans for retaliatory import tariffs on U.S. goods on Friday, sinking U.S. oil prices and putting them on a path toward the years lows near $50 a barrel.\\r\\nChina will take retaliatory measures on the U.S., specifically on crude oil, Jace Jarboe… [+1851 chars]'},\n",
       "  {'source': {'id': None, 'name': 'Marketwatch.com'},\n",
       "   'author': 'Victor Reklaitis',\n",
       "   'title': 'Here’s what David Koch’s death means for conservative political spending',\n",
       "   'description': 'Billionaire David Koch — known for spending on conservative political causes — has passed away, but experts say his death isn’t likely to shake up such spending that much.',\n",
       "   'url': 'https://www.marketwatch.com/story/heres-what-david-kochs-death-means-for-conservative-political-spending-2019-08-23',\n",
       "   'urlToImage': 'http://s.marketwatch.com/public/resources/MWimages/MW-HQ056_koch_0_ZG_20190823120640.jpg',\n",
       "   'publishedAt': '2019-08-23T17:11:33Z',\n",
       "   'content': 'Billionaire David Koch known for spending on conservative political causes has passed away, but experts say his death isnt likely to shake up such spending that much.\\r\\nChristopher Leonard, author of Kochland: The Secret History of Koch Industries and Corporat… [+2482 chars]'},\n",
       "  {'source': {'id': None, 'name': 'Marketwatch.com'},\n",
       "   'author': 'Jeffry Bartash',\n",
       "   'title': 'Economic Report: Forget slump in new-home sales in July. Falling mortgage rates are reviving housing market',\n",
       "   'description': 'Sales of new U.S. homes have zig-zagged up and down for months, but they appear to be on the rise again with mortgage rates falling to multiyear lows.',\n",
       "   'url': 'https://www.marketwatch.com/story/forget-slump-in-new-home-sales-in-july-falling-mortgage-rates-are-reviving-housing-market-2019-08-23',\n",
       "   'urlToImage': 'http://s.marketwatch.com/public/resources/MWimages/MW-GE604_for_sa_ZG_20180228155817.jpg',\n",
       "   'publishedAt': '2019-08-23T17:07:29Z',\n",
       "   'content': 'Sales of new homes are trending higher as mortgage rates tumble to the lowest level in years. \\r\\nThe numbers: Sales of new U.S. homes have zig-zagged up and down for months, but they appear to be creeping higher again overall with mortgage rates falling to mul… [+3031 chars]'},\n",
       "  {'source': {'id': None, 'name': 'Marketwatch.com'},\n",
       "   'author': 'Rachel Koning Beals',\n",
       "   'title': 'Green Sheet: ‘Flight shaming’ apparently sways Prince William and Kate, and Bernie’s electric school buses',\n",
       "   'description': 'Dispatches from the business of climate change.',\n",
       "   'url': 'https://www.marketwatch.com/story/flight-shaming-apparently-sways-prince-william-and-kate-and-bernies-electric-school-buses-2019-08-23',\n",
       "   'urlToImage': 'http://s.marketwatch.com/public/resources/MWimages/MW-HQ064_willia_ZG_20190823130419.jpg',\n",
       "   'publishedAt': '2019-08-23T17:07:11Z',\n",
       "   'content': 'Evidence of the increasing effects of climate change is building, as are the investing opportunities and changes in consumer habits linked to environmental concerns and resource use. Here are select dispatches about the companies responding to customer demand… [+3913 chars]'},\n",
       "  {'source': {'id': None, 'name': 'Marketwatch.com'},\n",
       "   'author': 'Andrea Riquier',\n",
       "   'title': 'Double jeopardy for retailers: the online menace and recession',\n",
       "   'description': 'An analysis out Thursday suggests ETFs that look to profit from online retailing may be a good bet, but not a sure one.',\n",
       "   'url': 'https://www.marketwatch.com/story/double-jeopardy-for-retailers-the-online-menace-and-recession-2019-08-23',\n",
       "   'urlToImage': 'http://s.marketwatch.com/public/resources/MWimages/MW-GZ048_Bf2018_ZG_20181126103608.jpg',\n",
       "   'publishedAt': '2019-08-23T16:50:45Z',\n",
       "   'content': \"People shop at the Macy's flagship store on 34th St. on Black Friday in November, 2018 in New York City. \\r\\nFrom Macys\\r\\nM, -3.41%\\r\\n\\xa0 to the Gap\\r\\nGAP, +4.22%\\r\\n\\xa0, from Nordstrom\\r\\nJWN, -4.29%\\r\\n\\xa0 to Foot Locker\\r\\nFL, -17.70%\\r\\n\\xa0, the retailpocalypse rolls on. \\r\\nThat… [+2274 chars]\"},\n",
       "  {'source': {'id': None, 'name': 'Marketwatch.com'},\n",
       "   'author': 'Paul Brandus',\n",
       "   'title': 'Paul Brandus: The Trump era could wind up like the 1930s',\n",
       "   'description': 'If the past is prologue, then the situation that President Trump finds himself in—and our country finds itself in—increasingly resembles what we’ve seen before',\n",
       "   'url': 'https://www.marketwatch.com/story/the-trump-era-could-wind-up-like-the-1930s-2019-08-23',\n",
       "   'urlToImage': 'http://s.marketwatch.com/public/resources/MWimages/MW-HQ062_herber_ZG_20190823124046.jpg',\n",
       "   'publishedAt': '2019-08-23T16:45:13Z',\n",
       "   'content': 'After nearly a decade of good times, things, all of a sudden, looked wobbly. The stock market fell sharply. The presidenta wealthy man who had never been elected to office before, but was very sure of himself, thank you very much reassured Americans that all … [+4997 chars]'},\n",
       "  {'source': {'id': None, 'name': 'Marketwatch.com'},\n",
       "   'author': 'Myra P. Saefong',\n",
       "   'title': 'Commodities Corner: Gasoline prices may drop by another 10% before the year is done',\n",
       "   'description': 'The summer driving season isn’t over yet, but gasoline prices at the pump are already declining, with the potential to drop 10% or more from current prices before the year is done.',\n",
       "   'url': 'https://www.marketwatch.com/story/gasoline-prices-may-drop-by-another-10-before-the-year-is-done-2019-08-23',\n",
       "   'urlToImage': 'http://s.marketwatch.com/public/resources/MWimages/MW-HQ058_gas_ba_ZG_20190823122259.jpg',\n",
       "   'publishedAt': '2019-08-23T16:40:45Z',\n",
       "   'content': 'The summer driving season isnt over yet, but gasoline prices at the pump are already declining, with the potential to drop 10% or more from current prices before the year is done.\\r\\nAs of Aug. 19, the average U.S. price for a gallon of regular gas had fallen f… [+3593 chars]'},\n",
       "  {'source': {'id': None, 'name': 'Marketwatch.com'},\n",
       "   'author': 'Tonya Garcia',\n",
       "   'title': \"Banana Republic's rental service gets mixed reaction from analysts\",\n",
       "   'description': 'Gap Inc.\\'s plan to launch a rental service for its Banana Republic brand is getting mixed reactions from analysts, with GlobalData Retail\\'s Neil Saunders saying he \"doesn\\'t think much of the initiative.\" Gap said last week that Banana Republic would launch St…',\n",
       "   'url': 'https://www.marketwatch.com/story/banana-republics-rental-service-gets-mixed-reaction-from-analysts-2019-08-23',\n",
       "   'urlToImage': 'https://mw3.wsj.net/mw5/content/logos/mw_logo_social.png',\n",
       "   'publishedAt': '2019-08-23T16:14:41Z',\n",
       "   'content': 'Gap Inc.\\'s \\r\\nGPS, -3.86%\\r\\nplan to launch a rental service for its Banana Republic brand is getting mixed reactions from analysts, with GlobalData Retail\\'s Neil Saunders saying he \"doesn\\'t think much of the initiative.\" Gap said last week that Banana Republic … [+1170 chars]'},\n",
       "  {'source': {'id': None, 'name': 'Marketwatch.com'},\n",
       "   'author': 'MarketWatch',\n",
       "   'title': 'Escalation in U.S.-China trade war threatens global economy, poses Trump reelection risk',\n",
       "   'description': 'American cars, soybeans and oil largely produced in key swing states have been targeted for additional import tariffs by China, marking the latest volley in a widening trade war with the United States that has damaged the global economy.',\n",
       "   'url': 'https://www.marketwatch.com/story/escalation-in-us-china-trade-war-threatens-global-economy-poses-trump-reelection-risk-2019-08-23-1210308',\n",
       "   'urlToImage': 'https://mw3.wsj.net/mw5/content/logos/mw_logo_social.png',\n",
       "   'publishedAt': '2019-08-23T16:00:08Z',\n",
       "   'content': 'American cars, soybeans and oil largely produced in key swing states have been targeted for additional import tariffs by China, marking the latest volley in a widening trade war with the United States that has damaged the global economy. See full story.\\r\\nPowe… [+1145 chars]'},\n",
       "  {'source': {'id': None, 'name': 'Marketwatch.com'},\n",
       "   'author': 'Robert Schroeder',\n",
       "   'title': 'Trump blasts Powell and Xi as ‘enemies’ of U.S. as Fed fight, trade war heat up',\n",
       "   'description': 'President Donald Trump on Friday slammed Federal Reserve Chairman Jerome Powell after a closely watched speech, asking if the central bank chief or China’s president was a bigger enemy of the United States.',\n",
       "   'url': 'https://www.marketwatch.com/story/trump-blasts-powell-and-xi-as-enemies-of-us-as-fed-fight-trade-war-heat-up-2019-08-23',\n",
       "   'urlToImage': 'http://s.marketwatch.com/public/resources/MWimages/MW-HK504_trump__ZG_20190530092815.jpg',\n",
       "   'publishedAt': '2019-08-23T15:42:00Z',\n",
       "   'content': 'President Donald Trump attacked the Federal Reserve and China in tweets on Friday. \\r\\nPresident Donald Trump on Friday slammed Federal Reserve Chairman Jerome Powell after a closely watched speech, asking if the central bank chief or Chinas president was a big… [+1439 chars]'},\n",
       "  {'source': {'id': None, 'name': 'Marketwatch.com'},\n",
       "   'author': 'Mark DeCambre',\n",
       "   'title': 'Stocks turn again in whipsaw Friday session, with Dow nearing a 350-point loss',\n",
       "   'description': 'U.S. stocks hit session lows on Friday as President Donald Trump appeared to mandate in a tweet that U.S. companies make their products at home and said he...',\n",
       "   'url': 'https://www.marketwatch.com/story/dow-skids-more-than-300-points-lower-as-trump-appears-to-mandate-that-us-companies-make-products-domestically-2019-08-23',\n",
       "   'urlToImage': 'https://mw3.wsj.net/mw5/content/logos/mw_logo_social.png',\n",
       "   'publishedAt': '2019-08-23T15:11:10Z',\n",
       "   'content': 'U.S. stocks hit session lows on Friday as President Donald Trump appeared to mandate in a tweet that U.S. companies make their products at home and said he would hold a conference in the afternoon to discuss the matter. The Dow Jones Industrial Average \\r\\nDJIA… [+759 chars]'},\n",
       "  {'source': {'id': None, 'name': 'Marketwatch.com'},\n",
       "   'author': 'Philip van Doorn',\n",
       "   'title': 'Top Ten: Weekend roundup: Dividend stocks | How to save up nearly $1 million | Why investors buy bonds with negative yields',\n",
       "   'description': 'Also, bargain stocks and a millennial retirement crisis.',\n",
       "   'url': 'https://www.marketwatch.com/story/weekend-roundup-dividend-stocks-how-to-save-up-nearly-1-million-why-investors-buy-bonds-with-negative-yields-2019-08-23',\n",
       "   'urlToImage': 'http://s.marketwatch.com/public/resources/MWimages/MW-HQ050_Prup_2_ZG_20190823100117.jpg',\n",
       "   'publishedAt': '2019-08-23T15:02:19Z',\n",
       "   'content': 'Here are must-read MarketWatch articles on investing and personal finance from the past week.\\r\\n1. A dividend-stock screen\\r\\nJohn Buckingham, editor of the highly rated Prudent Speculator, screens the stocks he holds to identify 25 dividend stocks with attracti… [+2324 chars]'},\n",
       "  {'source': {'id': None, 'name': 'Marketwatch.com'},\n",
       "   'author': None,\n",
       "   'title': \"How the 'halo effect' is driving e-tailers to brick and mortar\",\n",
       "   'description': \"Over 90% of consumer purchases still happen in stores. The 'halo shopper' is changing how digital brands and legacy retailers operate.\",\n",
       "   'url': 'https://www.marketwatch.com/video/sectorwatch/how-the-halo-effect-is-driving-e-tailers-to-brick-and-mortar/3F3D702B-68A6-4C14-A9D5-D72BF3481A58.html',\n",
       "   'urlToImage': 'http://m.wsj.net/video/20190823/082319_mw_etailers_sectorwatch/082319_mw_etailers_sectorwatch_1280x720.jpg',\n",
       "   'publishedAt': '2019-08-23T15:01:59Z',\n",
       "   'content': 'Copyright © 2019 MarketWatch, Inc. All rights reserved.\\r\\nBy using this site you agree to the Terms of Service,\\r\\n Privacy Policy, and\\r\\n Cookie Policy.'},\n",
       "  {'source': {'id': None, 'name': 'Marketwatch.com'},\n",
       "   'author': 'Robert Schroeder',\n",
       "   'title': \"Trump questions whether Fed's Powell 'bigger enemy' of U.S. than China's Xi after Jackson Hole speech\",\n",
       "   'description': 'President Donald Trump on Friday said the Federal Reserve \"did nothing\" after Chairman Jerome Powell said the central bank is watching economic developments and will \"act as appropriate.\" Trump, who has frequently pressed the Fed to aggressively cut interest …',\n",
       "   'url': 'https://www.marketwatch.com/story/trump-questions-whether-feds-powell-bigger-enemy-of-us-than-chinas-xi-after-jackson-hole-speech-2019-08-23',\n",
       "   'urlToImage': 'https://mw3.wsj.net/mw5/content/logos/mw_logo_social.png',\n",
       "   'publishedAt': '2019-08-23T14:52:21Z',\n",
       "   'content': 'President Donald Trump on Friday said the Federal Reserve \"did nothing\" after Chairman Jerome Powell said the central bank is watching economic developments and will \"act as appropriate.\" Trump, who has frequently pressed the Fed to aggressively cut interest … [+323 chars]'},\n",
       "  {'source': {'id': None, 'name': 'Marketwatch.com'},\n",
       "   'author': 'Tonya Garcia',\n",
       "   'title': 'Nordstrom launches Sustainable Style e-commerce category',\n",
       "   'description': 'Nordstrom Inc. said Friday that it has launched an online shopping category, Sustainable Style, that will offer merchandise made with sustainably-sourced materials and manufactured in facilities that reach a higher environmental standard. The move is part of …',\n",
       "   'url': 'https://www.marketwatch.com/story/nordstrom-launches-sustainable-style-e-commerce-category-2019-08-23',\n",
       "   'urlToImage': 'https://mw3.wsj.net/mw5/content/logos/mw_logo_social.png',\n",
       "   'publishedAt': '2019-08-23T14:44:52Z',\n",
       "   'content': 'Nordstrom Inc. \\r\\nJWN, -2.94%\\r\\nsaid Friday that it has launched an online shopping category, Sustainable Style, that will offer merchandise made with sustainably-sourced materials and manufactured in facilities that reach a higher environmental standard. The m… [+634 chars]'},\n",
       "  {'source': {'id': None, 'name': 'Marketwatch.com'},\n",
       "   'author': 'Jeffry Bartash',\n",
       "   'title': 'Capitol Report: Escalation in U.S.-China trade war threatens global economy, poses Trump reelection risk',\n",
       "   'description': 'American cars, soybeans and oil largely produced in key swing states have been targeted for additional import tariffs by China, marking the latest volley in a widening trade war with the United States that has damaged the global economy.',\n",
       "   'url': 'https://www.marketwatch.com/story/escalation-in-us-china-trade-war-threatens-global-economy-poses-trump-reelection-risk-2019-08-23',\n",
       "   'urlToImage': 'http://s.marketwatch.com/public/resources/MWimages/MW-HM499_trump_MG_20190630211918.jpg',\n",
       "   'publishedAt': '2019-08-23T14:38:51Z',\n",
       "   'content': 'Chinese President Xi Jinping and President Donald Trump are locked in an impasse over trade.\\r\\nAmerican cars, soybeans and oil are among thousands of products that China has targeted for additional tariffs, marking the latest volley in a widening trade war wit… [+3691 chars]'},\n",
       "  {'source': {'id': None, 'name': 'Marketwatch.com'},\n",
       "   'author': 'Tonya Garcia',\n",
       "   'title': 'The Ratings Game: Hasbro gets Peppa Pig, and lots more, with $4 billion Entertainment One acquisition',\n",
       "   'description': 'Hasbro has acquired Entertainment One for $4 billion, a deal that comes with Peppa Pig and lots of other assets.',\n",
       "   'url': 'https://www.marketwatch.com/story/hasbro-gets-peppa-pig-and-lots-more-with-4-billion-entertainment-one-acquisition-2019-08-23',\n",
       "   'urlToImage': 'http://s.marketwatch.com/public/resources/MWimages/MW-HQ051_peppa__ZG_20190823101124.jpg',\n",
       "   'publishedAt': '2019-08-23T14:34:41Z',\n",
       "   'content': 'Hasbro Inc. isnt just getting Peppa Pig in its $4 billion acquisition of Entertainment One. Its also adding content creation capabilities and other valuable assets, according to MKM Partners.\\r\\nHasbro \\r\\nHAS, -5.66%\\r\\n\\xa0 and Entertainment One \\r\\nETO, +33.51%\\r\\n\\xa0ann… [+3090 chars]'},\n",
       "  {'source': {'id': None, 'name': 'Marketwatch.com'},\n",
       "   'author': 'Mark DeCambre',\n",
       "   'title': \"Dow briefly flips positive then sinks again as Fed's Powell says 'carefully watching developments'\",\n",
       "   'description': 'U.S. stocks turned lower after briefly turning positive on Friday as Wall Street was parsing a much-anticipated speech from Federal Reserve Chairman Jerome Powell at a symposium of central bankers in Jackson Hole, Wyo. The Dow Jones Industrial Average briefly…',\n",
       "   'url': 'https://www.marketwatch.com/story/dow-briefly-flips-into-positive-then-sinks-again-after-release-of-powells-jackson-hole-speech-2019-08-23',\n",
       "   'urlToImage': 'https://mw3.wsj.net/mw5/content/logos/mw_logo_social.png',\n",
       "   'publishedAt': '2019-08-23T14:17:56Z',\n",
       "   'content': 'U.S. stocks turned lower after briefly turning positive on Friday as Wall Street was parsing a much-anticipated speech from Federal Reserve Chairman Jerome Powell at a symposium of central bankers in Jackson Hole, Wyo. The Dow Jones Industrial Average \\r\\nDJIA,… [+834 chars]'},\n",
       "  {'source': {'id': None, 'name': 'Marketwatch.com'},\n",
       "   'author': 'Mitch Tuchman',\n",
       "   'title': 'Outside the Box: Kevin O’Leary says you need to cut your kids off financially',\n",
       "   'description': '‘Shark Tank’ star: ‘My mom’s tough money lesson was just the boost I needed’',\n",
       "   'url': 'https://www.marketwatch.com/story/kevin-oleary-says-you-need-to-cut-your-kids-off-financially-2019-08-23',\n",
       "   'urlToImage': 'http://s.marketwatch.com/public/resources/MWimages/MW-HP991_oleary_ZG_20190822134215.jpg',\n",
       "   'publishedAt': '2019-08-23T14:08:19Z',\n",
       "   'content': 'At what age should you cut off your kids financially? Shark Tank star and entrepreneur Kevin OLeary says to make the call on the day they graduate.\\r\\nMy mother was very influential in my career because she supported me from birth to last day of college, OLeary… [+3947 chars]'},\n",
       "  {'source': {'id': None, 'name': 'Marketwatch.com'},\n",
       "   'author': 'Greg Robb',\n",
       "   'title': 'The Fed: Powell says Fed ‘carefully watching developments’ and ‘will act as appropriate’',\n",
       "   'description': 'Federal Reserve Chairman Jerome Powell on Friday said the central bank was “carefully watching developments” in the economy and would “act as appropriate,” but stopped short of promising any specific easing steps.',\n",
       "   'url': 'https://www.marketwatch.com/story/powell-says-fed-carefully-watching-developments-and-will-act-as-appropriate-2019-08-23-10103027',\n",
       "   'urlToImage': 'http://s.marketwatch.com/public/resources/MWimages/MW-HP968_powell_ZG_20190822111747.jpg',\n",
       "   'publishedAt': '2019-08-23T14:00:27Z',\n",
       "   'content': 'Fed Chairman Jerome Powell and New York Fed President John Williams walk together, ahead of the Kansas City Federal Reserve Banks annual conference on monetary policy, in Jackson Hole, Wyo.\\r\\nFederal Reserve Chairman Jerome Powell on Friday said the central ba… [+2508 chars]'},\n",
       "  {'source': {'id': None, 'name': 'Marketwatch.com'},\n",
       "   'author': 'William Watts',\n",
       "   'title': 'Futures Movers: Oil falls sharply as China includes crude in retaliatory tariffs',\n",
       "   'description': 'Oil futures dive Friday morning after China announced it would impose retaliatory tariffs on $75 billion worth of imports from the U.S., including a 5% levy on crude.',\n",
       "   'url': 'https://www.marketwatch.com/story/oil-falls-sharply-as-china-includes-crude-in-retaliatory-tariffs-2019-08-23',\n",
       "   'urlToImage': 'http://s.marketwatch.com/public/resources/MWimages/MW-HN831_hormus_ZG_20190722082221.jpg',\n",
       "   'publishedAt': '2019-08-23T13:19:03Z',\n",
       "   'content': 'Oil futures dived Friday morning after China announced it would impose retaliatory tariffs on $75 billion worth of imports from the U.S., including a levy on crude, amplifying concerns about the global economy and demand prospects for crude.\\r\\nWest Texas Inter… [+2061 chars]'},\n",
       "  {'source': {'id': None, 'name': 'Marketwatch.com'},\n",
       "   'author': 'Rachel Koning Beals',\n",
       "   'title': 'Brazil says it’s lacking resources to fight Amazon fire as Europe’s leaders urge a G-7 response',\n",
       "   'description': 'Brazilian President Jair Bolsonaro, under attack from around the world as the Amazon rainforest burns, says his country can’t put up the resources to fight the fires. French and German leaders, meanwhile, say the record number of blazes is an international cr…',\n",
       "   'url': 'https://www.marketwatch.com/story/brazil-says-its-lacking-resources-to-fight-amazon-fire-as-europes-leaders-urge-a-g-7-response-2019-08-23',\n",
       "   'urlToImage': 'http://s.marketwatch.com/public/resources/MWimages/MW-HC312_bolson_ZG_20190118130131.jpg',\n",
       "   'publishedAt': '2019-08-23T13:18:16Z',\n",
       "   'content': 'Brazilian President Jair Bolsonaro, under attack from around the world as the Amazon rainforest burns, said his country cant put up the resources to fight the devastating fires.\\r\\nFrench and German leaders, meanwhile, say the record number of fires in Brazils … [+3590 chars]'},\n",
       "  {'source': {'id': None, 'name': 'Marketwatch.com'},\n",
       "   'author': 'Lawrence H. Summers, Anna Stansbury',\n",
       "   'title': 'Cutting interest rates isn’t the way out of our economic stagnation',\n",
       "   'description': 'Central banks should admit they are impotent, write Larry Summers and Anna Stansbury.',\n",
       "   'url': 'https://www.marketwatch.com/story/cutting-interest-rates-isnt-the-way-out-of-our-economic-stagnation-2019-08-23',\n",
       "   'urlToImage': 'http://s.marketwatch.com/public/resources/MWimages/MW-HQ031_summer_ZG_20190823090318.jpg',\n",
       "   'publishedAt': '2019-08-23T13:16:07Z',\n",
       "   'content': 'CAMBRIDGE, Mass. (Project Syndicate) The worlds central bankers and the scholars who follow them are having their annual moment of reflection in Jackson Hole, Wyo. But the theme of this years meeting, Challenges for Monetary Policy, may encourage an insular a… [+7331 chars]'},\n",
       "  {'source': {'id': None, 'name': 'Marketwatch.com'},\n",
       "   'author': 'Lina Saigol',\n",
       "   'title': 'Foreign buyers snap up UK PLC',\n",
       "   'description': 'From toys and pubs to aerospace and defence, companies across a diverse range of sectors have been snapped up in recent weeks as the UK hurtles towards a disorderly Brexit',\n",
       "   'url': 'https://www.marketwatch.com/story/foreign-buyers-snap-up-uk-plc-2019-08-23',\n",
       "   'urlToImage': 'http://s.marketwatch.com/public/resources/MWimages/MW-HQ008_hasbro_ZG_20190822174954.jpg',\n",
       "   'publishedAt': '2019-08-23T13:15:38Z',\n",
       "   'content': 'UK PLC is up for sale.\\r\\nThats the message foreign buyers are receiving as they rush to scoop up UK-listed companies taking advantage of the slump in sterling against the U.S. dollar in the run up to the October 31 deadline for Britains exit from the European … [+2281 chars]'},\n",
       "  {'source': {'id': None, 'name': 'Marketwatch.com'},\n",
       "   'author': 'Melanie Grayce West and John McCormick',\n",
       "   'title': 'The Wall Street Journal: Billionaire David Koch, known for his support of conservative causes, dies at 79',\n",
       "   'description': 'Billionaire David Koch, who gave more than $1 billion to political causes as well as charities, has died.',\n",
       "   'url': 'https://www.marketwatch.com/story/billionaire-david-koch-known-for-his-support-of-conservative-causes-dies-at-79-2019-08-23',\n",
       "   'urlToImage': 'http://s.marketwatch.com/public/resources/MWimages/MW-HQ029_david__ZG_20190823085713.jpg',\n",
       "   'publishedAt': '2019-08-23T13:02:49Z',\n",
       "   'content': 'David Koch, the billionaire libertarian who gave more than $1 billion to charitable causes but was better known for using his money to reshape U.S. politics, has died. \\r\\nMr. Koch, whose net worth of about $50.5 billion tied him with his brother as the worlds … [+839 chars]'},\n",
       "  {'source': {'id': None, 'name': 'Marketwatch.com'},\n",
       "   'author': 'MarketWatch',\n",
       "   'title': 'NewsWatch: ‘It is an act of insanity to stay in the U.S.:’ Why this 63-year-old teacher ditched Massachusetts to retire in the highlands of Panama',\n",
       "   'description': 'You can live on about $2,000 a month, experts says, and Panama has a generous ‘pensionado program.’ But there are drawbacks.',\n",
       "   'url': 'https://www.marketwatch.com/story/it-is-an-act-of-insanity-to-stay-in-the-us-why-this-63-year-old-teacher-ditched-massachusetts-to-retire-in-the-highlands-of-panama-2019-08-23-910308',\n",
       "   'urlToImage': 'https://mw3.wsj.net/mw5/content/logos/mw_logo_social.png',\n",
       "   'publishedAt': '2019-08-23T13:00:08Z',\n",
       "   'content': 'You can live on about $2,000 a month, experts says, and Panama has a generous pensionado program. But there are drawbacks. See full story.\\r\\nInvestors are so bearish, its almost time to start buying stocks again, says Bank of America\\r\\nHappy Jackson Hole-Friday… [+884 chars]'},\n",
       "  {'source': {'id': None, 'name': 'Marketwatch.com'},\n",
       "   'author': 'Rachel Koning Beals',\n",
       "   'title': \"Fed's Mester: Current economy supports no additional Fed cut, but China trade impact can't be ignored\",\n",
       "   'description': 'Cleveland Federal Reserve President Loretta Mester, a non-voter on interest-rate policy this year, remains undecided whether she will recommend a rate cut when the Fed meets in coming weeks, even though she was not in agreement with the cut the Fed panel put …',\n",
       "   'url': 'https://www.marketwatch.com/story/feds-mester-current-economy-supports-no-additional-fed-cut-but-china-trade-impact-cant-be-ignored-2019-08-23',\n",
       "   'urlToImage': 'https://mw3.wsj.net/mw5/content/logos/mw_logo_social.png',\n",
       "   'publishedAt': '2019-08-23T12:46:52Z',\n",
       "   'content': 'Cleveland Federal Reserve President Loretta Mester, a non-voter on interest-rate policy this year, remains undecided whether she will recommend a rate cut when the Fed meets in coming weeks, even though she was not in agreement with the cut the Fed panel put … [+694 chars]'},\n",
       "  {'source': {'id': None, 'name': 'Marketwatch.com'},\n",
       "   'author': 'Robert Schroeder',\n",
       "   'title': \"White House's Navarro says U.S.-China talks will continue but focus should be Powell\",\n",
       "   'description': 'White House trade adviser Peter Navarro said Friday trade talks with China would continue after Beijing announced tariffs on $75 billion in U.S. goods. Appearing on Fox Business Network, Navarro claimed China was bearing the burden of tariffs the Trump admini…',\n",
       "   'url': 'https://www.marketwatch.com/story/white-houses-navarro-says-us-china-talks-will-continue-but-focus-should-be-powell-2019-08-23',\n",
       "   'urlToImage': 'https://mw3.wsj.net/mw5/content/logos/mw_logo_social.png',\n",
       "   'publishedAt': '2019-08-23T12:41:15Z',\n",
       "   'content': 'White House trade adviser Peter Navarro said Friday trade talks with China would continue after Beijing announced tariffs on $75 billion in U.S. goods. Appearing on Fox Business Network, Navarro claimed China was bearing the burden of tariffs the Trump admini… [+426 chars]'},\n",
       "  {'source': {'id': None, 'name': 'Marketwatch.com'},\n",
       "   'author': 'Tonya Garcia',\n",
       "   'title': 'Tractor Supply searching for new CEO; COO resigns',\n",
       "   'description': 'Tractor Supply Co. said Friday that it has extended its contract with current its current chief executive, Greg Sandfort, by up to one year as an executive search firm finds a new CEO. Sandfort will stay on until a new CEO is appointed, and will help with the…',\n",
       "   'url': 'https://www.marketwatch.com/story/tractor-supply-searching-for-new-ceo-coo-resigns-2019-08-23',\n",
       "   'urlToImage': 'https://mw3.wsj.net/mw5/content/logos/mw_logo_social.png',\n",
       "   'publishedAt': '2019-08-23T12:32:04Z',\n",
       "   'content': 'Tractor Supply Co. \\r\\nTSCO, +0.13%\\r\\nsaid Friday that it has extended its contract with current its current chief executive, Greg Sandfort, by up to one year as an executive search firm finds a new CEO. Sandfort will stay on until a new CEO is appointed, and wi… [+319 chars]'},\n",
       "  {'source': {'id': None, 'name': 'Marketwatch.com'},\n",
       "   'author': 'Mark DeCambre',\n",
       "   'title': 'Stock futures have reversed course and are solidly lower after China tariff news',\n",
       "   'description': 'Dow Jones Industrial Average futures erased healthy early gains on Friday after a report surfaced indicating that China was ready to take retaliatory...',\n",
       "   'url': 'https://www.marketwatch.com/story/dow-futures-wipe-out-gains-to-turn-negative-after-report-indicates-china-readying-tariff-countermeasures-2019-08-23',\n",
       "   'urlToImage': 'https://mw3.wsj.net/mw5/content/logos/mw_logo_social.png',\n",
       "   'publishedAt': '2019-08-23T12:28:58Z',\n",
       "   'content': 'Dow Jones Industrial Average futures \\r\\nYMU19, -0.53%\\r\\nerased healthy early gains on Friday after a report surfaced indicating that China was ready to take retaliatory measures in its lasting tariff conflict with the U.S. A report from the Chinese ministry ind… [+1092 chars]'},\n",
       "  {'source': {'id': None, 'name': 'Marketwatch.com'},\n",
       "   'author': 'Steve Goldstein',\n",
       "   'title': 'China announces tariffs on $75 billion of U.S. goods',\n",
       "   'description': \"China's finance ministry on Friday announced retaliatory tariffs on $75 billion of U.S. goods, with one slate for Sept. 1 and another for Dec. 15. China said it was responding to U.S. unilateralism and trade protectionism. Market Pulse Stories are Rapid-fire,…\",\n",
       "   'url': 'https://www.marketwatch.com/story/china-announces-tariffs-on-75-billion-of-us-goods-2019-08-23',\n",
       "   'urlToImage': 'https://mw3.wsj.net/mw5/content/logos/mw_logo_social.png',\n",
       "   'publishedAt': '2019-08-23T12:22:45Z',\n",
       "   'content': 'Copyright © 2019 MarketWatch, Inc. All rights reserved.\\r\\nBy using this site you agree to the Terms of Service,\\r\\n Privacy Policy, and\\r\\n Cookie Policy.'},\n",
       "  {'source': {'id': None, 'name': 'Marketwatch.com'},\n",
       "   'author': 'Tonya Garcia',\n",
       "   'title': 'Anheuser-Busch to make $20 million payment to Craft Brew rather than buy remaining shares',\n",
       "   'description': \"Anheuser-Busch hasn't made a qualifying offer for the remaining shares of Craft Brew Alliance Inc. and will instead make an incentive payment of $20 million, Craft Brew said Friday. The action comes as the deadline for a qualifying offer, as indicated by the …\",\n",
       "   'url': 'https://www.marketwatch.com/story/anheuser-busch-to-make-20-million-payment-to-craft-brew-rather-than-buy-remaining-shares-2019-08-23',\n",
       "   'urlToImage': 'https://mw3.wsj.net/mw5/content/logos/mw_logo_social.png',\n",
       "   'publishedAt': '2019-08-23T12:19:18Z',\n",
       "   'content': \"Anheuser-Busch \\r\\nBUD, -0.30%\\r\\nhasn't made a qualifying offer for the remaining shares of Craft Brew Alliance Inc. \\r\\nBREW, +3.93%\\r\\nand will instead make an incentive payment of $20 million, Craft Brew said Friday. The action comes as the deadline for a qualify… [+747 chars]\"},\n",
       "  {'source': {'id': None, 'name': 'Marketwatch.com'},\n",
       "   'author': 'Greg Robb',\n",
       "   'title': 'The Fed: Fed’s Bullard backs more interest rate cuts',\n",
       "   'description': 'St. Louis Fed President James Bullard on Friday said the central bank should continue cutting interest rates.',\n",
       "   'url': 'https://www.marketwatch.com/story/feds-bullard-backs-more-interest-rate-cuts-2019-08-23',\n",
       "   'urlToImage': 'http://s.marketwatch.com/public/resources/MWimages/MW-HD270_bullar_ZG_20190204120812.jpg',\n",
       "   'publishedAt': '2019-08-23T12:13:10Z',\n",
       "   'content': 'St. Louis Fed President James Bullard\\r\\nSt. Louis Fed President James Bullard said Friday he would support more interest rate cuts after the Federal Reserve cut its policy rate on July 31 for the first time in a decade. \\r\\nWe should get lower here, Bullard said… [+1138 chars]'},\n",
       "  {'source': {'id': None, 'name': 'Marketwatch.com'},\n",
       "   'author': 'Mark DeCambre',\n",
       "   'title': 'Market Snapshot: Gold prices head lower, set to snap weekly streak of gains ahead of Powell speech',\n",
       "   'description': 'Gold futures on Friday head modestly lower ahead of much-awaited speech from Federal Reserve Chairman Jerome Powell near Jackson Hole, Wyo., which could provide some insights about health of the U.S. economy and the path of monetary policy — key drivers for c…',\n",
       "   'url': 'https://www.marketwatch.com/story/gold-prices-head-lower-set-to-snap-weekly-streak-of-gains-ahead-of-powell-speech-2019-08-23',\n",
       "   'urlToImage': 'http://s.marketwatch.com/public/resources/MWimages/MW-HL819_Goldp__ZG_20190620113746.jpg',\n",
       "   'publishedAt': '2019-08-23T12:00:19Z',\n",
       "   'content': 'Gold futures on Friday headed modestly lower ahead of much-awaited speech from Federal Reserve Chairman Jerome Powell near Jackson Hole, Wyo., which could provide some insights about health of the U.S. economy and the path of monetary policy key drivers for c… [+2497 chars]'},\n",
       "  {'source': {'id': None, 'name': 'Marketwatch.com'},\n",
       "   'author': 'Tonya Garcia',\n",
       "   'title': 'Buckle shares jump after earnings and sales beat consensus',\n",
       "   'description': 'Shares of clothing and accessory retailer Buckle Inc. jumped 7.6% in Friday premarket trading after it reported second-quarter earnings and sales that beat consensus. Net income totaled $16.4 million, or 34 cents per share, up from $15.7 million, or 32 cents …',\n",
       "   'url': 'https://www.marketwatch.com/story/buckle-shares-jump-after-earnings-and-sales-beat-consensus-2019-08-23',\n",
       "   'urlToImage': 'https://mw3.wsj.net/mw5/content/logos/mw_logo_social.png',\n",
       "   'publishedAt': '2019-08-23T11:48:35Z',\n",
       "   'content': 'Shares of clothing and accessory retailer Buckle Inc. \\r\\nBKE, +3.79%\\r\\njumped 7.6% in Friday premarket trading after it reported second-quarter earnings and sales that beat consensus. Net income totaled $16.4 million, or 34 cents per share, up from $15.7 millio… [+408 chars]'},\n",
       "  {'source': {'id': None, 'name': 'Marketwatch.com'},\n",
       "   'author': 'Sunny Oh',\n",
       "   'title': 'Bond Report: Treasury yields tick higher ahead of Powell speech',\n",
       "   'description': 'U.S. Treasury yields rise Friday as traders gear up for Federal Reserve Chairman Jerome Powell’s speech at the Jackson Hole symposium in Wyoming, where he may give clues to the central bank’s next moves.',\n",
       "   'url': 'https://www.marketwatch.com/story/treasury-yields-tick-higher-ahead-of-powell-speech-2019-08-23',\n",
       "   'urlToImage': 'https://mw3.wsj.net/mw5/content/logos/mw_logo_social.png',\n",
       "   'publishedAt': '2019-08-23T11:43:30Z',\n",
       "   'content': 'U.S. Treasury yields rose Friday as traders wait for Federal Reserve Chairman Jerome Powells speech at the Jackson Hole symposium in Wyoming, where he may give clues to the central banks next moves. \\r\\nWhat are Treasurys doing?\\r\\nThe 10-year Treasury note yield… [+1721 chars]'},\n",
       "  {'source': {'id': None, 'name': 'Marketwatch.com'},\n",
       "   'author': 'Barbara Kollmeyer',\n",
       "   'title': 'Need to Know: Investors are so bearish, it’s almost time to start buying stocks again, says Bank of America',\n",
       "   'description': 'Happy Jackson Hole-Friday. Our call of the day comes from the Bank of America folks, whose Friday “Flow Show” zeroes in on a contrarian signal telling investors to get ready to love stocks again.',\n",
       "   'url': 'https://www.marketwatch.com/story/investors-are-so-bearish-its-almost-time-to-start-buying-stocks-again-says-bank-of-america-2019-08-23',\n",
       "   'urlToImage': 'http://s.marketwatch.com/public/resources/MWimages/MW-HQ028_bear_w_ZG_20190823062319.jpg',\n",
       "   'publishedAt': '2019-08-23T11:23:57Z',\n",
       "   'content': 'Hes got the whole market in his hands. \\r\\nFederal Reserve Chairman Jerome Powell has one big goal Friday - to reassure financial markets that theyre getting a September interest rate cut, and then some, and drown out Fed presidents making hawkish noises from t… [+5229 chars]'},\n",
       "  {'source': {'id': None, 'name': 'Marketwatch.com'},\n",
       "   'author': 'Mark DeCambre',\n",
       "   'title': 'Stocks set to head slightly higher as Wall Street awaits Powell’s Jackson Hole speech',\n",
       "   'description': 'U.S. stock futures drift higher Friday ahead of highly anticipated speech from Jerome Powell at a gathering of central bankers and academics in Jackson Hole, Wyo., which could help to crystallize market expectations for further monetary policy easing in the c…',\n",
       "   'url': 'https://www.marketwatch.com/story/stocks-set-to-head-slightly-higher-as-wall-street-awaits-powells-jackson-hole-speech-2019-08-23',\n",
       "   'urlToImage': 'http://s.marketwatch.com/public/resources/MWimages/MW-HF883_balanc_ZG_20190318140301.jpg',\n",
       "   'publishedAt': '2019-08-23T11:16:24Z',\n",
       "   'content': 'U.S. stock futures drifted higher Friday ahead of highly anticipated speech from Jerome Powell at a gathering of central bankers and academics in Jackson Hole, Wyo., which could help to crystallize market expectations for further monetary policy easing in the… [+3372 chars]'},\n",
       "  {'source': {'id': None, 'name': 'Marketwatch.com'},\n",
       "   'author': 'Tonya Garcia',\n",
       "   'title': \"Foot Locker shares plummet after retailer's earnings and sales miss\",\n",
       "   'description': 'Foot Locker Inc. stock plummeted 8.7% in Friday premarket trading after the athletic retailer reported second-quarter earnings and sales that missed...',\n",
       "   'url': 'https://www.marketwatch.com/story/foot-locker-shares-plummet-after-earnings-and-sales-miss-2019-08-23',\n",
       "   'urlToImage': 'https://mw3.wsj.net/mw5/content/logos/mw_logo_social.png',\n",
       "   'publishedAt': '2019-08-23T11:13:35Z',\n",
       "   'content': 'Foot Locker Inc. \\r\\nFL, +5.46%\\r\\nstock plummeted 8.7% in Friday premarket trading after the athletic retailer reported second-quarter earnings and sales that missed expectations. Net income totaled $60 million, or 55 cents per share, down from $88 million, or 7… [+398 chars]'},\n",
       "  {'source': {'id': None, 'name': 'Marketwatch.com'},\n",
       "   'author': 'Steve Goldstein',\n",
       "   'title': 'U.S. stock futures move off highs as Global Times editor tweets about China countermeasures',\n",
       "   'description': 'U.S. stock futures moved off their highs of the day as the editor-in-chief of the Global Times, Hu Xijin,tweeted that China will take further countermeasures in response to U.S. tariffs on $300 billion of goods. \"Beijing will soon unveil a plan of imposing re…',\n",
       "   'url': 'https://www.marketwatch.com/story/us-stock-futures-move-off-highs-as-global-times-editor-tweets-about-china-countermeasures-2019-08-23',\n",
       "   'urlToImage': 'https://mw3.wsj.net/mw5/content/logos/mw_logo_social.png',\n",
       "   'publishedAt': '2019-08-23T10:45:30Z',\n",
       "   'content': 'U.S. stock futures \\r\\nES00, +0.21%\\r\\nmoved off their highs of the day as the editor-in-chief of the Global Times, Hu Xijin,tweeted that China will take further countermeasures in response to U.S. tariffs on $300 billion of goods. \"Beijing will soon unveil a pla… [+231 chars]'},\n",
       "  {'source': {'id': None, 'name': 'Marketwatch.com'},\n",
       "   'author': 'Steve Goldstein',\n",
       "   'title': 'British stocks rise ahead of Powell speech, as strategist calls U.K. market cheap',\n",
       "   'description': 'British stocks advanced on Friday ahead of a pivotal speech on U.S. interest rates, as one strategist said it was dangerous to bet against the country.',\n",
       "   'url': 'https://www.marketwatch.com/story/british-stocks-rise-ahead-of-powell-speech-as-strategist-calls-uk-market-cheap-2019-08-23',\n",
       "   'urlToImage': 'http://s.marketwatch.com/public/resources/MWimages/MW-HQ027_britis_ZG_20190823055152.jpg',\n",
       "   'publishedAt': '2019-08-23T10:12:02Z',\n",
       "   'content': 'British stocks advanced on Friday ahead of a pivotal speech on U.S. interest rates, as one strategist said it was dangerous to bet against the U.K.\\r\\nThe U.K. FTSE 100 \\r\\nUKX, +0.82%\\r\\n\\xa0rose 0.77% to 7183.09, and U.S. stock futures \\r\\nES00, +0.35%\\r\\n\\xa0also rose aft… [+1500 chars]'},\n",
       "  {'source': {'id': None, 'name': 'Marketwatch.com'},\n",
       "   'author': 'Catey Hill',\n",
       "   'title': '‘It is an act of insanity to stay in the U.S.:’ Why this 63-year-old teacher ditched Massachusetts to retire in the highlands of Panama',\n",
       "   'description': 'You can live on about $2,000 a month, experts says, and Panama has a generous ‘pensionado program.’ But there are drawbacks.',\n",
       "   'url': 'https://www.marketwatch.com/story/it-is-an-act-of-insanity-to-stay-in-the-us-why-this-63-year-old-teacher-ditched-massachusetts-to-retire-in-the-highlands-of-panama-2019-08-23',\n",
       "   'urlToImage': 'http://s.marketwatch.com/public/resources/MWimages/MW-HP998_maryta_MG_20190822154759.jpg',\n",
       "   'publishedAt': '2019-08-23T10:06:31Z',\n",
       "   'content': 'Mary Taft lives with her two daughters, seven cats and two dogs in a mansion in Panama and she wouldnt have it any other way.\\r\\nBut the former teacher and school administrator didnt always know that a Panamanian retirement was in store for her. Indeed, as she … [+8276 chars]'},\n",
       "  {'source': {'id': None, 'name': 'Marketwatch.com'},\n",
       "   'author': 'Meera Jagannathan',\n",
       "   'title': 'This couple fought $25,000 in fraudulent credit-card charges after falling prey to identity theft — then things got worse',\n",
       "   'description': 'The thieves had expensive taste, opting for luxuries like diamond earrings, Gucci and Armani.',\n",
       "   'url': 'https://www.marketwatch.com/story/this-couple-fought-25000-in-fraudulent-credit-card-charges-after-falling-prey-to-identity-theft-then-things-got-worse-2019-08-23',\n",
       "   'urlToImage': 'http://s.marketwatch.com/public/resources/MWimages/MW-HQ010_amy_MG_20190822182949.jpg',\n",
       "   'publishedAt': '2019-08-23T09:55:42Z',\n",
       "   'content': 'Amy Wang and her husband spent hundreds of hours trying to straighten out their financial futures after falling prey to identity theft. Now she wants other would-be victims to learn from her experience.\\r\\nAmy, a 50-year-old occupational therapist in Miami, say… [+7559 chars]'},\n",
       "  {'source': {'id': None, 'name': 'Marketwatch.com'},\n",
       "   'author': 'Quentin Fottrell',\n",
       "   'title': 'The Moneyist: My mother has always lived off others and now she lives off me — she needs to sort out her life before I snap',\n",
       "   'description': '‘I told her that I was going to make an appointment for her to speak to a Medicaid specialist, and you would think she watched me kick a puppy down the stairs.’',\n",
       "   'url': 'https://www.marketwatch.com/story/my-mother-has-always-lived-off-others-and-now-she-lives-off-me-she-needs-to-sort-out-her-life-before-i-snap-2019-08-23',\n",
       "   'urlToImage': 'http://s.marketwatch.com/public/resources/MWimages/MW-GC652_moneyi_MG_20180129161027.jpg',\n",
       "   'publishedAt': '2019-08-23T09:46:31Z',\n",
       "   'content': 'Dear Moneyist,\\r\\nMy mom is a very nice lady who spent most of her adult life chasing the next person who would take care of her, be they husband or family member. Subsequently, she has done a really bad job of planning for retirement. Out of her MANY marriages… [+6733 chars]'},\n",
       "  {'source': {'id': None, 'name': 'Marketwatch.com'},\n",
       "   'author': 'Steve Goldstein',\n",
       "   'title': \"Moody's cuts its growth outlook for 16 Asian countries\",\n",
       "   'description': 'Moody\\'s Investors Service on Friday said it\\'s revised downward its GDP growth outlook for 16 Asian economies. The revision came due to sharp slowdown in \"externally-oriented\" economies, as well as domestic factors holding back Japan, India and the Philippines…',\n",
       "   'url': 'https://www.marketwatch.com/story/moodys-cuts-its-growth-outlook-for-16-asian-countries-2019-08-23',\n",
       "   'urlToImage': 'https://mw3.wsj.net/mw5/content/logos/mw_logo_social.png',\n",
       "   'publishedAt': '2019-08-23T09:35:26Z',\n",
       "   'content': 'Moody\\'s Investors Service on Friday said it\\'s revised downward its GDP growth outlook for 16 Asian economies. The revision came due to sharp slowdown in \"externally-oriented\" economies, as well as domestic factors holding back Japan, India and the Philippines… [+146 chars]'},\n",
       "  {'source': {'id': None, 'name': 'Marketwatch.com'},\n",
       "   'author': 'Mark Hulbert',\n",
       "   'title': 'Mark Hulbert: Negative-yielding bonds could actually mean the worst is over for the struggling global economy',\n",
       "   'description': 'Sub-zero real yields tend to peak near the end of a global economic slowdown, writes Mark Hulbert.',\n",
       "   'url': 'https://www.marketwatch.com/story/negative-yielding-bonds-could-actually-mean-the-worst-is-over-for-the-struggling-global-economy-2019-08-23',\n",
       "   'urlToImage': 'http://s.marketwatch.com/public/resources/MWimages/MW-HG043_sunbur_ZG_20190320112259.jpg',\n",
       "   'publishedAt': '2019-08-23T09:20:22Z',\n",
       "   'content': 'Investors discouraged by plunging global bond yields should take heart: when you hit bottom, the only direction is up.\\r\\nThis is the implication of a report circulated earlier this week by Ned Davis Research, authored by Alejandra Grindal, senior international… [+2862 chars]'},\n",
       "  {'source': {'id': None, 'name': 'Marketwatch.com'},\n",
       "   'author': 'Andrew Keshner',\n",
       "   'title': 'How one woman persuaded the government to forgive $63,000 in student-loan debt she incurred 15 years ago',\n",
       "   'description': '“I’m just overjoyed because I believe this allows me to have a life again, rather than having to work a lot longer,” said Christine Gold, a 62-year-old secretary in Cottonwood, Ariz.',\n",
       "   'url': 'https://www.marketwatch.com/story/how-one-woman-persuaded-the-government-to-forgive-63000-in-student-loan-debt-she-incurred-15-years-ago-2019-08-23',\n",
       "   'urlToImage': 'http://s.marketwatch.com/public/resources/MWimages/MW-HP917_debt_f_ZG_20190821231150.jpg',\n",
       "   'publishedAt': '2019-08-23T09:16:34Z',\n",
       "   'content': 'The Department of Education is forgiving the almost $63,000 student-loan debt an Arizona woman racked up with a for-profit school that lost its license but her lawyer says theres no reason she had to wait so long for the clean slate. \\r\\nEighteen years ago, Chr… [+5902 chars]'},\n",
       "  {'source': {'id': None, 'name': 'Marketwatch.com'},\n",
       "   'author': 'Brett Arends',\n",
       "   'title': 'We may make better consumer choices when we’re angry',\n",
       "   'description': 'New research turns conventional wisdom on its head',\n",
       "   'url': 'https://www.marketwatch.com/story/weird-but-true-we-may-make-better-choices-when-were-angry-2019-08-23',\n",
       "   'urlToImage': 'http://s.marketwatch.com/public/resources/MWimages/MW-HQ003_arends_ZG_20190822171420.jpg',\n",
       "   'publishedAt': '2019-08-23T09:05:34Z',\n",
       "   'content': 'Stop! Before you order that restaurant meal or buy that new car, maybe you should take a moment to think about something that makes you good and mad.\\r\\nLike the political divisions in America. Or the final season of HBOs \\r\\nT, +0.65%\\r\\n\\xa0 Game Of Thrones.\\r\\nThats … [+3719 chars]'},\n",
       "  {'source': {'id': None, 'name': 'Marketwatch.com'},\n",
       "   'author': 'Steve Goldstein',\n",
       "   'title': 'European stocks rise ahead of Powell speech on interest rates',\n",
       "   'description': 'European stocks rose on Friday ahead of a pivotal speech on the future of U.S. interest rates.',\n",
       "   'url': 'https://www.marketwatch.com/story/european-stocks-rise-ahead-of-powell-speech-on-interest-rates-2019-08-23',\n",
       "   'urlToImage': 'https://mw3.wsj.net/mw5/content/logos/mw_logo_social.png',\n",
       "   'publishedAt': '2019-08-23T07:41:00Z',\n",
       "   'content': 'European stocks rose on Friday ahead of a pivotal speech on the future of U.S. interest rates.\\r\\nThe Stoxx Europe 600 index \\r\\nSXXP, +0.35%\\r\\n\\xa0 rose 0.49% to 376.11, with similar gains for the major national indexes. Banks including HSBC Holdings \\r\\nHSBA, +0.35%\\r… [+426 chars]'},\n",
       "  {'source': {'id': None, 'name': 'Marketwatch.com'},\n",
       "   'author': 'Callum Keown',\n",
       "   'title': 'Activist threat: Why these five companies could come under attack',\n",
       "   'description': 'Data storage giant Western Digital, private-label food producer TreeHouse Foods, and tire manufacturer Goodyear are vulnerable to an attack from activist investors, according to shareholder-activism intelligence firm Activist Insight.',\n",
       "   'url': 'https://www.marketwatch.com/story/activist-threat-why-these-five-companies-could-come-under-attack-2019-08-23',\n",
       "   'urlToImage': 'http://s.marketwatch.com/public/resources/MWimages/MW-HP955_Goodye_ZG_20190822093833.jpg',\n",
       "   'publishedAt': '2019-08-23T06:00:22Z',\n",
       "   'content': 'Data storage giant Western Digital, private-label food producer TreeHouse Foods, and tire manufacturer Goodyear are all vulnerable to an attack from activist investors, according to shareholder-activism intelligence firm Activist Insight.\\r\\nAluminum producer a… [+5944 chars]'},\n",
       "  {'source': {'id': None, 'name': 'Marketwatch.com'},\n",
       "   'author': 'Marketwatch, Associated Press',\n",
       "   'title': 'Asia Markets: Asian markets up slightly ahead of Fed’s Jackson Hole conference',\n",
       "   'description': 'Asian markets mostly gained in early trading Friday as U.S. Federal Reserve officials prepare to meet in Jackson Hole, Wyoming.',\n",
       "   'url': 'https://www.marketwatch.com/story/asian-markets-up-slightly-ahead-of-feds-jackson-hole-conference-2019-08-22',\n",
       "   'urlToImage': 'http://s.marketwatch.com/public/resources/MWimages/MW-HQ018_chinae_ZG_20190822232547.jpg',\n",
       "   'publishedAt': '2019-08-23T03:30:20Z',\n",
       "   'content': 'Asian markets mostly gained in early trading Friday as U.S. Federal Reserve officials prepare to meet in Jackson Hole, Wyoming.\\r\\nFed Chairman Jerome Powell is scheduled to speak Friday morning to kick off the annual conference, and investors will be looking f… [+2247 chars]'},\n",
       "  {'source': {'id': None, 'name': 'Marketwatch.com'},\n",
       "   'author': 'Therese Poletti',\n",
       "   'title': 'MarketWatch First Take: The latest chapter in Patrick Byrne’s soap opera doesn’t change much for Overstock',\n",
       "   'description': 'The sudden resignation of Patrick Byrne, Chief Executive and founder of Overstock.com Inc., a week after he admitted having an affair with a Russian spy and giving important information to the “men in black” in Washington, was followed up with a lengthy inter…',\n",
       "   'url': 'https://www.marketwatch.com/story/the-latest-chapter-in-patrick-byrnes-soap-opera-doesnt-change-much-for-overstock-2019-08-22',\n",
       "   'urlToImage': 'http://s.marketwatch.com/public/resources/MWimages/MW-HP368_overst_ZG_20190813221111.jpg',\n",
       "   'publishedAt': '2019-08-23T01:30:12Z',\n",
       "   'content': 'The sudden resignation of Overstock.com Inc. founder and Chief Executive Patrick Byrne takes away a major distraction, but doesnt solve any issues for the questionable company.\\r\\nByrne announced his resignation Tuesday morning, a week after he told the world i… [+4839 chars]'},\n",
       "  {'source': {'id': None, 'name': 'Marketwatch.com'},\n",
       "   'author': 'Mike Murphy',\n",
       "   'title': 'Trump may still unveil tax cuts before 2020 election, Kudlow says',\n",
       "   'description': 'White House economic adviser Larry Kudlow said Thursday that President Donald Trump may unveil new tax cuts before the 2020 presidential election.',\n",
       "   'url': 'https://www.marketwatch.com/story/trump-may-still-unveil-tax-cuts-before-2020-election-kudlow-says-2019-08-22',\n",
       "   'urlToImage': 'http://s.marketwatch.com/public/resources/MWimages/MW-GG920_kudlow_ZG_20180406104711.jpg',\n",
       "   'publishedAt': '2019-08-22T23:34:12Z',\n",
       "   'content': 'White House economic adviser Larry Kudlow said Thursday that President Donald Trump may unveil new tax cuts before the 2020 presidential election.\\r\\nYou might even see tax cuts 2.0, which would drive additional tax relief and create additional tax incentives f… [+560 chars]'},\n",
       "  {'source': {'id': None, 'name': 'Marketwatch.com'},\n",
       "   'author': 'Jeremy C. Owens',\n",
       "   'title': 'VMware transformation speeds up with deals for Pivotal Software, Carbon Black',\n",
       "   'description': 'VMware Inc. has been snapping up cloud-focused startups while making deals with former enemies like Amazon.com Inc. and Alphabet Inc. for months, but changes at the software company hit a new level on Thursday.',\n",
       "   'url': 'https://www.marketwatch.com/story/vmware-transformation-speeds-up-with-deals-for-pivotal-software-carbon-black-2019-08-22',\n",
       "   'urlToImage': 'http://s.marketwatch.com/public/resources/MWimages/MW-FZ394_VMware_ZG_20171201103352.jpg',\n",
       "   'publishedAt': '2019-08-22T22:18:39Z',\n",
       "   'content': 'VMware Inc. has been snapping up cloud-focused startups while making deals with former enemies like Amazon.com Inc. and Alphabet Inc. for months, but changes at the software company hit a new level on Thursday.\\r\\nVMware \\r\\nVMW, +0.04%\\r\\n\\xa0announced planned acquis… [+4962 chars]'},\n",
       "  {'source': {'id': None, 'name': 'Marketwatch.com'},\n",
       "   'author': 'Claudia Assis',\n",
       "   'title': 'Hasbro’s $4 billion deal brings Peppa Pig to My Little Pony’s house',\n",
       "   'description': 'Hasbro Inc. said late Thursday it has agreed to buy Entertainment One Ltd. in an all-cash $4 billion deal, bringing preschool brands such as Peppa Pig and PJ Masks under its umbrella.',\n",
       "   'url': 'https://www.marketwatch.com/story/hasbros-4-billion-deal-brings-peppa-pig-to-my-little-ponys-house-2019-08-22',\n",
       "   'urlToImage': 'http://s.marketwatch.com/public/resources/MWimages/MW-HQ008_hasbro_ZG_20190822174954.jpg',\n",
       "   'publishedAt': '2019-08-22T22:05:48Z',\n",
       "   'content': 'Hasbro Inc. said late Thursday it has agreed to buy Entertainment One Ltd. in an all-cash $4 billion deal. \\r\\nEntertainment One, or eOne, is the Canadian company behind preschool brands Peppa Pig and PJ Masks as well as other content, film distribution and mus… [+1863 chars]'},\n",
       "  {'source': {'id': None, 'name': 'Marketwatch.com'},\n",
       "   'author': 'Rachel Koning Beals',\n",
       "   'title': 'Blame humans for Amazon rainforest blaze, say environmental organizations',\n",
       "   'description': 'Dispatches from the business of climate change.',\n",
       "   'url': 'https://www.marketwatch.com/story/blame-humans-for-amazon-rainforest-blaze-say-environmental-organizations-2019-08-22',\n",
       "   'urlToImage': 'http://s.marketwatch.com/public/resources/MWimages/MW-HQ004_brazil_ZG_20190822171723.jpg',\n",
       "   'publishedAt': '2019-08-22T21:19:51Z',\n",
       "   'content': 'Evidence of the increasing effects of climate change is building, as are the investing opportunities and changes in consumer habits linked to environmental concerns and resource use. Here are select dispatches about the companies responding to customer demand… [+4025 chars]'},\n",
       "  {'source': {'id': None, 'name': 'Marketwatch.com'},\n",
       "   'author': 'Meera Jagannathan',\n",
       "   'title': 'Personal Finance Daily: Black and Latina women are losing out on $1 million because of the gender pay gap and former smokers are picking up some terrible habits that pose major health risks',\n",
       "   'description': 'Thursday’s top personal finance stories',\n",
       "   'url': 'https://www.marketwatch.com/story/black-and-latina-women-are-losing-out-on-1-million-because-of-the-gender-pay-gap-and-former-smokers-are-picking-up-some-terrible-habits-that-pose-major-health-risks-2019-08-22',\n",
       "   'urlToImage': 'https://mw3.wsj.net/mw5/content/logos/mw_logo_social.png',\n",
       "   'publishedAt': '2019-08-22T21:05:45Z',\n",
       "   'content': 'Happy Thursday, MarketWatchers. Dont miss these top stories:\\r\\nPersonal Finance\\r\\nIm 34 and have 5 to 10 years to live I want to spend $50K on a new kitchen, but my wife is vehemently opposed\\r\\nWith my limited time left, I want to invest in a new kitchen both as… [+2706 chars]'},\n",
       "  {'source': {'id': None, 'name': 'Marketwatch.com'},\n",
       "   'author': 'MarketWatch',\n",
       "   'title': 'NewsWatch: The Fed can’t rescue us from the coming supply-shock recession',\n",
       "   'description': 'The global economy faces three possible supply shocks that would plunge it into recession. Worse,',\n",
       "   'url': 'https://www.marketwatch.com/story/the-fed-cant-rescue-us-from-the-coming-supply-shock-recession-2019-08-22-1710308',\n",
       "   'urlToImage': 'https://mw3.wsj.net/mw5/content/logos/mw_logo_social.png',\n",
       "   'publishedAt': '2019-08-22T21:00:08Z',\n",
       "   'content': 'The global economy faces three possible supply shocks that would plunge it into recession. Worse, See full story.\\r\\nThe dirty secret about most fixer uppers\\r\\nThe findings of a new survey appear to go against the interests of the company that paid for it. See f… [+929 chars]'},\n",
       "  {'source': {'id': None, 'name': 'Marketwatch.com'},\n",
       "   'author': 'Claudia Assis',\n",
       "   'title': \"Dillard's OKs 50% dividend increase\",\n",
       "   'description': \"Dillard's Inc. said late Thursday its board of directors declared a cash dividend of 15 cents a share, a 50% increase over the most recent dividend of 10 cents a share. The dividend is payable on Nov. 4 to shareholders of record as of Sept. 30. Shares of Dill…\",\n",
       "   'url': 'https://www.marketwatch.com/story/dillards-oks-50-dividend-increase-2019-08-22',\n",
       "   'urlToImage': 'https://mw3.wsj.net/mw5/content/logos/mw_logo_social.png',\n",
       "   'publishedAt': '2019-08-22T20:49:55Z',\n",
       "   'content': \"Dillard's Inc. \\r\\nDDS, -0.51%\\r\\nsaid late Thursday its board of directors declared a cash dividend of 15 cents a share, a 50% increase over the most recent dividend of 10 cents a share. The dividend is payable on Nov. 4 to shareholders of record as of Sept. 30.… [+101 chars]\"},\n",
       "  {'source': {'id': None, 'name': 'Marketwatch.com'},\n",
       "   'author': 'Claudia Assis',\n",
       "   'title': 'TurboTax parent Intuit stock gains 5% after Q4 results',\n",
       "   'description': 'Shares of Intuit Inc. rose more than 5% in the extended session Thursday after the business software company reported a narrower-than-expected fiscal fourth quarter loss and sales beat expectations. Intuit said it lost $153 million, or 17 cents a share, in th…',\n",
       "   'url': 'https://www.marketwatch.com/story/turbotax-parent-intuit-stock-gains-5-after-q4-results-2019-08-22',\n",
       "   'urlToImage': 'https://mw3.wsj.net/mw5/content/logos/mw_logo_social.png',\n",
       "   'publishedAt': '2019-08-22T20:45:05Z',\n",
       "   'content': 'Shares of Intuit Inc. \\r\\nINTU, -0.19%\\r\\nrose more than 5% in the extended session Thursday after the business software company reported a narrower-than-expected fiscal fourth quarter loss and sales beat expectations. Intuit said it lost $153 million, or 17 cent… [+372 chars]'},\n",
       "  {'source': {'id': None, 'name': 'Marketwatch.com'},\n",
       "   'author': 'Jon Swartz',\n",
       "   'title': 'HP Inc. names head of printer division as new CEO',\n",
       "   'description': 'Long-time HP veteran Enrique Lores, who runs the $20 billion printer business, is succeeding Dion Weisler effective Nov. 1. Weisler, who was named CEO in late 2014 after the computing behemoth was split into two companies, is leaving for a “family health matt…',\n",
       "   'url': 'https://www.marketwatch.com/story/hp-inc-names-head-of-printer-division-as-new-ceo-2019-08-22',\n",
       "   'urlToImage': 'http://s.marketwatch.com/public/resources/MWimages/MW-HO558_HPQ_ZG_20190731212022.jpg',\n",
       "   'publishedAt': '2019-08-22T20:43:16Z',\n",
       "   'content': 'HP Inc. has a new CEO.\\r\\nLongtime HP veteran Enrique Lores, who runs the $20 billion printer business, is succeeding Dion Weisler effective Nov. 1. Weisler, who was named CEO in late 2014 after the computing behemoth was split into two companies, is leaving fo… [+2453 chars]'},\n",
       "  {'source': {'id': None, 'name': 'Marketwatch.com'},\n",
       "   'author': 'Jeremy C. Owens',\n",
       "   'title': \"Hasbro to buy 'Peppa Pig' and 'PJ Masks' corporate owner in $4 billion deal\",\n",
       "   'description': 'Hasbro Inc. plans to purchase an entertainment company that holds the rights to children\\'s entertainment properties \"Peppa Pig\" and \"Pj Masks\" in a deal that values the company at roughly $4 billion. Hasbro said Thursday afternoon it has agreed to acquire Ent…',\n",
       "   'url': 'https://www.marketwatch.com/story/hasbro-to-buy-peppa-pig-and-pj-masks-corporate-owner-in-4-billion-deal-2019-08-22',\n",
       "   'urlToImage': 'https://mw3.wsj.net/mw5/content/logos/mw_logo_social.png',\n",
       "   'publishedAt': '2019-08-22T20:41:32Z',\n",
       "   'content': 'Hasbro Inc. \\r\\nHAS, -1.00%\\r\\nplans to purchase an entertainment company that holds the rights to children\\'s entertainment properties \"Peppa Pig\" and \"Pj Masks\" in a deal that values the company at roughly $4 billion. Hasbro said Thursday afternoon it has agreed… [+1393 chars]'},\n",
       "  {'source': {'id': None, 'name': 'Marketwatch.com'},\n",
       "   'author': 'Greg Robb',\n",
       "   'title': 'Fed’s Kaplan is open to possibility of more interest-rate cuts',\n",
       "   'description': 'Dallas Fed President Robert Kaplan said Thursday he is at least open to the possibility of more interest rate cuts in coming months.',\n",
       "   'url': 'https://www.marketwatch.com/story/feds-kaplan-is-open-to-possibility-of-more-interest-rate-cuts-2019-08-22',\n",
       "   'urlToImage': 'http://s.marketwatch.com/public/resources/MWimages/MW-HG638_kaplan_ZG_20190329083449.jpg',\n",
       "   'publishedAt': '2019-08-22T20:32:42Z',\n",
       "   'content': 'Dallas Fed President Robert Kaplan stressed that risk management is a key consideration for him going forward.\\r\\nDallas Fed President Robert Kaplan said Thursday he was open-minded about the possibility of more interest-rate cuts in coming months, as a way to … [+1462 chars]'},\n",
       "  {'source': {'id': None, 'name': 'Marketwatch.com'},\n",
       "   'author': 'Claudia Assis',\n",
       "   'title': \"Gap stock falls after company's Q2 same-store sales fall\",\n",
       "   'description': 'Shares of Gap Inc. fell 7% in the extended session Thursday after the retailer reported adjusted profit above expectations but same-store sales disappointed. Gap said it earned $168 million, or 44 cents a share, in the quarter, compared with $297 million, or …',\n",
       "   'url': 'https://www.marketwatch.com/story/gap-stock-falls-after-companys-q2-same-store-sales-fall-2019-08-22',\n",
       "   'urlToImage': 'https://mw3.wsj.net/mw5/content/logos/mw_logo_social.png',\n",
       "   'publishedAt': '2019-08-22T20:32:18Z',\n",
       "   'content': 'Shares of Gap Inc. \\r\\nGPS, +4.66%\\r\\nfell 7% in the extended session Thursday after the retailer reported adjusted profit above expectations but same-store sales disappointed. Gap said it earned $168 million, or 44 cents a share, in the quarter, compared with $2… [+943 chars]'},\n",
       "  {'source': {'id': None, 'name': 'Marketwatch.com'},\n",
       "   'author': 'Jeremy C. Owens',\n",
       "   'title': 'VMware to acquire Carbon Black and Pivotal Software',\n",
       "   'description': 'VMware Inc. announced two blockbuster acquisitions of public companies Thursday afternoon, one of which was expected. VMware will acquire corporate sibling...',\n",
       "   'url': 'https://www.marketwatch.com/story/vmware-to-acquire-carbon-black-pivotal-software-2019-08-22',\n",
       "   'urlToImage': 'https://mw3.wsj.net/mw5/content/logos/mw_logo_social.png',\n",
       "   'publishedAt': '2019-08-22T20:29:14Z',\n",
       "   'content': 'VMware Inc. \\r\\nVMW, +0.04%\\r\\nannounced two blockbuster acquisitions of public companies Thursday afternoon, one of which was expected. VMware will acquire corporate sibling Pivotal Software Inc. \\r\\nPVTL, +0.22%,\\r\\nas expected after filings last week involving bot… [+1000 chars]'},\n",
       "  {'source': {'id': None, 'name': 'Marketwatch.com'},\n",
       "   'author': 'Wallace Witkowski',\n",
       "   'title': 'Earnings Results: Salesforce stock surges as results, outlook top Street estimates',\n",
       "   'description': 'Salesforce.com Inc. shares rally in the extended session Thursday after the customer-relationship management software company’s quarterly results and outlook top Wall Street estimates.',\n",
       "   'url': 'https://www.marketwatch.com/story/salesforce-stock-surges-as-results-outlook-top-street-estimates-2019-08-22',\n",
       "   'urlToImage': 'http://s.marketwatch.com/public/resources/MWimages/MW-HL154_salesf_ZG_20190610210731.jpg',\n",
       "   'publishedAt': '2019-08-22T20:22:28Z',\n",
       "   'content': 'Salesforce.com Inc. shares rallied in the extended session Thursday after the customer-relationship management software companys quarterly results and outlook topped Wall Street estimates. \\r\\nSalesforce \\r\\nCRM, +0.58%\\r\\nshares surged 7% after hours, following a … [+1549 chars]'},\n",
       "  {'source': {'id': None, 'name': 'Marketwatch.com'},\n",
       "   'author': 'Jon Swartz',\n",
       "   'title': 'HP Inc. announces new CEO, shares fall 5%',\n",
       "   'description': \"Hewlett Packard Inc. shares fell 5% in the extended session Thursday after the PC and printer maker announced a new CEO and third-quarter results. Enrique Lores, who serves as president of HP's $20 billion Imaging, Printing and Solutions business, will succee…\",\n",
       "   'url': 'https://www.marketwatch.com/story/hp-inc-announces-new-ceo-shares-fall-5-2019-08-22',\n",
       "   'urlToImage': 'https://mw3.wsj.net/mw5/content/logos/mw_logo_social.png',\n",
       "   'publishedAt': '2019-08-22T20:15:04Z',\n",
       "   'content': \"HP Inc. \\r\\nHPQ, -0.16%\\r\\nshares fell 5% in the extended session Thursday after the PC and printer maker announced a new CEO and third-quarter results. Enrique Lores, who serves as president of HP's $20 billion Imaging, Printing and Solutions business, will succ… [+417 chars]\"},\n",
       "  {'source': {'id': None, 'name': 'Marketwatch.com'},\n",
       "   'author': 'Robert Schroeder',\n",
       "   'title': 'Trump leans on Fed anew as officials gather in Jackson Hole',\n",
       "   'description': 'President Donald Trump kept up his pressure on the Federal Reserve over monetary policy on Thursday, as officials gathered for the central bank’s symposium in Jackson Hole.',\n",
       "   'url': 'https://www.marketwatch.com/story/trump-leans-on-fed-anew-as-officials-gather-in-jackson-hole-2019-08-22',\n",
       "   'urlToImage': 'http://s.marketwatch.com/public/resources/MWimages/MW-HO963_trump__ZG_20190807103814.jpg',\n",
       "   'publishedAt': '2019-08-22T20:08:54Z',\n",
       "   'content': 'President Donald Trump \\r\\nPresident Donald Trump kept up his pressure on the Federal Reserve over monetary policy on Thursday, as officials gathered for the central banks symposium in Jackson Hole, Wyoming. \\r\\nFED TWEETS\\r\\nWith little on his public schedule, Tru… [+1180 chars]'}]}"
      ]
     },
     "execution_count": 99,
     "metadata": {},
     "output_type": "execute_result"
    }
   ],
   "source": [
    "url = 'https://newsapi.org/v2/everything?domains=marketwatch.com&language=en&apiKey=bfb917bca91c435d9c7efd247d95227b&pageSize=100'\n",
    "resp = requests.get(url)\n",
    "resp.json()"
   ]
  },
  {
   "cell_type": "code",
   "execution_count": 73,
   "metadata": {},
   "outputs": [
    {
     "data": {
      "text/plain": [
       "{'status': 'ok',\n",
       " 'totalResults': 5169,\n",
       " 'articles': [{'source': {'id': 'cnn', 'name': 'CNN'},\n",
       "   'author': 'Alisha Ebrahimji, CNN',\n",
       "   'title': \"Barack Obama just tweeted his summer 2019 playlist. And yes, 'Old Town Road' made the cut\",\n",
       "   'description': \"What do Lil Nas X, Steely Dan and Lizzo have in common? They're all high up on former President Barack Obama's summer 2019 playlist.\",\n",
       "   'url': 'https://www.cnn.com/2019/08/24/entertainment/obama-summer-playlist-trnd/index.html',\n",
       "   'urlToImage': 'https://cdn.cnn.com/cnnnext/dam/assets/190824135505-obama-summer-playlist-2019-super-tease.jpg',\n",
       "   'publishedAt': '2019-08-24T18:12:43Z',\n",
       "   'content': \"With summer winding down, here's a sampling of what Michelle and I have been listening to some new, some old, some fast, some slow. Hope you enjoy. pic.twitter.com/BS5ri1lvxz\\r\\n— Barack Obama (@BarackObama) August 24, 2019\"},\n",
       "  {'source': {'id': 'cnn', 'name': 'CNN'},\n",
       "   'author': 'Alaa Elassar, CNN',\n",
       "   'title': 'Florida golfer ignores scary alligator strolling next to him',\n",
       "   'description': 'In Florida, golfers play by a different set of rules. And one of them may or may not include ignoring alligators. Professional wakeboarder Steel Lafferty was playing golf at the ChampionsGate Country Club in Orlando on Wednesday  afternoon when he had his own…',\n",
       "   'url': 'https://www.cnn.com/2019/08/24/us/golfer-ignores-alligator-in-central-florida-trnd/index.html',\n",
       "   'urlToImage': 'https://cdn.cnn.com/cnnnext/dam/assets/190824135330-golfer-ignores-alligator-in-central-florida-trnd-super-tease.jpg',\n",
       "   'publishedAt': '2019-08-24T18:01:38Z',\n",
       "   'content': '(CNN)In Florida, golfers play by a different set of rules. And one of the rules may or may not include ignoring giant, scaryalligators.\\r\\nProfessional wakeboarder Steel Lafferty was playing golf at the ChampionsGate Country Club in Orlando on Wednesday afterno… [+951 chars]'},\n",
       "  {'source': {'id': 'cnn', 'name': 'CNN'},\n",
       "   'author': 'Opinion by Leila Salazar-Lopez and Lindsey Allen',\n",
       "   'title': \"There's a global emergency in the Amazon. Here's what we can do\",\n",
       "   'description': 'The corporations and financial institutions that back the businesses Bolsonaro beckons drive this deforestation and destruction, and will generate tremendous short-term profits at the expense of the Amazon, write Leila Salazar-Lopez and Lindsey Allen.',\n",
       "   'url': 'https://www.cnn.com/2019/08/24/opinions/global-emergency-in-the-amazon-salazar-lopez-allen/index.html',\n",
       "   'urlToImage': 'https://cdn.cnn.com/cnnnext/dam/assets/190823180238-02-amazon-fire-0823-super-tease.jpg',\n",
       "   'publishedAt': '2019-08-24T17:49:53Z',\n",
       "   'content': 'Leila Salazar-López is the executive director of Amazon Watch. Lindsey Allen is the executive director of the Rainforest Action Network. The views expressed in this commentary belong to the authors. View more opinion at CNN. \\r\\n (CNN)Called \"the lungs of the E… [+5855 chars]'},\n",
       "  {'source': {'id': 'cnn', 'name': 'CNN'},\n",
       "   'author': 'Kendall Trammell, CNN',\n",
       "   'title': \"US men's basketball team loses its first game in nearly 13 years to Australia\",\n",
       "   'description': \"For more than a decade, the United States maintained its dominance in international men's basketball. All of that changed Saturday, when Team USA lost its first game since 2006 to Australia.\",\n",
       "   'url': 'https://www.cnn.com/2019/08/24/us/usa-mens-basketball-australia-loss-trnd/index.html',\n",
       "   'urlToImage': 'https://cdn.cnn.com/cnnnext/dam/assets/190824123507-02-usa-aus-basketball-0824-super-tease.jpg',\n",
       "   'publishedAt': '2019-08-24T17:29:05Z',\n",
       "   'content': \"(CNN)For more than a decade, the United States maintained its dominance in international men's basketball. All of that changed Saturday, when Team USA lost its first game since 2006 to Australia.\\r\\nThe Boomers, ranked 11th by the International Basketball Feder… [+977 chars]\"},\n",
       "  {'source': {'id': 'cnn', 'name': 'CNN'},\n",
       "   'author': 'Scottie Andrew, CNN',\n",
       "   'title': \"Planning a Labor Day getaway? Here's what you need to know about the weather next weekend\",\n",
       "   'description': \"Sure, Labor Day's official job is to honor anyone in the workforce, but it's also America's sayonara to summer. And for everyone who sweatily slogged through July, the hottest month on Earth on record, it can't come soon enough.\",\n",
       "   'url': 'https://www.cnn.com/2019/08/24/us/labor-day-weekend-weather-trnd/index.html',\n",
       "   'urlToImage': 'https://cdn.cnn.com/cnnnext/dam/assets/160902122726-labor-day-beach-file-super-tease.jpg',\n",
       "   'publishedAt': '2019-08-24T17:13:48Z',\n",
       "   'content': \"(CNN)Sure, Labor Day's official job is to honor anyone in the workforce, but it's also America's sayonara to summer. And for everyone who sweatily slogged through July, the hottest month on Earth on record, it can't come soon enough. \\r\\nEven though Labor Day i… [+2343 chars]\"},\n",
       "  {'source': {'id': 'cnn', 'name': 'CNN'},\n",
       "   'author': 'Scottie Andrew, CNN',\n",
       "   'title': \"Planning a Labor Day getaway? Here's what you need to know about the weather next weekend\",\n",
       "   'description': \"Sure, Labor Day's official job is to honor anyone in the workforce, but it's also America's sayonara to summer. And for everyone who sweatily slogged through July, the hottest month on Earth on record, it can't come soon enough.\",\n",
       "   'url': 'https://www.cnn.com/2019/08/24/us/labor-day-weekend-weather-trnd/index.html',\n",
       "   'urlToImage': 'https://cdn.cnn.com/cnnnext/dam/assets/160902122726-labor-day-beach-file-super-tease.jpg',\n",
       "   'publishedAt': '2019-08-24T17:13:48Z',\n",
       "   'content': \"(CNN)Sure, Labor Day's official job is to honor anyone in the workforce, but it's also America's sayonara to summer. And for everyone who sweatily slogged through July, the hottest month on Earth on record, it can't come soon enough. \\r\\nEven though Labor Day i… [+2343 chars]\"},\n",
       "  {'source': {'id': 'cnn', 'name': 'CNN'},\n",
       "   'author': 'Ray Sanchez and Shawn Nottingham, CNN',\n",
       "   'title': '6-month-old girl in critical condition after Texas border crossing',\n",
       "   'description': 'A 6-month-old girl was in critical condition after crossing the US-Mexico border with her father in the Rio Grande Valley in Texas, US Customs and Border Protection said Saturday.',\n",
       "   'url': 'https://www.cnn.com/2019/08/24/us/texas-border-migrant-baby-critical/index.html',\n",
       "   'urlToImage': 'https://cdn.cnn.com/cnnnext/dam/assets/190710161255-us-cbp-patch-super-tease.jpg',\n",
       "   'publishedAt': '2019-08-24T16:44:15Z',\n",
       "   'content': None},\n",
       "  {'source': {'id': 'cnn', 'name': 'CNN'},\n",
       "   'author': 'Alaa Elassar, CNN',\n",
       "   'title': 'Jonas Brothers concert cuts short',\n",
       "   'description': 'The Jonas Brothers had to end their concert early in Toronto on Friday after \"an unforeseen technical difficulty\". Fans flocked to Twitter in confusion as thousands were left standing in the arena after the Jonas Brothers left the stage.',\n",
       "   'url': 'https://www.cnn.com/2019/08/24/entertainment/jonas-brothers-concert-cut-short-trnd/index.html',\n",
       "   'urlToImage': 'https://cdn.cnn.com/cnnnext/dam/assets/190824104853-01-jonas-brothers-toronto-0823-super-tease.jpg',\n",
       "   'publishedAt': '2019-08-24T16:42:32Z',\n",
       "   'content': None},\n",
       "  {'source': {'id': 'cnn', 'name': 'CNN'},\n",
       "   'author': 'Alaa Elassar, CNN',\n",
       "   'title': 'Jonas Brothers concert cuts short, leaving Toronto fans confused',\n",
       "   'description': 'The Jonas Brothers had to end their concert early in Toronto on Friday after \"an unforeseen technical difficulty\". Fans flocked to Twitter in confusion as thousands were left standing in the arena after the Jonas Brothers left the stage.',\n",
       "   'url': 'https://www.cnn.com/2019/08/24/entertainment/jonas-brothers-concert-cut-short-trnd/index.html',\n",
       "   'urlToImage': 'https://cdn.cnn.com/cnnnext/dam/assets/190824104853-01-jonas-brothers-toronto-0823-super-tease.jpg',\n",
       "   'publishedAt': '2019-08-24T16:42:32Z',\n",
       "   'content': None},\n",
       "  {'source': {'id': 'cnn', 'name': 'CNN'},\n",
       "   'author': 'Kendall Trammell, CNN',\n",
       "   'title': \"Google commemorates the 80th anniversary of 'The Wizard of Oz' with a head-spinning surprise\",\n",
       "   'description': 'If you open up a Google window and search \"The Wizard of Oz,\" the results page may seem pretty average.',\n",
       "   'url': 'https://www.cnn.com/2019/08/24/entertainment/the-wizard-of-oz-google-80th-anniversary-trnd/index.html',\n",
       "   'urlToImage': 'https://cdn.cnn.com/cnnnext/dam/assets/180903173206-wizard-of-oz-movie-still-super-tease.jpg',\n",
       "   'publishedAt': '2019-08-24T16:29:33Z',\n",
       "   'content': '(CNN)If you open up a Google window and search \"The Wizard of Oz,\" the results page may seem pretty average.\\r\\nThat is until you click on the ruby slippers, appearing next to the movie\\'s name.\\r\\nVoila! You\\'ve been whirl-winded back in time to a search results p… [+870 chars]'},\n",
       "  {'source': {'id': 'cnn', 'name': 'CNN'},\n",
       "   'author': 'Amy Woodyatt, CNN',\n",
       "   'title': 'Thousands gather at G7 protests',\n",
       "   'description': 'Thousands of protesters marched at G7 protests near the French coastal resort of Biarritz to demand action from world leaders.',\n",
       "   'url': 'https://www.cnn.com/2019/08/24/europe/g7-protests-intl/index.html',\n",
       "   'urlToImage': 'https://cdn.cnn.com/cnnnext/dam/assets/190824105121-01-biarritz-protests-0824-super-tease.jpg',\n",
       "   'publishedAt': '2019-08-24T16:28:17Z',\n",
       "   'content': '(CNN)Thousands of protesters marched at G7 protests near the French coastal resort of Biarritz to demand action from world leaders.\\r\\nProtesters descended on the town of Hendaye -- on the French border with Spain -- to protest against economic and climate poli… [+1655 chars]'},\n",
       "  {'source': {'id': 'cnn', 'name': 'CNN'},\n",
       "   'author': 'Veronica Stracqualursi, CNN',\n",
       "   'title': \"Trump claims he has 'absolute right' to order US companies out of China under 1977 law\",\n",
       "   'description': 'President Donald Trump claimed he has the \"absolute right\" to \"order\" US companies to stop doing business with China that would involve using his broad executive authority in a new and unprecedented way under a 1977 law.',\n",
       "   'url': 'https://www.cnn.com/2019/08/24/politics/trump-china-trade-war-emergency-economic-powers-act/index.html',\n",
       "   'urlToImage': 'https://cdn.cnn.com/cnnnext/dam/assets/190824074956-01-trump-g7-france-0824-super-tease.jpg',\n",
       "   'publishedAt': '2019-08-24T15:50:40Z',\n",
       "   'content': 'Washington (CNN)President Donald Trump claimed he has the \"absolute right\" to \"order\" US companies to stop doing business with China that would involve using his broad executive authority in a new and unprecedented way under a 1977 law. \\r\\nOn Friday, China unv… [+3724 chars]'},\n",
       "  {'source': {'id': 'cnn', 'name': 'CNN'},\n",
       "   'author': 'Jay Croft, CNN',\n",
       "   'title': 'California police report death of K9 in patrol car apparently due to heat',\n",
       "   'description': 'Police in Long Beach, California, are mourning a K9 officer that died apparently of heat-related causes in a department vehicle.',\n",
       "   'url': 'https://www.cnn.com/2019/08/24/us/police-dog-k9-dead-heat/index.html',\n",
       "   'urlToImage': 'https://cdn.cnn.com/cnnnext/dam/assets/190824101821-long-beach-police-dog-dead-super-tease.jpg',\n",
       "   'publishedAt': '2019-08-24T15:38:08Z',\n",
       "   'content': '(CNN)Police in Long Beach, California, are mourning a K9 officer that died apparently of heat-related causes in a department vehicle.\\r\\nThe dog, Ozzy, was found by its handler when both were off-duty about 3:40 p.m. on August 14, the Long Beach Police Departme… [+1267 chars]'},\n",
       "  {'source': {'id': 'cnn', 'name': 'CNN'},\n",
       "   'author': None,\n",
       "   'title': 'Why Elizabeth Warren overrode her adviser on this issue',\n",
       "   'description': \"2020 presidential candidate Sen. Elizabeth Warren (D-MA) tells CNN's David Axelrod why the selfie line is an important part of her campaign events.\",\n",
       "   'url': 'https://www.cnn.com/videos/politics/2019/08/24/elizabeth-warren-selfie-lines-axefiles-sot-vpx.cnn',\n",
       "   'urlToImage': 'https://cdn.cnn.com/cnnnext/dam/assets/190824112847-elizabeth-warren-selfie-lines-axefiles-sot-vpx-00000000-super-tease.jpg',\n",
       "   'publishedAt': '2019-08-24T15:37:55Z',\n",
       "   'content': \"Chat with us in Facebook Messenger. Find out what's happening in the world as it unfolds.\"},\n",
       "  {'source': {'id': 'cnn', 'name': 'CNN'},\n",
       "   'author': 'Jason Hanna and Melissa Alonso, CNN',\n",
       "   'title': 'An 8-year-old girl was shot dead in St. Louis near a high school event',\n",
       "   'description': 'An 8-year-old girl was killed and three other people were injured in a shooting near a preseason high school football event Friday night in St. Louis, and investigators are looking for whoever fired the shots, police said.',\n",
       "   'url': 'https://www.cnn.com/2019/08/24/us/st-louis-shooting-girl-killed/index.html',\n",
       "   'urlToImage': 'https://cdn.cnn.com/cnnnext/dam/assets/190824105636-01-st-louis-8-year-old-killed-super-tease.jpg',\n",
       "   'publishedAt': '2019-08-24T15:30:43Z',\n",
       "   'content': None},\n",
       "  {'source': {'id': 'cnn', 'name': 'CNN'},\n",
       "   'author': None,\n",
       "   'title': 'Trump lunches with Macron amid tension on tariffs',\n",
       "   'description': \"President Trump's first stop during the G7 summit in France was lunch with his host, French President Emmanuel Macron.\",\n",
       "   'url': 'https://www.cnn.com/videos/intl_business/2019/08/24/trump-g7-france-vpx.cnn',\n",
       "   'urlToImage': 'https://cdn.cnn.com/cnnnext/dam/assets/190824085847-02-trump-g7-france-0824-super-tease.jpg',\n",
       "   'publishedAt': '2019-08-24T15:23:33Z',\n",
       "   'content': \"Chat with us in Facebook Messenger. Find out what's happening in the world as it unfolds.\"},\n",
       "  {'source': {'id': 'cnn', 'name': 'CNN'},\n",
       "   'author': 'Sarah Holt, for CNN',\n",
       "   'title': 'Chelsea young guns Abraham and Mount fire Lampard to first win as boss',\n",
       "   'description': \"Frank Lampard's faith in his young players pays off as Tammy Abraham and Mason Mount earn the Blues' legend his first win as head coach.\",\n",
       "   'url': 'https://edition.cnn.com/2019/08/24/football/spt-intl-chelsea-young-guns-fire-lampard-to-first-win/index.html',\n",
       "   'urlToImage': 'https://cdn.cnn.com/cnnnext/dam/assets/190824152839-frank-lampard-tammy-abraham-super-tease.jpg',\n",
       "   'publishedAt': '2019-08-24T15:21:29Z',\n",
       "   'content': None},\n",
       "  {'source': {'id': 'cnn', 'name': 'CNN'},\n",
       "   'author': 'Shannon Liao, CNN Business',\n",
       "   'title': 'British Airways pilots will strike for three days',\n",
       "   'description': 'British Airways pilots will strike in September for three days over a pay dispute, the first pilot walkout in about four decades.',\n",
       "   'url': 'https://www.cnn.com/2019/08/24/business/british-airways-pilots-strike-september/index.html',\n",
       "   'urlToImage': 'https://cdn.cnn.com/cnnnext/dam/assets/190824100523-01-british-airways-file-super-tease.jpg',\n",
       "   'publishedAt': '2019-08-24T15:21:10Z',\n",
       "   'content': None},\n",
       "  {'source': {'id': 'cnn', 'name': 'CNN'},\n",
       "   'author': 'Yassir Abdalla and Nada AlTaher, CNN',\n",
       "   'title': 'Former president looks for a get-out-of-jail pass',\n",
       "   'description': 'Deposed Sudanese president Omar al-Bashir is hoping to be released from jail on bail while he awaits his fate in a corruption trial that has captivated the country.',\n",
       "   'url': 'https://www.cnn.com/2019/08/24/africa/omar-al-bashir-trial-bail-intl/index.html',\n",
       "   'urlToImage': 'https://cdn.cnn.com/cnnnext/dam/assets/190411004507-file-omar-albashir-03-super-tease.jpg',\n",
       "   'publishedAt': '2019-08-24T14:52:12Z',\n",
       "   'content': None},\n",
       "  {'source': {'id': 'cnn', 'name': 'CNN'},\n",
       "   'author': 'Opinion by Raul Reyes',\n",
       "   'title': \"Opinion: Trump's chilling plan punishes children\",\n",
       "   'description': \"When all else fails, lock up children. That's the message from the Trump administration, which on Wednesday announced a regulation allowing it to indefinitely detain migrant families who arrive at our southern border. The new rule would replace a court agreem…\",\n",
       "   'url': 'https://www.cnn.com/2019/08/24/opinions/trump-immigration-detain-migrant-families-indefinitely-reyes/index.html',\n",
       "   'urlToImage': 'https://cdn.cnn.com/cnnnext/dam/assets/190823131237-01-ice-family-center-dilley-file-super-tease.jpg',\n",
       "   'publishedAt': '2019-08-24T14:51:38Z',\n",
       "   'content': 'Raul A. Reyes is an attorney and a member of the USA Today board of contributors. Follow him on Twitter @RaulAReyes. The opinions expressed in this commentary are solely those of the author. View more opinions on CNN.\\r\\n (CNN)When all else fails, lock up child… [+4928 chars]'}]}"
      ]
     },
     "execution_count": 73,
     "metadata": {},
     "output_type": "execute_result"
    }
   ],
   "source": [
    "# url = 'https://newsapi.org/v2/top-headlines?sources=google-news&apiKey=bfb917bca91c435d9c7efd247d95227b'\n",
    "url = 'https://newsapi.org/v2/everything?language=en&sources=cnn&apiKey=bfb917bca91c435d9c7efd247d95227b'\n",
    "resp = requests.get(url)\n",
    "resp.json()"
   ]
  },
  {
   "cell_type": "code",
   "execution_count": 66,
   "metadata": {},
   "outputs": [
    {
     "data": {
      "text/plain": [
       "Timestamp('2019-08-24 15:50:40+0000', tz='UTC')"
      ]
     },
     "execution_count": 66,
     "metadata": {},
     "output_type": "execute_result"
    }
   ],
   "source": [
    "pd.Timestamp('2019-08-24T15:50:40Z')"
   ]
  },
  {
   "cell_type": "code",
   "execution_count": 87,
   "metadata": {},
   "outputs": [
    {
     "ename": "ModuleNotFoundError",
     "evalue": "No module named 'newsapi'",
     "output_type": "error",
     "traceback": [
      "\u001b[1;31m---------------------------------------------------------------------------\u001b[0m",
      "\u001b[1;31mModuleNotFoundError\u001b[0m                       Traceback (most recent call last)",
      "\u001b[1;32m<ipython-input-87-bc24f0a70ccc>\u001b[0m in \u001b[0;36m<module>\u001b[1;34m\u001b[0m\n\u001b[1;32m----> 1\u001b[1;33m \u001b[1;32mfrom\u001b[0m \u001b[0mnewsapi\u001b[0m \u001b[1;32mimport\u001b[0m \u001b[0mNewsApiClient\u001b[0m\u001b[1;33m\u001b[0m\u001b[1;33m\u001b[0m\u001b[0m\n\u001b[0m\u001b[0;32m      2\u001b[0m \u001b[1;33m\u001b[0m\u001b[0m\n\u001b[0;32m      3\u001b[0m \u001b[1;31m# Init\u001b[0m\u001b[1;33m\u001b[0m\u001b[1;33m\u001b[0m\u001b[1;33m\u001b[0m\u001b[0m\n\u001b[0;32m      4\u001b[0m \u001b[0mnewsapi\u001b[0m \u001b[1;33m=\u001b[0m \u001b[0mNewsApiClient\u001b[0m\u001b[1;33m(\u001b[0m\u001b[0mapi_key\u001b[0m\u001b[1;33m=\u001b[0m\u001b[1;34m'bfb917bca91c435d9c7efd247d95227b'\u001b[0m\u001b[1;33m)\u001b[0m\u001b[1;33m\u001b[0m\u001b[1;33m\u001b[0m\u001b[0m\n\u001b[0;32m      5\u001b[0m \u001b[1;33m\u001b[0m\u001b[0m\n",
      "\u001b[1;31mModuleNotFoundError\u001b[0m: No module named 'newsapi'"
     ]
    }
   ],
   "source": [
    "from newsapi import NewsApiClient\n",
    "\n",
    "# Init\n",
    "newsapi = NewsApiClient(api_key='bfb917bca91c435d9c7efd247d95227b')\n",
    "\n",
    "# /v2/top-headlines\n",
    "top_headlines = newsapi.get_top_headlines(q='Google tells workers to cool it on politics at work')"
   ]
  },
  {
   "cell_type": "code",
   "execution_count": 116,
   "metadata": {
    "collapsed": true
   },
   "outputs": [
    {
     "data": {
      "text/plain": [
       "['ABC News',\n",
       " 'ABC News (AU)',\n",
       " 'Aftenposten',\n",
       " 'Al Jazeera English',\n",
       " 'ANSA.it',\n",
       " 'Argaam',\n",
       " 'Ars Technica',\n",
       " 'Ary News',\n",
       " 'Associated Press',\n",
       " 'Australian Financial Review',\n",
       " 'Axios',\n",
       " 'BBC News',\n",
       " 'BBC Sport',\n",
       " 'Bild',\n",
       " 'Blasting News (BR)',\n",
       " 'Bleacher Report',\n",
       " 'Bloomberg',\n",
       " 'Breitbart News',\n",
       " 'Business Insider',\n",
       " 'Business Insider (UK)',\n",
       " 'Buzzfeed',\n",
       " 'CBC News',\n",
       " 'CBS News',\n",
       " 'CNBC',\n",
       " 'CNN',\n",
       " 'CNN Spanish',\n",
       " 'Crypto Coins News',\n",
       " 'Daily Mail',\n",
       " 'Der Tagesspiegel',\n",
       " 'Die Zeit',\n",
       " 'El Mundo',\n",
       " 'Engadget',\n",
       " 'Entertainment Weekly',\n",
       " 'ESPN',\n",
       " 'ESPN Cric Info',\n",
       " 'Financial Post',\n",
       " 'Focus',\n",
       " 'Football Italia',\n",
       " 'Fortune',\n",
       " 'FourFourTwo',\n",
       " 'Fox News',\n",
       " 'Fox Sports',\n",
       " 'Globo',\n",
       " 'Google News',\n",
       " 'Google News (Argentina)',\n",
       " 'Google News (Australia)',\n",
       " 'Google News (Brasil)',\n",
       " 'Google News (Canada)',\n",
       " 'Google News (France)',\n",
       " 'Google News (India)',\n",
       " 'Google News (Israel)',\n",
       " 'Google News (Italy)',\n",
       " 'Google News (Russia)',\n",
       " 'Google News (Saudi Arabia)',\n",
       " 'Google News (UK)',\n",
       " 'Göteborgs-Posten',\n",
       " 'Gruenderszene',\n",
       " 'Hacker News',\n",
       " 'Handelsblatt',\n",
       " 'IGN',\n",
       " 'Il Sole 24 Ore',\n",
       " 'Independent',\n",
       " 'Infobae',\n",
       " 'InfoMoney',\n",
       " 'La Gaceta',\n",
       " 'La Nacion',\n",
       " 'La Repubblica',\n",
       " 'Le Monde',\n",
       " 'Lenta',\n",
       " \"L'equipe\",\n",
       " 'Les Echos',\n",
       " 'Libération',\n",
       " 'Marca',\n",
       " 'Mashable',\n",
       " 'Medical News Today',\n",
       " 'Metro',\n",
       " 'Mirror',\n",
       " 'MSNBC',\n",
       " 'MTV News',\n",
       " 'MTV News (UK)',\n",
       " 'National Geographic',\n",
       " 'National Review',\n",
       " 'NBC News',\n",
       " 'News24',\n",
       " 'New Scientist',\n",
       " 'News.com.au',\n",
       " 'Newsweek',\n",
       " 'New York Magazine',\n",
       " 'Next Big Future',\n",
       " 'NFL News',\n",
       " 'NHL News',\n",
       " 'NRK',\n",
       " 'Politico',\n",
       " 'Polygon',\n",
       " 'RBC',\n",
       " 'Recode',\n",
       " 'Reddit /r/all',\n",
       " 'Reuters',\n",
       " 'RT',\n",
       " 'RTE',\n",
       " 'RTL Nieuws',\n",
       " 'SABQ',\n",
       " 'Spiegel Online',\n",
       " 'Svenska Dagbladet',\n",
       " 'T3n',\n",
       " 'TalkSport',\n",
       " 'TechCrunch',\n",
       " 'TechCrunch (CN)',\n",
       " 'TechRadar',\n",
       " 'The American Conservative',\n",
       " 'The Economist',\n",
       " 'The Globe And Mail',\n",
       " 'The Hill',\n",
       " 'The Hindu',\n",
       " 'The Huffington Post',\n",
       " 'The Irish Times',\n",
       " 'The Jerusalem Post',\n",
       " 'The Lad Bible',\n",
       " 'The New York Times',\n",
       " 'The Next Web',\n",
       " 'The Sport Bible',\n",
       " 'The Telegraph',\n",
       " 'The Times of India',\n",
       " 'The Verge',\n",
       " 'The Wall Street Journal',\n",
       " 'The Washington Post',\n",
       " 'The Washington Times',\n",
       " 'Time',\n",
       " 'USA Today',\n",
       " 'Vice News',\n",
       " 'Wired',\n",
       " 'Wired.de',\n",
       " 'Wirtschafts Woche',\n",
       " 'Xinhua Net',\n",
       " 'Ynet']"
      ]
     },
     "execution_count": 116,
     "metadata": {},
     "output_type": "execute_result"
    }
   ],
   "source": [
    "[src['name'] for src in resp.json()['sources']]"
   ]
  },
  {
   "cell_type": "code",
   "execution_count": 45,
   "metadata": {},
   "outputs": [],
   "source": [
    "import feedparser"
   ]
  },
  {
   "cell_type": "code",
   "execution_count": 46,
   "metadata": {},
   "outputs": [],
   "source": [
    "feeds = feedparser.parse('https://feeds.a.dj.com/rss/RSSMarketsMain.xml')"
   ]
  },
  {
   "cell_type": "code",
   "execution_count": 47,
   "metadata": {
    "collapsed": true
   },
   "outputs": [
    {
     "data": {
      "text/plain": [
       "['https://www.wsj.com/articles/stocks-yuan-drop-sharply-as-trade-spat-intensifies-11564981961',\n",
       " 'https://www.wsj.com/articles/chinas-yuan-falls-past-key-level-of-7-to-the-dollar-11564977948',\n",
       " 'https://www.wsj.com/articles/hsbc-to-slash-thousands-of-jobs-after-ceo-ouster-11564990152',\n",
       " 'https://www.wsj.com/articles/beijing-risks-economic-self-harm-by-weaponizing-the-yuan-11564983069',\n",
       " 'https://www.wsj.com/articles/hsbc-ceo-john-flint-is-out-after-18-months-in-role-11564963125',\n",
       " 'https://www.wsj.com/articles/3-ways-grandparents-can-help-pay-for-college-11564971241',\n",
       " 'https://www.wsj.com/articles/the-downside-of-knowing-a-lot-about-your-mutual-fund-11564971181',\n",
       " 'https://www.wsj.com/articles/what-investors-worry-yes-but-u-s-stock-funds-are-up-19-11564971121',\n",
       " 'https://www.wsj.com/articles/as-emerging-markets-recover-heres-what-investors-need-to-know-11564971000',\n",
       " 'https://www.wsj.com/articles/money-is-pouring-in-to-low-volatility-funds-11564970976',\n",
       " 'https://www.wsj.com/articles/why-arent-investors-worried-ask-howard-marks-11564970406',\n",
       " 'https://www.wsj.com/articles/stocks-and-bonds-are-up-at-the-same-time-no-worries-11564970976',\n",
       " 'https://www.wsj.com/articles/some-closed-end-funds-seem-to-have-permanent-premiums-11564970976',\n",
       " 'https://www.wsj.com/articles/reits-show-resilience-11564970743',\n",
       " 'https://www.wsj.com/articles/etfs-dont-rule-gold-after-all-says-one-analysis-11564970690',\n",
       " 'https://www.wsj.com/articles/about-to-retire-check-your-stock-exposurequickly-11564970680',\n",
       " 'https://www.wsj.com/articles/what-does-premium-priced-bonds-mean-11564970580',\n",
       " 'https://www.wsj.com/articles/quran-guided-funds-attract-non-muslims-11564970460',\n",
       " 'https://www.wsj.com/articles/vegans-may-soon-have-an-etf-11564970407',\n",
       " 'https://www.wsj.com/articles/money-rains-on-a-cloud-etf-11564970403']"
      ]
     },
     "execution_count": 47,
     "metadata": {},
     "output_type": "execute_result"
    }
   ],
   "source": [
    "[entry['link'] for entry in feeds['entries']]"
   ]
  },
  {
   "cell_type": "code",
   "execution_count": 78,
   "metadata": {
    "collapsed": true
   },
   "outputs": [
    {
     "data": {
      "text/plain": [
       "\"Mediation between the U.S. Women’s National Soccer team and U.S. Soccer broke down this week, putting into question the future of the team’s fight over equal pay.\\n\\nPlayers with the USWNT sued U.S. Soccer in March, accusing the federation of not compensating or treating them in a manner equivalent to what the men’s team received. Mediation began in New York this week as representatives from both sides met to discuss compensation and treatment—but the efforts came to a seemingly abrupt stop on Wednesday. USWNT spokesperson Molly Levinson said they ended the meetings “sorely disappointed in the federation’s determination to perpetuate fundamentally discriminatory workplace conditions and behavior.”\\n\\nShe added that the ongoing dispute over pay disparity is likely to end up in a trial.\\n\\n“It is clear that USSF, including its Board of Directors and President Carlos Cordeiro, fully intend to continue to compensate women players less than men. They will not succeed,” Levinson said. “We want all of our fans, sponsors, peers around the world, and women everywhere to know we are undaunted and will eagerly look forward to a jury trial.”\\n\\nRepresentatives for U.S. Soccer did not immediately respond to TIME’s request for comment. In a statement to CNN, the organization said, “We have said numerous times that our goal is to find a resolution, and during mediation we had hoped we would be able to address the issues in a respectful manner and reach an agreement.”\\n\\nHere’s what to know about the USWNT’s ongoing fight for equal pay.\\n\\nWhat the U.S. Women’s National Soccer team players want\\n\\nIn a class action lawsuit filed in March and signed by 28 players on the USWNT, the women allege that they are consistently paid less than the players on the men’s team and discriminated against because of their gender, despite a strong performance record.\\n\\nThe lawsuit was part of a years-long battle between the USWNT and U.S. Soccer regarding equal pay and gender equality. In 2016, five of the team’s players filed a complaint over unequal pay and bonuses with the federal Equal Employment Opportunity Commission (EEOC). In 2017, the players signed a new collective-bargaining agreement with the soccer federation and won control over some licensing and marketing rights. But the USWNT says that agreement did not go far enough.\\n\\n“Despite continued discrimination, we do feel like we have made progress toward a more collaborative way of operating. And yet, while we made progress in our compensation terms, we were still unable to achieve equal treatment with the Men’s National Team in the CBA we ratified in April 2017,” they wrote in a letter to the federation Monday ahead of the mediation.\\n\\nNow, following years of frustration between the players and the federation, the USWNT is pointing to their successes and widespread popularity as one factor in the push for equal pay. They’ve won four of eight World Cup titles since the championship games began in 1991 and four Olympic gold medals since the first women’s soccer tournament in 1996.\\n\\nIn their letter to U.S. Soccer, the women’s team pointed to their “remarkable” success during the 2019 World Cup. “We witnessed higher revenue numbers, higher ratings, more fans, more enthusiasm,” the players wrote. “The tired, arcane, irrelevant arguments and protestations of the male-dominated soccer world fell apart during those weeks.”\\n\\nThey added: “For both parties, the risk of not resolving our disagreements over equal treatment that were not addressed either in bargaining or through the EEOC is too high.”\\n\\nMegan Rapinoe of the USA lifts the FIFA Women's World Cup Trophy following her team's victory in the 2019 FIFA Women's World Cup France Final match between The United States of America and The Netherlands at Stade de Lyon on July 07, 2019 in Lyon, France. Alex Grimm—Getty Images\\n\\nWhat U.S. Soccer has said\\n\\nIn an open letter issued after the lawsuit was filed, the U.S. Soccer said it surprised by the complaint and that it had increased its investment in the women’s team in recent years.\\n\\nU.S. Soccer denied the women players’ claims in a court filing in May, saying the gap in pay stems from “differences in aggregate revenue generated by the different teams and/or any other factor other than sex,” arguing that the men’s and women’s teams are “physically and functionally separate organizations,” the Washington Post reported in July.\\n\\nAfter the World Cup, U.S. Soccer hired two lobbying firms in Washington D.C. to deny the claims of unequal pay in front of Congress, which sought to require the federation to pay both teams equally, according to a Politico report. While the U.S. government does not fund U.S. Soccer, the USWNT’s fight over equal pay has attracted attention from lawmakers. More than 50 members of Congress sent a letter to U.S. Soccer decrying the unequal treatment alleged by the USWNT. West Virginia Sen. Joe Manchin tied the equal pay issue into a bill he introduced that would withhold federal funding for the men’s 2026 World Cup, which will be held in the U.S., Mexico and Canada, until the pay dispute was resolved.\\n\\nU.S. Soccer’s move to hire lobbyists was criticized by both the mens and women’s teams.\\n\\nAt the end of July, U.S. Soccer president Carlos Cordeiro argued that the women’s team has actually been paid more than the men’s team, saying that the federation paid the USWNT $34.1 million in salaries and game bonuses, while the men received $26.4 million. The figures, compiled by U.S. Soccer and based on an analysis by the federation’s staff, did not include the benefits, such as health care and a 401(k), that female players get. (Men are not provided the same benefits, according to the federation). U.S. Soccer’s numbers also included National Women’s Soccer League salaries that U.S. Soccer pays, which were negotiated in the 2017 CBA. (The federation does not pay Major League Soccer salaries).\\n\\nHow women players are compensated compared to the men\\n\\nThis is where things get very complicated. While the issue of establishing equal pay between the two teams seems like a matter of adjusting some numbers, the collective bargaining agreements for the men and women players detail differing pay structures.\\n\\nGabe Feldman, a sports law professor at Tulane University, tells TIME it’s not that unusual that the mediation attempt ended unsuccessfully. “Many equal pay cases are complicated and are difficult issues to prove,” he says. “In many cases, the fight is over whether the jobs are similar, not over the level of pay. In this case, both questions are difficult: Are the jobs similar and is the pay equal? Are there factors other than gender leading to pay difference?”\\n\\nMaking a direct comparison between how much the men earned versus the women is difficult because of the different contracts signed by men and women players and other factors that come into play, according to Feldman. Among other things, players factor in the number of games they play, which tournaments they play in, the popularity of soccer in general and the money they make outside of soccer through sponsorships or other work to determine what they think is a fair amount to make, he says.\\n\\nWomen players under contract earn a base salary of $100,000 and can earn some bonuses based on game performance. Players on the men’s team only earn bonuses.\\n\\nIn the USWNT’s lawsuit, compensation models showed that if both teams won 20 games in a row, women would make 38% less than their male counterparts. That calculation was based on the women’s team’s prior collective bargaining agreement, which expired in December 2016. The Washington Post, which ran the numbers based on the new collective bargaining agreement that became effective in April 2017, found that if the women’s team won 20 games in a row, a player would earn $28,333 less, or about 89% of what a male player would make.\\n\\nThe Post noted that were both teams to lose all 20 games, they would make the same amount because the men receive a $5,000 bonus for losing and the women have a base salary.\\n\\nCompensation changes even further when it comes to the World Cup—though the pool money at stake here is set by FIFA, which gives prize winnings to the national federations behind each soccer team. For the Women’s World Cup, prize money totaled to $30 million in 2019, according to the Post. The USWNT earned about $4 million for winning the tournament. By contrast, the prize money pool for the 2018 Men’s World Cup totaled about $400 million, giving reigning champion France’s men’s team $38 million—more than the total pool for the women.\\n\\nU.S. Soccer offers bonuses to each team based on different wins throughout the World Cup tournament. The USWNT players each received about $250,000 in bonus payment for the World Cup, according to the Times. Under the men’s team’s collective bargaining agreement, players receive $3,000 more if they lose a Wold Cup qualifying match than what women earn for winning, the Post reports.\\n\\nCarli Lloyd #10 of the United States celebrates her goal with Tobin Heath #17 and Crystal Dunn #19, to take a 3-0 lead over the Republic of Ireland, during the first half of the first game of the USWNT Victory Tour at Rose Bowl on August 03, 2019 in Pasadena, California. Harry How—Getty Images\\n\\nWhat will happen next in the USWNT equal pay lawsuit\\n\\nThe case is likely to be settled in a trial, according to Feldman. U.S. Soccer will be responsible for proving that any gaps in pay are a result of “good faith negotiation,” Feldman says. U.S. Soccer will try to make the case that the pay gap boils down to the two different collective bargaining agreements agreed to by each team under their separate players’ associations, he says. They will have to show that the current situation is “just a product of collective bargaining.”\\n\\nU.S. Soccer and the USWNT disagree both on how much the players get paid and on how such payments are quantified when compared with what male players receive. “The federation says, among other things, that it’s apples to oranges,” says Feldman. “There is not one right answer to what is fair—the answer is in what they agreed [in the collective bargaining agreements]. It’s not like a math formula will give you the right amount.”\\n\\nFor the women players, he says, the challenge will be to prove that the gaps are a product of gender discrimination.\\n\\n“One of the threshold issues is that there’s no agreement on what the relative levels of pay are,” Feldman says. “[U.S. Soccer] claims the women are making just as much if not more than the men. They have to prove they are getting paid less and then prove that the disparity is attributable to gender discrimination and not other gender neutral factors.”\\n\\nWrite to Mahita Gajanan at mahita.gajanan@time.com.\""
      ]
     },
     "execution_count": 78,
     "metadata": {},
     "output_type": "execute_result"
    }
   ],
   "source": [
    "article = newspaper.Article('https://time.com/5653250/uswnt-equal-pay-lawsuit/')\n",
    "article.download()\n",
    "article.parse()\n",
    "article.text"
   ]
  },
  {
   "cell_type": "code",
   "execution_count": null,
   "metadata": {},
   "outputs": [],
   "source": []
  },
  {
   "cell_type": "code",
   "execution_count": null,
   "metadata": {},
   "outputs": [],
   "source": []
  },
  {
   "cell_type": "code",
   "execution_count": null,
   "metadata": {},
   "outputs": [],
   "source": []
  },
  {
   "cell_type": "code",
   "execution_count": null,
   "metadata": {},
   "outputs": [],
   "source": []
  },
  {
   "cell_type": "code",
   "execution_count": null,
   "metadata": {},
   "outputs": [],
   "source": []
  },
  {
   "cell_type": "code",
   "execution_count": null,
   "metadata": {},
   "outputs": [],
   "source": []
  },
  {
   "cell_type": "code",
   "execution_count": null,
   "metadata": {},
   "outputs": [],
   "source": []
  },
  {
   "cell_type": "code",
   "execution_count": 1,
   "metadata": {},
   "outputs": [],
   "source": [
    "import requests"
   ]
  },
  {
   "cell_type": "code",
   "execution_count": 17,
   "metadata": {},
   "outputs": [
    {
     "data": {
      "text/plain": [
       "[]"
      ]
     },
     "execution_count": 17,
     "metadata": {},
     "output_type": "execute_result"
    }
   ],
   "source": [
    "headers = {\"Authorization\":\"sBBqsGXiYgF0Db5OV5tAw-akap7JBapGCe67Tuuz0lhquXd0k1oQC4B5B91GiHcVn2pHZrSf1gT2PUujH1YaQA\"}\n",
    "endpoint = 'https://api.newsriver.io/v2/search?'\n",
    "qry = 'query=text:(\"Google tells workers to cool it on politics at work\")&sortOrder=DESC&limit=15'\n",
    "# qry = 'query=language:en AND website.domainName:\"wsj.com\"&sortOrder=DESC&limit=15'\n",
    "url = endpoint + qry\n",
    "response = requests.get(url, headers=headers)\n",
    "out = response.json();out"
   ]
  },
  {
   "cell_type": "code",
   "execution_count": 74,
   "metadata": {},
   "outputs": [
    {
     "data": {
      "text/plain": [
       "{'status': 'ok',\n",
       " 'totalResults': 1,\n",
       " 'articles': [{'source': {'id': 'nbc-news', 'name': 'NBC News'},\n",
       "   'author': 'Benjy Sarlin',\n",
       "   'title': \"'Watershed moment': Israel critics seize on Trump-Netanyahu bromance after travel ban\",\n",
       "   'description': 'If Not Now, a Jewish left-wing group, wants to push Democrats to left on Israel in 2020. Some pro-Israel groups appear worried that President Trump is helping.',\n",
       "   'url': 'https://www.nbcnews.com/politics/2020-election/watershed-moment-israel-critics-seize-trump-netanyahu-bromance-after-travel-n1042971',\n",
       "   'urlToImage': 'https://media1.s-nbcnews.com/j/newscms/2019_12/2795191/190321-donald-trump-benjamin-netanyahu-2017-ac-1108p_6fdfc778af9acd7da86373bb784c3538.nbcnews-fp-1200-630.jpg',\n",
       "   'publishedAt': '2019-08-16T08:30:00Z',\n",
       "   'content': \"WASHINGTON Israel's ban on two Muslim members of Congress has provided an opportunity for progressive pro-Palestinian groups in America to highlight the chumminess between Donald Trump and Benjamin Netanyahu and to try to influence the stance of Democratic pr… [+5623 chars]\"}]}"
      ]
     },
     "execution_count": 74,
     "metadata": {},
     "output_type": "execute_result"
    }
   ],
   "source": [
    "title = \"'Watershed moment': Israel critics seize on Trump-Netanyahu bromance after travel ban\"\n",
    "url = 'https://newsapi.org/v2/everything?qInTitle=\"{title}\"&apiKey=bfb917bca91c435d9c7efd247d95227b&pageSize=100'.format(title=title)\n",
    "resp = requests.get(url)\n",
    "resp.json()"
   ]
  },
  {
   "cell_type": "code",
   "execution_count": 75,
   "metadata": {},
   "outputs": [
    {
     "data": {
      "text/plain": [
       "'https://newsapi.org/v2/everything?qInTitle=\"\\'Watershed moment\\': Israel critics seize on Trump-Netanyahu bromance after travel ban\"&apiKey=bfb917bca91c435d9c7efd247d95227b&pageSize=100'"
      ]
     },
     "execution_count": 75,
     "metadata": {},
     "output_type": "execute_result"
    }
   ],
   "source": [
    "url"
   ]
  },
  {
   "cell_type": "code",
   "execution_count": null,
   "metadata": {},
   "outputs": [],
   "source": []
  },
  {
   "cell_type": "code",
   "execution_count": 31,
   "metadata": {},
   "outputs": [
    {
     "data": {
      "text/plain": [
       "'https://mw3.wsj.net/mw5/content/logos/mw_logo_social.png'"
      ]
     },
     "execution_count": 31,
     "metadata": {},
     "output_type": "execute_result"
    }
   ],
   "source": [
    "k0.top_image"
   ]
  },
  {
   "cell_type": "code",
   "execution_count": null,
   "metadata": {},
   "outputs": [],
   "source": []
  }
 ],
 "metadata": {
  "kernelspec": {
   "display_name": "Django Shell-Plus",
   "language": "python",
   "name": "django_extensions"
  },
  "language_info": {
   "codemirror_mode": {
    "name": "ipython",
    "version": 3
   },
   "file_extension": ".py",
   "mimetype": "text/x-python",
   "name": "python",
   "nbconvert_exporter": "python",
   "pygments_lexer": "ipython3",
   "version": "3.7.1"
  }
 },
 "nbformat": 4,
 "nbformat_minor": 2
}
