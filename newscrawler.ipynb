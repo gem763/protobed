{
 "cells": [
  {
   "cell_type": "code",
   "execution_count": 1,
   "metadata": {},
   "outputs": [
    {
     "ename": "ModuleNotFoundError",
     "evalue": "No module named 'newspaper'",
     "output_type": "error",
     "traceback": [
      "\u001b[1;31m---------------------------------------------------------------------------\u001b[0m",
      "\u001b[1;31mModuleNotFoundError\u001b[0m                       Traceback (most recent call last)",
      "\u001b[1;32m<ipython-input-1-60322677e0a2>\u001b[0m in \u001b[0;36m<module>\u001b[1;34m\u001b[0m\n\u001b[1;32m----> 1\u001b[1;33m \u001b[1;32mimport\u001b[0m \u001b[0mnewspaper\u001b[0m\u001b[1;33m\u001b[0m\u001b[1;33m\u001b[0m\u001b[0m\n\u001b[0m\u001b[0;32m      2\u001b[0m \u001b[1;32mfrom\u001b[0m \u001b[0mnewspaper\u001b[0m \u001b[1;32mimport\u001b[0m \u001b[0mnews_pool\u001b[0m\u001b[1;33m,\u001b[0m \u001b[0mArticle\u001b[0m\u001b[1;33m\u001b[0m\u001b[1;33m\u001b[0m\u001b[0m\n\u001b[0;32m      3\u001b[0m \u001b[1;32mfrom\u001b[0m \u001b[0mtqdm\u001b[0m \u001b[1;32mimport\u001b[0m \u001b[0mtqdm_notebook\u001b[0m\u001b[1;33m\u001b[0m\u001b[1;33m\u001b[0m\u001b[0m\n\u001b[0;32m      4\u001b[0m \u001b[1;32mimport\u001b[0m \u001b[0mrequests\u001b[0m\u001b[1;33m\u001b[0m\u001b[1;33m\u001b[0m\u001b[0m\n",
      "\u001b[1;31mModuleNotFoundError\u001b[0m: No module named 'newspaper'"
     ]
    }
   ],
   "source": [
    "import newspaper\n",
    "from newspaper import news_pool, Article\n",
    "from tqdm import tqdm_notebook\n",
    "import requests"
   ]
  },
  {
   "cell_type": "code",
   "execution_count": 7,
   "metadata": {},
   "outputs": [],
   "source": [
    "cnn = newspaper.build('http://cnn.com', fetch_images=False, memoize_articles=False)"
   ]
  },
  {
   "cell_type": "code",
   "execution_count": 4,
   "metadata": {},
   "outputs": [],
   "source": [
    "wsj = newspaper.build('http://wsj.com', fetch_images=False, memoize_articles=False)"
   ]
  },
  {
   "cell_type": "code",
   "execution_count": 14,
   "metadata": {},
   "outputs": [],
   "source": [
    "ny = newspaper.build('http://nytimes.com', fetch_images=False, memoize_articles=False)"
   ]
  },
  {
   "cell_type": "code",
   "execution_count": 3,
   "metadata": {},
   "outputs": [],
   "source": [
    "inv = newspaper.build('https://investing.com', fetch_images=False, memoize_articles=False)"
   ]
  },
  {
   "cell_type": "code",
   "execution_count": 82,
   "metadata": {},
   "outputs": [],
   "source": [
    "gn = newspaper.build('http://news.google.com', fetch_images=False, memoize_articles=False)"
   ]
  },
  {
   "cell_type": "code",
   "execution_count": 46,
   "metadata": {},
   "outputs": [],
   "source": [
    "po = newspaper.build('http://www.politico.com', fetch_images=False, memoize_articles=False)"
   ]
  },
  {
   "cell_type": "code",
   "execution_count": 53,
   "metadata": {},
   "outputs": [
    {
     "data": {
      "text/plain": [
       "'https://www.politico.com/news/2020-elections'"
      ]
     },
     "execution_count": 53,
     "metadata": {},
     "output_type": "execute_result"
    }
   ],
   "source": [
    "po.articles[0].url"
   ]
  },
  {
   "cell_type": "code",
   "execution_count": 52,
   "metadata": {},
   "outputs": [
    {
     "data": {
      "text/plain": [
       "'Paperless voting machines are just waiting to be hacked in 2020. And “upgrading” to paper-based voting machines may sound like an oxymoron, but it’s something cybersecurity experts are urging election officials across the country to do. A POLITICO survey found that in 2018, hundreds of counties in 14 states used paperless voting machines — and almost half of the counties that responded to the survey said they don’t plan on changing that ahead of 2020. Security experts said paperless voting machines are vulnerable to hacking because they leave no paper trail and there’s no way to reliably audit the results when an error occurs.\\n\\nThousands of Redditors joined us as cybersecurity reporter Eric Geller and voting security expert and University of Michigan professor J. Alex Halderman took on Reddit\\'s most pressing questions about the weaknesses in America’s election systems . We chatted about voting methods in various countries from the U.S. to India, how much the transition to paper ballots would cost, and even \" Star Wars .\"\\n\\nRead More »'"
      ]
     },
     "execution_count": 52,
     "metadata": {},
     "output_type": "execute_result"
    }
   ],
   "source": [
    "article = po.articles[0]\n",
    "article.download()\n",
    "article.parse()\n",
    "article.text"
   ]
  },
  {
   "cell_type": "code",
   "execution_count": 85,
   "metadata": {
    "scrolled": true
   },
   "outputs": [
    {
     "data": {
      "application/vnd.jupyter.widget-view+json": {
       "model_id": "9fff48b64d3f44de94fda6d41b776ebc",
       "version_major": 2,
       "version_minor": 0
      },
      "text/plain": [
       "HBox(children=(IntProgress(value=0, max=27), HTML(value='')))"
      ]
     },
     "metadata": {},
     "output_type": "display_data"
    },
    {
     "name": "stdout",
     "output_type": "stream",
     "text": [
      "https://play.google.com/store/audiobooks/details/Mark_Manson_The_Subtle_Art_of_Not_Giving_a_F_ck?id=AQAAAAA0lhmWPM\n",
      "https://play.google.com/store/audiobooks/details/Delia_Owens_Where_the_Crawdads_Sing?id=AQAAAICz_Xt92M\n",
      "https://play.google.com/store/audiobooks/details/Sun_Tzu_The_Art_of_War?id=AQAAAEDMG2VbuM\n",
      "https://play.google.com/store/audiobooks/details/Timothy_Zahn_Thrawn_Treason_Star_Wars?id=AQAAAEBMOnt6JM\n",
      "https://play.google.com/store/audiobooks/details/Dale_Carnegie_How_To_Win_Friends_And_Influence_Peo?id=AQAAAIA86zVrGM\n",
      "https://play.google.com/store/audiobooks/details/Gary_John_Bishop_Unfu_k_Yourself?id=AQAAAADER0JHlM\n",
      "https://play.google.com/store/audiobooks/details/Gary_Chapman_The_5_Love_Languages?id=AQAAAIDFa0zrmM\n",
      "https://play.google.com/store/books/details/Sarah_MacLean_Brazen_and_the_Beast?id=tnFdDwAAQBAJ\n",
      "https://play.google.com/store/books/details/Cullen_Bunn_Deadpool_Kills_the_Marvel_Universe?id=4pRfAwAAQBAJ\n",
      "https://play.google.com/store/books/details/Alvin_Schwartz_Scary_Stories_to_Tell_in_the_Dark?id=jXNADwAAQBAJ\n",
      "https://play.google.com/store/books/details/Marc_Cameron_Tom_Clancy_Power_and_Empire?id=76iiDgAAQBAJ\n",
      "https://play.google.com/store/books/details/Liane_Moriarty_The_Husband_s_Secret?id=jZIUcMyLFzAC\n",
      "https://play.google.com/store/books/details/Margaret_Atwood_The_Handmaid_s_Tale?id=ZrsVZKWJg4UC\n",
      "https://play.google.com/store/tv/show/What_We_Do_in_the_Shadows?id=phQEC15d8ud114ggQVIQCA\n",
      "https://play.google.com/store/books/details/Tui_T_Sutherland_The_Poison_Jungle_Wings_of_Fire_B?id=lLdrDwAAQBAJ\n",
      "https://play.google.com/store/books/details/Scholastic_Joey_Drew_Studios_Employee_Handbook_Ben?id=qb5rDwAAQBAJ\n",
      "https://play.google.com/store/books/details/John_Jackson_Miller_Star_Trek_Discovery_The_Enterp?id=LbSDDwAAQBAJ\n",
      "https://play.google.com/store/audiobooks/details/Katherine_Center_The_Girl_in_the_Plane?id=AQAAAEAs6TOpDM\n",
      "https://play.google.com/store/audiobooks/details/Gucci_Mane_The_Autobiography_of_Gucci_Mane?id=AQAAAIBCNlW2BM\n",
      "https://play.google.com/store/audiobooks/details/Eric_Nylund_HALO_The_Fall_of_Reach?id=AQAAAEBMxmSGOM\n",
      "https://play.google.com/store/audiobooks/details/Becky_Chambers_The_Long_Way_to_a_Small_Angry_Plane?id=AQAAAEDMtQH13M\n",
      "https://play.google.com/store/movies/details/Fast_Furious_The_Ultimate_Ride_Collection?id=egL6eBiUb2E\n",
      "https://play.google.com/store/movies/details/Spider_Man_Into_the_Spider_Verse_Spider_Man_Homeco?id=2IrGxIQqnf4\n",
      "https://play.google.com/store/movies/details/The_LEGO_Movie_2_Film_Collection?id=lZs8FWve4vQ\n",
      "https://play.google.com/store/movies/details/Get_Out_Us_2_Movie_Collection?id=T7nSkHAwor4\n",
      "https://support.google.com/news/publisher-center/?hl=en\n",
      "https://support.google.com/news/producer/?hl=en\n",
      "\n"
     ]
    }
   ],
   "source": [
    "for article in tqdm_notebook(gn.articles):\n",
    "    #article.download()\n",
    "    #article.parse()\n",
    "    #print(article.publish_date)\n",
    "    print(article.url)"
   ]
  },
  {
   "cell_type": "code",
   "execution_count": 61,
   "metadata": {
    "scrolled": false
   },
   "outputs": [],
   "source": [
    "article = Article('https://www.wsj.com/articles/chinas-currency-weakening-escalates-trade-war-11565027431')\n",
    "article.download()\n",
    "article.parse()"
   ]
  },
  {
   "cell_type": "code",
   "execution_count": 62,
   "metadata": {},
   "outputs": [
    {
     "data": {
      "text/plain": [
       "'WASHINGTON—The U.S. Treasury labeled China a currency manipulator after the Chinese central bank let the yuan depreciate, capping a day of trade-war escalations that sparked a global fall in financial markets and fears the clash could stall the U.S.’s economic expansion.\\n\\nThe uncertainty could pressure the Federal Reserve to consider more interest-rate cuts, following its decision last week to lower rates for the first time in more than a decade.\\n\\n...'"
      ]
     },
     "execution_count": 62,
     "metadata": {},
     "output_type": "execute_result"
    }
   ],
   "source": [
    "article.text"
   ]
  },
  {
   "cell_type": "code",
   "execution_count": 56,
   "metadata": {},
   "outputs": [
    {
     "name": "stdout",
     "output_type": "stream",
     "text": [
      "None\n",
      "None\n",
      "None\n",
      "None\n",
      "None\n",
      "None\n",
      "None\n",
      "None\n",
      "None\n",
      "None\n",
      "None\n",
      "None\n",
      "None\n",
      "None\n",
      "None\n",
      "None\n",
      "None\n",
      "None\n",
      "None\n",
      "None\n",
      "None\n",
      "None\n",
      "None\n",
      "None\n",
      "None\n",
      "None\n",
      "None\n",
      "None\n",
      "None\n",
      "None\n",
      "None\n",
      "None\n",
      "None\n",
      "None\n",
      "None\n",
      "None\n",
      "None\n",
      "None\n",
      "None\n",
      "None\n",
      "None\n",
      "None\n",
      "None\n",
      "None\n",
      "None\n",
      "None\n",
      "None\n",
      "None\n",
      "None\n",
      "None\n",
      "None\n",
      "None\n",
      "None\n",
      "None\n",
      "None\n",
      "None\n",
      "None\n",
      "None\n",
      "None\n",
      "None\n",
      "None\n",
      "None\n",
      "None\n",
      "None\n",
      "None\n",
      "None\n",
      "None\n",
      "None\n",
      "None\n",
      "None\n",
      "None\n",
      "None\n",
      "None\n",
      "None\n",
      "None\n",
      "None\n",
      "None\n",
      "None\n",
      "None\n",
      "None\n",
      "None\n",
      "None\n",
      "None\n",
      "None\n",
      "None\n",
      "None\n",
      "None\n",
      "None\n",
      "None\n",
      "2019-08-05 00:00:00\n",
      "2019-08-05 00:00:00\n",
      "2019-08-05 00:00:00\n",
      "None\n",
      "None\n",
      "None\n",
      "None\n",
      "None\n",
      "None\n",
      "None\n",
      "None\n",
      "None\n",
      "None\n",
      "None\n",
      "None\n",
      "None\n",
      "None\n",
      "None\n",
      "None\n",
      "None\n",
      "None\n",
      "None\n",
      "None\n",
      "None\n",
      "None\n",
      "None\n",
      "None\n",
      "None\n",
      "None\n",
      "None\n",
      "None\n",
      "None\n",
      "None\n",
      "None\n",
      "None\n"
     ]
    }
   ],
   "source": [
    "for article in wsj.articles:\n",
    "    article.parse()\n",
    "    print(article.publish_date)"
   ]
  },
  {
   "cell_type": "code",
   "execution_count": null,
   "metadata": {},
   "outputs": [],
   "source": []
  },
  {
   "cell_type": "code",
   "execution_count": 72,
   "metadata": {
    "collapsed": true
   },
   "outputs": [
    {
     "name": "stdout",
     "output_type": "stream",
     "text": [
      "None\n",
      "None\n",
      "None\n",
      "None\n",
      "None\n",
      "None\n",
      "None\n",
      "None\n",
      "None\n",
      "None\n",
      "None\n",
      "None\n",
      "None\n",
      "None\n",
      "None\n",
      "2019-06-25 00:00:00\n",
      "2019-07-10 11:30:00+01:00\n",
      "2019-01-08 16:10:01+00:00\n",
      "2019-07-17 11:00:00+01:00\n",
      "None\n",
      "None\n",
      "None\n",
      "None\n",
      "None\n",
      "None\n",
      "None\n",
      "None\n",
      "2019-08-02 00:00:00\n",
      "2019-07-29 00:00:00\n",
      "None\n",
      "None\n",
      "2006-09-20 00:00:00\n",
      "2018-04-23 11:00:00+01:00\n",
      "2016-12-16 10:00:00+00:00\n",
      "2019-08-02 00:00:00\n",
      "2019-08-02 00:00:00\n",
      "2019-08-02 00:00:00\n",
      "2019-08-02 00:00:00\n",
      "2019-08-02 00:00:00\n",
      "2019-08-02 00:00:00\n",
      "2019-08-02 00:00:00\n",
      "2019-08-02 00:00:00\n"
     ]
    },
    {
     "ename": "KeyboardInterrupt",
     "evalue": "",
     "output_type": "error",
     "traceback": [
      "\u001b[1;31m---------------------------------------------------------------------------\u001b[0m",
      "\u001b[1;31mWantReadError\u001b[0m                             Traceback (most recent call last)",
      "\u001b[1;32m~\\Anaconda3\\lib\\site-packages\\urllib3\\contrib\\pyopenssl.py\u001b[0m in \u001b[0;36mwrap_socket\u001b[1;34m(self, sock, server_side, do_handshake_on_connect, suppress_ragged_eofs, server_hostname)\u001b[0m\n\u001b[0;32m    452\u001b[0m             \u001b[1;32mtry\u001b[0m\u001b[1;33m:\u001b[0m\u001b[1;33m\u001b[0m\u001b[1;33m\u001b[0m\u001b[0m\n\u001b[1;32m--> 453\u001b[1;33m                 \u001b[0mcnx\u001b[0m\u001b[1;33m.\u001b[0m\u001b[0mdo_handshake\u001b[0m\u001b[1;33m(\u001b[0m\u001b[1;33m)\u001b[0m\u001b[1;33m\u001b[0m\u001b[1;33m\u001b[0m\u001b[0m\n\u001b[0m\u001b[0;32m    454\u001b[0m             \u001b[1;32mexcept\u001b[0m \u001b[0mOpenSSL\u001b[0m\u001b[1;33m.\u001b[0m\u001b[0mSSL\u001b[0m\u001b[1;33m.\u001b[0m\u001b[0mWantReadError\u001b[0m\u001b[1;33m:\u001b[0m\u001b[1;33m\u001b[0m\u001b[1;33m\u001b[0m\u001b[0m\n",
      "\u001b[1;32m~\\Anaconda3\\lib\\site-packages\\OpenSSL\\SSL.py\u001b[0m in \u001b[0;36mdo_handshake\u001b[1;34m(self)\u001b[0m\n\u001b[0;32m   1914\u001b[0m         \u001b[0mresult\u001b[0m \u001b[1;33m=\u001b[0m \u001b[0m_lib\u001b[0m\u001b[1;33m.\u001b[0m\u001b[0mSSL_do_handshake\u001b[0m\u001b[1;33m(\u001b[0m\u001b[0mself\u001b[0m\u001b[1;33m.\u001b[0m\u001b[0m_ssl\u001b[0m\u001b[1;33m)\u001b[0m\u001b[1;33m\u001b[0m\u001b[1;33m\u001b[0m\u001b[0m\n\u001b[1;32m-> 1915\u001b[1;33m         \u001b[0mself\u001b[0m\u001b[1;33m.\u001b[0m\u001b[0m_raise_ssl_error\u001b[0m\u001b[1;33m(\u001b[0m\u001b[0mself\u001b[0m\u001b[1;33m.\u001b[0m\u001b[0m_ssl\u001b[0m\u001b[1;33m,\u001b[0m \u001b[0mresult\u001b[0m\u001b[1;33m)\u001b[0m\u001b[1;33m\u001b[0m\u001b[1;33m\u001b[0m\u001b[0m\n\u001b[0m\u001b[0;32m   1916\u001b[0m \u001b[1;33m\u001b[0m\u001b[0m\n",
      "\u001b[1;32m~\\Anaconda3\\lib\\site-packages\\OpenSSL\\SSL.py\u001b[0m in \u001b[0;36m_raise_ssl_error\u001b[1;34m(self, ssl, result)\u001b[0m\n\u001b[0;32m   1621\u001b[0m         \u001b[1;32mif\u001b[0m \u001b[0merror\u001b[0m \u001b[1;33m==\u001b[0m \u001b[0m_lib\u001b[0m\u001b[1;33m.\u001b[0m\u001b[0mSSL_ERROR_WANT_READ\u001b[0m\u001b[1;33m:\u001b[0m\u001b[1;33m\u001b[0m\u001b[1;33m\u001b[0m\u001b[0m\n\u001b[1;32m-> 1622\u001b[1;33m             \u001b[1;32mraise\u001b[0m \u001b[0mWantReadError\u001b[0m\u001b[1;33m(\u001b[0m\u001b[1;33m)\u001b[0m\u001b[1;33m\u001b[0m\u001b[1;33m\u001b[0m\u001b[0m\n\u001b[0m\u001b[0;32m   1623\u001b[0m         \u001b[1;32melif\u001b[0m \u001b[0merror\u001b[0m \u001b[1;33m==\u001b[0m \u001b[0m_lib\u001b[0m\u001b[1;33m.\u001b[0m\u001b[0mSSL_ERROR_WANT_WRITE\u001b[0m\u001b[1;33m:\u001b[0m\u001b[1;33m\u001b[0m\u001b[1;33m\u001b[0m\u001b[0m\n",
      "\u001b[1;31mWantReadError\u001b[0m: ",
      "\nDuring handling of the above exception, another exception occurred:\n",
      "\u001b[1;31mKeyboardInterrupt\u001b[0m                         Traceback (most recent call last)",
      "\u001b[1;32m<ipython-input-72-eaa97dedb705>\u001b[0m in \u001b[0;36m<module>\u001b[1;34m\u001b[0m\n\u001b[0;32m      1\u001b[0m \u001b[1;32mfor\u001b[0m \u001b[0marticle\u001b[0m \u001b[1;32min\u001b[0m \u001b[0mcnn_paper\u001b[0m\u001b[1;33m.\u001b[0m\u001b[0marticles\u001b[0m\u001b[1;33m:\u001b[0m\u001b[1;33m\u001b[0m\u001b[1;33m\u001b[0m\u001b[0m\n\u001b[1;32m----> 2\u001b[1;33m     \u001b[0marticle\u001b[0m\u001b[1;33m.\u001b[0m\u001b[0mdownload\u001b[0m\u001b[1;33m(\u001b[0m\u001b[1;33m)\u001b[0m\u001b[1;33m\u001b[0m\u001b[1;33m\u001b[0m\u001b[0m\n\u001b[0m\u001b[0;32m      3\u001b[0m     \u001b[0marticle\u001b[0m\u001b[1;33m.\u001b[0m\u001b[0mparse\u001b[0m\u001b[1;33m(\u001b[0m\u001b[1;33m)\u001b[0m\u001b[1;33m\u001b[0m\u001b[1;33m\u001b[0m\u001b[0m\n\u001b[0;32m      4\u001b[0m     \u001b[0mprint\u001b[0m\u001b[1;33m(\u001b[0m\u001b[0marticle\u001b[0m\u001b[1;33m.\u001b[0m\u001b[0mpublish_date\u001b[0m\u001b[1;33m)\u001b[0m\u001b[1;33m\u001b[0m\u001b[1;33m\u001b[0m\u001b[0m\n",
      "\u001b[1;32m~\\Anaconda3\\lib\\site-packages\\newspaper\\article.py\u001b[0m in \u001b[0;36mdownload\u001b[1;34m(self, input_html, title, recursion_counter)\u001b[0m\n\u001b[0;32m    168\u001b[0m         \u001b[1;32mif\u001b[0m \u001b[0minput_html\u001b[0m \u001b[1;32mis\u001b[0m \u001b[1;32mNone\u001b[0m\u001b[1;33m:\u001b[0m\u001b[1;33m\u001b[0m\u001b[1;33m\u001b[0m\u001b[0m\n\u001b[0;32m    169\u001b[0m             \u001b[1;32mtry\u001b[0m\u001b[1;33m:\u001b[0m\u001b[1;33m\u001b[0m\u001b[1;33m\u001b[0m\u001b[0m\n\u001b[1;32m--> 170\u001b[1;33m                 \u001b[0mhtml\u001b[0m \u001b[1;33m=\u001b[0m \u001b[0mnetwork\u001b[0m\u001b[1;33m.\u001b[0m\u001b[0mget_html_2XX_only\u001b[0m\u001b[1;33m(\u001b[0m\u001b[0mself\u001b[0m\u001b[1;33m.\u001b[0m\u001b[0murl\u001b[0m\u001b[1;33m,\u001b[0m \u001b[0mself\u001b[0m\u001b[1;33m.\u001b[0m\u001b[0mconfig\u001b[0m\u001b[1;33m)\u001b[0m\u001b[1;33m\u001b[0m\u001b[1;33m\u001b[0m\u001b[0m\n\u001b[0m\u001b[0;32m    171\u001b[0m             \u001b[1;32mexcept\u001b[0m \u001b[0mrequests\u001b[0m\u001b[1;33m.\u001b[0m\u001b[0mexceptions\u001b[0m\u001b[1;33m.\u001b[0m\u001b[0mRequestException\u001b[0m \u001b[1;32mas\u001b[0m \u001b[0me\u001b[0m\u001b[1;33m:\u001b[0m\u001b[1;33m\u001b[0m\u001b[1;33m\u001b[0m\u001b[0m\n\u001b[0;32m    172\u001b[0m                 \u001b[0mself\u001b[0m\u001b[1;33m.\u001b[0m\u001b[0mdownload_state\u001b[0m \u001b[1;33m=\u001b[0m \u001b[0mArticleDownloadState\u001b[0m\u001b[1;33m.\u001b[0m\u001b[0mFAILED_RESPONSE\u001b[0m\u001b[1;33m\u001b[0m\u001b[1;33m\u001b[0m\u001b[0m\n",
      "\u001b[1;32m~\\Anaconda3\\lib\\site-packages\\newspaper\\network.py\u001b[0m in \u001b[0;36mget_html_2XX_only\u001b[1;34m(url, config, response)\u001b[0m\n\u001b[0;32m     61\u001b[0m \u001b[1;33m\u001b[0m\u001b[0m\n\u001b[0;32m     62\u001b[0m     response = requests.get(\n\u001b[1;32m---> 63\u001b[1;33m         url=url, **get_request_kwargs(timeout, useragent, proxies, headers))\n\u001b[0m\u001b[0;32m     64\u001b[0m \u001b[1;33m\u001b[0m\u001b[0m\n\u001b[0;32m     65\u001b[0m     \u001b[0mhtml\u001b[0m \u001b[1;33m=\u001b[0m \u001b[0m_get_html_from_response\u001b[0m\u001b[1;33m(\u001b[0m\u001b[0mresponse\u001b[0m\u001b[1;33m)\u001b[0m\u001b[1;33m\u001b[0m\u001b[1;33m\u001b[0m\u001b[0m\n",
      "\u001b[1;32m~\\Anaconda3\\lib\\site-packages\\requests\\api.py\u001b[0m in \u001b[0;36mget\u001b[1;34m(url, params, **kwargs)\u001b[0m\n\u001b[0;32m     73\u001b[0m \u001b[1;33m\u001b[0m\u001b[0m\n\u001b[0;32m     74\u001b[0m     \u001b[0mkwargs\u001b[0m\u001b[1;33m.\u001b[0m\u001b[0msetdefault\u001b[0m\u001b[1;33m(\u001b[0m\u001b[1;34m'allow_redirects'\u001b[0m\u001b[1;33m,\u001b[0m \u001b[1;32mTrue\u001b[0m\u001b[1;33m)\u001b[0m\u001b[1;33m\u001b[0m\u001b[1;33m\u001b[0m\u001b[0m\n\u001b[1;32m---> 75\u001b[1;33m     \u001b[1;32mreturn\u001b[0m \u001b[0mrequest\u001b[0m\u001b[1;33m(\u001b[0m\u001b[1;34m'get'\u001b[0m\u001b[1;33m,\u001b[0m \u001b[0murl\u001b[0m\u001b[1;33m,\u001b[0m \u001b[0mparams\u001b[0m\u001b[1;33m=\u001b[0m\u001b[0mparams\u001b[0m\u001b[1;33m,\u001b[0m \u001b[1;33m**\u001b[0m\u001b[0mkwargs\u001b[0m\u001b[1;33m)\u001b[0m\u001b[1;33m\u001b[0m\u001b[1;33m\u001b[0m\u001b[0m\n\u001b[0m\u001b[0;32m     76\u001b[0m \u001b[1;33m\u001b[0m\u001b[0m\n\u001b[0;32m     77\u001b[0m \u001b[1;33m\u001b[0m\u001b[0m\n",
      "\u001b[1;32m~\\Anaconda3\\lib\\site-packages\\requests\\api.py\u001b[0m in \u001b[0;36mrequest\u001b[1;34m(method, url, **kwargs)\u001b[0m\n\u001b[0;32m     58\u001b[0m     \u001b[1;31m# cases, and look like a memory leak in others.\u001b[0m\u001b[1;33m\u001b[0m\u001b[1;33m\u001b[0m\u001b[1;33m\u001b[0m\u001b[0m\n\u001b[0;32m     59\u001b[0m     \u001b[1;32mwith\u001b[0m \u001b[0msessions\u001b[0m\u001b[1;33m.\u001b[0m\u001b[0mSession\u001b[0m\u001b[1;33m(\u001b[0m\u001b[1;33m)\u001b[0m \u001b[1;32mas\u001b[0m \u001b[0msession\u001b[0m\u001b[1;33m:\u001b[0m\u001b[1;33m\u001b[0m\u001b[1;33m\u001b[0m\u001b[0m\n\u001b[1;32m---> 60\u001b[1;33m         \u001b[1;32mreturn\u001b[0m \u001b[0msession\u001b[0m\u001b[1;33m.\u001b[0m\u001b[0mrequest\u001b[0m\u001b[1;33m(\u001b[0m\u001b[0mmethod\u001b[0m\u001b[1;33m=\u001b[0m\u001b[0mmethod\u001b[0m\u001b[1;33m,\u001b[0m \u001b[0murl\u001b[0m\u001b[1;33m=\u001b[0m\u001b[0murl\u001b[0m\u001b[1;33m,\u001b[0m \u001b[1;33m**\u001b[0m\u001b[0mkwargs\u001b[0m\u001b[1;33m)\u001b[0m\u001b[1;33m\u001b[0m\u001b[1;33m\u001b[0m\u001b[0m\n\u001b[0m\u001b[0;32m     61\u001b[0m \u001b[1;33m\u001b[0m\u001b[0m\n\u001b[0;32m     62\u001b[0m \u001b[1;33m\u001b[0m\u001b[0m\n",
      "\u001b[1;32m~\\Anaconda3\\lib\\site-packages\\requests\\sessions.py\u001b[0m in \u001b[0;36mrequest\u001b[1;34m(self, method, url, params, data, headers, cookies, files, auth, timeout, allow_redirects, proxies, hooks, stream, verify, cert, json)\u001b[0m\n\u001b[0;32m    531\u001b[0m         }\n\u001b[0;32m    532\u001b[0m         \u001b[0msend_kwargs\u001b[0m\u001b[1;33m.\u001b[0m\u001b[0mupdate\u001b[0m\u001b[1;33m(\u001b[0m\u001b[0msettings\u001b[0m\u001b[1;33m)\u001b[0m\u001b[1;33m\u001b[0m\u001b[1;33m\u001b[0m\u001b[0m\n\u001b[1;32m--> 533\u001b[1;33m         \u001b[0mresp\u001b[0m \u001b[1;33m=\u001b[0m \u001b[0mself\u001b[0m\u001b[1;33m.\u001b[0m\u001b[0msend\u001b[0m\u001b[1;33m(\u001b[0m\u001b[0mprep\u001b[0m\u001b[1;33m,\u001b[0m \u001b[1;33m**\u001b[0m\u001b[0msend_kwargs\u001b[0m\u001b[1;33m)\u001b[0m\u001b[1;33m\u001b[0m\u001b[1;33m\u001b[0m\u001b[0m\n\u001b[0m\u001b[0;32m    534\u001b[0m \u001b[1;33m\u001b[0m\u001b[0m\n\u001b[0;32m    535\u001b[0m         \u001b[1;32mreturn\u001b[0m \u001b[0mresp\u001b[0m\u001b[1;33m\u001b[0m\u001b[1;33m\u001b[0m\u001b[0m\n",
      "\u001b[1;32m~\\Anaconda3\\lib\\site-packages\\requests\\sessions.py\u001b[0m in \u001b[0;36msend\u001b[1;34m(self, request, **kwargs)\u001b[0m\n\u001b[0;32m    644\u001b[0m \u001b[1;33m\u001b[0m\u001b[0m\n\u001b[0;32m    645\u001b[0m         \u001b[1;31m# Send the request\u001b[0m\u001b[1;33m\u001b[0m\u001b[1;33m\u001b[0m\u001b[1;33m\u001b[0m\u001b[0m\n\u001b[1;32m--> 646\u001b[1;33m         \u001b[0mr\u001b[0m \u001b[1;33m=\u001b[0m \u001b[0madapter\u001b[0m\u001b[1;33m.\u001b[0m\u001b[0msend\u001b[0m\u001b[1;33m(\u001b[0m\u001b[0mrequest\u001b[0m\u001b[1;33m,\u001b[0m \u001b[1;33m**\u001b[0m\u001b[0mkwargs\u001b[0m\u001b[1;33m)\u001b[0m\u001b[1;33m\u001b[0m\u001b[1;33m\u001b[0m\u001b[0m\n\u001b[0m\u001b[0;32m    647\u001b[0m \u001b[1;33m\u001b[0m\u001b[0m\n\u001b[0;32m    648\u001b[0m         \u001b[1;31m# Total elapsed time of the request (approximately)\u001b[0m\u001b[1;33m\u001b[0m\u001b[1;33m\u001b[0m\u001b[1;33m\u001b[0m\u001b[0m\n",
      "\u001b[1;32m~\\Anaconda3\\lib\\site-packages\\requests\\adapters.py\u001b[0m in \u001b[0;36msend\u001b[1;34m(self, request, stream, timeout, verify, cert, proxies)\u001b[0m\n\u001b[0;32m    447\u001b[0m                     \u001b[0mdecode_content\u001b[0m\u001b[1;33m=\u001b[0m\u001b[1;32mFalse\u001b[0m\u001b[1;33m,\u001b[0m\u001b[1;33m\u001b[0m\u001b[1;33m\u001b[0m\u001b[0m\n\u001b[0;32m    448\u001b[0m                     \u001b[0mretries\u001b[0m\u001b[1;33m=\u001b[0m\u001b[0mself\u001b[0m\u001b[1;33m.\u001b[0m\u001b[0mmax_retries\u001b[0m\u001b[1;33m,\u001b[0m\u001b[1;33m\u001b[0m\u001b[1;33m\u001b[0m\u001b[0m\n\u001b[1;32m--> 449\u001b[1;33m                     \u001b[0mtimeout\u001b[0m\u001b[1;33m=\u001b[0m\u001b[0mtimeout\u001b[0m\u001b[1;33m\u001b[0m\u001b[1;33m\u001b[0m\u001b[0m\n\u001b[0m\u001b[0;32m    450\u001b[0m                 )\n\u001b[0;32m    451\u001b[0m \u001b[1;33m\u001b[0m\u001b[0m\n",
      "\u001b[1;32m~\\Anaconda3\\lib\\site-packages\\urllib3\\connectionpool.py\u001b[0m in \u001b[0;36murlopen\u001b[1;34m(self, method, url, body, headers, retries, redirect, assert_same_host, timeout, pool_timeout, release_conn, chunked, body_pos, **response_kw)\u001b[0m\n\u001b[0;32m    598\u001b[0m                                                   \u001b[0mtimeout\u001b[0m\u001b[1;33m=\u001b[0m\u001b[0mtimeout_obj\u001b[0m\u001b[1;33m,\u001b[0m\u001b[1;33m\u001b[0m\u001b[1;33m\u001b[0m\u001b[0m\n\u001b[0;32m    599\u001b[0m                                                   \u001b[0mbody\u001b[0m\u001b[1;33m=\u001b[0m\u001b[0mbody\u001b[0m\u001b[1;33m,\u001b[0m \u001b[0mheaders\u001b[0m\u001b[1;33m=\u001b[0m\u001b[0mheaders\u001b[0m\u001b[1;33m,\u001b[0m\u001b[1;33m\u001b[0m\u001b[1;33m\u001b[0m\u001b[0m\n\u001b[1;32m--> 600\u001b[1;33m                                                   chunked=chunked)\n\u001b[0m\u001b[0;32m    601\u001b[0m \u001b[1;33m\u001b[0m\u001b[0m\n\u001b[0;32m    602\u001b[0m             \u001b[1;31m# If we're going to release the connection in ``finally:``, then\u001b[0m\u001b[1;33m\u001b[0m\u001b[1;33m\u001b[0m\u001b[1;33m\u001b[0m\u001b[0m\n",
      "\u001b[1;32m~\\Anaconda3\\lib\\site-packages\\urllib3\\connectionpool.py\u001b[0m in \u001b[0;36m_make_request\u001b[1;34m(self, conn, method, url, timeout, chunked, **httplib_request_kw)\u001b[0m\n\u001b[0;32m    341\u001b[0m         \u001b[1;31m# Trigger any extra validation we need to do.\u001b[0m\u001b[1;33m\u001b[0m\u001b[1;33m\u001b[0m\u001b[1;33m\u001b[0m\u001b[0m\n\u001b[0;32m    342\u001b[0m         \u001b[1;32mtry\u001b[0m\u001b[1;33m:\u001b[0m\u001b[1;33m\u001b[0m\u001b[1;33m\u001b[0m\u001b[0m\n\u001b[1;32m--> 343\u001b[1;33m             \u001b[0mself\u001b[0m\u001b[1;33m.\u001b[0m\u001b[0m_validate_conn\u001b[0m\u001b[1;33m(\u001b[0m\u001b[0mconn\u001b[0m\u001b[1;33m)\u001b[0m\u001b[1;33m\u001b[0m\u001b[1;33m\u001b[0m\u001b[0m\n\u001b[0m\u001b[0;32m    344\u001b[0m         \u001b[1;32mexcept\u001b[0m \u001b[1;33m(\u001b[0m\u001b[0mSocketTimeout\u001b[0m\u001b[1;33m,\u001b[0m \u001b[0mBaseSSLError\u001b[0m\u001b[1;33m)\u001b[0m \u001b[1;32mas\u001b[0m \u001b[0me\u001b[0m\u001b[1;33m:\u001b[0m\u001b[1;33m\u001b[0m\u001b[1;33m\u001b[0m\u001b[0m\n\u001b[0;32m    345\u001b[0m             \u001b[1;31m# Py2 raises this as a BaseSSLError, Py3 raises it as socket timeout.\u001b[0m\u001b[1;33m\u001b[0m\u001b[1;33m\u001b[0m\u001b[1;33m\u001b[0m\u001b[0m\n",
      "\u001b[1;32m~\\Anaconda3\\lib\\site-packages\\urllib3\\connectionpool.py\u001b[0m in \u001b[0;36m_validate_conn\u001b[1;34m(self, conn)\u001b[0m\n\u001b[0;32m    837\u001b[0m         \u001b[1;31m# Force connect early to allow us to validate the connection.\u001b[0m\u001b[1;33m\u001b[0m\u001b[1;33m\u001b[0m\u001b[1;33m\u001b[0m\u001b[0m\n\u001b[0;32m    838\u001b[0m         \u001b[1;32mif\u001b[0m \u001b[1;32mnot\u001b[0m \u001b[0mgetattr\u001b[0m\u001b[1;33m(\u001b[0m\u001b[0mconn\u001b[0m\u001b[1;33m,\u001b[0m \u001b[1;34m'sock'\u001b[0m\u001b[1;33m,\u001b[0m \u001b[1;32mNone\u001b[0m\u001b[1;33m)\u001b[0m\u001b[1;33m:\u001b[0m  \u001b[1;31m# AppEngine might not have  `.sock`\u001b[0m\u001b[1;33m\u001b[0m\u001b[1;33m\u001b[0m\u001b[0m\n\u001b[1;32m--> 839\u001b[1;33m             \u001b[0mconn\u001b[0m\u001b[1;33m.\u001b[0m\u001b[0mconnect\u001b[0m\u001b[1;33m(\u001b[0m\u001b[1;33m)\u001b[0m\u001b[1;33m\u001b[0m\u001b[1;33m\u001b[0m\u001b[0m\n\u001b[0m\u001b[0;32m    840\u001b[0m \u001b[1;33m\u001b[0m\u001b[0m\n\u001b[0;32m    841\u001b[0m         \u001b[1;32mif\u001b[0m \u001b[1;32mnot\u001b[0m \u001b[0mconn\u001b[0m\u001b[1;33m.\u001b[0m\u001b[0mis_verified\u001b[0m\u001b[1;33m:\u001b[0m\u001b[1;33m\u001b[0m\u001b[1;33m\u001b[0m\u001b[0m\n",
      "\u001b[1;32m~\\Anaconda3\\lib\\site-packages\\urllib3\\connection.py\u001b[0m in \u001b[0;36mconnect\u001b[1;34m(self)\u001b[0m\n\u001b[0;32m    342\u001b[0m             \u001b[0mca_cert_dir\u001b[0m\u001b[1;33m=\u001b[0m\u001b[0mself\u001b[0m\u001b[1;33m.\u001b[0m\u001b[0mca_cert_dir\u001b[0m\u001b[1;33m,\u001b[0m\u001b[1;33m\u001b[0m\u001b[1;33m\u001b[0m\u001b[0m\n\u001b[0;32m    343\u001b[0m             \u001b[0mserver_hostname\u001b[0m\u001b[1;33m=\u001b[0m\u001b[0mserver_hostname\u001b[0m\u001b[1;33m,\u001b[0m\u001b[1;33m\u001b[0m\u001b[1;33m\u001b[0m\u001b[0m\n\u001b[1;32m--> 344\u001b[1;33m             ssl_context=context)\n\u001b[0m\u001b[0;32m    345\u001b[0m \u001b[1;33m\u001b[0m\u001b[0m\n\u001b[0;32m    346\u001b[0m         \u001b[1;32mif\u001b[0m \u001b[0mself\u001b[0m\u001b[1;33m.\u001b[0m\u001b[0massert_fingerprint\u001b[0m\u001b[1;33m:\u001b[0m\u001b[1;33m\u001b[0m\u001b[1;33m\u001b[0m\u001b[0m\n",
      "\u001b[1;32m~\\Anaconda3\\lib\\site-packages\\urllib3\\util\\ssl_.py\u001b[0m in \u001b[0;36mssl_wrap_socket\u001b[1;34m(sock, keyfile, certfile, cert_reqs, ca_certs, server_hostname, ssl_version, ciphers, ssl_context, ca_cert_dir)\u001b[0m\n\u001b[0;32m    342\u001b[0m             or IS_SECURETRANSPORT):\n\u001b[0;32m    343\u001b[0m         \u001b[1;32mif\u001b[0m \u001b[0mHAS_SNI\u001b[0m \u001b[1;32mand\u001b[0m \u001b[0mserver_hostname\u001b[0m \u001b[1;32mis\u001b[0m \u001b[1;32mnot\u001b[0m \u001b[1;32mNone\u001b[0m\u001b[1;33m:\u001b[0m\u001b[1;33m\u001b[0m\u001b[1;33m\u001b[0m\u001b[0m\n\u001b[1;32m--> 344\u001b[1;33m             \u001b[1;32mreturn\u001b[0m \u001b[0mcontext\u001b[0m\u001b[1;33m.\u001b[0m\u001b[0mwrap_socket\u001b[0m\u001b[1;33m(\u001b[0m\u001b[0msock\u001b[0m\u001b[1;33m,\u001b[0m \u001b[0mserver_hostname\u001b[0m\u001b[1;33m=\u001b[0m\u001b[0mserver_hostname\u001b[0m\u001b[1;33m)\u001b[0m\u001b[1;33m\u001b[0m\u001b[1;33m\u001b[0m\u001b[0m\n\u001b[0m\u001b[0;32m    345\u001b[0m \u001b[1;33m\u001b[0m\u001b[0m\n\u001b[0;32m    346\u001b[0m         warnings.warn(\n",
      "\u001b[1;32m~\\Anaconda3\\lib\\site-packages\\urllib3\\contrib\\pyopenssl.py\u001b[0m in \u001b[0;36mwrap_socket\u001b[1;34m(self, sock, server_side, do_handshake_on_connect, suppress_ragged_eofs, server_hostname)\u001b[0m\n\u001b[0;32m    453\u001b[0m                 \u001b[0mcnx\u001b[0m\u001b[1;33m.\u001b[0m\u001b[0mdo_handshake\u001b[0m\u001b[1;33m(\u001b[0m\u001b[1;33m)\u001b[0m\u001b[1;33m\u001b[0m\u001b[1;33m\u001b[0m\u001b[0m\n\u001b[0;32m    454\u001b[0m             \u001b[1;32mexcept\u001b[0m \u001b[0mOpenSSL\u001b[0m\u001b[1;33m.\u001b[0m\u001b[0mSSL\u001b[0m\u001b[1;33m.\u001b[0m\u001b[0mWantReadError\u001b[0m\u001b[1;33m:\u001b[0m\u001b[1;33m\u001b[0m\u001b[1;33m\u001b[0m\u001b[0m\n\u001b[1;32m--> 455\u001b[1;33m                 \u001b[1;32mif\u001b[0m \u001b[1;32mnot\u001b[0m \u001b[0mutil\u001b[0m\u001b[1;33m.\u001b[0m\u001b[0mwait_for_read\u001b[0m\u001b[1;33m(\u001b[0m\u001b[0msock\u001b[0m\u001b[1;33m,\u001b[0m \u001b[0msock\u001b[0m\u001b[1;33m.\u001b[0m\u001b[0mgettimeout\u001b[0m\u001b[1;33m(\u001b[0m\u001b[1;33m)\u001b[0m\u001b[1;33m)\u001b[0m\u001b[1;33m:\u001b[0m\u001b[1;33m\u001b[0m\u001b[1;33m\u001b[0m\u001b[0m\n\u001b[0m\u001b[0;32m    456\u001b[0m                     \u001b[1;32mraise\u001b[0m \u001b[0mtimeout\u001b[0m\u001b[1;33m(\u001b[0m\u001b[1;34m'select timed out'\u001b[0m\u001b[1;33m)\u001b[0m\u001b[1;33m\u001b[0m\u001b[1;33m\u001b[0m\u001b[0m\n\u001b[0;32m    457\u001b[0m                 \u001b[1;32mcontinue\u001b[0m\u001b[1;33m\u001b[0m\u001b[1;33m\u001b[0m\u001b[0m\n",
      "\u001b[1;32m~\\Anaconda3\\lib\\site-packages\\urllib3\\util\\wait.py\u001b[0m in \u001b[0;36mwait_for_read\u001b[1;34m(sock, timeout)\u001b[0m\n\u001b[0;32m    141\u001b[0m     \u001b[0mReturns\u001b[0m \u001b[1;32mTrue\u001b[0m \u001b[1;32mif\u001b[0m \u001b[0mthe\u001b[0m \u001b[0msocket\u001b[0m \u001b[1;32mis\u001b[0m \u001b[0mreadable\u001b[0m\u001b[1;33m,\u001b[0m \u001b[1;32mor\u001b[0m \u001b[1;32mFalse\u001b[0m \u001b[1;32mif\u001b[0m \u001b[0mthe\u001b[0m \u001b[0mtimeout\u001b[0m \u001b[0mexpired\u001b[0m\u001b[1;33m.\u001b[0m\u001b[1;33m\u001b[0m\u001b[1;33m\u001b[0m\u001b[0m\n\u001b[0;32m    142\u001b[0m     \"\"\"\n\u001b[1;32m--> 143\u001b[1;33m     \u001b[1;32mreturn\u001b[0m \u001b[0mwait_for_socket\u001b[0m\u001b[1;33m(\u001b[0m\u001b[0msock\u001b[0m\u001b[1;33m,\u001b[0m \u001b[0mread\u001b[0m\u001b[1;33m=\u001b[0m\u001b[1;32mTrue\u001b[0m\u001b[1;33m,\u001b[0m \u001b[0mtimeout\u001b[0m\u001b[1;33m=\u001b[0m\u001b[0mtimeout\u001b[0m\u001b[1;33m)\u001b[0m\u001b[1;33m\u001b[0m\u001b[1;33m\u001b[0m\u001b[0m\n\u001b[0m\u001b[0;32m    144\u001b[0m \u001b[1;33m\u001b[0m\u001b[0m\n\u001b[0;32m    145\u001b[0m \u001b[1;33m\u001b[0m\u001b[0m\n",
      "\u001b[1;32m~\\Anaconda3\\lib\\site-packages\\urllib3\\util\\wait.py\u001b[0m in \u001b[0;36mselect_wait_for_socket\u001b[1;34m(sock, read, write, timeout)\u001b[0m\n\u001b[0;32m     81\u001b[0m     \u001b[1;31m# thing.)\u001b[0m\u001b[1;33m\u001b[0m\u001b[1;33m\u001b[0m\u001b[1;33m\u001b[0m\u001b[0m\n\u001b[0;32m     82\u001b[0m     \u001b[0mfn\u001b[0m \u001b[1;33m=\u001b[0m \u001b[0mpartial\u001b[0m\u001b[1;33m(\u001b[0m\u001b[0mselect\u001b[0m\u001b[1;33m.\u001b[0m\u001b[0mselect\u001b[0m\u001b[1;33m,\u001b[0m \u001b[0mrcheck\u001b[0m\u001b[1;33m,\u001b[0m \u001b[0mwcheck\u001b[0m\u001b[1;33m,\u001b[0m \u001b[0mwcheck\u001b[0m\u001b[1;33m)\u001b[0m\u001b[1;33m\u001b[0m\u001b[1;33m\u001b[0m\u001b[0m\n\u001b[1;32m---> 83\u001b[1;33m     \u001b[0mrready\u001b[0m\u001b[1;33m,\u001b[0m \u001b[0mwready\u001b[0m\u001b[1;33m,\u001b[0m \u001b[0mxready\u001b[0m \u001b[1;33m=\u001b[0m \u001b[0m_retry_on_intr\u001b[0m\u001b[1;33m(\u001b[0m\u001b[0mfn\u001b[0m\u001b[1;33m,\u001b[0m \u001b[0mtimeout\u001b[0m\u001b[1;33m)\u001b[0m\u001b[1;33m\u001b[0m\u001b[1;33m\u001b[0m\u001b[0m\n\u001b[0m\u001b[0;32m     84\u001b[0m     \u001b[1;32mreturn\u001b[0m \u001b[0mbool\u001b[0m\u001b[1;33m(\u001b[0m\u001b[0mrready\u001b[0m \u001b[1;32mor\u001b[0m \u001b[0mwready\u001b[0m \u001b[1;32mor\u001b[0m \u001b[0mxready\u001b[0m\u001b[1;33m)\u001b[0m\u001b[1;33m\u001b[0m\u001b[1;33m\u001b[0m\u001b[0m\n\u001b[0;32m     85\u001b[0m \u001b[1;33m\u001b[0m\u001b[0m\n",
      "\u001b[1;32m~\\Anaconda3\\lib\\site-packages\\urllib3\\util\\wait.py\u001b[0m in \u001b[0;36m_retry_on_intr\u001b[1;34m(fn, timeout)\u001b[0m\n\u001b[0;32m     40\u001b[0m     \u001b[1;31m# Modern Python, that retries syscalls by default\u001b[0m\u001b[1;33m\u001b[0m\u001b[1;33m\u001b[0m\u001b[1;33m\u001b[0m\u001b[0m\n\u001b[0;32m     41\u001b[0m     \u001b[1;32mdef\u001b[0m \u001b[0m_retry_on_intr\u001b[0m\u001b[1;33m(\u001b[0m\u001b[0mfn\u001b[0m\u001b[1;33m,\u001b[0m \u001b[0mtimeout\u001b[0m\u001b[1;33m)\u001b[0m\u001b[1;33m:\u001b[0m\u001b[1;33m\u001b[0m\u001b[1;33m\u001b[0m\u001b[0m\n\u001b[1;32m---> 42\u001b[1;33m         \u001b[1;32mreturn\u001b[0m \u001b[0mfn\u001b[0m\u001b[1;33m(\u001b[0m\u001b[0mtimeout\u001b[0m\u001b[1;33m)\u001b[0m\u001b[1;33m\u001b[0m\u001b[1;33m\u001b[0m\u001b[0m\n\u001b[0m\u001b[0;32m     43\u001b[0m \u001b[1;32melse\u001b[0m\u001b[1;33m:\u001b[0m\u001b[1;33m\u001b[0m\u001b[1;33m\u001b[0m\u001b[0m\n\u001b[0;32m     44\u001b[0m     \u001b[1;31m# Old and broken Pythons.\u001b[0m\u001b[1;33m\u001b[0m\u001b[1;33m\u001b[0m\u001b[1;33m\u001b[0m\u001b[0m\n",
      "\u001b[1;31mKeyboardInterrupt\u001b[0m: "
     ]
    }
   ],
   "source": [
    "for article in cnn_paper.articles:\n",
    "    article.download()\n",
    "    article.parse()\n",
    "    print(article.publish_date)"
   ]
  },
  {
   "cell_type": "code",
   "execution_count": 101,
   "metadata": {},
   "outputs": [
    {
     "data": {
      "text/plain": [
       "['weekyou',\n",
       " 'trial',\n",
       " 'useget',\n",
       " 'pay',\n",
       " 'startedpurchase',\n",
       " 'read',\n",
       " 'subscribe',\n",
       " 'month',\n",
       " 'ends',\n",
       " 'team',\n",
       " 'subscription',\n",
       " 'enterprise']"
      ]
     },
     "execution_count": 101,
     "metadata": {},
     "output_type": "execute_result"
    }
   ],
   "source": [
    "article = cnn_paper.articles[0]\n",
    "article.download()\n",
    "article.parse()\n",
    "article.nlp()\n",
    "article.keywords"
   ]
  },
  {
   "cell_type": "code",
   "execution_count": 3,
   "metadata": {
    "scrolled": true
   },
   "outputs": [
    {
     "data": {
      "text/plain": [
       "['http://www.huffingtonpost.com',\n",
       " 'http://cnn.com',\n",
       " 'http://www.time.com',\n",
       " 'http://www.ted.com',\n",
       " 'http://pandodaily.com',\n",
       " 'http://www.cnbc.com',\n",
       " 'http://www.mlb.com',\n",
       " 'http://www.pcmag.com',\n",
       " 'http://www.foxnews.com',\n",
       " 'http://theatlantic.com',\n",
       " 'http://www.bbc.co.uk',\n",
       " 'http://www.vice.com',\n",
       " 'http://www.elle.com',\n",
       " 'http://www.vh1.com',\n",
       " 'http://espnf1.com',\n",
       " 'http://espn.com',\n",
       " 'http://www.npr.org',\n",
       " 'http://www.sfgate.com',\n",
       " 'http://www.glamour.com',\n",
       " 'http://www.whosdatedwho.com',\n",
       " 'http://kotaku.com',\n",
       " 'http://thebostonchannel.com',\n",
       " 'http://www.suntimes.com',\n",
       " 'http://www.businessinsider.com',\n",
       " 'http://www.rivals.com',\n",
       " 'http://thebusinessjournal.com',\n",
       " 'http://www.newrepublic.com',\n",
       " 'http://allthingsd.com',\n",
       " 'http://www.topgear.com',\n",
       " 'http://thecitizen.com',\n",
       " 'http://www.ign.com',\n",
       " 'http://www.sci-news.com',\n",
       " 'http://www.morningstar.com',\n",
       " 'http://www.variety.com',\n",
       " 'http://thebottomline.as.ucsb.edu',\n",
       " 'http://www.gamefaqs.com',\n",
       " 'http://blog.searchenginewatch.com',\n",
       " 'http://thedailyfairfield.com',\n",
       " 'http://www.solarnovus.com',\n",
       " 'http://medicalxpress.com',\n",
       " 'http://www.news.com.au',\n",
       " 'http://www.health.com',\n",
       " 'http://www.computerandvideogames.com',\n",
       " 'http://wsj.com',\n",
       " 'http://www.allure.com',\n",
       " 'http://www.theinsider.com',\n",
       " 'http://cnet.com',\n",
       " 'http://venturebeat.com',\n",
       " 'http://www.topspeed.com',\n",
       " 'http://thedailyworld.com',\n",
       " 'http://games.com',\n",
       " 'http://www.religionnews.com',\n",
       " 'http://blogs.berkeley.edu',\n",
       " 'http://www.sbnation.com',\n",
       " 'http://www.polygon.com',\n",
       " 'http://nytimes.com',\n",
       " 'http://www.thefrisky.com',\n",
       " 'http://telegram.com',\n",
       " 'http://yahoo.com',\n",
       " 'http://www.nbcnews.com',\n",
       " 'http://thedailypage.com',\n",
       " 'http://www.popsci.com',\n",
       " 'http://www.pbs.org',\n",
       " 'http://www.nasa.gov',\n",
       " 'http://www.guardiannews.com',\n",
       " 'http://www.weather.com',\n",
       " 'http://www.gq.com',\n",
       " 'http://www.etonline.com',\n",
       " 'http://telegraph.co.uk',\n",
       " 'http://www.fastcompany.com',\n",
       " 'http://www.infoworld.com',\n",
       " 'http://www.wired.com',\n",
       " 'http://www.pcgamer.com',\n",
       " 'http://sportingnews.com',\n",
       " 'http://theatlanticwire.com',\n",
       " 'http://thecarconnection.com',\n",
       " 'http://www.sun-sentinel.com',\n",
       " 'http://autoblog.com',\n",
       " 'http://www.environmentalleader.com',\n",
       " 'http://thecrimson.com',\n",
       " 'http://thecypresstimes.com',\n",
       " 'http://www.dailyfinance.com',\n",
       " 'http://www.politico.com',\n",
       " 'http://newsroom.fb.com',\n",
       " 'http://news.ycombinator.com',\n",
       " 'http://lifehacker.com',\n",
       " 'http://www.bet.com',\n",
       " 'http://independent.co.uk',\n",
       " 'http://www.mlssoccer.com',\n",
       " 'http://www.bodybuilding.com',\n",
       " 'http://www.cosmopolitan.com',\n",
       " 'http://www.apple.com',\n",
       " 'http://www.autonews.com',\n",
       " 'http://www.eonline.com',\n",
       " 'http://www.vanityfair.com',\n",
       " 'http://techdigest.tv',\n",
       " 'http://www.maximumpc.com',\n",
       " 'http://www.techradar.com',\n",
       " 'http://thedailyjournal.com',\n",
       " 'http://www.mlive.com',\n",
       " 'http://techworld.com.au',\n",
       " 'http://www.techmeme.com',\n",
       " 'http://thedailynewsegypt.com',\n",
       " 'http://thedailygrind.com.au',\n",
       " 'http://techcrunch.com',\n",
       " 'http://tehrantimes.com',\n",
       " 'http://www.hollywoodreporter.com',\n",
       " 'http://thedailysound.com',\n",
       " 'http://www.stltoday.com',\n",
       " 'http://deadspin.com',\n",
       " 'http://www.digitaltrends.com',\n",
       " 'http://seattletimes.com',\n",
       " 'http://seattlepi.com',\n",
       " 'http://www.cleveland.com',\n",
       " 'http://heritage.org',\n",
       " 'http://www.today.com',\n",
       " 'http://www.politifact.com',\n",
       " 'http://zdnet.com',\n",
       " 'http://www.nationalenquirer.com',\n",
       " 'http://egotastic.com',\n",
       " 'http://blogs.creativeloafing.com',\n",
       " 'http://townhall.com',\n",
       " 'http://www.eweek.com',\n",
       " 'http://www.vogue.co.uk',\n",
       " 'http://www.teenvogue.com',\n",
       " 'http://www.nypost.com',\n",
       " 'http://www.reuters.com',\n",
       " 'http://www.scientificamerican.com',\n",
       " 'http://www.miamiherald.com',\n",
       " 'http://www.nydailynews.com',\n",
       " 'http://www.newscientist.com',\n",
       " 'http://bigstory.ap.org',\n",
       " 'http://www.ebony.com',\n",
       " 'http://thedailystar.com',\n",
       " 'http://www.technologyreview.com',\n",
       " 'http://www.theverge.com',\n",
       " 'http://www.nba.com',\n",
       " 'http://www.cbssports.com',\n",
       " 'http://betabeat.com',\n",
       " 'http://www.tmz.com',\n",
       " 'http://tcnewsnet.com',\n",
       " 'http://www.latimes.com',\n",
       " 'http://www.c-span.org',\n",
       " 'http://www.style.com',\n",
       " 'http://www.peoplestylewatch.com',\n",
       " 'http://theboot.com',\n",
       " 'http://www.foxbusiness.com',\n",
       " 'http://www.pcworld.com',\n",
       " 'http://washingtontimes.com',\n",
       " 'http://thedailyreview.com',\n",
       " 'http://www.nfl.com',\n",
       " 'http://www.space.com',\n",
       " 'http://washingtontechnology.com',\n",
       " 'http://www.buzzfeed.com',\n",
       " 'http://inquirer.net',\n",
       " 'http://www.maxim.com',\n",
       " 'http://abcnews.com',\n",
       " 'http://www.extremetech.com',\n",
       " 'http://thedailytimes.com',\n",
       " 'http://mashable.com',\n",
       " 'http://washingtonexaminer.com',\n",
       " 'http://www.bhg.com',\n",
       " 'http://tech.mit.edu',\n",
       " 'http://hotair.com',\n",
       " 'http://www.1up.com',\n",
       " 'http://www.cbc.ca',\n",
       " 'http://gawker.com',\n",
       " 'http://celebuzz.com',\n",
       " 'http://sciencemag.org',\n",
       " 'http://www.rollingstone.com',\n",
       " 'http://slashdot.org',\n",
       " 'http://www.slate.com',\n",
       " 'http://bleacherreport.com',\n",
       " 'http://www.nascar.com',\n",
       " 'http://www.forbes.com',\n",
       " 'http://washingtonpost.com',\n",
       " 'http://nymag.com',\n",
       " 'http://www.microsoft.com',\n",
       " 'http://hbr.org',\n",
       " 'http://www.ft.com',\n",
       " 'http://www.dailymail.co.uk',\n",
       " 'http://www.theautochannel.com',\n",
       " 'http://g4tv.com',\n",
       " 'http://www.aljazeera.com',\n",
       " 'http://politicker.com',\n",
       " 'http://nbcsports.nbc.com',\n",
       " 'http://www.gamespot.com',\n",
       " 'http://news.sky.com',\n",
       " 'http://www.joystiq.com',\n",
       " 'http://www.escapistmagazine.com',\n",
       " 'http://www.thestreet.com',\n",
       " 'http://www.ew.com',\n",
       " 'http://www.nj.com',\n",
       " 'http://msn.com',\n",
       " 'http://thedailyreporter.com',\n",
       " 'http://www.economist.com',\n",
       " 'http://phys.org',\n",
       " 'http://www.glam.com',\n",
       " 'http://perezhilton.com',\n",
       " 'http://www.usmagazine.com',\n",
       " 'http://aol.com',\n",
       " 'http://www.cbsnews.com',\n",
       " 'http://www.tennis.com',\n",
       " 'http://washingtonian.com',\n",
       " 'http://www.sciencedaily.com',\n",
       " 'http://foxsports.com',\n",
       " 'http://www.popularmechanics.com',\n",
       " 'http://www.macworld.com',\n",
       " 'http://thinkprogress.org',\n",
       " 'http://www.mtv.com',\n",
       " 'http://discovery.com',\n",
       " 'http://www.people.com',\n",
       " 'http://thedailybeast.com',\n",
       " 'http://www.hollywood.com',\n",
       " 'http://medium.com',\n",
       " 'http://www.engadget.com',\n",
       " 'http://www.usnews.com',\n",
       " 'http://www.billboard.com',\n",
       " 'http://nationalgeographic.com',\n",
       " 'http://www.purseblog.com',\n",
       " 'http://www.giantbomb.com',\n",
       " 'http://www.automobilemag.com',\n",
       " 'http://thechronicle.com.au',\n",
       " 'http://tbnweekly.com',\n",
       " 'http://techreport.com',\n",
       " 'http://thedailyfix.com',\n",
       " 'http://www.animenewsnetwork.com',\n",
       " 'http://www.realclearpolitics.com',\n",
       " 'http://usatoday.com',\n",
       " 'http://www.techspot.com',\n",
       " 'http://discovermagazine.com',\n",
       " 'http://arstechnica.com',\n",
       " 'http://foreignpolicy.com',\n",
       " 'http://www.redstate.com',\n",
       " 'http://www.marketwatch.com',\n",
       " 'http://www.eurogamer.net',\n",
       " 'http://cbn.com',\n",
       " 'http://www.parade.com',\n",
       " 'http://www.bbcamerica.com',\n",
       " 'http://washingtonindependent.com',\n",
       " 'http://drudgereport.com',\n",
       " 'http://beta.na.leagueoflegends.com']"
      ]
     },
     "execution_count": 3,
     "metadata": {},
     "output_type": "execute_result"
    }
   ],
   "source": [
    "newspaper.popular_urls()"
   ]
  },
  {
   "cell_type": "code",
   "execution_count": null,
   "metadata": {},
   "outputs": [],
   "source": []
  },
  {
   "cell_type": "code",
   "execution_count": 34,
   "metadata": {},
   "outputs": [],
   "source": [
    "url = 'https://gnews.io/api/v3/search?q= &maxdate=2018-12-31&token=d163de8a5d5f990c979125c117b241fd'\n",
    "resp = requests.get(url)"
   ]
  },
  {
   "cell_type": "code",
   "execution_count": 35,
   "metadata": {},
   "outputs": [
    {
     "data": {
      "text/plain": [
       "{'errors': ['q is required']}"
      ]
     },
     "execution_count": 35,
     "metadata": {},
     "output_type": "execute_result"
    }
   ],
   "source": [
    "resp.json()"
   ]
  },
  {
   "cell_type": "code",
   "execution_count": null,
   "metadata": {},
   "outputs": [],
   "source": []
  },
  {
   "cell_type": "code",
   "execution_count": null,
   "metadata": {},
   "outputs": [],
   "source": []
  },
  {
   "cell_type": "code",
   "execution_count": null,
   "metadata": {},
   "outputs": [],
   "source": []
  },
  {
   "cell_type": "code",
   "execution_count": 64,
   "metadata": {},
   "outputs": [],
   "source": [
    "import requests"
   ]
  },
  {
   "cell_type": "code",
   "execution_count": 81,
   "metadata": {},
   "outputs": [],
   "source": [
    "url = 'https://newsapi.org/v2/everything?sources=polygon&language=en&apiKey=bfb917bca91c435d9c7efd247d95227b'\n",
    "resp = requests.get(url)"
   ]
  },
  {
   "cell_type": "code",
   "execution_count": 82,
   "metadata": {},
   "outputs": [
    {
     "data": {
      "text/plain": [
       "{'status': 'ok',\n",
       " 'totalResults': 641,\n",
       " 'articles': [{'source': {'id': 'polygon', 'name': 'Polygon'},\n",
       "   'author': 'Palmer Haasch',\n",
       "   'title': 'Every new anime series & movie on Netflix in August',\n",
       "   'description': 'After the release of Neon Genesis Evangelion in June, July and August have been slightly dry anime-wise for Netflix. However, a number of original series like Cannon Busters, Carole & Tuesday, and Kengan Ashura have been or will be released, alongside documen…',\n",
       "   'url': 'https://www.polygon.com/2019/8/16/20809194/netflix-new-anime-august-2019-shows-carole-and-tuesday-cannon-busters-kengan-ashura-release-dates',\n",
       "   'urlToImage': 'https://cdn.vox-cdn.com/thumbor/nxAj8jKnfIEgWaJAzcZmoAGc7FU=/0x24:1436x776/fit-in/1200x630/cdn.vox-cdn.com/uploads/chorus_asset/file/19016092/image__2_.jpg',\n",
       "   'publishedAt': '2019-08-17T00:45:11Z',\n",
       "   'content': 'June was a monster month of anime for Netflix. The series finally gave a legal home to Hideaki Annos seminal work Neon Genesis Evangelion, while emotionally laden series like March Comes in Like a Lion and A Silent Voice also hit the platform. Those releases … [+3959 chars]'},\n",
       "  {'source': {'id': 'polygon', 'name': 'Polygon'},\n",
       "   'author': 'Palmer Haasch',\n",
       "   'title': 'The best thing about Netflix’s Invader Zim: Enter the Florpus is Dib getting what he wants',\n",
       "   'description': 'Invader Zim returned today with a Netflix special titled Enter the Florpus. The special brings back classic characters like Zim, Gir, Dib, Gaz, Minimoose, and Professor Membrane. It also digs into the relationship between Dib and his father, which has histori…',\n",
       "   'url': 'https://www.polygon.com/2019/8/16/20808600/invader-zim-enter-the-florpus-dib-professor-membrane-review',\n",
       "   'urlToImage': 'https://cdn.vox-cdn.com/thumbor/lIb1SJPljj3hr17Lkrdw1DwSbxg=/0x75:3840x2085/fit-in/1200x630/cdn.vox-cdn.com/uploads/chorus_asset/file/18995331/Zim_Still_3.png',\n",
       "   'publishedAt': '2019-08-16T22:00:00Z',\n",
       "   'content': 'Invader Zim is fully back on its typical Invader Zim bullshit in Enter the Florpus, a new Netflix special that revisits the series over 10 years after it went off the air. \\r\\nThe special revisits the perpetual conflict between Zim and Dib, who are both feeling… [+3396 chars]'},\n",
       "  {'source': {'id': 'polygon', 'name': 'Polygon'},\n",
       "   'author': 'Russ Frushtick',\n",
       "   'title': 'Respawn reverses course after Apex Legends loot box controversy',\n",
       "   'description': 'After negatively reacting to the news that certain cosmetics were locked behind loot boxes, fans will now be able to purchase Iron Crown skins directly.',\n",
       "   'url': 'https://www.polygon.com/2019/8/16/20809376/apex-legends-loot-boxes-skins-iron-crown',\n",
       "   'urlToImage': 'https://cdn.vox-cdn.com/thumbor/xbnR4oQGCPEEYnzqnzubkv6rD4U=/0x31:1600x869/fit-in/1200x630/cdn.vox-cdn.com/uploads/chorus_asset/file/18969565/Iron_crown_patch.png',\n",
       "   'publishedAt': '2019-08-16T21:57:22Z',\n",
       "   'content': 'Respawn Entertainment/Electronic Arts Fans will now be able to purchase Iron Crown skins directly Earlier this week, Respawn launched the Iron Crown event in Apex Legends. The event introduced a handful of new skins to the game, but all of these cosmetics wer… [+1168 chars]'},\n",
       "  {'source': {'id': 'polygon', 'name': 'Polygon'},\n",
       "   'author': 'Ryan Gilliam',\n",
       "   'title': 'Destiny 2: Shadowkeep will see reduced player numbers, damage buff changes',\n",
       "   'description': 'Destiny 2 damage has gotten out of control over the past two years. With Destiny 2: Shadowkeep, Bungie intends to reduce player access to Supers, heavy ammo, and reduce damage buffs and debuffs.',\n",
       "   'url': 'https://www.polygon.com/2019/8/16/20809139/destiny-2-shadowkeep-damage-buffs-debuffs-numbers-reduced-enemy-immunity',\n",
       "   'urlToImage': 'https://cdn.vox-cdn.com/thumbor/T8KcRLO32Z9j3B_H9u_4IXfEpCI=/35x0:1406x718/fit-in/1200x630/cdn.vox-cdn.com/uploads/chorus_asset/file/10781951/strikes_desktop.jpg',\n",
       "   'publishedAt': '2019-08-16T20:30:00Z',\n",
       "   'content': 'Bungie/Activision Few Supers and less access to heavy ammo is also on the way After two full years of Destiny 2, some player powers have gotten a bit out of hand. Every expansion or season that goes by, it gets easier and easier to hit 999,999 damage on a onc… [+2560 chars]'},\n",
       "  {'source': {'id': 'polygon', 'name': 'Polygon'},\n",
       "   'author': 'Matt Patches',\n",
       "   'title': 'Cold Case Hammarskjöld is like a twist-filled, true crime podcast in movie form',\n",
       "   'description': 'Mads Brügger’s new documentary is like Serial for the 1961 plane crash death of UN General Secretary Dag Hammarskjöld. The movie, now in theaters, punctures a conspiracy theory and uncovers a plot involving African politics, shadow government orgs, and the AI…',\n",
       "   'url': 'https://www.polygon.com/2019/8/16/20805810/cold-case-hammarskjold-review-true-crime-documentary',\n",
       "   'urlToImage': 'https://cdn.vox-cdn.com/thumbor/pBtFRPADb6gYTFmQLHrCNsQCE4Y=/0x340:3240x2036/fit-in/1200x630/cdn.vox-cdn.com/uploads/chorus_asset/file/18972055/1.jpg',\n",
       "   'publishedAt': '2019-08-16T20:13:09Z',\n",
       "   'content': 'You know the feeling you have when youre really close to something, but youre further away than ever before?\\r\\nDocumentarian Mads Brügger didnt particularly care about Dag Hammarskjöld when he began investigating the mysterious plane crash that took the U.N. S… [+3979 chars]'},\n",
       "  {'source': {'id': 'polygon', 'name': 'Polygon'},\n",
       "   'author': 'Owen S. Good',\n",
       "   'title': 'Travis Strikes Again gets a PS4 and PC launch date',\n",
       "   'description': 'Travis Strikes Again: No More Heroes launches Oct. 17 on PlayStation 4 and Windows PC. The launch includes two DLC extensions that followed the game when it originally debuted on Nintendo Switch in January 2019.',\n",
       "   'url': 'https://www.polygon.com/2019/8/16/20809213/travis-strikes-again-no-more-heroes-release-dates-pc-ps4-steam',\n",
       "   'urlToImage': 'https://cdn.vox-cdn.com/thumbor/lKVRPpIaCab5TBS9-Lp9Hb5ygb8=/0x20:1176x636/fit-in/1200x630/cdn.vox-cdn.com/uploads/chorus_asset/file/9146411/DIf1sTUXoAAAIUu.jpg',\n",
       "   'publishedAt': '2019-08-16T20:06:11Z',\n",
       "   'content': 'Grasshopper Manufacture Travis Touchdown and his Beam Katana arrive in October Travis Strikes Again: No More Heroes has a launch date on PlayStation 4 and Windows PC : Oct. 17. The third game in Suda51’s eclectic series launched in January on Nintendo Switch.… [+828 chars]'},\n",
       "  {'source': {'id': 'polygon', 'name': 'Polygon'},\n",
       "   'author': 'Ryan Gilliam',\n",
       "   'title': 'Bungie is retooling Destiny 2’s PvP this fall, teasing the return of Trials',\n",
       "   'description': 'Destiny 2’s Crucible has been in a tough spot for a few months. PvP players have struggled to find the fun, but Bungie is revitalizing the mode with new maps, playlists, and the potential return of Trials of Osiris.',\n",
       "   'url': 'https://www.polygon.com/2019/8/16/20809001/destiny-2-shadowkeep-pvp-crucible-rework-trials-nine-osiris-elimination-mode-playlist',\n",
       "   'urlToImage': 'https://cdn.vox-cdn.com/thumbor/OBduzGBrLnmmetHk-z-_5s-K33k=/0x38:1920x1043/fit-in/1200x630/cdn.vox-cdn.com/uploads/chorus_asset/file/9239041/Destiny_2_20170912214832.jpg',\n",
       "   'publishedAt': '2019-08-16T19:39:06Z',\n",
       "   'content': 'Image: Bungie via Polygon Some fan-favorite Destiny maps are also returning Destiny franchise director Luke Smith spelled out major changes for Destiny 2: Shadowkeep ’s player-versus-player modes in his final Director’s Cut blog post on Friday. Destiny 2 ’s m… [+2157 chars]'},\n",
       "  {'source': {'id': 'polygon', 'name': 'Polygon'},\n",
       "   'author': 'Karen Han',\n",
       "   'title': 'Buñuel in the Labyrinth of the Turtles is provocative animated look at a provocateur',\n",
       "   'description': 'Salvador Simó’s new animated film about Luis Buñuel takes place during the shooting of Las Hurdes. It’s gorgeous to look at, but perhaps a little difficult to follow for anyone unfamiliar with Buñuel’s work. In limited release now.',\n",
       "   'url': 'https://www.polygon.com/2019/8/16/20807815/bunuel-in-the-labyrinth-of-the-turtles-review-animated-films',\n",
       "   'urlToImage': 'https://cdn.vox-cdn.com/thumbor/rPWQVfv52i2kYUKm8dQ7W5gUcco=/0x0:1920x1005/fit-in/1200x630/cdn.vox-cdn.com/uploads/chorus_asset/file/18994648/ae02cb_0aa250362bdb417e9e6ba5d8e8d5565a_mv2.jpg',\n",
       "   'publishedAt': '2019-08-16T19:20:04Z',\n",
       "   'content': 'Salvador Simós animated film Buñuel in the Labyrinth of the Turtles tells the real-life story about a surrealist through the marvels of animation, bringing life to his visions in a way that live action cant quite embody. But while the movies broader musings o… [+3910 chars]'},\n",
       "  {'source': {'id': 'polygon', 'name': 'Polygon'},\n",
       "   'author': 'Michael McWhertor',\n",
       "   'title': 'Nintendo exchanging some Switch consoles to new model with better battery life',\n",
       "   'description': 'If you bought a Switch on or after July 17, you could be eligible for a return with Nintendo to receive the upgraded Nintendo Switch model with improved battery life.',\n",
       "   'url': 'https://www.polygon.com/2019/8/16/20809056/nintendo-switch-exchange-upgrade-new-battery-life',\n",
       "   'urlToImage': 'https://cdn.vox-cdn.com/thumbor/-lLzKyWXYuuIez-e7ToenqFDrU0=/0x220:2040x1288/fit-in/1200x630/cdn.vox-cdn.com/uploads/chorus_asset/file/8030119/nintendo_switch_with_dock.jpg',\n",
       "   'publishedAt': '2019-08-16T19:12:52Z',\n",
       "   'content': 'Nintendo is giving some Switch owners the option to trade in their recently purchased systems for the latest revision of the console that offers improved battery life. But the offer to upgrade to the latest model of the Nintendo Switch appears to be limited t… [+1588 chars]'},\n",
       "  {'source': {'id': 'polygon', 'name': 'Polygon'},\n",
       "   'author': 'Chelsea Stark',\n",
       "   'title': 'The definitive Alvin and the Chipmunks movie ranking (if you only watch YouTube clip compilations)',\n",
       "   'description': 'The Polygon Show reminisces about Rocko’s Modern Life, learns about Ouran High School Host Club, and stans the criminally underappreciated Blue Lion house.',\n",
       "   'url': 'https://www.polygon.com/the-polygon-show/2019/8/16/20808961/the-polygon-show-rockos-modern-life-static-cling-intelligence-qube-blue-lions',\n",
       "   'urlToImage': 'https://cdn.vox-cdn.com/thumbor/vk25fJ0z6Bitg3FpM_Ic7jKdTkQ=/4x0:1437x750/fit-in/1200x630/cdn.vox-cdn.com/uploads/chorus_asset/file/18995486/alvin_and_the_chipmunks_chipwrecked.jpg',\n",
       "   'publishedAt': '2019-08-16T18:24:58Z',\n",
       "   'content': 'Did you know Jason Lee receives top billing in Alvin and the Chipmunks: The Squeakquel, despite only appearing in a full-body cast for most of the film? \\r\\nThese horrifying revelations were brought on The Polygon Show by Allegra this week, who mysteriously wat… [+1052 chars]'},\n",
       "  {'source': {'id': 'polygon', 'name': 'Polygon'},\n",
       "   'author': 'Austen Goslin',\n",
       "   'title': 'New deleted scene from Super Mario Bros. movie unearthed',\n",
       "   'description': 'The dedicated fans at Super Mario Bros. The Movie Archive have finally released one of the deleted Super Mario Bros. movie scenes they found back in May. The scene will eventually be part of the site’s hopeful Blu-ray re-release of the 1993 cult classic.',\n",
       "   'url': 'https://www.polygon.com/2019/8/16/20808895/smbmovie-new-deleted-scene-super-mario-bros-movie',\n",
       "   'urlToImage': 'https://cdn.vox-cdn.com/thumbor/v5NwmUCedfmFEi7pSHsobsUYP0I=/0x0:1280x670/fit-in/1200x630/cdn.vox-cdn.com/uploads/chorus_asset/file/6489677/mario-bros.0.jpg',\n",
       "   'publishedAt': '2019-08-16T17:40:51Z',\n",
       "   'content': 'The scene will hopefully be part of an eventual Blu-ray re-release Continue reading…'},\n",
       "  {'source': {'id': 'polygon', 'name': 'Polygon'},\n",
       "   'author': 'Ryan Gilliam',\n",
       "   'title': 'Destiny 2 Xur location and items, Aug. 16-20',\n",
       "   'description': 'Where is Xur this week? Head to Titan for some Exotic items from your favorite merchant. This week’s Xur inventory includes Telesto, Aeon Swift, Verity’s Brow, and Stronghold.',\n",
       "   'url': 'https://www.polygon.com/destiny-2-guide-walkthrough/2019/8/16/20808903/destiny-2-xur-location-items-august-16-20',\n",
       "   'urlToImage': 'https://cdn.vox-cdn.com/thumbor/iBLL-5itZUSZVwU_dfN80WEZSVY=/0x0:1920x1005/fit-in/1200x630/cdn.vox-cdn.com/uploads/chorus_asset/file/9253051/Xur_Destiny_2_.jpg',\n",
       "   'publishedAt': '2019-08-16T17:21:36Z',\n",
       "   'content': 'If you played Destiny, you may be familiar with Xur, the weekly Exotic item merchant. In Destiny 2, hes back, and he now appears all over the map. This week, you can find Xur on Titan, hanging out in a small building east of The Rig, taking shelter from the r… [+3133 chars]'},\n",
       "  {'source': {'id': 'polygon', 'name': 'Polygon'},\n",
       "   'author': 'Ryan Gilliam',\n",
       "   'title': 'Dauntless guide: Weekly Hunt Pass challenge for Aug 16-22',\n",
       "   'description': 'Complete Gregario Flynt’s weekly bonus challenges to get tons of Gleaming Pearls just for playing Dauntless.',\n",
       "   'url': 'https://www.polygon.com/guides/2019/8/16/20808890/dauntless-guide-weekly-hunt-pass-challenge-for-aug-16-22',\n",
       "   'urlToImage': 'https://cdn.vox-cdn.com/thumbor/YQy5QsbYYfKTOpQB79g-RhlIy54=/0x106:1572x929/fit-in/1200x630/cdn.vox-cdn.com/uploads/chorus_asset/file/16446925/Dauntless_weekly_Hunt_Pass_challenge_guide.jpg',\n",
       "   'publishedAt': '2019-08-16T16:54:13Z',\n",
       "   'content': 'Dauntless is a free-to-play monster hunting game from the team at Phoenix Labs. In a game all about hunters making suits out of monsters, the fashion can get a bit drab. Phoenix Labs solution is the Hunt Pass, which rewards players with cosmetic items to spic… [+877 chars]'},\n",
       "  {'source': {'id': 'polygon', 'name': 'Polygon'},\n",
       "   'author': 'Clayton Ashley',\n",
       "   'title': 'Anomia and Skull: two perfect board game appetizers',\n",
       "   'description': 'We play fasting thinking card game Anomia and bluffing game Skull with Brennan Lee Mulligan on the latest episode of Overboard.',\n",
       "   'url': 'https://www.polygon.com/videos/2019/8/16/20807586/anomia-skull-board-game-lets-play-overboard',\n",
       "   'urlToImage': 'https://cdn.vox-cdn.com/thumbor/suX3R3ImYMAyf9L4--HlV146fqg=/0x38:1920x1043/fit-in/1200x630/cdn.vox-cdn.com/uploads/chorus_asset/file/18994874/Overboard_party_games_thumb_no_text.png',\n",
       "   'publishedAt': '2019-08-16T16:42:00Z',\n",
       "   'content': 'Continuing our streak of short but sweet games, the Overboard crew played two more quick games with Special guest Brennan Lee Mulligan of College Humor. These are the prefect games to pull out when youre waiting on some stragglers on your board game day or ne… [+2504 chars]'},\n",
       "  {'source': {'id': 'polygon', 'name': 'Polygon'},\n",
       "   'author': 'Austen Goslin',\n",
       "   'title': 'Apex Legends has a new Octane skin available through Twitch Prime',\n",
       "   'description': 'Apex Legends’ latest event, Iron Crown, didn’t include an Octane skin. But Twitch Prime subscribers can get one in the same style as a free reward.',\n",
       "   'url': 'https://www.polygon.com/2019/8/16/20808714/apex-legends-octane-skin-twitch-prime',\n",
       "   'urlToImage': 'https://cdn.vox-cdn.com/thumbor/hJvslUvWFtpu4PBhpyNdHV8K1RM=/666x189:1920x846/fit-in/1200x630/cdn.vox-cdn.com/uploads/chorus_asset/file/18995072/Apex_Legends_08.16.2019___11.15.06.02.png',\n",
       "   'publishedAt': '2019-08-16T16:27:05Z',\n",
       "   'content': 'Respawn Entertainment/Electronic Arts Octane gets his own Iron Crown-style skin Apex Legends has, once again, partnered with Twitch to give players a new skin. This time around the new skin is for Octane, and it’s available to anyone who has Twitch Prime. The… [+1178 chars]'},\n",
       "  {'source': {'id': 'polygon', 'name': 'Polygon'},\n",
       "   'author': 'Owen S. Good',\n",
       "   'title': 'Beating this Super Mario Maker 2 level is harder than winning the lottery',\n",
       "   'description': 'YouTuber PangaeaPanda set out to create the most impossible level in Super Mario Maker 2, and he may well have succeeded. This number-guesser is solvable, but you’ll have to guess an eight-digit code correctly. Twice.',\n",
       "   'url': 'https://www.polygon.com/nintendo/2019/8/16/20808756/super-mario-maker-2-hardest-level-number-puzzle-nintendo-switch',\n",
       "   'urlToImage': 'https://cdn.vox-cdn.com/thumbor/_jQQnMAsB6gO09d4R7SdCWrXPCc=/0x12:1267x675/fit-in/1200x630/cdn.vox-cdn.com/uploads/chorus_asset/file/18994971/Screen_Shot_2019_08_16_at_11.39.11_AM.png',\n",
       "   'publishedAt': '2019-08-16T16:00:00Z',\n",
       "   'content': 'Sorry, there’s no money involved Continue reading…'},\n",
       "  {'source': {'id': 'polygon', 'name': 'Polygon'},\n",
       "   'author': 'Petrana Radulovic',\n",
       "   'title': 'Netflix unveils first look at Michael B. Jordan’s superpower family drama Raising Dion',\n",
       "   'description': 'Raising Dion stars Alisha Wainwright and Jason Ritter, with Michael B. Jordan. Single mother Nicole raises her superpowered son Dion. Based on the comic of the same name by Dennis Liu, Raising Dion premieres on Netflix on Oct. 4.',\n",
       "   'url': 'https://www.polygon.com/2019/8/16/20808711/raising-dion-michael-b-jordan-netflix-release-date',\n",
       "   'urlToImage': 'https://cdn.vox-cdn.com/thumbor/RZpzXLccCErXdGF8Fa5_Sz5ykjM=/0x285:4500x2641/fit-in/1200x630/cdn.vox-cdn.com/uploads/chorus_asset/file/18994893/RaisingDion_Season1_Episode1_00_02_34_16R2C.jpg',\n",
       "   'publishedAt': '2019-08-16T15:41:07Z',\n",
       "   'content': 'NETFLIX As if the single parent lifestyle wasn’t already hard Continue reading…'},\n",
       "  {'source': {'id': 'polygon', 'name': 'Polygon'},\n",
       "   'author': 'Cass Marshall',\n",
       "   'title': 'Tencent’s new mobile game looks like Overwatch, but even more anime',\n",
       "   'description': 'Ace Force, a new mobile game from Tencent, just opened open beta. But where does this title come from? Ace Force looks a lot like a mobile version of Blizzard’s team shooter Overwatch, and the game is already garnering significant interest in China.',\n",
       "   'url': 'https://www.polygon.com/mobile/2019/8/16/20808671/tencent-ace-force-mobile-overwatch-3v3',\n",
       "   'urlToImage': 'https://cdn.vox-cdn.com/thumbor/hRc0-GvAg4OjB8GwF8FdHLYSxaw=/0x25:1280x695/fit-in/1200x630/cdn.vox-cdn.com/uploads/chorus_asset/file/18994908/maxresdefault.jpg',\n",
       "   'publishedAt': '2019-08-16T15:27:45Z',\n",
       "   'content': 'Tencent Ace Force enters open beta Continue reading…'},\n",
       "  {'source': {'id': 'polygon', 'name': 'Polygon'},\n",
       "   'author': 'John Walker',\n",
       "   'title': 'An RPG made of beautiful ASCII drawings, and other undiscovered gems',\n",
       "   'description': 'Each week we bring you three lesser-known indie games for your consideration. This week includes Stone Story, a wonderful side-scrolling game made of ASCII characters; OXXO, an inventive puzzler; and Apsulov: End of Gods, a terrifying Viking horror game.',\n",
       "   'url': 'https://www.polygon.com/2019/8/16/20806861/new-games-2019-what-to-play-stone-story-oxxo-apsulov-pc-steam',\n",
       "   'urlToImage': 'https://cdn.vox-cdn.com/thumbor/5Fn_4Lu6o40fRwTgy5Zrss55JqQ=/0x104:2116x1212/fit-in/1200x630/cdn.vox-cdn.com/uploads/chorus_asset/file/18980593/bt_StoneStory_MartianRex2.jpg',\n",
       "   'publishedAt': '2019-08-16T15:00:00Z',\n",
       "   'content': 'Martian Rex/standardcombo We’ve sifted through the unknown to bring you three games worth your time It’s fascinating to unpack what is necessary for a great game, and it’s usually less than you think. Stone Story, an RPG made from punctuation, letters, and nu… [+6572 chars]'},\n",
       "  {'source': {'id': 'polygon', 'name': 'Polygon'},\n",
       "   'author': 'Karen Han',\n",
       "   'title': 'Danny McBride charts the ‘evolution of the misunderstood angry man’',\n",
       "   'description': 'The Righteous Gemstones marks McBride’s third HBO series, following Eastbound & Down and Vice Principals. Polygon sits down with the writer-director-actor triple threat to discuss the so-called trilogy, as well as Halloween, Alien: Covenant, and Kindle vs. ph…',\n",
       "   'url': 'https://www.polygon.com/interviews/2019/8/16/20805976/righteous-gemstones-hbo-danny-mcbride-halloween-sequels-vice-principals-eastbound-down',\n",
       "   'urlToImage': 'https://cdn.vox-cdn.com/thumbor/OU8KCwi6O64NEVK_LCADWCFiPEQ=/0x146:2040x1214/fit-in/1200x630/cdn.vox-cdn.com/uploads/chorus_asset/file/18993140/jbareham_190815_0906_danny_0001.jpg',\n",
       "   'publishedAt': '2019-08-16T15:00:00Z',\n",
       "   'content': 'HBOs new comedy The Righteous Gemstones is filled with characters that are hard to like but you cant help but sympathize with. If youre at all familiar with the men behind it Danny McBride, Jody Hill, and David Gordon Green that dichotomy shouldnt come as too… [+22394 chars]'}]}"
      ]
     },
     "execution_count": 82,
     "metadata": {},
     "output_type": "execute_result"
    }
   ],
   "source": [
    "resp.json()"
   ]
  },
  {
   "cell_type": "code",
   "execution_count": 113,
   "metadata": {},
   "outputs": [],
   "source": [
    "url = 'https://newsapi.org/v2/sources?apiKey=bfb917bca91c435d9c7efd247d95227b'\n",
    "resp = requests.get(url)"
   ]
  },
  {
   "cell_type": "code",
   "execution_count": 116,
   "metadata": {
    "collapsed": true
   },
   "outputs": [
    {
     "data": {
      "text/plain": [
       "['ABC News',\n",
       " 'ABC News (AU)',\n",
       " 'Aftenposten',\n",
       " 'Al Jazeera English',\n",
       " 'ANSA.it',\n",
       " 'Argaam',\n",
       " 'Ars Technica',\n",
       " 'Ary News',\n",
       " 'Associated Press',\n",
       " 'Australian Financial Review',\n",
       " 'Axios',\n",
       " 'BBC News',\n",
       " 'BBC Sport',\n",
       " 'Bild',\n",
       " 'Blasting News (BR)',\n",
       " 'Bleacher Report',\n",
       " 'Bloomberg',\n",
       " 'Breitbart News',\n",
       " 'Business Insider',\n",
       " 'Business Insider (UK)',\n",
       " 'Buzzfeed',\n",
       " 'CBC News',\n",
       " 'CBS News',\n",
       " 'CNBC',\n",
       " 'CNN',\n",
       " 'CNN Spanish',\n",
       " 'Crypto Coins News',\n",
       " 'Daily Mail',\n",
       " 'Der Tagesspiegel',\n",
       " 'Die Zeit',\n",
       " 'El Mundo',\n",
       " 'Engadget',\n",
       " 'Entertainment Weekly',\n",
       " 'ESPN',\n",
       " 'ESPN Cric Info',\n",
       " 'Financial Post',\n",
       " 'Focus',\n",
       " 'Football Italia',\n",
       " 'Fortune',\n",
       " 'FourFourTwo',\n",
       " 'Fox News',\n",
       " 'Fox Sports',\n",
       " 'Globo',\n",
       " 'Google News',\n",
       " 'Google News (Argentina)',\n",
       " 'Google News (Australia)',\n",
       " 'Google News (Brasil)',\n",
       " 'Google News (Canada)',\n",
       " 'Google News (France)',\n",
       " 'Google News (India)',\n",
       " 'Google News (Israel)',\n",
       " 'Google News (Italy)',\n",
       " 'Google News (Russia)',\n",
       " 'Google News (Saudi Arabia)',\n",
       " 'Google News (UK)',\n",
       " 'Göteborgs-Posten',\n",
       " 'Gruenderszene',\n",
       " 'Hacker News',\n",
       " 'Handelsblatt',\n",
       " 'IGN',\n",
       " 'Il Sole 24 Ore',\n",
       " 'Independent',\n",
       " 'Infobae',\n",
       " 'InfoMoney',\n",
       " 'La Gaceta',\n",
       " 'La Nacion',\n",
       " 'La Repubblica',\n",
       " 'Le Monde',\n",
       " 'Lenta',\n",
       " \"L'equipe\",\n",
       " 'Les Echos',\n",
       " 'Libération',\n",
       " 'Marca',\n",
       " 'Mashable',\n",
       " 'Medical News Today',\n",
       " 'Metro',\n",
       " 'Mirror',\n",
       " 'MSNBC',\n",
       " 'MTV News',\n",
       " 'MTV News (UK)',\n",
       " 'National Geographic',\n",
       " 'National Review',\n",
       " 'NBC News',\n",
       " 'News24',\n",
       " 'New Scientist',\n",
       " 'News.com.au',\n",
       " 'Newsweek',\n",
       " 'New York Magazine',\n",
       " 'Next Big Future',\n",
       " 'NFL News',\n",
       " 'NHL News',\n",
       " 'NRK',\n",
       " 'Politico',\n",
       " 'Polygon',\n",
       " 'RBC',\n",
       " 'Recode',\n",
       " 'Reddit /r/all',\n",
       " 'Reuters',\n",
       " 'RT',\n",
       " 'RTE',\n",
       " 'RTL Nieuws',\n",
       " 'SABQ',\n",
       " 'Spiegel Online',\n",
       " 'Svenska Dagbladet',\n",
       " 'T3n',\n",
       " 'TalkSport',\n",
       " 'TechCrunch',\n",
       " 'TechCrunch (CN)',\n",
       " 'TechRadar',\n",
       " 'The American Conservative',\n",
       " 'The Economist',\n",
       " 'The Globe And Mail',\n",
       " 'The Hill',\n",
       " 'The Hindu',\n",
       " 'The Huffington Post',\n",
       " 'The Irish Times',\n",
       " 'The Jerusalem Post',\n",
       " 'The Lad Bible',\n",
       " 'The New York Times',\n",
       " 'The Next Web',\n",
       " 'The Sport Bible',\n",
       " 'The Telegraph',\n",
       " 'The Times of India',\n",
       " 'The Verge',\n",
       " 'The Wall Street Journal',\n",
       " 'The Washington Post',\n",
       " 'The Washington Times',\n",
       " 'Time',\n",
       " 'USA Today',\n",
       " 'Vice News',\n",
       " 'Wired',\n",
       " 'Wired.de',\n",
       " 'Wirtschafts Woche',\n",
       " 'Xinhua Net',\n",
       " 'Ynet']"
      ]
     },
     "execution_count": 116,
     "metadata": {},
     "output_type": "execute_result"
    }
   ],
   "source": [
    "[src['name'] for src in resp.json()['sources']]"
   ]
  },
  {
   "cell_type": "code",
   "execution_count": 45,
   "metadata": {},
   "outputs": [],
   "source": [
    "import feedparser"
   ]
  },
  {
   "cell_type": "code",
   "execution_count": 46,
   "metadata": {},
   "outputs": [],
   "source": [
    "feeds = feedparser.parse('https://feeds.a.dj.com/rss/RSSMarketsMain.xml')"
   ]
  },
  {
   "cell_type": "code",
   "execution_count": 47,
   "metadata": {
    "collapsed": true
   },
   "outputs": [
    {
     "data": {
      "text/plain": [
       "['https://www.wsj.com/articles/stocks-yuan-drop-sharply-as-trade-spat-intensifies-11564981961',\n",
       " 'https://www.wsj.com/articles/chinas-yuan-falls-past-key-level-of-7-to-the-dollar-11564977948',\n",
       " 'https://www.wsj.com/articles/hsbc-to-slash-thousands-of-jobs-after-ceo-ouster-11564990152',\n",
       " 'https://www.wsj.com/articles/beijing-risks-economic-self-harm-by-weaponizing-the-yuan-11564983069',\n",
       " 'https://www.wsj.com/articles/hsbc-ceo-john-flint-is-out-after-18-months-in-role-11564963125',\n",
       " 'https://www.wsj.com/articles/3-ways-grandparents-can-help-pay-for-college-11564971241',\n",
       " 'https://www.wsj.com/articles/the-downside-of-knowing-a-lot-about-your-mutual-fund-11564971181',\n",
       " 'https://www.wsj.com/articles/what-investors-worry-yes-but-u-s-stock-funds-are-up-19-11564971121',\n",
       " 'https://www.wsj.com/articles/as-emerging-markets-recover-heres-what-investors-need-to-know-11564971000',\n",
       " 'https://www.wsj.com/articles/money-is-pouring-in-to-low-volatility-funds-11564970976',\n",
       " 'https://www.wsj.com/articles/why-arent-investors-worried-ask-howard-marks-11564970406',\n",
       " 'https://www.wsj.com/articles/stocks-and-bonds-are-up-at-the-same-time-no-worries-11564970976',\n",
       " 'https://www.wsj.com/articles/some-closed-end-funds-seem-to-have-permanent-premiums-11564970976',\n",
       " 'https://www.wsj.com/articles/reits-show-resilience-11564970743',\n",
       " 'https://www.wsj.com/articles/etfs-dont-rule-gold-after-all-says-one-analysis-11564970690',\n",
       " 'https://www.wsj.com/articles/about-to-retire-check-your-stock-exposurequickly-11564970680',\n",
       " 'https://www.wsj.com/articles/what-does-premium-priced-bonds-mean-11564970580',\n",
       " 'https://www.wsj.com/articles/quran-guided-funds-attract-non-muslims-11564970460',\n",
       " 'https://www.wsj.com/articles/vegans-may-soon-have-an-etf-11564970407',\n",
       " 'https://www.wsj.com/articles/money-rains-on-a-cloud-etf-11564970403']"
      ]
     },
     "execution_count": 47,
     "metadata": {},
     "output_type": "execute_result"
    }
   ],
   "source": [
    "[entry['link'] for entry in feeds['entries']]"
   ]
  },
  {
   "cell_type": "code",
   "execution_count": 78,
   "metadata": {},
   "outputs": [
    {
     "data": {
      "text/plain": [
       "\"Mediation between the U.S. Women’s National Soccer team and U.S. Soccer broke down this week, putting into question the future of the team’s fight over equal pay.\\n\\nPlayers with the USWNT sued U.S. Soccer in March, accusing the federation of not compensating or treating them in a manner equivalent to what the men’s team received. Mediation began in New York this week as representatives from both sides met to discuss compensation and treatment—but the efforts came to a seemingly abrupt stop on Wednesday. USWNT spokesperson Molly Levinson said they ended the meetings “sorely disappointed in the federation’s determination to perpetuate fundamentally discriminatory workplace conditions and behavior.”\\n\\nShe added that the ongoing dispute over pay disparity is likely to end up in a trial.\\n\\n“It is clear that USSF, including its Board of Directors and President Carlos Cordeiro, fully intend to continue to compensate women players less than men. They will not succeed,” Levinson said. “We want all of our fans, sponsors, peers around the world, and women everywhere to know we are undaunted and will eagerly look forward to a jury trial.”\\n\\nRepresentatives for U.S. Soccer did not immediately respond to TIME’s request for comment. In a statement to CNN, the organization said, “We have said numerous times that our goal is to find a resolution, and during mediation we had hoped we would be able to address the issues in a respectful manner and reach an agreement.”\\n\\nHere’s what to know about the USWNT’s ongoing fight for equal pay.\\n\\nWhat the U.S. Women’s National Soccer team players want\\n\\nIn a class action lawsuit filed in March and signed by 28 players on the USWNT, the women allege that they are consistently paid less than the players on the men’s team and discriminated against because of their gender, despite a strong performance record.\\n\\nThe lawsuit was part of a years-long battle between the USWNT and U.S. Soccer regarding equal pay and gender equality. In 2016, five of the team’s players filed a complaint over unequal pay and bonuses with the federal Equal Employment Opportunity Commission (EEOC). In 2017, the players signed a new collective-bargaining agreement with the soccer federation and won control over some licensing and marketing rights. But the USWNT says that agreement did not go far enough.\\n\\n“Despite continued discrimination, we do feel like we have made progress toward a more collaborative way of operating. And yet, while we made progress in our compensation terms, we were still unable to achieve equal treatment with the Men’s National Team in the CBA we ratified in April 2017,” they wrote in a letter to the federation Monday ahead of the mediation.\\n\\nNow, following years of frustration between the players and the federation, the USWNT is pointing to their successes and widespread popularity as one factor in the push for equal pay. They’ve won four of eight World Cup titles since the championship games began in 1991 and four Olympic gold medals since the first women’s soccer tournament in 1996.\\n\\nIn their letter to U.S. Soccer, the women’s team pointed to their “remarkable” success during the 2019 World Cup. “We witnessed higher revenue numbers, higher ratings, more fans, more enthusiasm,” the players wrote. “The tired, arcane, irrelevant arguments and protestations of the male-dominated soccer world fell apart during those weeks.”\\n\\nThey added: “For both parties, the risk of not resolving our disagreements over equal treatment that were not addressed either in bargaining or through the EEOC is too high.”\\n\\nMegan Rapinoe of the USA lifts the FIFA Women's World Cup Trophy following her team's victory in the 2019 FIFA Women's World Cup France Final match between The United States of America and The Netherlands at Stade de Lyon on July 07, 2019 in Lyon, France. Alex Grimm—Getty Images\\n\\nWhat U.S. Soccer has said\\n\\nIn an open letter issued after the lawsuit was filed, the U.S. Soccer said it surprised by the complaint and that it had increased its investment in the women’s team in recent years.\\n\\nU.S. Soccer denied the women players’ claims in a court filing in May, saying the gap in pay stems from “differences in aggregate revenue generated by the different teams and/or any other factor other than sex,” arguing that the men’s and women’s teams are “physically and functionally separate organizations,” the Washington Post reported in July.\\n\\nAfter the World Cup, U.S. Soccer hired two lobbying firms in Washington D.C. to deny the claims of unequal pay in front of Congress, which sought to require the federation to pay both teams equally, according to a Politico report. While the U.S. government does not fund U.S. Soccer, the USWNT’s fight over equal pay has attracted attention from lawmakers. More than 50 members of Congress sent a letter to U.S. Soccer decrying the unequal treatment alleged by the USWNT. West Virginia Sen. Joe Manchin tied the equal pay issue into a bill he introduced that would withhold federal funding for the men’s 2026 World Cup, which will be held in the U.S., Mexico and Canada, until the pay dispute was resolved.\\n\\nU.S. Soccer’s move to hire lobbyists was criticized by both the mens and women’s teams.\\n\\nAt the end of July, U.S. Soccer president Carlos Cordeiro argued that the women’s team has actually been paid more than the men’s team, saying that the federation paid the USWNT $34.1 million in salaries and game bonuses, while the men received $26.4 million. The figures, compiled by U.S. Soccer and based on an analysis by the federation’s staff, did not include the benefits, such as health care and a 401(k), that female players get. (Men are not provided the same benefits, according to the federation). U.S. Soccer’s numbers also included National Women’s Soccer League salaries that U.S. Soccer pays, which were negotiated in the 2017 CBA. (The federation does not pay Major League Soccer salaries).\\n\\nHow women players are compensated compared to the men\\n\\nThis is where things get very complicated. While the issue of establishing equal pay between the two teams seems like a matter of adjusting some numbers, the collective bargaining agreements for the men and women players detail differing pay structures.\\n\\nGabe Feldman, a sports law professor at Tulane University, tells TIME it’s not that unusual that the mediation attempt ended unsuccessfully. “Many equal pay cases are complicated and are difficult issues to prove,” he says. “In many cases, the fight is over whether the jobs are similar, not over the level of pay. In this case, both questions are difficult: Are the jobs similar and is the pay equal? Are there factors other than gender leading to pay difference?”\\n\\nMaking a direct comparison between how much the men earned versus the women is difficult because of the different contracts signed by men and women players and other factors that come into play, according to Feldman. Among other things, players factor in the number of games they play, which tournaments they play in, the popularity of soccer in general and the money they make outside of soccer through sponsorships or other work to determine what they think is a fair amount to make, he says.\\n\\nWomen players under contract earn a base salary of $100,000 and can earn some bonuses based on game performance. Players on the men’s team only earn bonuses.\\n\\nIn the USWNT’s lawsuit, compensation models showed that if both teams won 20 games in a row, women would make 38% less than their male counterparts. That calculation was based on the women’s team’s prior collective bargaining agreement, which expired in December 2016. The Washington Post, which ran the numbers based on the new collective bargaining agreement that became effective in April 2017, found that if the women’s team won 20 games in a row, a player would earn $28,333 less, or about 89% of what a male player would make.\\n\\nThe Post noted that were both teams to lose all 20 games, they would make the same amount because the men receive a $5,000 bonus for losing and the women have a base salary.\\n\\nCompensation changes even further when it comes to the World Cup—though the pool money at stake here is set by FIFA, which gives prize winnings to the national federations behind each soccer team. For the Women’s World Cup, prize money totaled to $30 million in 2019, according to the Post. The USWNT earned about $4 million for winning the tournament. By contrast, the prize money pool for the 2018 Men’s World Cup totaled about $400 million, giving reigning champion France’s men’s team $38 million—more than the total pool for the women.\\n\\nU.S. Soccer offers bonuses to each team based on different wins throughout the World Cup tournament. The USWNT players each received about $250,000 in bonus payment for the World Cup, according to the Times. Under the men’s team’s collective bargaining agreement, players receive $3,000 more if they lose a Wold Cup qualifying match than what women earn for winning, the Post reports.\\n\\nCarli Lloyd #10 of the United States celebrates her goal with Tobin Heath #17 and Crystal Dunn #19, to take a 3-0 lead over the Republic of Ireland, during the first half of the first game of the USWNT Victory Tour at Rose Bowl on August 03, 2019 in Pasadena, California. Harry How—Getty Images\\n\\nWhat will happen next in the USWNT equal pay lawsuit\\n\\nThe case is likely to be settled in a trial, according to Feldman. U.S. Soccer will be responsible for proving that any gaps in pay are a result of “good faith negotiation,” Feldman says. U.S. Soccer will try to make the case that the pay gap boils down to the two different collective bargaining agreements agreed to by each team under their separate players’ associations, he says. They will have to show that the current situation is “just a product of collective bargaining.”\\n\\nU.S. Soccer and the USWNT disagree both on how much the players get paid and on how such payments are quantified when compared with what male players receive. “The federation says, among other things, that it’s apples to oranges,” says Feldman. “There is not one right answer to what is fair—the answer is in what they agreed [in the collective bargaining agreements]. It’s not like a math formula will give you the right amount.”\\n\\nFor the women players, he says, the challenge will be to prove that the gaps are a product of gender discrimination.\\n\\n“One of the threshold issues is that there’s no agreement on what the relative levels of pay are,” Feldman says. “[U.S. Soccer] claims the women are making just as much if not more than the men. They have to prove they are getting paid less and then prove that the disparity is attributable to gender discrimination and not other gender neutral factors.”\\n\\nWrite to Mahita Gajanan at mahita.gajanan@time.com.\""
      ]
     },
     "execution_count": 78,
     "metadata": {},
     "output_type": "execute_result"
    }
   ],
   "source": [
    "article = newspaper.Article('https://time.com/5653250/uswnt-equal-pay-lawsuit/')\n",
    "article.download()\n",
    "article.parse()\n",
    "article.text"
   ]
  },
  {
   "cell_type": "code",
   "execution_count": null,
   "metadata": {},
   "outputs": [],
   "source": []
  },
  {
   "cell_type": "code",
   "execution_count": null,
   "metadata": {},
   "outputs": [],
   "source": []
  },
  {
   "cell_type": "code",
   "execution_count": 1,
   "metadata": {},
   "outputs": [],
   "source": [
    "from newsplease import NewsPlease"
   ]
  },
  {
   "cell_type": "code",
   "execution_count": 2,
   "metadata": {},
   "outputs": [],
   "source": [
    "article = NewsPlease.from_url('https://www.nytimes.com/2017/02/23/us/politics/cpac-stephen-bannon-reince-priebus.html?hp')"
   ]
  },
  {
   "cell_type": "code",
   "execution_count": 5,
   "metadata": {},
   "outputs": [
    {
     "data": {
      "text/plain": [
       "'Ms. Conway said the stories of disarray in the White House, including recent accounts that she has been sidelined lately, were nothing more than tiresome palace intrigue. And without naming names, she said the attacks directed at her were really desperate attacks against the president by political enemies still sore about the election.\\n“To try to remove me from the equation would remove one of his voices and one of his trusted aides. And that would be hurtful to him,” she said. “They didn’t see this coming. They weren’t prepared for this result — even though they all ran around and said: ‘We’re a divided country! We’re a divided country!’”\\nIt was not as if the support for Mr. Trump, who will speak to the conference Friday morning, is not enthusiastic.\\n“I always said he’s not a stupid man. And if he has the right people around him he’s going to do the right thing,” said Daniel Cirucci of Cherry Hill, N.J., who was standing in line on Thursday evening to listen to Vice President Mike Pence, a conservative he said he deeply admired. “I think he realizes the enormity of the job,” Mr. Cirucci added. “Now does that mean Trump is going to stop being Trump? No.”\\nThese should be good times for conservatives — and much of the time they are. They control not just the White House but both houses of Congress and appear on the verge of regaining a majority on the Supreme Court. They have not dominated so many state governments in close to a century.\\nBut part of the subtext of CPAC this year has been how conservative leaders are trying to smooth out the rougher edges of their movement, not all of which involve Mr. Trump.'"
      ]
     },
     "execution_count": 5,
     "metadata": {},
     "output_type": "execute_result"
    }
   ],
   "source": [
    "article.text"
   ]
  },
  {
   "cell_type": "code",
   "execution_count": null,
   "metadata": {},
   "outputs": [],
   "source": []
  }
 ],
 "metadata": {
  "kernelspec": {
   "display_name": "Django Shell-Plus",
   "language": "python",
   "name": "django_extensions"
  },
  "language_info": {
   "codemirror_mode": {
    "name": "ipython",
    "version": 3
   },
   "file_extension": ".py",
   "mimetype": "text/x-python",
   "name": "python",
   "nbconvert_exporter": "python",
   "pygments_lexer": "ipython3",
   "version": "3.7.3"
  }
 },
 "nbformat": 4,
 "nbformat_minor": 2
}
