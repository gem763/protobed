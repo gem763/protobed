{
 "cells": [
  {
   "cell_type": "code",
   "execution_count": 5,
   "metadata": {},
   "outputs": [],
   "source": [
    "import newspaper\n",
    "from newspaper import Article\n",
    "from tqdm import tqdm_notebook\n",
    "import requests\n",
    "import feedparser"
   ]
  },
  {
   "cell_type": "code",
   "execution_count": 32,
   "metadata": {},
   "outputs": [],
   "source": [
    "# huffpost.com\n",
    "# cnn.com\n",
    "# investing.com\n",
    "# politico.com\n",
    "# time.com\n",
    "# cnbc.com\n",
    "# foxnews.com\n",
    "# foxbusiness.com\n",
    "# bbc.co.uk\n",
    "# businessinsider.com\n",
    "# morningstar.com\n",
    "# wsj.com\n",
    "# nytimes.com\n",
    "# nbcnews.com\n",
    "# guardiannews.com\n",
    "# reuters.com\n",
    "# washingtontimes.com\n",
    "# forbes.com\n",
    "# washingtonpost.com\n",
    "# hbr.org *\n",
    "# ft.com *\n",
    "# economist.com *\n",
    "# cbsnews.com\n",
    "# marketwatch.com\n",
    "\n",
    "src_url = 'https://politico.com'\n",
    "src = newspaper.build(src_url, fetch_images=False, memoize_articles=False, language='en')"
   ]
  },
  {
   "cell_type": "code",
   "execution_count": 43,
   "metadata": {},
   "outputs": [
    {
     "data": {
      "text/plain": [
       "'POLITICO Playbook: The pushback Presented by\\n\\nTasos Katopodis/Getty Images\\n\\nDRIVING THE DAY\\n\\nTHE PRESIDENT GETS PUSHBACK …\\n\\n… ON THE INTERNATIONAL STAGE: AP/SEOUL: “Kim expresses ‘great satisfaction’ over NKorea weapons tests”: “North Korea said Saturday that leader Kim Jong Un supervised another test-firing of an unspecified new weapon, seen as an attempt to pressure Washington and Seoul over slow nuclear negotiations and their joint military exercises.\\n\\n“Pyongyang’s Korean Central News Agency, or KCNA, said that following Friday’s launches, Kim expressed ‘great satisfaction’ over his military’s ‘mysterious and amazing success rates’ in recent testing activity and vowed to build up ‘invincible military capabilities no one dare provoke.’ The report did not mention any specific comment about the United States or South Korea.” AP\\n\\n… AT HOME: L.A. TIMES: “California sues Trump over ‘public charge’ rule denying green cards to immigrants,” by Patrick McGreevy in Sacramento: “California on Friday sued the Trump administration to challenge the legality of a new ‘public charge’ rule that could deny green cards to immigrants who receive public assistance, including food stamps, Medicaid and housing vouchers.\\n\\n“State Atty. Gen. Xavier Becerra filed the lawsuit in federal court in Northern California just days after the Trump administration published a new rule that could make it harder for many immigrants to gain legal status in the United States. Legal experts say the case could turn on whether California can demonstrate the Trump administration adopted the policy with an intent to discriminate against certain immigrants, which is part of the state’s legal strategy.” LAT\\n\\n… IN THE PRESS: PITTSBURGH POST-GAZETTE: “Trump’s large union crowd at Shell was given the option of not showing up — and not getting paid,” by Anya Litvak: “The choice for thousands of union workers at Royal Dutch Shell’s petrochemical plant in Beaver County was clear Tuesday: Either stand in a giant hall waiting for President Donald Trump to speak or take the day off with no pay.\\n\\n“‘Your attendance is not mandatory,’ said the rules that one contractor relayed to employees, summarizing points from a memo that Shell sent to union leaders a day ahead of the visit to the $6 billion construction site. But only those who showed up at 7 a.m., scanned their ID cards, and prepared to stand for hours — through lunch but without lunch — would be paid. ‘NO SCAN, NO PAY,’ a supervisor for that contractor wrote.\\n\\n“That company and scores of other contractors on site and their labor employees all have their own contracts with Shell. Several said the contracts stipulate that to get paid, workers must be onsite. Those who decided not to come to the site for the event would have an excused but non-paid absence, the company said, and would not qualify for overtime pay on Friday.” PPG\\n\\nTHE ISRAEL RIFT GROWS …\\n\\n-- PELOSI INTERVIEW … AP: “Pelosi assails ‘weakness’ of Trump, Netanyahu,” by Lisa Mascaro: “House Speaker Nancy Pelosi said Friday the U.S.-Israel relationship can withstand the ‘weakness’ of President Donald Trump and Prime Minister Benjamin Netanyahu, who shook diplomatic norms this week in barring two members of Congress from visiting the country. Pelosi told The Associated Press that the ‘weakness of Netanyahu and the weakness of Donald Trump combined’ into a policy that’s ‘a no.’\\n\\n“‘We have a deep relationship and long-standing relationship with Israel that can withstand Donald Trump and Benjamin Netanyahu,’ Pelosi said. ‘We cannot let their weaknesses stand in the way of our ongoing relationship.’” AP\\n\\n-- MIAMI HERALD: “House Democrats weigh action against U.S. and Israel ambassadors over banned visit,” by Michael Wilner: “Senior Democratic members of Congress are considering action against top emissaries of the Israeli government and the Trump administration for their roles in Israel’s decision to bar two House members from entering the country.\\n\\n“About a dozen lawmakers, including senior Jewish members, began discussions on Friday morning over ways to communicate a ‘deep lack of confidence and trust’ in Israel’s ambassador to Washington, Ron Dermer, and the U.S. ambassador to Israel, David Friedman, according to two sources familiar with the discussions.\\n\\n“The group is weighing issuing a statement of no confidence in Dermer and opening an inspector general investigation into Friedman’s conduct, the sources said.” Miami Herald\\n\\nTHE ZOOM OUT … NYT’S LISA LERER and ELIZABETH DIAS: “Israel’s Alliance With Trump Creates New Tensions Among American Jews”\\n\\nHappy Saturday morning: WASHINGTON POST: \"Washington Monument, closed for five of the past eight years, will reopen Sept. 19,\" by Michael Ruane\\n\\nLEDE OF THE DAY … NYT’S JENNIFER STEINHAUER, in a piece with the headline: “Why Are These Democrats Too Good for the Senate?”: “Has no one told these people about the free candy?” NYT\\n\\nAUGUST RECESS READING … WAPO’S PAUL KANE: “It’s a campaign talking point, but reports of the filibuster’s demise might be premature”: “Opponents of the legislative filibuster have made big gains this summer in their effort to abolish the Senate’s requirement for supermajorities to approve major legislation.\\n\\n“But any obituary of the filibuster might be premature, because recent history suggests Senate leaders will only pull the trigger on nixing the filibuster’s powers when there is a guaranteed big victory to follow. And it’s unclear when all the stars will align for such a major win.\\n\\n“The boldest proposals on the right — repealing the Affordable Care Act, creating private investment accounts instead of Social Security — failed to win simple majority support when Republicans controlled all the levers of power in Washington. And the most ambitious proposals among 2020 Democratic presidential aspirants, such as Medicare-for-all, remain well short of majority support in the House and Senate.” WaPo\\n\\nA message from Google: Google supports small businesses by providing resources that help them succeed. From advertising tools to free business profiles, we’re helping small business owners make the most of the web. Learn more at grow.google/local-businesses.\\n\\nHMM … BLOOMBERG’S JENNIFER JACOBS and JUSTIN SINK: “White House Mulled Ways to Block Migrant Children From Schools”: “Some top aides to President Donald Trump sought for months for a way to give states the power to block undocumented immigrant children from enrolling in public schools -- all part of the administration’s efforts to stem illegal crossings at the southern U.S border.\\n\\n“Trump senior adviser Stephen Miller had been a driving force behind the effort as early as 2017, pressing cabinet officials and members of the White House Domestic Policy Council repeatedly to devise a way to limit enrollment, according to several people familiar with the matter. The push was part of a menu of ideas on immigration that could be carried out without congressional approval.\\n\\n“Ultimately, they abandoned the idea after being told repeatedly that any such effort ran afoul of a 1982 Supreme Court case guaranteeing access to public schools. But the consideration of denying hundreds of thousands of children access to education illustrates the breadth of the White House’s push to crack down on undocumented immigrants.” Bloomberg\\n\\nBATTLE OF THE YEAR … NYT’S JONATHAN MARTIN: “Joseph Kennedy III Said to Be Eying Edward Markey’s Massachusetts Senate Seat”: “Representative Joseph P. Kennedy III of Massachusetts is considering a primary challenge next year against Senator Edward J. Markey, according to a senior Democratic official. Such a race could substantially alter the state’s political landscape and has the potential to elevate a fourth member of a Democratic dynasty to the Senate. …\\n\\n“[I]n a conversation this week with the Democratic official, who spoke on the condition of anonymity to discuss the private deliberations, Mr. Kennedy, 38, said that he was weighing a campaign against Mr. Markey, 73, and would decide in the coming weeks.” NYT\\n\\nA message from Google: Learn how Google provides tools and trainings to help people across the U.S. grow their businesses at grow.google/local-businesses.\\n\\nPRE-MTP READING … POST AND COURIER: “Note to Mark Sanford: SC Republicans overwhelmingly say don’t run for president,” by Caitlin Byrd\\n\\nJOSH GERSTEIN: “Democratic pollster divulges details to jurors about Greg Craig’s Ukraine work”: “Democratic pollster and political consultant Doug Schoen took the stand at former Obama White House counsel Greg Craig’s trial Friday, telling jurors how he enlisted Craig in the Ukraine-related project that led to the veteran Washington lawyer facing a felony charge of trying to mislead Justice Department officials.\\n\\n“Schoen also detailed an unusual aspect of Craig’s 2012 report examining the trial of former Prime Minister Yulia Tymoshenko: while the Ukrainian Ministry of Justice officially commissioned the review, most of the bill — which ran to more than $4 million — was secretly paid for by a Ukrainian oligarch, steel magnate Victor Pinchuk.\\n\\n“‘My client in Ukraine, Victor Pinchuk said that he would like me to see if there was a high-quality lawyer who could potentially be engaged to do that project,’ Schoen said.” POLITICO\\n\\nTHE PRESIDENT’S SATURDAY … No events scheduled.\\n\\n\\n\\nPLAYBOOK READS\\n\\nPHOTO DU JOUR: Armored vehicles and troop trucks are parked in a lot in Shenzhen, China on Friday. | Dake Kang/AP Photo\\n\\nTICK TOCK … NYT’S ALI WATKINS, DANIELLE IVORY and CHRISTINA GOLDBAUM: “Inmate 76318-054: The Last Days of Jeffrey Epstein”: “Jeffrey Epstein, inmate 76318-054, hated his cell at the Metropolitan Correctional Center. It was cramped, dank and infested with vermin, so Mr. Epstein, long accustomed to using his wealth to play by his own rules, devised a way out.\\n\\n“He paid numerous lawyers to visit the jail for as many as 12 hours a day, giving him the right to see them in a private meeting room. Mr. Epstein was there for so long that he often appeared bored, sitting in silence with his lawyers, according to people who saw the meetings. While they were there, he and his entourage regularly emptied the two vending machines of drinks and snacks.\\n\\n“‘It was shift work, all designed by someone who had infinite resources to try and get as much comfort as possible,’ said a lawyer who was often in the jail visiting clients.\\n\\n“Outside the meeting room, Mr. Epstein mounted a strategy to avoid being preyed upon by other inmates: He deposited money in their commissary accounts, according to a consultant who is often in the jail and speaks regularly with inmates there. …\\n\\n“But in his final days, Mr. Epstein’s efforts to lessen the misery of incarceration seemed to be faltering. He was seldom bathing, his hair and beard were unkempt and he was sleeping on the floor of his cell instead of on his bunk bed, according to people at the jail.” NYT\\n\\n-- BOSTON GLOBE: “Woman tied to Jeffrey Epstein was guest speaker at Rockport elementary school class,” by Emily Sweeney: “One day in January 2019, Ghislaine Maxwell stood in front of a classroom of children at Rockport Elementary School and gave a presentation about the ocean.\\n\\nPOLITICO Playbook newsletter Sign up today to receive the #1-rated newsletter in politics Email Sign Up By signing up you agree to receive email newsletters or alerts from POLITICO. You can unsubscribe at any time.\\n\\n“School officials said they had no idea Maxwell was a longtime confidante of the late Jeffrey Epstein. To them, she was the founder of TerraMar Project, a New York-based nonprofit that she established to help the environment and protect the world’s oceans.\\n\\n“‘We had no knowledge’ of Maxwell’s connections to Epstein, Rockport Schools Superintendent Rob Liebow said. Her presentation to the class was a one-time event that took place during school hours and was done at the request of the teacher, who was teaching a unit on oceans, he said.” Boston Globe\\n\\nMEDIAWATCH -- “Deadspin Editor Quits, Rails Against Bosses: ‘I’ve Been Repeatedly Lied To and Gaslit,’” by The Daily Beast’s Maxwell Tani: “[Megan] Greenwell said Friday that she feels ‘heartbroken’ about leaving and that, while she does not want to be seen as a victim, recent decisions by company brass left her with few options.\\n\\n“Among the many grievances, Greenwell said, G/O leadership refused to guarantee editorial independence for Deadspin and asked for the site to ‘stick to sports’—a long-running source of frustration for a staff that also covers media, politics, and culture beyond sports. … Greenwell’s departure comes as the network of former Gawker websites undergo cultural changes at the behest of G/O leadership. On Thursday, for example, the company released a draft of a new staff handbook with stricter new rules, alarming some staff members.” Daily Beast\\n\\nA message from Google: Google provides tools to help businesses across the U.S. grow. Learn more.\\n\\nCLICKER -- “The nation’s cartoonists on the week in politics,” edited by Matt Wuerker -- 12 funnies\\n\\nGREAT WEEKEND READS, curated by Daniel Lippman (@dlippman):\\n\\n-- “Uncovered: Insurance Companies Are Paying Cops To Investigate Their Own Customers,” by BuzzFeed’s Kendall Taggart: “A cozy alliance between insurers and law enforcement has turned the justice system into the industry’s hired gun and left innocent customers facing prison.” BuzzFeed\\n\\n-- “Everest” -- HBO’s “Last Week Tonight”: “Climbing Mount Everest has become dangerously popular. John Oliver explains why.” 22-minute segment\\n\\n-- “‘A Stunning Coup’: The Almost Unsolvable Harry Winston Diamond Heists,” by Adam Leith Gollner in Vanity Fair’s September issue: “The $37 million Harry Winston jewelry heist was a perfect crime. The thieves’ mistake was returning for an even bigger score. But did police really convict the right men, or are the brains of the operation still at large?” VF\\n\\n-- “Three Years of Misery Inside Google, the Happiest Company in Tech,” by Wired’s Natasha Tiku -- per Longform.org’s description: “Sexual harassment. Hate speech. Employee walkouts. The Silicon Valley giant is trapped in a war against itself. And there’s no end in sight.” Wired\\n\\n-- “Feeding the Wolves,” by Anna Silman in The Cut: “Sara Tirschwell accused her Wall Street boss of misconduct, but that was just the beginning of her troubles.” The Cut\\n\\n-- “The Truth About Wanting to Die” -- The Walrus: “Suicide is scary and messy and exhausting, Anna Mehler Paperny writes in her new book. And we need to be far more honest about it.” The Walrus\\n\\n-- “‘The sense I was clever was knocked out of me’: confessions of a university dropout,” by Megan Nolan in The Guardian: “Next week, thousands of students will accept a place at university. After abandoning two degrees, I feel both disdain for academia and a grief for what might have been.” The Guardian (hat tip: Sunday Long Read)\\n\\n-- “The Fight to Redefine Racism,” by The New Yorker’s Kelefa Sanneh: “In ‘How to Be an Antiracist,’ Ibram X. Kendi argues that we should think of ‘racist’ not as a pejorative but as a simple, widely encompassing term of description.” New Yorker … $16.20 on Amazon\\n\\n-- “The Students of Sex and Culture,” by Alison Gopnik in The Atlantic: “Margaret Mead, Ruth Benedict, and Zora Neale Hurston—spurred on by Franz Boas—revolutionized the way we think about humanity.” The Atlantic (h/t ALDaily.com)\\n\\n-- “The American Aristotle,” by Daniel Everett in Aeon Magazine -- per TheBrowser.com’s description: “Charles Sanders Peirce was America’s greatest thinker, perhaps one of the greatest thinkers in world history. … He was the leading mathematician of his time; he made fundamental advances in mathematical logic, semiotics, pragmatism, phenomenology, linguistics, cosmology and chemistry. But he was also an ‘unemployed, poor, eccentric polymath.’ Barely 10% of his writings have ever been published. His reputation is ripe for massive upward correction.” Aeon\\n\\n\\n\\nPLAYBOOKERS\\n\\nWELCOME TO THE WORLD -- Zach Warmbrodt, financial services reporter at POLITICO, and Jessica Sidman, food editor at Washingtonian magazine, welcomed Amarylla Claire Warmbrodt. Pic ... Another pic\\n\\nBIRTHWEEK (was Friday): Scott Malkin turned 61\\n\\nBIRTHDAYS: Former Sen. Norm Coleman (R-Minn.), chairman of the American Action Network and senior counsel at Hogan Lovells, is 7-0 (h/t Dan Conston) … Rep. David Price (D-N.C.) is 79 … Rep. Jackie Walorski (R-Ind.) is 56 … Ron Bonjean, partner at Rokk Solutions (h/t wife Sara) … Alexis Williams ... Jamie Smith, senior adviser at WestExec Advisors and chief marketing officer at the Linux Foundation … Larry Ellison is 75 … Ali Deckard is 4-0 ... Carl Sceusa, CEO of Revv, is 29 ... Elyse Cohen of the U.S. Chamber of Commerce Foundation ... Leah Nelson of Sunshine Sachs ... Derek McGinty ... Sabrina Schaeffer of the White House Writers Group ... Mike Buczkiewicz, senior supervising producer at “Morning Joe” ... Sonali Dohale … David Kusnet (h/t Jon Haber) … HuffPost’s Elise Foley … Matt Mittenthal, director of comms for BuzzFeed News ... Glen Caplin, senior adviser to Sen. Kirsten Gillibrand (D-N.Y.) …\\n\\n… Dave McCormick, co-CEO of Bridgewater Associates (h/t Dave Urban) … Aaron Kinnari … Carlee Griffeth … Brittany Shepherd … Daniel Penchina … Jeff Smisek is 65 … Rex Babin … Michael Bekesha … Phil de Vellis, principal at Beacon Media … Caroline Boothe, member services director for the House GOP Conference and Chair Liz Cheney (R-Wyo.) ... Tyler Nickerson … Alyson Chadwick ... Eric Stark ... Indonesia turns 74 on its Independence Day ... Monica Fernandez ... Nick Hawatmeh ... Andrea Christianson … Eric Moskowitz … Margie Glick … Will Ricciardella ... Yousef Saba ... Sam Haass … Kensey E. Johnson … Suzy Loftus … Robyn Garnett (h/ts Teresa Vilmain) ... Diane Shust ... Alan Bowser ... Maegan Carberry ... Kevin Mack ... Mary Lou Foy ... Lisa Stickan ... Michael Kraft ... Mickey Drexler is 75 … former Chinese President Jiang Zemin is 93 ... author Jonathan Franzen is 6-0 … Mark Molaro\\n\\nTHE SHOWS, by Matt Mackowiak, filing from Austin:\\n\\n-- CNN’s “State of the Union”: Pete Buttigieg … Peter Navarro. Panel: Rick Santorum, Andrew Gillum, Amanda Carpenter and Xochitl Hinojosa.\\n\\n-- NBC’s “Meet the Press”: Larry Kudlow … Beto O’Rourke ... Mark Sanford. Panel: Yamiche Alcindor, Joshua Johnson, Carol Lee and Peggy Noonan.\\n\\n-- ABC’s “This Week”: Peter Navarro ... Sen. Kirsten Gillibrand (D-N.Y.) … Stacey Abrams. Panel: Matthew Dowd, Cokie Roberts, David Drucker and Alexi McCammond.\\n\\n-- CBS’s “Face the Nation”: Sen. Joe Manchin (D-W.Va.) … Peter Navarro … Andrew Yang. Panel: Nancy Youssef, Dan Balz, Antjuan Seawright and Leslie Sanchez.\\n\\n-- “Fox News Sunday”: Larry Kudlow … Montana Gov. Steve Bullock. Panel: Jason Chaffetz, Anne Gearan, Josh Holmes and Juan Williams … “Power Player of the Week” segment with Paul Reed Smith.\\n\\n-- CNN’s “Inside Politics”: Neil Irwin, Jeanna Smialek, Julie Pace, Seung Min Kim, Lisa Lerer and Laura Barrón-López.\\n\\n-- CNN’s “Reliable Sources”: Adam Serwer, Catherine Rampell, Bari Weiss, Mary C. Curtis and Jim Rutenberg … Clarissa Ward … Danny Rogers and Matt Rivitz … Donie O’Sullivan and Oliver Darcy … Carole Cadwalladr.\\n\\n-- Fox News’ “Sunday Morning Futures”: Sen. Lindsey Graham (R-S.C.) … Rep. Jeff Van Drew (D-N.J.) … John Solomon.\\n\\n-- Fox News’ “MediaBuzz”: Guy Benson … Clarence Page … Beverly Hallberg … Charlie Gasparino … Hogan Gidley … Anthony Scaramucci.\\n\\n-- CNN’s “Fareed Zakaria GPS”: Rana Foroohar, Richard Haass and Ed Luce… Tara Westover … Mary Robinson.\\n\\n-- Univision’s “Al Punto”: Yuri Gómez and Benigno Maldonado … immigration attorney Ezequiel Hernandez… Ken Cuccinelli … Alejandro Giammattei … Luis Zelaya.\\n\\n-- C-SPAN: “The Communicators”: Information Technology and Innovation Foundation VP Daniel Castro … “Newsmakers”: Club for Growth President David McIntosh, questioned by Bloomberg’s Gregory Korte and POLITICO’s Alex Isenstadt … “Q&A”: New York Times staff photographer Doug Mills.\\n\\n-- MSNBC’s “Kasie DC”: Washington Gov. Jay Inslee … Rep. Marc Veasey (D-Texas) … Rep. Deb Haaland (D-N.M.) … J.D. Scholten … Joe Crowley … Katy Tur and Jacob Soboroff … Shannon Pettypiece … Susan Page … Alexi McCammond … Brendan Buck.\\n\\n-- Washington Times’ “Mack on Politics” weekly politics podcast with Matt Mackowiak (download on iTunes, Google Play, Spotify or Stitcher or listen at MackOnPoliticsPodcast.com ): author and RealClearMarkets editor John Tamny.\\n\\nA message from Google: Google supports small businesses by providing resources that help them succeed. From advertising tools to free business profiles, we’re helping small business owners make the most of the web. Learn more at grow.google/local-businesses.\\n\\nFollow us on Twitter Anna Palmer @apalmerdc\\n\\n\\n\\nJake Sherman @JakeSherman\\n\\nFollow Us'"
      ]
     },
     "execution_count": 43,
     "metadata": {},
     "output_type": "execute_result"
    }
   ],
   "source": [
    "article = src.articles[5]\n",
    "article.download()\n",
    "article.parse()\n",
    "article.text"
   ]
  },
  {
   "cell_type": "code",
   "execution_count": 44,
   "metadata": {},
   "outputs": [],
   "source": [
    "article.nlp()"
   ]
  },
  {
   "cell_type": "code",
   "execution_count": 45,
   "metadata": {},
   "outputs": [
    {
     "data": {
      "text/plain": [
       "['epstein',\n",
       " 'house',\n",
       " 'democratic',\n",
       " 'pushback',\n",
       " 'trump',\n",
       " 'washington',\n",
       " 'president',\n",
       " 'google',\n",
       " 'politico',\n",
       " 'politics',\n",
       " 'playbook',\n",
       " 'senior',\n",
       " 'week']"
      ]
     },
     "execution_count": 45,
     "metadata": {},
     "output_type": "execute_result"
    }
   ],
   "source": [
    "article.keywords"
   ]
  },
  {
   "cell_type": "code",
   "execution_count": null,
   "metadata": {},
   "outputs": [],
   "source": []
  },
  {
   "cell_type": "code",
   "execution_count": null,
   "metadata": {},
   "outputs": [],
   "source": []
  },
  {
   "cell_type": "code",
   "execution_count": null,
   "metadata": {},
   "outputs": [],
   "source": []
  },
  {
   "cell_type": "code",
   "execution_count": null,
   "metadata": {},
   "outputs": [],
   "source": []
  },
  {
   "cell_type": "code",
   "execution_count": null,
   "metadata": {},
   "outputs": [],
   "source": []
  },
  {
   "cell_type": "code",
   "execution_count": 64,
   "metadata": {},
   "outputs": [],
   "source": [
    "import requests"
   ]
  },
  {
   "cell_type": "code",
   "execution_count": 81,
   "metadata": {},
   "outputs": [],
   "source": [
    "url = 'https://newsapi.org/v2/everything?sources=polygon&language=en&apiKey=bfb917bca91c435d9c7efd247d95227b'\n",
    "resp = requests.get(url)"
   ]
  },
  {
   "cell_type": "code",
   "execution_count": 82,
   "metadata": {},
   "outputs": [
    {
     "data": {
      "text/plain": [
       "{'status': 'ok',\n",
       " 'totalResults': 641,\n",
       " 'articles': [{'source': {'id': 'polygon', 'name': 'Polygon'},\n",
       "   'author': 'Palmer Haasch',\n",
       "   'title': 'Every new anime series & movie on Netflix in August',\n",
       "   'description': 'After the release of Neon Genesis Evangelion in June, July and August have been slightly dry anime-wise for Netflix. However, a number of original series like Cannon Busters, Carole & Tuesday, and Kengan Ashura have been or will be released, alongside documen…',\n",
       "   'url': 'https://www.polygon.com/2019/8/16/20809194/netflix-new-anime-august-2019-shows-carole-and-tuesday-cannon-busters-kengan-ashura-release-dates',\n",
       "   'urlToImage': 'https://cdn.vox-cdn.com/thumbor/nxAj8jKnfIEgWaJAzcZmoAGc7FU=/0x24:1436x776/fit-in/1200x630/cdn.vox-cdn.com/uploads/chorus_asset/file/19016092/image__2_.jpg',\n",
       "   'publishedAt': '2019-08-17T00:45:11Z',\n",
       "   'content': 'June was a monster month of anime for Netflix. The series finally gave a legal home to Hideaki Annos seminal work Neon Genesis Evangelion, while emotionally laden series like March Comes in Like a Lion and A Silent Voice also hit the platform. Those releases … [+3959 chars]'},\n",
       "  {'source': {'id': 'polygon', 'name': 'Polygon'},\n",
       "   'author': 'Palmer Haasch',\n",
       "   'title': 'The best thing about Netflix’s Invader Zim: Enter the Florpus is Dib getting what he wants',\n",
       "   'description': 'Invader Zim returned today with a Netflix special titled Enter the Florpus. The special brings back classic characters like Zim, Gir, Dib, Gaz, Minimoose, and Professor Membrane. It also digs into the relationship between Dib and his father, which has histori…',\n",
       "   'url': 'https://www.polygon.com/2019/8/16/20808600/invader-zim-enter-the-florpus-dib-professor-membrane-review',\n",
       "   'urlToImage': 'https://cdn.vox-cdn.com/thumbor/lIb1SJPljj3hr17Lkrdw1DwSbxg=/0x75:3840x2085/fit-in/1200x630/cdn.vox-cdn.com/uploads/chorus_asset/file/18995331/Zim_Still_3.png',\n",
       "   'publishedAt': '2019-08-16T22:00:00Z',\n",
       "   'content': 'Invader Zim is fully back on its typical Invader Zim bullshit in Enter the Florpus, a new Netflix special that revisits the series over 10 years after it went off the air. \\r\\nThe special revisits the perpetual conflict between Zim and Dib, who are both feeling… [+3396 chars]'},\n",
       "  {'source': {'id': 'polygon', 'name': 'Polygon'},\n",
       "   'author': 'Russ Frushtick',\n",
       "   'title': 'Respawn reverses course after Apex Legends loot box controversy',\n",
       "   'description': 'After negatively reacting to the news that certain cosmetics were locked behind loot boxes, fans will now be able to purchase Iron Crown skins directly.',\n",
       "   'url': 'https://www.polygon.com/2019/8/16/20809376/apex-legends-loot-boxes-skins-iron-crown',\n",
       "   'urlToImage': 'https://cdn.vox-cdn.com/thumbor/xbnR4oQGCPEEYnzqnzubkv6rD4U=/0x31:1600x869/fit-in/1200x630/cdn.vox-cdn.com/uploads/chorus_asset/file/18969565/Iron_crown_patch.png',\n",
       "   'publishedAt': '2019-08-16T21:57:22Z',\n",
       "   'content': 'Respawn Entertainment/Electronic Arts Fans will now be able to purchase Iron Crown skins directly Earlier this week, Respawn launched the Iron Crown event in Apex Legends. The event introduced a handful of new skins to the game, but all of these cosmetics wer… [+1168 chars]'},\n",
       "  {'source': {'id': 'polygon', 'name': 'Polygon'},\n",
       "   'author': 'Ryan Gilliam',\n",
       "   'title': 'Destiny 2: Shadowkeep will see reduced player numbers, damage buff changes',\n",
       "   'description': 'Destiny 2 damage has gotten out of control over the past two years. With Destiny 2: Shadowkeep, Bungie intends to reduce player access to Supers, heavy ammo, and reduce damage buffs and debuffs.',\n",
       "   'url': 'https://www.polygon.com/2019/8/16/20809139/destiny-2-shadowkeep-damage-buffs-debuffs-numbers-reduced-enemy-immunity',\n",
       "   'urlToImage': 'https://cdn.vox-cdn.com/thumbor/T8KcRLO32Z9j3B_H9u_4IXfEpCI=/35x0:1406x718/fit-in/1200x630/cdn.vox-cdn.com/uploads/chorus_asset/file/10781951/strikes_desktop.jpg',\n",
       "   'publishedAt': '2019-08-16T20:30:00Z',\n",
       "   'content': 'Bungie/Activision Few Supers and less access to heavy ammo is also on the way After two full years of Destiny 2, some player powers have gotten a bit out of hand. Every expansion or season that goes by, it gets easier and easier to hit 999,999 damage on a onc… [+2560 chars]'},\n",
       "  {'source': {'id': 'polygon', 'name': 'Polygon'},\n",
       "   'author': 'Matt Patches',\n",
       "   'title': 'Cold Case Hammarskjöld is like a twist-filled, true crime podcast in movie form',\n",
       "   'description': 'Mads Brügger’s new documentary is like Serial for the 1961 plane crash death of UN General Secretary Dag Hammarskjöld. The movie, now in theaters, punctures a conspiracy theory and uncovers a plot involving African politics, shadow government orgs, and the AI…',\n",
       "   'url': 'https://www.polygon.com/2019/8/16/20805810/cold-case-hammarskjold-review-true-crime-documentary',\n",
       "   'urlToImage': 'https://cdn.vox-cdn.com/thumbor/pBtFRPADb6gYTFmQLHrCNsQCE4Y=/0x340:3240x2036/fit-in/1200x630/cdn.vox-cdn.com/uploads/chorus_asset/file/18972055/1.jpg',\n",
       "   'publishedAt': '2019-08-16T20:13:09Z',\n",
       "   'content': 'You know the feeling you have when youre really close to something, but youre further away than ever before?\\r\\nDocumentarian Mads Brügger didnt particularly care about Dag Hammarskjöld when he began investigating the mysterious plane crash that took the U.N. S… [+3979 chars]'},\n",
       "  {'source': {'id': 'polygon', 'name': 'Polygon'},\n",
       "   'author': 'Owen S. Good',\n",
       "   'title': 'Travis Strikes Again gets a PS4 and PC launch date',\n",
       "   'description': 'Travis Strikes Again: No More Heroes launches Oct. 17 on PlayStation 4 and Windows PC. The launch includes two DLC extensions that followed the game when it originally debuted on Nintendo Switch in January 2019.',\n",
       "   'url': 'https://www.polygon.com/2019/8/16/20809213/travis-strikes-again-no-more-heroes-release-dates-pc-ps4-steam',\n",
       "   'urlToImage': 'https://cdn.vox-cdn.com/thumbor/lKVRPpIaCab5TBS9-Lp9Hb5ygb8=/0x20:1176x636/fit-in/1200x630/cdn.vox-cdn.com/uploads/chorus_asset/file/9146411/DIf1sTUXoAAAIUu.jpg',\n",
       "   'publishedAt': '2019-08-16T20:06:11Z',\n",
       "   'content': 'Grasshopper Manufacture Travis Touchdown and his Beam Katana arrive in October Travis Strikes Again: No More Heroes has a launch date on PlayStation 4 and Windows PC : Oct. 17. The third game in Suda51’s eclectic series launched in January on Nintendo Switch.… [+828 chars]'},\n",
       "  {'source': {'id': 'polygon', 'name': 'Polygon'},\n",
       "   'author': 'Ryan Gilliam',\n",
       "   'title': 'Bungie is retooling Destiny 2’s PvP this fall, teasing the return of Trials',\n",
       "   'description': 'Destiny 2’s Crucible has been in a tough spot for a few months. PvP players have struggled to find the fun, but Bungie is revitalizing the mode with new maps, playlists, and the potential return of Trials of Osiris.',\n",
       "   'url': 'https://www.polygon.com/2019/8/16/20809001/destiny-2-shadowkeep-pvp-crucible-rework-trials-nine-osiris-elimination-mode-playlist',\n",
       "   'urlToImage': 'https://cdn.vox-cdn.com/thumbor/OBduzGBrLnmmetHk-z-_5s-K33k=/0x38:1920x1043/fit-in/1200x630/cdn.vox-cdn.com/uploads/chorus_asset/file/9239041/Destiny_2_20170912214832.jpg',\n",
       "   'publishedAt': '2019-08-16T19:39:06Z',\n",
       "   'content': 'Image: Bungie via Polygon Some fan-favorite Destiny maps are also returning Destiny franchise director Luke Smith spelled out major changes for Destiny 2: Shadowkeep ’s player-versus-player modes in his final Director’s Cut blog post on Friday. Destiny 2 ’s m… [+2157 chars]'},\n",
       "  {'source': {'id': 'polygon', 'name': 'Polygon'},\n",
       "   'author': 'Karen Han',\n",
       "   'title': 'Buñuel in the Labyrinth of the Turtles is provocative animated look at a provocateur',\n",
       "   'description': 'Salvador Simó’s new animated film about Luis Buñuel takes place during the shooting of Las Hurdes. It’s gorgeous to look at, but perhaps a little difficult to follow for anyone unfamiliar with Buñuel’s work. In limited release now.',\n",
       "   'url': 'https://www.polygon.com/2019/8/16/20807815/bunuel-in-the-labyrinth-of-the-turtles-review-animated-films',\n",
       "   'urlToImage': 'https://cdn.vox-cdn.com/thumbor/rPWQVfv52i2kYUKm8dQ7W5gUcco=/0x0:1920x1005/fit-in/1200x630/cdn.vox-cdn.com/uploads/chorus_asset/file/18994648/ae02cb_0aa250362bdb417e9e6ba5d8e8d5565a_mv2.jpg',\n",
       "   'publishedAt': '2019-08-16T19:20:04Z',\n",
       "   'content': 'Salvador Simós animated film Buñuel in the Labyrinth of the Turtles tells the real-life story about a surrealist through the marvels of animation, bringing life to his visions in a way that live action cant quite embody. But while the movies broader musings o… [+3910 chars]'},\n",
       "  {'source': {'id': 'polygon', 'name': 'Polygon'},\n",
       "   'author': 'Michael McWhertor',\n",
       "   'title': 'Nintendo exchanging some Switch consoles to new model with better battery life',\n",
       "   'description': 'If you bought a Switch on or after July 17, you could be eligible for a return with Nintendo to receive the upgraded Nintendo Switch model with improved battery life.',\n",
       "   'url': 'https://www.polygon.com/2019/8/16/20809056/nintendo-switch-exchange-upgrade-new-battery-life',\n",
       "   'urlToImage': 'https://cdn.vox-cdn.com/thumbor/-lLzKyWXYuuIez-e7ToenqFDrU0=/0x220:2040x1288/fit-in/1200x630/cdn.vox-cdn.com/uploads/chorus_asset/file/8030119/nintendo_switch_with_dock.jpg',\n",
       "   'publishedAt': '2019-08-16T19:12:52Z',\n",
       "   'content': 'Nintendo is giving some Switch owners the option to trade in their recently purchased systems for the latest revision of the console that offers improved battery life. But the offer to upgrade to the latest model of the Nintendo Switch appears to be limited t… [+1588 chars]'},\n",
       "  {'source': {'id': 'polygon', 'name': 'Polygon'},\n",
       "   'author': 'Chelsea Stark',\n",
       "   'title': 'The definitive Alvin and the Chipmunks movie ranking (if you only watch YouTube clip compilations)',\n",
       "   'description': 'The Polygon Show reminisces about Rocko’s Modern Life, learns about Ouran High School Host Club, and stans the criminally underappreciated Blue Lion house.',\n",
       "   'url': 'https://www.polygon.com/the-polygon-show/2019/8/16/20808961/the-polygon-show-rockos-modern-life-static-cling-intelligence-qube-blue-lions',\n",
       "   'urlToImage': 'https://cdn.vox-cdn.com/thumbor/vk25fJ0z6Bitg3FpM_Ic7jKdTkQ=/4x0:1437x750/fit-in/1200x630/cdn.vox-cdn.com/uploads/chorus_asset/file/18995486/alvin_and_the_chipmunks_chipwrecked.jpg',\n",
       "   'publishedAt': '2019-08-16T18:24:58Z',\n",
       "   'content': 'Did you know Jason Lee receives top billing in Alvin and the Chipmunks: The Squeakquel, despite only appearing in a full-body cast for most of the film? \\r\\nThese horrifying revelations were brought on The Polygon Show by Allegra this week, who mysteriously wat… [+1052 chars]'},\n",
       "  {'source': {'id': 'polygon', 'name': 'Polygon'},\n",
       "   'author': 'Austen Goslin',\n",
       "   'title': 'New deleted scene from Super Mario Bros. movie unearthed',\n",
       "   'description': 'The dedicated fans at Super Mario Bros. The Movie Archive have finally released one of the deleted Super Mario Bros. movie scenes they found back in May. The scene will eventually be part of the site’s hopeful Blu-ray re-release of the 1993 cult classic.',\n",
       "   'url': 'https://www.polygon.com/2019/8/16/20808895/smbmovie-new-deleted-scene-super-mario-bros-movie',\n",
       "   'urlToImage': 'https://cdn.vox-cdn.com/thumbor/v5NwmUCedfmFEi7pSHsobsUYP0I=/0x0:1280x670/fit-in/1200x630/cdn.vox-cdn.com/uploads/chorus_asset/file/6489677/mario-bros.0.jpg',\n",
       "   'publishedAt': '2019-08-16T17:40:51Z',\n",
       "   'content': 'The scene will hopefully be part of an eventual Blu-ray re-release Continue reading…'},\n",
       "  {'source': {'id': 'polygon', 'name': 'Polygon'},\n",
       "   'author': 'Ryan Gilliam',\n",
       "   'title': 'Destiny 2 Xur location and items, Aug. 16-20',\n",
       "   'description': 'Where is Xur this week? Head to Titan for some Exotic items from your favorite merchant. This week’s Xur inventory includes Telesto, Aeon Swift, Verity’s Brow, and Stronghold.',\n",
       "   'url': 'https://www.polygon.com/destiny-2-guide-walkthrough/2019/8/16/20808903/destiny-2-xur-location-items-august-16-20',\n",
       "   'urlToImage': 'https://cdn.vox-cdn.com/thumbor/iBLL-5itZUSZVwU_dfN80WEZSVY=/0x0:1920x1005/fit-in/1200x630/cdn.vox-cdn.com/uploads/chorus_asset/file/9253051/Xur_Destiny_2_.jpg',\n",
       "   'publishedAt': '2019-08-16T17:21:36Z',\n",
       "   'content': 'If you played Destiny, you may be familiar with Xur, the weekly Exotic item merchant. In Destiny 2, hes back, and he now appears all over the map. This week, you can find Xur on Titan, hanging out in a small building east of The Rig, taking shelter from the r… [+3133 chars]'},\n",
       "  {'source': {'id': 'polygon', 'name': 'Polygon'},\n",
       "   'author': 'Ryan Gilliam',\n",
       "   'title': 'Dauntless guide: Weekly Hunt Pass challenge for Aug 16-22',\n",
       "   'description': 'Complete Gregario Flynt’s weekly bonus challenges to get tons of Gleaming Pearls just for playing Dauntless.',\n",
       "   'url': 'https://www.polygon.com/guides/2019/8/16/20808890/dauntless-guide-weekly-hunt-pass-challenge-for-aug-16-22',\n",
       "   'urlToImage': 'https://cdn.vox-cdn.com/thumbor/YQy5QsbYYfKTOpQB79g-RhlIy54=/0x106:1572x929/fit-in/1200x630/cdn.vox-cdn.com/uploads/chorus_asset/file/16446925/Dauntless_weekly_Hunt_Pass_challenge_guide.jpg',\n",
       "   'publishedAt': '2019-08-16T16:54:13Z',\n",
       "   'content': 'Dauntless is a free-to-play monster hunting game from the team at Phoenix Labs. In a game all about hunters making suits out of monsters, the fashion can get a bit drab. Phoenix Labs solution is the Hunt Pass, which rewards players with cosmetic items to spic… [+877 chars]'},\n",
       "  {'source': {'id': 'polygon', 'name': 'Polygon'},\n",
       "   'author': 'Clayton Ashley',\n",
       "   'title': 'Anomia and Skull: two perfect board game appetizers',\n",
       "   'description': 'We play fasting thinking card game Anomia and bluffing game Skull with Brennan Lee Mulligan on the latest episode of Overboard.',\n",
       "   'url': 'https://www.polygon.com/videos/2019/8/16/20807586/anomia-skull-board-game-lets-play-overboard',\n",
       "   'urlToImage': 'https://cdn.vox-cdn.com/thumbor/suX3R3ImYMAyf9L4--HlV146fqg=/0x38:1920x1043/fit-in/1200x630/cdn.vox-cdn.com/uploads/chorus_asset/file/18994874/Overboard_party_games_thumb_no_text.png',\n",
       "   'publishedAt': '2019-08-16T16:42:00Z',\n",
       "   'content': 'Continuing our streak of short but sweet games, the Overboard crew played two more quick games with Special guest Brennan Lee Mulligan of College Humor. These are the prefect games to pull out when youre waiting on some stragglers on your board game day or ne… [+2504 chars]'},\n",
       "  {'source': {'id': 'polygon', 'name': 'Polygon'},\n",
       "   'author': 'Austen Goslin',\n",
       "   'title': 'Apex Legends has a new Octane skin available through Twitch Prime',\n",
       "   'description': 'Apex Legends’ latest event, Iron Crown, didn’t include an Octane skin. But Twitch Prime subscribers can get one in the same style as a free reward.',\n",
       "   'url': 'https://www.polygon.com/2019/8/16/20808714/apex-legends-octane-skin-twitch-prime',\n",
       "   'urlToImage': 'https://cdn.vox-cdn.com/thumbor/hJvslUvWFtpu4PBhpyNdHV8K1RM=/666x189:1920x846/fit-in/1200x630/cdn.vox-cdn.com/uploads/chorus_asset/file/18995072/Apex_Legends_08.16.2019___11.15.06.02.png',\n",
       "   'publishedAt': '2019-08-16T16:27:05Z',\n",
       "   'content': 'Respawn Entertainment/Electronic Arts Octane gets his own Iron Crown-style skin Apex Legends has, once again, partnered with Twitch to give players a new skin. This time around the new skin is for Octane, and it’s available to anyone who has Twitch Prime. The… [+1178 chars]'},\n",
       "  {'source': {'id': 'polygon', 'name': 'Polygon'},\n",
       "   'author': 'Owen S. Good',\n",
       "   'title': 'Beating this Super Mario Maker 2 level is harder than winning the lottery',\n",
       "   'description': 'YouTuber PangaeaPanda set out to create the most impossible level in Super Mario Maker 2, and he may well have succeeded. This number-guesser is solvable, but you’ll have to guess an eight-digit code correctly. Twice.',\n",
       "   'url': 'https://www.polygon.com/nintendo/2019/8/16/20808756/super-mario-maker-2-hardest-level-number-puzzle-nintendo-switch',\n",
       "   'urlToImage': 'https://cdn.vox-cdn.com/thumbor/_jQQnMAsB6gO09d4R7SdCWrXPCc=/0x12:1267x675/fit-in/1200x630/cdn.vox-cdn.com/uploads/chorus_asset/file/18994971/Screen_Shot_2019_08_16_at_11.39.11_AM.png',\n",
       "   'publishedAt': '2019-08-16T16:00:00Z',\n",
       "   'content': 'Sorry, there’s no money involved Continue reading…'},\n",
       "  {'source': {'id': 'polygon', 'name': 'Polygon'},\n",
       "   'author': 'Petrana Radulovic',\n",
       "   'title': 'Netflix unveils first look at Michael B. Jordan’s superpower family drama Raising Dion',\n",
       "   'description': 'Raising Dion stars Alisha Wainwright and Jason Ritter, with Michael B. Jordan. Single mother Nicole raises her superpowered son Dion. Based on the comic of the same name by Dennis Liu, Raising Dion premieres on Netflix on Oct. 4.',\n",
       "   'url': 'https://www.polygon.com/2019/8/16/20808711/raising-dion-michael-b-jordan-netflix-release-date',\n",
       "   'urlToImage': 'https://cdn.vox-cdn.com/thumbor/RZpzXLccCErXdGF8Fa5_Sz5ykjM=/0x285:4500x2641/fit-in/1200x630/cdn.vox-cdn.com/uploads/chorus_asset/file/18994893/RaisingDion_Season1_Episode1_00_02_34_16R2C.jpg',\n",
       "   'publishedAt': '2019-08-16T15:41:07Z',\n",
       "   'content': 'NETFLIX As if the single parent lifestyle wasn’t already hard Continue reading…'},\n",
       "  {'source': {'id': 'polygon', 'name': 'Polygon'},\n",
       "   'author': 'Cass Marshall',\n",
       "   'title': 'Tencent’s new mobile game looks like Overwatch, but even more anime',\n",
       "   'description': 'Ace Force, a new mobile game from Tencent, just opened open beta. But where does this title come from? Ace Force looks a lot like a mobile version of Blizzard’s team shooter Overwatch, and the game is already garnering significant interest in China.',\n",
       "   'url': 'https://www.polygon.com/mobile/2019/8/16/20808671/tencent-ace-force-mobile-overwatch-3v3',\n",
       "   'urlToImage': 'https://cdn.vox-cdn.com/thumbor/hRc0-GvAg4OjB8GwF8FdHLYSxaw=/0x25:1280x695/fit-in/1200x630/cdn.vox-cdn.com/uploads/chorus_asset/file/18994908/maxresdefault.jpg',\n",
       "   'publishedAt': '2019-08-16T15:27:45Z',\n",
       "   'content': 'Tencent Ace Force enters open beta Continue reading…'},\n",
       "  {'source': {'id': 'polygon', 'name': 'Polygon'},\n",
       "   'author': 'John Walker',\n",
       "   'title': 'An RPG made of beautiful ASCII drawings, and other undiscovered gems',\n",
       "   'description': 'Each week we bring you three lesser-known indie games for your consideration. This week includes Stone Story, a wonderful side-scrolling game made of ASCII characters; OXXO, an inventive puzzler; and Apsulov: End of Gods, a terrifying Viking horror game.',\n",
       "   'url': 'https://www.polygon.com/2019/8/16/20806861/new-games-2019-what-to-play-stone-story-oxxo-apsulov-pc-steam',\n",
       "   'urlToImage': 'https://cdn.vox-cdn.com/thumbor/5Fn_4Lu6o40fRwTgy5Zrss55JqQ=/0x104:2116x1212/fit-in/1200x630/cdn.vox-cdn.com/uploads/chorus_asset/file/18980593/bt_StoneStory_MartianRex2.jpg',\n",
       "   'publishedAt': '2019-08-16T15:00:00Z',\n",
       "   'content': 'Martian Rex/standardcombo We’ve sifted through the unknown to bring you three games worth your time It’s fascinating to unpack what is necessary for a great game, and it’s usually less than you think. Stone Story, an RPG made from punctuation, letters, and nu… [+6572 chars]'},\n",
       "  {'source': {'id': 'polygon', 'name': 'Polygon'},\n",
       "   'author': 'Karen Han',\n",
       "   'title': 'Danny McBride charts the ‘evolution of the misunderstood angry man’',\n",
       "   'description': 'The Righteous Gemstones marks McBride’s third HBO series, following Eastbound & Down and Vice Principals. Polygon sits down with the writer-director-actor triple threat to discuss the so-called trilogy, as well as Halloween, Alien: Covenant, and Kindle vs. ph…',\n",
       "   'url': 'https://www.polygon.com/interviews/2019/8/16/20805976/righteous-gemstones-hbo-danny-mcbride-halloween-sequels-vice-principals-eastbound-down',\n",
       "   'urlToImage': 'https://cdn.vox-cdn.com/thumbor/OU8KCwi6O64NEVK_LCADWCFiPEQ=/0x146:2040x1214/fit-in/1200x630/cdn.vox-cdn.com/uploads/chorus_asset/file/18993140/jbareham_190815_0906_danny_0001.jpg',\n",
       "   'publishedAt': '2019-08-16T15:00:00Z',\n",
       "   'content': 'HBOs new comedy The Righteous Gemstones is filled with characters that are hard to like but you cant help but sympathize with. If youre at all familiar with the men behind it Danny McBride, Jody Hill, and David Gordon Green that dichotomy shouldnt come as too… [+22394 chars]'}]}"
      ]
     },
     "execution_count": 82,
     "metadata": {},
     "output_type": "execute_result"
    }
   ],
   "source": [
    "resp.json()"
   ]
  },
  {
   "cell_type": "code",
   "execution_count": 113,
   "metadata": {},
   "outputs": [],
   "source": [
    "url = 'https://newsapi.org/v2/sources?apiKey=bfb917bca91c435d9c7efd247d95227b'\n",
    "resp = requests.get(url)"
   ]
  },
  {
   "cell_type": "code",
   "execution_count": 116,
   "metadata": {
    "collapsed": true
   },
   "outputs": [
    {
     "data": {
      "text/plain": [
       "['ABC News',\n",
       " 'ABC News (AU)',\n",
       " 'Aftenposten',\n",
       " 'Al Jazeera English',\n",
       " 'ANSA.it',\n",
       " 'Argaam',\n",
       " 'Ars Technica',\n",
       " 'Ary News',\n",
       " 'Associated Press',\n",
       " 'Australian Financial Review',\n",
       " 'Axios',\n",
       " 'BBC News',\n",
       " 'BBC Sport',\n",
       " 'Bild',\n",
       " 'Blasting News (BR)',\n",
       " 'Bleacher Report',\n",
       " 'Bloomberg',\n",
       " 'Breitbart News',\n",
       " 'Business Insider',\n",
       " 'Business Insider (UK)',\n",
       " 'Buzzfeed',\n",
       " 'CBC News',\n",
       " 'CBS News',\n",
       " 'CNBC',\n",
       " 'CNN',\n",
       " 'CNN Spanish',\n",
       " 'Crypto Coins News',\n",
       " 'Daily Mail',\n",
       " 'Der Tagesspiegel',\n",
       " 'Die Zeit',\n",
       " 'El Mundo',\n",
       " 'Engadget',\n",
       " 'Entertainment Weekly',\n",
       " 'ESPN',\n",
       " 'ESPN Cric Info',\n",
       " 'Financial Post',\n",
       " 'Focus',\n",
       " 'Football Italia',\n",
       " 'Fortune',\n",
       " 'FourFourTwo',\n",
       " 'Fox News',\n",
       " 'Fox Sports',\n",
       " 'Globo',\n",
       " 'Google News',\n",
       " 'Google News (Argentina)',\n",
       " 'Google News (Australia)',\n",
       " 'Google News (Brasil)',\n",
       " 'Google News (Canada)',\n",
       " 'Google News (France)',\n",
       " 'Google News (India)',\n",
       " 'Google News (Israel)',\n",
       " 'Google News (Italy)',\n",
       " 'Google News (Russia)',\n",
       " 'Google News (Saudi Arabia)',\n",
       " 'Google News (UK)',\n",
       " 'Göteborgs-Posten',\n",
       " 'Gruenderszene',\n",
       " 'Hacker News',\n",
       " 'Handelsblatt',\n",
       " 'IGN',\n",
       " 'Il Sole 24 Ore',\n",
       " 'Independent',\n",
       " 'Infobae',\n",
       " 'InfoMoney',\n",
       " 'La Gaceta',\n",
       " 'La Nacion',\n",
       " 'La Repubblica',\n",
       " 'Le Monde',\n",
       " 'Lenta',\n",
       " \"L'equipe\",\n",
       " 'Les Echos',\n",
       " 'Libération',\n",
       " 'Marca',\n",
       " 'Mashable',\n",
       " 'Medical News Today',\n",
       " 'Metro',\n",
       " 'Mirror',\n",
       " 'MSNBC',\n",
       " 'MTV News',\n",
       " 'MTV News (UK)',\n",
       " 'National Geographic',\n",
       " 'National Review',\n",
       " 'NBC News',\n",
       " 'News24',\n",
       " 'New Scientist',\n",
       " 'News.com.au',\n",
       " 'Newsweek',\n",
       " 'New York Magazine',\n",
       " 'Next Big Future',\n",
       " 'NFL News',\n",
       " 'NHL News',\n",
       " 'NRK',\n",
       " 'Politico',\n",
       " 'Polygon',\n",
       " 'RBC',\n",
       " 'Recode',\n",
       " 'Reddit /r/all',\n",
       " 'Reuters',\n",
       " 'RT',\n",
       " 'RTE',\n",
       " 'RTL Nieuws',\n",
       " 'SABQ',\n",
       " 'Spiegel Online',\n",
       " 'Svenska Dagbladet',\n",
       " 'T3n',\n",
       " 'TalkSport',\n",
       " 'TechCrunch',\n",
       " 'TechCrunch (CN)',\n",
       " 'TechRadar',\n",
       " 'The American Conservative',\n",
       " 'The Economist',\n",
       " 'The Globe And Mail',\n",
       " 'The Hill',\n",
       " 'The Hindu',\n",
       " 'The Huffington Post',\n",
       " 'The Irish Times',\n",
       " 'The Jerusalem Post',\n",
       " 'The Lad Bible',\n",
       " 'The New York Times',\n",
       " 'The Next Web',\n",
       " 'The Sport Bible',\n",
       " 'The Telegraph',\n",
       " 'The Times of India',\n",
       " 'The Verge',\n",
       " 'The Wall Street Journal',\n",
       " 'The Washington Post',\n",
       " 'The Washington Times',\n",
       " 'Time',\n",
       " 'USA Today',\n",
       " 'Vice News',\n",
       " 'Wired',\n",
       " 'Wired.de',\n",
       " 'Wirtschafts Woche',\n",
       " 'Xinhua Net',\n",
       " 'Ynet']"
      ]
     },
     "execution_count": 116,
     "metadata": {},
     "output_type": "execute_result"
    }
   ],
   "source": [
    "[src['name'] for src in resp.json()['sources']]"
   ]
  },
  {
   "cell_type": "code",
   "execution_count": 45,
   "metadata": {},
   "outputs": [],
   "source": [
    "import feedparser"
   ]
  },
  {
   "cell_type": "code",
   "execution_count": 46,
   "metadata": {},
   "outputs": [],
   "source": [
    "feeds = feedparser.parse('https://feeds.a.dj.com/rss/RSSMarketsMain.xml')"
   ]
  },
  {
   "cell_type": "code",
   "execution_count": 47,
   "metadata": {
    "collapsed": true
   },
   "outputs": [
    {
     "data": {
      "text/plain": [
       "['https://www.wsj.com/articles/stocks-yuan-drop-sharply-as-trade-spat-intensifies-11564981961',\n",
       " 'https://www.wsj.com/articles/chinas-yuan-falls-past-key-level-of-7-to-the-dollar-11564977948',\n",
       " 'https://www.wsj.com/articles/hsbc-to-slash-thousands-of-jobs-after-ceo-ouster-11564990152',\n",
       " 'https://www.wsj.com/articles/beijing-risks-economic-self-harm-by-weaponizing-the-yuan-11564983069',\n",
       " 'https://www.wsj.com/articles/hsbc-ceo-john-flint-is-out-after-18-months-in-role-11564963125',\n",
       " 'https://www.wsj.com/articles/3-ways-grandparents-can-help-pay-for-college-11564971241',\n",
       " 'https://www.wsj.com/articles/the-downside-of-knowing-a-lot-about-your-mutual-fund-11564971181',\n",
       " 'https://www.wsj.com/articles/what-investors-worry-yes-but-u-s-stock-funds-are-up-19-11564971121',\n",
       " 'https://www.wsj.com/articles/as-emerging-markets-recover-heres-what-investors-need-to-know-11564971000',\n",
       " 'https://www.wsj.com/articles/money-is-pouring-in-to-low-volatility-funds-11564970976',\n",
       " 'https://www.wsj.com/articles/why-arent-investors-worried-ask-howard-marks-11564970406',\n",
       " 'https://www.wsj.com/articles/stocks-and-bonds-are-up-at-the-same-time-no-worries-11564970976',\n",
       " 'https://www.wsj.com/articles/some-closed-end-funds-seem-to-have-permanent-premiums-11564970976',\n",
       " 'https://www.wsj.com/articles/reits-show-resilience-11564970743',\n",
       " 'https://www.wsj.com/articles/etfs-dont-rule-gold-after-all-says-one-analysis-11564970690',\n",
       " 'https://www.wsj.com/articles/about-to-retire-check-your-stock-exposurequickly-11564970680',\n",
       " 'https://www.wsj.com/articles/what-does-premium-priced-bonds-mean-11564970580',\n",
       " 'https://www.wsj.com/articles/quran-guided-funds-attract-non-muslims-11564970460',\n",
       " 'https://www.wsj.com/articles/vegans-may-soon-have-an-etf-11564970407',\n",
       " 'https://www.wsj.com/articles/money-rains-on-a-cloud-etf-11564970403']"
      ]
     },
     "execution_count": 47,
     "metadata": {},
     "output_type": "execute_result"
    }
   ],
   "source": [
    "[entry['link'] for entry in feeds['entries']]"
   ]
  },
  {
   "cell_type": "code",
   "execution_count": 78,
   "metadata": {
    "collapsed": true
   },
   "outputs": [
    {
     "data": {
      "text/plain": [
       "\"Mediation between the U.S. Women’s National Soccer team and U.S. Soccer broke down this week, putting into question the future of the team’s fight over equal pay.\\n\\nPlayers with the USWNT sued U.S. Soccer in March, accusing the federation of not compensating or treating them in a manner equivalent to what the men’s team received. Mediation began in New York this week as representatives from both sides met to discuss compensation and treatment—but the efforts came to a seemingly abrupt stop on Wednesday. USWNT spokesperson Molly Levinson said they ended the meetings “sorely disappointed in the federation’s determination to perpetuate fundamentally discriminatory workplace conditions and behavior.”\\n\\nShe added that the ongoing dispute over pay disparity is likely to end up in a trial.\\n\\n“It is clear that USSF, including its Board of Directors and President Carlos Cordeiro, fully intend to continue to compensate women players less than men. They will not succeed,” Levinson said. “We want all of our fans, sponsors, peers around the world, and women everywhere to know we are undaunted and will eagerly look forward to a jury trial.”\\n\\nRepresentatives for U.S. Soccer did not immediately respond to TIME’s request for comment. In a statement to CNN, the organization said, “We have said numerous times that our goal is to find a resolution, and during mediation we had hoped we would be able to address the issues in a respectful manner and reach an agreement.”\\n\\nHere’s what to know about the USWNT’s ongoing fight for equal pay.\\n\\nWhat the U.S. Women’s National Soccer team players want\\n\\nIn a class action lawsuit filed in March and signed by 28 players on the USWNT, the women allege that they are consistently paid less than the players on the men’s team and discriminated against because of their gender, despite a strong performance record.\\n\\nThe lawsuit was part of a years-long battle between the USWNT and U.S. Soccer regarding equal pay and gender equality. In 2016, five of the team’s players filed a complaint over unequal pay and bonuses with the federal Equal Employment Opportunity Commission (EEOC). In 2017, the players signed a new collective-bargaining agreement with the soccer federation and won control over some licensing and marketing rights. But the USWNT says that agreement did not go far enough.\\n\\n“Despite continued discrimination, we do feel like we have made progress toward a more collaborative way of operating. And yet, while we made progress in our compensation terms, we were still unable to achieve equal treatment with the Men’s National Team in the CBA we ratified in April 2017,” they wrote in a letter to the federation Monday ahead of the mediation.\\n\\nNow, following years of frustration between the players and the federation, the USWNT is pointing to their successes and widespread popularity as one factor in the push for equal pay. They’ve won four of eight World Cup titles since the championship games began in 1991 and four Olympic gold medals since the first women’s soccer tournament in 1996.\\n\\nIn their letter to U.S. Soccer, the women’s team pointed to their “remarkable” success during the 2019 World Cup. “We witnessed higher revenue numbers, higher ratings, more fans, more enthusiasm,” the players wrote. “The tired, arcane, irrelevant arguments and protestations of the male-dominated soccer world fell apart during those weeks.”\\n\\nThey added: “For both parties, the risk of not resolving our disagreements over equal treatment that were not addressed either in bargaining or through the EEOC is too high.”\\n\\nMegan Rapinoe of the USA lifts the FIFA Women's World Cup Trophy following her team's victory in the 2019 FIFA Women's World Cup France Final match between The United States of America and The Netherlands at Stade de Lyon on July 07, 2019 in Lyon, France. Alex Grimm—Getty Images\\n\\nWhat U.S. Soccer has said\\n\\nIn an open letter issued after the lawsuit was filed, the U.S. Soccer said it surprised by the complaint and that it had increased its investment in the women’s team in recent years.\\n\\nU.S. Soccer denied the women players’ claims in a court filing in May, saying the gap in pay stems from “differences in aggregate revenue generated by the different teams and/or any other factor other than sex,” arguing that the men’s and women’s teams are “physically and functionally separate organizations,” the Washington Post reported in July.\\n\\nAfter the World Cup, U.S. Soccer hired two lobbying firms in Washington D.C. to deny the claims of unequal pay in front of Congress, which sought to require the federation to pay both teams equally, according to a Politico report. While the U.S. government does not fund U.S. Soccer, the USWNT’s fight over equal pay has attracted attention from lawmakers. More than 50 members of Congress sent a letter to U.S. Soccer decrying the unequal treatment alleged by the USWNT. West Virginia Sen. Joe Manchin tied the equal pay issue into a bill he introduced that would withhold federal funding for the men’s 2026 World Cup, which will be held in the U.S., Mexico and Canada, until the pay dispute was resolved.\\n\\nU.S. Soccer’s move to hire lobbyists was criticized by both the mens and women’s teams.\\n\\nAt the end of July, U.S. Soccer president Carlos Cordeiro argued that the women’s team has actually been paid more than the men’s team, saying that the federation paid the USWNT $34.1 million in salaries and game bonuses, while the men received $26.4 million. The figures, compiled by U.S. Soccer and based on an analysis by the federation’s staff, did not include the benefits, such as health care and a 401(k), that female players get. (Men are not provided the same benefits, according to the federation). U.S. Soccer’s numbers also included National Women’s Soccer League salaries that U.S. Soccer pays, which were negotiated in the 2017 CBA. (The federation does not pay Major League Soccer salaries).\\n\\nHow women players are compensated compared to the men\\n\\nThis is where things get very complicated. While the issue of establishing equal pay between the two teams seems like a matter of adjusting some numbers, the collective bargaining agreements for the men and women players detail differing pay structures.\\n\\nGabe Feldman, a sports law professor at Tulane University, tells TIME it’s not that unusual that the mediation attempt ended unsuccessfully. “Many equal pay cases are complicated and are difficult issues to prove,” he says. “In many cases, the fight is over whether the jobs are similar, not over the level of pay. In this case, both questions are difficult: Are the jobs similar and is the pay equal? Are there factors other than gender leading to pay difference?”\\n\\nMaking a direct comparison between how much the men earned versus the women is difficult because of the different contracts signed by men and women players and other factors that come into play, according to Feldman. Among other things, players factor in the number of games they play, which tournaments they play in, the popularity of soccer in general and the money they make outside of soccer through sponsorships or other work to determine what they think is a fair amount to make, he says.\\n\\nWomen players under contract earn a base salary of $100,000 and can earn some bonuses based on game performance. Players on the men’s team only earn bonuses.\\n\\nIn the USWNT’s lawsuit, compensation models showed that if both teams won 20 games in a row, women would make 38% less than their male counterparts. That calculation was based on the women’s team’s prior collective bargaining agreement, which expired in December 2016. The Washington Post, which ran the numbers based on the new collective bargaining agreement that became effective in April 2017, found that if the women’s team won 20 games in a row, a player would earn $28,333 less, or about 89% of what a male player would make.\\n\\nThe Post noted that were both teams to lose all 20 games, they would make the same amount because the men receive a $5,000 bonus for losing and the women have a base salary.\\n\\nCompensation changes even further when it comes to the World Cup—though the pool money at stake here is set by FIFA, which gives prize winnings to the national federations behind each soccer team. For the Women’s World Cup, prize money totaled to $30 million in 2019, according to the Post. The USWNT earned about $4 million for winning the tournament. By contrast, the prize money pool for the 2018 Men’s World Cup totaled about $400 million, giving reigning champion France’s men’s team $38 million—more than the total pool for the women.\\n\\nU.S. Soccer offers bonuses to each team based on different wins throughout the World Cup tournament. The USWNT players each received about $250,000 in bonus payment for the World Cup, according to the Times. Under the men’s team’s collective bargaining agreement, players receive $3,000 more if they lose a Wold Cup qualifying match than what women earn for winning, the Post reports.\\n\\nCarli Lloyd #10 of the United States celebrates her goal with Tobin Heath #17 and Crystal Dunn #19, to take a 3-0 lead over the Republic of Ireland, during the first half of the first game of the USWNT Victory Tour at Rose Bowl on August 03, 2019 in Pasadena, California. Harry How—Getty Images\\n\\nWhat will happen next in the USWNT equal pay lawsuit\\n\\nThe case is likely to be settled in a trial, according to Feldman. U.S. Soccer will be responsible for proving that any gaps in pay are a result of “good faith negotiation,” Feldman says. U.S. Soccer will try to make the case that the pay gap boils down to the two different collective bargaining agreements agreed to by each team under their separate players’ associations, he says. They will have to show that the current situation is “just a product of collective bargaining.”\\n\\nU.S. Soccer and the USWNT disagree both on how much the players get paid and on how such payments are quantified when compared with what male players receive. “The federation says, among other things, that it’s apples to oranges,” says Feldman. “There is not one right answer to what is fair—the answer is in what they agreed [in the collective bargaining agreements]. It’s not like a math formula will give you the right amount.”\\n\\nFor the women players, he says, the challenge will be to prove that the gaps are a product of gender discrimination.\\n\\n“One of the threshold issues is that there’s no agreement on what the relative levels of pay are,” Feldman says. “[U.S. Soccer] claims the women are making just as much if not more than the men. They have to prove they are getting paid less and then prove that the disparity is attributable to gender discrimination and not other gender neutral factors.”\\n\\nWrite to Mahita Gajanan at mahita.gajanan@time.com.\""
      ]
     },
     "execution_count": 78,
     "metadata": {},
     "output_type": "execute_result"
    }
   ],
   "source": [
    "article = newspaper.Article('https://time.com/5653250/uswnt-equal-pay-lawsuit/')\n",
    "article.download()\n",
    "article.parse()\n",
    "article.text"
   ]
  },
  {
   "cell_type": "code",
   "execution_count": null,
   "metadata": {},
   "outputs": [],
   "source": []
  },
  {
   "cell_type": "code",
   "execution_count": null,
   "metadata": {},
   "outputs": [],
   "source": []
  },
  {
   "cell_type": "code",
   "execution_count": null,
   "metadata": {},
   "outputs": [],
   "source": []
  },
  {
   "cell_type": "code",
   "execution_count": null,
   "metadata": {},
   "outputs": [],
   "source": []
  },
  {
   "cell_type": "code",
   "execution_count": null,
   "metadata": {},
   "outputs": [],
   "source": []
  },
  {
   "cell_type": "code",
   "execution_count": null,
   "metadata": {},
   "outputs": [],
   "source": []
  },
  {
   "cell_type": "code",
   "execution_count": null,
   "metadata": {},
   "outputs": [],
   "source": []
  },
  {
   "cell_type": "code",
   "execution_count": null,
   "metadata": {},
   "outputs": [],
   "source": []
  }
 ],
 "metadata": {
  "kernelspec": {
   "display_name": "Python 3",
   "language": "python",
   "name": "python3"
  },
  "language_info": {
   "codemirror_mode": {
    "name": "ipython",
    "version": 3
   },
   "file_extension": ".py",
   "mimetype": "text/x-python",
   "name": "python",
   "nbconvert_exporter": "python",
   "pygments_lexer": "ipython3",
   "version": "3.7.1"
  }
 },
 "nbformat": 4,
 "nbformat_minor": 2
}
