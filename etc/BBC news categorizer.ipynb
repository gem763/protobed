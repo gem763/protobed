{
 "cells": [
  {
   "cell_type": "markdown",
   "metadata": {},
   "source": [
    "# BBC 뉴스 public dataset으로 categorizer 만들기\n",
    "\n",
    "* 아래의 kaggle을 그대로 따라감\n",
    "* https://www.kaggle.com/bbose71/bbc-news-classification"
   ]
  },
  {
   "cell_type": "code",
   "execution_count": 1,
   "metadata": {},
   "outputs": [],
   "source": [
    "import os\n",
    "import sys\n",
    "import glob\n",
    "import pandas as pd\n",
    "import numpy as np\n",
    "import json\n",
    "import matplotlib.pyplot as plt\n",
    "from IPython.core.debugger import set_trace\n",
    "from IPython.display import display\n",
    "from pathlib import Path\n",
    "from smart_open import open\n",
    "from gensim.utils import simple_preprocess\n",
    "from tqdm.auto import tqdm\n",
    "tqdm.pandas()\n",
    "\n",
    "from sklearn.feature_extraction.text import TfidfVectorizer\n",
    "from sklearn.feature_selection import chi2\n",
    "from sklearn.model_selection import cross_val_score, ShuffleSplit, train_test_split\n",
    "from sklearn.manifold import TSNE\n",
    "from sklearn.metrics import confusion_matrix\n",
    "\n",
    "from sklearn.svm import SVC\n",
    "from sklearn.linear_model import LogisticRegression, SGDClassifier\n",
    "from sklearn.ensemble import RandomForestClassifier\n",
    "from sklearn.naive_bayes import MultinomialNB\n",
    "from sklearn.externals import joblib\n",
    "\n",
    "import seaborn as sns\n",
    "\n",
    "%matplotlib inline"
   ]
  },
  {
   "cell_type": "code",
   "execution_count": 2,
   "metadata": {
    "scrolled": true
   },
   "outputs": [
    {
     "data": {
      "application/vnd.jupyter.widget-view+json": {
       "model_id": "64641e93a5c9480da91dddd7ad5ace91",
       "version_major": 2,
       "version_minor": 0
      },
      "text/plain": [
       "HBox(children=(IntProgress(value=0, max=6), HTML(value='')))"
      ]
     },
     "metadata": {},
     "output_type": "display_data"
    },
    {
     "name": "stdout",
     "output_type": "stream",
     "text": [
      "\n"
     ]
    },
    {
     "data": {
      "text/html": [
       "<div>\n",
       "<style scoped>\n",
       "    .dataframe tbody tr th:only-of-type {\n",
       "        vertical-align: middle;\n",
       "    }\n",
       "\n",
       "    .dataframe tbody tr th {\n",
       "        vertical-align: top;\n",
       "    }\n",
       "\n",
       "    .dataframe thead th {\n",
       "        text-align: right;\n",
       "    }\n",
       "</style>\n",
       "<table border=\"1\" class=\"dataframe\">\n",
       "  <thead>\n",
       "    <tr style=\"text-align: right;\">\n",
       "      <th></th>\n",
       "      <th>ArticleId</th>\n",
       "      <th>Text</th>\n",
       "      <th>Category</th>\n",
       "    </tr>\n",
       "  </thead>\n",
       "  <tbody>\n",
       "    <tr>\n",
       "      <th>0</th>\n",
       "      <td>business-001</td>\n",
       "      <td>Ad sales boost Time Warner profit\\n\\nQuarterly...</td>\n",
       "      <td>business</td>\n",
       "    </tr>\n",
       "    <tr>\n",
       "      <th>1</th>\n",
       "      <td>business-002</td>\n",
       "      <td>Dollar gains on Greenspan speech\\n\\nThe dollar...</td>\n",
       "      <td>business</td>\n",
       "    </tr>\n",
       "    <tr>\n",
       "      <th>2</th>\n",
       "      <td>business-003</td>\n",
       "      <td>Yukos unit buyer faces loan claim\\n\\nThe owner...</td>\n",
       "      <td>business</td>\n",
       "    </tr>\n",
       "    <tr>\n",
       "      <th>3</th>\n",
       "      <td>business-004</td>\n",
       "      <td>High fuel prices hit BA's profits\\n\\nBritish A...</td>\n",
       "      <td>business</td>\n",
       "    </tr>\n",
       "    <tr>\n",
       "      <th>4</th>\n",
       "      <td>business-005</td>\n",
       "      <td>Pernod takeover talk lifts Domecq\\n\\nShares in...</td>\n",
       "      <td>business</td>\n",
       "    </tr>\n",
       "    <tr>\n",
       "      <th>5</th>\n",
       "      <td>business-006</td>\n",
       "      <td>Japan narrowly escapes recession\\n\\nJapan's ec...</td>\n",
       "      <td>business</td>\n",
       "    </tr>\n",
       "    <tr>\n",
       "      <th>6</th>\n",
       "      <td>business-007</td>\n",
       "      <td>Jobs growth still slow in the US\\n\\nThe US cre...</td>\n",
       "      <td>business</td>\n",
       "    </tr>\n",
       "    <tr>\n",
       "      <th>7</th>\n",
       "      <td>business-008</td>\n",
       "      <td>India calls for fair trade rules\\n\\nIndia, whi...</td>\n",
       "      <td>business</td>\n",
       "    </tr>\n",
       "    <tr>\n",
       "      <th>8</th>\n",
       "      <td>business-009</td>\n",
       "      <td>Ethiopia's crop production up 24%\\n\\nEthiopia ...</td>\n",
       "      <td>business</td>\n",
       "    </tr>\n",
       "    <tr>\n",
       "      <th>9</th>\n",
       "      <td>business-010</td>\n",
       "      <td>Court rejects $280bn tobacco case\\n\\nA US gove...</td>\n",
       "      <td>business</td>\n",
       "    </tr>\n",
       "    <tr>\n",
       "      <th>10</th>\n",
       "      <td>business-011</td>\n",
       "      <td>Ask Jeeves tips online ad revival\\n\\nAsk Jeeve...</td>\n",
       "      <td>business</td>\n",
       "    </tr>\n",
       "    <tr>\n",
       "      <th>11</th>\n",
       "      <td>business-012</td>\n",
       "      <td>Indonesians face fuel price rise\\n\\nIndonesia'...</td>\n",
       "      <td>business</td>\n",
       "    </tr>\n",
       "    <tr>\n",
       "      <th>12</th>\n",
       "      <td>business-013</td>\n",
       "      <td>Peugeot deal boosts Mitsubishi\\n\\nStruggling J...</td>\n",
       "      <td>business</td>\n",
       "    </tr>\n",
       "    <tr>\n",
       "      <th>13</th>\n",
       "      <td>business-014</td>\n",
       "      <td>Telegraph newspapers axe 90 jobs\\n\\nThe Daily ...</td>\n",
       "      <td>business</td>\n",
       "    </tr>\n",
       "    <tr>\n",
       "      <th>14</th>\n",
       "      <td>business-015</td>\n",
       "      <td>Air passengers win new EU rights\\n\\nAir passen...</td>\n",
       "      <td>business</td>\n",
       "    </tr>\n",
       "    <tr>\n",
       "      <th>15</th>\n",
       "      <td>business-016</td>\n",
       "      <td>China keeps tight rein on credit\\n\\nChina's ef...</td>\n",
       "      <td>business</td>\n",
       "    </tr>\n",
       "    <tr>\n",
       "      <th>16</th>\n",
       "      <td>business-017</td>\n",
       "      <td>Parmalat boasts doubled profits\\n\\nParmalat, t...</td>\n",
       "      <td>business</td>\n",
       "    </tr>\n",
       "    <tr>\n",
       "      <th>17</th>\n",
       "      <td>business-018</td>\n",
       "      <td>India's rupee hits five-year high\\n\\nIndia's r...</td>\n",
       "      <td>business</td>\n",
       "    </tr>\n",
       "    <tr>\n",
       "      <th>18</th>\n",
       "      <td>business-019</td>\n",
       "      <td>India widens access to telecoms\\n\\nIndia has r...</td>\n",
       "      <td>business</td>\n",
       "    </tr>\n",
       "    <tr>\n",
       "      <th>19</th>\n",
       "      <td>business-020</td>\n",
       "      <td>Call centre users 'lose patience'\\n\\nCustomers...</td>\n",
       "      <td>business</td>\n",
       "    </tr>\n",
       "    <tr>\n",
       "      <th>20</th>\n",
       "      <td>business-021</td>\n",
       "      <td>Rank 'set to sell off film unit'\\n\\nLeisure gr...</td>\n",
       "      <td>business</td>\n",
       "    </tr>\n",
       "    <tr>\n",
       "      <th>21</th>\n",
       "      <td>business-022</td>\n",
       "      <td>Sluggish economy hits German jobs\\n\\nThe numbe...</td>\n",
       "      <td>business</td>\n",
       "    </tr>\n",
       "    <tr>\n",
       "      <th>22</th>\n",
       "      <td>business-023</td>\n",
       "      <td>Mixed signals from French economy\\n\\nThe Frenc...</td>\n",
       "      <td>business</td>\n",
       "    </tr>\n",
       "    <tr>\n",
       "      <th>23</th>\n",
       "      <td>business-024</td>\n",
       "      <td>US trade gap hits record in 2004\\n\\nThe gap be...</td>\n",
       "      <td>business</td>\n",
       "    </tr>\n",
       "    <tr>\n",
       "      <th>24</th>\n",
       "      <td>business-025</td>\n",
       "      <td>Yukos loses US bankruptcy battle\\n\\nA judge ha...</td>\n",
       "      <td>business</td>\n",
       "    </tr>\n",
       "    <tr>\n",
       "      <th>25</th>\n",
       "      <td>business-026</td>\n",
       "      <td>Safety alert as GM recalls cars\\n\\nThe world's...</td>\n",
       "      <td>business</td>\n",
       "    </tr>\n",
       "    <tr>\n",
       "      <th>26</th>\n",
       "      <td>business-027</td>\n",
       "      <td>Steel firm 'to cut' 45,000 jobs\\n\\nMittal Stee...</td>\n",
       "      <td>business</td>\n",
       "    </tr>\n",
       "    <tr>\n",
       "      <th>27</th>\n",
       "      <td>business-028</td>\n",
       "      <td>Strong demand triggers oil rally\\n\\nCrude oil ...</td>\n",
       "      <td>business</td>\n",
       "    </tr>\n",
       "    <tr>\n",
       "      <th>28</th>\n",
       "      <td>business-029</td>\n",
       "      <td>UK firm faces Venezuelan land row\\n\\nVenezuela...</td>\n",
       "      <td>business</td>\n",
       "    </tr>\n",
       "    <tr>\n",
       "      <th>29</th>\n",
       "      <td>business-030</td>\n",
       "      <td>Soaring oil 'hits world economy'\\n\\nThe soarin...</td>\n",
       "      <td>business</td>\n",
       "    </tr>\n",
       "    <tr>\n",
       "      <th>...</th>\n",
       "      <td>...</td>\n",
       "      <td>...</td>\n",
       "      <td>...</td>\n",
       "    </tr>\n",
       "    <tr>\n",
       "      <th>2195</th>\n",
       "      <td>tech-372</td>\n",
       "      <td>Text message record smashed again\\n\\nUK mobile...</td>\n",
       "      <td>tech</td>\n",
       "    </tr>\n",
       "    <tr>\n",
       "      <th>2196</th>\n",
       "      <td>tech-373</td>\n",
       "      <td>Software watching while you work\\n\\nSoftware t...</td>\n",
       "      <td>tech</td>\n",
       "    </tr>\n",
       "    <tr>\n",
       "      <th>2197</th>\n",
       "      <td>tech-374</td>\n",
       "      <td>Commodore finds new lease of life\\n\\nThe once-...</td>\n",
       "      <td>tech</td>\n",
       "    </tr>\n",
       "    <tr>\n",
       "      <th>2198</th>\n",
       "      <td>tech-375</td>\n",
       "      <td>Cabs collect mountain of mobiles\\n\\nGadgets ar...</td>\n",
       "      <td>tech</td>\n",
       "    </tr>\n",
       "    <tr>\n",
       "      <th>2199</th>\n",
       "      <td>tech-376</td>\n",
       "      <td>T-Mobile bets on 'pocket office'\\n\\nT-Mobile h...</td>\n",
       "      <td>tech</td>\n",
       "    </tr>\n",
       "    <tr>\n",
       "      <th>2200</th>\n",
       "      <td>tech-377</td>\n",
       "      <td>California sets fines for spyware\\n\\nThe maker...</td>\n",
       "      <td>tech</td>\n",
       "    </tr>\n",
       "    <tr>\n",
       "      <th>2201</th>\n",
       "      <td>tech-378</td>\n",
       "      <td>Mobile TV tipped as one to watch\\n\\nScandinavi...</td>\n",
       "      <td>tech</td>\n",
       "    </tr>\n",
       "    <tr>\n",
       "      <th>2202</th>\n",
       "      <td>tech-379</td>\n",
       "      <td>Apple laptop is 'greatest gadget'\\n\\nThe Apple...</td>\n",
       "      <td>tech</td>\n",
       "    </tr>\n",
       "    <tr>\n",
       "      <th>2203</th>\n",
       "      <td>tech-380</td>\n",
       "      <td>Sun offers processing by the hour\\n\\nSun Micro...</td>\n",
       "      <td>tech</td>\n",
       "    </tr>\n",
       "    <tr>\n",
       "      <th>2204</th>\n",
       "      <td>tech-381</td>\n",
       "      <td>Kenyan school turns to handhelds\\n\\nAt the Mbi...</td>\n",
       "      <td>tech</td>\n",
       "    </tr>\n",
       "    <tr>\n",
       "      <th>2205</th>\n",
       "      <td>tech-382</td>\n",
       "      <td>Tough rules for ringtone sellers\\n\\nFirms that...</td>\n",
       "      <td>tech</td>\n",
       "    </tr>\n",
       "    <tr>\n",
       "      <th>2206</th>\n",
       "      <td>tech-383</td>\n",
       "      <td>Mobile music challenges 'iPod age'\\n\\nNokia an...</td>\n",
       "      <td>tech</td>\n",
       "    </tr>\n",
       "    <tr>\n",
       "      <th>2207</th>\n",
       "      <td>tech-384</td>\n",
       "      <td>China 'ripe' for media explosion\\n\\nAsia is se...</td>\n",
       "      <td>tech</td>\n",
       "    </tr>\n",
       "    <tr>\n",
       "      <th>2208</th>\n",
       "      <td>tech-385</td>\n",
       "      <td>Beckham virus spotted on the net\\n\\nVirus writ...</td>\n",
       "      <td>tech</td>\n",
       "    </tr>\n",
       "    <tr>\n",
       "      <th>2209</th>\n",
       "      <td>tech-386</td>\n",
       "      <td>Video phones act as dating tools\\n\\nTechnologi...</td>\n",
       "      <td>tech</td>\n",
       "    </tr>\n",
       "    <tr>\n",
       "      <th>2210</th>\n",
       "      <td>tech-387</td>\n",
       "      <td>Progress on new internet domains\\n\\nBy early 2...</td>\n",
       "      <td>tech</td>\n",
       "    </tr>\n",
       "    <tr>\n",
       "      <th>2211</th>\n",
       "      <td>tech-388</td>\n",
       "      <td>Camera phones are 'must-haves'\\n\\nFour times m...</td>\n",
       "      <td>tech</td>\n",
       "    </tr>\n",
       "    <tr>\n",
       "      <th>2212</th>\n",
       "      <td>tech-389</td>\n",
       "      <td>Mobile multimedia slow to catch on\\n\\nThere is...</td>\n",
       "      <td>tech</td>\n",
       "    </tr>\n",
       "    <tr>\n",
       "      <th>2213</th>\n",
       "      <td>tech-390</td>\n",
       "      <td>Anti-spam laws bite spammer hard\\n\\nThe net's ...</td>\n",
       "      <td>tech</td>\n",
       "    </tr>\n",
       "    <tr>\n",
       "      <th>2214</th>\n",
       "      <td>tech-391</td>\n",
       "      <td>Peer-to-peer nets 'here to stay'\\n\\nPeer-to-pe...</td>\n",
       "      <td>tech</td>\n",
       "    </tr>\n",
       "    <tr>\n",
       "      <th>2215</th>\n",
       "      <td>tech-392</td>\n",
       "      <td>Broadband fuels online expression\\n\\nFast web ...</td>\n",
       "      <td>tech</td>\n",
       "    </tr>\n",
       "    <tr>\n",
       "      <th>2216</th>\n",
       "      <td>tech-393</td>\n",
       "      <td>Savvy searchers fail to spot ads\\n\\nInternet s...</td>\n",
       "      <td>tech</td>\n",
       "    </tr>\n",
       "    <tr>\n",
       "      <th>2217</th>\n",
       "      <td>tech-394</td>\n",
       "      <td>TV's future down the phone line\\n\\nInternet TV...</td>\n",
       "      <td>tech</td>\n",
       "    </tr>\n",
       "    <tr>\n",
       "      <th>2218</th>\n",
       "      <td>tech-395</td>\n",
       "      <td>Cebit fever takes over Hanover\\n\\nThousands of...</td>\n",
       "      <td>tech</td>\n",
       "    </tr>\n",
       "    <tr>\n",
       "      <th>2219</th>\n",
       "      <td>tech-396</td>\n",
       "      <td>New consoles promise big problems\\n\\nMaking ga...</td>\n",
       "      <td>tech</td>\n",
       "    </tr>\n",
       "    <tr>\n",
       "      <th>2220</th>\n",
       "      <td>tech-397</td>\n",
       "      <td>BT program to beat dialler scams\\n\\nBT is intr...</td>\n",
       "      <td>tech</td>\n",
       "    </tr>\n",
       "    <tr>\n",
       "      <th>2221</th>\n",
       "      <td>tech-398</td>\n",
       "      <td>Spam e-mails tempt net shoppers\\n\\nComputer us...</td>\n",
       "      <td>tech</td>\n",
       "    </tr>\n",
       "    <tr>\n",
       "      <th>2222</th>\n",
       "      <td>tech-399</td>\n",
       "      <td>Be careful how you code\\n\\nA new European dire...</td>\n",
       "      <td>tech</td>\n",
       "    </tr>\n",
       "    <tr>\n",
       "      <th>2223</th>\n",
       "      <td>tech-400</td>\n",
       "      <td>US cyber security chief resigns\\n\\nThe man mak...</td>\n",
       "      <td>tech</td>\n",
       "    </tr>\n",
       "    <tr>\n",
       "      <th>2224</th>\n",
       "      <td>tech-401</td>\n",
       "      <td>Losing yourself in online gaming\\n\\nOnline rol...</td>\n",
       "      <td>tech</td>\n",
       "    </tr>\n",
       "  </tbody>\n",
       "</table>\n",
       "<p>2225 rows × 3 columns</p>\n",
       "</div>"
      ],
      "text/plain": [
       "         ArticleId                                               Text  \\\n",
       "0     business-001  Ad sales boost Time Warner profit\\n\\nQuarterly...   \n",
       "1     business-002  Dollar gains on Greenspan speech\\n\\nThe dollar...   \n",
       "2     business-003  Yukos unit buyer faces loan claim\\n\\nThe owner...   \n",
       "3     business-004  High fuel prices hit BA's profits\\n\\nBritish A...   \n",
       "4     business-005  Pernod takeover talk lifts Domecq\\n\\nShares in...   \n",
       "5     business-006  Japan narrowly escapes recession\\n\\nJapan's ec...   \n",
       "6     business-007  Jobs growth still slow in the US\\n\\nThe US cre...   \n",
       "7     business-008  India calls for fair trade rules\\n\\nIndia, whi...   \n",
       "8     business-009  Ethiopia's crop production up 24%\\n\\nEthiopia ...   \n",
       "9     business-010  Court rejects $280bn tobacco case\\n\\nA US gove...   \n",
       "10    business-011  Ask Jeeves tips online ad revival\\n\\nAsk Jeeve...   \n",
       "11    business-012  Indonesians face fuel price rise\\n\\nIndonesia'...   \n",
       "12    business-013  Peugeot deal boosts Mitsubishi\\n\\nStruggling J...   \n",
       "13    business-014  Telegraph newspapers axe 90 jobs\\n\\nThe Daily ...   \n",
       "14    business-015  Air passengers win new EU rights\\n\\nAir passen...   \n",
       "15    business-016  China keeps tight rein on credit\\n\\nChina's ef...   \n",
       "16    business-017  Parmalat boasts doubled profits\\n\\nParmalat, t...   \n",
       "17    business-018  India's rupee hits five-year high\\n\\nIndia's r...   \n",
       "18    business-019  India widens access to telecoms\\n\\nIndia has r...   \n",
       "19    business-020  Call centre users 'lose patience'\\n\\nCustomers...   \n",
       "20    business-021  Rank 'set to sell off film unit'\\n\\nLeisure gr...   \n",
       "21    business-022  Sluggish economy hits German jobs\\n\\nThe numbe...   \n",
       "22    business-023  Mixed signals from French economy\\n\\nThe Frenc...   \n",
       "23    business-024  US trade gap hits record in 2004\\n\\nThe gap be...   \n",
       "24    business-025  Yukos loses US bankruptcy battle\\n\\nA judge ha...   \n",
       "25    business-026  Safety alert as GM recalls cars\\n\\nThe world's...   \n",
       "26    business-027  Steel firm 'to cut' 45,000 jobs\\n\\nMittal Stee...   \n",
       "27    business-028  Strong demand triggers oil rally\\n\\nCrude oil ...   \n",
       "28    business-029  UK firm faces Venezuelan land row\\n\\nVenezuela...   \n",
       "29    business-030  Soaring oil 'hits world economy'\\n\\nThe soarin...   \n",
       "...            ...                                                ...   \n",
       "2195      tech-372  Text message record smashed again\\n\\nUK mobile...   \n",
       "2196      tech-373  Software watching while you work\\n\\nSoftware t...   \n",
       "2197      tech-374  Commodore finds new lease of life\\n\\nThe once-...   \n",
       "2198      tech-375  Cabs collect mountain of mobiles\\n\\nGadgets ar...   \n",
       "2199      tech-376  T-Mobile bets on 'pocket office'\\n\\nT-Mobile h...   \n",
       "2200      tech-377  California sets fines for spyware\\n\\nThe maker...   \n",
       "2201      tech-378  Mobile TV tipped as one to watch\\n\\nScandinavi...   \n",
       "2202      tech-379  Apple laptop is 'greatest gadget'\\n\\nThe Apple...   \n",
       "2203      tech-380  Sun offers processing by the hour\\n\\nSun Micro...   \n",
       "2204      tech-381  Kenyan school turns to handhelds\\n\\nAt the Mbi...   \n",
       "2205      tech-382  Tough rules for ringtone sellers\\n\\nFirms that...   \n",
       "2206      tech-383  Mobile music challenges 'iPod age'\\n\\nNokia an...   \n",
       "2207      tech-384  China 'ripe' for media explosion\\n\\nAsia is se...   \n",
       "2208      tech-385  Beckham virus spotted on the net\\n\\nVirus writ...   \n",
       "2209      tech-386  Video phones act as dating tools\\n\\nTechnologi...   \n",
       "2210      tech-387  Progress on new internet domains\\n\\nBy early 2...   \n",
       "2211      tech-388  Camera phones are 'must-haves'\\n\\nFour times m...   \n",
       "2212      tech-389  Mobile multimedia slow to catch on\\n\\nThere is...   \n",
       "2213      tech-390  Anti-spam laws bite spammer hard\\n\\nThe net's ...   \n",
       "2214      tech-391  Peer-to-peer nets 'here to stay'\\n\\nPeer-to-pe...   \n",
       "2215      tech-392  Broadband fuels online expression\\n\\nFast web ...   \n",
       "2216      tech-393  Savvy searchers fail to spot ads\\n\\nInternet s...   \n",
       "2217      tech-394  TV's future down the phone line\\n\\nInternet TV...   \n",
       "2218      tech-395  Cebit fever takes over Hanover\\n\\nThousands of...   \n",
       "2219      tech-396  New consoles promise big problems\\n\\nMaking ga...   \n",
       "2220      tech-397  BT program to beat dialler scams\\n\\nBT is intr...   \n",
       "2221      tech-398  Spam e-mails tempt net shoppers\\n\\nComputer us...   \n",
       "2222      tech-399  Be careful how you code\\n\\nA new European dire...   \n",
       "2223      tech-400  US cyber security chief resigns\\n\\nThe man mak...   \n",
       "2224      tech-401  Losing yourself in online gaming\\n\\nOnline rol...   \n",
       "\n",
       "      Category  \n",
       "0     business  \n",
       "1     business  \n",
       "2     business  \n",
       "3     business  \n",
       "4     business  \n",
       "5     business  \n",
       "6     business  \n",
       "7     business  \n",
       "8     business  \n",
       "9     business  \n",
       "10    business  \n",
       "11    business  \n",
       "12    business  \n",
       "13    business  \n",
       "14    business  \n",
       "15    business  \n",
       "16    business  \n",
       "17    business  \n",
       "18    business  \n",
       "19    business  \n",
       "20    business  \n",
       "21    business  \n",
       "22    business  \n",
       "23    business  \n",
       "24    business  \n",
       "25    business  \n",
       "26    business  \n",
       "27    business  \n",
       "28    business  \n",
       "29    business  \n",
       "...        ...  \n",
       "2195      tech  \n",
       "2196      tech  \n",
       "2197      tech  \n",
       "2198      tech  \n",
       "2199      tech  \n",
       "2200      tech  \n",
       "2201      tech  \n",
       "2202      tech  \n",
       "2203      tech  \n",
       "2204      tech  \n",
       "2205      tech  \n",
       "2206      tech  \n",
       "2207      tech  \n",
       "2208      tech  \n",
       "2209      tech  \n",
       "2210      tech  \n",
       "2211      tech  \n",
       "2212      tech  \n",
       "2213      tech  \n",
       "2214      tech  \n",
       "2215      tech  \n",
       "2216      tech  \n",
       "2217      tech  \n",
       "2218      tech  \n",
       "2219      tech  \n",
       "2220      tech  \n",
       "2221      tech  \n",
       "2222      tech  \n",
       "2223      tech  \n",
       "2224      tech  \n",
       "\n",
       "[2225 rows x 3 columns]"
      ]
     },
     "execution_count": 2,
     "metadata": {},
     "output_type": "execute_result"
    }
   ],
   "source": [
    "data = []\n",
    "for cat in tqdm(os.listdir('bbc')):\n",
    "    for fname in glob.glob('bbc/' + cat + '/*.txt'):\n",
    "        file = Path(fname)\n",
    "        iid = cat + '-' + file.name.split('.')[0]\n",
    "        try:\n",
    "            txt = file.read_text(encoding='latin-1')\n",
    "        except:\n",
    "            print(iid)\n",
    "        data.append([iid, txt, cat])\n",
    "        \n",
    "df = pd.DataFrame(data, columns=['ArticleId', 'Text', 'Category']); df"
   ]
  },
  {
   "cell_type": "code",
   "execution_count": 3,
   "metadata": {},
   "outputs": [
    {
     "data": {
      "text/html": [
       "<div>\n",
       "<style scoped>\n",
       "    .dataframe tbody tr th:only-of-type {\n",
       "        vertical-align: middle;\n",
       "    }\n",
       "\n",
       "    .dataframe tbody tr th {\n",
       "        vertical-align: top;\n",
       "    }\n",
       "\n",
       "    .dataframe thead th {\n",
       "        text-align: right;\n",
       "    }\n",
       "</style>\n",
       "<table border=\"1\" class=\"dataframe\">\n",
       "  <thead>\n",
       "    <tr style=\"text-align: right;\">\n",
       "      <th></th>\n",
       "      <th>Category</th>\n",
       "      <th>category_id</th>\n",
       "    </tr>\n",
       "  </thead>\n",
       "  <tbody>\n",
       "    <tr>\n",
       "      <th>0</th>\n",
       "      <td>business</td>\n",
       "      <td>0</td>\n",
       "    </tr>\n",
       "    <tr>\n",
       "      <th>510</th>\n",
       "      <td>entertainment</td>\n",
       "      <td>1</td>\n",
       "    </tr>\n",
       "    <tr>\n",
       "      <th>896</th>\n",
       "      <td>politics</td>\n",
       "      <td>2</td>\n",
       "    </tr>\n",
       "    <tr>\n",
       "      <th>1313</th>\n",
       "      <td>sport</td>\n",
       "      <td>3</td>\n",
       "    </tr>\n",
       "    <tr>\n",
       "      <th>1824</th>\n",
       "      <td>tech</td>\n",
       "      <td>4</td>\n",
       "    </tr>\n",
       "  </tbody>\n",
       "</table>\n",
       "</div>"
      ],
      "text/plain": [
       "           Category  category_id\n",
       "0          business            0\n",
       "510   entertainment            1\n",
       "896        politics            2\n",
       "1313          sport            3\n",
       "1824           tech            4"
      ]
     },
     "execution_count": 3,
     "metadata": {},
     "output_type": "execute_result"
    }
   ],
   "source": [
    "df['category_id'] = df['Category'].factorize()[0]\n",
    "category_id_df = df[['Category', 'category_id']].drop_duplicates().sort_values('category_id'); category_id_df"
   ]
  },
  {
   "cell_type": "code",
   "execution_count": 4,
   "metadata": {},
   "outputs": [
    {
     "data": {
      "text/plain": [
       "{'business': 0, 'entertainment': 1, 'politics': 2, 'sport': 3, 'tech': 4}"
      ]
     },
     "execution_count": 4,
     "metadata": {},
     "output_type": "execute_result"
    }
   ],
   "source": [
    "category_to_id = dict(category_id_df.values); category_to_id"
   ]
  },
  {
   "cell_type": "code",
   "execution_count": 5,
   "metadata": {},
   "outputs": [
    {
     "data": {
      "text/plain": [
       "{0: 'business', 1: 'entertainment', 2: 'politics', 3: 'sport', 4: 'tech'}"
      ]
     },
     "execution_count": 5,
     "metadata": {},
     "output_type": "execute_result"
    }
   ],
   "source": [
    "id_to_category = dict(category_id_df[['category_id', 'Category']].values); id_to_category"
   ]
  },
  {
   "cell_type": "code",
   "execution_count": 6,
   "metadata": {},
   "outputs": [
    {
     "data": {
      "text/html": [
       "<div>\n",
       "<style scoped>\n",
       "    .dataframe tbody tr th:only-of-type {\n",
       "        vertical-align: middle;\n",
       "    }\n",
       "\n",
       "    .dataframe tbody tr th {\n",
       "        vertical-align: top;\n",
       "    }\n",
       "\n",
       "    .dataframe thead th {\n",
       "        text-align: right;\n",
       "    }\n",
       "</style>\n",
       "<table border=\"1\" class=\"dataframe\">\n",
       "  <thead>\n",
       "    <tr style=\"text-align: right;\">\n",
       "      <th></th>\n",
       "      <th>ArticleId</th>\n",
       "      <th>Text</th>\n",
       "      <th>Category</th>\n",
       "      <th>category_id</th>\n",
       "    </tr>\n",
       "  </thead>\n",
       "  <tbody>\n",
       "    <tr>\n",
       "      <th>384</th>\n",
       "      <td>business-385</td>\n",
       "      <td>Tate &amp; Lyle boss bags top award\\n\\nTate &amp; Lyle...</td>\n",
       "      <td>business</td>\n",
       "      <td>0</td>\n",
       "    </tr>\n",
       "    <tr>\n",
       "      <th>1983</th>\n",
       "      <td>tech-160</td>\n",
       "      <td>Halo 2 sells five million copies\\n\\nMicrosoft ...</td>\n",
       "      <td>tech</td>\n",
       "      <td>4</td>\n",
       "    </tr>\n",
       "    <tr>\n",
       "      <th>985</th>\n",
       "      <td>politics-090</td>\n",
       "      <td>MSPs hear renewed climate warning\\n\\nClimate c...</td>\n",
       "      <td>politics</td>\n",
       "      <td>2</td>\n",
       "    </tr>\n",
       "    <tr>\n",
       "      <th>1386</th>\n",
       "      <td>sport-074</td>\n",
       "      <td>Pavey focuses on indoor success\\n\\nJo Pavey wi...</td>\n",
       "      <td>sport</td>\n",
       "      <td>3</td>\n",
       "    </tr>\n",
       "    <tr>\n",
       "      <th>1294</th>\n",
       "      <td>politics-399</td>\n",
       "      <td>Tories reject rethink on axed MP\\n\\nSacked MP ...</td>\n",
       "      <td>politics</td>\n",
       "      <td>2</td>\n",
       "    </tr>\n",
       "  </tbody>\n",
       "</table>\n",
       "</div>"
      ],
      "text/plain": [
       "         ArticleId                                               Text  \\\n",
       "384   business-385  Tate & Lyle boss bags top award\\n\\nTate & Lyle...   \n",
       "1983      tech-160  Halo 2 sells five million copies\\n\\nMicrosoft ...   \n",
       "985   politics-090  MSPs hear renewed climate warning\\n\\nClimate c...   \n",
       "1386     sport-074  Pavey focuses on indoor success\\n\\nJo Pavey wi...   \n",
       "1294  politics-399  Tories reject rethink on axed MP\\n\\nSacked MP ...   \n",
       "\n",
       "      Category  category_id  \n",
       "384   business            0  \n",
       "1983      tech            4  \n",
       "985   politics            2  \n",
       "1386     sport            3  \n",
       "1294  politics            2  "
      ]
     },
     "execution_count": 6,
     "metadata": {},
     "output_type": "execute_result"
    }
   ],
   "source": [
    "df.sample(5, random_state=0)"
   ]
  },
  {
   "cell_type": "code",
   "execution_count": 7,
   "metadata": {},
   "outputs": [
    {
     "data": {
      "text/plain": [
       "<matplotlib.axes._subplots.AxesSubplot at 0x1c977717b70>"
      ]
     },
     "execution_count": 7,
     "metadata": {},
     "output_type": "execute_result"
    },
    {
     "data": {
      "image/png": "[encoded data removed]",
      "text/plain": [
       "<Figure size 432x288 with 1 Axes>"
      ]
     },
     "metadata": {
      "needs_background": "light"
     },
     "output_type": "display_data"
    }
   ],
   "source": [
    "df.groupby('Category').category_id.count().plot.bar(ylim=0)"
   ]
  },
  {
   "cell_type": "code",
   "execution_count": 8,
   "metadata": {},
   "outputs": [
    {
     "data": {
      "text/plain": [
       "(2225, 14415)"
      ]
     },
     "execution_count": 8,
     "metadata": {},
     "output_type": "execute_result"
    }
   ],
   "source": [
    "tfidf = TfidfVectorizer(sublinear_tf=True, min_df=5, norm='l2', encoding='latin-1', ngram_range=(1,2), stop_words='english')\n",
    "features = tfidf.fit_transform(df.Text).toarray()\n",
    "labels = df.category_id; features.shape"
   ]
  },
  {
   "cell_type": "code",
   "execution_count": 9,
   "metadata": {
    "scrolled": true
   },
   "outputs": [
    {
     "data": {
      "application/vnd.jupyter.widget-view+json": {
       "model_id": "0acb691aa2f14758b92a7f6c752ef022",
       "version_major": 2,
       "version_minor": 0
      },
      "text/plain": [
       "HBox(children=(IntProgress(value=0, max=5), HTML(value='')))"
      ]
     },
     "metadata": {},
     "output_type": "display_data"
    },
    {
     "name": "stdout",
     "output_type": "stream",
     "text": [
      "# business\n",
      "  .Most correlated unigrams:\n",
      "    .oil\n",
      "    .growth\n",
      "    .shares\n",
      "  .Most correlated bigrams:\n",
      "    .analysts said\n",
      "    .economic growth\n",
      "    .stock market\n",
      "# entertainment\n",
      "  .Most correlated unigrams:\n",
      "    .singer\n",
      "    .actor\n",
      "    .film\n",
      "  .Most correlated bigrams:\n",
      "    .los angeles\n",
      "    .film festival\n",
      "    .box office\n",
      "# politics\n",
      "  .Most correlated unigrams:\n",
      "    .blair\n",
      "    .election\n",
      "    .labour\n",
      "  .Most correlated bigrams:\n",
      "    .prime minister\n",
      "    .tony blair\n",
      "    .mr blair\n",
      "# sport\n",
      "  .Most correlated unigrams:\n",
      "    .coach\n",
      "    .match\n",
      "    .cup\n",
      "  .Most correlated bigrams:\n",
      "    .grand slam\n",
      "    .australian open\n",
      "    .champions league\n",
      "# tech\n",
      "  .Most correlated unigrams:\n",
      "    .technology\n",
      "    .software\n",
      "    .users\n",
      "  .Most correlated bigrams:\n",
      "    .anti virus\n",
      "    .mobile phones\n",
      "    .mobile phone\n",
      "\n"
     ]
    }
   ],
   "source": [
    "N = 3\n",
    "\n",
    "for Category, category_id in tqdm(sorted(category_to_id.items())):\n",
    "    features_chi2 = chi2(features, labels==category_id)\n",
    "    indices = np.argsort(features_chi2[0])\n",
    "    feature_names = np.array(tfidf.get_feature_names())[indices]\n",
    "    unigrams = [v for v in feature_names if len(v.split(' '))==1]\n",
    "    bigrams = [v for v in feature_names if len(v.split(' '))==2]\n",
    "    print('# {}'.format(Category))\n",
    "    print('  .Most correlated unigrams:\\n    .{}'.format('\\n    .'.join(unigrams[-N:])))\n",
    "    print('  .Most correlated bigrams:\\n    .{}'.format('\\n    .'.join(bigrams[-N:])))"
   ]
  },
  {
   "cell_type": "code",
   "execution_count": 10,
   "metadata": {},
   "outputs": [
    {
     "data": {
      "text/plain": [
       "(667, 2)"
      ]
     },
     "execution_count": 10,
     "metadata": {},
     "output_type": "execute_result"
    }
   ],
   "source": [
    "SAMPLE_SIZE = int(len(features)*0.3)\n",
    "np.random.seed(0)\n",
    "indices = np.random.choice(range(len(features)), size=SAMPLE_SIZE, replace=False)\n",
    "projected_features = TSNE(n_components=2, random_state=0).fit_transform(features[indices]); projected_features.shape"
   ]
  },
  {
   "cell_type": "code",
   "execution_count": 11,
   "metadata": {},
   "outputs": [
    {
     "data": {
      "text/plain": [
       "array([[ 20.867317 , -24.286161 ],\n",
       "       [ 32.15504  , -34.496788 ],\n",
       "       [ 21.945278 , -28.672266 ],\n",
       "       [ 10.729226 , -22.20582  ],\n",
       "       [-15.323385 , -11.129261 ],\n",
       "       [ 13.543248 , -35.330227 ],\n",
       "       [ 13.5722475, -16.537634 ],\n",
       "       [ 30.31591  , -27.98926  ],\n",
       "       [ 38.132023 , -23.728315 ],\n",
       "       [ 10.157736 , -33.80925  ],\n",
       "       [ 26.371328 , -37.92122  ],\n",
       "       [ 15.23539  , -34.75432  ],\n",
       "       [ 15.68058  , -32.66936  ],\n",
       "       [ 16.843668 , -22.685152 ],\n",
       "       [ 17.596556 , -28.77592  ],\n",
       "       [  7.954508 ,  -9.466415 ],\n",
       "       [ 25.484049 , -18.129175 ],\n",
       "       [  9.885706 , -13.634229 ],\n",
       "       [  6.8335476, -12.146235 ],\n",
       "       [ -1.2814156,  -6.5572157],\n",
       "       [  4.393556 , -18.388744 ],\n",
       "       [ 24.894709 , -37.420197 ],\n",
       "       [ 26.115585 , -38.80898  ],\n",
       "       [ 25.866795 , -41.043808 ],\n",
       "       [ 12.362574 , -22.257097 ],\n",
       "       [ 26.460035 , -41.3697   ],\n",
       "       [ 21.773987 , -20.330444 ],\n",
       "       [ 11.0408125,  -9.513612 ],\n",
       "       [ 24.104187 , -15.975608 ],\n",
       "       [-29.032644 , -25.695122 ],\n",
       "       [ 18.996943 , -37.52378  ],\n",
       "       [ 24.891478 , -29.302015 ],\n",
       "       [ 11.046105 , -35.66948  ],\n",
       "       [ 38.245415 , -24.933907 ],\n",
       "       [  3.8273287, -23.945354 ],\n",
       "       [ 21.456898 , -31.800531 ],\n",
       "       [ 23.85181  , -18.978634 ],\n",
       "       [ 17.358248 , -34.759483 ],\n",
       "       [  3.4563198, -29.803307 ],\n",
       "       [ 22.281454 , -37.601254 ],\n",
       "       [ 19.908682 , -28.896067 ],\n",
       "       [ -4.8359466,   9.816942 ],\n",
       "       [ 30.99802  , -30.978622 ],\n",
       "       [ 26.31226  , -15.333137 ],\n",
       "       [ 35.5096   , -29.02052  ],\n",
       "       [ 12.15235  , -19.781275 ],\n",
       "       [ 15.900948 , -18.618013 ],\n",
       "       [ 36.138412 , -25.306522 ],\n",
       "       [ 15.495363 , -36.548615 ],\n",
       "       [ 31.281101 , -31.728281 ],\n",
       "       [ 24.176043 , -40.031086 ],\n",
       "       [-11.507109 , -20.115849 ],\n",
       "       [ 26.823254 , -39.801308 ],\n",
       "       [  7.2850857, -30.355747 ],\n",
       "       [ 14.605483 , -26.945581 ],\n",
       "       [ 32.668945 , -35.66598  ],\n",
       "       [ 29.086359 , -27.9447   ],\n",
       "       [ 12.985736 , -14.354454 ],\n",
       "       [  4.7946124, -23.657711 ],\n",
       "       [ 16.346664 , -13.344109 ],\n",
       "       [  2.2934163,  -5.5351667],\n",
       "       [ 11.574292 , -18.486439 ],\n",
       "       [ 33.828583 , -28.948694 ],\n",
       "       [  7.6860585, -25.362144 ],\n",
       "       [ 12.581537 , -12.662053 ],\n",
       "       [ 13.980993 , -19.582752 ],\n",
       "       [ 24.034107 , -35.763504 ],\n",
       "       [  9.096616 , -29.336746 ],\n",
       "       [  7.602555 , -25.275272 ],\n",
       "       [ 14.341225 , -25.1149   ],\n",
       "       [  8.1580715,  -8.236681 ],\n",
       "       [ 30.356829 , -21.34965  ],\n",
       "       [ 12.7835   , -17.295424 ],\n",
       "       [ 11.57486  , -18.486336 ],\n",
       "       [ 27.107014 , -33.889507 ],\n",
       "       [ 33.796    , -24.485567 ],\n",
       "       [ 19.309803 , -31.827307 ],\n",
       "       [ 12.562222 , -30.2404   ],\n",
       "       [ 32.910233 , -25.935352 ],\n",
       "       [ 25.803051 , -27.169268 ],\n",
       "       [ 11.89979  , -22.469954 ],\n",
       "       [ 15.213588 , -31.529135 ],\n",
       "       [ 11.761718 , -37.045338 ],\n",
       "       [ -6.241857 , -26.444433 ],\n",
       "       [  3.7400117, -29.675447 ],\n",
       "       [  7.525215 , -19.683075 ],\n",
       "       [  8.522829 ,  -2.7817233],\n",
       "       [ 24.164711 , -29.167608 ],\n",
       "       [ 21.031107 , -27.074759 ],\n",
       "       [-15.32009  , -11.190159 ],\n",
       "       [ 27.776407 , -39.00803  ],\n",
       "       [ 27.259365 , -32.47483  ],\n",
       "       [ 35.317688 , -28.553425 ],\n",
       "       [ 17.00079  , -32.393    ],\n",
       "       [ 21.737661 , -16.116488 ],\n",
       "       [ 21.484938 , -34.539673 ],\n",
       "       [ 17.493189 , -30.42962  ],\n",
       "       [ 11.341655 , -25.384909 ],\n",
       "       [ 11.109765 ,  -9.623351 ],\n",
       "       [  7.4274898, -19.620962 ],\n",
       "       [ 18.091814 , -17.344366 ],\n",
       "       [ 14.277136 , -34.45109  ],\n",
       "       [ 27.625305 , -15.680445 ],\n",
       "       [ 25.905056 , -23.841995 ],\n",
       "       [ 26.645412 , -19.332895 ],\n",
       "       [  4.641303 ,  -5.0055437],\n",
       "       [ 15.521583 , -20.806911 ],\n",
       "       [ 18.9479   , -30.334208 ],\n",
       "       [ 17.123014 , -14.93746  ],\n",
       "       [ 15.017727 , -15.790385 ],\n",
       "       [ 14.7521925, -27.440134 ],\n",
       "       [ 17.23278  , -22.415976 ],\n",
       "       [ 32.649033 , -33.902065 ],\n",
       "       [ 14.8492365, -21.80556  ],\n",
       "       [ 15.595834 , -18.551981 ],\n",
       "       [ 11.242038 , -23.938389 ],\n",
       "       [ 10.415086 , -14.447503 ],\n",
       "       [ 19.27276  , -31.276451 ],\n",
       "       [ 23.29494  , -25.98019  ],\n",
       "       [ 30.299417 , -26.91059  ],\n",
       "       [ -4.671851 ,  -1.7307804],\n",
       "       [ 33.7801   , -24.416054 ],\n",
       "       [ 21.699919 , -34.379208 ],\n",
       "       [ 17.277363 , -26.77889  ],\n",
       "       [ 18.609509 , -21.066837 ],\n",
       "       [ 18.347513 , -25.963835 ],\n",
       "       [  8.6353245, -26.255207 ],\n",
       "       [ 23.09518  , -31.483564 ],\n",
       "       [ 21.510153 , -29.393478 ],\n",
       "       [  9.556592 , -33.366352 ],\n",
       "       [ 16.536188 , -19.943226 ],\n",
       "       [ 23.083065 , -30.078081 ],\n",
       "       [  6.5306334, -26.469692 ],\n",
       "       [  8.422356 , -14.750569 ],\n",
       "       [ 25.36255  , -23.228943 ],\n",
       "       [ 32.442432 , -12.149454 ],\n",
       "       [ 17.634804 , -17.29693  ],\n",
       "       [  9.483835 , -27.542063 ],\n",
       "       [ 11.650099 , -36.163563 ],\n",
       "       [ 30.059729 , -28.231659 ],\n",
       "       [ 19.412958 , -13.566786 ],\n",
       "       [ 27.203526 , -24.230587 ],\n",
       "       [ -1.3132722, -21.518248 ],\n",
       "       [ 10.11782  , -36.50283  ],\n",
       "       [ 18.476389 , -20.363087 ],\n",
       "       [ 37.25004  , -24.184622 ],\n",
       "       [ 32.73473  , -35.76221  ],\n",
       "       [ 24.88721  , -17.984306 ],\n",
       "       [ -4.2920375, -23.81253  ],\n",
       "       [ 18.327278 , -13.351869 ],\n",
       "       [ 28.296719 , -32.79694  ],\n",
       "       [ 23.355053 , -13.340074 ],\n",
       "       [ 38.540226 , -23.997904 ],\n",
       "       [ 25.544052 , -38.70621  ],\n",
       "       [ 30.600891 , -20.702328 ]], dtype=float32)"
      ]
     },
     "execution_count": 11,
     "metadata": {},
     "output_type": "execute_result"
    }
   ],
   "source": [
    "category_id_test = 0\n",
    "projected_features[labels[indices]==category_id_test]"
   ]
  },
  {
   "cell_type": "code",
   "execution_count": 12,
   "metadata": {},
   "outputs": [
    {
     "data": {
      "image/png": "[encoded data removed]",
      "text/plain": [
       "<Figure size 432x288 with 1 Axes>"
      ]
     },
     "metadata": {
      "needs_background": "light"
     },
     "output_type": "display_data"
    }
   ],
   "source": [
    "colors = ['pink', 'green', 'midnightblue', 'orange', 'darkgrey']\n",
    "\n",
    "for category, category_id in sorted(category_to_id.items()):\n",
    "    points = projected_features[labels[indices]==category_id]\n",
    "    plt.scatter(points[:,0], points[:,1], s=30, c=colors[category_id], label=category)\n",
    "    \n",
    "plt.title('TF-IDF feature vector for each article\\n (projected on 2 dimensions)', fontdict=dict(fontsize=15))\n",
    "plt.legend();"
   ]
  },
  {
   "cell_type": "code",
   "execution_count": 20,
   "metadata": {},
   "outputs": [],
   "source": [
    "models = [\n",
    "    RandomForestClassifier(n_estimators=200, max_depth=3, random_state=0), \n",
    "    MultinomialNB(), \n",
    "    #SVC(kernel='rbf', probability=True, gamma='auto', C=5), \n",
    "    SGDClassifier(random_state=0, max_iter=200, tol=1e-3, loss='log'),  \n",
    "    LogisticRegression(random_state=0, solver='lbfgs', multi_class='auto')\n",
    "]"
   ]
  },
  {
   "cell_type": "code",
   "execution_count": 21,
   "metadata": {},
   "outputs": [
    {
     "data": {
      "application/vnd.jupyter.widget-view+json": {
       "model_id": "42b7da5a7f894484b9642e95de22e888",
       "version_major": 2,
       "version_minor": 0
      },
      "text/plain": [
       "HBox(children=(IntProgress(value=0, max=4), HTML(value='')))"
      ]
     },
     "metadata": {},
     "output_type": "display_data"
    },
    {
     "name": "stdout",
     "output_type": "stream",
     "text": [
      "\n"
     ]
    }
   ],
   "source": [
    "CV = 5\n",
    "shufflesplit = ShuffleSplit(n_splits=CV, test_size=0.2, random_state=0)\n",
    "entries = []\n",
    "\n",
    "for model in tqdm(models):\n",
    "    model_name = model.__class__.__name__\n",
    "    accuracies = cross_val_score(model, features, labels, scoring='accuracy', cv=shufflesplit)\n",
    "    \n",
    "    for fold_idx, accuracy in enumerate(accuracies):\n",
    "        entries.append((model_name, fold_idx, accuracy))"
   ]
  },
  {
   "cell_type": "code",
   "execution_count": 22,
   "metadata": {
    "scrolled": true
   },
   "outputs": [
    {
     "data": {
      "text/html": [
       "<div>\n",
       "<style scoped>\n",
       "    .dataframe tbody tr th:only-of-type {\n",
       "        vertical-align: middle;\n",
       "    }\n",
       "\n",
       "    .dataframe tbody tr th {\n",
       "        vertical-align: top;\n",
       "    }\n",
       "\n",
       "    .dataframe thead th {\n",
       "        text-align: right;\n",
       "    }\n",
       "</style>\n",
       "<table border=\"1\" class=\"dataframe\">\n",
       "  <thead>\n",
       "    <tr style=\"text-align: right;\">\n",
       "      <th></th>\n",
       "      <th>model_name</th>\n",
       "      <th>fold_idx</th>\n",
       "      <th>accuracy</th>\n",
       "    </tr>\n",
       "  </thead>\n",
       "  <tbody>\n",
       "    <tr>\n",
       "      <th>0</th>\n",
       "      <td>RandomForestClassifier</td>\n",
       "      <td>0</td>\n",
       "      <td>0.851685</td>\n",
       "    </tr>\n",
       "    <tr>\n",
       "      <th>1</th>\n",
       "      <td>RandomForestClassifier</td>\n",
       "      <td>1</td>\n",
       "      <td>0.820225</td>\n",
       "    </tr>\n",
       "    <tr>\n",
       "      <th>2</th>\n",
       "      <td>RandomForestClassifier</td>\n",
       "      <td>2</td>\n",
       "      <td>0.811236</td>\n",
       "    </tr>\n",
       "    <tr>\n",
       "      <th>3</th>\n",
       "      <td>RandomForestClassifier</td>\n",
       "      <td>3</td>\n",
       "      <td>0.784270</td>\n",
       "    </tr>\n",
       "    <tr>\n",
       "      <th>4</th>\n",
       "      <td>RandomForestClassifier</td>\n",
       "      <td>4</td>\n",
       "      <td>0.782022</td>\n",
       "    </tr>\n",
       "    <tr>\n",
       "      <th>5</th>\n",
       "      <td>MultinomialNB</td>\n",
       "      <td>0</td>\n",
       "      <td>0.966292</td>\n",
       "    </tr>\n",
       "    <tr>\n",
       "      <th>6</th>\n",
       "      <td>MultinomialNB</td>\n",
       "      <td>1</td>\n",
       "      <td>0.970787</td>\n",
       "    </tr>\n",
       "    <tr>\n",
       "      <th>7</th>\n",
       "      <td>MultinomialNB</td>\n",
       "      <td>2</td>\n",
       "      <td>0.968539</td>\n",
       "    </tr>\n",
       "    <tr>\n",
       "      <th>8</th>\n",
       "      <td>MultinomialNB</td>\n",
       "      <td>3</td>\n",
       "      <td>0.966292</td>\n",
       "    </tr>\n",
       "    <tr>\n",
       "      <th>9</th>\n",
       "      <td>MultinomialNB</td>\n",
       "      <td>4</td>\n",
       "      <td>0.982022</td>\n",
       "    </tr>\n",
       "    <tr>\n",
       "      <th>10</th>\n",
       "      <td>SGDClassifier</td>\n",
       "      <td>0</td>\n",
       "      <td>0.977528</td>\n",
       "    </tr>\n",
       "    <tr>\n",
       "      <th>11</th>\n",
       "      <td>SGDClassifier</td>\n",
       "      <td>1</td>\n",
       "      <td>0.988764</td>\n",
       "    </tr>\n",
       "    <tr>\n",
       "      <th>12</th>\n",
       "      <td>SGDClassifier</td>\n",
       "      <td>2</td>\n",
       "      <td>0.982022</td>\n",
       "    </tr>\n",
       "    <tr>\n",
       "      <th>13</th>\n",
       "      <td>SGDClassifier</td>\n",
       "      <td>3</td>\n",
       "      <td>0.984270</td>\n",
       "    </tr>\n",
       "    <tr>\n",
       "      <th>14</th>\n",
       "      <td>SGDClassifier</td>\n",
       "      <td>4</td>\n",
       "      <td>0.988764</td>\n",
       "    </tr>\n",
       "    <tr>\n",
       "      <th>15</th>\n",
       "      <td>LogisticRegression</td>\n",
       "      <td>0</td>\n",
       "      <td>0.975281</td>\n",
       "    </tr>\n",
       "    <tr>\n",
       "      <th>16</th>\n",
       "      <td>LogisticRegression</td>\n",
       "      <td>1</td>\n",
       "      <td>0.986517</td>\n",
       "    </tr>\n",
       "    <tr>\n",
       "      <th>17</th>\n",
       "      <td>LogisticRegression</td>\n",
       "      <td>2</td>\n",
       "      <td>0.979775</td>\n",
       "    </tr>\n",
       "    <tr>\n",
       "      <th>18</th>\n",
       "      <td>LogisticRegression</td>\n",
       "      <td>3</td>\n",
       "      <td>0.977528</td>\n",
       "    </tr>\n",
       "    <tr>\n",
       "      <th>19</th>\n",
       "      <td>LogisticRegression</td>\n",
       "      <td>4</td>\n",
       "      <td>0.982022</td>\n",
       "    </tr>\n",
       "  </tbody>\n",
       "</table>\n",
       "</div>"
      ],
      "text/plain": [
       "                model_name  fold_idx  accuracy\n",
       "0   RandomForestClassifier         0  0.851685\n",
       "1   RandomForestClassifier         1  0.820225\n",
       "2   RandomForestClassifier         2  0.811236\n",
       "3   RandomForestClassifier         3  0.784270\n",
       "4   RandomForestClassifier         4  0.782022\n",
       "5            MultinomialNB         0  0.966292\n",
       "6            MultinomialNB         1  0.970787\n",
       "7            MultinomialNB         2  0.968539\n",
       "8            MultinomialNB         3  0.966292\n",
       "9            MultinomialNB         4  0.982022\n",
       "10           SGDClassifier         0  0.977528\n",
       "11           SGDClassifier         1  0.988764\n",
       "12           SGDClassifier         2  0.982022\n",
       "13           SGDClassifier         3  0.984270\n",
       "14           SGDClassifier         4  0.988764\n",
       "15      LogisticRegression         0  0.975281\n",
       "16      LogisticRegression         1  0.986517\n",
       "17      LogisticRegression         2  0.979775\n",
       "18      LogisticRegression         3  0.977528\n",
       "19      LogisticRegression         4  0.982022"
      ]
     },
     "execution_count": 22,
     "metadata": {},
     "output_type": "execute_result"
    }
   ],
   "source": [
    "cv_df = pd.DataFrame(entries, index=range(CV*len(models)), columns=['model_name', 'fold_idx', 'accuracy']); cv_df"
   ]
  },
  {
   "cell_type": "code",
   "execution_count": 23,
   "metadata": {},
   "outputs": [
    {
     "data": {
      "text/plain": [
       "model_name\n",
       "LogisticRegression        0.980225\n",
       "MultinomialNB             0.970787\n",
       "RandomForestClassifier    0.809888\n",
       "SGDClassifier             0.984270\n",
       "Name: accuracy, dtype: float64"
      ]
     },
     "execution_count": 23,
     "metadata": {},
     "output_type": "execute_result"
    }
   ],
   "source": [
    "cv_df.groupby('model_name').accuracy.mean()"
   ]
  },
  {
   "cell_type": "code",
   "execution_count": 24,
   "metadata": {},
   "outputs": [
    {
     "data": {
      "text/plain": [
       "<matplotlib.axes._subplots.AxesSubplot at 0x1c9795e0be0>"
      ]
     },
     "execution_count": 24,
     "metadata": {},
     "output_type": "execute_result"
    },
    {
     "data": {
      "image/png": "[encoded data removed]",
      "text/plain": [
       "<Figure size 432x288 with 1 Axes>"
      ]
     },
     "metadata": {
      "needs_background": "light"
     },
     "output_type": "display_data"
    }
   ],
   "source": [
    "sns.boxplot(x='model_name', y='accuracy', data=cv_df)\n",
    "sns.stripplot(x='model_name', y='accuracy', data=cv_df, size=8, jitter=True, edgecolor='gray', linewidth=2)"
   ]
  },
  {
   "cell_type": "code",
   "execution_count": 25,
   "metadata": {},
   "outputs": [],
   "source": [
    "# model = LogisticRegression(random_state=0, solver='lbfgs', multi_class='auto')\n",
    "model = SGDClassifier(random_state=0, max_iter=200, tol=1e-3, loss='log')\n",
    "X_train, X_test, y_train, y_test, indices_train, indices_test = train_test_split(features, labels, df.index, test_size=0.33, random_state=0)\n",
    "model.fit(X_train, y_train)\n",
    "\n",
    "y_pred_proba = model.predict_proba(X_test)\n",
    "y_pred = model.predict(X_test)"
   ]
  },
  {
   "cell_type": "code",
   "execution_count": 26,
   "metadata": {},
   "outputs": [
    {
     "data": {
      "text/plain": [
       "((1490, 14415), (735, 14415), (1490,), (735,))"
      ]
     },
     "execution_count": 26,
     "metadata": {},
     "output_type": "execute_result"
    }
   ],
   "source": [
    "X_train.shape, X_test.shape, y_train.shape, y_test.shape"
   ]
  },
  {
   "cell_type": "code",
   "execution_count": 27,
   "metadata": {},
   "outputs": [
    {
     "data": {
      "text/plain": [
       "array([[0.85507224, 0.06002785, 0.04140474, 0.03028417, 0.013211  ],\n",
       "       [0.02567501, 0.01903867, 0.0173568 , 0.06357305, 0.87435647],\n",
       "       [0.12692904, 0.039602  , 0.67521248, 0.05561564, 0.10264083],\n",
       "       ...,\n",
       "       [0.00740083, 0.01271741, 0.03519055, 0.93292575, 0.01176546],\n",
       "       [0.0276684 , 0.86986576, 0.02616197, 0.02630354, 0.05000032],\n",
       "       [0.05058404, 0.42431025, 0.35027149, 0.04320645, 0.13162778]])"
      ]
     },
     "execution_count": 27,
     "metadata": {},
     "output_type": "execute_result"
    }
   ],
   "source": [
    "y_pred_proba"
   ]
  },
  {
   "cell_type": "code",
   "execution_count": 28,
   "metadata": {},
   "outputs": [
    {
     "data": {
      "text/plain": [
       "array([[163,   0,   5,   0,   5],\n",
       "       [  0, 120,   3,   0,   0],\n",
       "       [  0,   0, 140,   0,   0],\n",
       "       [  1,   0,   0, 172,   0],\n",
       "       [  4,   0,   0,   0, 122]], dtype=int64)"
      ]
     },
     "execution_count": 28,
     "metadata": {},
     "output_type": "execute_result"
    }
   ],
   "source": [
    "conf_mat = confusion_matrix(y_test, y_pred); conf_mat"
   ]
  },
  {
   "cell_type": "code",
   "execution_count": 29,
   "metadata": {
    "scrolled": false
   },
   "outputs": [
    {
     "data": {
      "text/plain": [
       "Text(0.5, 15.0, 'Predicted')"
      ]
     },
     "execution_count": 29,
     "metadata": {},
     "output_type": "execute_result"
    },
    {
     "data": {
      "image/png": "[encoded data removed]",
      "text/plain": [
       "<Figure size 432x288 with 2 Axes>"
      ]
     },
     "metadata": {
      "needs_background": "light"
     },
     "output_type": "display_data"
    }
   ],
   "source": [
    "sns.heatmap(conf_mat, annot=True, fmt='d', xticklabels=category_id_df.Category.values, yticklabels=category_id_df.Category.values)\n",
    "plt.ylabel('Actual')\n",
    "plt.xlabel('Predicted')"
   ]
  },
  {
   "cell_type": "code",
   "execution_count": 30,
   "metadata": {
    "scrolled": true
   },
   "outputs": [
    {
     "name": "stdout",
     "output_type": "stream",
     "text": [
      "tech predicted as business: 4 examples\n"
     ]
    },
    {
     "data": {
      "text/plain": [
       "1955    US duo in first spam conviction\\n\\nA brother a...\n",
       "1942    Argonaut founder rebuilds empire\\n\\nJez San, t...\n",
       "1999    US duo in first spam conviction\\n\\nA brother a...\n",
       "1937    Games maker fights for survival\\n\\nOne of Brit...\n",
       "Name: Text, dtype: object"
      ]
     },
     "metadata": {},
     "output_type": "display_data"
    },
    {
     "name": "stdout",
     "output_type": "stream",
     "text": [
      "business predicted as politics: 5 examples\n"
     ]
    },
    {
     "data": {
      "text/plain": [
       "132    Salary scandal in Cameroon\\n\\nCameroon says wi...\n",
       "503    Aids and climate top Davos agenda\\n\\nClimate c...\n",
       "254    Call to overhaul UK state pension\\n\\nThe UK pe...\n",
       "486    World leaders gather to face uncertainty\\n\\nMo...\n",
       "240    G7 backs Africa debt relief plan\\n\\nG7 finance...\n",
       "Name: Text, dtype: object"
      ]
     },
     "metadata": {},
     "output_type": "display_data"
    },
    {
     "name": "stdout",
     "output_type": "stream",
     "text": [
      "entertainment predicted as politics: 3 examples\n"
     ]
    },
    {
     "data": {
      "text/plain": [
       "722    TV show unites Angolan families\\n\\nAngolan fam...\n",
       "713    No charges against TV's Cosby\\n\\nUS comedian B...\n",
       "711    BBC 'should allow more scrutiny'\\n\\nMPs have u...\n",
       "Name: Text, dtype: object"
      ]
     },
     "metadata": {},
     "output_type": "display_data"
    },
    {
     "name": "stdout",
     "output_type": "stream",
     "text": [
      "business predicted as tech: 5 examples\n"
     ]
    },
    {
     "data": {
      "text/plain": [
       "446    News Corp eyes video games market\\n\\nNews Corp...\n",
       "251    BT offers equal access to rivals\\n\\nBT has mov...\n",
       "253    News Corp eyes video games market\\n\\nNews Corp...\n",
       "19     Call centre users 'lose patience'\\n\\nCustomers...\n",
       "204    Orange colour clash set for court\\n\\nA row ove...\n",
       "Name: Text, dtype: object"
      ]
     },
     "metadata": {},
     "output_type": "display_data"
    }
   ],
   "source": [
    "for predicted in category_id_df.category_id:\n",
    "    for actual in category_id_df.category_id:\n",
    "        if predicted != actual and conf_mat[actual, predicted] >= 2:\n",
    "            print('{} predicted as {}: {} examples'.format(id_to_category[actual], id_to_category[predicted], conf_mat[actual, predicted]))\n",
    "            display(df.loc[indices_test[(y_test==actual) & (y_pred==predicted)]]['Text'])"
   ]
  },
  {
   "cell_type": "code",
   "execution_count": 31,
   "metadata": {
    "scrolled": true
   },
   "outputs": [
    {
     "data": {
      "text/plain": [
       "SGDClassifier(alpha=0.0001, average=False, class_weight=None,\n",
       "       early_stopping=False, epsilon=0.1, eta0=0.0, fit_intercept=True,\n",
       "       l1_ratio=0.15, learning_rate='optimal', loss='log', max_iter=200,\n",
       "       n_iter=None, n_iter_no_change=5, n_jobs=None, penalty='l2',\n",
       "       power_t=0.5, random_state=0, shuffle=True, tol=0.001,\n",
       "       validation_fraction=0.1, verbose=0, warm_start=False)"
      ]
     },
     "execution_count": 31,
     "metadata": {},
     "output_type": "execute_result"
    }
   ],
   "source": [
    "model.fit(features, labels)"
   ]
  },
  {
   "cell_type": "code",
   "execution_count": 33,
   "metadata": {
    "scrolled": true
   },
   "outputs": [
    {
     "data": {
      "application/vnd.jupyter.widget-view+json": {
       "model_id": "44d868cadbe243f8a2f064b5ab498739",
       "version_major": 2,
       "version_minor": 0
      },
      "text/plain": [
       "HBox(children=(IntProgress(value=0, max=5), HTML(value='')))"
      ]
     },
     "metadata": {},
     "output_type": "display_data"
    },
    {
     "name": "stdout",
     "output_type": "stream",
     "text": [
      "# business\n",
      "  .Most correlated unigrams:\n",
      "    .shares\n",
      "    .company\n",
      "    .bank\n",
      "  .Most correlated bigrams:\n",
      "    .analysts said\n",
      "    .stock market\n",
      "    .chief executive\n",
      "# entertainment\n",
      "  .Most correlated unigrams:\n",
      "    .singer\n",
      "    .music\n",
      "    .film\n",
      "  .Most correlated bigrams:\n",
      "    .new york\n",
      "    .los angeles\n",
      "    .box office\n",
      "# politics\n",
      "  .Most correlated unigrams:\n",
      "    .mr\n",
      "    .labour\n",
      "    .party\n",
      "  .Most correlated bigrams:\n",
      "    .mr brown\n",
      "    .tony blair\n",
      "    .mr blair\n",
      "# sport\n",
      "  .Most correlated unigrams:\n",
      "    .cup\n",
      "    .club\n",
      "    .match\n",
      "  .Most correlated bigrams:\n",
      "    .world number\n",
      "    .australian open\n",
      "    .year old\n",
      "# tech\n",
      "  .Most correlated unigrams:\n",
      "    .online\n",
      "    .technology\n",
      "    .computer\n",
      "  .Most correlated bigrams:\n",
      "    .bbc news\n",
      "    .news website\n",
      "    .said mr\n",
      "\n"
     ]
    }
   ],
   "source": [
    "N = 3\n",
    "\n",
    "for Category, category_id in tqdm(sorted(category_to_id.items())):\n",
    "    indices = np.argsort(model.coef_[category_id])\n",
    "    feature_names = np.array(tfidf.get_feature_names())[indices]\n",
    "    unigrams = [v for v in feature_names if len(v.split(' '))==1]\n",
    "    bigrams = [v for v in feature_names if len(v.split(' '))==2]\n",
    "    print('# {}'.format(Category))\n",
    "    print('  .Most correlated unigrams:\\n    .{}'.format('\\n    .'.join(unigrams[-N:])))\n",
    "    print('  .Most correlated bigrams:\\n    .{}'.format('\\n    .'.join(bigrams[-N:])))"
   ]
  },
  {
   "cell_type": "code",
   "execution_count": null,
   "metadata": {},
   "outputs": [],
   "source": []
  },
  {
   "cell_type": "code",
   "execution_count": 34,
   "metadata": {},
   "outputs": [],
   "source": [
    "fnames_test = glob.glob('newsdata/downloaded/*.json')[-20:]\n",
    "\n",
    "test_data = []\n",
    "for fname in fnames_test:\n",
    "    with open(fname, encoding='UTF-8-sig') as f:\n",
    "        content = json.load(f)\n",
    "        test_data.append(content['text'])"
   ]
  },
  {
   "cell_type": "code",
   "execution_count": 77,
   "metadata": {
    "collapsed": true
   },
   "outputs": [
    {
     "data": {
      "text/plain": [
       "['newsdata/downloaded\\\\fff85be9c45b8ddb7c746606b73ef12b084c2982.json',\n",
       " 'newsdata/downloaded\\\\fff86c8f4c13200d83172abe686cd814c4676d57.json',\n",
       " 'newsdata/downloaded\\\\fff8d897938565b3991237c1dbe046e1d40ae46c.json',\n",
       " 'newsdata/downloaded\\\\fff98bafbd5e81d192f0df607d4854ad5f4f9601.json',\n",
       " 'newsdata/downloaded\\\\fffa26bf3775b1f0cd241e37a8ce4d52eef9020f.json',\n",
       " 'newsdata/downloaded\\\\fffaad96cdd3ea1a5c68b634f5dd3e6720cee373.json',\n",
       " 'newsdata/downloaded\\\\fffac47b6906a4cf22b747ec9a66c5f76de5dcc3.json',\n",
       " 'newsdata/downloaded\\\\fffb2181d5b5d3c72f7ae699af4b5869d3160e1c.json',\n",
       " 'newsdata/downloaded\\\\fffb3a399e07b0ca9f168caa2d298d6c7970ebd7.json',\n",
       " 'newsdata/downloaded\\\\fffb3ace48a67aa0dfcdcd790948cfbae6c6aff6.json',\n",
       " 'newsdata/downloaded\\\\fffba400853301314ebcbe0a04b4e2200cbc9330.json',\n",
       " 'newsdata/downloaded\\\\fffc4188682480a47f2eff3b2b48235cecaf1ce4.json',\n",
       " 'newsdata/downloaded\\\\fffc8d1773289450f8973dc035127dfdcdac3a53.json',\n",
       " 'newsdata/downloaded\\\\fffcfcad4d05790822d9998aff8e441231c6f295.json',\n",
       " 'newsdata/downloaded\\\\fffcfe6039c7646939c5337a4f50b18fb6efbeb7.json',\n",
       " 'newsdata/downloaded\\\\fffd897deeac9ffc1e6a807eabd9955d8e7c7ba2.json',\n",
       " 'newsdata/downloaded\\\\fffdba4624e52e09f9c34ba91462bcad0d9d0f6a.json',\n",
       " 'newsdata/downloaded\\\\fffe2489eadfa055fc9fb569cefea0481ded681b.json',\n",
       " 'newsdata/downloaded\\\\fffeea1e862eba451cfad35162fed9232ef7c8ad.json',\n",
       " 'newsdata/downloaded\\\\ffffcf3801f6d6cb70191939c2d89d1e1acb20d7.json']"
      ]
     },
     "execution_count": 77,
     "metadata": {},
     "output_type": "execute_result"
    }
   ],
   "source": [
    "fnames_test"
   ]
  },
  {
   "cell_type": "code",
   "execution_count": 35,
   "metadata": {},
   "outputs": [],
   "source": [
    "test_features = tfidf.transform(test_data)"
   ]
  },
  {
   "cell_type": "code",
   "execution_count": 36,
   "metadata": {},
   "outputs": [
    {
     "data": {
      "text/plain": [
       "array([3, 3, 0, 3, 1, 0, 0, 1, 0, 0, 3, 0, 1, 4, 0, 0, 0, 1, 0, 1],\n",
       "      dtype=int64)"
      ]
     },
     "execution_count": 36,
     "metadata": {},
     "output_type": "execute_result"
    }
   ],
   "source": [
    "Y_pred = model.predict(test_features); Y_pred"
   ]
  },
  {
   "cell_type": "code",
   "execution_count": 37,
   "metadata": {
    "scrolled": true
   },
   "outputs": [
    {
     "data": {
      "text/plain": [
       "array([0.86890892, 0.3226563 , 0.40097805, 0.7827112 , 0.31672802,\n",
       "       0.82365676, 0.5148186 , 0.31219247, 0.64308222, 0.49068525,\n",
       "       0.83606755, 0.41347902, 0.53671394, 0.81560827, 0.8641951 ,\n",
       "       0.53044634, 0.91604056, 0.51412635, 0.6597602 , 0.862062  ])"
      ]
     },
     "execution_count": 37,
     "metadata": {},
     "output_type": "execute_result"
    }
   ],
   "source": [
    "Y_pred_proba = model.predict_proba(test_features).max(axis=1); Y_pred_proba"
   ]
  },
  {
   "cell_type": "code",
   "execution_count": 38,
   "metadata": {
    "scrolled": true
   },
   "outputs": [
    {
     "data": {
      "text/plain": [
       "['sport',\n",
       " 'sport',\n",
       " 'business',\n",
       " 'sport',\n",
       " 'entertainment',\n",
       " 'business',\n",
       " 'business',\n",
       " 'entertainment',\n",
       " 'business',\n",
       " 'business',\n",
       " 'sport',\n",
       " 'business',\n",
       " 'entertainment',\n",
       " 'tech',\n",
       " 'business',\n",
       " 'business',\n",
       " 'business',\n",
       " 'entertainment',\n",
       " 'business',\n",
       " 'entertainment']"
      ]
     },
     "execution_count": 38,
     "metadata": {},
     "output_type": "execute_result"
    }
   ],
   "source": [
    "[id_to_category[cat_id] for cat_id in Y_pred]"
   ]
  },
  {
   "cell_type": "code",
   "execution_count": null,
   "metadata": {},
   "outputs": [],
   "source": []
  },
  {
   "cell_type": "code",
   "execution_count": 39,
   "metadata": {},
   "outputs": [],
   "source": [
    "model.cat = id_to_category\n",
    "model.tfidf = tfidf\n",
    "model_name = 'categorizer.model'"
   ]
  },
  {
   "cell_type": "code",
   "execution_count": 40,
   "metadata": {},
   "outputs": [
    {
     "data": {
      "text/plain": [
       "['categorizer.model']"
      ]
     },
     "execution_count": 40,
     "metadata": {},
     "output_type": "execute_result"
    }
   ],
   "source": [
    "joblib.dump(model, model_name)"
   ]
  },
  {
   "cell_type": "code",
   "execution_count": 93,
   "metadata": {},
   "outputs": [
    {
     "data": {
      "text/plain": [
       "array([0.78341404, 0.2460706 , 0.34790858, 0.58997789, 0.23411507,\n",
       "       0.62991991, 0.37239016, 0.26078785, 0.45385789, 0.35708725,\n",
       "       0.6376675 , 0.33800991, 0.35245768, 0.65800726, 0.70583266,\n",
       "       0.36370556, 0.84370115, 0.30627825, 0.48822476, 0.73129018])"
      ]
     },
     "execution_count": 93,
     "metadata": {},
     "output_type": "execute_result"
    }
   ],
   "source": [
    "_model = joblib.load(model_name)\n",
    "probas = _model.predict_proba(test_features).max(axis=1); probas"
   ]
  },
  {
   "cell_type": "code",
   "execution_count": 95,
   "metadata": {
    "collapsed": true
   },
   "outputs": [
    {
     "data": {
      "text/plain": [
       "['sport',\n",
       " 'sport',\n",
       " 'politics',\n",
       " 'sport',\n",
       " 'entertainment',\n",
       " 'business',\n",
       " 'business',\n",
       " 'business',\n",
       " 'business',\n",
       " 'business',\n",
       " 'sport',\n",
       " 'business',\n",
       " 'entertainment',\n",
       " 'tech',\n",
       " 'business',\n",
       " 'business',\n",
       " 'business',\n",
       " 'entertainment',\n",
       " 'business',\n",
       " 'entertainment']"
      ]
     },
     "execution_count": 95,
     "metadata": {},
     "output_type": "execute_result"
    }
   ],
   "source": [
    "[_model.cat[cat_id] for cat_id in _model.predict(test_features)]"
   ]
  },
  {
   "cell_type": "code",
   "execution_count": null,
   "metadata": {},
   "outputs": [],
   "source": []
  },
  {
   "cell_type": "code",
   "execution_count": 41,
   "metadata": {},
   "outputs": [],
   "source": [
    "_model = joblib.load(model_name)"
   ]
  },
  {
   "cell_type": "code",
   "execution_count": 120,
   "metadata": {
    "scrolled": true
   },
   "outputs": [
    {
     "data": {
      "text/html": [
       "<div>\n",
       "<style scoped>\n",
       "    .dataframe tbody tr th:only-of-type {\n",
       "        vertical-align: middle;\n",
       "    }\n",
       "\n",
       "    .dataframe tbody tr th {\n",
       "        vertical-align: top;\n",
       "    }\n",
       "\n",
       "    .dataframe thead th {\n",
       "        text-align: right;\n",
       "    }\n",
       "</style>\n",
       "<table border=\"1\" class=\"dataframe\">\n",
       "  <thead>\n",
       "    <tr style=\"text-align: right;\">\n",
       "      <th></th>\n",
       "      <th>text</th>\n",
       "      <th>category</th>\n",
       "      <th>category_proba</th>\n",
       "    </tr>\n",
       "  </thead>\n",
       "  <tbody>\n",
       "    <tr>\n",
       "      <th>0</th>\n",
       "      <td>PHOENIX (AP) - A lineup of almost all reserves...</td>\n",
       "      <td>sport</td>\n",
       "      <td>0.783414</td>\n",
       "    </tr>\n",
       "    <tr>\n",
       "      <th>1</th>\n",
       "      <td>1. Stewed fruit: Put the dried fruit in a glas...</td>\n",
       "      <td>sport</td>\n",
       "      <td>0.246071</td>\n",
       "    </tr>\n",
       "    <tr>\n",
       "      <th>2</th>\n",
       "      <td>Dame Helena Morrissey emerged as a frontrunner...</td>\n",
       "      <td>politics</td>\n",
       "      <td>0.347909</td>\n",
       "    </tr>\n",
       "    <tr>\n",
       "      <th>3</th>\n",
       "      <td>Jermaine Jenas has declared the end for this T...</td>\n",
       "      <td>sport</td>\n",
       "      <td>0.589978</td>\n",
       "    </tr>\n",
       "    <tr>\n",
       "      <th>4</th>\n",
       "      <td>Russian President Vladimir Putin and some of h...</td>\n",
       "      <td>entertainment</td>\n",
       "      <td>0.234115</td>\n",
       "    </tr>\n",
       "    <tr>\n",
       "      <th>5</th>\n",
       "      <td>Commerce Secretary Wilbur Ross says liberal ne...</td>\n",
       "      <td>business</td>\n",
       "      <td>0.629920</td>\n",
       "    </tr>\n",
       "    <tr>\n",
       "      <th>6</th>\n",
       "      <td>Over 100 former Thomas Cook employees are prep...</td>\n",
       "      <td>business</td>\n",
       "      <td>0.372390</td>\n",
       "    </tr>\n",
       "    <tr>\n",
       "      <th>7</th>\n",
       "      <td>Business Insider surveyed more than 3,000 read...</td>\n",
       "      <td>business</td>\n",
       "      <td>0.260788</td>\n",
       "    </tr>\n",
       "    <tr>\n",
       "      <th>8</th>\n",
       "      <td>U.S. President Donald Trump speaks at the 2019...</td>\n",
       "      <td>business</td>\n",
       "      <td>0.453858</td>\n",
       "    </tr>\n",
       "    <tr>\n",
       "      <th>9</th>\n",
       "      <td>Months before news of a July 25 phone call bet...</td>\n",
       "      <td>business</td>\n",
       "      <td>0.357087</td>\n",
       "    </tr>\n",
       "    <tr>\n",
       "      <th>10</th>\n",
       "      <td>Dak Prescott looked like a wildly different qu...</td>\n",
       "      <td>sport</td>\n",
       "      <td>0.637667</td>\n",
       "    </tr>\n",
       "    <tr>\n",
       "      <th>11</th>\n",
       "      <td>SoFi Stadium is the name of the palatial new h...</td>\n",
       "      <td>business</td>\n",
       "      <td>0.338010</td>\n",
       "    </tr>\n",
       "    <tr>\n",
       "      <th>12</th>\n",
       "      <td>The new movie “Hustlers” tells the true story ...</td>\n",
       "      <td>entertainment</td>\n",
       "      <td>0.352458</td>\n",
       "    </tr>\n",
       "    <tr>\n",
       "      <th>13</th>\n",
       "      <td>\\n\\nThree mass shooters used Jim Watkins' 8cha...</td>\n",
       "      <td>tech</td>\n",
       "      <td>0.658007</td>\n",
       "    </tr>\n",
       "    <tr>\n",
       "      <th>14</th>\n",
       "      <td>President Trump is ending a tumultuous summer ...</td>\n",
       "      <td>business</td>\n",
       "      <td>0.705833</td>\n",
       "    </tr>\n",
       "    <tr>\n",
       "      <th>15</th>\n",
       "      <td>Hillary Clinton, the former Democratic preside...</td>\n",
       "      <td>business</td>\n",
       "      <td>0.363706</td>\n",
       "    </tr>\n",
       "    <tr>\n",
       "      <th>16</th>\n",
       "      <td>(New throughout)\\n\\nBy Kate Duguid\\n\\nNEW YORK...</td>\n",
       "      <td>business</td>\n",
       "      <td>0.843701</td>\n",
       "    </tr>\n",
       "    <tr>\n",
       "      <th>17</th>\n",
       "      <td>Supreme Court Associate Justice Brett Kavanaug...</td>\n",
       "      <td>entertainment</td>\n",
       "      <td>0.306278</td>\n",
       "    </tr>\n",
       "    <tr>\n",
       "      <th>18</th>\n",
       "      <td>Hong Kong's Chief Executive Carrie Lam holds a...</td>\n",
       "      <td>business</td>\n",
       "      <td>0.488225</td>\n",
       "    </tr>\n",
       "    <tr>\n",
       "      <th>19</th>\n",
       "      <td>Through her portrayal of the conniving and man...</td>\n",
       "      <td>entertainment</td>\n",
       "      <td>0.731290</td>\n",
       "    </tr>\n",
       "  </tbody>\n",
       "</table>\n",
       "</div>"
      ],
      "text/plain": [
       "                                                 text       category  \\\n",
       "0   PHOENIX (AP) - A lineup of almost all reserves...          sport   \n",
       "1   1. Stewed fruit: Put the dried fruit in a glas...          sport   \n",
       "2   Dame Helena Morrissey emerged as a frontrunner...       politics   \n",
       "3   Jermaine Jenas has declared the end for this T...          sport   \n",
       "4   Russian President Vladimir Putin and some of h...  entertainment   \n",
       "5   Commerce Secretary Wilbur Ross says liberal ne...       business   \n",
       "6   Over 100 former Thomas Cook employees are prep...       business   \n",
       "7   Business Insider surveyed more than 3,000 read...       business   \n",
       "8   U.S. President Donald Trump speaks at the 2019...       business   \n",
       "9   Months before news of a July 25 phone call bet...       business   \n",
       "10  Dak Prescott looked like a wildly different qu...          sport   \n",
       "11  SoFi Stadium is the name of the palatial new h...       business   \n",
       "12  The new movie “Hustlers” tells the true story ...  entertainment   \n",
       "13  \\n\\nThree mass shooters used Jim Watkins' 8cha...           tech   \n",
       "14  President Trump is ending a tumultuous summer ...       business   \n",
       "15  Hillary Clinton, the former Democratic preside...       business   \n",
       "16  (New throughout)\\n\\nBy Kate Duguid\\n\\nNEW YORK...       business   \n",
       "17  Supreme Court Associate Justice Brett Kavanaug...  entertainment   \n",
       "18  Hong Kong's Chief Executive Carrie Lam holds a...       business   \n",
       "19  Through her portrayal of the conniving and man...  entertainment   \n",
       "\n",
       "    category_proba  \n",
       "0         0.783414  \n",
       "1         0.246071  \n",
       "2         0.347909  \n",
       "3         0.589978  \n",
       "4         0.234115  \n",
       "5         0.629920  \n",
       "6         0.372390  \n",
       "7         0.260788  \n",
       "8         0.453858  \n",
       "9         0.357087  \n",
       "10        0.637667  \n",
       "11        0.338010  \n",
       "12        0.352458  \n",
       "13        0.658007  \n",
       "14        0.705833  \n",
       "15        0.363706  \n",
       "16        0.843701  \n",
       "17        0.306278  \n",
       "18        0.488225  \n",
       "19        0.731290  "
      ]
     },
     "execution_count": 120,
     "metadata": {},
     "output_type": "execute_result"
    }
   ],
   "source": [
    "df_text = pd.DataFrame(test_data, columns=['text'])\n",
    "_features = _model.tfidf.transform(df_text.text)\n",
    "_proba = _model.predict_proba(_features).max(axis=1)\n",
    "_pred = _model.predict(_features)\n",
    "_cats = [_model.cat[cat_id] for cat_id in _pred]\n",
    "df_text['category'] = _cats\n",
    "df_text['category_proba'] = _proba; df_text"
   ]
  },
  {
   "cell_type": "code",
   "execution_count": 42,
   "metadata": {
    "scrolled": true
   },
   "outputs": [
    {
     "data": {
      "text/html": [
       "<div>\n",
       "<style scoped>\n",
       "    .dataframe tbody tr th:only-of-type {\n",
       "        vertical-align: middle;\n",
       "    }\n",
       "\n",
       "    .dataframe tbody tr th {\n",
       "        vertical-align: top;\n",
       "    }\n",
       "\n",
       "    .dataframe thead th {\n",
       "        text-align: right;\n",
       "    }\n",
       "</style>\n",
       "<table border=\"1\" class=\"dataframe\">\n",
       "  <thead>\n",
       "    <tr style=\"text-align: right;\">\n",
       "      <th></th>\n",
       "      <th>text</th>\n",
       "      <th>category</th>\n",
       "      <th>category_proba</th>\n",
       "    </tr>\n",
       "  </thead>\n",
       "  <tbody>\n",
       "    <tr>\n",
       "      <th>0</th>\n",
       "      <td>PHOENIX (AP) - A lineup of almost all reserves...</td>\n",
       "      <td>sport</td>\n",
       "      <td>0.868909</td>\n",
       "    </tr>\n",
       "    <tr>\n",
       "      <th>1</th>\n",
       "      <td>1. Stewed fruit: Put the dried fruit in a glas...</td>\n",
       "      <td>sport</td>\n",
       "      <td>0.322656</td>\n",
       "    </tr>\n",
       "    <tr>\n",
       "      <th>2</th>\n",
       "      <td>Dame Helena Morrissey emerged as a frontrunner...</td>\n",
       "      <td>business</td>\n",
       "      <td>0.400978</td>\n",
       "    </tr>\n",
       "    <tr>\n",
       "      <th>3</th>\n",
       "      <td>Jermaine Jenas has declared the end for this T...</td>\n",
       "      <td>sport</td>\n",
       "      <td>0.782711</td>\n",
       "    </tr>\n",
       "    <tr>\n",
       "      <th>4</th>\n",
       "      <td>Russian President Vladimir Putin and some of h...</td>\n",
       "      <td>entertainment</td>\n",
       "      <td>0.316728</td>\n",
       "    </tr>\n",
       "    <tr>\n",
       "      <th>5</th>\n",
       "      <td>Commerce Secretary Wilbur Ross says liberal ne...</td>\n",
       "      <td>business</td>\n",
       "      <td>0.823657</td>\n",
       "    </tr>\n",
       "    <tr>\n",
       "      <th>6</th>\n",
       "      <td>Over 100 former Thomas Cook employees are prep...</td>\n",
       "      <td>business</td>\n",
       "      <td>0.514819</td>\n",
       "    </tr>\n",
       "    <tr>\n",
       "      <th>7</th>\n",
       "      <td>Business Insider surveyed more than 3,000 read...</td>\n",
       "      <td>entertainment</td>\n",
       "      <td>0.312192</td>\n",
       "    </tr>\n",
       "    <tr>\n",
       "      <th>8</th>\n",
       "      <td>U.S. President Donald Trump speaks at the 2019...</td>\n",
       "      <td>business</td>\n",
       "      <td>0.643082</td>\n",
       "    </tr>\n",
       "    <tr>\n",
       "      <th>9</th>\n",
       "      <td>Months before news of a July 25 phone call bet...</td>\n",
       "      <td>business</td>\n",
       "      <td>0.490685</td>\n",
       "    </tr>\n",
       "    <tr>\n",
       "      <th>10</th>\n",
       "      <td>Dak Prescott looked like a wildly different qu...</td>\n",
       "      <td>sport</td>\n",
       "      <td>0.836068</td>\n",
       "    </tr>\n",
       "    <tr>\n",
       "      <th>11</th>\n",
       "      <td>SoFi Stadium is the name of the palatial new h...</td>\n",
       "      <td>business</td>\n",
       "      <td>0.413479</td>\n",
       "    </tr>\n",
       "    <tr>\n",
       "      <th>12</th>\n",
       "      <td>The new movie “Hustlers” tells the true story ...</td>\n",
       "      <td>entertainment</td>\n",
       "      <td>0.536714</td>\n",
       "    </tr>\n",
       "    <tr>\n",
       "      <th>13</th>\n",
       "      <td>\\n\\nThree mass shooters used Jim Watkins' 8cha...</td>\n",
       "      <td>tech</td>\n",
       "      <td>0.815608</td>\n",
       "    </tr>\n",
       "    <tr>\n",
       "      <th>14</th>\n",
       "      <td>President Trump is ending a tumultuous summer ...</td>\n",
       "      <td>business</td>\n",
       "      <td>0.864195</td>\n",
       "    </tr>\n",
       "    <tr>\n",
       "      <th>15</th>\n",
       "      <td>Hillary Clinton, the former Democratic preside...</td>\n",
       "      <td>business</td>\n",
       "      <td>0.530446</td>\n",
       "    </tr>\n",
       "    <tr>\n",
       "      <th>16</th>\n",
       "      <td>(New throughout)\\n\\nBy Kate Duguid\\n\\nNEW YORK...</td>\n",
       "      <td>business</td>\n",
       "      <td>0.916041</td>\n",
       "    </tr>\n",
       "    <tr>\n",
       "      <th>17</th>\n",
       "      <td>Supreme Court Associate Justice Brett Kavanaug...</td>\n",
       "      <td>entertainment</td>\n",
       "      <td>0.514126</td>\n",
       "    </tr>\n",
       "    <tr>\n",
       "      <th>18</th>\n",
       "      <td>Hong Kong's Chief Executive Carrie Lam holds a...</td>\n",
       "      <td>business</td>\n",
       "      <td>0.659760</td>\n",
       "    </tr>\n",
       "    <tr>\n",
       "      <th>19</th>\n",
       "      <td>Through her portrayal of the conniving and man...</td>\n",
       "      <td>entertainment</td>\n",
       "      <td>0.862062</td>\n",
       "    </tr>\n",
       "  </tbody>\n",
       "</table>\n",
       "</div>"
      ],
      "text/plain": [
       "                                                 text       category  \\\n",
       "0   PHOENIX (AP) - A lineup of almost all reserves...          sport   \n",
       "1   1. Stewed fruit: Put the dried fruit in a glas...          sport   \n",
       "2   Dame Helena Morrissey emerged as a frontrunner...       business   \n",
       "3   Jermaine Jenas has declared the end for this T...          sport   \n",
       "4   Russian President Vladimir Putin and some of h...  entertainment   \n",
       "5   Commerce Secretary Wilbur Ross says liberal ne...       business   \n",
       "6   Over 100 former Thomas Cook employees are prep...       business   \n",
       "7   Business Insider surveyed more than 3,000 read...  entertainment   \n",
       "8   U.S. President Donald Trump speaks at the 2019...       business   \n",
       "9   Months before news of a July 25 phone call bet...       business   \n",
       "10  Dak Prescott looked like a wildly different qu...          sport   \n",
       "11  SoFi Stadium is the name of the palatial new h...       business   \n",
       "12  The new movie “Hustlers” tells the true story ...  entertainment   \n",
       "13  \\n\\nThree mass shooters used Jim Watkins' 8cha...           tech   \n",
       "14  President Trump is ending a tumultuous summer ...       business   \n",
       "15  Hillary Clinton, the former Democratic preside...       business   \n",
       "16  (New throughout)\\n\\nBy Kate Duguid\\n\\nNEW YORK...       business   \n",
       "17  Supreme Court Associate Justice Brett Kavanaug...  entertainment   \n",
       "18  Hong Kong's Chief Executive Carrie Lam holds a...       business   \n",
       "19  Through her portrayal of the conniving and man...  entertainment   \n",
       "\n",
       "    category_proba  \n",
       "0         0.868909  \n",
       "1         0.322656  \n",
       "2         0.400978  \n",
       "3         0.782711  \n",
       "4         0.316728  \n",
       "5         0.823657  \n",
       "6         0.514819  \n",
       "7         0.312192  \n",
       "8         0.643082  \n",
       "9         0.490685  \n",
       "10        0.836068  \n",
       "11        0.413479  \n",
       "12        0.536714  \n",
       "13        0.815608  \n",
       "14        0.864195  \n",
       "15        0.530446  \n",
       "16        0.916041  \n",
       "17        0.514126  \n",
       "18        0.659760  \n",
       "19        0.862062  "
      ]
     },
     "execution_count": 42,
     "metadata": {},
     "output_type": "execute_result"
    }
   ],
   "source": [
    "df_text = pd.DataFrame(test_data, columns=['text'])\n",
    "_features = _model.tfidf.transform(df_text.text)\n",
    "_proba = _model.predict_proba(_features).max(axis=1)\n",
    "_pred = _model.predict(_features)\n",
    "_cats = [_model.cat[cat_id] for cat_id in _pred]\n",
    "df_text['category'] = _cats\n",
    "df_text['category_proba'] = _proba; df_text"
   ]
  },
  {
   "cell_type": "code",
   "execution_count": 43,
   "metadata": {},
   "outputs": [
    {
     "data": {
      "text/plain": [
       "\"Dame Helena Morrissey emerged as a frontrunner for governor of the Bank of England after backing from MPs\\n\\nHEAVYWEIGHT backers have given a major boost to the chances of City ‘Superwoman’ Dame Helena Morrissey becoming the first female governor of the Bank of England in its 325-year history.\\n\\nShe emerged as a frontrunner this weekend after dramatically stepping down from her job running Legal & General’s personal investment business.\\n\\nIn an unusual move, MPs and former Bank officials lined up to praise the ‘fresh-thinking’ Brexiteer.\\n\\nIt follows The Mail on Sunday’s revelation last month that Dame Helena, 53, who earned her Superwoman nickname as a high-flying financier and mother-of-nine, had been interviewed to replace governor Mark Carney when he steps down in January.\\n\\nAndrew Sentance, a former member of the Bank’s rate-setting Monetary Policy Committee, called Dame Helena ‘an independent-minded and resilient person who has championed the role of women in the business world’.\\n\\nHe added: ‘She is an outsider in relation to the current central bank mafia. We need someone to bring fresh thinking to the Bank of England and I think she would do exactly that.’\\n\\nLabour MP and Commons business select committee chairman Rachel Reeves, who was an economist at the Bank of England between 2000 and 2006, said of her time there: ‘There weren’t enough women in senior positions.\\n\\nIf that is about to change, by putting a woman right at the top of the Bank, it would send a signal to financial institutions that they too need to appoint more women and close the gender pay gap.’\\n\\nDame Helena stepped down from her job running Legal & General’s personal investment business to chase the goal of becoming the Bank's first female governor\\n\\nTory MP Steve Baker, a member of the Treasury select committee and head of the European Research Group, said she would be an ‘outstanding candidate’.\\n\\nDame Helena, who is married to a Buddhist monk, is thought to have been one of nine candidates interviewed to succeed Carney. Other women thought to be contenders include Santander UK chairman Baroness Vadera and Dame Minouche Shafik, head of the London School of Economics.\\n\\nDame Helena leaves her job at Legal & General Investment Management on October 21. In a statement on Friday she said: ‘I see a changing Britain and have a lot of ideas and other things I want to achieve. I am looking forward to the next phase of my career at a time of great change and opportunity.’\\n\\nThe Treasury would not comment on the appointment process.\""
      ]
     },
     "execution_count": 43,
     "metadata": {},
     "output_type": "execute_result"
    }
   ],
   "source": [
    "df_text.text.iloc[2]"
   ]
  },
  {
   "cell_type": "code",
   "execution_count": null,
   "metadata": {},
   "outputs": [],
   "source": []
  },
  {
   "cell_type": "code",
   "execution_count": null,
   "metadata": {},
   "outputs": [],
   "source": []
  },
  {
   "cell_type": "code",
   "execution_count": null,
   "metadata": {},
   "outputs": [],
   "source": []
  },
  {
   "cell_type": "code",
   "execution_count": null,
   "metadata": {},
   "outputs": [],
   "source": []
  },
  {
   "cell_type": "code",
   "execution_count": null,
   "metadata": {},
   "outputs": [],
   "source": []
  },
  {
   "cell_type": "code",
   "execution_count": 47,
   "metadata": {},
   "outputs": [],
   "source": []
  },
  {
   "cell_type": "code",
   "execution_count": 48,
   "metadata": {},
   "outputs": [],
   "source": []
  },
  {
   "cell_type": "code",
   "execution_count": 52,
   "metadata": {},
   "outputs": [],
   "source": []
  },
  {
   "cell_type": "code",
   "execution_count": null,
   "metadata": {
    "scrolled": true
   },
   "outputs": [],
   "source": []
  },
  {
   "cell_type": "code",
   "execution_count": null,
   "metadata": {},
   "outputs": [],
   "source": []
  }
 ],
 "metadata": {
  "kernelspec": {
   "display_name": "Python 3",
   "language": "python",
   "name": "python3"
  },
  "language_info": {
   "codemirror_mode": {
    "name": "ipython",
    "version": 3
   },
   "file_extension": ".py",
   "mimetype": "text/x-python",
   "name": "python",
   "nbconvert_exporter": "python",
   "pygments_lexer": "ipython3",
   "version": "3.7.3"
  }
 },
 "nbformat": 4,
 "nbformat_minor": 2
}
