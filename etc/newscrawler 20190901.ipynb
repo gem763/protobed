{
 "cells": [
  {
   "cell_type": "code",
   "execution_count": 2,
   "metadata": {},
   "outputs": [],
   "source": [
    "import newspaper\n",
    "from newspaper import Article, Config\n",
    "from newsplease import NewsPlease\n",
    "from IPython.core.debugger import set_trace\n",
    "import requests\n",
    "import json\n",
    "import time\n",
    "import hashlib\n",
    "import pandas as pd\n",
    "from langdetect import detect\n",
    "import articleDateExtractor\n",
    "from tqdm.autonotebook import tqdm\n",
    "tqdm.pandas()\n",
    "\n",
    "import os\n",
    "import sys\n",
    "parentdir = os.path.abspath(os.path.join(os.getcwd(), os.pardir))\n",
    "sys.path.append(parentdir)\n",
    "\n",
    "# import django\n",
    "# django.setup()\n",
    "\n",
    "# from data.models import Newsdata"
   ]
  },
  {
   "cell_type": "code",
   "execution_count": 50,
   "metadata": {},
   "outputs": [],
   "source": [
    "src = {\n",
    "    'huffpost':         {'domain':'https://huffpost.com',              'pubname':'HuffPost'}, \n",
    "    'cnn':              {'domain':'https://cnn.com',                   'pubname':'CNN'}, # ?=\n",
    "    'investingcom':     {'domain':'https://investing.com',             'pubname':'Investing.com'}, \n",
    "    'politico':         {'domain':'https://politico.com',              'pubname':'POLITICO'}, \n",
    "    'time':             {'domain':'https://time.com',                  'pubname':'TIME'}, \n",
    "    'cnbc':             {'domain':'https://cnbc.com',                  'pubname':'CNBC'}, \n",
    "    'foxnews':          {'domain':'https://foxnews.com',               'pubname':'FOX News'}, \n",
    "    'foxbusiness':      {'domain':'https://foxbusiness.com',           'pubname':'FOX Business'}, \n",
    "    'bbc':              {'domain':'https://bbc.com',                   'pubname':'BBC'}, \n",
    "    'businessinsider':  {'domain':'https://businessinsider.com',       'pubname':'Business Insider'}, \n",
    "    'morningstar':      {'domain':'https://morningstar.com',           'pubname':'Morningstar'}, \n",
    "    'wsj':              {'domain':'https://wsj.com',                   'pubname':'Wall Street Journal'}, # ?mod=rsswn\n",
    "    \n",
    "    'nyt':              {'domain':'https://nytimes.com',               'pubname':'NewYork Times'}, \n",
    "    'guardian':         {'domain':'https://theguardian.com',           'pubname':'Guardian'}, \n",
    "    'reuters':          {'domain':'https://reuters.com',               'pubname':'Reuters'}, # ?=불필요, 심각\n",
    "    'washingtontimes':  {'domain':'https://washingtontimes.com',       'pubname':'Washington Times'}, \n",
    "    'washingtonpost':   {'domain':'https://washingtonpost.com',        'pubname':'Washington Post'}, # ?=\n",
    "    'cbs':              {'domain':'https://cbsnews.com',               'pubname':'CBS'}, \n",
    "    'marketwatch':      {'domain':'https://marketwatch.com',           'pubname':'MarketWatch'}, # ?= 심각\n",
    "    'atlantic':         {'domain':'https://theatlantic.com',           'pubname':'Atlantic'}, \n",
    "    'vice':             {'domain':'https://vice.com',                  'pubname':'VICE'}, \n",
    "    'npr':              {'domain':'https://npr.org',                   'pubname':'npr'}, \n",
    "    'newrepublic':      {'domain':'https://newrepublic.com',           'pubname':'NEW REPUBLIC'}, \n",
    "    'yahoo':            {'domain':'https://yahoo.com',                 'pubname':'yahoo'}, \n",
    "    'independent':      {'domain':'https://independent.co.uk',         'pubname':'INDEPENDENT'}, \n",
    "    'heritage':         {'domain':'https://heritage.org',              'pubname':'Heritage'}, \n",
    "    'zdnet':            {'domain':'https://www.zdnet.com',             'pubname':'ZDNet'}, # 반드시 www가 붙어야함\n",
    "    'townhall':         {'domain':'https://townhall.com',              'pubname':'Townhall'}, \n",
    "    'abcnews':          {'domain':'https://abcnews.go.com',            'pubname':'ABC News'}, # ?=많긴한데 반드시필요\n",
    "    'hotair':           {'domain':'https://hotair.com',                'pubname':'HOT AIR'}, \n",
    "    'cbc':              {'domain':'https://cbc.ca',                    'pubname':'CBC'}, \n",
    "    'nymag':            {'domain':'https://nymag.com',                 'pubname':'NewYork Magazine'}, \n",
    "    'thestreet':        {'domain':'https://www.thestreet.com',         'pubname':'TheStreet'}, # 반드시 www가 붙어야함 \n",
    "    'thinkprogress':    {'domain':'https://thinkprogress.org',         'pubname':'ThinkProgress'}, \n",
    "    'dailybeast':       {'domain':'https://thedailybeast.com',         'pubname':'DAILY BEAST'}, \n",
    "    'realclearpolitics':{'domain':'https://www.realclearpolitics.com', 'pubname':'RealClear Politics'}, # 반드시 www가 붙어야함\n",
    "    \n",
    "    #'forbes':          'https://forbes.com', \n",
    "    #'hbr':             'https://hbr.org', \n",
    "    #'ft':              'https://ft.com', \n",
    "    #'economist':       'https://economist.com', \n",
    "}"
   ]
  },
  {
   "cell_type": "code",
   "execution_count": 66,
   "metadata": {},
   "outputs": [],
   "source": [
    "def _config():\n",
    "    config = Config()\n",
    "    config.fetch_images = False\n",
    "    config.memoize_articles = False\n",
    "    config.request_timeout = 10\n",
    "    config.language = 'en'\n",
    "    return config"
   ]
  },
  {
   "cell_type": "code",
   "execution_count": 124,
   "metadata": {},
   "outputs": [],
   "source": [
    "def clean_url(pub, url):\n",
    "    url = url.replace('http://', 'https://')\n",
    "    \n",
    "    if pub!='zdnet':\n",
    "    # zdnet은 반드시 www가 붙어야되는 듯 (2019.08.30)\n",
    "        url = url.replace('https://www.', 'https://')\n",
    "    \n",
    "    if pub!='thinkprogress' and url[-1]=='/':\n",
    "    # thinkprogress는 뒤의 /가 반드시 필요한 듯 (2019.09.04)\n",
    "        url = url[:-1]\n",
    "    \n",
    "    if pub=='reuters':\n",
    "    # reuters는 뒤에 의미없이 ?il=0 이 붙는 경우가 허다. 무슨뜬인지는 모름 (2019.09.04)\n",
    "        try: url = url[:url.index('?il=0')]\n",
    "        except: pass\n",
    "    \n",
    "    if pub=='marketwatch':\n",
    "        try: url = url[:url.index('?mod=')]\n",
    "        except: pass        \n",
    "    \n",
    "    if pub=='wsj':\n",
    "    # wsj paywall 뚫기\n",
    "        try: url = url[:url.index('?mod=')]\n",
    "        except: pass\n",
    "        \n",
    "        url += '?mod=rsswn'\n",
    "        \n",
    "    return url"
   ]
  },
  {
   "cell_type": "code",
   "execution_count": 68,
   "metadata": {},
   "outputs": [],
   "source": [
    "import asyncio\n",
    "from functools import partial\n",
    "\n",
    "def collect_urls(src):\n",
    "    s = time.time()\n",
    "    n = len(src)\n",
    "    n_done = [0]\n",
    "    status = '\\r{pct}% completed: {pub:<20}'\n",
    "    newspaper_config = partial(newspaper.build, config=_config())\n",
    "    \n",
    "    def progress(pub):\n",
    "        n_done[0] += 1  # 그냥 n_done으로는 외부에서 변수값을 바꿀수 없으므로\n",
    "        pct = '%.2f' % (n_done[0] / n * 100)\n",
    "        print(status.format(pub=pub, pct=pct), end='')\n",
    "        \n",
    "    \n",
    "    async def geturls(pub, domain):\n",
    "        resp = await loop.run_in_executor(None, newspaper_config, domain)\n",
    "        articles = resp.articles\n",
    "        urls = {clean_url(pub, article.url) for article in articles}\n",
    "        progress(pub)\n",
    "        return pub, urls\n",
    "\n",
    "\n",
    "    async def main():\n",
    "        fts = [asyncio.ensure_future(geturls(pub, val['domain'])) for pub, val in src.items()]\n",
    "        return await asyncio.gather(*fts)\n",
    "\n",
    "\n",
    "    result = None\n",
    "    asyncio.set_event_loop(asyncio.new_event_loop())\n",
    "    loop = asyncio.get_event_loop()\n",
    "\n",
    "    try:\n",
    "        # 다음 코드를 주피터에서 돌리려면, tornado를 downgrade 해야함\n",
    "        # pip install tornado==4.5.3\n",
    "        result = loop.run_until_complete(main())\n",
    "        result = dict(result) #set.union(*result)\n",
    "\n",
    "    except Exception as ex:\n",
    "        print(ex)\n",
    "\n",
    "    finally:\n",
    "        loop.close()\n",
    "\n",
    "    print('\\nDONE: {0:.2f} seconds'.format(time.time() - s))\n",
    "    return result"
   ]
  },
  {
   "cell_type": "code",
   "execution_count": 103,
   "metadata": {},
   "outputs": [
    {
     "name": "stdout",
     "output_type": "stream",
     "text": [
      "100.00% completed: investingcom        \n",
      "DONE: 42.09 seconds\n"
     ]
    }
   ],
   "source": [
    "# urls = collect_urls(dict(list(src.items())[5:6])); \n",
    "urls = collect_urls(src)"
   ]
  },
  {
   "cell_type": "code",
   "execution_count": 104,
   "metadata": {},
   "outputs": [
    {
     "data": {
      "text/plain": [
       "10761"
      ]
     },
     "execution_count": 104,
     "metadata": {},
     "output_type": "execute_result"
    }
   ],
   "source": [
    "len(set.union(*urls.values()))"
   ]
  },
  {
   "cell_type": "code",
   "execution_count": 97,
   "metadata": {},
   "outputs": [],
   "source": [
    "def get_publish_date(article):\n",
    "    pubtime = article.publish_date\n",
    "    url = article.url\n",
    "    datesrc = 'newspaper'\n",
    "    \n",
    "    # articleDateExtractor 내부의 print 를 suppress 하기 위한 장치\n",
    "    class HiddenPrints:\n",
    "        def __enter__(self):\n",
    "            self._original_stdout = sys.stdout\n",
    "            sys.stdout = open(os.devnull, 'w')\n",
    "\n",
    "        def __exit__(self, exc_type, exc_val, exc_tb):\n",
    "            sys.stdout.close()\n",
    "            sys.stdout = self._original_stdout\n",
    "        \n",
    "    \n",
    "    def _from_extractor(url):\n",
    "        try:\n",
    "            _pubtime = None\n",
    "            \n",
    "            with HiddenPrints():\n",
    "                _pubtime = articleDateExtractor.extractArticlePublishedDate(url)\n",
    "                \n",
    "            return _pubtime\n",
    "        \n",
    "        except:\n",
    "            return None\n",
    "    \n",
    "    \n",
    "    def _from_newsplease(url):\n",
    "        try:\n",
    "            return NewsPlease.from_url(url).date_publish\n",
    "        \n",
    "        except:\n",
    "            return None\n",
    "    \n",
    "    \n",
    "    def _datize(time):\n",
    "        if time is None:\n",
    "            return ''\n",
    "\n",
    "        try:\n",
    "            time = pd.Timestamp(time)\n",
    "\n",
    "            if time.tz is None:\n",
    "                return str(time.date())\n",
    "\n",
    "            else:\n",
    "                return str(time.tz_convert('utc').date())\n",
    "            \n",
    "        except:\n",
    "            return ''\n",
    "            \n",
    "\n",
    "    if pubtime is None:\n",
    "        datesrc = 'extractor'\n",
    "        pubtime = _from_extractor(url)\n",
    "        \n",
    "        if pubtime is None:\n",
    "            datesrc = 'newsplease'\n",
    "            pubtime = _from_newsplease(url)\n",
    "            \n",
    "            if pubtime is None:\n",
    "                datesrc = 'fail'\n",
    "                    \n",
    "    return _datize(pubtime)#, datesrc"
   ]
  },
  {
   "cell_type": "code",
   "execution_count": 105,
   "metadata": {},
   "outputs": [],
   "source": [
    "def select(urls):\n",
    "    selected = {}\n",
    "    basedir = os.path.join(os.getcwd(), 'newsdata')\n",
    "    ext = '.json'\n",
    "\n",
    "    for pub, _urls in tqdm(urls.items()):\n",
    "        selected[pub] = set()\n",
    "\n",
    "        for _url in _urls:\n",
    "            hash_url = hashlib.sha1(_url.encode('utf-8')).hexdigest()\n",
    "            \n",
    "            file_in_saved = os.path.join(basedir, 'saved', hash_url[0], hash_url + ext)\n",
    "            file_in_downloaded = os.path.join(basedir, 'downloaded', hash_url + ext)\n",
    "            file_in_trash = os.path.join(basedir, 'trash', hash_url[0], hash_url + ext)\n",
    "\n",
    "            if os.path.isfile(file_in_saved) or os.path.isfile(file_in_downloaded) or os.path.isfile(file_in_trash):\n",
    "                continue\n",
    "                \n",
    "            else:\n",
    "                selected[pub].add(_url)\n",
    "                \n",
    "    return selected"
   ]
  },
  {
   "cell_type": "code",
   "execution_count": 122,
   "metadata": {},
   "outputs": [
    {
     "data": {
      "application/vnd.jupyter.widget-view+json": {
       "model_id": "59fe94d63c234c1eb26f736d4f0ce407",
       "version_major": 2,
       "version_minor": 0
      },
      "text/plain": [
       "HBox(children=(IntProgress(value=0, max=36), HTML(value='')))"
      ]
     },
     "metadata": {},
     "output_type": "display_data"
    }
   ],
   "source": [
    "urls_selected = select(urls); urls_selected;"
   ]
  },
  {
   "cell_type": "code",
   "execution_count": 123,
   "metadata": {},
   "outputs": [
    {
     "data": {
      "text/plain": [
       "0"
      ]
     },
     "execution_count": 123,
     "metadata": {},
     "output_type": "execute_result"
    }
   ],
   "source": [
    "len(set.union(*urls_selected.values()))"
   ]
  },
  {
   "cell_type": "code",
   "execution_count": 120,
   "metadata": {
    "scrolled": false
   },
   "outputs": [],
   "source": [
    "def download(urls):\n",
    "    s = time.time()\n",
    "    n = len(set.union(*urls.values())) #len(urls)\n",
    "    n_done = [0]\n",
    "    status = '\\r{pct}% completed'\n",
    "\n",
    "    basedir = os.path.join(os.getcwd(), 'newsdata')\n",
    "    ext = '.json'\n",
    "    \n",
    "    \n",
    "    def progress():\n",
    "        n_done[0] += 1\n",
    "        pct = '%.2f' % (n_done[0] / n * 100)\n",
    "        print(status.format(pct=pct), end='')\n",
    "        \n",
    "        \n",
    "    def makedir_if_not_exists(file):\n",
    "        _dir = os.path.dirname(file)\n",
    "        \n",
    "        if not os.path.isdir(_dir):\n",
    "            os.makedirs(_dir)\n",
    "            \n",
    "            \n",
    "    def detect_lang(article):\n",
    "        lang = article.meta_lang\n",
    "        \n",
    "        if lang=='':\n",
    "            return detect(article.text)\n",
    "        \n",
    "        else:\n",
    "            return lang\n",
    "            \n",
    "    \n",
    "    def get_article(url):\n",
    "        article = Article(url)\n",
    "        article.download()\n",
    "        article.parse()\n",
    "        return article\n",
    "        \n",
    "    \n",
    "    async def _download(pub, _urls):\n",
    "        for url in _urls:\n",
    "            hash_url = hashlib.sha1(url.encode('utf-8')).hexdigest()\n",
    "            content = {\n",
    "                'pub': pub, \n",
    "                'url': url, \n",
    "                'downloaded_at': str(pd.Timestamp.utcnow()) \n",
    "            }\n",
    "            \n",
    "            try: \n",
    "                article = await loop.run_in_executor(None, get_article, url)\n",
    "                \n",
    "                text = article.text\n",
    "                language = detect_lang(article)\n",
    "                published_at = await loop.run_in_executor(None, get_publish_date, article)\n",
    "                is_too_short = (not article.is_valid_body()) and (len(article.text)<500)\n",
    "\n",
    "                content['title'] = article.title\n",
    "                content['language'] = language\n",
    "                content['published_at'] = published_at\n",
    "                \n",
    "                if text=='' or published_at=='' or is_too_short or language!='en':\n",
    "                    file = os.path.join(basedir, 'trash', hash_url[0], hash_url + ext)\n",
    "\n",
    "                else:\n",
    "                    file = os.path.join(basedir, 'downloaded', hash_url + ext)\n",
    "                    content['text'] = text\n",
    "                    content['description'] = article.meta_description\n",
    "                    content['authors'] = article.authors\n",
    "                    content['top_image'] = article.top_image\n",
    "            \n",
    "            except:\n",
    "                file = os.path.join(basedir, 'trash', hash_url[0], hash_url + ext)\n",
    "            \n",
    "            \n",
    "            makedir_if_not_exists(file)\n",
    "            with open(file, 'w') as f:\n",
    "                json.dump(content, f)\n",
    "                \n",
    "            progress()\n",
    "\n",
    "\n",
    "    async def main():\n",
    "        fts = [asyncio.ensure_future(_download(pub, _urls)) for pub, _urls in urls.items()]\n",
    "        await asyncio.gather(*fts)\n",
    "\n",
    "\n",
    "    asyncio.set_event_loop(asyncio.new_event_loop())\n",
    "    loop = asyncio.get_event_loop()\n",
    "\n",
    "    try:\n",
    "        loop.run_until_complete(main())\n",
    "\n",
    "    except Exception as ex:\n",
    "        pass\n",
    "        #print(ex)\n",
    "\n",
    "    finally:\n",
    "        loop.close()\n",
    "\n",
    "    print('\\nDONE: {0:.2f} seconds'.format(time.time() - s))"
   ]
  },
  {
   "cell_type": "code",
   "execution_count": 121,
   "metadata": {
    "scrolled": true
   },
   "outputs": [
    {
     "name": "stderr",
     "output_type": "stream",
     "text": [
      "Task was destroyed but it is pending!\n",
      "task: <Task pending coro=<download.<locals>._download() running at <ipython-input-118-dfa3e2387e01>:55> wait_for=<Future pending cb=[_chain_future.<locals>._call_check_cancel() at C:\\Users\\infomax\\Anaconda3\\lib\\asyncio\\futures.py:348, <TaskWakeupMethWrapper object at 0x000001D833DBBB58>()]> cb=[gather.<locals>._done_callback() at C:\\Users\\infomax\\Anaconda3\\lib\\asyncio\\tasks.py:664]>\n",
      "Task was destroyed but it is pending!\n",
      "task: <Task pending coro=<download.<locals>._download() running at <ipython-input-118-dfa3e2387e01>:51> wait_for=<Future pending cb=[_chain_future.<locals>._call_check_cancel() at C:\\Users\\infomax\\Anaconda3\\lib\\asyncio\\futures.py:348, <TaskWakeupMethWrapper object at 0x000001D8595DFB28>()]> cb=[gather.<locals>._done_callback() at C:\\Users\\infomax\\Anaconda3\\lib\\asyncio\\tasks.py:664]>\n",
      "Exception ignored in: <coroutine object download.<locals>._download at 0x000001D857235EC8>\n",
      "Traceback (most recent call last):\n",
      "  File \"<ipython-input-118-dfa3e2387e01>\", line 80, in _download\n",
      "  File \"<ipython-input-118-dfa3e2387e01>\", line 14, in progress\n",
      "ValueError: I/O operation on closed file.\n",
      "Exception ignored in: <coroutine object download.<locals>._download at 0x000001D83896C8C8>\n",
      "Traceback (most recent call last):\n",
      "  File \"<ipython-input-118-dfa3e2387e01>\", line 80, in _download\n",
      "  File \"<ipython-input-118-dfa3e2387e01>\", line 14, in progress\n",
      "ValueError: I/O operation on closed file.\n",
      "Task was destroyed but it is pending!\n",
      "task: <Task pending coro=<download.<locals>._download() running at <ipython-input-118-dfa3e2387e01>:51> wait_for=<Future pending cb=[_chain_future.<locals>._call_check_cancel() at C:\\Users\\infomax\\Anaconda3\\lib\\asyncio\\futures.py:348, <TaskWakeupMethWrapper object at 0x000001D849931138>()]> cb=[gather.<locals>._done_callback() at C:\\Users\\infomax\\Anaconda3\\lib\\asyncio\\tasks.py:664]>\n",
      "Task was destroyed but it is pending!\n",
      "task: <Task pending coro=<download.<locals>._download() running at <ipython-input-118-dfa3e2387e01>:51> wait_for=<Future pending cb=[_chain_future.<locals>._call_check_cancel() at C:\\Users\\infomax\\Anaconda3\\lib\\asyncio\\futures.py:348, <TaskWakeupMethWrapper object at 0x000001D85A024EB8>()]> cb=[gather.<locals>._done_callback() at C:\\Users\\infomax\\Anaconda3\\lib\\asyncio\\tasks.py:664]>\n",
      "Task was destroyed but it is pending!\n",
      "task: <Task pending coro=<download.<locals>._download() running at <ipython-input-118-dfa3e2387e01>:51> wait_for=<Future pending cb=[_chain_future.<locals>._call_check_cancel() at C:\\Users\\infomax\\Anaconda3\\lib\\asyncio\\futures.py:348, <TaskWakeupMethWrapper object at 0x000001D849931318>()]> cb=[gather.<locals>._done_callback() at C:\\Users\\infomax\\Anaconda3\\lib\\asyncio\\tasks.py:664]>\n",
      "Task was destroyed but it is pending!\n",
      "task: <Task pending coro=<download.<locals>._download() running at <ipython-input-118-dfa3e2387e01>:55> wait_for=<Future pending cb=[_chain_future.<locals>._call_check_cancel() at C:\\Users\\infomax\\Anaconda3\\lib\\asyncio\\futures.py:348, <TaskWakeupMethWrapper object at 0x000001D8499314C8>()]> cb=[gather.<locals>._done_callback() at C:\\Users\\infomax\\Anaconda3\\lib\\asyncio\\tasks.py:664]>\n",
      "Task was destroyed but it is pending!\n",
      "task: <Task pending coro=<download.<locals>._download() running at <ipython-input-118-dfa3e2387e01>:51> wait_for=<Future pending cb=[_chain_future.<locals>._call_check_cancel() at C:\\Users\\infomax\\Anaconda3\\lib\\asyncio\\futures.py:348, <TaskWakeupMethWrapper object at 0x000001D8594F3A08>()]> cb=[gather.<locals>._done_callback() at C:\\Users\\infomax\\Anaconda3\\lib\\asyncio\\tasks.py:664]>\n",
      "Task was destroyed but it is pending!\n",
      "task: <Task pending coro=<download.<locals>._download() running at <ipython-input-118-dfa3e2387e01>:51> wait_for=<Future pending cb=[_chain_future.<locals>._call_check_cancel() at C:\\Users\\infomax\\Anaconda3\\lib\\asyncio\\futures.py:348, <TaskWakeupMethWrapper object at 0x000001D85A024AC8>()]> cb=[gather.<locals>._done_callback() at C:\\Users\\infomax\\Anaconda3\\lib\\asyncio\\tasks.py:664]>\n",
      "Task was destroyed but it is pending!\n",
      "task: <Task pending coro=<download.<locals>._download() running at <ipython-input-118-dfa3e2387e01>:51> wait_for=<Future pending cb=[_chain_future.<locals>._call_check_cancel() at C:\\Users\\infomax\\Anaconda3\\lib\\asyncio\\futures.py:348, <TaskWakeupMethWrapper object at 0x000001D85A024948>()]> cb=[gather.<locals>._done_callback() at C:\\Users\\infomax\\Anaconda3\\lib\\asyncio\\tasks.py:664]>\n",
      "Task was destroyed but it is pending!\n",
      "task: <Task pending coro=<download.<locals>._download() running at <ipython-input-118-dfa3e2387e01>:55> wait_for=<Future pending cb=[_chain_future.<locals>._call_check_cancel() at C:\\Users\\infomax\\Anaconda3\\lib\\asyncio\\futures.py:348, <TaskWakeupMethWrapper object at 0x000001D85A024828>()]> cb=[gather.<locals>._done_callback() at C:\\Users\\infomax\\Anaconda3\\lib\\asyncio\\tasks.py:664]>\n",
      "Task was destroyed but it is pending!\n",
      "task: <Task pending coro=<download.<locals>._download() running at <ipython-input-118-dfa3e2387e01>:55> wait_for=<Future pending cb=[_chain_future.<locals>._call_check_cancel() at C:\\Users\\infomax\\Anaconda3\\lib\\asyncio\\futures.py:348, <TaskWakeupMethWrapper object at 0x000001D8595DF4C8>()]> cb=[gather.<locals>._done_callback() at C:\\Users\\infomax\\Anaconda3\\lib\\asyncio\\tasks.py:664]>\n",
      "Task was destroyed but it is pending!\n",
      "task: <Task pending coro=<download.<locals>._download() running at <ipython-input-118-dfa3e2387e01>:51> wait_for=<Future pending cb=[_chain_future.<locals>._call_check_cancel() at C:\\Users\\infomax\\Anaconda3\\lib\\asyncio\\futures.py:348, <TaskWakeupMethWrapper object at 0x000001D8595DFFA8>()]> cb=[gather.<locals>._done_callback() at C:\\Users\\infomax\\Anaconda3\\lib\\asyncio\\tasks.py:664]>\n",
      "Task was destroyed but it is pending!\n",
      "task: <Task pending coro=<download.<locals>._download() running at <ipython-input-118-dfa3e2387e01>:51> wait_for=<Future pending cb=[_chain_future.<locals>._call_check_cancel() at C:\\Users\\infomax\\Anaconda3\\lib\\asyncio\\futures.py:348, <TaskWakeupMethWrapper object at 0x000001D849931C48>()]> cb=[gather.<locals>._done_callback() at C:\\Users\\infomax\\Anaconda3\\lib\\asyncio\\tasks.py:664]>\n",
      "Task was destroyed but it is pending!\n",
      "task: <Task pending coro=<download.<locals>._download() running at <ipython-input-118-dfa3e2387e01>:51> wait_for=<Future pending cb=[_chain_future.<locals>._call_check_cancel() at C:\\Users\\infomax\\Anaconda3\\lib\\asyncio\\futures.py:348, <TaskWakeupMethWrapper object at 0x000001D833DBBCD8>()]> cb=[gather.<locals>._done_callback() at C:\\Users\\infomax\\Anaconda3\\lib\\asyncio\\tasks.py:664]>\n",
      "Task was destroyed but it is pending!\n",
      "task: <Task pending coro=<download.<locals>._download() running at <ipython-input-118-dfa3e2387e01>:51> wait_for=<Future pending cb=[_chain_future.<locals>._call_check_cancel() at C:\\Users\\infomax\\Anaconda3\\lib\\asyncio\\futures.py:348, <TaskWakeupMethWrapper object at 0x000001D8594F3498>()]> cb=[gather.<locals>._done_callback() at C:\\Users\\infomax\\Anaconda3\\lib\\asyncio\\tasks.py:664]>\n",
      "Task was destroyed but it is pending!\n",
      "task: <Task pending coro=<download.<locals>._download() running at <ipython-input-118-dfa3e2387e01>:51> wait_for=<Future pending cb=[_chain_future.<locals>._call_check_cancel() at C:\\Users\\infomax\\Anaconda3\\lib\\asyncio\\futures.py:348, <TaskWakeupMethWrapper object at 0x000001D8595DFAC8>()]> cb=[gather.<locals>._done_callback() at C:\\Users\\infomax\\Anaconda3\\lib\\asyncio\\tasks.py:664]>\n",
      "Task was destroyed but it is pending!\n",
      "task: <Task pending coro=<download.<locals>._download() running at <ipython-input-118-dfa3e2387e01>:51> wait_for=<Future pending cb=[_chain_future.<locals>._call_check_cancel() at C:\\Users\\infomax\\Anaconda3\\lib\\asyncio\\futures.py:348, <TaskWakeupMethWrapper object at 0x000001D8595DFF18>()]> cb=[gather.<locals>._done_callback() at C:\\Users\\infomax\\Anaconda3\\lib\\asyncio\\tasks.py:664]>\n",
      "Task was destroyed but it is pending!\n",
      "task: <Task pending coro=<download.<locals>._download() running at <ipython-input-118-dfa3e2387e01>:55> wait_for=<Future pending cb=[_chain_future.<locals>._call_check_cancel() at C:\\Users\\infomax\\Anaconda3\\lib\\asyncio\\futures.py:348, <TaskWakeupMethWrapper object at 0x000001D85A024BE8>()]> cb=[gather.<locals>._done_callback() at C:\\Users\\infomax\\Anaconda3\\lib\\asyncio\\tasks.py:664]>\n"
     ]
    },
    {
     "name": "stderr",
     "output_type": "stream",
     "text": [
      "Task was destroyed but it is pending!\n",
      "task: <Task pending coro=<download.<locals>._download() running at <ipython-input-118-dfa3e2387e01>:51> wait_for=<Future pending cb=[_chain_future.<locals>._call_check_cancel() at C:\\Users\\infomax\\Anaconda3\\lib\\asyncio\\futures.py:348, <TaskWakeupMethWrapper object at 0x000001D85A0245B8>()]> cb=[gather.<locals>._done_callback() at C:\\Users\\infomax\\Anaconda3\\lib\\asyncio\\tasks.py:664]>\n",
      "Task was destroyed but it is pending!\n",
      "task: <Task pending coro=<download.<locals>._download() running at <ipython-input-118-dfa3e2387e01>:51> wait_for=<Future pending cb=[_chain_future.<locals>._call_check_cancel() at C:\\Users\\infomax\\Anaconda3\\lib\\asyncio\\futures.py:348, <TaskWakeupMethWrapper object at 0x000001D833DBB888>()]> cb=[gather.<locals>._done_callback() at C:\\Users\\infomax\\Anaconda3\\lib\\asyncio\\tasks.py:664]>\n",
      "Task was destroyed but it is pending!\n",
      "task: <Task pending coro=<download.<locals>._download() running at <ipython-input-118-dfa3e2387e01>:51> wait_for=<Future pending cb=[_chain_future.<locals>._call_check_cancel() at C:\\Users\\infomax\\Anaconda3\\lib\\asyncio\\futures.py:348, <TaskWakeupMethWrapper object at 0x000001D8595DFA08>()]> cb=[gather.<locals>._done_callback() at C:\\Users\\infomax\\Anaconda3\\lib\\asyncio\\tasks.py:664]>\n",
      "Task was destroyed but it is pending!\n",
      "task: <Task pending coro=<download.<locals>._download() running at <ipython-input-118-dfa3e2387e01>:51> wait_for=<Future pending cb=[_chain_future.<locals>._call_check_cancel() at C:\\Users\\infomax\\Anaconda3\\lib\\asyncio\\futures.py:348, <TaskWakeupMethWrapper object at 0x000001D85A0244C8>()]> cb=[gather.<locals>._done_callback() at C:\\Users\\infomax\\Anaconda3\\lib\\asyncio\\tasks.py:664]>\n",
      "Task was destroyed but it is pending!\n",
      "task: <Task pending coro=<download.<locals>._download() running at <ipython-input-118-dfa3e2387e01>:51> wait_for=<Future pending cb=[_chain_future.<locals>._call_check_cancel() at C:\\Users\\infomax\\Anaconda3\\lib\\asyncio\\futures.py:348, <TaskWakeupMethWrapper object at 0x000001D833DBBF78>()]> cb=[gather.<locals>._done_callback() at C:\\Users\\infomax\\Anaconda3\\lib\\asyncio\\tasks.py:664]>\n",
      "Some characters could not be decoded, and were replaced with REPLACEMENT CHARACTER.\n"
     ]
    }
   ],
   "source": [
    "download(urls_selected)"
   ]
  },
  {
   "cell_type": "code",
   "execution_count": 117,
   "metadata": {},
   "outputs": [
    {
     "data": {
      "text/plain": [
       "959"
      ]
     },
     "execution_count": 117,
     "metadata": {},
     "output_type": "execute_result"
    }
   ],
   "source": [
    "len(set.union(*urls_selected.values()))"
   ]
  },
  {
   "cell_type": "code",
   "execution_count": null,
   "metadata": {},
   "outputs": [],
   "source": []
  },
  {
   "cell_type": "code",
   "execution_count": 90,
   "metadata": {},
   "outputs": [],
   "source": [
    "# reuter의 ?il=0과 marketwatch의 ?mod= 를 downloaded 폴더에서 제거했다(제거했을 때의 파일이 이미 존재하는 경우에만)\n",
    "# 앞으로 다시 다운로드 해도 문제없다..."
   ]
  },
  {
   "cell_type": "code",
   "execution_count": null,
   "metadata": {},
   "outputs": [],
   "source": []
  },
  {
   "cell_type": "code",
   "execution_count": null,
   "metadata": {},
   "outputs": [],
   "source": []
  },
  {
   "cell_type": "code",
   "execution_count": null,
   "metadata": {},
   "outputs": [],
   "source": []
  },
  {
   "cell_type": "code",
   "execution_count": 122,
   "metadata": {
    "collapsed": true
   },
   "outputs": [
    {
     "data": {
      "application/vnd.jupyter.widget-view+json": {
       "model_id": "e00673fbffa34de1a684bcc68d2e9ea8",
       "version_major": 2,
       "version_minor": 0
      },
      "text/plain": [
       "HBox(children=(IntProgress(value=0, max=11), HTML(value='')))"
      ]
     },
     "metadata": {},
     "output_type": "display_data"
    },
    {
     "name": "stdout",
     "output_type": "stream",
     "text": [
      "\n"
     ]
    },
    {
     "ename": "FileNotFoundError",
     "evalue": "[WinError 3] 지정된 경로를 찾을 수 없습니다: 'C:\\\\Users\\\\infomax\\\\Documents\\\\GitHub\\\\protobed\\\\etc\\\\newsdata\\\\cnn\\\\https\\\\comparecards.com\\\\guide\\\\credit-cards-to-have-you-flying-in-no-time\\\\esourceid=6317676\\\\utm_source=cnn\\\\utm_medium=native\\\\pla=cnn.com\\\\bdst=rv\\\\acqs=prospecting\\\\utm_campaign=sectionfront\\\\grp=travel-no-time'",
     "output_type": "error",
     "traceback": [
      "\u001b[1;31m---------------------------------------------------------------------------\u001b[0m",
      "\u001b[1;31mFileNotFoundError\u001b[0m                         Traceback (most recent call last)",
      "\u001b[1;32m<ipython-input-122-98e186d3fe49>\u001b[0m in \u001b[0;36m<module>\u001b[1;34m\u001b[0m\n\u001b[0;32m     21\u001b[0m \u001b[1;33m\u001b[0m\u001b[0m\n\u001b[0;32m     22\u001b[0m         \u001b[1;32mif\u001b[0m \u001b[1;32mnot\u001b[0m \u001b[0mos\u001b[0m\u001b[1;33m.\u001b[0m\u001b[0mpath\u001b[0m\u001b[1;33m.\u001b[0m\u001b[0misdir\u001b[0m\u001b[1;33m(\u001b[0m\u001b[0mfulldir\u001b[0m\u001b[1;33m)\u001b[0m\u001b[1;33m:\u001b[0m\u001b[1;33m\u001b[0m\u001b[1;33m\u001b[0m\u001b[0m\n\u001b[1;32m---> 23\u001b[1;33m             \u001b[0mos\u001b[0m\u001b[1;33m.\u001b[0m\u001b[0mmakedirs\u001b[0m\u001b[1;33m(\u001b[0m\u001b[0mfulldir\u001b[0m\u001b[1;33m)\u001b[0m\u001b[1;33m\u001b[0m\u001b[1;33m\u001b[0m\u001b[0m\n\u001b[0m\u001b[0;32m     24\u001b[0m \u001b[1;33m\u001b[0m\u001b[0m\n\u001b[0;32m     25\u001b[0m         \u001b[1;32mif\u001b[0m \u001b[1;32mnot\u001b[0m \u001b[0mos\u001b[0m\u001b[1;33m.\u001b[0m\u001b[0mpath\u001b[0m\u001b[1;33m.\u001b[0m\u001b[0misfile\u001b[0m\u001b[1;33m(\u001b[0m\u001b[0mfile\u001b[0m\u001b[1;33m)\u001b[0m\u001b[1;33m:\u001b[0m\u001b[1;33m\u001b[0m\u001b[1;33m\u001b[0m\u001b[0m\n",
      "\u001b[1;32m~\\Anaconda3\\lib\\os.py\u001b[0m in \u001b[0;36mmakedirs\u001b[1;34m(name, mode, exist_ok)\u001b[0m\n\u001b[0;32m    209\u001b[0m     \u001b[1;32mif\u001b[0m \u001b[0mhead\u001b[0m \u001b[1;32mand\u001b[0m \u001b[0mtail\u001b[0m \u001b[1;32mand\u001b[0m \u001b[1;32mnot\u001b[0m \u001b[0mpath\u001b[0m\u001b[1;33m.\u001b[0m\u001b[0mexists\u001b[0m\u001b[1;33m(\u001b[0m\u001b[0mhead\u001b[0m\u001b[1;33m)\u001b[0m\u001b[1;33m:\u001b[0m\u001b[1;33m\u001b[0m\u001b[1;33m\u001b[0m\u001b[0m\n\u001b[0;32m    210\u001b[0m         \u001b[1;32mtry\u001b[0m\u001b[1;33m:\u001b[0m\u001b[1;33m\u001b[0m\u001b[1;33m\u001b[0m\u001b[0m\n\u001b[1;32m--> 211\u001b[1;33m             \u001b[0mmakedirs\u001b[0m\u001b[1;33m(\u001b[0m\u001b[0mhead\u001b[0m\u001b[1;33m,\u001b[0m \u001b[0mexist_ok\u001b[0m\u001b[1;33m=\u001b[0m\u001b[0mexist_ok\u001b[0m\u001b[1;33m)\u001b[0m\u001b[1;33m\u001b[0m\u001b[1;33m\u001b[0m\u001b[0m\n\u001b[0m\u001b[0;32m    212\u001b[0m         \u001b[1;32mexcept\u001b[0m \u001b[0mFileExistsError\u001b[0m\u001b[1;33m:\u001b[0m\u001b[1;33m\u001b[0m\u001b[1;33m\u001b[0m\u001b[0m\n\u001b[0;32m    213\u001b[0m             \u001b[1;31m# Defeats race condition when another thread created the path\u001b[0m\u001b[1;33m\u001b[0m\u001b[1;33m\u001b[0m\u001b[1;33m\u001b[0m\u001b[0m\n",
      "\u001b[1;32m~\\Anaconda3\\lib\\os.py\u001b[0m in \u001b[0;36mmakedirs\u001b[1;34m(name, mode, exist_ok)\u001b[0m\n\u001b[0;32m    209\u001b[0m     \u001b[1;32mif\u001b[0m \u001b[0mhead\u001b[0m \u001b[1;32mand\u001b[0m \u001b[0mtail\u001b[0m \u001b[1;32mand\u001b[0m \u001b[1;32mnot\u001b[0m \u001b[0mpath\u001b[0m\u001b[1;33m.\u001b[0m\u001b[0mexists\u001b[0m\u001b[1;33m(\u001b[0m\u001b[0mhead\u001b[0m\u001b[1;33m)\u001b[0m\u001b[1;33m:\u001b[0m\u001b[1;33m\u001b[0m\u001b[1;33m\u001b[0m\u001b[0m\n\u001b[0;32m    210\u001b[0m         \u001b[1;32mtry\u001b[0m\u001b[1;33m:\u001b[0m\u001b[1;33m\u001b[0m\u001b[1;33m\u001b[0m\u001b[0m\n\u001b[1;32m--> 211\u001b[1;33m             \u001b[0mmakedirs\u001b[0m\u001b[1;33m(\u001b[0m\u001b[0mhead\u001b[0m\u001b[1;33m,\u001b[0m \u001b[0mexist_ok\u001b[0m\u001b[1;33m=\u001b[0m\u001b[0mexist_ok\u001b[0m\u001b[1;33m)\u001b[0m\u001b[1;33m\u001b[0m\u001b[1;33m\u001b[0m\u001b[0m\n\u001b[0m\u001b[0;32m    212\u001b[0m         \u001b[1;32mexcept\u001b[0m \u001b[0mFileExistsError\u001b[0m\u001b[1;33m:\u001b[0m\u001b[1;33m\u001b[0m\u001b[1;33m\u001b[0m\u001b[0m\n\u001b[0;32m    213\u001b[0m             \u001b[1;31m# Defeats race condition when another thread created the path\u001b[0m\u001b[1;33m\u001b[0m\u001b[1;33m\u001b[0m\u001b[1;33m\u001b[0m\u001b[0m\n",
      "\u001b[1;32m~\\Anaconda3\\lib\\os.py\u001b[0m in \u001b[0;36mmakedirs\u001b[1;34m(name, mode, exist_ok)\u001b[0m\n\u001b[0;32m    209\u001b[0m     \u001b[1;32mif\u001b[0m \u001b[0mhead\u001b[0m \u001b[1;32mand\u001b[0m \u001b[0mtail\u001b[0m \u001b[1;32mand\u001b[0m \u001b[1;32mnot\u001b[0m \u001b[0mpath\u001b[0m\u001b[1;33m.\u001b[0m\u001b[0mexists\u001b[0m\u001b[1;33m(\u001b[0m\u001b[0mhead\u001b[0m\u001b[1;33m)\u001b[0m\u001b[1;33m:\u001b[0m\u001b[1;33m\u001b[0m\u001b[1;33m\u001b[0m\u001b[0m\n\u001b[0;32m    210\u001b[0m         \u001b[1;32mtry\u001b[0m\u001b[1;33m:\u001b[0m\u001b[1;33m\u001b[0m\u001b[1;33m\u001b[0m\u001b[0m\n\u001b[1;32m--> 211\u001b[1;33m             \u001b[0mmakedirs\u001b[0m\u001b[1;33m(\u001b[0m\u001b[0mhead\u001b[0m\u001b[1;33m,\u001b[0m \u001b[0mexist_ok\u001b[0m\u001b[1;33m=\u001b[0m\u001b[0mexist_ok\u001b[0m\u001b[1;33m)\u001b[0m\u001b[1;33m\u001b[0m\u001b[1;33m\u001b[0m\u001b[0m\n\u001b[0m\u001b[0;32m    212\u001b[0m         \u001b[1;32mexcept\u001b[0m \u001b[0mFileExistsError\u001b[0m\u001b[1;33m:\u001b[0m\u001b[1;33m\u001b[0m\u001b[1;33m\u001b[0m\u001b[0m\n\u001b[0;32m    213\u001b[0m             \u001b[1;31m# Defeats race condition when another thread created the path\u001b[0m\u001b[1;33m\u001b[0m\u001b[1;33m\u001b[0m\u001b[1;33m\u001b[0m\u001b[0m\n",
      "\u001b[1;32m~\\Anaconda3\\lib\\os.py\u001b[0m in \u001b[0;36mmakedirs\u001b[1;34m(name, mode, exist_ok)\u001b[0m\n\u001b[0;32m    209\u001b[0m     \u001b[1;32mif\u001b[0m \u001b[0mhead\u001b[0m \u001b[1;32mand\u001b[0m \u001b[0mtail\u001b[0m \u001b[1;32mand\u001b[0m \u001b[1;32mnot\u001b[0m \u001b[0mpath\u001b[0m\u001b[1;33m.\u001b[0m\u001b[0mexists\u001b[0m\u001b[1;33m(\u001b[0m\u001b[0mhead\u001b[0m\u001b[1;33m)\u001b[0m\u001b[1;33m:\u001b[0m\u001b[1;33m\u001b[0m\u001b[1;33m\u001b[0m\u001b[0m\n\u001b[0;32m    210\u001b[0m         \u001b[1;32mtry\u001b[0m\u001b[1;33m:\u001b[0m\u001b[1;33m\u001b[0m\u001b[1;33m\u001b[0m\u001b[0m\n\u001b[1;32m--> 211\u001b[1;33m             \u001b[0mmakedirs\u001b[0m\u001b[1;33m(\u001b[0m\u001b[0mhead\u001b[0m\u001b[1;33m,\u001b[0m \u001b[0mexist_ok\u001b[0m\u001b[1;33m=\u001b[0m\u001b[0mexist_ok\u001b[0m\u001b[1;33m)\u001b[0m\u001b[1;33m\u001b[0m\u001b[1;33m\u001b[0m\u001b[0m\n\u001b[0m\u001b[0;32m    212\u001b[0m         \u001b[1;32mexcept\u001b[0m \u001b[0mFileExistsError\u001b[0m\u001b[1;33m:\u001b[0m\u001b[1;33m\u001b[0m\u001b[1;33m\u001b[0m\u001b[0m\n\u001b[0;32m    213\u001b[0m             \u001b[1;31m# Defeats race condition when another thread created the path\u001b[0m\u001b[1;33m\u001b[0m\u001b[1;33m\u001b[0m\u001b[1;33m\u001b[0m\u001b[0m\n",
      "\u001b[1;32m~\\Anaconda3\\lib\\os.py\u001b[0m in \u001b[0;36mmakedirs\u001b[1;34m(name, mode, exist_ok)\u001b[0m\n\u001b[0;32m    209\u001b[0m     \u001b[1;32mif\u001b[0m \u001b[0mhead\u001b[0m \u001b[1;32mand\u001b[0m \u001b[0mtail\u001b[0m \u001b[1;32mand\u001b[0m \u001b[1;32mnot\u001b[0m \u001b[0mpath\u001b[0m\u001b[1;33m.\u001b[0m\u001b[0mexists\u001b[0m\u001b[1;33m(\u001b[0m\u001b[0mhead\u001b[0m\u001b[1;33m)\u001b[0m\u001b[1;33m:\u001b[0m\u001b[1;33m\u001b[0m\u001b[1;33m\u001b[0m\u001b[0m\n\u001b[0;32m    210\u001b[0m         \u001b[1;32mtry\u001b[0m\u001b[1;33m:\u001b[0m\u001b[1;33m\u001b[0m\u001b[1;33m\u001b[0m\u001b[0m\n\u001b[1;32m--> 211\u001b[1;33m             \u001b[0mmakedirs\u001b[0m\u001b[1;33m(\u001b[0m\u001b[0mhead\u001b[0m\u001b[1;33m,\u001b[0m \u001b[0mexist_ok\u001b[0m\u001b[1;33m=\u001b[0m\u001b[0mexist_ok\u001b[0m\u001b[1;33m)\u001b[0m\u001b[1;33m\u001b[0m\u001b[1;33m\u001b[0m\u001b[0m\n\u001b[0m\u001b[0;32m    212\u001b[0m         \u001b[1;32mexcept\u001b[0m \u001b[0mFileExistsError\u001b[0m\u001b[1;33m:\u001b[0m\u001b[1;33m\u001b[0m\u001b[1;33m\u001b[0m\u001b[0m\n\u001b[0;32m    213\u001b[0m             \u001b[1;31m# Defeats race condition when another thread created the path\u001b[0m\u001b[1;33m\u001b[0m\u001b[1;33m\u001b[0m\u001b[1;33m\u001b[0m\u001b[0m\n",
      "\u001b[1;32m~\\Anaconda3\\lib\\os.py\u001b[0m in \u001b[0;36mmakedirs\u001b[1;34m(name, mode, exist_ok)\u001b[0m\n\u001b[0;32m    209\u001b[0m     \u001b[1;32mif\u001b[0m \u001b[0mhead\u001b[0m \u001b[1;32mand\u001b[0m \u001b[0mtail\u001b[0m \u001b[1;32mand\u001b[0m \u001b[1;32mnot\u001b[0m \u001b[0mpath\u001b[0m\u001b[1;33m.\u001b[0m\u001b[0mexists\u001b[0m\u001b[1;33m(\u001b[0m\u001b[0mhead\u001b[0m\u001b[1;33m)\u001b[0m\u001b[1;33m:\u001b[0m\u001b[1;33m\u001b[0m\u001b[1;33m\u001b[0m\u001b[0m\n\u001b[0;32m    210\u001b[0m         \u001b[1;32mtry\u001b[0m\u001b[1;33m:\u001b[0m\u001b[1;33m\u001b[0m\u001b[1;33m\u001b[0m\u001b[0m\n\u001b[1;32m--> 211\u001b[1;33m             \u001b[0mmakedirs\u001b[0m\u001b[1;33m(\u001b[0m\u001b[0mhead\u001b[0m\u001b[1;33m,\u001b[0m \u001b[0mexist_ok\u001b[0m\u001b[1;33m=\u001b[0m\u001b[0mexist_ok\u001b[0m\u001b[1;33m)\u001b[0m\u001b[1;33m\u001b[0m\u001b[1;33m\u001b[0m\u001b[0m\n\u001b[0m\u001b[0;32m    212\u001b[0m         \u001b[1;32mexcept\u001b[0m \u001b[0mFileExistsError\u001b[0m\u001b[1;33m:\u001b[0m\u001b[1;33m\u001b[0m\u001b[1;33m\u001b[0m\u001b[0m\n\u001b[0;32m    213\u001b[0m             \u001b[1;31m# Defeats race condition when another thread created the path\u001b[0m\u001b[1;33m\u001b[0m\u001b[1;33m\u001b[0m\u001b[1;33m\u001b[0m\u001b[0m\n",
      "\u001b[1;32m~\\Anaconda3\\lib\\os.py\u001b[0m in \u001b[0;36mmakedirs\u001b[1;34m(name, mode, exist_ok)\u001b[0m\n\u001b[0;32m    209\u001b[0m     \u001b[1;32mif\u001b[0m \u001b[0mhead\u001b[0m \u001b[1;32mand\u001b[0m \u001b[0mtail\u001b[0m \u001b[1;32mand\u001b[0m \u001b[1;32mnot\u001b[0m \u001b[0mpath\u001b[0m\u001b[1;33m.\u001b[0m\u001b[0mexists\u001b[0m\u001b[1;33m(\u001b[0m\u001b[0mhead\u001b[0m\u001b[1;33m)\u001b[0m\u001b[1;33m:\u001b[0m\u001b[1;33m\u001b[0m\u001b[1;33m\u001b[0m\u001b[0m\n\u001b[0;32m    210\u001b[0m         \u001b[1;32mtry\u001b[0m\u001b[1;33m:\u001b[0m\u001b[1;33m\u001b[0m\u001b[1;33m\u001b[0m\u001b[0m\n\u001b[1;32m--> 211\u001b[1;33m             \u001b[0mmakedirs\u001b[0m\u001b[1;33m(\u001b[0m\u001b[0mhead\u001b[0m\u001b[1;33m,\u001b[0m \u001b[0mexist_ok\u001b[0m\u001b[1;33m=\u001b[0m\u001b[0mexist_ok\u001b[0m\u001b[1;33m)\u001b[0m\u001b[1;33m\u001b[0m\u001b[1;33m\u001b[0m\u001b[0m\n\u001b[0m\u001b[0;32m    212\u001b[0m         \u001b[1;32mexcept\u001b[0m \u001b[0mFileExistsError\u001b[0m\u001b[1;33m:\u001b[0m\u001b[1;33m\u001b[0m\u001b[1;33m\u001b[0m\u001b[0m\n\u001b[0;32m    213\u001b[0m             \u001b[1;31m# Defeats race condition when another thread created the path\u001b[0m\u001b[1;33m\u001b[0m\u001b[1;33m\u001b[0m\u001b[1;33m\u001b[0m\u001b[0m\n",
      "\u001b[1;32m~\\Anaconda3\\lib\\os.py\u001b[0m in \u001b[0;36mmakedirs\u001b[1;34m(name, mode, exist_ok)\u001b[0m\n\u001b[0;32m    209\u001b[0m     \u001b[1;32mif\u001b[0m \u001b[0mhead\u001b[0m \u001b[1;32mand\u001b[0m \u001b[0mtail\u001b[0m \u001b[1;32mand\u001b[0m \u001b[1;32mnot\u001b[0m \u001b[0mpath\u001b[0m\u001b[1;33m.\u001b[0m\u001b[0mexists\u001b[0m\u001b[1;33m(\u001b[0m\u001b[0mhead\u001b[0m\u001b[1;33m)\u001b[0m\u001b[1;33m:\u001b[0m\u001b[1;33m\u001b[0m\u001b[1;33m\u001b[0m\u001b[0m\n\u001b[0;32m    210\u001b[0m         \u001b[1;32mtry\u001b[0m\u001b[1;33m:\u001b[0m\u001b[1;33m\u001b[0m\u001b[1;33m\u001b[0m\u001b[0m\n\u001b[1;32m--> 211\u001b[1;33m             \u001b[0mmakedirs\u001b[0m\u001b[1;33m(\u001b[0m\u001b[0mhead\u001b[0m\u001b[1;33m,\u001b[0m \u001b[0mexist_ok\u001b[0m\u001b[1;33m=\u001b[0m\u001b[0mexist_ok\u001b[0m\u001b[1;33m)\u001b[0m\u001b[1;33m\u001b[0m\u001b[1;33m\u001b[0m\u001b[0m\n\u001b[0m\u001b[0;32m    212\u001b[0m         \u001b[1;32mexcept\u001b[0m \u001b[0mFileExistsError\u001b[0m\u001b[1;33m:\u001b[0m\u001b[1;33m\u001b[0m\u001b[1;33m\u001b[0m\u001b[0m\n\u001b[0;32m    213\u001b[0m             \u001b[1;31m# Defeats race condition when another thread created the path\u001b[0m\u001b[1;33m\u001b[0m\u001b[1;33m\u001b[0m\u001b[1;33m\u001b[0m\u001b[0m\n",
      "\u001b[1;32m~\\Anaconda3\\lib\\os.py\u001b[0m in \u001b[0;36mmakedirs\u001b[1;34m(name, mode, exist_ok)\u001b[0m\n\u001b[0;32m    219\u001b[0m             \u001b[1;32mreturn\u001b[0m\u001b[1;33m\u001b[0m\u001b[1;33m\u001b[0m\u001b[0m\n\u001b[0;32m    220\u001b[0m     \u001b[1;32mtry\u001b[0m\u001b[1;33m:\u001b[0m\u001b[1;33m\u001b[0m\u001b[1;33m\u001b[0m\u001b[0m\n\u001b[1;32m--> 221\u001b[1;33m         \u001b[0mmkdir\u001b[0m\u001b[1;33m(\u001b[0m\u001b[0mname\u001b[0m\u001b[1;33m,\u001b[0m \u001b[0mmode\u001b[0m\u001b[1;33m)\u001b[0m\u001b[1;33m\u001b[0m\u001b[1;33m\u001b[0m\u001b[0m\n\u001b[0m\u001b[0;32m    222\u001b[0m     \u001b[1;32mexcept\u001b[0m \u001b[0mOSError\u001b[0m\u001b[1;33m:\u001b[0m\u001b[1;33m\u001b[0m\u001b[1;33m\u001b[0m\u001b[0m\n\u001b[0;32m    223\u001b[0m         \u001b[1;31m# Cannot rely on checking for EEXIST, since the operating system\u001b[0m\u001b[1;33m\u001b[0m\u001b[1;33m\u001b[0m\u001b[1;33m\u001b[0m\u001b[0m\n",
      "\u001b[1;31mFileNotFoundError\u001b[0m: [WinError 3] 지정된 경로를 찾을 수 없습니다: 'C:\\\\Users\\\\infomax\\\\Documents\\\\GitHub\\\\protobed\\\\etc\\\\newsdata\\\\cnn\\\\https\\\\comparecards.com\\\\guide\\\\credit-cards-to-have-you-flying-in-no-time\\\\esourceid=6317676\\\\utm_source=cnn\\\\utm_medium=native\\\\pla=cnn.com\\\\bdst=rv\\\\acqs=prospecting\\\\utm_campaign=sectionfront\\\\grp=travel-no-time'"
     ]
    }
   ],
   "source": [
    "# from urllib.parse import quote_plus\n",
    "import re\n",
    "\n",
    "# / ? & % : * \" < > | \\\n",
    "delimiters = '/|\\?|\\&|\\%|:|\\*|\\\"|\\<|\\>|\\||\\\\\\\\'\n",
    "basedir = os.path.join(os.getcwd(), 'newsdata')\n",
    "ext = '.json'\n",
    "\n",
    "for pub, _urls in tqdm(urls.items()):\n",
    "    #pubdir = os.path.join(os.getcwd(), 'newsdata', pub)\n",
    "    \n",
    "    #if not os.path.isdir(pubdir):\n",
    "    #    os.makedirs(pubdir)\n",
    "        \n",
    "    for _url in _urls:\n",
    "        fname = _url + ext\n",
    "        file = os.path.join(basedir, pub, *re.split(delimiters, fname))\n",
    "        fulldir = os.path.dirname(file)\n",
    "        #file = os.path.join(pubdir, *re.split(delimiters, fname))\n",
    "        #file = os.path.join(pubdir, quote_plus(_url) + '.json')\n",
    "        \n",
    "        if not os.path.isdir(fulldir):\n",
    "            os.makedirs(fulldir)\n",
    "        \n",
    "        if not os.path.isfile(file):\n",
    "            with open(file, 'w') as f:\n",
    "                pass\n",
    "                #json.dump(list(newsdata), f)"
   ]
  },
  {
   "cell_type": "code",
   "execution_count": null,
   "metadata": {},
   "outputs": [],
   "source": []
  },
  {
   "cell_type": "code",
   "execution_count": null,
   "metadata": {},
   "outputs": [],
   "source": []
  },
  {
   "cell_type": "code",
   "execution_count": null,
   "metadata": {},
   "outputs": [],
   "source": []
  },
  {
   "cell_type": "code",
   "execution_count": null,
   "metadata": {},
   "outputs": [],
   "source": []
  },
  {
   "cell_type": "code",
   "execution_count": 81,
   "metadata": {},
   "outputs": [
    {
     "data": {
      "text/plain": [
       "[]"
      ]
     },
     "execution_count": 81,
     "metadata": {},
     "output_type": "execute_result"
    }
   ],
   "source": [
    "headers = {\"Authorization\":\"sBBqsGXiYgF0Db5OV5tAw-akap7JBapGCe67Tuuz0lhquXd0k1oQC4B5B91GiHcVn2pHZrSf1gT2PUujH1YaQA\"}\n",
    "endpoint = 'https://api.newsriver.io/v2/search?'\n",
    "qry = 'query=title:\"Here are the biggest analyst calls of the day: Monster, JetBlue & more\"&sortOrder=DESC&limit=15'\n",
    "# qry = 'query=language:en AND website.domainName:\"wsj.com\"&sortOrder=DESC&limit=15'\n",
    "url = endpoint + qry\n",
    "response = requests.get(url, headers=headers)\n",
    "out = response.json();out"
   ]
  },
  {
   "cell_type": "code",
   "execution_count": 204,
   "metadata": {},
   "outputs": [
    {
     "name": "stdout",
     "output_type": "stream",
     "text": [
      "Extracting date from https://labs.time.com/story/watch-how-the-drug-overdose-epidemic-spread-in-america\n",
      "Wall time: 734 ms\n"
     ]
    }
   ],
   "source": [
    "%%time\n",
    "articleDateExtractor.extractArticlePublishedDate('https://labs.time.com/story/watch-how-the-drug-overdose-epidemic-spread-in-america')"
   ]
  },
  {
   "cell_type": "code",
   "execution_count": 184,
   "metadata": {},
   "outputs": [
    {
     "data": {
      "text/plain": [
       "{'status': 'ok',\n",
       " 'totalResults': 1,\n",
       " 'articles': [{'source': {'id': 'cnbc', 'name': 'CNBC'},\n",
       "   'author': 'Arjun Kharpal',\n",
       "   'title': 'Chinese ride-hailing giant Didi plans to launch a robotaxi service in Shanghai',\n",
       "   'description': 'Ride-hailing giant Didi Chuxing joins a number of other Chinese companies in announcing robotaxi services, as China seeks to race ahead in driverless technology.',\n",
       "   'url': 'https://www.cnbc.com/2019/08/30/china-uber-didi-plans-to-launch-a-robo-taxi-service-in-shanghai.html',\n",
       "   'urlToImage': 'https://image.cnbcfm.com/api/v1/image/106104268-1567143051659didishowcasesitsautonomousdrivingfleetatthewaicinshanghai.jpg?v=1567143214',\n",
       "   'publishedAt': '2019-08-30T06:17:00Z',\n",
       "   'content': \"Didi Chuxing, China's version of Uber, announced plans to launch a robotaxi service in Shanghai where users will be able to hail driverless cars from the app.\\r\\nThe ride-hailing company will deploy 30 different models of so-called level four autonomous vehicle… [+1165 chars]\"}]}"
      ]
     },
     "execution_count": 184,
     "metadata": {},
     "output_type": "execute_result"
    }
   ],
   "source": [
    "title = \"Chinese ride-hailing giant Didi plans to launch a robotaxi service in Shanghai\"\n",
    "url = 'https://newsapi.org/v2/everything?qInTitle=\"{title}\"&apiKey=bfb917bca91c435d9c7efd247d95227b&pageSize=100'.format(title=title)\n",
    "resp = requests.get(url)\n",
    "resp.json()"
   ]
  },
  {
   "cell_type": "code",
   "execution_count": 186,
   "metadata": {},
   "outputs": [
    {
     "data": {
      "text/plain": [
       "[{'id': 'DfQ6U8fs2HIZffk3CxEdt6U1fD1TUdvlbXHYfsdTx8wOZQZmsl1EA8hfWaeO1JjQFTg7hl-dnHe9D2QyrQqT5w',\n",
       "  'publishDate': '2019-08-30T12:30:34',\n",
       "  'discoverDate': '2019-08-30T12:51:36.329+0000',\n",
       "  'title': \"Millennials are making travel a priority more than previous generations—that's not a bad thing\",\n",
       "  'language': 'en',\n",
       "  'text': 'Your Instagram feed is probably littered with photos from your friends on vacation sharing breathtaking views of exotic beaches or snapshots of once-in-a-lifetime meals. And if you think that the sheer number of these vacation photos is growing, you\\'re not wrong. That\\'s because millennials, more than previous generations, are making travel a priority. In 2019, the average millennial (ages 21 to 37) plans on taking roughly five trips throughout the year, three of which are expected to be international, according to AARP\\'s 2019 Travel Trends report. That\\'s more international trips than Gen X (ages 38 to 53) and more overall trips than Baby Boomers (ages 54 to 72). Yet, despite polls around over-spending, millennials are planning trips responsibly. They plan to spend $4,400 on travel overall in 2019, compared to Gen-Xers\\' $5,400 budget and Boomers\\' estimated $6,600, according to AARP. And yes, they\\'re making room for travel in their budget even if they have student loan debt. In general, debt shouldn\\'t preclude millennials from travelling, says Tiffany Aliche bestselling author and founder of the Budgetnista financial blog. \"You don\\'t have to be debt-free in order to enjoy your life,\" Aliche tells CNBC Make It. If you have a plan to pay down your debt and you\\'re making regular payments, Aliche says that the benefits of travel can outweigh the costs — as long as you\\'re not overspending. It\\'s important to keep in mind that student loans, in particular, are typically long-term, low-cost debt. And waiting until it\\'s all paid off may take decades. \"That would be like saying you\\'re never going on a vacation until the mortgage is paid off,\" Aliche says. You don\\'t see a lot of Baby Boomers with McMansions adhering to that philosophy. But how are millennials juggling their debt while paying for their next adventure? They\\'re saving more, cutting costs where they can, and in some cases, even earning more, according to those CNBC Make It spoke with over the summer. \"I think I\\'m really lucky to be able to travel multiple times each year, but I definitely make it a priority,\" Paige Dolan, a 30-year-old hospital coordinator, tells CNBC Make It. She typically spends between $2,500 and $4,000 annually on travel — and has no regrets. Dolan, based in Cincinnati, Ohio, relies on an app to automatically set aside savings every month so she can afford to take about two to three big trips each year. \"I put myself in the mindset of thinking, \\'Oh, I need an extra $100 every two weeks,\\' for example, and then allocate it into a savings account specifically for travel,\" she says. \"It makes it affordable and manageable.\" She also plots out her daily expenses to make sure she\\'s on track with her financial goals. \"I track every dollar I spend in an Excel spreadsheet. I realize that might sound crazy, but it really does help me see where I am spending money and how much in each category,\" she says. \"This way, I can compare months and see if I can cut spending in some areas over others if I need to re-allocate the money for travel.\" If you want to make travel a priority, then it\\'s smart to actively include it in your monthly budget. That may mean you need to cut costs on your everyday spending. \"I like to look through my expenses monthly and ask myself if the expense is something I really want to keep in my budget, or if I can get rid of it and move that money to my travel fund,\" Whitney Hansen, host of the Money Nerds podcast, tells CNBC Make It. \"Ask yourself out loud: \\'Do I really want to go out to eat five times a week or do I want to drink wine in Italy?\\'\" When it comes to saving for travel, millennials are leading the pack. Over half, 52%, of millennials are saving for a vacation, according to a survey of approximately 2,200 U.S. adults that CNBC Make It performed in conjunction with Morning Consult. Brad Pettiford, 32, tells CNBC Make It that when it comes to travel expenses, he and his wife, Jami, focus less on specifically saving up for an individual trip and more on keeping costs low overall. \"Traveling is something that we made the decision to prioritize in our lives, so we don\\'t necessarily view it from a financial standpoint of \\'can we afford to do it or not.\\' Rather, our focus is on finding great deals so we can visit all the cities on our bucket list as affordably as possible,\" he says. Pettiford, a Detroit-based public relations professional, says he typically spends over $4,000 a year traveling, but most of the trips are three-day long weekend getaways as opposed to full-fledged vacations. \"Obviously the money spent traveling and on food and entertainment while we\\'re away can add up, but because our trips are mostly three-day getaways, our overall expenses never really reach astronomical levels,\" he says. To further minimize expenses, he and his wife will stay at cost-effective Airbnb residences instead of pricier hotels. When that\\'s not an option, they try to find properties where they can use hotel points. \"Because our trips are mostly three-day getaways, our overall expenses never really reach astronomical levels,\" Pettiford says. Pettiford and his wife manage to afford all this travel while juggling about $40,000 of debts that include car payments, student loans and financing for home renovation projects. \"We feel like those shared experiences are more meaningful than tangible items we could spend our money on,\" he says, adding they live modestly so they can have money to spend on travel while taking care of the debts and monthly expenses. Sometimes it\\'s not about saving or even adhering to a strict budget, it\\'s about boosting your income. That\\'s what allows 25-year-old Emma Tiernon to spend about $10,000 a year on travel. She tells CNBC Make It that in order to fund her trips, she juggles multiple side hustles: swim team coach, personal trainer and freelance social media expert. But for her, the effort is worth it. \"At the moment, travel is a priority so I fit it into my finances like a bill,\" the Denver-based media relations strategist says. All of the money from her side jobs, plus about 5% from her full-time paycheck, goes into an Acorns investment account. Using an investment account instead of a savings account helps grow her travel fund, Tiernon says. \"It\\'s important for me to be pushed outside of my comfort zone and understand what\\'s happening politically and culturally in the world,\" Tiernon says. In addition to growing her income, Tiernon works remotely during some trips so she can take advantage of cheaper travel days. She also invested in a travel rewards credit card and pays for some travel costs with rewards points from time to time. \"I don\\'t think that there\\'s anything wrong with making travel a priority, but really mean that,\" Aliche says. Don\\'t be one of those people who say they make travel a priority, but every single weekend they\\'re going out to brunch. \"Keep your spending in alignment with your financial goals and responsibilities.\" Disclosure: NBCUniversal and Comcast Ventures are investors in Acorns. Don\\'t miss:5 things you need to know about booking a budget airline ticket, according to experts Like this story?Subscribe to CNBC Make It on YouTube!',\n",
       "  'structuredText': '<div> \\n <span></span> \\n <div> \\n  <p>Your Instagram feed is probably littered with photos from your friends on vacation sharing breathtaking views of exotic beaches or snapshots of once-in-a-lifetime meals. And if you think that the sheer number of these vacation photos is growing, you\\'re not wrong.</p> \\n  <p>That\\'s because millennials, more than previous generations, are making travel a priority. In 2019, the average millennial (ages 21 to 37) plans on taking roughly five trips throughout the year, three of which are expected to be international, according to <a href=\"https://www.aarp.org/research/topics/life/info-2018/2019-travel-trends.html\">AARP\\'s 2019 Travel Trends report</a>. That\\'s more international trips than Gen X (ages 38 to 53) and more overall trips than Baby Boomers (ages 54 to 72).</p> \\n  <div> \\n   <div></div> \\n  </div> \\n  <p>Yet, despite <a href=\"https://www.creditkarma.com/insights/i/half-millennials-gen-z-debt-summer-travel-survey/\">polls around over-spending</a>, millennials are planning trips responsibly. They plan to spend $4,400 on travel overall in 2019, compared to Gen-Xers\\' $5,400 budget and Boomers\\' estimated $6,600, according to AARP.</p> \\n </div> \\n <div> \\n  <p>And yes, they\\'re making room for travel in their budget even if they have student loan debt. In general, debt shouldn\\'t preclude millennials from travelling, says Tiffany Aliche <a href=\"https://www.amazon.com/Tiffany-The-Budgetnista-Aliche/e/B007054EVE%3Fref=dbs_a_mng_rwt_scns_share\">bestselling author</a> and founder of the <a href=\"http://thebudgetnista.com/\">Budgetnista</a> financial blog.</p> \\n  <p> \"You don\\'t have to be debt-free in order to enjoy your life,\" Aliche tells <a href=\"https://www.cnbc.com/make-it/\">CNBC Make It</a>. If you have a plan to pay down your debt and you\\'re making regular payments, Aliche says that the benefits of travel can outweigh the costs — as long as you\\'re not overspending.</p> \\n  <p>It\\'s important to keep in mind that student loans, in particular, are typically long-term, low-cost debt. And waiting until it\\'s all paid off may take decades. \"That would be like saying you\\'re never going on a vacation until the mortgage is paid off,\" Aliche says. You don\\'t see a lot of Baby Boomers with McMansions adhering to that philosophy.</p> \\n  <p>But how are millennials juggling their debt while paying for their next adventure? They\\'re saving more, cutting costs where they can, and in some cases, even earning more, according to those CNBC Make It spoke with over the summer.</p> \\n  <div></div> \\n </div> \\n <div> \\n  <p> \"I think I\\'m really lucky to be able to travel multiple times each year, but I definitely make it a priority,\" Paige Dolan, a 30-year-old hospital coordinator, tells CNBC Make It. She typically spends between $2,500 and $4,000 annually on travel — and has no regrets.</p> \\n  <p>Dolan, based in Cincinnati, Ohio, relies on an app to automatically set aside savings every month so she can afford to take about two to three big trips each year. \"I put myself in the mindset of thinking, \\'Oh, I need an extra $100 every two weeks,\\' for example, and then allocate it into a savings account specifically for travel,\" she says. \"It makes it affordable and manageable.\"</p> \\n </div> \\n <div> \\n  <p>She also plots out her daily expenses to make sure she\\'s on track with her financial goals. \"I track every dollar I spend in an Excel spreadsheet. I realize that might sound crazy, but it really does help me see where I am spending money and how much in each category,\" she says. \"This way, I can compare months and see if I can cut spending in some areas over others if I need to re-allocate the money for travel.\"</p> \\n  <p>If you want to make travel a priority, then it\\'s smart to actively include it in your monthly budget. That may mean you need to cut costs on your everyday spending. \"I like to look through my expenses monthly and ask myself if the expense is something I really want to keep in my budget, or if I can get rid of it and move that money to my travel fund,\" Whitney Hansen, host of the <a href=\"https://whitneyhansen.com/podcast/\">Money Nerds podcast</a>, tells CNBC Make It. \"Ask yourself out loud: \\'Do I really want to go out to eat five times a week or do I want to drink wine in Italy?\\'\"</p> \\n  <p>When it comes to saving for travel, millennials are leading the pack. Over half, 52%, of millennials are saving for a vacation, according to a survey of approximately 2,200 U.S. adults that CNBC Make It performed in conjunction with <a href=\"https://morningconsult.com/\">Morning Consult</a>.</p> \\n </div> \\n <div> \\n  <p>Brad Pettiford, 32, tells CNBC Make It that when it comes to travel expenses, he and his wife, Jami, focus less on specifically saving up for an individual trip and more on keeping costs low overall. \"Traveling is something that we made the decision to prioritize in our lives, so we don\\'t necessarily view it from a financial standpoint of \\'can we afford to do it or not.\\' Rather, our focus is on finding great deals so we can visit all the cities on our bucket list as affordably as possible,\" he says.</p> \\n  <p>Pettiford, a Detroit-based public relations professional, says he typically spends over $4,000 a year traveling, but most of the trips are three-day long weekend getaways as opposed to full-fledged vacations. \"Obviously the money spent traveling and on food and entertainment while we\\'re away can add up, but because our trips are mostly three-day getaways, our overall expenses never really reach astronomical levels,\" he says.</p> \\n  <p>To further minimize expenses, he and his wife will stay at cost-effective Airbnb residences instead of pricier hotels. When that\\'s not an option, they try to find properties where they can use hotel points. \"Because our trips are mostly three-day getaways, our overall expenses never really reach astronomical levels,\" Pettiford says.</p> \\n  <p>Pettiford and his wife manage to afford all this travel while juggling about $40,000 of debts that include car payments, student loans and financing for home renovation projects. \"We feel like those shared experiences are more meaningful than tangible items we could spend our money on,\" he says, adding they live modestly so they can have money to spend on travel while taking care of the debts and monthly expenses.</p> \\n </div> \\n <div> \\n  <p>Sometimes it\\'s not about saving or even adhering to a strict budget, it\\'s about boosting your income. That\\'s what allows 25-year-old Emma Tiernon to spend about $10,000 a year on travel. She tells CNBC Make It that in order to fund her trips, she juggles multiple side hustles: swim team coach, personal trainer and freelance social media expert.</p> \\n  <p>But for her, the effort is worth it. \"At the moment, travel is a priority so I fit it into my finances like a bill,\" the Denver-based media relations strategist says. All of the money from her side jobs, plus about 5% from her full-time paycheck, goes into an Acorns investment account. Using an investment account instead of a savings account helps grow her travel fund, Tiernon says.</p> \\n </div> \\n <div> \\n  <p> \"It\\'s important for me to be pushed outside of my comfort zone and understand what\\'s happening politically and culturally in the world,\" Tiernon says. In addition to growing her income, Tiernon works remotely during some trips so she can take advantage of cheaper travel days. She also invested in a travel rewards credit card and pays for some travel costs with rewards points from time to time.</p> \\n  <p> \"I don\\'t think that there\\'s anything wrong with making travel a priority, but really mean that,\" Aliche says. Don\\'t be one of those people who say they make travel a priority, but every single weekend they\\'re going out to brunch. \"Keep your spending in alignment with your financial goals and responsibilities.\"</p> \\n  <p>Disclosure: NBCUniversal and Comcast Ventures are investors in Acorns.</p> \\n  <p>Don\\'t miss:<a href=\"https://www.cnbc.com/2019/05/17/budget-airlines-what-you-need-to-know-before-booking-your-ticket.html\">5 things you need to know about booking a budget airline ticket, according to experts</a></p> \\n  <p>Like this story?<a href=\"https://www.youtube.com/c/CNBCMakeIt?sub_confirmation=1\">Subscribe to CNBC Make It on YouTube!</a></p> \\n </div> \\n</div>',\n",
       "  'url': 'https://www.cnbc.com/2019/08/30/millennials-making-travel-a-priority-more-than-previous-generations.html',\n",
       "  'elements': [{'type': 'Image',\n",
       "    'primary': True,\n",
       "    'url': 'https://image.cnbcfm.com/api/v1/image/106091966-1566485921586meditation-at-the-sunrise-at-the-top-of-mount-batur-in-bali-indonesia_t20_wkymrv.jpg?v=1566486100',\n",
       "    'width': None,\n",
       "    'height': None,\n",
       "    'title': None,\n",
       "    'alternative': None}],\n",
       "  'website': {'name': 'CNBC',\n",
       "   'hostName': 'www.cnbc.com',\n",
       "   'domainName': 'cnbc.com',\n",
       "   'iconURL': None,\n",
       "   'countryName': '',\n",
       "   'countryCode': '',\n",
       "   'region': None},\n",
       "  'metadata': {'readTime': {'type': 'readTime', 'seconds': 282}},\n",
       "  'highlight': \"<highlighted>Millennials</highlighted> <highlighted>are</highlighted> <highlighted>making</highlighted> <highlighted>travel</highlighted> <highlighted>a</highlighted> <highlighted>priority</highlighted> <highlighted>more</highlighted> <highlighted>than</highlighted> <highlighted>previous</highlighted> <highlighted>generations</highlighted>—<highlighted>that's</highlighted> <highlighted>not</highlighted> <highlighted>a</highlighted> <highlighted>bad</highlighted> <highlighted>thing</highlighted>\",\n",
       "  'score': 78.930695}]"
      ]
     },
     "execution_count": 186,
     "metadata": {},
     "output_type": "execute_result"
    }
   ],
   "source": [
    "headers = {\"Authorization\":\"sBBqsGXiYgF0Db5OV5tAw-akap7JBapGCe67Tuuz0lhquXd0k1oQC4B5B91GiHcVn2pHZrSf1gT2PUujH1YaQA\"}\n",
    "endpoint = 'https://api.newsriver.io/v2/search?'\n",
    "title = \"Millennials are making travel a priority more than previous generations—that's not a bad thing\"\n",
    "qry = 'query=title:\"{title}\"&sortOrder=DESC&limit=15'.format(title=title)\n",
    "# qry = 'query=language:en AND website.domainName:\"wsj.com\"&sortOrder=DESC&limit=15'\n",
    "url = endpoint + qry\n",
    "response = requests.get(url, headers=headers)\n",
    "out = response.json();out"
   ]
  },
  {
   "cell_type": "code",
   "execution_count": null,
   "metadata": {},
   "outputs": [],
   "source": []
  }
 ],
 "metadata": {
  "kernelspec": {
   "display_name": "Python 3",
   "language": "python",
   "name": "python3"
  },
  "language_info": {
   "codemirror_mode": {
    "name": "ipython",
    "version": 3
   },
   "file_extension": ".py",
   "mimetype": "text/x-python",
   "name": "python",
   "nbconvert_exporter": "python",
   "pygments_lexer": "ipython3",
   "version": "3.7.3"
  }
 },
 "nbformat": 4,
 "nbformat_minor": 2
}
