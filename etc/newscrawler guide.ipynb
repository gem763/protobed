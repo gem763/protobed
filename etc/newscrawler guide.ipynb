{
 "cells": [
  {
   "cell_type": "code",
   "execution_count": 8,
   "metadata": {},
   "outputs": [
    {
     "name": "stdout",
     "output_type": "stream",
     "text": [
      "The autoreload extension is already loaded. To reload it, use:\n",
      "  %reload_ext autoreload\n"
     ]
    }
   ],
   "source": [
    "%load_ext autoreload\n",
    "%autoreload\n",
    "%matplotlib inline\n",
    "\n",
    "from news_crawler import NewsCrawler\n",
    "from IPython.display import display\n",
    "from IPython.core.debugger import set_trace"
   ]
  },
  {
   "cell_type": "markdown",
   "metadata": {},
   "source": [
    "# 0. 초기화"
   ]
  },
  {
   "cell_type": "code",
   "execution_count": 9,
   "metadata": {
    "scrolled": true
   },
   "outputs": [
    {
     "name": "stdout",
     "output_type": "stream",
     "text": [
      "checking bigquery storage... done (25.71 seconds)\n",
      "we have total 339967 articles (310905 downloaded, 29062 trashed)\n"
     ]
    }
   ],
   "source": [
    "crawler = NewsCrawler(storage='bigquery')"
   ]
  },
  {
   "cell_type": "markdown",
   "metadata": {},
   "source": [
    "# 1. URL을 모은다"
   ]
  },
  {
   "cell_type": "code",
   "execution_count": 10,
   "metadata": {},
   "outputs": [],
   "source": [
    "# 제거고려: nextbigfuture, nbcnews, joongang, chosun"
   ]
  },
  {
   "cell_type": "code",
   "execution_count": 11,
   "metadata": {
    "scrolled": true
   },
   "outputs": [
    {
     "name": "stdout",
     "output_type": "stream",
     "text": [
      "100.00% (94.30 seconds): Collecting URLs... euronews            \n",
      "\n",
      "100.00% (0.09 seconds): Selecting URLs... cryptonews          "
     ]
    },
    {
     "data": {
      "text/html": [
       "<div>\n",
       "<style scoped>\n",
       "    .dataframe tbody tr th:only-of-type {\n",
       "        vertical-align: middle;\n",
       "    }\n",
       "\n",
       "    .dataframe tbody tr th {\n",
       "        vertical-align: top;\n",
       "    }\n",
       "\n",
       "    .dataframe thead th {\n",
       "        text-align: right;\n",
       "    }\n",
       "</style>\n",
       "<table border=\"1\" class=\"dataframe\">\n",
       "  <thead>\n",
       "    <tr style=\"text-align: right;\">\n",
       "      <th></th>\n",
       "      <th>collected</th>\n",
       "      <th>collected_unique</th>\n",
       "      <th>selected</th>\n",
       "    </tr>\n",
       "  </thead>\n",
       "  <tbody>\n",
       "    <tr>\n",
       "      <td>all</td>\n",
       "      <td>25765</td>\n",
       "      <td>25695</td>\n",
       "      <td>671</td>\n",
       "    </tr>\n",
       "    <tr>\n",
       "      <td>investing.com</td>\n",
       "      <td>936</td>\n",
       "      <td>936</td>\n",
       "      <td>95</td>\n",
       "    </tr>\n",
       "    <tr>\n",
       "      <td>reuters</td>\n",
       "      <td>1120</td>\n",
       "      <td>1120</td>\n",
       "      <td>94</td>\n",
       "    </tr>\n",
       "    <tr>\n",
       "      <td>euronews</td>\n",
       "      <td>877</td>\n",
       "      <td>877</td>\n",
       "      <td>64</td>\n",
       "    </tr>\n",
       "    <tr>\n",
       "      <td>yahoo</td>\n",
       "      <td>394</td>\n",
       "      <td>394</td>\n",
       "      <td>55</td>\n",
       "    </tr>\n",
       "    <tr>\n",
       "      <td>...</td>\n",
       "      <td>...</td>\n",
       "      <td>...</td>\n",
       "      <td>...</td>\n",
       "    </tr>\n",
       "    <tr>\n",
       "      <td>afr</td>\n",
       "      <td>456</td>\n",
       "      <td>456</td>\n",
       "      <td>0</td>\n",
       "    </tr>\n",
       "    <tr>\n",
       "      <td>axios</td>\n",
       "      <td>131</td>\n",
       "      <td>131</td>\n",
       "      <td>0</td>\n",
       "    </tr>\n",
       "    <tr>\n",
       "      <td>cbs</td>\n",
       "      <td>417</td>\n",
       "      <td>417</td>\n",
       "      <td>0</td>\n",
       "    </tr>\n",
       "    <tr>\n",
       "      <td>nationalreview</td>\n",
       "      <td>704</td>\n",
       "      <td>702</td>\n",
       "      <td>0</td>\n",
       "    </tr>\n",
       "    <tr>\n",
       "      <td>cryptonews</td>\n",
       "      <td>331</td>\n",
       "      <td>331</td>\n",
       "      <td>0</td>\n",
       "    </tr>\n",
       "  </tbody>\n",
       "</table>\n",
       "<p>74 rows × 3 columns</p>\n",
       "</div>"
      ],
      "text/plain": [
       "                collected  collected_unique  selected\n",
       "all                 25765             25695       671\n",
       "investing.com         936               936        95\n",
       "reuters              1120              1120        94\n",
       "euronews              877               877        64\n",
       "yahoo                 394               394        55\n",
       "...                   ...               ...       ...\n",
       "afr                   456               456         0\n",
       "axios                 131               131         0\n",
       "cbs                   417               417         0\n",
       "nationalreview        704               702         0\n",
       "cryptonews            331               331         0\n",
       "\n",
       "[74 rows x 3 columns]"
      ]
     },
     "metadata": {},
     "output_type": "display_data"
    },
    {
     "data": {
      "text/html": [
       "<div>\n",
       "<style scoped>\n",
       "    .dataframe tbody tr th:only-of-type {\n",
       "        vertical-align: middle;\n",
       "    }\n",
       "\n",
       "    .dataframe tbody tr th {\n",
       "        vertical-align: top;\n",
       "    }\n",
       "\n",
       "    .dataframe thead th {\n",
       "        text-align: right;\n",
       "    }\n",
       "</style>\n",
       "<table border=\"1\" class=\"dataframe\">\n",
       "  <thead>\n",
       "    <tr style=\"text-align: right;\">\n",
       "      <th></th>\n",
       "      <th>url</th>\n",
       "      <th>pubs</th>\n",
       "      <th>actual_pub</th>\n",
       "    </tr>\n",
       "  </thead>\n",
       "  <tbody>\n",
       "    <tr>\n",
       "      <td>0</td>\n",
       "      <td>https://politico.com/magazine/story/2019/10/23...</td>\n",
       "      <td>politico, realclearpolitics</td>\n",
       "      <td>politico</td>\n",
       "    </tr>\n",
       "    <tr>\n",
       "      <td>1</td>\n",
       "      <td>https://politico.com/magazine/story/2019/10/21...</td>\n",
       "      <td>politico, realclearpolitics</td>\n",
       "      <td>politico</td>\n",
       "    </tr>\n",
       "    <tr>\n",
       "      <td>2</td>\n",
       "      <td>https://politico.com/news/2019/10/30/kamala-ha...</td>\n",
       "      <td>politico, realclearpolitics</td>\n",
       "      <td>politico</td>\n",
       "    </tr>\n",
       "    <tr>\n",
       "      <td>3</td>\n",
       "      <td>https://politico.com/magazine/story/2019/10/30...</td>\n",
       "      <td>politico, realclearpolitics</td>\n",
       "      <td>politico</td>\n",
       "    </tr>\n",
       "    <tr>\n",
       "      <td>4</td>\n",
       "      <td>https://politico.com/news/2019/10/31/trump-fed...</td>\n",
       "      <td>politico, realclearpolitics</td>\n",
       "      <td>politico</td>\n",
       "    </tr>\n",
       "    <tr>\n",
       "      <td>...</td>\n",
       "      <td>...</td>\n",
       "      <td>...</td>\n",
       "      <td>...</td>\n",
       "    </tr>\n",
       "    <tr>\n",
       "      <td>65</td>\n",
       "      <td>https://nbcnews.com/nightly-news/video/katie-h...</td>\n",
       "      <td>msnbc, nbcnews</td>\n",
       "      <td>nbcnews</td>\n",
       "    </tr>\n",
       "    <tr>\n",
       "      <td>66</td>\n",
       "      <td>https://nbcnews.com/news/latino/does-congress-...</td>\n",
       "      <td>msnbc, nbcnews</td>\n",
       "      <td>nbcnews</td>\n",
       "    </tr>\n",
       "    <tr>\n",
       "      <td>67</td>\n",
       "      <td>https://msnbc.com/the-last-word/watch/trump-s-...</td>\n",
       "      <td>msnbc, nbcnews</td>\n",
       "      <td>msnbc</td>\n",
       "    </tr>\n",
       "    <tr>\n",
       "      <td>68</td>\n",
       "      <td>https://nbcnews.com/tech/tech-news/jack-dorsey...</td>\n",
       "      <td>msnbc, nbcnews</td>\n",
       "      <td>nbcnews</td>\n",
       "    </tr>\n",
       "    <tr>\n",
       "      <td>69</td>\n",
       "      <td>https://usatoday.com/story/news/politics/elect...</td>\n",
       "      <td>nationalreview, usatoday</td>\n",
       "      <td>usatoday</td>\n",
       "    </tr>\n",
       "  </tbody>\n",
       "</table>\n",
       "<p>70 rows × 3 columns</p>\n",
       "</div>"
      ],
      "text/plain": [
       "                                                  url  \\\n",
       "0   https://politico.com/magazine/story/2019/10/23...   \n",
       "1   https://politico.com/magazine/story/2019/10/21...   \n",
       "2   https://politico.com/news/2019/10/30/kamala-ha...   \n",
       "3   https://politico.com/magazine/story/2019/10/30...   \n",
       "4   https://politico.com/news/2019/10/31/trump-fed...   \n",
       "..                                                ...   \n",
       "65  https://nbcnews.com/nightly-news/video/katie-h...   \n",
       "66  https://nbcnews.com/news/latino/does-congress-...   \n",
       "67  https://msnbc.com/the-last-word/watch/trump-s-...   \n",
       "68  https://nbcnews.com/tech/tech-news/jack-dorsey...   \n",
       "69  https://usatoday.com/story/news/politics/elect...   \n",
       "\n",
       "                           pubs actual_pub  \n",
       "0   politico, realclearpolitics   politico  \n",
       "1   politico, realclearpolitics   politico  \n",
       "2   politico, realclearpolitics   politico  \n",
       "3   politico, realclearpolitics   politico  \n",
       "4   politico, realclearpolitics   politico  \n",
       "..                          ...        ...  \n",
       "65               msnbc, nbcnews    nbcnews  \n",
       "66               msnbc, nbcnews    nbcnews  \n",
       "67               msnbc, nbcnews      msnbc  \n",
       "68               msnbc, nbcnews    nbcnews  \n",
       "69     nationalreview, usatoday   usatoday  \n",
       "\n",
       "[70 rows x 3 columns]"
      ]
     },
     "metadata": {},
     "output_type": "display_data"
    }
   ],
   "source": [
    "collect_result = crawler.collect(); display(*collect_result)"
   ]
  },
  {
   "cell_type": "markdown",
   "metadata": {},
   "source": [
    "# 2. 해당 URL의 뉴스를 크롤링한다"
   ]
  },
  {
   "cell_type": "code",
   "execution_count": 12,
   "metadata": {
    "scrolled": true
   },
   "outputs": [
    {
     "name": "stdout",
     "output_type": "stream",
     "text": [
      "8.64% (13.12 seconds): Crawling... techcrunch          "
     ]
    },
    {
     "name": "stderr",
     "output_type": "stream",
     "text": [
      "Some characters could not be decoded, and were replaced with REPLACEMENT CHARACTER.\n"
     ]
    },
    {
     "name": "stdout",
     "output_type": "stream",
     "text": [
      "24.14% (32.60 seconds): Crawling... yahoo               "
     ]
    },
    {
     "name": "stderr",
     "output_type": "stream",
     "text": [
      "Some characters could not be decoded, and were replaced with REPLACEMENT CHARACTER.\n"
     ]
    },
    {
     "name": "stdout",
     "output_type": "stream",
     "text": [
      "100.00% (221.36 seconds): Crawling... yahoo               \n",
      "\n"
     ]
    },
    {
     "data": {
      "text/html": [
       "<div>\n",
       "<style scoped>\n",
       "    .dataframe tbody tr th:only-of-type {\n",
       "        vertical-align: middle;\n",
       "    }\n",
       "\n",
       "    .dataframe tbody tr th {\n",
       "        vertical-align: top;\n",
       "    }\n",
       "\n",
       "    .dataframe thead tr th {\n",
       "        text-align: left;\n",
       "    }\n",
       "</style>\n",
       "<table border=\"1\" class=\"dataframe\">\n",
       "  <thead>\n",
       "    <tr>\n",
       "      <th></th>\n",
       "      <th colspan=\"3\" halign=\"left\">collect</th>\n",
       "      <th colspan=\"3\" halign=\"left\">crawl</th>\n",
       "    </tr>\n",
       "    <tr>\n",
       "      <th></th>\n",
       "      <th>collected</th>\n",
       "      <th>collected_unique</th>\n",
       "      <th>selected</th>\n",
       "      <th>downloaded</th>\n",
       "      <th>trashed</th>\n",
       "      <th>total</th>\n",
       "    </tr>\n",
       "  </thead>\n",
       "  <tbody>\n",
       "    <tr>\n",
       "      <td>all</td>\n",
       "      <td>25765</td>\n",
       "      <td>25695</td>\n",
       "      <td>671</td>\n",
       "      <td>362</td>\n",
       "      <td>309</td>\n",
       "      <td>671</td>\n",
       "    </tr>\n",
       "    <tr>\n",
       "      <td>investing.com</td>\n",
       "      <td>936</td>\n",
       "      <td>936</td>\n",
       "      <td>95</td>\n",
       "      <td>28</td>\n",
       "      <td>67</td>\n",
       "      <td>95</td>\n",
       "    </tr>\n",
       "    <tr>\n",
       "      <td>reuters</td>\n",
       "      <td>1120</td>\n",
       "      <td>1120</td>\n",
       "      <td>94</td>\n",
       "      <td>44</td>\n",
       "      <td>50</td>\n",
       "      <td>94</td>\n",
       "    </tr>\n",
       "    <tr>\n",
       "      <td>euronews</td>\n",
       "      <td>877</td>\n",
       "      <td>877</td>\n",
       "      <td>64</td>\n",
       "      <td>5</td>\n",
       "      <td>59</td>\n",
       "      <td>64</td>\n",
       "    </tr>\n",
       "    <tr>\n",
       "      <td>yahoo</td>\n",
       "      <td>394</td>\n",
       "      <td>394</td>\n",
       "      <td>55</td>\n",
       "      <td>32</td>\n",
       "      <td>23</td>\n",
       "      <td>55</td>\n",
       "    </tr>\n",
       "    <tr>\n",
       "      <td>...</td>\n",
       "      <td>...</td>\n",
       "      <td>...</td>\n",
       "      <td>...</td>\n",
       "      <td>...</td>\n",
       "      <td>...</td>\n",
       "      <td>...</td>\n",
       "    </tr>\n",
       "    <tr>\n",
       "      <td>afr</td>\n",
       "      <td>456</td>\n",
       "      <td>456</td>\n",
       "      <td>0</td>\n",
       "      <td>0</td>\n",
       "      <td>0</td>\n",
       "      <td>0</td>\n",
       "    </tr>\n",
       "    <tr>\n",
       "      <td>axios</td>\n",
       "      <td>131</td>\n",
       "      <td>131</td>\n",
       "      <td>0</td>\n",
       "      <td>0</td>\n",
       "      <td>0</td>\n",
       "      <td>0</td>\n",
       "    </tr>\n",
       "    <tr>\n",
       "      <td>cbs</td>\n",
       "      <td>417</td>\n",
       "      <td>417</td>\n",
       "      <td>0</td>\n",
       "      <td>0</td>\n",
       "      <td>0</td>\n",
       "      <td>0</td>\n",
       "    </tr>\n",
       "    <tr>\n",
       "      <td>nationalreview</td>\n",
       "      <td>704</td>\n",
       "      <td>702</td>\n",
       "      <td>0</td>\n",
       "      <td>0</td>\n",
       "      <td>0</td>\n",
       "      <td>0</td>\n",
       "    </tr>\n",
       "    <tr>\n",
       "      <td>cryptonews</td>\n",
       "      <td>331</td>\n",
       "      <td>331</td>\n",
       "      <td>0</td>\n",
       "      <td>0</td>\n",
       "      <td>0</td>\n",
       "      <td>0</td>\n",
       "    </tr>\n",
       "  </tbody>\n",
       "</table>\n",
       "<p>74 rows × 6 columns</p>\n",
       "</div>"
      ],
      "text/plain": [
       "                 collect                                crawl              \n",
       "               collected collected_unique selected downloaded trashed total\n",
       "all                25765            25695      671        362     309   671\n",
       "investing.com        936              936       95         28      67    95\n",
       "reuters             1120             1120       94         44      50    94\n",
       "euronews             877              877       64          5      59    64\n",
       "yahoo                394              394       55         32      23    55\n",
       "...                  ...              ...      ...        ...     ...   ...\n",
       "afr                  456              456        0          0       0     0\n",
       "axios                131              131        0          0       0     0\n",
       "cbs                  417              417        0          0       0     0\n",
       "nationalreview       704              702        0          0       0     0\n",
       "cryptonews           331              331        0          0       0     0\n",
       "\n",
       "[74 rows x 6 columns]"
      ]
     },
     "execution_count": 12,
     "metadata": {},
     "output_type": "execute_result"
    }
   ],
   "source": [
    "crawl_result = crawler.crawl(); crawl_result"
   ]
  },
  {
   "cell_type": "markdown",
   "metadata": {},
   "source": [
    "# 3. 뉴스를 저장한다"
   ]
  },
  {
   "cell_type": "code",
   "execution_count": 13,
   "metadata": {},
   "outputs": [
    {
     "name": "stdout",
     "output_type": "stream",
     "text": [
      "Recording to bigquery storage... done (21.00 seconds)\n"
     ]
    }
   ],
   "source": [
    "crawler.record()"
   ]
  },
  {
   "cell_type": "markdown",
   "metadata": {},
   "source": [
    "# 4. 결과보고"
   ]
  },
  {
   "cell_type": "code",
   "execution_count": 14,
   "metadata": {},
   "outputs": [],
   "source": [
    "crawler.report()"
   ]
  },
  {
   "cell_type": "code",
   "execution_count": null,
   "metadata": {},
   "outputs": [],
   "source": []
  },
  {
   "cell_type": "code",
   "execution_count": null,
   "metadata": {},
   "outputs": [],
   "source": []
  },
  {
   "cell_type": "code",
   "execution_count": null,
   "metadata": {},
   "outputs": [],
   "source": []
  },
  {
   "cell_type": "code",
   "execution_count": null,
   "metadata": {},
   "outputs": [],
   "source": []
  },
  {
   "cell_type": "code",
   "execution_count": 66,
   "metadata": {},
   "outputs": [],
   "source": [
    "from pathlib import Path\n",
    "downloaded = [p.stem for p in Path('newsdata/downloaded').glob('**/*.json')]\n",
    "trashed = [p.stem for p in Path('newsdata/trashed').glob('**/*.json')]"
   ]
  },
  {
   "cell_type": "code",
   "execution_count": 65,
   "metadata": {},
   "outputs": [],
   "source": [
    "for path in list(Path('newsdata/downloaded').glob('**/*.json'))[:10000]:\n",
    "    path.unlink()"
   ]
  },
  {
   "cell_type": "code",
   "execution_count": null,
   "metadata": {},
   "outputs": [],
   "source": []
  },
  {
   "cell_type": "code",
   "execution_count": 53,
   "metadata": {},
   "outputs": [],
   "source": [
    "from pathlib import Path\n",
    "import json\n",
    "import smtplib\n",
    "from email.mime.text import MIMEText\n",
    "from email.mime.multipart import MIMEMultipart\n",
    "from email.header import Header"
   ]
  },
  {
   "cell_type": "code",
   "execution_count": 54,
   "metadata": {},
   "outputs": [
    {
     "data": {
      "text/plain": [
       "{'host': 'smtp.gmail.com',\n",
       " 'from': 'gem763@gmail.com',\n",
       " 'to': ['gem763@gmail.com', 'sejin.kang@hanwha.com'],\n",
       " 'pw': 'kkangse1'}"
      ]
     },
     "execution_count": 54,
     "metadata": {},
     "output_type": "execute_result"
    }
   ],
   "source": [
    "acc_fname = 'smtp_gmail.json'\n",
    "acc = json.loads(Path(acc_fname).read_text()); acc"
   ]
  },
  {
   "cell_type": "code",
   "execution_count": 55,
   "metadata": {},
   "outputs": [],
   "source": [
    "msg = MIMEMultipart('alternative')\n",
    "msg['Subject'] = Header('NEWS CRAWLING REPORT', 'utf-8')\n",
    "msg['From'] = acc['from']\n",
    "msg['To'] = ', '.join(acc['to'])\n",
    "msg.attach(MIMEText(crawler.crawl_summary.to_html(), 'html'))\n",
    "\n",
    "with smtplib.SMTP_SSL(acc['host']) as smtp:\n",
    "    smtp.login(acc['from'], acc['pw'])\n",
    "    smtp.send_message(msg)"
   ]
  }
 ],
 "metadata": {
  "kernelspec": {
   "display_name": "Python 3",
   "language": "python",
   "name": "python3"
  },
  "language_info": {
   "codemirror_mode": {
    "name": "ipython",
    "version": 3
   },
   "file_extension": ".py",
   "mimetype": "text/x-python",
   "name": "python",
   "nbconvert_exporter": "python",
   "pygments_lexer": "ipython3",
   "version": "3.7.3"
  }
 },
 "nbformat": 4,
 "nbformat_minor": 2
}
