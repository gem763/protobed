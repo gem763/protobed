{
 "cells": [
  {
   "cell_type": "code",
   "execution_count": 1,
   "metadata": {},
   "outputs": [],
   "source": [
    "from data.models import Newsdata\n",
    "import spacy\n",
    "from collections import Counter"
   ]
  },
  {
   "cell_type": "code",
   "execution_count": 2,
   "metadata": {},
   "outputs": [],
   "source": [
    "nlp = spacy.load(\"en_core_web_lg\")"
   ]
  },
  {
   "cell_type": "code",
   "execution_count": 5,
   "metadata": {},
   "outputs": [],
   "source": [
    "news = Newsdata.objects.filter(publisher='cnn')"
   ]
  },
  {
   "cell_type": "code",
   "execution_count": 38,
   "metadata": {},
   "outputs": [],
   "source": [
    "doc1 = nlp('financial economic')\n",
    "doc2 = nlp(news[150].text)"
   ]
  },
  {
   "cell_type": "code",
   "execution_count": 39,
   "metadata": {},
   "outputs": [
    {
     "data": {
      "text/plain": [
       "0.537876448762856"
      ]
     },
     "execution_count": 39,
     "metadata": {},
     "output_type": "execute_result"
    }
   ],
   "source": [
    "doc1.similarity(doc2)"
   ]
  },
  {
   "cell_type": "code",
   "execution_count": 37,
   "metadata": {
    "collapsed": true
   },
   "outputs": [
    {
     "data": {
      "text/plain": [
       "'(CNN) — Over the past 10 weeks, shocking images have emerged from Hong Kong \\'s pro-democracy protests: tear gas has been fired outside shops, protesters and police have clashed in dramatic face-offs, and thousands of demonstrators occupied the city\\'s airport.\\n\\nWhile millions have come out to peacefully march, in recent weeks the demonstrations have sometimes turned violent in public places, disrupting the city\\'s transport network.\\n\\nAs well as a financial hub, Hong Kong is a popular tourism destination which saw 29 million overnight visitor arrivals last year, according to government statistics.\\n\\nWith the unrest showing no sign of stopping any time soon, is it still safe to visit Hong Kong?\\n\\nWhat do the Hong Kong authorities say?\\n\\nThe Hong Kong government is clear: The city is still open for business.\\n\\n\"Hong Kong remains a welcoming city for tourists and investors, a safe place for travelers from around the world,\" the government said on August 14 on a web page launched in response to traveler concerns.\\n\\nThe site features news on the protests, transport updates and clarifications on rumors that visitors may have heard.\\n\\n\"The government, the business sector ... as well as the community at large, all stand ready to welcome and assist visitors to Hong Kong any time,\" the site said.\\n\\nHowever, the web page also acknowledges that in recent weeks protesters have blocked roads, vandalized property and clashed with police.\\n\\nTravel agents, hotels and business organizations are trying to minimize disruptions, the government said.\\n\\nWhat do overseas governments say?\\n\\nAt least 28 countries have issued travel advisories about Hong Kong, according to HK\\'s Airport Authority Chief Executive Lam Tin-fuk. Those countries include the United States, Australia, United Kingdom, Ireland, Japan and Singapore.\\n\\nBut none of these nations have advised tourists to avoid Hong Kong. They\\'re urging visitors to exercise increased caution and steer clear of areas where demonstrations are taking place.\\n\\nIs it still possible to fly to Hong Kong?\\n\\nIn general, yes. Airlines are still flying in and out of Hong Kong.\\n\\nHowever, when protesters occupied Hong Kong International Airport on August 11 and 12, nearly 1,000 flights were disrupted, according to the Airport Authority\\'s Lam Tin-fuk. People flying out of Hong Kong were worst affected, with many departing flights simply canceled, but some incoming flights were impacted too.\\n\\nAnother airport occupation is possible, so a similar thing could happen again. However, a court injunction has been issued restricting people from obstructing or interfering with the running of the airport. That injunction will remain in place until August 23.\\n\\nIt\\'s also worth noting that during 10 weeks of protests the airport has only been brought to a standstill on two occasions. Those demonstrations were mostly peaceful -- but protesters did clash with police inside the airport, escalating tensions.\\n\\nIf my flight out of Hong Kong is canceled what should I do?\\n\\nIf your flight is canceled, the airline should reschedule it fairly quickly.\\n\\nTravelers reported having to book their own accommodation for while they were stranded, but some airlines including Qantas agreed to cover the cost of the extra hotel nights and food for those days.\\n\\nIf you need to leave urgently, it is still possible to get out of Hong Kong. Travelers could take a car, train or bus to Shenzhen in neighboring mainland China, where there is an international airport. To enter mainland China, however, visitors will need a visa which -- depending on what type of passport the applicant holds -- can be applied for at the border or in advance in Hong Kong.\\n\\nMacao also has an international airport and is a ferry ride away.\\n\\nWhat can I do to keep safe in Hong Kong?\\n\\nThere have been no reports of tourists being injured in the protests. And most marches are widely advertized well in advance, making it easy for visitors to avoid them.\\n\\nHowever, one of the protesters\\' mottoes is \"be like water\" -- a Bruce Lee-inspired saying, which encourages demonstrators to move quickly and fluidly around the city.\\n\\nThat means demonstrations can occur with little or no notice.\\n\\nTo stay safe, keep an eye on local media reports to monitor which areas are affected, especially at weekends when most protests take place.\\n\\nThe UK Foreign Office recommends that visitors \"remain vigilant, follow the advice of local authorities and move away quickly to a safe place if there are signs of disorder.\"\\n\\nMany countries have consulates in Hong Kong which can help tourists if they run into trouble. During Monday\\'s airport protest, for example, Australian consulate officials were at the airport to help Australian tourists.\\n\\nIs it easy to move around Hong Kong when demonstrations are happening?\\n\\nThe short answer is: It depends on the protest ... and where you plan to be.\\n\\nProtesters have blocked key roads and tunnels, while during some mass marches overloaded subway stations have been closed. That has, at times, made it challenging to get around Hong Kong.\\n\\nHowever, during most of the demonstrations, transport links outside the neighborhoods where the protests are taking place are unaffected.\\n\\nIt can be surreal: tear gas might be fogging the streets of shopping hub of Tsim Sha Tsui, but in Central -- just a stone\\'s throw away over Victoria Harbor -- the subway is running, stores and restaurants are open and life feels normal.\\n\\nTear gas ... that doesn\\'t sound safe?\\n\\nTear gas isn\\'t pretty. And increasingly this is what police are using to disperse the hardcore groups of protesters who tend to remain at the end of a demonstration.\\n\\nThat has resulted in tear gas being fired in residential areas and in places such as Tsim Sha Tsui and Causeway Bay, which are popular with tourists.\\n\\nHowever, if you keep clear of areas with protests then you should be able to avoid getting caught up in the tear gas.\\n\\nAre tourists still coming to Hong Kong?\\n\\nYes. Tourists are still arriving, restaurants are still open, shops are still selling. None of the main tourist attractions -- the Star Ferry, the night markets, the Peak Tram -- have been closed.\\n\\nThere are signs, however, that the unrest could be denting how many holidaymakers are visiting the city.\\n\\nBetween June 16 and July 13, during which time there were several huge demonstrations, flight bookings to Hong Kong from Asia fell by 5.4% on the same period last year, according to analysis firm ForwardKeys.\\n\\nFinally, are foreigners being monitored by the government?'"
      ]
     },
     "execution_count": 37,
     "metadata": {},
     "output_type": "execute_result"
    }
   ],
   "source": [
    "news[110].text"
   ]
  },
  {
   "cell_type": "code",
   "execution_count": 11,
   "metadata": {
    "collapsed": true
   },
   "outputs": [
    {
     "data": {
      "text/plain": [
       "'(CNN) Ten years after first showing an interest in the equine world, Sheikh Fahad bin Abdullah Al Thani has become a serious player as well as immersing himself in the heartbeat of British horse racing in Newmarket.\\n\\nAnd not just in horse racing -- in Newmarket seven-a-side football circles, Sheikh Fahad has earned himself a reputation as as a lethal defender.\\n\\nOn the surface, it is an unlikely moniker for the member of the Qatari Royal family, who has helped transform British horse racing from sponsoring the once struggling Champions Day by QIPCO to owning winners of races ranging from the Melbourne Cup to the St. Leger.\\n\\nHis racing manager David Redvers -- the man the sheikh first approached to get into the sport -- said: \"He\\'s exceptionally passionate about it. He lives in Newmarket and I don\\'t think he\\'s ever missed a race where we\\'ve had a runner.\\n\\n\"Plus, he sponsors a seven-a-side football team. I think he\\'s a lethal defender and you need to look after your ankles! But he\\'s made British racing his home and we\\'re lucky to have him.\"\\n\\nRedvers is particularly grateful. At the time he was first approached, Redvers\\' Tweenhills operation was struggling having, as he put it, \"just lost two stallions through premature demises,\" leaving his business in a precarious position.\\n\\nHe was contacted to say a Qatari sheikh wanted to buy a racehorse. At the same time, the so-called \"Fake Sheikh\" from the now defunct British newspaper the News of the World had been tricking high-profile celebrities, and Redvers was initially suspicious.\\n\\n\"When something like a sheikh wanting to buy comes out of the blue, of course you question it,\" he said. \"I had just landed in New Zealand but I immediately turned back round and came back.\"\\n\\nIn the meantime Redvers used a military contact to find out more about Sheikh Fahad , but almost missed what would prove to be a transformative meeting.\\n\\n\"It was 3 a.m. and I feel asleep at Sydney Airport so I missed my connecting flight,\" Redvers recalled, although he did manage to just make the meeting.\\n\\n\"We basically had a simple conversation in that he was fascinated with racing and wanted to get involved as an owner, to start small and, if it was profitable, to dip his toe in the water. It was music to my ears, I relished the challenge and rose to it.\"\\n\\nSheikh Fahad helped light the torch paper for the burgeoning horse racing interest from Qatar.\\n\\nMelbourne Cup glory\\n\\nThe first horse bought nearly doubled in value in the space of a week and, two years after that first conversation, they had won the prestigious Melbourne Cup with Dunaden.\\n\\n\"Suddenly, all the Qatari and racing world sat up bolt upright as to what one young nephew of the Emir had achieved on his own,\" said Redvers, who later helped the Sheikh and his brothers set up the hugely successful Qatar Racing as well as encouraging them to sponsor the Champions Series, a tie-up which still runs to this day.\\n\\n\"It\\'s been full-on investment from them and basically success breeds success. We thankfully had that right from the off.\"\\n\\nSheikh Fahad was just 20 when he first met Redvers. A decade on and the relationship has blossomed with the injection of interest and money from Qatar showing echoes of Dubai ruler Sheikh Mohammed bin Rashid Al Maktoum\\'s foray into British horse racing in the 1970s.\\n\\nAs for the key to his boss\\' success, Redvers is quite clear: \"One loves enthusiasm in someone and a shared enthusiasm is even better. From day one, I certainly felt this is a man I can work with. It\\'s obvious that you can use enthusiasm as a real force for good in horse racing.\\n\\n\"Take the British Champions Day concept for example. That was struggling to get off the ground, he loved the idea of Champions Day and that fact it was a wonderful opportunity to broaden the appeal of racing and bring in new people. It\\'s taken a lot of investment to make it happen and that can\\'t be relied on for ever.\"\\n\\nJUST WATCHED Why nutrition is important for race horses Replay More Videos ... MUST WATCH Why nutrition is important for race horses 02:42\\n\\n\\'You get less for murder these days\\'\\n\\nHigh-profile racing from Qatar is more than just Sheikh Fahad but his successful emergence also helped spawn Al Shaqab racing, owned by his uncle, with Redvers seeing Melbourne Cup-winner Dunaden as the key turning point.\\n\\n\"Suddenly Qataris who thought horse racing was the exclusive land of Sheikh Mohammed realized that anyone could give it a go and it raised the profile on the world stage,\" he added.\\n\\nRedvers refers to Sheikh Fahad \"as like family\" and likes to joke that \"you get less for murder these days\" of the decade they have been in partnership.\\n\\n\"He was 20 when I met him and he\\'s 30 now and I\\'ve enjoyed seeing him develop,\" said Redvers. \"He\\'s become an incredibly astute judge of form, there\\'s nothing for me to tell him now. Plus he\\'s very down to earth and very good company.\\n\\n\"He\\'s just as happy talking to the lads in the yard as he is any training. My remit is to run the business as profitably as I can. We made a significant profit last year and will do again this which is pretty rare in the horse racing world.\\n\\n\"Now we\\'re breeding the majority of the stock we race although we still buy a few to fill the gaps. He\\'ll continue to be large pat of this sport for years to come. Again, we\\'re lucky to have him.\"'"
      ]
     },
     "execution_count": 11,
     "metadata": {},
     "output_type": "execute_result"
    }
   ],
   "source": [
    "news[2].text"
   ]
  },
  {
   "cell_type": "code",
   "execution_count": 17,
   "metadata": {},
   "outputs": [],
   "source": [
    "import sys"
   ]
  },
  {
   "cell_type": "code",
   "execution_count": 53,
   "metadata": {},
   "outputs": [],
   "source": [
    "import django\n",
    "django.setup()"
   ]
  },
  {
   "cell_type": "code",
   "execution_count": 55,
   "metadata": {},
   "outputs": [],
   "source": [
    "from data.models import Newsdata"
   ]
  },
  {
   "cell_type": "code",
   "execution_count": 45,
   "metadata": {},
   "outputs": [],
   "source": [
    "parentdir = os.path.abspath(os.path.join(os.getcwd(), os.pardir, 'data'))\n",
    "sys.path.append(parentdir)"
   ]
  },
  {
   "cell_type": "code",
   "execution_count": 58,
   "metadata": {},
   "outputs": [
    {
     "data": {
      "text/plain": [
       "['',\n",
       " '../data',\n",
       " './data',\n",
       " '../data',\n",
       " 'C:\\\\Users\\\\infomax\\\\Documents\\\\GitHub\\\\protobed\\\\etc',\n",
       " 'C:\\\\Users\\\\infomax\\\\Anaconda3\\\\python37.zip',\n",
       " 'C:\\\\Users\\\\infomax\\\\Anaconda3\\\\DLLs',\n",
       " 'C:\\\\Users\\\\infomax\\\\Anaconda3\\\\lib',\n",
       " 'C:\\\\Users\\\\infomax\\\\Anaconda3',\n",
       " 'C:\\\\Users\\\\infomax\\\\Documents\\\\GitHub\\\\protobed\\\\venv',\n",
       " '',\n",
       " 'C:\\\\Users\\\\infomax\\\\Documents\\\\GitHub\\\\protobed\\\\venv\\\\lib\\\\site-packages',\n",
       " 'C:\\\\Users\\\\infomax\\\\Documents\\\\GitHub\\\\protobed\\\\venv\\\\lib\\\\site-packages\\\\IPython\\\\extensions',\n",
       " 'C:\\\\Users\\\\infomax\\\\.ipython',\n",
       " '.',\n",
       " 'C:\\\\Users\\\\infomax\\\\Documents\\\\GitHub\\\\protobed\\\\etc\\\\..',\n",
       " 'C:\\\\Users\\\\infomax\\\\Documents\\\\GitHub\\\\protobed',\n",
       " 'C:\\\\Users\\\\infomax\\\\Documents\\\\GitHub\\\\protobed\\\\data']"
      ]
     },
     "execution_count": 58,
     "metadata": {},
     "output_type": "execute_result"
    }
   ],
   "source": [
    "sys.path"
   ]
  },
  {
   "cell_type": "code",
   "execution_count": null,
   "metadata": {},
   "outputs": [],
   "source": []
  }
 ],
 "metadata": {
  "kernelspec": {
   "display_name": "Django Shell-Plus",
   "language": "python",
   "name": "django_extensions"
  },
  "language_info": {
   "codemirror_mode": {
    "name": "ipython",
    "version": 3
   },
   "file_extension": ".py",
   "mimetype": "text/x-python",
   "name": "python",
   "nbconvert_exporter": "python",
   "pygments_lexer": "ipython3",
   "version": "3.7.3"
  }
 },
 "nbformat": 4,
 "nbformat_minor": 2
}
