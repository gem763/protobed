{
 "cells": [
  {
   "cell_type": "code",
   "execution_count": 7,
   "metadata": {},
   "outputs": [],
   "source": [
    "import os\n",
    "import sys\n",
    "import glob\n",
    "import json\n",
    "from pathlib import Path"
   ]
  },
  {
   "cell_type": "code",
   "execution_count": 3,
   "metadata": {},
   "outputs": [],
   "source": [
    "os.environ['GOOGLE_APPLICATION_CREDENTIALS'] = os.path.abspath(os.path.join(os.getcwd(), 'nlp-project-253707-ed480ed908be.json'))"
   ]
  },
  {
   "cell_type": "code",
   "execution_count": 10,
   "metadata": {},
   "outputs": [],
   "source": [
    "files = glob.glob('newsdata/downloaded/*.json')"
   ]
  },
  {
   "cell_type": "code",
   "execution_count": 17,
   "metadata": {
    "collapsed": true
   },
   "outputs": [
    {
     "data": {
      "text/plain": [
       "\"The indices have enjoyed a couple days of positive trading at the end of the month. Optimistic comments on China trade coupled with end of the month window dressing and allocations have pushed the indices to the top of the trading range that has existed since early August. This morning the S&P 500 hit overhead almost perfectly at the 50-day simple moving average and then reversed.\\n\\nThe market has done a particularly good job of keeping traders off balance as it went from looking like it would break the downside of the trading range to nearly breaking out to the upside.\\n\\nAccording to Investopedia, the DJIA has fallen an average of 0.8% during the month of September since 1950. The S&P 500 and Nasdaq have not done slightly better but have on average lost 0.5% during the month.\\n\\nIt is important to keep in mind that seasonality is a tendency and not a certainty. There are many exceptions to the general rule but traders are aware of the tendency and can help to make it self-fulling.\\n\\nThe setup for this coming September is particularly ominous as the debate over China trade, Fed interest rate cuts and the potential for a recession has been reaching an extreme level. There has not been this much intense debate over the potential for a major macro-economic swing in a long time.\\n\\nMy best advice is to be aware of the potential landmines and stay highly reactive to potential changes in the price action. As we've seen this past week, it is very easy for overly aggressive bears to be caught leaning the wrong way.\\n\\nThe optimistic view is that a chaotic September would be a good setup for some great trading into the end of the year.\\n\\nI'm going to close out the month of August with about 70% cash, some smaller positions, and a few index shorts. I feel well prepared for the Ides of September.\""
      ]
     },
     "execution_count": 17,
     "metadata": {},
     "output_type": "execute_result"
    }
   ],
   "source": [
    "json.loads(Path(files[5]).read_text())['text']"
   ]
  },
  {
   "cell_type": "code",
   "execution_count": 16,
   "metadata": {},
   "outputs": [
    {
     "name": "stdout",
     "output_type": "stream",
     "text": [
      "====================\n",
      "name            : /Finance/Investing\n",
      "confidence      : 0.8600000143051147\n",
      "====================\n",
      "name            : /News/Business News\n",
      "confidence      : 0.7300000190734863\n",
      "====================\n",
      "name            : /Business & Industrial\n",
      "confidence      : 0.6800000071525574\n"
     ]
    }
   ],
   "source": [
    "import six\n",
    "from google.cloud import language\n",
    "from google.cloud.language import enums\n",
    "from google.cloud.language import types\n",
    "\n",
    "# text = 'Android is a mobile operating system developed by Google, ' \\\n",
    "#        'based on the Linux kernel and designed primarily for ' \\\n",
    "#        'touchscreen mobile devices such as smartphones and tablets.'\n",
    "\n",
    "text = json.loads(Path(files[5]).read_text())['text']\n",
    "\n",
    "client = language.LanguageServiceClient()\n",
    "\n",
    "if isinstance(text, six.binary_type):\n",
    "    text = text.decode('utf-8')\n",
    "\n",
    "document = types.Document(\n",
    "    content=text.encode('utf-8'),\n",
    "    type=enums.Document.Type.PLAIN_TEXT)\n",
    "\n",
    "categories = client.classify_text(document).categories\n",
    "\n",
    "for category in categories:\n",
    "    print(u'=' * 20)\n",
    "    print(u'{:<16}: {}'.format('name', category.name))\n",
    "    print(u'{:<16}: {}'.format('confidence', category.confidence))"
   ]
  },
  {
   "cell_type": "code",
   "execution_count": null,
   "metadata": {},
   "outputs": [],
   "source": []
  }
 ],
 "metadata": {
  "kernelspec": {
   "display_name": "Python 3",
   "language": "python",
   "name": "python3"
  },
  "language_info": {
   "codemirror_mode": {
    "name": "ipython",
    "version": 3
   },
   "file_extension": ".py",
   "mimetype": "text/x-python",
   "name": "python",
   "nbconvert_exporter": "python",
   "pygments_lexer": "ipython3",
   "version": "3.7.1"
  }
 },
 "nbformat": 4,
 "nbformat_minor": 2
}
