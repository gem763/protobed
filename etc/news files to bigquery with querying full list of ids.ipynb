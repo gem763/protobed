{
 "cells": [
  {
   "cell_type": "markdown",
   "metadata": {},
   "source": [
    "# NEWS 파일(json)을 Bigquery에 저장"
   ]
  },
  {
   "cell_type": "code",
   "execution_count": 14,
   "metadata": {},
   "outputs": [],
   "source": [
    "import os\n",
    "import sys\n",
    "import json\n",
    "import requests\n",
    "import pickle\n",
    "import gzip\n",
    "import pandas as pd\n",
    "import pandas_gbq as gbq\n",
    "from pathlib import Path\n",
    "from google.oauth2 import service_account\n",
    "from google.cloud import bigquery\n",
    "from IPython.core.debugger import set_trace\n",
    "from tqdm.auto import tqdm\n",
    "tqdm.pandas()"
   ]
  },
  {
   "cell_type": "markdown",
   "metadata": {},
   "source": [
    "## Configuration"
   ]
  },
  {
   "cell_type": "code",
   "execution_count": 15,
   "metadata": {},
   "outputs": [],
   "source": [
    "proj = 'global-news-crawl'\n",
    "table_downloaded = 'news_dataset.downloaded'\n",
    "table_trashed = 'news_dataset.trashed'\n",
    "credentials = service_account.Credentials.from_service_account_file('global-news-crawl-c48d7cd9aa81.json')"
   ]
  },
  {
   "cell_type": "markdown",
   "metadata": {},
   "source": [
    "## Bigquery에서 기존 뉴스 ID 리스트 받기"
   ]
  },
  {
   "cell_type": "code",
   "execution_count": 16,
   "metadata": {},
   "outputs": [
    {
     "name": "stdout",
     "output_type": "stream",
     "text": [
      "Wall time: 20.4 s\n"
     ]
    }
   ],
   "source": [
    "%%time\n",
    "qry_0 = 'SELECT id FROM `{}`'.format(proj + '.' + table_downloaded)\n",
    "ids_downloaded = gbq.read_gbq(qry_0, project_id=proj, credentials=credentials)#, use_bqstorage_api=True)"
   ]
  },
  {
   "cell_type": "code",
   "execution_count": 17,
   "metadata": {},
   "outputs": [
    {
     "name": "stdout",
     "output_type": "stream",
     "text": [
      "Wall time: 5.99 s\n"
     ]
    }
   ],
   "source": [
    "%%time\n",
    "qry_1 = 'SELECT id FROM `{}`'.format(proj + '.' + table_trashed)\n",
    "ids_trashed = gbq.read_gbq(qry_1, project_id=proj, credentials=credentials)"
   ]
  },
  {
   "cell_type": "code",
   "execution_count": 18,
   "metadata": {},
   "outputs": [],
   "source": [
    "ids_downloaded_set = set(ids_downloaded.id)\n",
    "ids_trashed_set = set(ids_trashed.id)"
   ]
  },
  {
   "cell_type": "code",
   "execution_count": 19,
   "metadata": {},
   "outputs": [],
   "source": [
    "assert len(ids_downloaded) == len(ids_downloaded_set), 'duplicated in downloaded'\n",
    "assert len(ids_trashed) == len(ids_trashed_set), 'duplicated in trashed'\n",
    "assert len(ids_downloaded_set & ids_trashed_set) == 0, 'ids overlapping'"
   ]
  },
  {
   "cell_type": "code",
   "execution_count": 20,
   "metadata": {},
   "outputs": [
    {
     "data": {
      "text/plain": [
       "323763"
      ]
     },
     "execution_count": 20,
     "metadata": {},
     "output_type": "execute_result"
    }
   ],
   "source": [
    "newsids = ids_downloaded_set | ids_trashed_set; len(newsids)"
   ]
  },
  {
   "cell_type": "code",
   "execution_count": 21,
   "metadata": {},
   "outputs": [
    {
     "data": {
      "text/plain": [
       "(301135, 22628)"
      ]
     },
     "execution_count": 21,
     "metadata": {},
     "output_type": "execute_result"
    }
   ],
   "source": [
    "len(ids_downloaded_set), len(ids_trashed_set)"
   ]
  },
  {
   "cell_type": "markdown",
   "metadata": {},
   "source": [
    "## 파일에서 뉴스정보 추출\n",
    "나중에는 필요없는 과정이다. 다운로드 받은 즉시 바로 Bigquery에 전송할 것이므로"
   ]
  },
  {
   "cell_type": "code",
   "execution_count": 22,
   "metadata": {},
   "outputs": [],
   "source": [
    "def extract_contents(newsids=None, where=None, n=1000):\n",
    "    df = {}\n",
    "    _n = 0\n",
    "    \n",
    "    for file in Path(where).glob('**/*.json'):\n",
    "        id = file.stem\n",
    "        \n",
    "        if id not in newsids:\n",
    "            try:\n",
    "                js = json.loads(file.read_text())\n",
    "            \n",
    "                if 'authors' in js:\n",
    "                    js['authors'] = ', '.join(js['authors'])\n",
    "\n",
    "                df[id] = js\n",
    "\n",
    "                _n += 1\n",
    "                print('\\r{}'.format(_n), end='')\n",
    "                if _n == n: break\n",
    "                    \n",
    "            except:\n",
    "                print(file)\n",
    "           \n",
    "    df = pd.DataFrame.from_dict(df, orient='index')\n",
    "    df.index.name = 'id'\n",
    "    return df.reset_index()"
   ]
  },
  {
   "cell_type": "code",
   "execution_count": 23,
   "metadata": {
    "scrolled": false
   },
   "outputs": [
    {
     "name": "stdout",
     "output_type": "stream",
     "text": [
      "163\n",
      "\n",
      "78"
     ]
    }
   ],
   "source": [
    "df_downloaded = extract_contents(newsids=newsids, where='newsdata/downloaded', n=50000); print('\\n')\n",
    "df_trashed = extract_contents(newsids=newsids, where='newsdata/trashed', n=30000)"
   ]
  },
  {
   "cell_type": "markdown",
   "metadata": {},
   "source": [
    "## downloaded와 trashed 간에 겹치는 게 없는지 확인\n",
    "기존의 뉴스파일을 Bigquery에 전송하는 과정에서, 이 둘간에 겹치는 사례가 종종 있었다\n",
    "(2019.10.18)"
   ]
  },
  {
   "cell_type": "code",
   "execution_count": 24,
   "metadata": {},
   "outputs": [],
   "source": [
    "intersect = set(df_trashed.id) & set(df_downloaded.id)\n",
    "assert len(intersect) == 0, 'ids overlapping'"
   ]
  },
  {
   "cell_type": "markdown",
   "metadata": {},
   "source": [
    "## Bigquery에 업로드"
   ]
  },
  {
   "cell_type": "code",
   "execution_count": 25,
   "metadata": {},
   "outputs": [
    {
     "name": "stderr",
     "output_type": "stream",
     "text": [
      "1it [00:06,  6.27s/it]\n",
      "1it [00:04,  4.02s/it]\n"
     ]
    }
   ],
   "source": [
    "gbq.to_gbq(df_downloaded, table_downloaded, project_id=proj, if_exists='append', chunksize=1000, credentials=credentials)\n",
    "gbq.to_gbq(df_trashed, table_trashed, project_id=proj, if_exists='append', chunksize=1000, credentials=credentials)"
   ]
  },
  {
   "cell_type": "code",
   "execution_count": null,
   "metadata": {},
   "outputs": [],
   "source": []
  },
  {
   "cell_type": "code",
   "execution_count": null,
   "metadata": {},
   "outputs": [],
   "source": []
  },
  {
   "cell_type": "code",
   "execution_count": null,
   "metadata": {},
   "outputs": [],
   "source": []
  }
 ],
 "metadata": {
  "kernelspec": {
   "display_name": "Python 3",
   "language": "python",
   "name": "python3"
  },
  "language_info": {
   "codemirror_mode": {
    "name": "ipython",
    "version": 3
   },
   "file_extension": ".py",
   "mimetype": "text/x-python",
   "name": "python",
   "nbconvert_exporter": "python",
   "pygments_lexer": "ipython3",
   "version": "3.7.3"
  }
 },
 "nbformat": 4,
 "nbformat_minor": 2
}
