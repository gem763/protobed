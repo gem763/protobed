{
 "cells": [
  {
   "cell_type": "markdown",
   "metadata": {},
   "source": [
    "# NEWS 파일(json)을 Bigquery에 저장"
   ]
  },
  {
   "cell_type": "code",
   "execution_count": 2,
   "metadata": {},
   "outputs": [],
   "source": [
    "import os\n",
    "import sys\n",
    "import json\n",
    "import requests\n",
    "import pickle\n",
    "import gzip\n",
    "import pandas as pd\n",
    "import pandas_gbq as gbq\n",
    "from pathlib import Path\n",
    "from google.oauth2 import service_account\n",
    "from google.cloud import bigquery\n",
    "from IPython.core.debugger import set_trace\n",
    "from tqdm.auto import tqdm\n",
    "tqdm.pandas()"
   ]
  },
  {
   "cell_type": "markdown",
   "metadata": {},
   "source": [
    "## Configuration"
   ]
  },
  {
   "cell_type": "code",
   "execution_count": 3,
   "metadata": {},
   "outputs": [],
   "source": [
    "proj = 'global-news-crawl'\n",
    "table_downloaded = 'news_dataset.downloaded'\n",
    "table_trashed = 'news_dataset.trashed'\n",
    "credentials = service_account.Credentials.from_service_account_file('global-news-crawl-c48d7cd9aa81.json')"
   ]
  },
  {
   "cell_type": "markdown",
   "metadata": {},
   "source": [
    "## Bigquery에서 기존 뉴스 ID 리스트 받기"
   ]
  },
  {
   "cell_type": "code",
   "execution_count": 7,
   "metadata": {},
   "outputs": [
    {
     "name": "stdout",
     "output_type": "stream",
     "text": [
      "Wall time: 11.7 s\n"
     ]
    }
   ],
   "source": [
    "%%time\n",
    "qry_0 = 'SELECT id FROM `{}`'.format(proj + '.' + table_downloaded)\n",
    "ids_downloaded = gbq.read_gbq(qry_0, project_id=proj, credentials=credentials)#, use_bqstorage_api=True)"
   ]
  },
  {
   "cell_type": "code",
   "execution_count": 19,
   "metadata": {},
   "outputs": [],
   "source": [
    "qry_1 = 'SELECT id FROM `{}`'.format(proj + '.' + table_trashed)\n",
    "ids_trashed = gbq.read_gbq(qry_1, project_id=proj, credentials=credentials)"
   ]
  },
  {
   "cell_type": "code",
   "execution_count": 20,
   "metadata": {},
   "outputs": [],
   "source": [
    "ids_downloaded_set = set(ids_downloaded.id)\n",
    "ids_trashed_set = set(ids_trashed.id)"
   ]
  },
  {
   "cell_type": "code",
   "execution_count": 21,
   "metadata": {},
   "outputs": [],
   "source": [
    "assert len(ids_downloaded) == len(ids_downloaded_set), 'duplicated in downloaded'\n",
    "assert len(ids_trashed) == len(ids_trashed_set), 'duplicated in downloaded'\n",
    "assert len(ids_downloaded_set & ids_trashed_set) == 0, 'ids overlapping'"
   ]
  },
  {
   "cell_type": "code",
   "execution_count": 22,
   "metadata": {},
   "outputs": [
    {
     "data": {
      "text/plain": [
       "371253"
      ]
     },
     "execution_count": 22,
     "metadata": {},
     "output_type": "execute_result"
    }
   ],
   "source": [
    "newsids = ids_downloaded_set | ids_trashed_set; len(newsids)"
   ]
  },
  {
   "cell_type": "code",
   "execution_count": 23,
   "metadata": {},
   "outputs": [
    {
     "data": {
      "text/plain": [
       "(229018, 142235)"
      ]
     },
     "execution_count": 23,
     "metadata": {},
     "output_type": "execute_result"
    }
   ],
   "source": [
    "len(ids_downloaded_set), len(ids_trashed_set)"
   ]
  },
  {
   "cell_type": "markdown",
   "metadata": {},
   "source": [
    "## 파일에서 뉴스정보 추출\n",
    "나중에는 필요없는 과정이다. 다운로드 받은 즉시 바로 Bigquery에 전송할 것이므로"
   ]
  },
  {
   "cell_type": "code",
   "execution_count": 24,
   "metadata": {},
   "outputs": [],
   "source": [
    "def extract_contents(newsids=None, where=None, n=1000):\n",
    "    df = {}\n",
    "    _n = 0\n",
    "    \n",
    "    for file in Path(where).glob('**/*.json'):\n",
    "        id = file.stem\n",
    "        \n",
    "        if id not in newsids:\n",
    "            try:\n",
    "                js = json.loads(file.read_text())\n",
    "            \n",
    "                if 'authors' in js:\n",
    "                    js['authors'] = ', '.join(js['authors'])\n",
    "\n",
    "                df[id] = js\n",
    "\n",
    "                _n += 1\n",
    "                print('\\r{}'.format(_n), end='')\n",
    "                if _n == n: break\n",
    "                    \n",
    "            except:\n",
    "                print(file)\n",
    "           \n",
    "    df = pd.DataFrame.from_dict(df, orient='index')\n",
    "    df.index.name = 'id'\n",
    "    return df.reset_index()"
   ]
  },
  {
   "cell_type": "code",
   "execution_count": 25,
   "metadata": {
    "scrolled": false
   },
   "outputs": [
    {
     "name": "stdout",
     "output_type": "stream",
     "text": [
      "2355\n",
      "\n",
      "1968"
     ]
    }
   ],
   "source": [
    "df_downloaded = extract_contents(newsids=newsids, where='newsdata/downloaded', n=50000); print('\\n')\n",
    "df_trashed = extract_contents(newsids=newsids, where='newsdata/trashed', n=30000)"
   ]
  },
  {
   "cell_type": "markdown",
   "metadata": {},
   "source": [
    "## downloaded와 trashed 간에 겹치는 게 없는지 확인\n",
    "기존의 뉴스파일을 Bigquery에 전송하는 과정에서, 이 둘간에 겹치는 사례가 종종 있었다\n",
    "(2019.10.18)"
   ]
  },
  {
   "cell_type": "code",
   "execution_count": 26,
   "metadata": {},
   "outputs": [],
   "source": [
    "intersect = set(df_trashed.id) & set(df_downloaded.id)\n",
    "assert len(intersect) == 0, 'ids overlapping'"
   ]
  },
  {
   "cell_type": "markdown",
   "metadata": {},
   "source": [
    "## Bigquery에 업로드"
   ]
  },
  {
   "cell_type": "code",
   "execution_count": 27,
   "metadata": {},
   "outputs": [
    {
     "name": "stderr",
     "output_type": "stream",
     "text": [
      "3it [00:20,  6.94s/it]\n",
      "2it [00:10,  5.34s/it]\n"
     ]
    }
   ],
   "source": [
    "gbq.to_gbq(df_downloaded, table_downloaded, project_id=proj, if_exists='append', chunksize=1000, credentials=credentials)\n",
    "gbq.to_gbq(df_trashed, table_trashed, project_id=proj, if_exists='append', chunksize=1000, credentials=credentials)"
   ]
  },
  {
   "cell_type": "code",
   "execution_count": null,
   "metadata": {},
   "outputs": [],
   "source": []
  },
  {
   "cell_type": "code",
   "execution_count": null,
   "metadata": {},
   "outputs": [],
   "source": []
  },
  {
   "cell_type": "code",
   "execution_count": null,
   "metadata": {},
   "outputs": [],
   "source": []
  },
  {
   "cell_type": "code",
   "execution_count": null,
   "metadata": {},
   "outputs": [],
   "source": []
  },
  {
   "cell_type": "code",
   "execution_count": 115,
   "metadata": {},
   "outputs": [],
   "source": [
    "class BigqueryLoader:\n",
    "    def __init__(self):\n",
    "        self.ids = self._get_ids()\n",
    "    \n",
    "    def _get_ids(self):\n",
    "        print('checking bigqueryloader status... ', end='')\n",
    "        \n",
    "        qry_ids = lambda prj, tb: 'SELECT id FROM `{}`'.format(prj + '.' + tb)\n",
    "        qry_downloaded = qry_ids(proj, table_downloaded)\n",
    "        qry_trashed = qry_ids(proj, table_trashed)\n",
    "        \n",
    "        ids_downloaded = gbq.read_gbq(qry_downloaded, project_id=proj, credentials=credentials)\n",
    "        ids_trashed = gbq.read_gbq(qry_trashed, project_id=proj, credentials=credentials)\n",
    "        \n",
    "        ids_downloaded_set = set(ids_downloaded.id)\n",
    "        ids_trashed_set = set(ids_trashed.id)\n",
    "        \n",
    "        if len(ids_downloaded) != len(ids_downloaded_set):\n",
    "            raise self.DuplicatesInSingleTable('duplicated in downloaded')\n",
    "\n",
    "        if len(ids_trashed) != len(ids_trashed_set):\n",
    "            raise self.DuplicatesInSingleTable('duplicated in trashed')\n",
    "\n",
    "        if len(ids_downloaded_set & ids_trashed_set) != 0:\n",
    "            raise self.DuplicatesBetweenTwoTables('duplicated between downloaded and trashed')\n",
    "    \n",
    "        ids = ids_downloaded_set | ids_trashed_set\n",
    "        \n",
    "        print('done')\n",
    "        print('we have: total {} ({} downloaded, {} trashed)'.format(len(ids), len(ids_downloaded_set), len(ids_trashed_set)))\n",
    "        return ids\n",
    "        \n",
    "        \n",
    "    def has(self, id):\n",
    "        return id in self.ids\n",
    "        \n",
    "    def upload(self, df, to, chunksize=1000):\n",
    "        gbq.to_gbq(df, to, project_id=proj, if_exists='append', chunksize=chunksize, credentials=credentials)\n",
    "        \n",
    "    class DuplicatesInSingleTable(Exception):\n",
    "        pass\n",
    "    \n",
    "    class DuplicatesBetweenTwoTables(Exception):\n",
    "        pass"
   ]
  },
  {
   "cell_type": "code",
   "execution_count": null,
   "metadata": {},
   "outputs": [],
   "source": []
  },
  {
   "cell_type": "code",
   "execution_count": null,
   "metadata": {},
   "outputs": [],
   "source": []
  },
  {
   "cell_type": "code",
   "execution_count": 41,
   "metadata": {},
   "outputs": [],
   "source": [
    "proj = 'global-news-crawl'\n",
    "table_downloaded = 'news_dataset.downloaded'\n",
    "table_trashed = 'news_dataset.trashed'\n",
    "credentials = service_account.Credentials.from_service_account_file('global-news-crawl-c48d7cd9aa81.json')\n",
    "\n",
    "localpath_to_downloaded = 'newsdata/downloaded'\n",
    "localpath_to_trashed = 'newsdata/trashed'\n",
    "\n",
    "\n",
    "class ContentManager:\n",
    "    def __init__(self, where='local'):\n",
    "        self.where = where\n",
    "        self.ids = self._get_ids(where)\n",
    "            \n",
    "            \n",
    "    def _get_ids(self, where):\n",
    "        print('checking news ids status... ', end='')\n",
    "\n",
    "        if where == 'bigquery':\n",
    "            qry_ids = lambda prj, tb: 'SELECT id FROM `{}`'.format(prj + '.' + tb)\n",
    "            qry_downloaded = qry_ids(proj, table_downloaded)\n",
    "            qry_trashed = qry_ids(proj, table_trashed)\n",
    "\n",
    "            ids_downloaded = gbq.read_gbq(qry_downloaded, project_id=proj, credentials=credentials).id\n",
    "            ids_trashed = gbq.read_gbq(qry_trashed, project_id=proj, credentials=credentials).id\n",
    "\n",
    "        elif where == 'local':\n",
    "            ids_downloaded = [p.stem for p in Path(localpath_to_downloaded).glob('**/*.json')]\n",
    "            ids_trashed = [p.stem for p in Path(localpath_to_trashed).glob('**/*.json')]\n",
    "\n",
    "\n",
    "        ids_downloaded_set = set(ids_downloaded)\n",
    "        ids_trashed_set = set(ids_trashed)\n",
    "        \n",
    "        if len(ids_downloaded) != len(ids_downloaded_set):\n",
    "            raise self.DuplicatesInSingleTable('duplicated in downloaded')\n",
    "\n",
    "        if len(ids_trashed) != len(ids_trashed_set):\n",
    "            raise self.DuplicatesInSingleTable('duplicated in trashed')\n",
    "\n",
    "        if len(ids_downloaded_set & ids_trashed_set) != 0:\n",
    "            raise self.DuplicatesBetweenTwoTables('duplicated between downloaded and trashed')\n",
    "    \n",
    "        ids = ids_downloaded_set | ids_trashed_set\n",
    "        \n",
    "        print('done')\n",
    "        print('we have: total {} ({} downloaded, {} trashed)'.format(len(ids), len(ids_downloaded_set), len(ids_trashed_set)))\n",
    "        return ids\n",
    "    \n",
    "    \n",
    "    def has(self, id):\n",
    "        return id in self.ids\n",
    "        \n",
    "        \n",
    "    def save(self, list_downloaded=None, list_trashed=None, chunksize=1000):\n",
    "        if self.where == 'bigquery':\n",
    "            self._save_to_bigquery(list_downloaded, list_trashed, chunksize)\n",
    "        \n",
    "        elif self.where == 'local':\n",
    "            self._save_to_local(list_downloaded, list_trashed)\n",
    "            \n",
    "            \n",
    "    def _save_to_local(self, list_downloaded, list_trashed):\n",
    "        if list_downloaded is not None:\n",
    "            for article in list_downloaded:\n",
    "                id = article.pop('id')\n",
    "                _dir = Path(localpath_to_downloaded)\n",
    "                _dir.mkdir(parent=True, exist_ok=True)\n",
    "                fname = id + '.json'\n",
    "                fpath = _dir / fname\n",
    "                with fpath.open('w') as f:\n",
    "                    json.dump(article)\n",
    "        \n",
    "        if list_trashed is not None:\n",
    "            for article in list_trashed:\n",
    "                id = article.pop('id')\n",
    "                _dir = Path(localpath_to_trashed + '/' + id[:3])\n",
    "                _dir.mkdir(parent=True, exist_ok=True)\n",
    "                fname = id + '.json'\n",
    "                fpath = _dir / fname\n",
    "                with fpath.open('w') as f:\n",
    "                    json.dump(article)        \n",
    "            \n",
    "            \n",
    "    def _save_to_bigquery(self, list_downloaded, list_trashed, chunksize):\n",
    "        if list_downloaded is not None:\n",
    "            df0 = pd.DataFrame(list_downloaded)\n",
    "            gbq.to_gbq(df0, table_downloaded, project_id=proj, if_exists='append', chunksize=chunksize, credentials=credentials)\n",
    "\n",
    "        if list_trashed is not None:\n",
    "            df1 = pd.DataFrame(list_trashed)\n",
    "            gbq.to_gbq(df1, table_trashed, project_id=proj, if_exists='append', chunksize=chunksize, credentials=credentials)\n",
    "                \n",
    "    \n",
    "    class DuplicatesInSingleTable(Exception):\n",
    "        pass\n",
    "    \n",
    "    class DuplicatesBetweenTwoTables(Exception):\n",
    "        pass"
   ]
  },
  {
   "cell_type": "code",
   "execution_count": 42,
   "metadata": {},
   "outputs": [
    {
     "name": "stdout",
     "output_type": "stream",
     "text": [
      "checking news ids status... done\n",
      "we have: total 378662 (233098 downloaded, 145564 trashed)\n"
     ]
    }
   ],
   "source": [
    "cmanager = ContentManager(where='local')"
   ]
  },
  {
   "cell_type": "code",
   "execution_count": null,
   "metadata": {},
   "outputs": [],
   "source": []
  },
  {
   "cell_type": "code",
   "execution_count": 32,
   "metadata": {},
   "outputs": [],
   "source": [
    "p = Path(\"newsdata/test\")\n",
    "p.mkdir(parents=True, exist_ok=True)\n",
    "fname = \"test.json\"\n",
    "fpath = p / fname\n",
    "with fpath.open(\"w\") as f:\n",
    "    json.dump({'a':1, 'b':2}, f)"
   ]
  },
  {
   "cell_type": "code",
   "execution_count": null,
   "metadata": {},
   "outputs": [],
   "source": []
  },
  {
   "cell_type": "code",
   "execution_count": 40,
   "metadata": {
    "collapsed": true
   },
   "outputs": [
    {
     "name": "stdout",
     "output_type": "stream",
     "text": [
      "> <ipython-input-40-7480e5057ae0>(1)<module>()\n",
      "----> 1 for file in Path('newsdata/downloaded').glob('**/*.json'):\n",
      "      2     fname = file.name\n",
      "      3     set_trace()\n",
      "\n",
      "ipdb> fname\n",
      "'000104e3e10318e0fae25e96eaabece27d88c56a.json'\n",
      "ipdb> q\n"
     ]
    },
    {
     "ename": "BdbQuit",
     "evalue": "",
     "output_type": "error",
     "traceback": [
      "\u001b[1;31m---------------------------------------------------------------------------\u001b[0m",
      "\u001b[1;31mBdbQuit\u001b[0m                                   Traceback (most recent call last)",
      "\u001b[1;32m<ipython-input-40-7480e5057ae0>\u001b[0m in \u001b[0;36m<module>\u001b[1;34m\u001b[0m\n\u001b[1;32m----> 1\u001b[1;33m \u001b[1;32mfor\u001b[0m \u001b[0mfile\u001b[0m \u001b[1;32min\u001b[0m \u001b[0mPath\u001b[0m\u001b[1;33m(\u001b[0m\u001b[1;34m'newsdata/downloaded'\u001b[0m\u001b[1;33m)\u001b[0m\u001b[1;33m.\u001b[0m\u001b[0mglob\u001b[0m\u001b[1;33m(\u001b[0m\u001b[1;34m'**/*.json'\u001b[0m\u001b[1;33m)\u001b[0m\u001b[1;33m:\u001b[0m\u001b[1;33m\u001b[0m\u001b[1;33m\u001b[0m\u001b[0m\n\u001b[0m\u001b[0;32m      2\u001b[0m     \u001b[0mfname\u001b[0m \u001b[1;33m=\u001b[0m \u001b[0mfile\u001b[0m\u001b[1;33m.\u001b[0m\u001b[0mname\u001b[0m\u001b[1;33m\u001b[0m\u001b[1;33m\u001b[0m\u001b[0m\n\u001b[0;32m      3\u001b[0m     \u001b[0mset_trace\u001b[0m\u001b[1;33m(\u001b[0m\u001b[1;33m)\u001b[0m\u001b[1;33m\u001b[0m\u001b[1;33m\u001b[0m\u001b[0m\n",
      "\u001b[1;32m<ipython-input-40-7480e5057ae0>\u001b[0m in \u001b[0;36m<module>\u001b[1;34m\u001b[0m\n\u001b[1;32m----> 1\u001b[1;33m \u001b[1;32mfor\u001b[0m \u001b[0mfile\u001b[0m \u001b[1;32min\u001b[0m \u001b[0mPath\u001b[0m\u001b[1;33m(\u001b[0m\u001b[1;34m'newsdata/downloaded'\u001b[0m\u001b[1;33m)\u001b[0m\u001b[1;33m.\u001b[0m\u001b[0mglob\u001b[0m\u001b[1;33m(\u001b[0m\u001b[1;34m'**/*.json'\u001b[0m\u001b[1;33m)\u001b[0m\u001b[1;33m:\u001b[0m\u001b[1;33m\u001b[0m\u001b[1;33m\u001b[0m\u001b[0m\n\u001b[0m\u001b[0;32m      2\u001b[0m     \u001b[0mfname\u001b[0m \u001b[1;33m=\u001b[0m \u001b[0mfile\u001b[0m\u001b[1;33m.\u001b[0m\u001b[0mname\u001b[0m\u001b[1;33m\u001b[0m\u001b[1;33m\u001b[0m\u001b[0m\n\u001b[0;32m      3\u001b[0m     \u001b[0mset_trace\u001b[0m\u001b[1;33m(\u001b[0m\u001b[1;33m)\u001b[0m\u001b[1;33m\u001b[0m\u001b[1;33m\u001b[0m\u001b[0m\n",
      "\u001b[1;32m~\\Anaconda3\\lib\\bdb.py\u001b[0m in \u001b[0;36mtrace_dispatch\u001b[1;34m(self, frame, event, arg)\u001b[0m\n\u001b[0;32m     86\u001b[0m             \u001b[1;32mreturn\u001b[0m \u001b[1;31m# None\u001b[0m\u001b[1;33m\u001b[0m\u001b[1;33m\u001b[0m\u001b[0m\n\u001b[0;32m     87\u001b[0m         \u001b[1;32mif\u001b[0m \u001b[0mevent\u001b[0m \u001b[1;33m==\u001b[0m \u001b[1;34m'line'\u001b[0m\u001b[1;33m:\u001b[0m\u001b[1;33m\u001b[0m\u001b[1;33m\u001b[0m\u001b[0m\n\u001b[1;32m---> 88\u001b[1;33m             \u001b[1;32mreturn\u001b[0m \u001b[0mself\u001b[0m\u001b[1;33m.\u001b[0m\u001b[0mdispatch_line\u001b[0m\u001b[1;33m(\u001b[0m\u001b[0mframe\u001b[0m\u001b[1;33m)\u001b[0m\u001b[1;33m\u001b[0m\u001b[1;33m\u001b[0m\u001b[0m\n\u001b[0m\u001b[0;32m     89\u001b[0m         \u001b[1;32mif\u001b[0m \u001b[0mevent\u001b[0m \u001b[1;33m==\u001b[0m \u001b[1;34m'call'\u001b[0m\u001b[1;33m:\u001b[0m\u001b[1;33m\u001b[0m\u001b[1;33m\u001b[0m\u001b[0m\n\u001b[0;32m     90\u001b[0m             \u001b[1;32mreturn\u001b[0m \u001b[0mself\u001b[0m\u001b[1;33m.\u001b[0m\u001b[0mdispatch_call\u001b[0m\u001b[1;33m(\u001b[0m\u001b[0mframe\u001b[0m\u001b[1;33m,\u001b[0m \u001b[0marg\u001b[0m\u001b[1;33m)\u001b[0m\u001b[1;33m\u001b[0m\u001b[1;33m\u001b[0m\u001b[0m\n",
      "\u001b[1;32m~\\Anaconda3\\lib\\bdb.py\u001b[0m in \u001b[0;36mdispatch_line\u001b[1;34m(self, frame)\u001b[0m\n\u001b[0;32m    111\u001b[0m         \u001b[1;32mif\u001b[0m \u001b[0mself\u001b[0m\u001b[1;33m.\u001b[0m\u001b[0mstop_here\u001b[0m\u001b[1;33m(\u001b[0m\u001b[0mframe\u001b[0m\u001b[1;33m)\u001b[0m \u001b[1;32mor\u001b[0m \u001b[0mself\u001b[0m\u001b[1;33m.\u001b[0m\u001b[0mbreak_here\u001b[0m\u001b[1;33m(\u001b[0m\u001b[0mframe\u001b[0m\u001b[1;33m)\u001b[0m\u001b[1;33m:\u001b[0m\u001b[1;33m\u001b[0m\u001b[1;33m\u001b[0m\u001b[0m\n\u001b[0;32m    112\u001b[0m             \u001b[0mself\u001b[0m\u001b[1;33m.\u001b[0m\u001b[0muser_line\u001b[0m\u001b[1;33m(\u001b[0m\u001b[0mframe\u001b[0m\u001b[1;33m)\u001b[0m\u001b[1;33m\u001b[0m\u001b[1;33m\u001b[0m\u001b[0m\n\u001b[1;32m--> 113\u001b[1;33m             \u001b[1;32mif\u001b[0m \u001b[0mself\u001b[0m\u001b[1;33m.\u001b[0m\u001b[0mquitting\u001b[0m\u001b[1;33m:\u001b[0m \u001b[1;32mraise\u001b[0m \u001b[0mBdbQuit\u001b[0m\u001b[1;33m\u001b[0m\u001b[1;33m\u001b[0m\u001b[0m\n\u001b[0m\u001b[0;32m    114\u001b[0m         \u001b[1;32mreturn\u001b[0m \u001b[0mself\u001b[0m\u001b[1;33m.\u001b[0m\u001b[0mtrace_dispatch\u001b[0m\u001b[1;33m\u001b[0m\u001b[1;33m\u001b[0m\u001b[0m\n\u001b[0;32m    115\u001b[0m \u001b[1;33m\u001b[0m\u001b[0m\n",
      "\u001b[1;31mBdbQuit\u001b[0m: "
     ]
    }
   ],
   "source": [
    "for file in Path('newsdata/downloaded').glob('**/*.json'):\n",
    "    fname = file.name\n",
    "    "
   ]
  },
  {
   "cell_type": "code",
   "execution_count": null,
   "metadata": {},
   "outputs": [],
   "source": []
  }
 ],
 "metadata": {
  "kernelspec": {
   "display_name": "Python 3",
   "language": "python",
   "name": "python3"
  },
  "language_info": {
   "codemirror_mode": {
    "name": "ipython",
    "version": 3
   },
   "file_extension": ".py",
   "mimetype": "text/x-python",
   "name": "python",
   "nbconvert_exporter": "python",
   "pygments_lexer": "ipython3",
   "version": "3.7.3"
  }
 },
 "nbformat": 4,
 "nbformat_minor": 2
}
