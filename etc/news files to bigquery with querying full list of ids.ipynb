{
 "cells": [
  {
   "cell_type": "markdown",
   "metadata": {},
   "source": [
    "# NEWS 파일(json)을 Bigquery에 저장"
   ]
  },
  {
   "cell_type": "code",
   "execution_count": 121,
   "metadata": {},
   "outputs": [],
   "source": [
    "import os\n",
    "import sys\n",
    "import json\n",
    "import requests\n",
    "import pickle\n",
    "import gzip\n",
    "import pandas as pd\n",
    "import pandas_gbq as gbq\n",
    "from pathlib import Path\n",
    "from google.oauth2 import service_account\n",
    "from google.cloud import bigquery\n",
    "from IPython.core.debugger import set_trace\n",
    "from tqdm.auto import tqdm\n",
    "tqdm.pandas()"
   ]
  },
  {
   "cell_type": "markdown",
   "metadata": {},
   "source": [
    "## Configuration"
   ]
  },
  {
   "cell_type": "code",
   "execution_count": 122,
   "metadata": {},
   "outputs": [],
   "source": [
    "proj = 'global-news-crawl'\n",
    "table_downloaded = 'news_dataset.downloaded'\n",
    "table_trashed = 'news_dataset.trashed'\n",
    "credentials = service_account.Credentials.from_service_account_file('global-news-crawl-c48d7cd9aa81.json')"
   ]
  },
  {
   "cell_type": "markdown",
   "metadata": {},
   "source": [
    "## Bigquery에서 기존 뉴스 ID 리스트 받기"
   ]
  },
  {
   "cell_type": "code",
   "execution_count": 129,
   "metadata": {},
   "outputs": [
    {
     "name": "stdout",
     "output_type": "stream",
     "text": [
      "Wall time: 15 s\n"
     ]
    }
   ],
   "source": [
    "%%time\n",
    "qry_0 = 'SELECT id FROM `{}`'.format(proj + '.' + table_downloaded)\n",
    "ids_downloaded = gbq.read_gbq(qry_0, project_id=proj, credentials=credentials)#, use_bqstorage_api=True)"
   ]
  },
  {
   "cell_type": "code",
   "execution_count": 130,
   "metadata": {},
   "outputs": [
    {
     "name": "stdout",
     "output_type": "stream",
     "text": [
      "Wall time: 4.71 s\n"
     ]
    }
   ],
   "source": [
    "%%time\n",
    "qry_1 = 'SELECT id FROM `{}`'.format(proj + '.' + table_trashed)\n",
    "ids_trashed = gbq.read_gbq(qry_1, project_id=proj, credentials=credentials)"
   ]
  },
  {
   "cell_type": "code",
   "execution_count": 131,
   "metadata": {},
   "outputs": [],
   "source": [
    "ids_downloaded_set = set(ids_downloaded.id)\n",
    "ids_trashed_set = set(ids_trashed.id)"
   ]
  },
  {
   "cell_type": "code",
   "execution_count": 132,
   "metadata": {},
   "outputs": [],
   "source": [
    "assert len(ids_downloaded) == len(ids_downloaded_set), 'duplicated in downloaded'\n",
    "assert len(ids_trashed) == len(ids_trashed_set), 'duplicated in trashed'\n",
    "assert len(ids_downloaded_set & ids_trashed_set) == 0, 'ids overlapping'"
   ]
  },
  {
   "cell_type": "code",
   "execution_count": 133,
   "metadata": {},
   "outputs": [
    {
     "data": {
      "text/plain": [
       "310547"
      ]
     },
     "execution_count": 133,
     "metadata": {},
     "output_type": "execute_result"
    }
   ],
   "source": [
    "newsids = ids_downloaded_set | ids_trashed_set; len(newsids)"
   ]
  },
  {
   "cell_type": "code",
   "execution_count": 134,
   "metadata": {},
   "outputs": [
    {
     "data": {
      "text/plain": [
       "(293203, 17344)"
      ]
     },
     "execution_count": 134,
     "metadata": {},
     "output_type": "execute_result"
    }
   ],
   "source": [
    "len(ids_downloaded_set), len(ids_trashed_set)"
   ]
  },
  {
   "cell_type": "markdown",
   "metadata": {},
   "source": [
    "## 파일에서 뉴스정보 추출\n",
    "나중에는 필요없는 과정이다. 다운로드 받은 즉시 바로 Bigquery에 전송할 것이므로"
   ]
  },
  {
   "cell_type": "code",
   "execution_count": 135,
   "metadata": {},
   "outputs": [],
   "source": [
    "def extract_contents(newsids=None, where=None, n=1000):\n",
    "    df = {}\n",
    "    _n = 0\n",
    "    \n",
    "    for file in Path(where).glob('**/*.json'):\n",
    "        id = file.stem\n",
    "        \n",
    "        if id not in newsids:\n",
    "            try:\n",
    "                js = json.loads(file.read_text())\n",
    "            \n",
    "                if 'authors' in js:\n",
    "                    js['authors'] = ', '.join(js['authors'])\n",
    "\n",
    "                df[id] = js\n",
    "\n",
    "                _n += 1\n",
    "                print('\\r{}'.format(_n), end='')\n",
    "                if _n == n: break\n",
    "                    \n",
    "            except:\n",
    "                print(file)\n",
    "           \n",
    "    df = pd.DataFrame.from_dict(df, orient='index')\n",
    "    df.index.name = 'id'\n",
    "    return df.reset_index()"
   ]
  },
  {
   "cell_type": "code",
   "execution_count": 136,
   "metadata": {
    "scrolled": false
   },
   "outputs": [
    {
     "name": "stdout",
     "output_type": "stream",
     "text": [
      "353\n",
      "\n",
      "328"
     ]
    }
   ],
   "source": [
    "df_downloaded = extract_contents(newsids=newsids, where='newsdata/downloaded', n=50000); print('\\n')\n",
    "df_trashed = extract_contents(newsids=newsids, where='newsdata/trashed', n=30000)"
   ]
  },
  {
   "cell_type": "markdown",
   "metadata": {},
   "source": [
    "## downloaded와 trashed 간에 겹치는 게 없는지 확인\n",
    "기존의 뉴스파일을 Bigquery에 전송하는 과정에서, 이 둘간에 겹치는 사례가 종종 있었다\n",
    "(2019.10.18)"
   ]
  },
  {
   "cell_type": "code",
   "execution_count": 137,
   "metadata": {},
   "outputs": [],
   "source": [
    "intersect = set(df_trashed.id) & set(df_downloaded.id)\n",
    "assert len(intersect) == 0, 'ids overlapping'"
   ]
  },
  {
   "cell_type": "markdown",
   "metadata": {},
   "source": [
    "## Bigquery에 업로드"
   ]
  },
  {
   "cell_type": "code",
   "execution_count": 138,
   "metadata": {},
   "outputs": [
    {
     "name": "stderr",
     "output_type": "stream",
     "text": [
      "1it [00:06,  6.75s/it]\n",
      "1it [00:04,  4.22s/it]\n"
     ]
    }
   ],
   "source": [
    "gbq.to_gbq(df_downloaded, table_downloaded, project_id=proj, if_exists='append', chunksize=1000, credentials=credentials)\n",
    "gbq.to_gbq(df_trashed, table_trashed, project_id=proj, if_exists='append', chunksize=1000, credentials=credentials)"
   ]
  },
  {
   "cell_type": "code",
   "execution_count": null,
   "metadata": {},
   "outputs": [],
   "source": []
  },
  {
   "cell_type": "code",
   "execution_count": 141,
   "metadata": {},
   "outputs": [
    {
     "ename": "ValueError",
     "evalue": "dictionary update sequence element #0 has length 3; 2 is required",
     "output_type": "error",
     "traceback": [
      "\u001b[1;31m---------------------------------------------------------------------------\u001b[0m",
      "\u001b[1;31mValueError\u001b[0m                                Traceback (most recent call last)",
      "\u001b[1;32m<ipython-input-141-a36a0cd0e62b>\u001b[0m in \u001b[0;36m<module>\u001b[1;34m\u001b[0m\n\u001b[1;32m----> 1\u001b[1;33m \u001b[0mdict\u001b[0m\u001b[1;33m(\u001b[0m\u001b[1;33m[\u001b[0m\u001b[1;33m(\u001b[0m\u001b[1;34m'a'\u001b[0m\u001b[1;33m,\u001b[0m\u001b[1;36m1\u001b[0m\u001b[1;33m,\u001b[0m\u001b[1;36m5\u001b[0m\u001b[1;33m)\u001b[0m\u001b[1;33m,\u001b[0m \u001b[1;33m(\u001b[0m\u001b[1;34m'b'\u001b[0m\u001b[1;33m,\u001b[0m\u001b[1;36m2\u001b[0m\u001b[1;33m,\u001b[0m\u001b[1;36m5\u001b[0m\u001b[1;33m)\u001b[0m\u001b[1;33m,\u001b[0m \u001b[1;33m(\u001b[0m\u001b[1;34m'c'\u001b[0m\u001b[1;33m,\u001b[0m\u001b[1;36m3\u001b[0m\u001b[1;33m,\u001b[0m\u001b[1;36m7\u001b[0m\u001b[1;33m)\u001b[0m\u001b[1;33m]\u001b[0m\u001b[1;33m)\u001b[0m\u001b[1;33m\u001b[0m\u001b[1;33m\u001b[0m\u001b[0m\n\u001b[0m",
      "\u001b[1;31mValueError\u001b[0m: dictionary update sequence element #0 has length 3; 2 is required"
     ]
    }
   ],
   "source": [
    "dict([('a',1,5), ('b',2,5), ('c',3,7)])"
   ]
  },
  {
   "cell_type": "code",
   "execution_count": null,
   "metadata": {},
   "outputs": [],
   "source": []
  },
  {
   "cell_type": "code",
   "execution_count": null,
   "metadata": {},
   "outputs": [],
   "source": []
  },
  {
   "cell_type": "markdown",
   "metadata": {},
   "source": [
    "# 아래 코드를 실험해봐야한다. __init__ 까지는 확인됨"
   ]
  },
  {
   "cell_type": "code",
   "execution_count": 39,
   "metadata": {},
   "outputs": [],
   "source": [
    "proj = 'global-news-crawl'\n",
    "table_downloaded = 'news_dataset.downloaded'\n",
    "table_trashed = 'news_dataset.trashed'\n",
    "credentials = service_account.Credentials.from_service_account_file('global-news-crawl-c48d7cd9aa81.json')\n",
    "\n",
    "localpath_to_downloaded = 'newsdata/downloaded'\n",
    "localpath_to_trashed = 'newsdata/trashed'\n",
    "\n",
    "\n",
    "class Recorder:\n",
    "    def __init__(self, storage='local'):\n",
    "        self.storage = storage\n",
    "        self.ids = self._get_ids(storage)\n",
    "\n",
    "    def _query_ids_from_bigquery(self, tb):\n",
    "        qry = 'SELECT id FROM `{}`'.format(proj + '.' + tb)\n",
    "        return gbq.read_gbq(qry, credentials=credentials).id\n",
    "        \n",
    "    def _retreive_ids_from_local(self, path):\n",
    "        return [p.stem for p in Path(path).glob('**/*.json')]\n",
    "        \n",
    "        \n",
    "    def _get_ids(self, storage):\n",
    "        print('checking ' + storage + ' storage... ', end='')\n",
    "\n",
    "        if storage == 'bigquery':\n",
    "            ids_downloaded = self._query_ids_from_bigquery(table_downloaded)\n",
    "            ids_trashed = self._query_ids_from_bigquery(table_trashed)\n",
    "\n",
    "        elif storage == 'local':\n",
    "            ids_downloaded = self._retreive_ids_from_local(localpath_to_downloaded)\n",
    "            ids_trashed = self._retreive_ids_from_local(localpath_to_trashed)\n",
    "\n",
    "        ids_downloaded_set = set(ids_downloaded)\n",
    "        ids_trashed_set = set(ids_trashed)\n",
    "        \n",
    "        if len(ids_downloaded) != len(ids_downloaded_set):\n",
    "            '''downloaded articles의 uniqueness'''\n",
    "            raise self.DuplicatesInSingleTable('duplicated in downloaded')\n",
    "\n",
    "        if len(ids_trashed) != len(ids_trashed_set):\n",
    "            '''trashed articles의 uniqueness'''\n",
    "            raise self.DuplicatesInSingleTable('duplicated in trashed')\n",
    "\n",
    "        if len(ids_downloaded_set & ids_trashed_set) != 0:\n",
    "            '''downloaded와 trashed 간의 uniqueness'''\n",
    "            raise self.DuplicatesBetweenTwoTables('duplicated between downloaded and trashed')\n",
    "    \n",
    "        ids = ids_downloaded_set | ids_trashed_set\n",
    "        \n",
    "        print('done')\n",
    "        print('we have total {} articles ({} downloaded, {} trashed)'.format(len(ids), len(ids_downloaded_set), len(ids_trashed_set)))\n",
    "        return ids\n",
    "\n",
    "\n",
    "    def has(self, id):\n",
    "        return id in self.ids\n",
    "\n",
    "\n",
    "    def update(self, downloaded=None, trashed=None, chunksize=1000, subdir_len=3):\n",
    "        '''\n",
    "        downloaded or trashed = {\n",
    "            id0: {...}, \n",
    "            id1: {...}, \n",
    "            ...\n",
    "        }\n",
    "        '''\n",
    "        if self.storage == 'bigquery':\n",
    "            self._update_bigquery('downloaded', downloaded, chunksize)\n",
    "            self._update_bigquery('trashed', trashed, chunksize)\n",
    "        \n",
    "        elif self.storage == 'local':\n",
    "            self._update_local('downloaded', downloaded, subdir_len)\n",
    "            self._update_local('trashed', trashed, subdir_len)\n",
    "            \n",
    "\n",
    "    def _update_local(self, newstype, newsdict, subdir_len):\n",
    "        if newsdict is not None:\n",
    "            if newstype == 'downloaded':\n",
    "                path = localpath_to_downloaded\n",
    "            elif newstype == 'trashed':\n",
    "                path = localpath_to_trashed\n",
    "            \n",
    "            for id, article in newsdict.items():\n",
    "                if newstype == 'downloaded':\n",
    "                    _dir = Path(path)\n",
    "                elif newstype == 'trashed':\n",
    "                    _dir = Path(path + '/' + id[:subdir_len])\n",
    "                    _dir.mkdir(parents=True, exist_ok=True)\n",
    "                \n",
    "                fname = id + '.json'\n",
    "                fpath = _dir / fname\n",
    "                with fpath.open('w') as f:\n",
    "                    json.dump(article, f)\n",
    "\n",
    "\n",
    "    def _update_bigquery(self, newstype, newsdict, chunksize):\n",
    "        if newsdict is not None:\n",
    "            if newstype == 'downloaded':\n",
    "                tb = table_downloaded\n",
    "            elif newstype == 'trashed':\n",
    "                tb = table_trashed\n",
    "\n",
    "            df = pd.DataFrame.from_dict(newsdict, orient='index')\n",
    "            df.index.name = 'id'\n",
    "            gbq.to_gbq(df.reset_index(), tb, project_id=proj, if_exists='append', chunksize=chunksize, credentials=credentials)\n",
    "            \n",
    "\n",
    "    class DuplicatesInSingleTable(Exception):\n",
    "        pass\n",
    "\n",
    "    class DuplicatesBetweenTwoTables(Exception):\n",
    "        pass"
   ]
  },
  {
   "cell_type": "code",
   "execution_count": 31,
   "metadata": {},
   "outputs": [
    {
     "name": "stdout",
     "output_type": "stream",
     "text": [
      "checking bigquery storage... done\n",
      "we have total 446750 articles (275619 downloaded, 171131 trashed)\n"
     ]
    }
   ],
   "source": [
    "recorder = Recorder(storage='bigquery')"
   ]
  },
  {
   "cell_type": "code",
   "execution_count": 55,
   "metadata": {},
   "outputs": [
    {
     "data": {
      "text/plain": [
       "False"
      ]
     },
     "execution_count": 55,
     "metadata": {},
     "output_type": "execute_result"
    }
   ],
   "source": [
    "recorder.has('51331d7eb195e41b4d9cd1d4b73c7c4ecb8526e0')"
   ]
  },
  {
   "cell_type": "code",
   "execution_count": null,
   "metadata": {},
   "outputs": [],
   "source": []
  },
  {
   "cell_type": "code",
   "execution_count": 37,
   "metadata": {},
   "outputs": [
    {
     "data": {
      "application/vnd.jupyter.widget-view+json": {
       "model_id": "9e10dc7414e649fabfbaa8185c77ea41",
       "version_major": 2,
       "version_minor": 0
      },
      "text/plain": [
       "HBox(children=(IntProgress(value=1, bar_style='info', max=1), HTML(value='')))"
      ]
     },
     "metadata": {},
     "output_type": "display_data"
    },
    {
     "name": "stdout",
     "output_type": "stream",
     "text": [
      "\n"
     ]
    }
   ],
   "source": [
    "for src in tqdm(Path('newsdata/downloaded').glob('**/*.json')):\n",
    "    p_dest = Path('newsdata/downloaded2/' + src.name[:3])\n",
    "    p_dest.mkdir(parents=True, exist_ok=True)\n",
    "    dest = p_dest / src.name\n",
    "    dest.write_text(src.read_text())"
   ]
  },
  {
   "cell_type": "code",
   "execution_count": null,
   "metadata": {},
   "outputs": [],
   "source": []
  },
  {
   "cell_type": "code",
   "execution_count": null,
   "metadata": {},
   "outputs": [],
   "source": []
  }
 ],
 "metadata": {
  "kernelspec": {
   "display_name": "Python 3",
   "language": "python",
   "name": "python3"
  },
  "language_info": {
   "codemirror_mode": {
    "name": "ipython",
    "version": 3
   },
   "file_extension": ".py",
   "mimetype": "text/x-python",
   "name": "python",
   "nbconvert_exporter": "python",
   "pygments_lexer": "ipython3",
   "version": "3.7.3"
  }
 },
 "nbformat": 4,
 "nbformat_minor": 2
}
