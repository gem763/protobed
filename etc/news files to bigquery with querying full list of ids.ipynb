{
 "cells": [
  {
   "cell_type": "markdown",
   "metadata": {},
   "source": [
    "# NEWS 파일(json)을 Bigquery에 저장"
   ]
  },
  {
   "cell_type": "code",
   "execution_count": 2,
   "metadata": {},
   "outputs": [],
   "source": [
    "import os\n",
    "import sys\n",
    "import json\n",
    "import requests\n",
    "import pickle\n",
    "import gzip\n",
    "import pandas as pd\n",
    "import pandas_gbq as gbq\n",
    "from pathlib import Path\n",
    "from google.oauth2 import service_account\n",
    "from google.cloud import bigquery\n",
    "from IPython.core.debugger import set_trace\n",
    "from tqdm.auto import tqdm\n",
    "tqdm.pandas()"
   ]
  },
  {
   "cell_type": "markdown",
   "metadata": {},
   "source": [
    "## Configuration"
   ]
  },
  {
   "cell_type": "code",
   "execution_count": 3,
   "metadata": {},
   "outputs": [],
   "source": [
    "proj = 'global-news-crawl'\n",
    "table_downloaded = 'news_dataset.downloaded'\n",
    "table_trashed = 'news_dataset.trashed'\n",
    "credentials = service_account.Credentials.from_service_account_file('global-news-crawl-c48d7cd9aa81.json')"
   ]
  },
  {
   "cell_type": "markdown",
   "metadata": {},
   "source": [
    "## Bigquery에서 기존 뉴스 ID 리스트 받기"
   ]
  },
  {
   "cell_type": "code",
   "execution_count": 22,
   "metadata": {},
   "outputs": [
    {
     "name": "stdout",
     "output_type": "stream",
     "text": [
      "Wall time: 18.2 s\n"
     ]
    }
   ],
   "source": [
    "%%time\n",
    "qry_0 = 'SELECT id FROM `{}`'.format(proj + '.' + table_downloaded)\n",
    "ids_downloaded = gbq.read_gbq(qry_0, project_id=proj, credentials=credentials)#, use_bqstorage_api=True)"
   ]
  },
  {
   "cell_type": "code",
   "execution_count": 23,
   "metadata": {},
   "outputs": [
    {
     "name": "stdout",
     "output_type": "stream",
     "text": [
      "Wall time: 12.7 s\n"
     ]
    }
   ],
   "source": [
    "%%time\n",
    "qry_1 = 'SELECT id FROM `{}`'.format(proj + '.' + table_trashed)\n",
    "ids_trashed = gbq.read_gbq(qry_1, project_id=proj, credentials=credentials)"
   ]
  },
  {
   "cell_type": "code",
   "execution_count": 24,
   "metadata": {},
   "outputs": [],
   "source": [
    "ids_downloaded_set = set(ids_downloaded.id)\n",
    "ids_trashed_set = set(ids_trashed.id)"
   ]
  },
  {
   "cell_type": "code",
   "execution_count": 25,
   "metadata": {},
   "outputs": [],
   "source": [
    "assert len(ids_downloaded) == len(ids_downloaded_set), 'duplicated in downloaded'\n",
    "assert len(ids_trashed) == len(ids_trashed_set), 'duplicated in downloaded'\n",
    "assert len(ids_downloaded_set & ids_trashed_set) == 0, 'ids overlapping'"
   ]
  },
  {
   "cell_type": "code",
   "execution_count": 26,
   "metadata": {},
   "outputs": [
    {
     "data": {
      "text/plain": [
       "392315"
      ]
     },
     "execution_count": 26,
     "metadata": {},
     "output_type": "execute_result"
    }
   ],
   "source": [
    "newsids = ids_downloaded_set | ids_trashed_set; len(newsids)"
   ]
  },
  {
   "cell_type": "code",
   "execution_count": 27,
   "metadata": {},
   "outputs": [
    {
     "data": {
      "text/plain": [
       "(241521, 150794)"
      ]
     },
     "execution_count": 27,
     "metadata": {},
     "output_type": "execute_result"
    }
   ],
   "source": [
    "len(ids_downloaded_set), len(ids_trashed_set)"
   ]
  },
  {
   "cell_type": "markdown",
   "metadata": {},
   "source": [
    "## 파일에서 뉴스정보 추출\n",
    "나중에는 필요없는 과정이다. 다운로드 받은 즉시 바로 Bigquery에 전송할 것이므로"
   ]
  },
  {
   "cell_type": "code",
   "execution_count": 28,
   "metadata": {},
   "outputs": [],
   "source": [
    "def extract_contents(newsids=None, where=None, n=1000):\n",
    "    df = {}\n",
    "    _n = 0\n",
    "    \n",
    "    for file in Path(where).glob('**/*.json'):\n",
    "        id = file.stem\n",
    "        \n",
    "        if id not in newsids:\n",
    "            try:\n",
    "                js = json.loads(file.read_text())\n",
    "            \n",
    "                if 'authors' in js:\n",
    "                    js['authors'] = ', '.join(js['authors'])\n",
    "\n",
    "                df[id] = js\n",
    "\n",
    "                _n += 1\n",
    "                print('\\r{}'.format(_n), end='')\n",
    "                if _n == n: break\n",
    "                    \n",
    "            except:\n",
    "                print(file)\n",
    "           \n",
    "    df = pd.DataFrame.from_dict(df, orient='index')\n",
    "    df.index.name = 'id'\n",
    "    return df.reset_index()"
   ]
  },
  {
   "cell_type": "code",
   "execution_count": null,
   "metadata": {
    "scrolled": false
   },
   "outputs": [
    {
     "name": "stdout",
     "output_type": "stream",
     "text": [
      "5"
     ]
    }
   ],
   "source": [
    "df_downloaded = extract_contents(newsids=newsids, where='newsdata/downloaded', n=50000); print('\\n')\n",
    "df_trashed = extract_contents(newsids=newsids, where='newsdata/trashed', n=30000)"
   ]
  },
  {
   "cell_type": "markdown",
   "metadata": {},
   "source": [
    "## downloaded와 trashed 간에 겹치는 게 없는지 확인\n",
    "기존의 뉴스파일을 Bigquery에 전송하는 과정에서, 이 둘간에 겹치는 사례가 종종 있었다\n",
    "(2019.10.18)"
   ]
  },
  {
   "cell_type": "code",
   "execution_count": 20,
   "metadata": {},
   "outputs": [],
   "source": [
    "intersect = set(df_trashed.id) & set(df_downloaded.id)\n",
    "assert len(intersect) == 0, 'ids overlapping'"
   ]
  },
  {
   "cell_type": "markdown",
   "metadata": {},
   "source": [
    "## Bigquery에 업로드"
   ]
  },
  {
   "cell_type": "code",
   "execution_count": 21,
   "metadata": {},
   "outputs": [
    {
     "name": "stderr",
     "output_type": "stream",
     "text": [
      "3it [00:22,  7.42s/it]\n",
      "2it [00:09,  4.60s/it]\n"
     ]
    }
   ],
   "source": [
    "gbq.to_gbq(df_downloaded, table_downloaded, project_id=proj, if_exists='append', chunksize=1000, credentials=credentials)\n",
    "gbq.to_gbq(df_trashed, table_trashed, project_id=proj, if_exists='append', chunksize=1000, credentials=credentials)"
   ]
  },
  {
   "cell_type": "code",
   "execution_count": null,
   "metadata": {},
   "outputs": [],
   "source": []
  },
  {
   "cell_type": "code",
   "execution_count": null,
   "metadata": {},
   "outputs": [],
   "source": []
  },
  {
   "cell_type": "code",
   "execution_count": null,
   "metadata": {},
   "outputs": [],
   "source": []
  },
  {
   "cell_type": "code",
   "execution_count": null,
   "metadata": {},
   "outputs": [],
   "source": []
  },
  {
   "cell_type": "markdown",
   "metadata": {},
   "source": [
    "# 아래 코드를 실험해봐야한다. __init__ 까지는 확인됨"
   ]
  },
  {
   "cell_type": "code",
   "execution_count": 28,
   "metadata": {},
   "outputs": [],
   "source": [
    "proj = 'global-news-crawl'\n",
    "table_downloaded = 'news_dataset.downloaded'\n",
    "table_trashed = 'news_dataset.trashed'\n",
    "credentials = service_account.Credentials.from_service_account_file('global-news-crawl-c48d7cd9aa81.json')\n",
    "\n",
    "localpath_to_downloaded = 'newsdata/downloaded'\n",
    "localpath_to_trashed = 'newsdata/trashed'\n",
    "\n",
    "\n",
    "class Recorder:\n",
    "    def __init__(self, storage='local'):\n",
    "        self.storage = storage\n",
    "        self.ids = self._get_ids(storage)\n",
    "\n",
    "    def _query_ids_from_bigquery(self, tb):\n",
    "        qry = 'SELECT id FROM `{}`'.format(proj + '.' + tb)\n",
    "        return gbq.read_gbq(qry, credentials=credentials).id\n",
    "        \n",
    "    def _retreive_ids_from_local(self, path):\n",
    "        return [p.stem for p in Path(path).glob('**/*.json')]\n",
    "        \n",
    "        \n",
    "    def _get_ids(self, storage):\n",
    "        print('checking ' + storage + ' storage... ', end='')\n",
    "\n",
    "        if storage == 'bigquery':\n",
    "            ids_downloaded = self._query_ids_from_bigquery(table_downloaded)\n",
    "            ids_trashed = self._query_ids_from_bigquery(table_trashed)\n",
    "\n",
    "        elif storage == 'local':\n",
    "            ids_downloaded = self._retreive_ids_from_local(localpath_to_downloaded)\n",
    "            ids_trashed = self._retreive_ids_from_local(localpath_to_trashed)\n",
    "\n",
    "        ids_downloaded_set = set(ids_downloaded)\n",
    "        ids_trashed_set = set(ids_trashed)\n",
    "        \n",
    "        if len(ids_downloaded) != len(ids_downloaded_set):\n",
    "            '''downloaded articles의 uniqueness'''\n",
    "            raise self.DuplicatesInSingleTable('duplicated in downloaded')\n",
    "\n",
    "        if len(ids_trashed) != len(ids_trashed_set):\n",
    "            '''trashed articles의 uniqueness'''\n",
    "            raise self.DuplicatesInSingleTable('duplicated in trashed')\n",
    "\n",
    "        if len(ids_downloaded_set & ids_trashed_set) != 0:\n",
    "            '''downloaded와 trashed 간의 uniqueness'''\n",
    "            raise self.DuplicatesBetweenTwoTables('duplicated between downloaded and trashed')\n",
    "    \n",
    "        ids = ids_downloaded_set | ids_trashed_set\n",
    "        \n",
    "        print('done')\n",
    "        print('we have total {} ({} downloaded, {} trashed)'.format(len(ids), len(ids_downloaded_set), len(ids_trashed_set)))\n",
    "        return ids\n",
    "\n",
    "\n",
    "    def has(self, id):\n",
    "        return id in self.ids\n",
    "\n",
    "\n",
    "    def update(self, downloaded=None, trashed=None, chunksize=1000, subdir_len=3):\n",
    "        if self.storage == 'bigquery':\n",
    "            self._update_bigquery('downloaded', downloaded, chunksize)\n",
    "            self._update_bigquery('trashed', trashed, chunksize)\n",
    "        \n",
    "        elif self.storage == 'local':\n",
    "            self._update_local('downloaded', downloaded, subdir_len)\n",
    "            self._update_local('trashed', trashed, subdir_len)\n",
    "            \n",
    "\n",
    "    def _update_local(self, newstype, newsdict, subdir_len):\n",
    "        if newsdict is not None:\n",
    "            if newstype == 'downloaded':\n",
    "                path = localpath_to_downloaded\n",
    "            elif newstype == 'trashed':\n",
    "                path = localpath_to_trashed\n",
    "            \n",
    "            for id, article in newsdict.items():\n",
    "                _dir = Path(path + '/' + id[:subdir_len])\n",
    "                _dir.mkdir(parent=True, exist_ok=True)\n",
    "                fname = id + '.json'\n",
    "                fpath = _dir / fname\n",
    "                with fpath.open('w') as f:\n",
    "                    json.dump(article)\n",
    "\n",
    "\n",
    "    def _update_bigquery(self, newstype, newsdict, chunksize):\n",
    "        if newsdict is not None:\n",
    "            if newstype == 'downloaded':\n",
    "                tb = table_downloaded\n",
    "            elif newstype == 'trashed':\n",
    "                tb = table_trashed\n",
    "\n",
    "            df = pd.DataFrame.from_dict(newsdict, orient='index')\n",
    "            df.index.name = 'id'\n",
    "            gbq.to_gbq(df.reset_index(), tb, project_id=proj, if_exists='append', chunksize=chunksize, credentials=credentials)\n",
    "            \n",
    "\n",
    "    class DuplicatesInSingleTable(Exception):\n",
    "        pass\n",
    "\n",
    "    class DuplicatesBetweenTwoTables(Exception):\n",
    "        pass"
   ]
  },
  {
   "cell_type": "code",
   "execution_count": 31,
   "metadata": {},
   "outputs": [
    {
     "name": "stdout",
     "output_type": "stream",
     "text": [
      "checking bigquery storage... done\n",
      "we have: total 385957 (237649 downloaded, 148308 trashed)\n"
     ]
    }
   ],
   "source": [
    "recorder = Recorder(storage='bigquery')"
   ]
  },
  {
   "cell_type": "code",
   "execution_count": null,
   "metadata": {},
   "outputs": [],
   "source": []
  },
  {
   "cell_type": "code",
   "execution_count": null,
   "metadata": {},
   "outputs": [],
   "source": []
  },
  {
   "cell_type": "code",
   "execution_count": 37,
   "metadata": {},
   "outputs": [
    {
     "data": {
      "application/vnd.jupyter.widget-view+json": {
       "model_id": "9e10dc7414e649fabfbaa8185c77ea41",
       "version_major": 2,
       "version_minor": 0
      },
      "text/plain": [
       "HBox(children=(IntProgress(value=1, bar_style='info', max=1), HTML(value='')))"
      ]
     },
     "metadata": {},
     "output_type": "display_data"
    },
    {
     "name": "stdout",
     "output_type": "stream",
     "text": [
      "\n"
     ]
    }
   ],
   "source": [
    "for src in tqdm(Path('newsdata/downloaded').glob('**/*.json')):\n",
    "    p_dest = Path('newsdata/downloaded2/' + src.name[:3])\n",
    "    p_dest.mkdir(parents=True, exist_ok=True)\n",
    "    dest = p_dest / src.name\n",
    "    dest.write_text(src.read_text())"
   ]
  },
  {
   "cell_type": "code",
   "execution_count": null,
   "metadata": {},
   "outputs": [],
   "source": []
  },
  {
   "cell_type": "code",
   "execution_count": 41,
   "metadata": {},
   "outputs": [
    {
     "data": {
      "text/plain": [
       "238232"
      ]
     },
     "execution_count": 41,
     "metadata": {},
     "output_type": "execute_result"
    }
   ],
   "source": [
    "len(list(Path('newsdata/downloaded').glob('**/*.json')))"
   ]
  },
  {
   "cell_type": "code",
   "execution_count": 42,
   "metadata": {},
   "outputs": [
    {
     "data": {
      "text/plain": [
       "238608"
      ]
     },
     "execution_count": 42,
     "metadata": {},
     "output_type": "execute_result"
    }
   ],
   "source": [
    "len(list(Path('newsdata/downloaded').glob('**/*.json')))"
   ]
  },
  {
   "cell_type": "code",
   "execution_count": 43,
   "metadata": {},
   "outputs": [
    {
     "data": {
      "text/plain": [
       "238608"
      ]
     },
     "execution_count": 43,
     "metadata": {},
     "output_type": "execute_result"
    }
   ],
   "source": [
    "238232+376"
   ]
  },
  {
   "cell_type": "code",
   "execution_count": 70,
   "metadata": {},
   "outputs": [],
   "source": [
    "testdict = {\n",
    "    '111': {'a':1, 'b':2}, \n",
    "    '222': {'a':3, 'c':4}\n",
    "}"
   ]
  },
  {
   "cell_type": "code",
   "execution_count": 73,
   "metadata": {},
   "outputs": [
    {
     "data": {
      "text/html": [
       "<div>\n",
       "<style scoped>\n",
       "    .dataframe tbody tr th:only-of-type {\n",
       "        vertical-align: middle;\n",
       "    }\n",
       "\n",
       "    .dataframe tbody tr th {\n",
       "        vertical-align: top;\n",
       "    }\n",
       "\n",
       "    .dataframe thead th {\n",
       "        text-align: right;\n",
       "    }\n",
       "</style>\n",
       "<table border=\"1\" class=\"dataframe\">\n",
       "  <thead>\n",
       "    <tr style=\"text-align: right;\">\n",
       "      <th></th>\n",
       "      <th>idx</th>\n",
       "      <th>a</th>\n",
       "      <th>b</th>\n",
       "      <th>c</th>\n",
       "    </tr>\n",
       "  </thead>\n",
       "  <tbody>\n",
       "    <tr>\n",
       "      <td>0</td>\n",
       "      <td>111</td>\n",
       "      <td>1</td>\n",
       "      <td>2.0</td>\n",
       "      <td>NaN</td>\n",
       "    </tr>\n",
       "    <tr>\n",
       "      <td>1</td>\n",
       "      <td>222</td>\n",
       "      <td>3</td>\n",
       "      <td>NaN</td>\n",
       "      <td>4.0</td>\n",
       "    </tr>\n",
       "  </tbody>\n",
       "</table>\n",
       "</div>"
      ],
      "text/plain": [
       "   idx  a    b    c\n",
       "0  111  1  2.0  NaN\n",
       "1  222  3  NaN  4.0"
      ]
     },
     "execution_count": 73,
     "metadata": {},
     "output_type": "execute_result"
    }
   ],
   "source": [
    "testdf = pd.DataFrame.from_dict(testdict, orient='index')\n",
    "testdf.index.name = 'idx'\n",
    "testdf.reset_index()"
   ]
  },
  {
   "cell_type": "code",
   "execution_count": null,
   "metadata": {},
   "outputs": [],
   "source": []
  }
 ],
 "metadata": {
  "kernelspec": {
   "display_name": "Python 3",
   "language": "python",
   "name": "python3"
  },
  "language_info": {
   "codemirror_mode": {
    "name": "ipython",
    "version": 3
   },
   "file_extension": ".py",
   "mimetype": "text/x-python",
   "name": "python",
   "nbconvert_exporter": "python",
   "pygments_lexer": "ipython3",
   "version": "3.7.3"
  }
 },
 "nbformat": 4,
 "nbformat_minor": 2
}
