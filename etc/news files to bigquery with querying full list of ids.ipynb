{
 "cells": [
  {
   "cell_type": "markdown",
   "metadata": {},
   "source": [
    "# NEWS 파일(json)을 Bigquery에 저장"
   ]
  },
  {
   "cell_type": "code",
   "execution_count": 2,
   "metadata": {},
   "outputs": [],
   "source": [
    "import os\n",
    "import sys\n",
    "import json\n",
    "import requests\n",
    "import pickle\n",
    "import gzip\n",
    "import pandas as pd\n",
    "import pandas_gbq as gbq\n",
    "from pathlib import Path\n",
    "from google.oauth2 import service_account\n",
    "from google.cloud import bigquery\n",
    "from IPython.core.debugger import set_trace\n",
    "from tqdm.auto import tqdm\n",
    "tqdm.pandas()"
   ]
  },
  {
   "cell_type": "markdown",
   "metadata": {},
   "source": [
    "## Configuration"
   ]
  },
  {
   "cell_type": "code",
   "execution_count": 3,
   "metadata": {},
   "outputs": [],
   "source": [
    "proj = 'global-news-crawl'\n",
    "table_downloaded = 'news_dataset.downloaded'\n",
    "table_trashed = 'news_dataset.trashed'\n",
    "credentials = service_account.Credentials.from_service_account_file('global-news-crawl-c48d7cd9aa81.json')"
   ]
  },
  {
   "cell_type": "markdown",
   "metadata": {},
   "source": [
    "## Bigquery에서 기존 뉴스 ID 리스트 받기"
   ]
  },
  {
   "cell_type": "code",
   "execution_count": 7,
   "metadata": {},
   "outputs": [
    {
     "name": "stdout",
     "output_type": "stream",
     "text": [
      "Wall time: 11.7 s\n"
     ]
    }
   ],
   "source": [
    "%%time\n",
    "qry_0 = 'SELECT id FROM `{}`'.format(proj + '.' + table_downloaded)\n",
    "ids_downloaded = gbq.read_gbq(qry_0, project_id=proj, credentials=credentials)#, use_bqstorage_api=True)"
   ]
  },
  {
   "cell_type": "code",
   "execution_count": 19,
   "metadata": {},
   "outputs": [],
   "source": [
    "qry_1 = 'SELECT id FROM `{}`'.format(proj + '.' + table_trashed)\n",
    "ids_trashed = gbq.read_gbq(qry_1, project_id=proj, credentials=credentials)"
   ]
  },
  {
   "cell_type": "code",
   "execution_count": 20,
   "metadata": {},
   "outputs": [],
   "source": [
    "ids_downloaded_set = set(ids_downloaded.id)\n",
    "ids_trashed_set = set(ids_trashed.id)"
   ]
  },
  {
   "cell_type": "code",
   "execution_count": 21,
   "metadata": {},
   "outputs": [],
   "source": [
    "assert len(ids_downloaded) == len(ids_downloaded_set), 'duplicated in downloaded'\n",
    "assert len(ids_trashed) == len(ids_trashed_set), 'duplicated in downloaded'\n",
    "assert len(ids_downloaded_set & ids_trashed_set) == 0, 'ids overlapping'"
   ]
  },
  {
   "cell_type": "code",
   "execution_count": 22,
   "metadata": {},
   "outputs": [
    {
     "data": {
      "text/plain": [
       "371253"
      ]
     },
     "execution_count": 22,
     "metadata": {},
     "output_type": "execute_result"
    }
   ],
   "source": [
    "newsids = ids_downloaded_set | ids_trashed_set; len(newsids)"
   ]
  },
  {
   "cell_type": "code",
   "execution_count": 23,
   "metadata": {},
   "outputs": [
    {
     "data": {
      "text/plain": [
       "(229018, 142235)"
      ]
     },
     "execution_count": 23,
     "metadata": {},
     "output_type": "execute_result"
    }
   ],
   "source": [
    "len(ids_downloaded_set), len(ids_trashed_set)"
   ]
  },
  {
   "cell_type": "markdown",
   "metadata": {},
   "source": [
    "## 파일에서 뉴스정보 추출\n",
    "나중에는 필요없는 과정이다. 다운로드 받은 즉시 바로 Bigquery에 전송할 것이므로"
   ]
  },
  {
   "cell_type": "code",
   "execution_count": 24,
   "metadata": {},
   "outputs": [],
   "source": [
    "def extract_contents(newsids=None, where=None, n=1000):\n",
    "    df = {}\n",
    "    _n = 0\n",
    "    \n",
    "    for file in Path(where).glob('**/*.json'):\n",
    "        id = file.stem\n",
    "        \n",
    "        if id not in newsids:\n",
    "            try:\n",
    "                js = json.loads(file.read_text())\n",
    "            \n",
    "                if 'authors' in js:\n",
    "                    js['authors'] = ', '.join(js['authors'])\n",
    "\n",
    "                df[id] = js\n",
    "\n",
    "                _n += 1\n",
    "                print('\\r{}'.format(_n), end='')\n",
    "                if _n == n: break\n",
    "                    \n",
    "            except:\n",
    "                print(file)\n",
    "           \n",
    "    df = pd.DataFrame.from_dict(df, orient='index')\n",
    "    df.index.name = 'id'\n",
    "    return df.reset_index()"
   ]
  },
  {
   "cell_type": "code",
   "execution_count": 25,
   "metadata": {
    "scrolled": false
   },
   "outputs": [
    {
     "name": "stdout",
     "output_type": "stream",
     "text": [
      "2355\n",
      "\n",
      "1968"
     ]
    }
   ],
   "source": [
    "df_downloaded = extract_contents(newsids=newsids, where='newsdata/downloaded', n=50000); print('\\n')\n",
    "df_trashed = extract_contents(newsids=newsids, where='newsdata/trashed', n=30000)"
   ]
  },
  {
   "cell_type": "markdown",
   "metadata": {},
   "source": [
    "## downloaded와 trashed 간에 겹치는 게 없는지 확인\n",
    "기존의 뉴스파일을 Bigquery에 전송하는 과정에서, 이 둘간에 겹치는 사례가 종종 있었다\n",
    "(2019.10.18)"
   ]
  },
  {
   "cell_type": "code",
   "execution_count": 26,
   "metadata": {},
   "outputs": [],
   "source": [
    "intersect = set(df_trashed.id) & set(df_downloaded.id)\n",
    "assert len(intersect) == 0, 'ids overlapping'"
   ]
  },
  {
   "cell_type": "markdown",
   "metadata": {},
   "source": [
    "## Bigquery에 업로드"
   ]
  },
  {
   "cell_type": "code",
   "execution_count": 27,
   "metadata": {},
   "outputs": [
    {
     "name": "stderr",
     "output_type": "stream",
     "text": [
      "3it [00:20,  6.94s/it]\n",
      "2it [00:10,  5.34s/it]\n"
     ]
    }
   ],
   "source": [
    "gbq.to_gbq(df_downloaded, table_downloaded, project_id=proj, if_exists='append', chunksize=1000, credentials=credentials)\n",
    "gbq.to_gbq(df_trashed, table_trashed, project_id=proj, if_exists='append', chunksize=1000, credentials=credentials)"
   ]
  },
  {
   "cell_type": "code",
   "execution_count": null,
   "metadata": {},
   "outputs": [],
   "source": []
  },
  {
   "cell_type": "code",
   "execution_count": null,
   "metadata": {},
   "outputs": [],
   "source": []
  },
  {
   "cell_type": "code",
   "execution_count": null,
   "metadata": {},
   "outputs": [],
   "source": []
  },
  {
   "cell_type": "code",
   "execution_count": null,
   "metadata": {},
   "outputs": [],
   "source": []
  },
  {
   "cell_type": "code",
   "execution_count": 115,
   "metadata": {},
   "outputs": [],
   "source": [
    "class BigqueryLoader:\n",
    "    def __init__(self):\n",
    "        self.ids = self._get_ids()\n",
    "    \n",
    "    def _get_ids(self):\n",
    "        print('checking bigqueryloader status... ', end='')\n",
    "        \n",
    "        qry_ids = lambda prj, tb: 'SELECT id FROM `{}`'.format(prj + '.' + tb)\n",
    "        qry_downloaded = qry_ids(proj, table_downloaded)\n",
    "        qry_trashed = qry_ids(proj, table_trashed)\n",
    "        \n",
    "        ids_downloaded = gbq.read_gbq(qry_downloaded, project_id=proj, credentials=credentials)\n",
    "        ids_trashed = gbq.read_gbq(qry_trashed, project_id=proj, credentials=credentials)\n",
    "        \n",
    "        ids_downloaded_set = set(ids_downloaded.id)\n",
    "        ids_trashed_set = set(ids_trashed.id)\n",
    "        \n",
    "        if len(ids_downloaded) != len(ids_downloaded_set):\n",
    "            raise self.DuplicatesInSingleTable('duplicated in downloaded')\n",
    "\n",
    "        if len(ids_trashed) != len(ids_trashed_set):\n",
    "            raise self.DuplicatesInSingleTable('duplicated in trashed')\n",
    "\n",
    "        if len(ids_downloaded_set & ids_trashed_set) != 0:\n",
    "            raise self.DuplicatesBetweenTwoTables('duplicated between downloaded and trashed')\n",
    "    \n",
    "        ids = ids_downloaded_set | ids_trashed_set\n",
    "        \n",
    "        print('done')\n",
    "        print('we have: total {} ({} downloaded, {} trashed)'.format(len(ids), len(ids_downloaded_set), len(ids_trashed_set)))\n",
    "        return ids\n",
    "        \n",
    "        \n",
    "    def has(self, id):\n",
    "        return id in self.ids\n",
    "        \n",
    "    def upload(self, df, to, chunksize=1000):\n",
    "        gbq.to_gbq(df, to, project_id=proj, if_exists='append', chunksize=chunksize, credentials=credentials)\n",
    "        \n",
    "    class DuplicatesInSingleTable(Exception):\n",
    "        pass\n",
    "    \n",
    "    class DuplicatesBetweenTwoTables(Exception):\n",
    "        pass"
   ]
  },
  {
   "cell_type": "code",
   "execution_count": 116,
   "metadata": {
    "collapsed": true
   },
   "outputs": [
    {
     "name": "stdout",
     "output_type": "stream",
     "text": [
      "checking bigqueryloader status... "
     ]
    },
    {
     "ename": "Exception",
     "evalue": "",
     "output_type": "error",
     "traceback": [
      "\u001b[1;31m---------------------------------------------------------------------------\u001b[0m",
      "\u001b[1;31mException\u001b[0m                                 Traceback (most recent call last)",
      "\u001b[1;32m<ipython-input-116-0e748fd6240d>\u001b[0m in \u001b[0;36m<module>\u001b[1;34m\u001b[0m\n\u001b[1;32m----> 1\u001b[1;33m \u001b[0mBigqueryLoader\u001b[0m\u001b[1;33m(\u001b[0m\u001b[1;33m)\u001b[0m\u001b[1;33m\u001b[0m\u001b[1;33m\u001b[0m\u001b[0m\n\u001b[0m",
      "\u001b[1;32m<ipython-input-115-b0ec52d210ad>\u001b[0m in \u001b[0;36m__init__\u001b[1;34m(self)\u001b[0m\n\u001b[0;32m      1\u001b[0m \u001b[1;32mclass\u001b[0m \u001b[0mBigqueryLoader\u001b[0m\u001b[1;33m:\u001b[0m\u001b[1;33m\u001b[0m\u001b[1;33m\u001b[0m\u001b[0m\n\u001b[0;32m      2\u001b[0m     \u001b[1;32mdef\u001b[0m \u001b[0m__init__\u001b[0m\u001b[1;33m(\u001b[0m\u001b[0mself\u001b[0m\u001b[1;33m)\u001b[0m\u001b[1;33m:\u001b[0m\u001b[1;33m\u001b[0m\u001b[1;33m\u001b[0m\u001b[0m\n\u001b[1;32m----> 3\u001b[1;33m         \u001b[0mself\u001b[0m\u001b[1;33m.\u001b[0m\u001b[0mids\u001b[0m \u001b[1;33m=\u001b[0m \u001b[0mself\u001b[0m\u001b[1;33m.\u001b[0m\u001b[0m_get_ids\u001b[0m\u001b[1;33m(\u001b[0m\u001b[1;33m)\u001b[0m\u001b[1;33m\u001b[0m\u001b[1;33m\u001b[0m\u001b[0m\n\u001b[0m\u001b[0;32m      4\u001b[0m \u001b[1;33m\u001b[0m\u001b[0m\n\u001b[0;32m      5\u001b[0m     \u001b[1;32mdef\u001b[0m \u001b[0m_get_ids\u001b[0m\u001b[1;33m(\u001b[0m\u001b[0mself\u001b[0m\u001b[1;33m)\u001b[0m\u001b[1;33m:\u001b[0m\u001b[1;33m\u001b[0m\u001b[1;33m\u001b[0m\u001b[0m\n",
      "\u001b[1;32m<ipython-input-115-b0ec52d210ad>\u001b[0m in \u001b[0;36m_get_ids\u001b[1;34m(self)\u001b[0m\n\u001b[0;32m      5\u001b[0m     \u001b[1;32mdef\u001b[0m \u001b[0m_get_ids\u001b[0m\u001b[1;33m(\u001b[0m\u001b[0mself\u001b[0m\u001b[1;33m)\u001b[0m\u001b[1;33m:\u001b[0m\u001b[1;33m\u001b[0m\u001b[1;33m\u001b[0m\u001b[0m\n\u001b[0;32m      6\u001b[0m         \u001b[0mprint\u001b[0m\u001b[1;33m(\u001b[0m\u001b[1;34m'checking bigqueryloader status... '\u001b[0m\u001b[1;33m,\u001b[0m \u001b[0mend\u001b[0m\u001b[1;33m=\u001b[0m\u001b[1;34m''\u001b[0m\u001b[1;33m)\u001b[0m\u001b[1;33m\u001b[0m\u001b[1;33m\u001b[0m\u001b[0m\n\u001b[1;32m----> 7\u001b[1;33m         \u001b[1;32mraise\u001b[0m \u001b[0mException\u001b[0m\u001b[1;33m(\u001b[0m\u001b[1;33m)\u001b[0m\u001b[1;33m\u001b[0m\u001b[1;33m\u001b[0m\u001b[0m\n\u001b[0m\u001b[0;32m      8\u001b[0m \u001b[1;31m#         qry_ids = lambda prj, tb: 'SELECT id FROM `{}`'.format(prj + '.' + tb)\u001b[0m\u001b[1;33m\u001b[0m\u001b[1;33m\u001b[0m\u001b[1;33m\u001b[0m\u001b[0m\n\u001b[0;32m      9\u001b[0m \u001b[1;31m#         qry_downloaded = qry_ids(proj, table_downloaded)\u001b[0m\u001b[1;33m\u001b[0m\u001b[1;33m\u001b[0m\u001b[1;33m\u001b[0m\u001b[0m\n",
      "\u001b[1;31mException\u001b[0m: "
     ]
    }
   ],
   "source": [
    "BigqueryLoader()"
   ]
  },
  {
   "cell_type": "code",
   "execution_count": 2,
   "metadata": {},
   "outputs": [],
   "source": [
    "from bigquery_loader import BigqueryLoader"
   ]
  },
  {
   "cell_type": "code",
   "execution_count": 3,
   "metadata": {},
   "outputs": [
    {
     "name": "stdout",
     "output_type": "stream",
     "text": [
      "checking bigqueryloader status... done\n",
      "we have total 365314 ids (225441 downloaded, 139873 trashed)\n"
     ]
    }
   ],
   "source": [
    "bqloader = BigqueryLoader()"
   ]
  },
  {
   "cell_type": "code",
   "execution_count": null,
   "metadata": {},
   "outputs": [],
   "source": []
  }
 ],
 "metadata": {
  "kernelspec": {
   "display_name": "Python 3",
   "language": "python",
   "name": "python3"
  },
  "language_info": {
   "codemirror_mode": {
    "name": "ipython",
    "version": 3
   },
   "file_extension": ".py",
   "mimetype": "text/x-python",
   "name": "python",
   "nbconvert_exporter": "python",
   "pygments_lexer": "ipython3",
   "version": "3.7.3"
  }
 },
 "nbformat": 4,
 "nbformat_minor": 2
}
