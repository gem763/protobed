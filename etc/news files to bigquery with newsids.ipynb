{
 "cells": [
  {
   "cell_type": "markdown",
   "metadata": {},
   "source": [
    "# NEWS 파일(json)을 Bigquery에 저장"
   ]
  },
  {
   "cell_type": "markdown",
   "metadata": {},
   "source": [
    "#### 이슈\n",
    "\n",
    "* 이 노트북에서는 이미 다운로드 받은 NEWS 파일을 전송하는 것이 목적이나, 향후에는 newscrawler와 결합해야 한다. \n",
    "* 이때 newscrawler이 수집한 url 중 이미 다운로드한 url이 있는지를 검사(url selecting)해야 한다. \n",
    "* 이를 Bigquery에서 직접 참조하여 검사하려면, Bigquery에 저장된 url list를 다운로드 해야하는데\n",
    "* **쿼리비용**과 **다운로드 파일용량**이 걱정된다. \n",
    "* 예상 쿼리량: 0.4MB / 뉴스 1만개당 (평일 하루평균 다운로드 갯수 약 8-9천개), 즉 한달 지나면 약 10MB 증가\n",
    "* 예상 파일용량: 0.5MB / 뉴스 1만개당"
   ]
  },
  {
   "cell_type": "code",
   "execution_count": 4,
   "metadata": {},
   "outputs": [
    {
     "data": {
      "text/plain": [
       "0.4964481392221109"
      ]
     },
     "execution_count": 4,
     "metadata": {},
     "output_type": "execute_result"
    }
   ],
   "source": [
    "11/221574 * 10000"
   ]
  },
  {
   "cell_type": "markdown",
   "metadata": {},
   "source": [
    "## 아이디어\n",
    "\n",
    "* newsids.pickle 파일에 url 집합(set)을 통째로 저장한다\n",
    "* 뉴스를 새로 다운로드할 때마다, newsids의 url 갯수와 Bigquery상의 레코드갯수(meta)를 단순비교한다"
   ]
  },
  {
   "cell_type": "code",
   "execution_count": null,
   "metadata": {},
   "outputs": [],
   "source": []
  },
  {
   "cell_type": "code",
   "execution_count": 1,
   "metadata": {},
   "outputs": [],
   "source": [
    "import os\n",
    "import sys\n",
    "import json\n",
    "import requests\n",
    "import pickle\n",
    "import gzip\n",
    "import pandas as pd\n",
    "import pandas_gbq as gbq\n",
    "from pathlib import Path\n",
    "from google.oauth2 import service_account\n",
    "from google.cloud import bigquery\n",
    "from IPython.core.debugger import set_trace\n",
    "from tqdm.auto import tqdm\n",
    "tqdm.pandas()"
   ]
  },
  {
   "cell_type": "markdown",
   "metadata": {},
   "source": [
    "## Configuration"
   ]
  },
  {
   "cell_type": "code",
   "execution_count": 2,
   "metadata": {},
   "outputs": [],
   "source": [
    "proj = 'global-news-crawl'\n",
    "table_downloaded = 'news_dataset.downloaded'\n",
    "table_trashed = 'news_dataset.trashed'\n",
    "credentials = service_account.Credentials.from_service_account_file('global-news-crawl-c48d7cd9aa81.json')\n",
    "newsids_pkl = 'newsids.pickle'"
   ]
  },
  {
   "cell_type": "markdown",
   "metadata": {},
   "source": [
    "## NewsIDs helper class"
   ]
  },
  {
   "cell_type": "code",
   "execution_count": 3,
   "metadata": {},
   "outputs": [],
   "source": [
    "class NewsIDs:\n",
    "    def __init__(self, fpath, init=False):\n",
    "        self.fpath = fpath\n",
    "        \n",
    "        if init:\n",
    "            self.ids = set()\n",
    "                \n",
    "        else:\n",
    "            with open(fpath, 'rb') as f:\n",
    "                self.ids = pickle.load(f)\n",
    "        \n",
    "    def has(self, id):\n",
    "        return id in self.ids\n",
    "    \n",
    "    @property\n",
    "    def size(self):\n",
    "        return len(self.ids)\n",
    "    \n",
    "    def push(self, *ids_to_add):\n",
    "        self.ids |= set(ids_to_add)\n",
    "        \n",
    "    def save(self):\n",
    "        with open(self.fpath, 'wb') as f:\n",
    "            pickle.dump(self.ids, f)\n",
    "            \n",
    "    def push_and_save(self, *ids_to_add):\n",
    "        self.push(*ids_to_add)\n",
    "        self.save()"
   ]
  },
  {
   "cell_type": "markdown",
   "metadata": {},
   "source": [
    "## newsids에 저장된 url 갯수와 Bigquery 레코드갯수가 같은지 확인"
   ]
  },
  {
   "cell_type": "code",
   "execution_count": 4,
   "metadata": {},
   "outputs": [
    {
     "data": {
      "text/plain": [
       "352447"
      ]
     },
     "execution_count": 4,
     "metadata": {},
     "output_type": "execute_result"
    }
   ],
   "source": [
    "newsids = NewsIDs(newsids_pkl, init=False); newsids.size"
   ]
  },
  {
   "cell_type": "code",
   "execution_count": 5,
   "metadata": {},
   "outputs": [],
   "source": [
    "bq_client = bigquery.Client(project=proj, credentials=credentials)\n",
    "_table_downloaded = bq_client.get_table(table_downloaded)\n",
    "_table_trashed = bq_client.get_table(table_trashed)\n",
    "\n",
    "assert (_table_downloaded.num_rows + _table_trashed.num_rows) == newsids.size, 'size of newsids mismatched'"
   ]
  },
  {
   "cell_type": "markdown",
   "metadata": {},
   "source": [
    "## 파일에서 뉴스정보 추출\n",
    "나중에는 필요없는 과정이다. 다운로드 받은 즉시 바로 Bigquery에 전송할 것이므로"
   ]
  },
  {
   "cell_type": "code",
   "execution_count": 6,
   "metadata": {},
   "outputs": [],
   "source": [
    "def extract_contents(newsids=None, where=None, n=1000):\n",
    "    df = {}\n",
    "    _n = 0\n",
    "    \n",
    "    for file in Path(where).glob('**/*.json'):\n",
    "        id = file.stem\n",
    "        \n",
    "        if not newsids.has(id):\n",
    "            try:\n",
    "                js = json.loads(file.read_text())\n",
    "            \n",
    "                if 'authors' in js:\n",
    "                    js['authors'] = ', '.join(js['authors'])\n",
    "\n",
    "                df[id] = js\n",
    "\n",
    "                _n += 1\n",
    "                print('\\r{}'.format(_n), end='')\n",
    "                if _n == n: break\n",
    "                    \n",
    "            except:\n",
    "                print(file)\n",
    "           \n",
    "    df = pd.DataFrame.from_dict(df, orient='index')\n",
    "    df.index.name = 'id'\n",
    "    return df.reset_index()"
   ]
  },
  {
   "cell_type": "code",
   "execution_count": 7,
   "metadata": {
    "scrolled": false
   },
   "outputs": [
    {
     "name": "stdout",
     "output_type": "stream",
     "text": [
      "3772\n",
      "\n",
      "2280"
     ]
    }
   ],
   "source": [
    "df_downloaded = extract_contents(newsids=newsids, where='newsdata/downloaded', n=50000); print('\\n')\n",
    "df_trashed = extract_contents(newsids=newsids, where='newsdata/trashed', n=30000)"
   ]
  },
  {
   "cell_type": "markdown",
   "metadata": {},
   "source": [
    "## downloaded와 trashed 간에 겹치는 게 없는지 확인\n",
    "기존의 뉴스파일을 Bigquery에 전송하는 과정에서, 이 둘간에 겹치는 사례가 종종 있었다\n",
    "(2019.10.18)"
   ]
  },
  {
   "cell_type": "code",
   "execution_count": 8,
   "metadata": {},
   "outputs": [],
   "source": [
    "intersect = set(df_trashed.id) & set(df_downloaded.id)\n",
    "assert len(intersect) == 0, 'ids overlapping'"
   ]
  },
  {
   "cell_type": "markdown",
   "metadata": {},
   "source": [
    "## downloaded, trashed 전체 url을 newsids에 저장"
   ]
  },
  {
   "cell_type": "code",
   "execution_count": 9,
   "metadata": {},
   "outputs": [
    {
     "data": {
      "text/plain": [
       "358499"
      ]
     },
     "execution_count": 9,
     "metadata": {},
     "output_type": "execute_result"
    }
   ],
   "source": [
    "newsids.push_and_save(*df_downloaded.id, *df_trashed.id); newsids.size"
   ]
  },
  {
   "cell_type": "markdown",
   "metadata": {},
   "source": [
    "## Bigquery에 업로드"
   ]
  },
  {
   "cell_type": "code",
   "execution_count": 10,
   "metadata": {},
   "outputs": [
    {
     "name": "stderr",
     "output_type": "stream",
     "text": [
      "4it [00:35,  8.01s/it]\n",
      "3it [00:13,  3.47s/it]\n"
     ]
    }
   ],
   "source": [
    "gbq.to_gbq(df_downloaded, table_downloaded, project_id=proj, if_exists='append', chunksize=1000, credentials=credentials)\n",
    "gbq.to_gbq(df_trashed, table_trashed, project_id=proj, if_exists='append', chunksize=1000, credentials=credentials)"
   ]
  },
  {
   "cell_type": "code",
   "execution_count": null,
   "metadata": {},
   "outputs": [],
   "source": []
  },
  {
   "cell_type": "markdown",
   "metadata": {},
   "source": [
    "# 이 노트북 방식은 drop한다 (2019.10.19)\n",
    "\n",
    "* newsids.pickle 아이디어는 썩 괜찮았으나, Bigquery상에 저장된 실질적인 url을 확인하지 않는 다는 결점이 있다\n",
    "* 특히 Bigquery에 업로드하는 과정에서 HTTP연결오류 등이 발생하면 더욱 난감해진다\n",
    "* 쿼리비용 등이 걱정되지만, 역시 Bigquery에서 직접 url list를 가져오는 것이 가장 확실한 방법인것 같다\n",
    "* 비용, 다운용량 등은 나중에 다른 아이디어가 생기겠지...."
   ]
  },
  {
   "cell_type": "code",
   "execution_count": null,
   "metadata": {},
   "outputs": [],
   "source": []
  }
 ],
 "metadata": {
  "kernelspec": {
   "display_name": "Python 3",
   "language": "python",
   "name": "python3"
  },
  "language_info": {
   "codemirror_mode": {
    "name": "ipython",
    "version": 3
   },
   "file_extension": ".py",
   "mimetype": "text/x-python",
   "name": "python",
   "nbconvert_exporter": "python",
   "pygments_lexer": "ipython3",
   "version": "3.7.1"
  }
 },
 "nbformat": 4,
 "nbformat_minor": 2
}
