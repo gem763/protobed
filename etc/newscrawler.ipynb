{
 "cells": [
  {
   "cell_type": "code",
   "execution_count": 1,
   "metadata": {},
   "outputs": [],
   "source": [
    "%load_ext autoreload\n",
    "%autoreload\n",
    "%matplotlib inline\n",
    "\n",
    "from news_crawler import NewsCrawler, select_urls\n",
    "from IPython.display import display\n",
    "from IPython.core.debugger import set_trace"
   ]
  },
  {
   "cell_type": "code",
   "execution_count": 2,
   "metadata": {},
   "outputs": [],
   "source": [
    "crawler = NewsCrawler()"
   ]
  },
  {
   "cell_type": "markdown",
   "metadata": {},
   "source": [
    "# 1. URL을 모은다"
   ]
  },
  {
   "cell_type": "code",
   "execution_count": 3,
   "metadata": {},
   "outputs": [],
   "source": [
    "# 제거고려: nextbigfuture, nbcnews, joongang, chosun"
   ]
  },
  {
   "cell_type": "code",
   "execution_count": 24,
   "metadata": {
    "scrolled": true
   },
   "outputs": [
    {
     "name": "stdout",
     "output_type": "stream",
     "text": [
      "100.00% (105.67 seconds): Collecting URLs... yahoo               \n",
      "\n",
      "100.00% (1.94 seconds): Selecting URLs... cryptonews          "
     ]
    },
    {
     "data": {
      "text/html": [
       "<div>\n",
       "<style scoped>\n",
       "    .dataframe tbody tr th:only-of-type {\n",
       "        vertical-align: middle;\n",
       "    }\n",
       "\n",
       "    .dataframe tbody tr th {\n",
       "        vertical-align: top;\n",
       "    }\n",
       "\n",
       "    .dataframe thead th {\n",
       "        text-align: right;\n",
       "    }\n",
       "</style>\n",
       "<table border=\"1\" class=\"dataframe\">\n",
       "  <thead>\n",
       "    <tr style=\"text-align: right;\">\n",
       "      <th></th>\n",
       "      <th>collected</th>\n",
       "      <th>collected_unique</th>\n",
       "      <th>selected</th>\n",
       "    </tr>\n",
       "  </thead>\n",
       "  <tbody>\n",
       "    <tr>\n",
       "      <td>all</td>\n",
       "      <td>25986</td>\n",
       "      <td>25922</td>\n",
       "      <td>1265</td>\n",
       "    </tr>\n",
       "    <tr>\n",
       "      <td>reuters</td>\n",
       "      <td>1158</td>\n",
       "      <td>1158</td>\n",
       "      <td>161</td>\n",
       "    </tr>\n",
       "    <tr>\n",
       "      <td>investing.com</td>\n",
       "      <td>925</td>\n",
       "      <td>925</td>\n",
       "      <td>114</td>\n",
       "    </tr>\n",
       "    <tr>\n",
       "      <td>dailymail</td>\n",
       "      <td>2885</td>\n",
       "      <td>2885</td>\n",
       "      <td>97</td>\n",
       "    </tr>\n",
       "    <tr>\n",
       "      <td>euronews</td>\n",
       "      <td>955</td>\n",
       "      <td>955</td>\n",
       "      <td>89</td>\n",
       "    </tr>\n",
       "    <tr>\n",
       "      <td>...</td>\n",
       "      <td>...</td>\n",
       "      <td>...</td>\n",
       "      <td>...</td>\n",
       "    </tr>\n",
       "    <tr>\n",
       "      <td>blastingnews</td>\n",
       "      <td>123</td>\n",
       "      <td>123</td>\n",
       "      <td>0</td>\n",
       "    </tr>\n",
       "    <tr>\n",
       "      <td>ccn</td>\n",
       "      <td>0</td>\n",
       "      <td>0</td>\n",
       "      <td>0</td>\n",
       "    </tr>\n",
       "    <tr>\n",
       "      <td>afr</td>\n",
       "      <td>451</td>\n",
       "      <td>451</td>\n",
       "      <td>0</td>\n",
       "    </tr>\n",
       "    <tr>\n",
       "      <td>realclearpolitics</td>\n",
       "      <td>292</td>\n",
       "      <td>270</td>\n",
       "      <td>0</td>\n",
       "    </tr>\n",
       "    <tr>\n",
       "      <td>thinkprogress</td>\n",
       "      <td>82</td>\n",
       "      <td>82</td>\n",
       "      <td>0</td>\n",
       "    </tr>\n",
       "  </tbody>\n",
       "</table>\n",
       "<p>74 rows × 3 columns</p>\n",
       "</div>"
      ],
      "text/plain": [
       "                   collected  collected_unique  selected\n",
       "all                    25986             25922      1265\n",
       "reuters                 1158              1158       161\n",
       "investing.com            925               925       114\n",
       "dailymail               2885              2885        97\n",
       "euronews                 955               955        89\n",
       "...                      ...               ...       ...\n",
       "blastingnews             123               123         0\n",
       "ccn                        0                 0         0\n",
       "afr                      451               451         0\n",
       "realclearpolitics        292               270         0\n",
       "thinkprogress             82                82         0\n",
       "\n",
       "[74 rows x 3 columns]"
      ]
     },
     "metadata": {},
     "output_type": "display_data"
    },
    {
     "data": {
      "text/html": [
       "<div>\n",
       "<style scoped>\n",
       "    .dataframe tbody tr th:only-of-type {\n",
       "        vertical-align: middle;\n",
       "    }\n",
       "\n",
       "    .dataframe tbody tr th {\n",
       "        vertical-align: top;\n",
       "    }\n",
       "\n",
       "    .dataframe thead th {\n",
       "        text-align: right;\n",
       "    }\n",
       "</style>\n",
       "<table border=\"1\" class=\"dataframe\">\n",
       "  <thead>\n",
       "    <tr style=\"text-align: right;\">\n",
       "      <th></th>\n",
       "      <th>url</th>\n",
       "      <th>pubs</th>\n",
       "      <th>actual_pub</th>\n",
       "    </tr>\n",
       "  </thead>\n",
       "  <tbody>\n",
       "    <tr>\n",
       "      <td>0</td>\n",
       "      <td>https://politico.com/news/2019/10/17/pelosi-de...</td>\n",
       "      <td>politico, realclearpolitics</td>\n",
       "      <td>politico</td>\n",
       "    </tr>\n",
       "    <tr>\n",
       "      <td>1</td>\n",
       "      <td>https://politico.com/news/2019/10/16/elizabeth...</td>\n",
       "      <td>politico, realclearpolitics</td>\n",
       "      <td>politico</td>\n",
       "    </tr>\n",
       "    <tr>\n",
       "      <td>2</td>\n",
       "      <td>https://politico.com/news/2019/10/17/trump-syr...</td>\n",
       "      <td>politico, realclearpolitics</td>\n",
       "      <td>politico</td>\n",
       "    </tr>\n",
       "    <tr>\n",
       "      <td>3</td>\n",
       "      <td>https://politico.com/magazine/story/2019/10/15...</td>\n",
       "      <td>politico, realclearpolitics</td>\n",
       "      <td>politico</td>\n",
       "    </tr>\n",
       "    <tr>\n",
       "      <td>4</td>\n",
       "      <td>https://politico.com/news/2019/10/15/trump-con...</td>\n",
       "      <td>politico, realclearpolitics</td>\n",
       "      <td>politico</td>\n",
       "    </tr>\n",
       "    <tr>\n",
       "      <td>...</td>\n",
       "      <td>...</td>\n",
       "      <td>...</td>\n",
       "      <td>...</td>\n",
       "    </tr>\n",
       "    <tr>\n",
       "      <td>59</td>\n",
       "      <td>https://msnbc.com/msnbc/watch/mulvaney-says-tr...</td>\n",
       "      <td>msnbc, nbcnews</td>\n",
       "      <td>msnbc</td>\n",
       "    </tr>\n",
       "    <tr>\n",
       "      <td>60</td>\n",
       "      <td>https://msnbc.com/ali-velshi/watch/romney-aban...</td>\n",
       "      <td>msnbc, nbcnews</td>\n",
       "      <td>msnbc</td>\n",
       "    </tr>\n",
       "    <tr>\n",
       "      <td>61</td>\n",
       "      <td>https://nbcnews.com/politics/politics-news/pen...</td>\n",
       "      <td>msnbc, nbcnews</td>\n",
       "      <td>nbcnews</td>\n",
       "    </tr>\n",
       "    <tr>\n",
       "      <td>62</td>\n",
       "      <td>https://nbcnews.com/news/latino/house-holds-it...</td>\n",
       "      <td>msnbc, nbcnews</td>\n",
       "      <td>nbcnews</td>\n",
       "    </tr>\n",
       "    <tr>\n",
       "      <td>63</td>\n",
       "      <td>https://nbcnews.com/news/nbcblk/elijah-cumming...</td>\n",
       "      <td>msnbc, nbcnews</td>\n",
       "      <td>nbcnews</td>\n",
       "    </tr>\n",
       "  </tbody>\n",
       "</table>\n",
       "<p>64 rows × 3 columns</p>\n",
       "</div>"
      ],
      "text/plain": [
       "                                                  url  \\\n",
       "0   https://politico.com/news/2019/10/17/pelosi-de...   \n",
       "1   https://politico.com/news/2019/10/16/elizabeth...   \n",
       "2   https://politico.com/news/2019/10/17/trump-syr...   \n",
       "3   https://politico.com/magazine/story/2019/10/15...   \n",
       "4   https://politico.com/news/2019/10/15/trump-con...   \n",
       "..                                                ...   \n",
       "59  https://msnbc.com/msnbc/watch/mulvaney-says-tr...   \n",
       "60  https://msnbc.com/ali-velshi/watch/romney-aban...   \n",
       "61  https://nbcnews.com/politics/politics-news/pen...   \n",
       "62  https://nbcnews.com/news/latino/house-holds-it...   \n",
       "63  https://nbcnews.com/news/nbcblk/elijah-cumming...   \n",
       "\n",
       "                           pubs actual_pub  \n",
       "0   politico, realclearpolitics   politico  \n",
       "1   politico, realclearpolitics   politico  \n",
       "2   politico, realclearpolitics   politico  \n",
       "3   politico, realclearpolitics   politico  \n",
       "4   politico, realclearpolitics   politico  \n",
       "..                          ...        ...  \n",
       "59               msnbc, nbcnews      msnbc  \n",
       "60               msnbc, nbcnews      msnbc  \n",
       "61               msnbc, nbcnews    nbcnews  \n",
       "62               msnbc, nbcnews    nbcnews  \n",
       "63               msnbc, nbcnews    nbcnews  \n",
       "\n",
       "[64 rows x 3 columns]"
      ]
     },
     "metadata": {},
     "output_type": "display_data"
    }
   ],
   "source": [
    "collect_result = crawler.collect(); display(*collect_result)"
   ]
  },
  {
   "cell_type": "markdown",
   "metadata": {},
   "source": [
    "# 2. 해당 URL의 뉴스를 다운로드한다"
   ]
  },
  {
   "cell_type": "code",
   "execution_count": null,
   "metadata": {
    "scrolled": true
   },
   "outputs": [
    {
     "name": "stdout",
     "output_type": "stream",
     "text": [
      "5.77% (20.01 seconds): Downloading... breitbart           "
     ]
    },
    {
     "name": "stderr",
     "output_type": "stream",
     "text": [
      "Some characters could not be decoded, and were replaced with REPLACEMENT CHARACTER.\n"
     ]
    },
    {
     "name": "stdout",
     "output_type": "stream",
     "text": [
      "96.36% (331.54 seconds): Downloading... dailymail           "
     ]
    }
   ],
   "source": [
    "download_result = crawler.download(); download_result"
   ]
  },
  {
   "cell_type": "code",
   "execution_count": null,
   "metadata": {},
   "outputs": [],
   "source": []
  }
 ],
 "metadata": {
  "kernelspec": {
   "display_name": "Python 3",
   "language": "python",
   "name": "python3"
  },
  "language_info": {
   "codemirror_mode": {
    "name": "ipython",
    "version": 3
   },
   "file_extension": ".py",
   "mimetype": "text/x-python",
   "name": "python",
   "nbconvert_exporter": "python",
   "pygments_lexer": "ipython3",
   "version": "3.7.3"
  }
 },
 "nbformat": 4,
 "nbformat_minor": 2
}
