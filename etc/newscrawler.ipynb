{
 "cells": [
  {
   "cell_type": "code",
   "execution_count": 1,
   "metadata": {},
   "outputs": [],
   "source": [
    "%load_ext autoreload\n",
    "%autoreload\n",
    "%matplotlib inline\n",
    "\n",
    "from news_crawler import NewsCrawler, select_urls\n",
    "from IPython.display import display\n",
    "from IPython.core.debugger import set_trace"
   ]
  },
  {
   "cell_type": "code",
   "execution_count": 2,
   "metadata": {},
   "outputs": [],
   "source": [
    "crawler = NewsCrawler()#'vice')"
   ]
  },
  {
   "cell_type": "markdown",
   "metadata": {},
   "source": [
    "# 1. URL을 모은다"
   ]
  },
  {
   "cell_type": "code",
   "execution_count": 3,
   "metadata": {},
   "outputs": [],
   "source": [
    "# 제거고려: nextbigfuture, nbcnews, joongang, chosun"
   ]
  },
  {
   "cell_type": "code",
   "execution_count": 29,
   "metadata": {
    "scrolled": true
   },
   "outputs": [
    {
     "name": "stdout",
     "output_type": "stream",
     "text": [
      "100.00% (114.96 seconds): Collecting URLs... yahoo               "
     ]
    },
    {
     "data": {
      "text/plain": [
       "n_total     26064\n",
       "n_unique    25982\n",
       "dtype: int64"
      ]
     },
     "metadata": {},
     "output_type": "display_data"
    },
    {
     "data": {
      "text/html": [
       "<div>\n",
       "<style scoped>\n",
       "    .dataframe tbody tr th:only-of-type {\n",
       "        vertical-align: middle;\n",
       "    }\n",
       "\n",
       "    .dataframe tbody tr th {\n",
       "        vertical-align: top;\n",
       "    }\n",
       "\n",
       "    .dataframe thead th {\n",
       "        text-align: right;\n",
       "    }\n",
       "</style>\n",
       "<table border=\"1\" class=\"dataframe\">\n",
       "  <thead>\n",
       "    <tr style=\"text-align: right;\">\n",
       "      <th></th>\n",
       "      <th>pubs</th>\n",
       "      <th>actual_pub</th>\n",
       "    </tr>\n",
       "  </thead>\n",
       "  <tbody>\n",
       "    <tr>\n",
       "      <td>https://politico.com/magazine/story/2019/10/11/tom-steyer-2020-climate-229843</td>\n",
       "      <td>politico, nationalreview</td>\n",
       "      <td>politico</td>\n",
       "    </tr>\n",
       "    <tr>\n",
       "      <td>https://politico.com/news/2019/10/13/joe-biden-rudy-giuliani-2020-045163</td>\n",
       "      <td>politico, realclearpolitics</td>\n",
       "      <td>politico</td>\n",
       "    </tr>\n",
       "    <tr>\n",
       "      <td>https://politico.com/news/2019/10/15/trump-conspiracy-impeachment-defense-046284</td>\n",
       "      <td>politico, realclearpolitics</td>\n",
       "      <td>politico</td>\n",
       "    </tr>\n",
       "    <tr>\n",
       "      <td>https://cnbc.com/2019/10/15/moodys-trump-on-his-way-to-an-easy-2020-win-if-economy-holds-up.html</td>\n",
       "      <td>cnbc, realclearpolitics</td>\n",
       "      <td>cnbc</td>\n",
       "    </tr>\n",
       "    <tr>\n",
       "      <td>https://foxnews.com/opinion/newt-gingrich-democrats-debate-five-questions</td>\n",
       "      <td>fox, realclearpolitics</td>\n",
       "      <td>fox</td>\n",
       "    </tr>\n",
       "    <tr>\n",
       "      <td>...</td>\n",
       "      <td>...</td>\n",
       "      <td>...</td>\n",
       "    </tr>\n",
       "    <tr>\n",
       "      <td>https://nbcnews.com/video/o-rourke-and-buttigieg-have-heated-exchange-on-guns-71343685512</td>\n",
       "      <td>msnbc, nbcnews</td>\n",
       "      <td>nbcnews</td>\n",
       "    </tr>\n",
       "    <tr>\n",
       "      <td>https://nbcnews.com/politics/trump-impeachment-inquiry/pelosi-says-house-won-t-hold-vote-impeachment-time-n1066671</td>\n",
       "      <td>msnbc, nbcnews</td>\n",
       "      <td>nbcnews</td>\n",
       "    </tr>\n",
       "    <tr>\n",
       "      <td>https://nbcnews.com/news/us-news/10-year-old-girl-dies-apparent-suicide-california-prompting-police-n1066516</td>\n",
       "      <td>msnbc, nbcnews</td>\n",
       "      <td>nbcnews</td>\n",
       "    </tr>\n",
       "    <tr>\n",
       "      <td>https://nbcnews.com/think/opinion/kim-kardashian-s-met-gala-dress-fight-kanye-west-really-ncna1066446</td>\n",
       "      <td>msnbc, nbcnews</td>\n",
       "      <td>nbcnews</td>\n",
       "    </tr>\n",
       "    <tr>\n",
       "      <td>https://nbcnews.com/news/sports/los-angeles-angels-employee-told-investigators-he-gave-oxycodone-tyler-n1066611</td>\n",
       "      <td>msnbc, nbcnews</td>\n",
       "      <td>nbcnews</td>\n",
       "    </tr>\n",
       "  </tbody>\n",
       "</table>\n",
       "<p>81 rows × 2 columns</p>\n",
       "</div>"
      ],
      "text/plain": [
       "                                                                           pubs  \\\n",
       "https://politico.com/magazine/story/2019/10/11/...     politico, nationalreview   \n",
       "https://politico.com/news/2019/10/13/joe-biden-...  politico, realclearpolitics   \n",
       "https://politico.com/news/2019/10/15/trump-cons...  politico, realclearpolitics   \n",
       "https://cnbc.com/2019/10/15/moodys-trump-on-his...      cnbc, realclearpolitics   \n",
       "https://foxnews.com/opinion/newt-gingrich-democ...       fox, realclearpolitics   \n",
       "...                                                                         ...   \n",
       "https://nbcnews.com/video/o-rourke-and-buttigie...               msnbc, nbcnews   \n",
       "https://nbcnews.com/politics/trump-impeachment-...               msnbc, nbcnews   \n",
       "https://nbcnews.com/news/us-news/10-year-old-gi...               msnbc, nbcnews   \n",
       "https://nbcnews.com/think/opinion/kim-kardashia...               msnbc, nbcnews   \n",
       "https://nbcnews.com/news/sports/los-angeles-ang...               msnbc, nbcnews   \n",
       "\n",
       "                                                   actual_pub  \n",
       "https://politico.com/magazine/story/2019/10/11/...   politico  \n",
       "https://politico.com/news/2019/10/13/joe-biden-...   politico  \n",
       "https://politico.com/news/2019/10/15/trump-cons...   politico  \n",
       "https://cnbc.com/2019/10/15/moodys-trump-on-his...       cnbc  \n",
       "https://foxnews.com/opinion/newt-gingrich-democ...        fox  \n",
       "...                                                       ...  \n",
       "https://nbcnews.com/video/o-rourke-and-buttigie...    nbcnews  \n",
       "https://nbcnews.com/politics/trump-impeachment-...    nbcnews  \n",
       "https://nbcnews.com/news/us-news/10-year-old-gi...    nbcnews  \n",
       "https://nbcnews.com/think/opinion/kim-kardashia...    nbcnews  \n",
       "https://nbcnews.com/news/sports/los-angeles-ang...    nbcnews  \n",
       "\n",
       "[81 rows x 2 columns]"
      ]
     },
     "metadata": {},
     "output_type": "display_data"
    },
    {
     "data": {
      "text/plain": [
       "huffpost          80\n",
       "cnn              835\n",
       "investing.com    886\n",
       "politico         212\n",
       "time              16\n",
       "                ... \n",
       "arirang           56\n",
       "ccn                0\n",
       "cointelegraph     73\n",
       "cryptocoin        43\n",
       "cryptonews       325\n",
       "Length: 73, dtype: int64"
      ]
     },
     "metadata": {},
     "output_type": "display_data"
    }
   ],
   "source": [
    "collect_results = crawler.collect(); display(*collect_results)"
   ]
  },
  {
   "cell_type": "code",
   "execution_count": 30,
   "metadata": {},
   "outputs": [
    {
     "data": {
      "text/plain": [
       "82"
      ]
     },
     "execution_count": 30,
     "metadata": {},
     "output_type": "execute_result"
    }
   ],
   "source": [
    "collect_results[2]['thinkprogress']"
   ]
  },
  {
   "cell_type": "markdown",
   "metadata": {},
   "source": [
    "# 2. 모은 URL중 이미 받은 것은 버린다"
   ]
  },
  {
   "cell_type": "code",
   "execution_count": 31,
   "metadata": {
    "scrolled": true
   },
   "outputs": [
    {
     "name": "stdout",
     "output_type": "stream",
     "text": [
      "100.00% (2.97 seconds): Selecting URLs... cryptonews          "
     ]
    },
    {
     "data": {
      "text/plain": [
       "n_total     723\n",
       "n_unique    723\n",
       "dtype: int64"
      ]
     },
     "metadata": {},
     "output_type": "display_data"
    },
    {
     "data": {
      "text/html": [
       "<div>\n",
       "<style scoped>\n",
       "    .dataframe tbody tr th:only-of-type {\n",
       "        vertical-align: middle;\n",
       "    }\n",
       "\n",
       "    .dataframe tbody tr th {\n",
       "        vertical-align: top;\n",
       "    }\n",
       "\n",
       "    .dataframe thead th {\n",
       "        text-align: right;\n",
       "    }\n",
       "</style>\n",
       "<table border=\"1\" class=\"dataframe\">\n",
       "  <thead>\n",
       "    <tr style=\"text-align: right;\">\n",
       "      <th></th>\n",
       "      <th>pubs</th>\n",
       "      <th>actual_pub</th>\n",
       "    </tr>\n",
       "  </thead>\n",
       "  <tbody>\n",
       "  </tbody>\n",
       "</table>\n",
       "</div>"
      ],
      "text/plain": [
       "Empty DataFrame\n",
       "Columns: [pubs, actual_pub]\n",
       "Index: []"
      ]
     },
     "metadata": {},
     "output_type": "display_data"
    },
    {
     "data": {
      "text/plain": [
       "huffpost           1\n",
       "cnn                8\n",
       "investing.com    104\n",
       "politico           1\n",
       "time               0\n",
       "                ... \n",
       "arirang            1\n",
       "ccn                0\n",
       "cointelegraph      0\n",
       "cryptocoin         0\n",
       "cryptonews         1\n",
       "Length: 73, dtype: int64"
      ]
     },
     "metadata": {},
     "output_type": "display_data"
    }
   ],
   "source": [
    "select_results = crawler.select(); display(*select_results)"
   ]
  },
  {
   "cell_type": "code",
   "execution_count": 32,
   "metadata": {},
   "outputs": [
    {
     "data": {
      "text/plain": [
       "set()"
      ]
     },
     "execution_count": 32,
     "metadata": {},
     "output_type": "execute_result"
    }
   ],
   "source": [
    "crawler.urls_selected['thinkprogress']"
   ]
  },
  {
   "cell_type": "markdown",
   "metadata": {},
   "source": [
    "# 3. 해당 URL의 뉴스를 다운로드한다"
   ]
  },
  {
   "cell_type": "code",
   "execution_count": 33,
   "metadata": {
    "scrolled": true
   },
   "outputs": [
    {
     "name": "stdout",
     "output_type": "stream",
     "text": [
      "8.44% (13.28 seconds): Downloading... blastingnews        "
     ]
    },
    {
     "name": "stderr",
     "output_type": "stream",
     "text": [
      "Some characters could not be decoded, and were replaced with REPLACEMENT CHARACTER.\n"
     ]
    },
    {
     "name": "stdout",
     "output_type": "stream",
     "text": [
      "32.64% (47.34 seconds): Downloading... indiatimes          "
     ]
    },
    {
     "name": "stderr",
     "output_type": "stream",
     "text": [
      "Some characters could not be decoded, and were replaced with REPLACEMENT CHARACTER.\n"
     ]
    },
    {
     "name": "stdout",
     "output_type": "stream",
     "text": [
      "100.00% (369.58 seconds): Downloading... yahoo               "
     ]
    },
    {
     "data": {
      "text/html": [
       "<div>\n",
       "<style scoped>\n",
       "    .dataframe tbody tr th:only-of-type {\n",
       "        vertical-align: middle;\n",
       "    }\n",
       "\n",
       "    .dataframe tbody tr th {\n",
       "        vertical-align: top;\n",
       "    }\n",
       "\n",
       "    .dataframe thead th {\n",
       "        text-align: right;\n",
       "    }\n",
       "</style>\n",
       "<table border=\"1\" class=\"dataframe\">\n",
       "  <thead>\n",
       "    <tr style=\"text-align: right;\">\n",
       "      <th></th>\n",
       "      <th>downloaded</th>\n",
       "      <th>trashed</th>\n",
       "    </tr>\n",
       "  </thead>\n",
       "  <tbody>\n",
       "    <tr>\n",
       "      <td>huffpost</td>\n",
       "      <td>0</td>\n",
       "      <td>1</td>\n",
       "    </tr>\n",
       "    <tr>\n",
       "      <td>cnn</td>\n",
       "      <td>1</td>\n",
       "      <td>7</td>\n",
       "    </tr>\n",
       "    <tr>\n",
       "      <td>investing.com</td>\n",
       "      <td>45</td>\n",
       "      <td>59</td>\n",
       "    </tr>\n",
       "    <tr>\n",
       "      <td>politico</td>\n",
       "      <td>1</td>\n",
       "      <td>0</td>\n",
       "    </tr>\n",
       "    <tr>\n",
       "      <td>time</td>\n",
       "      <td>0</td>\n",
       "      <td>0</td>\n",
       "    </tr>\n",
       "    <tr>\n",
       "      <td>...</td>\n",
       "      <td>...</td>\n",
       "      <td>...</td>\n",
       "    </tr>\n",
       "    <tr>\n",
       "      <td>arirang</td>\n",
       "      <td>1</td>\n",
       "      <td>0</td>\n",
       "    </tr>\n",
       "    <tr>\n",
       "      <td>ccn</td>\n",
       "      <td>0</td>\n",
       "      <td>0</td>\n",
       "    </tr>\n",
       "    <tr>\n",
       "      <td>cointelegraph</td>\n",
       "      <td>0</td>\n",
       "      <td>0</td>\n",
       "    </tr>\n",
       "    <tr>\n",
       "      <td>cryptocoin</td>\n",
       "      <td>0</td>\n",
       "      <td>0</td>\n",
       "    </tr>\n",
       "    <tr>\n",
       "      <td>cryptonews</td>\n",
       "      <td>0</td>\n",
       "      <td>1</td>\n",
       "    </tr>\n",
       "  </tbody>\n",
       "</table>\n",
       "<p>73 rows × 2 columns</p>\n",
       "</div>"
      ],
      "text/plain": [
       "               downloaded  trashed\n",
       "huffpost                0        1\n",
       "cnn                     1        7\n",
       "investing.com          45       59\n",
       "politico                1        0\n",
       "time                    0        0\n",
       "...                   ...      ...\n",
       "arirang                 1        0\n",
       "ccn                     0        0\n",
       "cointelegraph           0        0\n",
       "cryptocoin              0        0\n",
       "cryptonews              0        1\n",
       "\n",
       "[73 rows x 2 columns]"
      ]
     },
     "execution_count": 33,
     "metadata": {},
     "output_type": "execute_result"
    }
   ],
   "source": [
    "download_results = crawler.download(); download_results"
   ]
  },
  {
   "cell_type": "code",
   "execution_count": 14,
   "metadata": {},
   "outputs": [
    {
     "data": {
      "text/plain": [
       "[]"
      ]
     },
     "execution_count": 14,
     "metadata": {},
     "output_type": "execute_result"
    }
   ],
   "source": [
    "import hashlib\n",
    "[hashlib.sha1(url.encode('utf-8')).hexdigest() for url in crawler.urls_final['japan-news']['trashed']]"
   ]
  },
  {
   "cell_type": "code",
   "execution_count": null,
   "metadata": {},
   "outputs": [],
   "source": []
  },
  {
   "cell_type": "code",
   "execution_count": null,
   "metadata": {},
   "outputs": [],
   "source": []
  },
  {
   "cell_type": "code",
   "execution_count": null,
   "metadata": {},
   "outputs": [],
   "source": []
  }
 ],
 "metadata": {
  "kernelspec": {
   "display_name": "Python 3",
   "language": "python",
   "name": "python3"
  },
  "language_info": {
   "codemirror_mode": {
    "name": "ipython",
    "version": 3
   },
   "file_extension": ".py",
   "mimetype": "text/x-python",
   "name": "python",
   "nbconvert_exporter": "python",
   "pygments_lexer": "ipython3",
   "version": "3.7.3"
  }
 },
 "nbformat": 4,
 "nbformat_minor": 2
}
