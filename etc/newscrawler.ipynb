{
 "cells": [
  {
   "cell_type": "code",
   "execution_count": 1,
   "metadata": {},
   "outputs": [],
   "source": [
    "%load_ext autoreload\n",
    "%autoreload\n",
    "%matplotlib inline\n",
    "\n",
    "from news_crawler import NewsCrawler, select_urls\n",
    "from IPython.display import display\n",
    "from IPython.core.debugger import set_trace"
   ]
  },
  {
   "cell_type": "code",
   "execution_count": 2,
   "metadata": {},
   "outputs": [],
   "source": [
    "crawler = NewsCrawler()#'vice')"
   ]
  },
  {
   "cell_type": "markdown",
   "metadata": {},
   "source": [
    "# 1. URL을 모은다"
   ]
  },
  {
   "cell_type": "code",
   "execution_count": 3,
   "metadata": {},
   "outputs": [],
   "source": [
    "# 제거고려: nextbigfuture, nbcnews, joongang, chosun"
   ]
  },
  {
   "cell_type": "code",
   "execution_count": 14,
   "metadata": {
    "scrolled": true
   },
   "outputs": [
    {
     "name": "stdout",
     "output_type": "stream",
     "text": [
      "100.00% (98.34 seconds): Collecting URLs... yahoo               "
     ]
    },
    {
     "data": {
      "text/plain": [
       "n_total     25505\n",
       "n_unique    25431\n",
       "dtype: int64"
      ]
     },
     "metadata": {},
     "output_type": "display_data"
    },
    {
     "data": {
      "text/html": [
       "<div>\n",
       "<style scoped>\n",
       "    .dataframe tbody tr th:only-of-type {\n",
       "        vertical-align: middle;\n",
       "    }\n",
       "\n",
       "    .dataframe tbody tr th {\n",
       "        vertical-align: top;\n",
       "    }\n",
       "\n",
       "    .dataframe thead th {\n",
       "        text-align: right;\n",
       "    }\n",
       "</style>\n",
       "<table border=\"1\" class=\"dataframe\">\n",
       "  <thead>\n",
       "    <tr style=\"text-align: right;\">\n",
       "      <th></th>\n",
       "      <th>pubs</th>\n",
       "      <th>actual_pub</th>\n",
       "    </tr>\n",
       "  </thead>\n",
       "  <tbody>\n",
       "    <tr>\n",
       "      <td>https://politico.com/news/2019/10/13/joe-biden-rudy-giuliani-2020-045163</td>\n",
       "      <td>politico, realclearpolitics</td>\n",
       "      <td>politico</td>\n",
       "    </tr>\n",
       "    <tr>\n",
       "      <td>https://politico.com/magazine/story/2019/10/07/trump-impeachment-syria-kurds-ukraine-media-229619</td>\n",
       "      <td>politico, realclearpolitics</td>\n",
       "      <td>politico</td>\n",
       "    </tr>\n",
       "    <tr>\n",
       "      <td>https://politico.com/news/2019/10/12/rudy-giuliani-trump-interviews-044791</td>\n",
       "      <td>politico, realclearpolitics</td>\n",
       "      <td>politico</td>\n",
       "    </tr>\n",
       "    <tr>\n",
       "      <td>https://politico.com/magazine/story/2019/10/02/pence-trump-president-2020-228903</td>\n",
       "      <td>politico, realclearpolitics</td>\n",
       "      <td>politico</td>\n",
       "    </tr>\n",
       "    <tr>\n",
       "      <td>https://politico.com/news/2019/10/09/republicans-house-impeachment-campaigns-041729</td>\n",
       "      <td>politico, realclearpolitics</td>\n",
       "      <td>politico</td>\n",
       "    </tr>\n",
       "    <tr>\n",
       "      <td>...</td>\n",
       "      <td>...</td>\n",
       "      <td>...</td>\n",
       "    </tr>\n",
       "    <tr>\n",
       "      <td>https://nbcnews.com/news/us-news/shooting-new-hampshire-wedding-may-be-linked-minister-s-killing-n1065621</td>\n",
       "      <td>msnbc, nbcnews</td>\n",
       "      <td>nbcnews</td>\n",
       "    </tr>\n",
       "    <tr>\n",
       "      <td>https://nbcnews.com/think/opinion/trump-s-syria-decision-divides-white-evangelicals-impeachment-pressure-builds-ncna1065481</td>\n",
       "      <td>msnbc, nbcnews</td>\n",
       "      <td>nbcnews</td>\n",
       "    </tr>\n",
       "    <tr>\n",
       "      <td>https://nbcnews.com/news/us-news/fake-meat-better-you-or-environment-n1065231</td>\n",
       "      <td>msnbc, nbcnews</td>\n",
       "      <td>nbcnews</td>\n",
       "    </tr>\n",
       "    <tr>\n",
       "      <td>https://msnbc.com/the-last-word/watch/lawrence-o-donnell-answers-your-impeachment-questions-71107653700</td>\n",
       "      <td>msnbc, nbcnews</td>\n",
       "      <td>msnbc</td>\n",
       "    </tr>\n",
       "    <tr>\n",
       "      <td>https://theverge.com/2019/10/9/20907228/apple-quartz-app-store-china-removal-hong-kong-protests-censorship</td>\n",
       "      <td>americanconservative, theverge</td>\n",
       "      <td>theverge</td>\n",
       "    </tr>\n",
       "  </tbody>\n",
       "</table>\n",
       "<p>74 rows × 2 columns</p>\n",
       "</div>"
      ],
      "text/plain": [
       "                                                                              pubs  \\\n",
       "https://politico.com/news/2019/10/13/joe-biden-...     politico, realclearpolitics   \n",
       "https://politico.com/magazine/story/2019/10/07/...     politico, realclearpolitics   \n",
       "https://politico.com/news/2019/10/12/rudy-giuli...     politico, realclearpolitics   \n",
       "https://politico.com/magazine/story/2019/10/02/...     politico, realclearpolitics   \n",
       "https://politico.com/news/2019/10/09/republican...     politico, realclearpolitics   \n",
       "...                                                                            ...   \n",
       "https://nbcnews.com/news/us-news/shooting-new-h...                  msnbc, nbcnews   \n",
       "https://nbcnews.com/think/opinion/trump-s-syria...                  msnbc, nbcnews   \n",
       "https://nbcnews.com/news/us-news/fake-meat-bett...                  msnbc, nbcnews   \n",
       "https://msnbc.com/the-last-word/watch/lawrence-...                  msnbc, nbcnews   \n",
       "https://theverge.com/2019/10/9/20907228/apple-q...  americanconservative, theverge   \n",
       "\n",
       "                                                   actual_pub  \n",
       "https://politico.com/news/2019/10/13/joe-biden-...   politico  \n",
       "https://politico.com/magazine/story/2019/10/07/...   politico  \n",
       "https://politico.com/news/2019/10/12/rudy-giuli...   politico  \n",
       "https://politico.com/magazine/story/2019/10/02/...   politico  \n",
       "https://politico.com/news/2019/10/09/republican...   politico  \n",
       "...                                                       ...  \n",
       "https://nbcnews.com/news/us-news/shooting-new-h...    nbcnews  \n",
       "https://nbcnews.com/think/opinion/trump-s-syria...    nbcnews  \n",
       "https://nbcnews.com/news/us-news/fake-meat-bett...    nbcnews  \n",
       "https://msnbc.com/the-last-word/watch/lawrence-...      msnbc  \n",
       "https://theverge.com/2019/10/9/20907228/apple-q...   theverge  \n",
       "\n",
       "[74 rows x 2 columns]"
      ]
     },
     "metadata": {},
     "output_type": "display_data"
    },
    {
     "data": {
      "text/plain": [
       "huffpost          70\n",
       "cnn              835\n",
       "investing.com    912\n",
       "politico         204\n",
       "time              18\n",
       "                ... \n",
       "arirang           56\n",
       "ccn                0\n",
       "cointelegraph     69\n",
       "cryptocoin        42\n",
       "cryptonews       325\n",
       "Length: 73, dtype: int64"
      ]
     },
     "metadata": {},
     "output_type": "display_data"
    }
   ],
   "source": [
    "collect_results = crawler.collect(); display(*collect_results)"
   ]
  },
  {
   "cell_type": "code",
   "execution_count": 15,
   "metadata": {},
   "outputs": [
    {
     "data": {
      "text/plain": [
       "82"
      ]
     },
     "execution_count": 15,
     "metadata": {},
     "output_type": "execute_result"
    }
   ],
   "source": [
    "collect_results[2]['thinkprogress']"
   ]
  },
  {
   "cell_type": "markdown",
   "metadata": {},
   "source": [
    "# 2. 모은 URL중 이미 받은 것은 버린다"
   ]
  },
  {
   "cell_type": "code",
   "execution_count": 16,
   "metadata": {
    "scrolled": true
   },
   "outputs": [
    {
     "name": "stdout",
     "output_type": "stream",
     "text": [
      "100.00% (2.53 seconds): Selecting URLs... cryptonews          "
     ]
    },
    {
     "data": {
      "text/plain": [
       "n_total     354\n",
       "n_unique    354\n",
       "dtype: int64"
      ]
     },
     "metadata": {},
     "output_type": "display_data"
    },
    {
     "data": {
      "text/html": [
       "<div>\n",
       "<style scoped>\n",
       "    .dataframe tbody tr th:only-of-type {\n",
       "        vertical-align: middle;\n",
       "    }\n",
       "\n",
       "    .dataframe tbody tr th {\n",
       "        vertical-align: top;\n",
       "    }\n",
       "\n",
       "    .dataframe thead th {\n",
       "        text-align: right;\n",
       "    }\n",
       "</style>\n",
       "<table border=\"1\" class=\"dataframe\">\n",
       "  <thead>\n",
       "    <tr style=\"text-align: right;\">\n",
       "      <th></th>\n",
       "      <th>pubs</th>\n",
       "      <th>actual_pub</th>\n",
       "    </tr>\n",
       "  </thead>\n",
       "  <tbody>\n",
       "  </tbody>\n",
       "</table>\n",
       "</div>"
      ],
      "text/plain": [
       "Empty DataFrame\n",
       "Columns: [pubs, actual_pub]\n",
       "Index: []"
      ]
     },
     "metadata": {},
     "output_type": "display_data"
    },
    {
     "data": {
      "text/plain": [
       "huffpost          0\n",
       "cnn               8\n",
       "investing.com    27\n",
       "politico          0\n",
       "time              0\n",
       "                 ..\n",
       "arirang           2\n",
       "ccn               0\n",
       "cointelegraph     0\n",
       "cryptocoin        0\n",
       "cryptonews        0\n",
       "Length: 73, dtype: int64"
      ]
     },
     "metadata": {},
     "output_type": "display_data"
    }
   ],
   "source": [
    "select_results = crawler.select(); display(*select_results)"
   ]
  },
  {
   "cell_type": "code",
   "execution_count": 17,
   "metadata": {},
   "outputs": [
    {
     "data": {
      "text/plain": [
       "set()"
      ]
     },
     "execution_count": 17,
     "metadata": {},
     "output_type": "execute_result"
    }
   ],
   "source": [
    "crawler.urls_selected['thinkprogress']"
   ]
  },
  {
   "cell_type": "markdown",
   "metadata": {},
   "source": [
    "# 3. 해당 URL의 뉴스를 다운로드한다"
   ]
  },
  {
   "cell_type": "code",
   "execution_count": 18,
   "metadata": {
    "scrolled": true
   },
   "outputs": [
    {
     "name": "stdout",
     "output_type": "stream",
     "text": [
      "100.00% (117.09 seconds): Downloading... yahoo               "
     ]
    },
    {
     "data": {
      "text/html": [
       "<div>\n",
       "<style scoped>\n",
       "    .dataframe tbody tr th:only-of-type {\n",
       "        vertical-align: middle;\n",
       "    }\n",
       "\n",
       "    .dataframe tbody tr th {\n",
       "        vertical-align: top;\n",
       "    }\n",
       "\n",
       "    .dataframe thead th {\n",
       "        text-align: right;\n",
       "    }\n",
       "</style>\n",
       "<table border=\"1\" class=\"dataframe\">\n",
       "  <thead>\n",
       "    <tr style=\"text-align: right;\">\n",
       "      <th></th>\n",
       "      <th>downloaded</th>\n",
       "      <th>trashed</th>\n",
       "    </tr>\n",
       "  </thead>\n",
       "  <tbody>\n",
       "    <tr>\n",
       "      <td>huffpost</td>\n",
       "      <td>0</td>\n",
       "      <td>0</td>\n",
       "    </tr>\n",
       "    <tr>\n",
       "      <td>cnn</td>\n",
       "      <td>5</td>\n",
       "      <td>3</td>\n",
       "    </tr>\n",
       "    <tr>\n",
       "      <td>investing.com</td>\n",
       "      <td>13</td>\n",
       "      <td>14</td>\n",
       "    </tr>\n",
       "    <tr>\n",
       "      <td>politico</td>\n",
       "      <td>0</td>\n",
       "      <td>0</td>\n",
       "    </tr>\n",
       "    <tr>\n",
       "      <td>time</td>\n",
       "      <td>0</td>\n",
       "      <td>0</td>\n",
       "    </tr>\n",
       "    <tr>\n",
       "      <td>...</td>\n",
       "      <td>...</td>\n",
       "      <td>...</td>\n",
       "    </tr>\n",
       "    <tr>\n",
       "      <td>arirang</td>\n",
       "      <td>2</td>\n",
       "      <td>0</td>\n",
       "    </tr>\n",
       "    <tr>\n",
       "      <td>ccn</td>\n",
       "      <td>0</td>\n",
       "      <td>0</td>\n",
       "    </tr>\n",
       "    <tr>\n",
       "      <td>cointelegraph</td>\n",
       "      <td>0</td>\n",
       "      <td>0</td>\n",
       "    </tr>\n",
       "    <tr>\n",
       "      <td>cryptocoin</td>\n",
       "      <td>0</td>\n",
       "      <td>0</td>\n",
       "    </tr>\n",
       "    <tr>\n",
       "      <td>cryptonews</td>\n",
       "      <td>0</td>\n",
       "      <td>0</td>\n",
       "    </tr>\n",
       "  </tbody>\n",
       "</table>\n",
       "<p>73 rows × 2 columns</p>\n",
       "</div>"
      ],
      "text/plain": [
       "               downloaded  trashed\n",
       "huffpost                0        0\n",
       "cnn                     5        3\n",
       "investing.com          13       14\n",
       "politico                0        0\n",
       "time                    0        0\n",
       "...                   ...      ...\n",
       "arirang                 2        0\n",
       "ccn                     0        0\n",
       "cointelegraph           0        0\n",
       "cryptocoin              0        0\n",
       "cryptonews              0        0\n",
       "\n",
       "[73 rows x 2 columns]"
      ]
     },
     "execution_count": 18,
     "metadata": {},
     "output_type": "execute_result"
    }
   ],
   "source": [
    "download_results = crawler.download(); download_results"
   ]
  },
  {
   "cell_type": "code",
   "execution_count": 14,
   "metadata": {},
   "outputs": [
    {
     "data": {
      "text/plain": [
       "[]"
      ]
     },
     "execution_count": 14,
     "metadata": {},
     "output_type": "execute_result"
    }
   ],
   "source": [
    "import hashlib\n",
    "[hashlib.sha1(url.encode('utf-8')).hexdigest() for url in crawler.urls_final['japan-news']['trashed']]"
   ]
  },
  {
   "cell_type": "code",
   "execution_count": null,
   "metadata": {},
   "outputs": [],
   "source": []
  },
  {
   "cell_type": "code",
   "execution_count": null,
   "metadata": {},
   "outputs": [],
   "source": []
  },
  {
   "cell_type": "code",
   "execution_count": null,
   "metadata": {},
   "outputs": [],
   "source": []
  }
 ],
 "metadata": {
  "kernelspec": {
   "display_name": "Python 3",
   "language": "python",
   "name": "python3"
  },
  "language_info": {
   "codemirror_mode": {
    "name": "ipython",
    "version": 3
   },
   "file_extension": ".py",
   "mimetype": "text/x-python",
   "name": "python",
   "nbconvert_exporter": "python",
   "pygments_lexer": "ipython3",
   "version": "3.7.3"
  }
 },
 "nbformat": 4,
 "nbformat_minor": 2
}
