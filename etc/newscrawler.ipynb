{
 "cells": [
  {
   "cell_type": "code",
   "execution_count": 100,
   "metadata": {},
   "outputs": [
    {
     "name": "stdout",
     "output_type": "stream",
     "text": [
      "The autoreload extension is already loaded. To reload it, use:\n",
      "  %reload_ext autoreload\n"
     ]
    }
   ],
   "source": [
    "%load_ext autoreload\n",
    "%autoreload\n",
    "%matplotlib inline\n",
    "\n",
    "from news_crawler import NewsCrawler, select_urls\n",
    "from IPython.display import display\n",
    "from IPython.core.debugger import set_trace"
   ]
  },
  {
   "cell_type": "code",
   "execution_count": 101,
   "metadata": {},
   "outputs": [],
   "source": [
    "# crawler = NewsCrawler()\n",
    "\n",
    "crawler = NewsCrawler(\n",
    "    'americanconservative', \n",
    "    'thehill',\n",
    "    'thenextweb',\n",
    "    'telegraph',\n",
    "    'indiatimes',\n",
    "    'theverge',\n",
    "    'usatoday',\n",
    "    'chinadaily',\n",
    "    'scmp',\n",
    "    'japan-news',\n",
    "    'japantoday',\n",
    "    'chosun',\n",
    "    'joongang',\n",
    "    'arirang',\n",
    "    'ccn',\n",
    "    'cointelegraph',\n",
    "    'cryptocoin',\n",
    "    'cryptonews')"
   ]
  },
  {
   "cell_type": "markdown",
   "metadata": {},
   "source": [
    "# 1. URL을 모은다"
   ]
  },
  {
   "cell_type": "code",
   "execution_count": 102,
   "metadata": {},
   "outputs": [],
   "source": [
    "# nextbigfuture, nbcnews는 필요없을지도..."
   ]
  },
  {
   "cell_type": "code",
   "execution_count": 103,
   "metadata": {
    "collapsed": true
   },
   "outputs": [
    {
     "name": "stdout",
     "output_type": "stream",
     "text": [
      "100.00% (79.52 seconds): Collecting URLs... theverge            "
     ]
    },
    {
     "data": {
      "text/plain": [
       "n_total     5548\n",
       "n_unique    5548\n",
       "dtype: int64"
      ]
     },
     "metadata": {},
     "output_type": "display_data"
    },
    {
     "data": {
      "text/html": [
       "<div>\n",
       "<style scoped>\n",
       "    .dataframe tbody tr th:only-of-type {\n",
       "        vertical-align: middle;\n",
       "    }\n",
       "\n",
       "    .dataframe tbody tr th {\n",
       "        vertical-align: top;\n",
       "    }\n",
       "\n",
       "    .dataframe thead th {\n",
       "        text-align: right;\n",
       "    }\n",
       "</style>\n",
       "<table border=\"1\" class=\"dataframe\">\n",
       "  <thead>\n",
       "    <tr style=\"text-align: right;\">\n",
       "      <th></th>\n",
       "      <th>pubs</th>\n",
       "      <th>actual_pub</th>\n",
       "    </tr>\n",
       "  </thead>\n",
       "  <tbody>\n",
       "  </tbody>\n",
       "</table>\n",
       "</div>"
      ],
      "text/plain": [
       "Empty DataFrame\n",
       "Columns: [pubs, actual_pub]\n",
       "Index: []"
      ]
     },
     "metadata": {},
     "output_type": "display_data"
    },
    {
     "data": {
      "text/plain": [
       "americanconservative     180\n",
       "thehill                  242\n",
       "thenextweb                88\n",
       "telegraph                789\n",
       "indiatimes               157\n",
       "theverge                1200\n",
       "usatoday                 521\n",
       "chinadaily               736\n",
       "scmp                     348\n",
       "japan-news                69\n",
       "japantoday                62\n",
       "chosun                   283\n",
       "joongang                 359\n",
       "arirang                   57\n",
       "ccn                       22\n",
       "cointelegraph             68\n",
       "cryptocoin                45\n",
       "cryptonews               322\n",
       "dtype: int64"
      ]
     },
     "metadata": {},
     "output_type": "display_data"
    }
   ],
   "source": [
    "collect_results = crawler.collect(); display(*collect_results)"
   ]
  },
  {
   "cell_type": "markdown",
   "metadata": {},
   "source": [
    "# 2. 모은 URL중 이미 받은 것은 버린다"
   ]
  },
  {
   "cell_type": "code",
   "execution_count": 104,
   "metadata": {
    "collapsed": true
   },
   "outputs": [
    {
     "name": "stdout",
     "output_type": "stream",
     "text": [
      "100.00% (11.53 seconds): Selecting URLs... cryptonews          "
     ]
    },
    {
     "data": {
      "text/plain": [
       "n_total     5530\n",
       "n_unique    5530\n",
       "dtype: int64"
      ]
     },
     "metadata": {},
     "output_type": "display_data"
    },
    {
     "data": {
      "text/html": [
       "<div>\n",
       "<style scoped>\n",
       "    .dataframe tbody tr th:only-of-type {\n",
       "        vertical-align: middle;\n",
       "    }\n",
       "\n",
       "    .dataframe tbody tr th {\n",
       "        vertical-align: top;\n",
       "    }\n",
       "\n",
       "    .dataframe thead th {\n",
       "        text-align: right;\n",
       "    }\n",
       "</style>\n",
       "<table border=\"1\" class=\"dataframe\">\n",
       "  <thead>\n",
       "    <tr style=\"text-align: right;\">\n",
       "      <th></th>\n",
       "      <th>pubs</th>\n",
       "      <th>actual_pub</th>\n",
       "    </tr>\n",
       "  </thead>\n",
       "  <tbody>\n",
       "  </tbody>\n",
       "</table>\n",
       "</div>"
      ],
      "text/plain": [
       "Empty DataFrame\n",
       "Columns: [pubs, actual_pub]\n",
       "Index: []"
      ]
     },
     "metadata": {},
     "output_type": "display_data"
    },
    {
     "data": {
      "text/plain": [
       "americanconservative     167\n",
       "thehill                  240\n",
       "thenextweb                88\n",
       "telegraph                789\n",
       "indiatimes               157\n",
       "theverge                1200\n",
       "usatoday                 518\n",
       "chinadaily               736\n",
       "scmp                     348\n",
       "japan-news                69\n",
       "japantoday                62\n",
       "chosun                   283\n",
       "joongang                 359\n",
       "arirang                   57\n",
       "ccn                       22\n",
       "cointelegraph             68\n",
       "cryptocoin                45\n",
       "cryptonews               322\n",
       "dtype: int64"
      ]
     },
     "metadata": {},
     "output_type": "display_data"
    }
   ],
   "source": [
    "select_results = crawler.select(); display(*select_results)"
   ]
  },
  {
   "cell_type": "code",
   "execution_count": 122,
   "metadata": {
    "collapsed": true
   },
   "outputs": [
    {
     "data": {
      "text/plain": [
       "{'https://ar.cryptonews.com/guides/can-i-create-my-own-cryptocurrency.htm',\n",
       " 'https://ar.cryptonews.com/guides/how-is-the-price-of-bitcoins-set.htm',\n",
       " 'https://ar.cryptonews.com/guides/how-to-choose-a-bitcoin-wallet.htm',\n",
       " 'https://ar.cryptonews.com/guides/is-it-safe-to-use-bitcoin.htm',\n",
       " 'https://ar.cryptonews.com/guides/what-can-i-buy-with-bitcoin.htm',\n",
       " 'https://ar.cryptonews.com/news/altcoin-news',\n",
       " 'https://ar.cryptonews.com/news/bitcoin-news',\n",
       " 'https://ar.cryptonews.com/news/bitcoin-price-altcoins-drop-below-key-supports-4084.htm',\n",
       " 'https://ar.cryptonews.com/news/bitcoin-price-altcoins-rebound-remains-attractive-to-sellers-4147.htm',\n",
       " 'https://ar.cryptonews.com/news/bitcoin-price-and-altcoins-struggle-to-clear-key-resistances-4141.htm',\n",
       " 'https://ar.cryptonews.com/news/bitcoin-price-fluctuates-around-usd-10k-altcoins-decline-4075.htm',\n",
       " 'https://ar.cryptonews.com/news/bitcoin-price-struggles-to-recover-altcoins-turned-sell-on-r-4101.htm',\n",
       " 'https://ar.cryptonews.com/news/bitcoin-recovering-after-fall-below-usd-8-000-altcoins-in-20-4091.htm',\n",
       " 'https://ar.cryptonews.com/news/blockchain-news',\n",
       " 'https://ar.cryptonews.com/news/crypto-market-turned-red-bitcoin-below-usd-10-000-again-4050.htm',\n",
       " 'https://ar.cryptonews.com/news/ethereum-and-ripple-rally-while-bitcoin-stalls-4045.htm',\n",
       " 'https://ar.cryptonews.com/news/ethereum-news',\n",
       " 'https://ar.cryptonews.com/news/ethereum-price-erased-all-its-gains-in-september-4094.htm',\n",
       " 'https://ar.cryptonews.com/news/facebook-s-libra-in-spain-setback-but-is-there-a-glimmer-of-4051.htm',\n",
       " 'https://ar.cryptonews.com/news/fb-libra-supporters-are-hesitating-4150.htm',\n",
       " 'https://ar.cryptonews.com/news/feed',\n",
       " 'https://ar.cryptonews.com/news/five-major-south-korean-banks-join-jpmorgan-blockchain-proje-4073.htm',\n",
       " 'https://ar.cryptonews.com/news/ico-news',\n",
       " 'https://ar.cryptonews.com/news/press-releases',\n",
       " 'https://ar.cryptonews.com/news/satoshi-nakamoto-is-dead-thinks-bitmex-s-arthur-hayes-4060.htm',\n",
       " 'https://ar.cryptonews.com/news/spain-island-tourists-will-eventually-pay-for-everything-in-4081.htm',\n",
       " 'https://ar.cryptonews.com/news/sponsored',\n",
       " 'https://ar.cryptonews.com/news/surprise-state-owned-bank-says-bitcoin-price-is-too-low-4139.htm',\n",
       " 'https://ar.cryptonews.com/news/uae-ministry-of-health-launches-blockchain-system-4072.htm',\n",
       " 'https://cryptonews.com/exclusives/10-main-trends-in-digital-assets-this-year-picked-by-5-crypt-4753.htm',\n",
       " 'https://cryptonews.com/exclusives/15-online-tools-for-crypto-anarchists-privacy-advocates-and-4755.htm',\n",
       " 'https://cryptonews.com/exclusives/7-biggest-misconceptions-about-bitcoin-picked-by-6-crypto-ex-4740.htm',\n",
       " 'https://cryptonews.com/exclusives/a-startling-prediction-revisited-new-banking-revolution-base-4705.htm',\n",
       " 'https://cryptonews.com/exclusives/altcoins-seasons-and-20-crypto-jokes-4697.htm',\n",
       " 'https://cryptonews.com/exclusives/binance-s-venus-and-the-swarm-of-corpocoins-4556.htm',\n",
       " 'https://cryptonews.com/exclusives/bitcoin-price-might-hit-usd-1m-sooner-than-a-quantum-compute-4742.htm',\n",
       " 'https://cryptonews.com/exclusives/bitcoin-prices-bets-satellites-and-20-crypto-jokes-4752.htm',\n",
       " 'https://cryptonews.com/exclusives/bitfury-strengthens-its-focus-on-software-development-4700.htm',\n",
       " 'https://cryptonews.com/exclusives/blockstream-s-samson-mow-on-their-main-focus-and-mining-via-4732.htm',\n",
       " 'https://cryptonews.com/exclusives/cardano-s-potential-in-the-real-world-4600.htm',\n",
       " 'https://cryptonews.com/exclusives/casa-looks-for-fresh-capital-to-catch-a-bigger-bitcoin-wave-4745.htm',\n",
       " 'https://cryptonews.com/exclusives/crypto-conferences-are-mooning-but-which-ones-are-worth-atte-4581.htm',\n",
       " 'https://cryptonews.com/exclusives/designing-a-powerful-security-mechanism-in-a-crypto-exchange-4648.htm',\n",
       " 'https://cryptonews.com/exclusives/experts-settlements-and-20-crypto-jokes-4792.htm',\n",
       " 'https://cryptonews.com/exclusives/faketoshi-s-crime-punishment-and-20-crypto-jokes-4553.htm',\n",
       " 'https://cryptonews.com/exclusives/forks-and-20-crypto-jokes-4638.htm',\n",
       " 'https://cryptonews.com/exclusives/former-giant-youtuber-michelle-phan-is-now-a-bitcoin-evangel-4789.htm',\n",
       " 'https://cryptonews.com/exclusives/gadgets-bulls-misconceptions-and-20-crypto-jokes-4580.htm',\n",
       " 'https://cryptonews.com/exclusives/great-bitcoin-expectations-how-a-pioneer-grew-disappointed-4799.htm',\n",
       " 'https://cryptonews.com/exclusives/has-the-ieo-craze-already-fizzled-out-4602.htm',\n",
       " 'https://cryptonews.com/exclusives/how-good-are-bitcoin-recovery-services-4703.htm',\n",
       " 'https://cryptonews.com/exclusives/how-the-new-fatf-rules-will-open-up-crypto-to-a-layer-of-mid-4546.htm',\n",
       " 'https://cryptonews.com/exclusives/how-to-bet-on-bitcoin-volatility-using-bitcoin-options-4704.htm',\n",
       " 'https://cryptonews.com/exclusives/is-stablecoin-business-model-stable-or-is-it-endangered-4649.htm',\n",
       " 'https://cryptonews.com/exclusives/kraken-is-working-on-major-change-in-user-experience-dan-hel-4722.htm',\n",
       " 'https://cryptonews.com/exclusives/raging-bull-bitcoin-has-a-crypto-plan-for-canada-and-the-wor-4686.htm',\n",
       " 'https://cryptonews.com/exclusives/understanding-transaction-fee-mining-and-its-changes-4650.htm',\n",
       " 'https://cryptonews.com/exclusives/what-most-bitcoiners-love-about-austrian-economics-4603.htm',\n",
       " 'https://cryptonews.com/exclusives/when-will-bitcoin-price-hit-its-next-big-peak-how-high-will-4800.htm',\n",
       " 'https://cryptonews.com/exclusives/your-node-your-keys-your-bitcoin-raspberry-pi-4651.htm',\n",
       " 'https://cryptonews.com/guides/10-reasons-why-your-business-should-accept-bitcoins.htm',\n",
       " 'https://cryptonews.com/guides/3-methods-to-buy-ethereum-with-paypal-instantly.htm',\n",
       " 'https://cryptonews.com/guides/3-ways-to-set-up-a-bitcoin-wallet.htm',\n",
       " 'https://cryptonews.com/guides/3-ways-to-set-up-an-ethereum-wallet.htm',\n",
       " 'https://cryptonews.com/guides/5-methods-to-buy-bitcoin-with-paypal-instantly.htm',\n",
       " 'https://cryptonews.com/guides/5-reasons-why-your-business-should-accept-ethereum.htm',\n",
       " 'https://cryptonews.com/guides/a-beginner-s-guide-to-bitcoin-etfs.htm',\n",
       " 'https://cryptonews.com/guides/beginner-s-guide-to-crypto-trading-strategies.htm',\n",
       " 'https://cryptonews.com/guides/best-crypto-social-trading-platforms-for-cryptocurrency-fans.htm',\n",
       " 'https://cryptonews.com/guides/bitcoin-forks-in-search-of-the-original-satoshi.htm',\n",
       " 'https://cryptonews.com/guides/can-i-create-my-own-cryptocurrency.htm',\n",
       " 'https://cryptonews.com/guides/countries-in-which-bitcoin-is-banned-or-legal.htm',\n",
       " 'https://cryptonews.com/guides/countries-in-which-ethereum-is-banned-or-legal.htm',\n",
       " 'https://cryptonews.com/guides/cryptotag-review-2019-the-best-way-to-backup-your-seed.htm',\n",
       " 'https://cryptonews.com/guides/difference-of-bitcoin-from-traditional-currencies.htm',\n",
       " 'https://cryptonews.com/guides/get-10-nextrope-lab-london-conference-2019-discount-coupon.htm',\n",
       " 'https://cryptonews.com/guides/how-is-the-price-of-bitcoins-set.htm',\n",
       " 'https://cryptonews.com/guides/how-to-accept-bitcoin-in-business.htm',\n",
       " 'https://cryptonews.com/guides/how-to-accept-bitcoins-in-my-store.htm',\n",
       " 'https://cryptonews.com/guides/how-to-buy-and-sell-bitcoin-in-canada.htm',\n",
       " 'https://cryptonews.com/guides/how-to-buy-and-sell-bitcoin-in-india.htm',\n",
       " 'https://cryptonews.com/guides/how-to-buy-and-sell-bitcoin-in-uk.htm',\n",
       " 'https://cryptonews.com/guides/how-to-buy-and-sell-ethereum-in-canada.htm',\n",
       " 'https://cryptonews.com/guides/how-to-buy-and-sell-ethereum-in-india.htm',\n",
       " 'https://cryptonews.com/guides/how-to-buy-and-sell-ethereum-in-the-uk.htm',\n",
       " 'https://cryptonews.com/guides/how-to-buy-bitcoin-in-the-united-states.htm',\n",
       " 'https://cryptonews.com/guides/how-to-buy-bitcoin-with-cash.htm',\n",
       " 'https://cryptonews.com/guides/how-to-buy-bitcoin-with-paypal.htm',\n",
       " 'https://cryptonews.com/guides/how-to-buy-bitcoins-with-a-credit-card.htm',\n",
       " 'https://cryptonews.com/guides/how-to-buy-ethereum-with-a-credit-card.htm',\n",
       " 'https://cryptonews.com/guides/how-to-buy-ethereum-with-cash.htm',\n",
       " 'https://cryptonews.com/guides/how-to-buy-ethereum-with-paypal.htm',\n",
       " 'https://cryptonews.com/guides/how-to-choose-a-bitcoin-wallet.htm',\n",
       " 'https://cryptonews.com/guides/how-to-get-cryptotag-discount-code.htm',\n",
       " 'https://cryptonews.com/guides/how-to-make-a-paper-bitcoin-wallet.htm',\n",
       " 'https://cryptonews.com/guides/is-it-safe-to-use-bitcoin.htm',\n",
       " 'https://cryptonews.com/guides/ledger-nano-s-review-2019-pros-and-cons.htm',\n",
       " 'https://cryptonews.com/guides/should-i-use-vpn-for-cryptocurrency-transactions.htm',\n",
       " 'https://cryptonews.com/guides/the-difference-between-ico-and-sto.htm',\n",
       " 'https://cryptonews.com/guides/top-crypto-margin-trading-exchanges-in-2019.htm',\n",
       " 'https://cryptonews.com/guides/what-are-the-risks-in-an-ico.htm',\n",
       " 'https://cryptonews.com/guides/what-can-i-buy-with-bitcoin.htm',\n",
       " 'https://cryptonews.com/guides/what-is-a-security-token-offering-sto.htm',\n",
       " 'https://cryptonews.com/guides/what-is-an-initial-exchange-offering.htm',\n",
       " 'https://cryptonews.com/guides/what-is-bitcoin-btc-lightning-network.htm',\n",
       " 'https://cryptonews.com/guides/what-is-cryptonex-coin-and-trading-platform.htm',\n",
       " 'https://cryptonews.com/guides/what-is-facebook-coin-blockchain-and-project-libra.htm',\n",
       " 'https://cryptonews.com/guides/why-it-is-risky-to-leave-your-cryptocurrency-in-exchange.htm',\n",
       " 'https://cryptonews.com/news/altcoin-news',\n",
       " 'https://cryptonews.com/news/another-settlement-ico-that-raised-usd-120k-to-pay-sec-usd-2-4774.htm',\n",
       " 'https://cryptonews.com/news/apple-s-no-to-crypto-as-more-libra-partners-could-cave-to-re-4793.htm',\n",
       " 'https://cryptonews.com/news/bitcoin-news',\n",
       " 'https://cryptonews.com/news/bitcoin-price-altcoins-closing-in-towards-next-crucial-break-4796.htm',\n",
       " 'https://cryptonews.com/news/bitcoin-price-altcoins-rebound-remains-attractive-to-sellers-4785.htm',\n",
       " 'https://cryptonews.com/news/bitcoin-price-and-altcoins-struggle-to-clear-key-resistances-4779.htm',\n",
       " 'https://cryptonews.com/news/bitcoin-price-cryptoverse-is-trying-to-guess-the-next-move-4762.htm',\n",
       " 'https://cryptonews.com/news/bitcoin-price-rebounds-to-usd-8-5k-altcoins-start-corrective-4769.htm',\n",
       " 'https://cryptonews.com/news/blame-these-traders-for-bitcoin-price-crash-4772.htm',\n",
       " 'https://cryptonews.com/news/blockchain-news',\n",
       " 'https://cryptonews.com/news/btc-surf-expands-its-exclusive-offer-for-its-community-4781.htm',\n",
       " 'https://cryptonews.com/news/coin-race-ethereum-price-ends-losing-streak-bitcoin-price-dr-4768.htm',\n",
       " 'https://cryptonews.com/news/coinbase-pro-increases-fees-what-could-go-wrong-4797.htm',\n",
       " 'https://cryptonews.com/news/coinbase-resumes-real-time-payments-in-the-uk-4791.htm',\n",
       " 'https://cryptonews.com/news/crypto-listing-delisting-announcements-week-39-4763.htm',\n",
       " 'https://cryptonews.com/news/crypto-market-sentiment-on-the-verge-of-the-negative-zone-4764.htm',\n",
       " 'https://cryptonews.com/news/cryptojackers-having-a-field-day-in-south-korea-more-crypto-4767.htm',\n",
       " 'https://cryptonews.com/news/cybervillains-are-harvesting-crypto-in-low-cost-hacking-camp-4794.htm',\n",
       " 'https://cryptonews.com/news/eos-and-sia-settlements-with-sec-may-end-existential-securit-4780.htm',\n",
       " 'https://cryptonews.com/news/eos-price-spikes-upwards-after-block-one-settles-with-sec-4766.htm',\n",
       " 'https://cryptonews.com/news/ethereum-news',\n",
       " 'https://cryptonews.com/news/ethereum-price-falls-below-usd-180-again-4778.htm',\n",
       " 'https://cryptonews.com/news/feed',\n",
       " 'https://cryptonews.com/news/financial-giant-to-bring-credibility-to-crypto-14-more-crypt-4777.htm',\n",
       " 'https://cryptonews.com/news/ico-news',\n",
       " 'https://cryptonews.com/news/japanese-regulator-set-to-sideline-crypto-trusts-4775.htm',\n",
       " 'https://cryptonews.com/news/lawmakers-to-fed-the-nature-of-money-is-changing-more-crypto-4784.htm',\n",
       " 'https://cryptonews.com/news/new-bitcoin-payment-solution-to-emerge-in-germany-after-bitp-4770.htm',\n",
       " 'https://cryptonews.com/news/popular-this-month',\n",
       " 'https://cryptonews.com/news/popular-this-week',\n",
       " 'https://cryptonews.com/news/press-releases',\n",
       " 'https://cryptonews.com/news/russia-mexico-and-paraguay-set-off-on-different-crypto-paths-4783.htm',\n",
       " 'https://cryptonews.com/news/sponsored',\n",
       " 'https://cryptonews.com/news/surprise-state-owned-bank-says-bitcoin-price-is-too-low-4776.htm',\n",
       " 'https://cryptonews.com/news/telegram-makes-it-official-ton-and-gram-to-debut-by-end-of-o-4782.htm',\n",
       " 'https://cryptonews.com/news/tether-watch-might-help-predict-bitcoin-price-analysts-4798.htm',\n",
       " 'https://cryptonews.com/news/turn-your-old-smartphone-into-ethereum-wallet-4787.htm',\n",
       " 'https://cryptonews.com/news/venezuela-considers-moving-its-bitcoin-and-ethereum-stash-4765.htm',\n",
       " 'https://cryptonews.com/news/weiss-crypto-ratings-downgrades-monero-ups-litecoin-and-card-4771.htm',\n",
       " 'https://cryptonews.com/news/what-ban-bithumb-eyes-india-for-expansion-more-crypto-news-4795.htm',\n",
       " 'https://cryptonews.com/news/xrp-price-jumps-on-ripple-s-investment-news-4761.htm',\n",
       " 'https://cryptonews.com/news/xrp-price-trades-sideways-despite-ripple-brings-multiple-new-4786.htm',\n",
       " 'https://cryptonews.com/videos/akon-explains-the-power-of-bitcoin-371.htm',\n",
       " 'https://cryptonews.com/videos/ari-paul-cio-of-blocktower-on-the-current-state-of-crypto-363.htm',\n",
       " 'https://cryptonews.com/videos/beyond-crypto-s-wild-ride-378.htm',\n",
       " 'https://cryptonews.com/videos/bitcoin-and-austrian-economics-presented-by-dr-saifedean-amm-386.htm',\n",
       " 'https://cryptonews.com/videos/bitcoin-rap-battle-debate-hamilton-vs-satoshi-369.htm',\n",
       " 'https://cryptonews.com/videos/bitcoin-vs-ethereum-a-debate-366.htm',\n",
       " 'https://cryptonews.com/videos/bitgo-s-cto-consolidation-in-crypto-could-be-good-thing-376.htm',\n",
       " 'https://cryptonews.com/videos/blockchain-capital-partner-bitcoin-will-become-a-safe-haven-362.htm',\n",
       " 'https://cryptonews.com/videos/can-bitcoin-replace-government-issued-money-a-debate-365.htm',\n",
       " 'https://cryptonews.com/videos/dappcon-2019-panel-feat-vitalik-buterin-and-joe-lubin-367.htm',\n",
       " 'https://cryptonews.com/videos/fundstrat-co-founder-on-next-btc-catalyst-and-upcoming-recor-373.htm',\n",
       " 'https://cryptonews.com/videos/hodl-strategies-and-their-drawbacks-382.htm',\n",
       " 'https://cryptonews.com/videos/luke-martin-on-5-biggest-myths-about-bitcoin-investing-380.htm',\n",
       " 'https://cryptonews.com/videos/money-is-a-technological-fiction-383.htm',\n",
       " 'https://cryptonews.com/videos/need-stability-for-crypto-to-be-relevant-says-makerdao-s-chr-385.htm',\n",
       " 'https://cryptonews.com/videos/picking-the-right-blockchain-for-the-job-372.htm',\n",
       " 'https://cryptonews.com/videos/satoshi-freeathlon-a-freestyle-triathlon-368.htm',\n",
       " 'https://cryptonews.com/videos/the-bitcoin-halving-price-predictions-what-to-expect-370.htm',\n",
       " 'https://cryptonews.com/videos/this-is-why-this-powerful-central-banker-urges-libra-like-cu-364.htm',\n",
       " 'https://cryptonews.com/videos/tim-draper-on-bitcoin-silicon-valley-the-future-of-money-375.htm',\n",
       " 'https://cryptonews.com/videos/travis-kling-bitcoin-is-the-hardest-money-in-human-history-377.htm',\n",
       " 'https://cryptonews.com/videos/vitalik-buterin-joe-lubin-and-yoni-assia-on-the-future-of-et-379.htm',\n",
       " 'https://cryptonews.com/videos/when-will-facebook-s-libra-launch-384.htm',\n",
       " 'https://cryptonews.com/videos/why-has-sofi-added-crypto-trading-to-their-platform-381.htm',\n",
       " 'https://de.cryptonews.com/exklusiv/die-schweiz-ebnet-den-weg-fuer-eine-kryptoregulierung-3424.htm',\n",
       " 'https://de.cryptonews.com/leitfaden/ist-es-sicher-bitcoin-zu-verwenden.htm',\n",
       " 'https://de.cryptonews.com/leitfaden/kann-ich-meine-eigene-kryptowaehrung-erstellen.htm',\n",
       " 'https://de.cryptonews.com/leitfaden/was-kann-ich-mit-bitcoin-kaufen.htm',\n",
       " 'https://de.cryptonews.com/leitfaden/wie-man-bitcoins-im-business-akzeptiert.htm',\n",
       " 'https://de.cryptonews.com/leitfaden/wie-waehle-ich-eine-bitcoin-geldboerse-aus.htm',\n",
       " 'https://de.cryptonews.com/leitfaden/wie-waehlt-man-eine-boerse-aus.htm',\n",
       " 'https://de.cryptonews.com/leitfaden/wie-wird-der-preis-von-bitcoins-festgelegt.htm',\n",
       " 'https://de.cryptonews.com/news/altcoin-news',\n",
       " 'https://de.cryptonews.com/news/bitcoin-news',\n",
       " 'https://de.cryptonews.com/news/bitcoin-preis-bleibt-fuer-verkaeufer-attraktiv-4530.htm',\n",
       " 'https://de.cryptonews.com/news/bitcoin-und-altcoins-fallen-4465.htm',\n",
       " 'https://de.cryptonews.com/news/bitcoin-und-altcoins-korrigieren-niedriger-4361.htm',\n",
       " 'https://de.cryptonews.com/news/bitcoin-und-altcoins-preise-koennten-weiter-sinken-4475.htm',\n",
       " 'https://de.cryptonews.com/news/bitcoin-und-bnb-klettern-4350.htm',\n",
       " 'https://de.cryptonews.com/news/blockchain-agents-bericht-blockchain-expo-europe-2019-4023.htm',\n",
       " 'https://de.cryptonews.com/news/blockchain-news',\n",
       " 'https://de.cryptonews.com/news/blocktrade-und-cryptix-planen-die-mifid-ii-lizenz-4487.htm',\n",
       " 'https://de.cryptonews.com/news/die-boerse-stuttgart-bietet-2019-bitcoin-und-ethereum-an-2829.htm',\n",
       " 'https://de.cryptonews.com/news/duesterer-start-fuer-bakkt-futures-bitcoin-preis-faellt-4463.htm',\n",
       " 'https://de.cryptonews.com/news/ethereum-news',\n",
       " 'https://de.cryptonews.com/news/fairplay-io-fuer-prestigetraechtige-auszeichnung-nominiert-4473.htm',\n",
       " 'https://de.cryptonews.com/news/feed',\n",
       " 'https://de.cryptonews.com/news/ico-news',\n",
       " 'https://de.cryptonews.com/news/kann-donald-trump-bitcoin-und-krypto-verbieten-4001.htm',\n",
       " 'https://de.cryptonews.com/news/krypto-listing-delisting-der-woche-38-4459.htm',\n",
       " 'https://de.cryptonews.com/news/krypto-listing-delisting-der-woche-39-4511.htm',\n",
       " 'https://de.cryptonews.com/news/lg-blockchain-handy-markt-4359.htm',\n",
       " 'https://de.cryptonews.com/news/presseaussendungen',\n",
       " 'https://de.cryptonews.com/news/siemens-erforscht-das-carsharing-auf-der-blockchain-4005.htm',\n",
       " 'https://de.cryptonews.com/news/sponsored',\n",
       " 'https://de.cryptonews.com/news/telegram-s-blockchain-koennte-eine-neue-aera-einlaeuten-4508.htm',\n",
       " 'https://de.cryptonews.com/news/telegram-s-gram-steigt-um-201-und-das-noch-vor-dem-verkauf-3929.htm',\n",
       " 'https://de.cryptonews.com/news/weiss-krypto-ratings-stufen-bitcoin-herab-neo-hochgestuft-4368.htm',\n",
       " 'https://de.cryptonews.com/news/weiss-krypto-ratings-stufen-monero-herab-4518.htm',\n",
       " 'https://fr.cryptonews.com/exclusives/bitcoin-price-might-hit-usd-1m-sooner-than-a-quantum-compute-4455.htm',\n",
       " 'https://fr.cryptonews.com/exclusives/la-blockchain-un-sujet-enseignee-depuis-2010-4335.htm',\n",
       " 'https://fr.cryptonews.com/exclusives/not-a-shitcoiner-la-chanson-hommage-a-bitcoin-4368.htm',\n",
       " 'https://fr.cryptonews.com/guides/can-i-create-my-own-cryptocurrency.htm',\n",
       " 'https://fr.cryptonews.com/guides/how-is-the-price-of-bitcoins-set.htm',\n",
       " 'https://fr.cryptonews.com/guides/how-to-accept-bitcoin-in-business.htm',\n",
       " 'https://fr.cryptonews.com/guides/how-to-choose-a-bitcoin-wallet.htm',\n",
       " 'https://fr.cryptonews.com/guides/is-it-safe-to-use-bitcoin.htm',\n",
       " 'https://fr.cryptonews.com/guides/what-are-the-risks-in-an-ico.htm',\n",
       " 'https://fr.cryptonews.com/guides/what-can-i-buy-with-bitcoin.htm',\n",
       " 'https://fr.cryptonews.com/news/altcoin-news',\n",
       " 'https://fr.cryptonews.com/news/another-settlement-ico-that-raised-usd-120k-to-pay-sec-usd-2-4476.htm',\n",
       " 'https://fr.cryptonews.com/news/bitcoin-news',\n",
       " 'https://fr.cryptonews.com/news/bitcoin-price-rebounds-to-usd-8-5k-altcoins-start-corrective-4470.htm',\n",
       " 'https://fr.cryptonews.com/news/bitfarms-choisit-hybrid-financial-pour-ses-relations-marketi-4493.htm',\n",
       " 'https://fr.cryptonews.com/news/blockchain-news',\n",
       " 'https://fr.cryptonews.com/news/coinbase-pro-increases-fees-what-could-go-wrong-4499.htm',\n",
       " 'https://fr.cryptonews.com/news/did-someone-just-buy-45-bitcoins-for-usd-14-4180.htm',\n",
       " 'https://fr.cryptonews.com/news/easywallet-permettre-a-25-000-points-de-vente-francais-d-acc-4403.htm',\n",
       " 'https://fr.cryptonews.com/news/ethereum-news',\n",
       " 'https://fr.cryptonews.com/news/feed',\n",
       " 'https://fr.cryptonews.com/news/ico-news',\n",
       " 'https://fr.cryptonews.com/news/japanese-regulator-set-to-sideline-crypto-trusts-4478.htm',\n",
       " 'https://fr.cryptonews.com/news/maduro-s-secret-stash-of-cryptos-is-unlikely-to-affect-bitco-4446.htm',\n",
       " 'https://fr.cryptonews.com/news/paypal-se-retire-de-l-association-libra-de-facebook-4503.htm',\n",
       " 'https://fr.cryptonews.com/news/playing-to-win-coinpoker-s-new-player-reward-schemes-4254.htm',\n",
       " 'https://fr.cryptonews.com/news/press-releases',\n",
       " 'https://fr.cryptonews.com/news/ross-ulbricht-silk-road-entame-sa-7e-annee-en-prison-4477.htm',\n",
       " 'https://fr.cryptonews.com/news/russia-mexico-and-paraguay-set-off-on-different-crypto-paths-4494.htm',\n",
       " 'https://fr.cryptonews.com/news/russian-banks-we-ve-found-ways-to-tax-crypto-without-changin-4435.htm',\n",
       " 'https://fr.cryptonews.com/news/securities-giant-monex-group-will-give-bitcoin-to-all-shareh-4427.htm',\n",
       " 'https://fr.cryptonews.com/news/spain-island-tourists-will-eventually-pay-for-everything-in-4416.htm',\n",
       " 'https://fr.cryptonews.com/news/sponsored',\n",
       " 'https://fr.cryptonews.com/news/surprise-state-owned-bank-says-bitcoin-price-is-too-low-4479.htm',\n",
       " 'https://fr.cryptonews.com/news/telegram-makes-it-official-ton-and-gram-to-debut-by-end-of-o-4485.htm',\n",
       " 'https://fr.cryptonews.com/news/turn-your-old-smartphone-into-ethereum-wallet-4489.htm',\n",
       " 'https://fr.cryptonews.com/news/venezuela-considers-moving-its-bitcoin-and-ethereum-stash-4468.htm',\n",
       " 'https://fr.cryptonews.com/news/weiss-crypto-ratings-downgrades-monero-ups-litecoin-and-card-4474.htm',\n",
       " 'https://fr.cryptonews.com/news/xrp-price-jumps-on-ripple-s-investment-news-4463.htm',\n",
       " 'https://fr.cryptonews.com/videos/bitcoin-acheter-vers-8000-ou-attendre-744.htm',\n",
       " 'https://fr.cryptonews.com/videos/le-bitcoin-a-90-000-dollars-en-2020-apres-le-halving-743.htm',\n",
       " 'https://it.cryptonews.com/exclusives/10-main-trends-in-digital-assets-this-year-picked-by-5-crypt-2933.htm',\n",
       " 'https://it.cryptonews.com/exclusives/15-online-tools-for-crypto-anarchists-privacy-advocates-and-2907.htm',\n",
       " 'https://it.cryptonews.com/exclusives/7-biggest-misconceptions-about-bitcoin-picked-by-6-crypto-ex-2906.htm',\n",
       " 'https://it.cryptonews.com/exclusives/bitcoin-price-might-hit-usd-1m-sooner-than-a-quantum-compute-2904.htm',\n",
       " 'https://it.cryptonews.com/exclusives/casa-looks-for-fresh-capital-to-catch-a-bigger-bitcoin-wave-2893.htm',\n",
       " 'https://it.cryptonews.com/exclusives/former-giant-youtuber-michelle-phan-is-now-a-bitcoin-evangel-2939.htm',\n",
       " 'https://it.cryptonews.com/guides/can-i-create-my-own-cryptocurrency.htm',\n",
       " 'https://it.cryptonews.com/guides/how-to-choose-a-bitcoin-wallet.htm',\n",
       " 'https://it.cryptonews.com/news/50-positive-catalysts-on-bitcoin-s-horizon-by-murad-mahmudov-2813.htm',\n",
       " 'https://it.cryptonews.com/news/a-nigerian-wallet-suspected-in-usd-1m-exit-scam-8-more-crypt-2900.htm',\n",
       " 'https://it.cryptonews.com/news/altcoin-news',\n",
       " 'https://it.cryptonews.com/news/apple-s-no-to-crypto-as-more-libra-partners-could-cave-to-re-2943.htm',\n",
       " 'https://it.cryptonews.com/news/bitcoin-news',\n",
       " 'https://it.cryptonews.com/news/bitcoin-price-altcoins-poised-for-further-weakness-2910.htm',\n",
       " 'https://it.cryptonews.com/news/bitcoin-price-altcoins-rebound-remains-attractive-to-sellers-2936.htm',\n",
       " 'https://it.cryptonews.com/news/bitcoin-price-cryptoverse-is-trying-to-guess-the-next-move-2915.htm',\n",
       " 'https://it.cryptonews.com/news/bitcoin-price-rebounds-to-usd-8-5k-altcoins-start-corrective-2919.htm',\n",
       " 'https://it.cryptonews.com/news/bithumb-acquisition-deal-off-as-chinese-american-investors-c-2908.htm',\n",
       " 'https://it.cryptonews.com/news/blame-these-traders-for-bitcoin-price-crash-2924.htm',\n",
       " 'https://it.cryptonews.com/news/blockchain-news',\n",
       " 'https://it.cryptonews.com/news/coinbase-pro-increases-fees-what-could-go-wrong-2947.htm',\n",
       " 'https://it.cryptonews.com/news/ethereum-news',\n",
       " 'https://it.cryptonews.com/news/feed',\n",
       " 'https://it.cryptonews.com/news/ico-news',\n",
       " 'https://it.cryptonews.com/news/lawmakers-to-fed-the-nature-of-money-is-changing-more-crypto-2935.htm',\n",
       " 'https://it.cryptonews.com/news/maduro-s-secret-stash-of-cryptos-is-unlikely-to-affect-bitco-2896.htm',\n",
       " 'https://it.cryptonews.com/news/press-releases',\n",
       " 'https://it.cryptonews.com/news/sorgenia-sceglie-bitcoin-come-opzione-di-pagamento-sul-suo-m-2926.htm',\n",
       " 'https://it.cryptonews.com/news/south-korea-welcomes-blockchain-powered-driver-s-licences-on-2899.htm',\n",
       " 'https://it.cryptonews.com/news/sponsored',\n",
       " 'https://it.cryptonews.com/news/stock-exchange-giant-launched-crypto-platform-as-bakkt-went-2862.htm',\n",
       " 'https://it.cryptonews.com/news/surprise-state-owned-bank-says-bitcoin-price-is-too-low-2928.htm',\n",
       " 'https://it.cryptonews.com/news/turn-your-old-smartphone-into-ethereum-wallet-2938.htm',\n",
       " 'https://it.cryptonews.com/videos/money-is-a-technological-fiction-248.htm',\n",
       " 'https://it.cryptonews.com/videos/when-will-facebook-s-libra-launch-249.htm',\n",
       " 'https://nl.cryptonews.com/guides/hoe-bitcoin-in-het-bedrijfsleven-te-accepteren.htm',\n",
       " 'https://nl.cryptonews.com/guides/hoe-kies-je-een-bitcoin-wallet.htm',\n",
       " 'https://nl.cryptonews.com/guides/hoe-wordt-de-prijs-van-bitcoins-bepaald.htm',\n",
       " 'https://nl.cryptonews.com/guides/is-het-veilig-om-bitcoin-te-gebruiken.htm',\n",
       " 'https://nl.cryptonews.com/guides/kan-ik-mijn-eigen-cryptocurrency-maken.htm',\n",
       " 'https://nl.cryptonews.com/guides/wat-kan-ik-kopen-met-bitcoin.htm',\n",
       " 'https://nl.cryptonews.com/guides/wat-zijn-de-risico-s-in-een-ico-in-2019.htm',\n",
       " 'https://nl.cryptonews.com/news/8-redenen-waarom-je-in-bitcoin-moet-gaan-4082.htm',\n",
       " 'https://nl.cryptonews.com/news/aandeel-van-illegale-bitcoin-transacties-gedaald-tot-minder-3727.htm',\n",
       " 'https://nl.cryptonews.com/news/altcoin-nieuws',\n",
       " 'https://nl.cryptonews.com/news/bekijk-twee-vermeende-dieven-die-een-winkelcentrum-uitlopen-4071.htm',\n",
       " 'https://nl.cryptonews.com/news/bitcoin-beloningen-verspreiden-zich-met-grote-samenwerkingen-4060.htm',\n",
       " 'https://nl.cryptonews.com/news/bitcoin-daalt-onder-de-10-000-4098.htm',\n",
       " 'https://nl.cryptonews.com/news/bitcoin-en-altcoins-gaan-door-moeilijke-periode-4059.htm',\n",
       " 'https://nl.cryptonews.com/news/bitcoin-en-altcoins-handelen-in-de-buurt-van-make-or-break-n-4094.htm',\n",
       " 'https://nl.cryptonews.com/news/bitcoin-en-altcoins-in-downtrend-ondanks-recente-jump-4078.htm',\n",
       " 'https://nl.cryptonews.com/news/bitcoin-en-altcoins-trekken-zich-terug-uit-recente-hoogtepun-4050.htm',\n",
       " 'https://nl.cryptonews.com/news/bitcoin-krijgt-zijn-eerste-a-rating-3766.htm',\n",
       " 'https://nl.cryptonews.com/news/bitcoin-nieuws',\n",
       " 'https://nl.cryptonews.com/news/bitcoin-stijgt-weer-boven-10-000-maar-stuit-op-mogelijke-hor-4066.htm',\n",
       " 'https://nl.cryptonews.com/news/blockchain-agents-review-blockchain-expo-europe-2019-3834.htm',\n",
       " 'https://nl.cryptonews.com/news/blockchain-nieuws',\n",
       " 'https://nl.cryptonews.com/news/crypto-listing-delisting-week-34-4081.htm',\n",
       " 'https://nl.cryptonews.com/news/ethereum-nieuws',\n",
       " 'https://nl.cryptonews.com/news/feed',\n",
       " 'https://nl.cryptonews.com/news/heeft-iemand-net-45-bitcoins-gekocht-voor-14-4069.htm',\n",
       " 'https://nl.cryptonews.com/news/ico-news',\n",
       " 'https://nl.cryptonews.com/news/press-releases',\n",
       " 'https://nl.cryptonews.com/news/sponsored',\n",
       " 'https://nl.cryptonews.com/news/stijgingen-bitcoin-en-altcoins-stuiten-mogelijk-op-weerstand-4117.htm',\n",
       " 'https://nl.cryptonews.com/news/telegram-s-gram-is-mogelijk-binnen-twee-maanden-beschikbaar-4092.htm',\n",
       " 'https://nl.cryptonews.com/news/trump-richt-zich-op-bitcoin-maar-crypto-community-zegt-bedan-3793.htm',\n",
       " 'https://nl.cryptonews.com/news/zorgen-rondom-libra-blijven-voor-amerikaanse-wetgevers-na-be-4076.htm',\n",
       " 'https://nl.cryptonews.com/tags/media',\n",
       " 'https://nl.cryptonews.com/videos/bitcoin-beyond-met-chris-burniske-340.htm',\n",
       " 'https://nl.cryptonews.com/videos/dit-is-wat-er-gebeurt-met-crypto-in-hong-kong-339.htm'}"
      ]
     },
     "execution_count": 122,
     "metadata": {},
     "output_type": "execute_result"
    }
   ],
   "source": [
    "crawler.urls_selected['cryptonews']"
   ]
  },
  {
   "cell_type": "markdown",
   "metadata": {},
   "source": [
    "# 3. 해당 URL의 뉴스를 다운로드한다"
   ]
  },
  {
   "cell_type": "code",
   "execution_count": null,
   "metadata": {
    "scrolled": true
   },
   "outputs": [
    {
     "name": "stdout",
     "output_type": "stream",
     "text": [
      "1.57% (45.20 seconds): Downloading... theverge            "
     ]
    },
    {
     "name": "stderr",
     "output_type": "stream",
     "text": [
      "Some characters could not be decoded, and were replaced with REPLACEMENT CHARACTER.\n"
     ]
    },
    {
     "name": "stdout",
     "output_type": "stream",
     "text": [
      "4.23% (152.05 seconds): Downloading... japantoday          "
     ]
    },
    {
     "name": "stderr",
     "output_type": "stream",
     "text": [
      "Some characters could not be decoded, and were replaced with REPLACEMENT CHARACTER.\n"
     ]
    },
    {
     "name": "stdout",
     "output_type": "stream",
     "text": [
      "5.62% (257.93 seconds): Downloading... theverge            "
     ]
    },
    {
     "name": "stderr",
     "output_type": "stream",
     "text": [
      "Some characters could not be decoded, and were replaced with REPLACEMENT CHARACTER.\n"
     ]
    },
    {
     "name": "stdout",
     "output_type": "stream",
     "text": [
      "6.98% (347.41 seconds): Downloading... joongang            "
     ]
    },
    {
     "name": "stderr",
     "output_type": "stream",
     "text": [
      "Some characters could not be decoded, and were replaced with REPLACEMENT CHARACTER.\n"
     ]
    },
    {
     "name": "stdout",
     "output_type": "stream",
     "text": [
      "8.70% (404.72 seconds): Downloading... joongang            "
     ]
    },
    {
     "name": "stderr",
     "output_type": "stream",
     "text": [
      "Some characters could not be decoded, and were replaced with REPLACEMENT CHARACTER.\n"
     ]
    },
    {
     "name": "stdout",
     "output_type": "stream",
     "text": [
      "20.34% (756.39 seconds): Downloading... theverge            "
     ]
    },
    {
     "name": "stderr",
     "output_type": "stream",
     "text": [
      "Some characters could not be decoded, and were replaced with REPLACEMENT CHARACTER.\n"
     ]
    },
    {
     "name": "stdout",
     "output_type": "stream",
     "text": [
      "23.44% (947.76 seconds): Downloading... chinadaily          "
     ]
    },
    {
     "name": "stderr",
     "output_type": "stream",
     "text": [
      "Some characters could not be decoded, and were replaced with REPLACEMENT CHARACTER.\n"
     ]
    },
    {
     "name": "stdout",
     "output_type": "stream",
     "text": [
      "25.05% (1045.47 seconds): Downloading... cryptonews          "
     ]
    },
    {
     "name": "stderr",
     "output_type": "stream",
     "text": [
      "Some characters could not be decoded, and were replaced with REPLACEMENT CHARACTER.\n"
     ]
    },
    {
     "name": "stdout",
     "output_type": "stream",
     "text": [
      "27.03% (1153.63 seconds): Downloading... chosun              "
     ]
    },
    {
     "name": "stderr",
     "output_type": "stream",
     "text": [
      "Some characters could not be decoded, and were replaced with REPLACEMENT CHARACTER.\n"
     ]
    },
    {
     "name": "stdout",
     "output_type": "stream",
     "text": [
      "28.37% (1237.53 seconds): Downloading... chosun              "
     ]
    },
    {
     "name": "stderr",
     "output_type": "stream",
     "text": [
      "Some characters could not be decoded, and were replaced with REPLACEMENT CHARACTER.\n"
     ]
    },
    {
     "name": "stdout",
     "output_type": "stream",
     "text": [
      "29.64% (1308.23 seconds): Downloading... chosun              "
     ]
    },
    {
     "name": "stderr",
     "output_type": "stream",
     "text": [
      "Some characters could not be decoded, and were replaced with REPLACEMENT CHARACTER.\n"
     ]
    },
    {
     "name": "stdout",
     "output_type": "stream",
     "text": [
      "31.07% (1382.84 seconds): Downloading... usatoday            "
     ]
    },
    {
     "name": "stderr",
     "output_type": "stream",
     "text": [
      "Some characters could not be decoded, and were replaced with REPLACEMENT CHARACTER.\n"
     ]
    },
    {
     "name": "stdout",
     "output_type": "stream",
     "text": [
      "32.66% (1479.45 seconds): Downloading... chinadaily          "
     ]
    },
    {
     "name": "stderr",
     "output_type": "stream",
     "text": [
      "Some characters could not be decoded, and were replaced with REPLACEMENT CHARACTER.\n"
     ]
    },
    {
     "name": "stdout",
     "output_type": "stream",
     "text": [
      "33.29% (1539.31 seconds): Downloading... cryptonews          "
     ]
    },
    {
     "name": "stderr",
     "output_type": "stream",
     "text": [
      "Some characters could not be decoded, and were replaced with REPLACEMENT CHARACTER.\n"
     ]
    },
    {
     "name": "stdout",
     "output_type": "stream",
     "text": [
      "34.39% (1605.54 seconds): Downloading... chosun              "
     ]
    },
    {
     "name": "stderr",
     "output_type": "stream",
     "text": [
      "Some characters could not be decoded, and were replaced with REPLACEMENT CHARACTER.\n"
     ]
    },
    {
     "name": "stdout",
     "output_type": "stream",
     "text": [
      "35.66% (1666.69 seconds): Downloading... usatoday            "
     ]
    },
    {
     "name": "stderr",
     "output_type": "stream",
     "text": [
      "Some characters could not be decoded, and were replaced with REPLACEMENT CHARACTER.\n"
     ]
    },
    {
     "name": "stdout",
     "output_type": "stream",
     "text": [
      "36.37% (1694.76 seconds): Downloading... chosun              "
     ]
    },
    {
     "name": "stderr",
     "output_type": "stream",
     "text": [
      "Some characters could not be decoded, and were replaced with REPLACEMENT CHARACTER.\n"
     ]
    },
    {
     "name": "stdout",
     "output_type": "stream",
     "text": [
      "39.15% (1867.49 seconds): Downloading... chosun              "
     ]
    },
    {
     "name": "stderr",
     "output_type": "stream",
     "text": [
      "Some characters could not be decoded, and were replaced with REPLACEMENT CHARACTER.\n"
     ]
    },
    {
     "name": "stdout",
     "output_type": "stream",
     "text": [
      "40.54% (1963.47 seconds): Downloading... chinadaily          "
     ]
    },
    {
     "name": "stderr",
     "output_type": "stream",
     "text": [
      "Some characters could not be decoded, and were replaced with REPLACEMENT CHARACTER.\n"
     ]
    },
    {
     "name": "stdout",
     "output_type": "stream",
     "text": [
      "41.61% (2028.33 seconds): Downloading... chinadaily          "
     ]
    },
    {
     "name": "stderr",
     "output_type": "stream",
     "text": [
      "Some characters could not be decoded, and were replaced with REPLACEMENT CHARACTER.\n"
     ]
    },
    {
     "name": "stdout",
     "output_type": "stream",
     "text": [
      "43.02% (2117.95 seconds): Downloading... chinadaily          "
     ]
    },
    {
     "name": "stderr",
     "output_type": "stream",
     "text": [
      "Some characters could not be decoded, and were replaced with REPLACEMENT CHARACTER.\n"
     ]
    },
    {
     "name": "stdout",
     "output_type": "stream",
     "text": [
      "44.81% (2229.86 seconds): Downloading... cryptonews          "
     ]
    },
    {
     "name": "stderr",
     "output_type": "stream",
     "text": [
      "Some characters could not be decoded, and were replaced with REPLACEMENT CHARACTER.\n"
     ]
    },
    {
     "name": "stdout",
     "output_type": "stream",
     "text": [
      "45.86% (2291.84 seconds): Downloading... chinadaily          "
     ]
    },
    {
     "name": "stderr",
     "output_type": "stream",
     "text": [
      "Some characters could not be decoded, and were replaced with REPLACEMENT CHARACTER.\n"
     ]
    },
    {
     "name": "stdout",
     "output_type": "stream",
     "text": [
      "49.66% (2565.65 seconds): Downloading... chinadaily          "
     ]
    },
    {
     "name": "stderr",
     "output_type": "stream",
     "text": [
      "Some characters could not be decoded, and were replaced with REPLACEMENT CHARACTER.\n"
     ]
    },
    {
     "name": "stdout",
     "output_type": "stream",
     "text": [
      "50.71% (2615.44 seconds): Downloading... theverge            "
     ]
    },
    {
     "name": "stderr",
     "output_type": "stream",
     "text": [
      "Some characters could not be decoded, and were replaced with REPLACEMENT CHARACTER.\n"
     ]
    },
    {
     "name": "stdout",
     "output_type": "stream",
     "text": [
      "51.28% (2660.51 seconds): Downloading... cryptonews          "
     ]
    },
    {
     "name": "stderr",
     "output_type": "stream",
     "text": [
      "Some characters could not be decoded, and were replaced with REPLACEMENT CHARACTER.\n"
     ]
    },
    {
     "name": "stdout",
     "output_type": "stream",
     "text": [
      "52.35% (2732.91 seconds): Downloading... americanconservative"
     ]
    },
    {
     "name": "stderr",
     "output_type": "stream",
     "text": [
      "Some characters could not be decoded, and were replaced with REPLACEMENT CHARACTER.\n"
     ]
    },
    {
     "name": "stdout",
     "output_type": "stream",
     "text": [
      "53.04% (2789.68 seconds): Downloading... chinadaily          "
     ]
    },
    {
     "name": "stderr",
     "output_type": "stream",
     "text": [
      "Some characters could not be decoded, and were replaced with REPLACEMENT CHARACTER.\n"
     ]
    },
    {
     "name": "stdout",
     "output_type": "stream",
     "text": [
      "54.32% (2896.73 seconds): Downloading... telegraph           "
     ]
    },
    {
     "name": "stderr",
     "output_type": "stream",
     "text": [
      "Some characters could not be decoded, and were replaced with REPLACEMENT CHARACTER.\n"
     ]
    },
    {
     "name": "stdout",
     "output_type": "stream",
     "text": [
      "54.88% (2923.92 seconds): Downloading... usatoday            "
     ]
    },
    {
     "name": "stderr",
     "output_type": "stream",
     "text": [
      "Some characters could not be decoded, and were replaced with REPLACEMENT CHARACTER.\n"
     ]
    },
    {
     "name": "stdout",
     "output_type": "stream",
     "text": [
      "55.32% (2961.93 seconds): Downloading... theverge            "
     ]
    },
    {
     "name": "stderr",
     "output_type": "stream",
     "text": [
      "Some characters could not be decoded, and were replaced with REPLACEMENT CHARACTER.\n"
     ]
    },
    {
     "name": "stdout",
     "output_type": "stream",
     "text": [
      "57.50% (3104.85 seconds): Downloading... theverge            "
     ]
    },
    {
     "name": "stderr",
     "output_type": "stream",
     "text": [
      "Some characters could not be decoded, and were replaced with REPLACEMENT CHARACTER.\n"
     ]
    },
    {
     "name": "stdout",
     "output_type": "stream",
     "text": [
      "58.01% (3144.12 seconds): Downloading... telegraph           "
     ]
    },
    {
     "name": "stderr",
     "output_type": "stream",
     "text": [
      "Some characters could not be decoded, and were replaced with REPLACEMENT CHARACTER.\n"
     ]
    },
    {
     "name": "stdout",
     "output_type": "stream",
     "text": [
      "58.55% (3180.09 seconds): Downloading... theverge            "
     ]
    },
    {
     "name": "stderr",
     "output_type": "stream",
     "text": [
      "Some characters could not be decoded, and were replaced with REPLACEMENT CHARACTER.\n"
     ]
    },
    {
     "name": "stdout",
     "output_type": "stream",
     "text": [
      "59.15% (3222.97 seconds): Downloading... chinadaily          "
     ]
    },
    {
     "name": "stderr",
     "output_type": "stream",
     "text": [
      "Some characters could not be decoded, and were replaced with REPLACEMENT CHARACTER.\n"
     ]
    },
    {
     "name": "stdout",
     "output_type": "stream",
     "text": [
      "59.42% (3237.12 seconds): Downloading... chinadaily          "
     ]
    },
    {
     "name": "stderr",
     "output_type": "stream",
     "text": [
      "Some characters could not be decoded, and were replaced with REPLACEMENT CHARACTER.\n"
     ]
    },
    {
     "name": "stdout",
     "output_type": "stream",
     "text": [
      "96.69% (7841.63 seconds): Downloading... theverge            "
     ]
    }
   ],
   "source": [
    "download_results = crawler.download(); download_results"
   ]
  },
  {
   "cell_type": "code",
   "execution_count": 96,
   "metadata": {},
   "outputs": [
    {
     "data": {
      "text/plain": [
       "['bb896fb70ab582f4567e01b5a493f20fd82badde',\n",
       " 'cff49a57d7c39c43a17283a13dfeedf017f40a24',\n",
       " '0a9a0b2b9badf7fca8ea0478f91af8b4e094b832',\n",
       " '14164c1c1646477f26ffda03c8404a960fb38331',\n",
       " '9f1bb346fecc6c1ff0e0142d0e45dd90c2d5cad9',\n",
       " '3b3fa6ef497d0d57694ee14ca9e30e8f6b100735',\n",
       " '8161f5027ae04557e50facbc69bac941a8038950',\n",
       " 'b8527477350e2a62aff920973e5965a94fae83f4',\n",
       " 'ac98a894ccbd92fc28ba44d6d6ef46366150127f',\n",
       " '716e8d670512035118210b1a3af6d505ed2790b2',\n",
       " 'eac044a8f3ac0faed20a9761620b33dcbd5613be',\n",
       " '508f8c425c748344dbf45dae2702d118ef79e2ba',\n",
       " '7d3bbd5a947c94ad023d3102f77cce58f1adb5a9',\n",
       " '6d1c5ab22c3a39b2b65b8bb02853b4981cd08ab8',\n",
       " 'd50c199ec436598e53291b3b5d1a762aff930cb4',\n",
       " 'd58770fe992869e61573648d117da215d082dfa0',\n",
       " 'a6bd0500387780f63563c3669f1610bae7360f48',\n",
       " '6621ebdb37475f9ef206195e813cc37c79df5983',\n",
       " 'cb535c28979a550f27aec3e053ec25f156e0e02a',\n",
       " '239d5ddd8b7cb04a7600994acfc49622f77eb426',\n",
       " '4f66234cfece1c3a3f7f4a8229316cd39dd5640b',\n",
       " '43604741f126868d0835b61031a1c2d80b5b8998',\n",
       " 'b801099d94363d187d49ccec1efbb8d5052576aa',\n",
       " 'a28c3337fed895e470d706a6bf1b051989ee4119',\n",
       " 'cdcf14b7497217b6a345b9e501ba9081a76e8be2',\n",
       " '6a55e05ffb084db3c6ea938835e48f8ed91de7a6',\n",
       " '6305b6bcdf957e11116e0808f5ff83c626db3bde',\n",
       " '9a913c05932fd7379e851abee232822112696f7a',\n",
       " 'b7b0ac6a8cad45f02d7b28b8455b92a69e058871',\n",
       " '81a8c03534c2809c9dc28e7b779474fcc78341df',\n",
       " '02cd8b31ae2b10f6256be55cee2a7b26a25a50b1',\n",
       " 'a0608d70c58074a151e0a00dd70921edc822bd20',\n",
       " '90a6143ec034b015b07b816d8c4f0dd65f53fa31',\n",
       " '9afbe07340d7e74021b1c048d3796cc511336c42',\n",
       " 'bd7f5c8dadd710488bd1d5e611abd3bb15fdb060',\n",
       " '2aa0be1971f575c4fbe3645c6a8e937a1e1d0f0d',\n",
       " '9b15a42af6500335df266f8e793b98b61e01b30e',\n",
       " 'e2b73d2f13d20c39b313e10f3693a8386265c838',\n",
       " '3ffd8211036f1904847b8d31ed6cf260a9062889',\n",
       " '1910e79392185524349402c476350857464e9b38',\n",
       " 'abbf47a3b2c917554504e863a891f42273bffdbb',\n",
       " '077a649808358675f355e29b8a009131abd951e7',\n",
       " '90df685c02cbe39db10996876027264e17fa627f',\n",
       " 'd94a80666b82d6ba44a4f8602533fc28a061c441',\n",
       " '0e1781df47a40efeb6940bddee964f7f4853b846',\n",
       " '8b1be20460be15e3e4bfb17d7e1ea8a6e932f79a',\n",
       " 'cdf56bbce26430817a6763ec236992297a87b541',\n",
       " '6c1ff9639fd4eb3fdaecba588020ad016b260b46',\n",
       " 'fcc835b286c3f1e782902d4975df54fd1081b6eb',\n",
       " 'ebe512c3768dd6b96f40a019998b4ccb308bfb2b',\n",
       " '3068cee463629ad977549dd68da87d44c8082939',\n",
       " '4ca82fbab0e24a4a6a1b9499e14da147f0316ac6',\n",
       " '077d0478ed96427655efa31eddfb8bd34384e14f',\n",
       " '3f51bc6e14c163c787d60996e7e7326d445f8494',\n",
       " '6c3f4fd6139b0a77d3c790c6f3b01c3ede6559fd',\n",
       " 'b37a88009b0fc3b6521fd67a9f814ae1b903360d',\n",
       " '348062f0d0d42239fd09487a16202f8b4d8f4e48',\n",
       " '42201990265caddeffea020dec0943ce74f34ab1',\n",
       " 'c3822545eaba7e3c285e9972d6503cb4291be19e',\n",
       " 'dcc16672f47fa2e4568d58bff901ba18b031a08c',\n",
       " '94cccb209ea22963aa85f1a71a0205ce2b1d1860',\n",
       " 'b07900a37d0c74c70d5610122ba4a5b5054aea85',\n",
       " 'fd88436350a527762561614e13b9e56ea07b0d87',\n",
       " '30d34829e81391633e3b65dd1a98f1dfb7140741',\n",
       " '7b52951ed94bf9a011339c32a6f3fe9da5e102c3',\n",
       " 'd495fc7d6da0ee606e1e1d518ed2eac9badc4c9c',\n",
       " '5dabc71d85ddaa5623fc396247df5440ee873e6d',\n",
       " '454a831aaeb34dba58337740c6bf0678fe0acce6',\n",
       " '137906d85df384cd611647b36864c5ff02b93af2',\n",
       " '67f47b3a9cbb60268d2b555f8bc98bccf783dc6c',\n",
       " '4ebb87984641ba0c1d72f7d3c57ccc1c4a10318c',\n",
       " '604c1a6467037ff3e777db772f7c364d6b4bf4ed',\n",
       " '44d5e3f811d4f508e1121cd98a17fbf01fa0ab16',\n",
       " '4c6490f5eae8f2ae61fbf2e50012f3dc720fe8ab',\n",
       " '12eec2d22ab4783e175bcdfc06858d2c2d4ccc6c',\n",
       " '651ab57208ab4f40e82523a90e72e69685adc1b8',\n",
       " 'db1f0e8f9eca25f9dfa84b027cea7d38e3cce131',\n",
       " '9523ea394bb14de95d4de3cfc534d26c0ee37880',\n",
       " 'b016c716646dd75b677bea47d917bf5db38bc835',\n",
       " '84d5c6211cb00069c7e5ea7b130abdc32a9f6553',\n",
       " 'f12839decdb8cffbbb55fa5d3f3b6cc1549a13e8',\n",
       " '3b87a44d9d25d4da96c69c9f3f56e65cd81512dc',\n",
       " '4aad0e0e47030ed10ff9b376304ef33b74ff4914',\n",
       " '27053a2a90bed3063706d4a776ff20b7f97b1699',\n",
       " '433687066ed88a7c2bfff77d3354fb1f76c865e5',\n",
       " '6b81901a83297c88ddd8054145c1eb55da2d5817',\n",
       " '58037298f9660f9205a6dcb3a8667c3797b3929a',\n",
       " '2f44da201fe49ff502388fb25a38390ac57c53d9',\n",
       " '2b504b329e4481157cf7a589dbdd111ceea65ed4',\n",
       " '81b535b1525cb53f74d222d1445022e3c7f9c984',\n",
       " 'df32e49c0396ddf257b2f4489cb820294e5b45e1',\n",
       " 'bbc6ce0a63002350e2989b79baf2bc355c7ea81b',\n",
       " 'edd4c5863d9a4f3ba04b9688e6ba704115e9a6c1',\n",
       " '8960cc1ce8e763f091b81a1e21554c3b461d62d9',\n",
       " '6e7bb77c262b5ffc5582cf5a48800eae8be45acf',\n",
       " '4a784d1244934892404d7a170507ce16e0b8728e',\n",
       " 'b89fac7327bc4380c658d4fdb5493d78ed9a104e',\n",
       " '7f65077a9e47388969923e974a89dea6a7feb776',\n",
       " 'a057aac9318b273f3ccd1a371382363fc45b048f',\n",
       " '0ff9fd848297239d94f7e27dd396916c93b6c9cc',\n",
       " '25fc2b1a06c6c9f3c213a1842afcf4a767cf97d2',\n",
       " '65b39141009b7112222b7fe4f0c93d28b7fd458b',\n",
       " 'f8fb41686ede42c374024683ee9bcfe92cf820d7',\n",
       " 'dbeeb61ebad84333530d65018839b48e656b4eed',\n",
       " '49b8139a274d3c94dc28bd6ff39c5cbeff268c41',\n",
       " 'f0584026914e9e3f2628c35e9278f68c4d8abc7d',\n",
       " '1e75b23d17153172e0548fe38848178f52e830b8',\n",
       " '2559d84cd243138fccbdfadb251ed63a866773bb',\n",
       " '84fe7b698360b7f81af003f0aa8e57656410eb33',\n",
       " '4d8d1ccebcdd3123db2e1e8375835ad8d5268c47',\n",
       " '90b675e49d0ded505a741dc6ef3de8dfda4211d7',\n",
       " '423158aca06d8baf3cf267221fec92d4f7252b74',\n",
       " '2309e7a132a727c6fa29ba329f40f73e0bb771af',\n",
       " '82787309f8b842c7e8bb213ada9292b28ac876dd',\n",
       " '27b5b3345ce39a111023bc7ff9bc5cdd622eeefb',\n",
       " '13a218357c8ceb6f75497690b32a5228ed117b39',\n",
       " '804da4407c99099d0f9028eb748c09e97f7643e0',\n",
       " '7ff69dbcdf0c4cd7bc443a1c27a62371a0b95aa2',\n",
       " '0ce64ae2a9538097a57cf4df2d8f167168cfa5f7',\n",
       " '6527f3e7e3f1979cfda6cb5ba41e8d67f8e93c9b',\n",
       " '019a06993825eb0d59107f7839245cb625950d86',\n",
       " '94d300358ab88b971389a76d0d5abd4bd31dcc68',\n",
       " '96068e5d57b441ae9a9c2d484086694dfb61103d',\n",
       " '064ea56a6f7f32d8f0a0ac9df73a1eebf9405ede',\n",
       " 'e031dccbd70c010350459204b3f2da9fa87c713b',\n",
       " 'eb7a22367ffb5a39669d9554eef5fd0d1c2f60d8',\n",
       " 'c9755430cf650274775f4fc546dd1b8c1a904ca6',\n",
       " '0e621f4ac094950e949cf62dd06ea70e0be192d0',\n",
       " '4682bed9c54796d9745ef6e5eb1b3e3a5bb582d9',\n",
       " '1bd4e48fb21aead3b1004db1a0557d60e7ace1f3',\n",
       " '4bcd18f1005ac4455afdeca4d0398ce554de5fb0',\n",
       " '91d898a53b868886f5e297d3941fd6739a36a94f',\n",
       " 'c9ac5dae465d5b4144d034e4ba52eaa989114b34',\n",
       " '0e5d79d2bb247e5cd95c3d8d0244daf469e6baeb',\n",
       " '96c807fbe9824ea531f0416ffdda4b6de2047c23',\n",
       " '3f2ae7a5ff2beb01ef18b2674087f9091c5dc637',\n",
       " 'cbdbee8a7e41667222d6fe3fa9c35e3ddc891ceb',\n",
       " '47d5cfe505eb06d3e2aa24432fe73ca6b5bd434a',\n",
       " 'f67b416429d8d7569af6557c86f9dd3c45a89a2f',\n",
       " 'a39bbd741f994a8e79a96197c2f275f9d6f7d09f',\n",
       " 'bae048a2d6cab737e427b5aa595858aa2eca369d',\n",
       " '9f7653f30d39f59f6e79eabba30d203c3985b277',\n",
       " '39fdd7587d352019c46e7dcad207fa40ebdc7672',\n",
       " '4660fe0ca07356bd2181001959209dfedfa55606',\n",
       " '83205637734786bc35906ca0804e96ddb87b8449',\n",
       " 'fb9e33833d5587051561f2e43f93abfa13817a44',\n",
       " 'af07a2e4a1dda6a079fda9232b19edac7dc21dae',\n",
       " '03ca2248f60a2d08ce2e6846542413215bbb9fc8',\n",
       " '18e98db08551ebec3c8a8cdc513d25cf5d727054',\n",
       " 'e662105fc38628a125b9fd2759973a3deec8944c',\n",
       " 'a52ec03d2e23ea0ca75ae0321795176be5840a3d',\n",
       " 'a40221e5d68cd28485bc95f407dfdcedd23c039d',\n",
       " 'ae67a605473b117b08e2fac2db4089b060bd43c3',\n",
       " '800e7028b62f6efbf86db8f82e5392f37af1979b',\n",
       " '11b0afa26e457359920e18f5518aa95e57aed5b2',\n",
       " 'aab91f468cafdb0d3db4b44385e146f443a1e6ef',\n",
       " 'd827178210e58fddcab2415bcc4610e7fd487a3f',\n",
       " 'b9920dec8cd87052e60da359731c4494df2dd882',\n",
       " '33f17947f71779dfd11985e84441c510b39397aa',\n",
       " 'd70719cf96bbc4b91ec439bfd52227e5d0649af7',\n",
       " '769d0293609f8eba17729b021c1b8e04c579874e',\n",
       " 'aeb36251d2b9d4bb6542cce91412b06f61c01e45',\n",
       " '3824feca659d3fb969dbba83c0e04756b8204a51',\n",
       " '9c6743e91d130371b917a00d6144e54b2a554b48',\n",
       " 'c30e48d082bf5fe8ed0f41387d3e00099e717899',\n",
       " '591ee48478c7352f9485ea720982238b634c7a67',\n",
       " '79a006ba1a46669172d7f0763e6173864e295b8d',\n",
       " '1d58443d0f29687b5d9cfaac4aef811cab0c9c32',\n",
       " '96818c360e05143bb256965c675e2d34bd26fc8e',\n",
       " '67b44e8b0f35e22e5cc777a985370acfa0472056',\n",
       " '930ea7f6eacea94a8af4c999602a3af0630f38b4',\n",
       " '2b465cebc9007deddf89c766ae346d0a7beb9663',\n",
       " '400f2998bfcc7d1ea807fea067e58ec7b9890f0d',\n",
       " 'e169a1d9cdee535fb9b686183e44fd041a8af1af',\n",
       " '7da847928bd06482a152eafa0b0c961dc5d8168c',\n",
       " '0aeb9a3f6872965ea0c94a7c50977f25e79e2413',\n",
       " '6cbf40830ff74e8358554b2f37db3ce860f30ec5',\n",
       " '2ac419b6cb49ad3a71d16d24195e564e117c7467',\n",
       " '6d6f097e327783c3716da04cfbe0071787886c6b',\n",
       " '5a2bc2a876f048182bf67653233d34dd824d552b',\n",
       " 'afa46e612461c077f71dc37a71112c1de995e5ff',\n",
       " '1dec9b6f0ac392a6a5c805ced5c9c9af396c0407',\n",
       " '383a38d8e31c8f82f56b9aa482fbb5224c23e994',\n",
       " 'eee7bf8d38f0e69394e5c77f6cf710c8f50bb2b7',\n",
       " 'd5def89da9eb74ec5e9a3aff1b63339a8b07a20d',\n",
       " '10dca8a8eb2b10089be311787198664cbe9e3761',\n",
       " 'bafdf19441edf8217301c56985671edede37268d',\n",
       " 'ddf5752984491049491842fc1a5eeb38c0beebda',\n",
       " 'e6ed988efe43e2e398726481db07ffe38f99f6e2',\n",
       " '9113c5783b2d55e66e38d78dc997ed1962595231']"
      ]
     },
     "execution_count": 96,
     "metadata": {},
     "output_type": "execute_result"
    }
   ],
   "source": [
    "import hashlib\n",
    "[hashlib.sha1(url.encode('utf-8')).hexdigest() for url in crawler.urls_final['euronews']['trashed']]"
   ]
  },
  {
   "cell_type": "code",
   "execution_count": null,
   "metadata": {},
   "outputs": [],
   "source": []
  },
  {
   "cell_type": "code",
   "execution_count": null,
   "metadata": {},
   "outputs": [],
   "source": []
  },
  {
   "cell_type": "code",
   "execution_count": null,
   "metadata": {},
   "outputs": [],
   "source": []
  }
 ],
 "metadata": {
  "kernelspec": {
   "display_name": "Python 3",
   "language": "python",
   "name": "python3"
  },
  "language_info": {
   "codemirror_mode": {
    "name": "ipython",
    "version": 3
   },
   "file_extension": ".py",
   "mimetype": "text/x-python",
   "name": "python",
   "nbconvert_exporter": "python",
   "pygments_lexer": "ipython3",
   "version": "3.7.1"
  }
 },
 "nbformat": 4,
 "nbformat_minor": 2
}
