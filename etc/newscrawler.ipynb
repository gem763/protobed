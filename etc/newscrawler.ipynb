{
 "cells": [
  {
   "cell_type": "code",
   "execution_count": 2,
   "metadata": {},
   "outputs": [],
   "source": [
    "import newspaper\n",
    "from newspaper import Article, Config\n",
    "from IPython.core.debugger import set_trace\n",
    "import requests\n",
    "import json\n",
    "import time\n",
    "import hashlib\n",
    "import pandas as pd\n",
    "from tqdm.autonotebook import tqdm\n",
    "tqdm.pandas()\n",
    "\n",
    "import os\n",
    "import sys\n",
    "parentdir = os.path.abspath(os.path.join(os.getcwd(), os.pardir))\n",
    "sys.path.append(parentdir)\n",
    "\n",
    "# import django\n",
    "# django.setup()\n",
    "\n",
    "# from data.models import Newsdata"
   ]
  },
  {
   "cell_type": "code",
   "execution_count": 3,
   "metadata": {},
   "outputs": [],
   "source": [
    "config = Config()\n",
    "config.fetch_images = False\n",
    "config.memoize_articles = False\n",
    "config.language = 'en'"
   ]
  },
  {
   "cell_type": "code",
   "execution_count": 33,
   "metadata": {},
   "outputs": [],
   "source": [
    "src = {\n",
    "    'huffpost':        {'domain':'https://huffpost.com',          'pubname':'HuffPost'}, \n",
    "    'cnn':             {'domain':'https://cnn.com',               'pubname':'CNN'}, \n",
    "    'investingcom':    {'domain':'https://investing.com',         'pubname':'Investing.com'}, \n",
    "    'politico':        {'domain':'https://politico.com',          'pubname':'POLITICO'}, \n",
    "    'time':            {'domain':'https://time.com',              'pubname':'TIME'}, \n",
    "    'cnbc':            {'domain':'https://cnbc.com',              'pubname':'CNBC'}, \n",
    "    'foxnews':         {'domain':'https://foxnews.com',           'pubname':'FOX News'}, \n",
    "    'foxbusiness':     {'domain':'https://foxbusiness.com',       'pubname':'FOX Business'}, \n",
    "    'bbc':             {'domain':'https://bbc.com',               'pubname':'BBC'}, \n",
    "    'businessinsider': {'domain':'https://businessinsider.com',   'pubname':'Business Insider'}, \n",
    "    'morningstar':     {'domain':'https://morningstar.com',       'pubname':'Morningstar'}, \n",
    "    'wsj':             {'domain':'https://wsj.com',               'pubname':'Wall Street Journal'}, # ?mod=rsswn\n",
    "    \n",
    "    'nyt':             {'domain':'https://nytimes.com',           'pubname':'NewYork Times'}, \n",
    "    'guardian':        {'domain':'https://theguardian.com',       'pubname':'Guardian'}, \n",
    "    'reuters':         {'domain':'https://reuters.com',           'pubname':'Reuters'}, \n",
    "    'washingtontimes': {'domain':'https://washingtontimes.com',   'pubname':'Washington Times'}, \n",
    "    'washingtonpost':  {'domain':'https://washingtonpost.com',    'pubname':'Washington Post'}, \n",
    "    'cbs':             {'domain':'https://cbsnews.com',           'pubname':'CBS'}, \n",
    "    'marketwatch':     {'domain':'https://marketwatch.com',       'pubname':'MarketWatch'}, \n",
    "    'atlantic':        {'domain':'https://theatlantic.com',       'pubname':'Atlantic'}, \n",
    "    'vice':            {'domain':'https://vice.com',              'pubname':'VICE'}, \n",
    "    'npr':             {'domain':'https://npr.org',               'pubname':'npr'}, \n",
    "    'newrepublic':     {'domain':'https://newrepublic.com',       'pubname':'NEW REPUBLIC'}, \n",
    "    'yahoo':           {'domain':'https://yahoo.com',             'pubname':'yahoo'}, \n",
    "    'independent':     {'domain':'https://independent.co.uk',     'pubname':'INDEPENDENT'}, \n",
    "    'heritage':        {'domain':'https://heritage.org',          'pubname':'Heritage'}, \n",
    "    'zdnet':           {'domain':'https://www.zdnet.com',         'pubname':'ZDNet'}, # 반드시 www가 붙어야함\n",
    "    'townhall':        {'domain':'https://townhall.com',          'pubname':'Townhall'}, \n",
    "    'abcnews':         {'domain':'https://abcnews.go.com',        'pubname':'ABC News'}, \n",
    "    'hotair':          {'domain':'https://hotair.com',            'pubname':'HOT AIR'}, \n",
    "    'cbc':             {'domain':'https://cbc.ca',                'pubname':'CBC'}, \n",
    "    'nymag':           {'domain':'https://nymag.com',             'pubname':'NewYork Magazine'}, \n",
    "    'thestreet':       {'domain':'https://thestreet.com',         'pubname':'TheStreet'}, \n",
    "    'thinkprogress':   {'domain':'https://thinkprogress.org',     'pubname':'ThinkProgress'}, \n",
    "    'dailybeast':      {'domain':'https://thedailybeast.com',     'pubname':'DAILY BEAST'}, \n",
    "    'realclearpolitcs':{'domain':'https://realclearpolitics.com', 'pubname':'RealClear Politics'}, \n",
    "    \n",
    "    #'forbes':          'https://forbes.com', \n",
    "    #'hbr':             'https://hbr.org', \n",
    "    #'ft':              'https://ft.com', \n",
    "    #'economist':       'https://economist.com', \n",
    "}"
   ]
  },
  {
   "cell_type": "code",
   "execution_count": 34,
   "metadata": {},
   "outputs": [],
   "source": [
    "def clean_url(pub, url):\n",
    "    url = url.replace('http://', 'https://')\n",
    "    \n",
    "    if pub!='zdnet':\n",
    "    # zdnet은 반드시 www가 붙어야되는 듯 (2019.08.30)\n",
    "        url = url.replace('https://www.', 'https://')\n",
    "    \n",
    "    if url[-1]=='/':\n",
    "        url = url[:-1]\n",
    "    \n",
    "    if pub=='wsj':\n",
    "        try: url = url[:url.index('?mod=')]\n",
    "        except: pass\n",
    "        \n",
    "        url += '?mod=rsswn'\n",
    "        \n",
    "    return url"
   ]
  },
  {
   "cell_type": "code",
   "execution_count": 35,
   "metadata": {},
   "outputs": [],
   "source": [
    "import asyncio\n",
    "from functools import partial\n",
    "\n",
    "def collect_urls(src):\n",
    "    s = time.time()\n",
    "    n = len(src)\n",
    "    n_done = [0]\n",
    "    status = '\\r{pct}% completed: {pub:<20}'\n",
    "    #status = '\\r{pct}% completed: {pub}' + ' '*20\n",
    "    \n",
    "    def progress(pub):\n",
    "        n_done[0] += 1  # 그냥 n_done으로는 외부에서 변수값을 바꿀수 없으므로\n",
    "        pct = '%.2f' % (n_done[0] / n * 100)\n",
    "        print(status.format(pub=pub, pct=pct), end='')\n",
    "        \n",
    "    \n",
    "    async def geturls(pub, domain):\n",
    "        newspaper_config = partial(newspaper.build, config=config)\n",
    "        resp = await loop.run_in_executor(None, newspaper_config, domain)\n",
    "        articles = resp.articles\n",
    "        urls = {clean_url(pub, article.url) for article in articles}\n",
    "        progress(pub)\n",
    "        return pub, urls\n",
    "\n",
    "\n",
    "    async def main():\n",
    "        fts = [asyncio.ensure_future(geturls(pub, val['domain'])) for pub, val in src.items()]\n",
    "        return await asyncio.gather(*fts)\n",
    "\n",
    "\n",
    "    result = None\n",
    "    asyncio.set_event_loop(asyncio.new_event_loop())\n",
    "    loop = asyncio.get_event_loop()\n",
    "\n",
    "    try:\n",
    "        # 다음 코드를 주피터에서 돌리려면, tornado를 downgrade 해야함\n",
    "        # pip install tornado==4.5.3\n",
    "        result = loop.run_until_complete(main())\n",
    "        result = dict(result) #set.union(*result)\n",
    "\n",
    "    except Exception as ex:\n",
    "        print(ex)\n",
    "\n",
    "    finally:\n",
    "        loop.close()\n",
    "\n",
    "    print('\\nDONE: {0:.2f} seconds'.format(time.time() - s))\n",
    "    return result"
   ]
  },
  {
   "cell_type": "code",
   "execution_count": 78,
   "metadata": {
    "collapsed": true
   },
   "outputs": [
    {
     "name": "stderr",
     "output_type": "stream",
     "text": [
      "Task was destroyed but it is pending!\n",
      "task: <Task pending coro=<collect_urls.<locals>.geturls() running at <ipython-input-35-e668814a0b82>:19> wait_for=<Future pending cb=[_chain_future.<locals>._call_check_cancel() at C:\\ProgramData\\Anaconda3\\lib\\asyncio\\futures.py:348, <TaskWakeupMethWrapper object at 0x0000018924C397C8>()]> cb=[gather.<locals>._done_callback() at C:\\ProgramData\\Anaconda3\\lib\\asyncio\\tasks.py:664]>\n",
      "Task was destroyed but it is pending!\n",
      "task: <Task pending coro=<collect_urls.<locals>.geturls() running at <ipython-input-35-e668814a0b82>:19> wait_for=<Future pending cb=[_chain_future.<locals>._call_check_cancel() at C:\\ProgramData\\Anaconda3\\lib\\asyncio\\futures.py:348, <TaskWakeupMethWrapper object at 0x0000018924C396A8>()]> cb=[gather.<locals>._done_callback() at C:\\ProgramData\\Anaconda3\\lib\\asyncio\\tasks.py:664]>\n",
      "Task was destroyed but it is pending!\n",
      "task: <Task pending coro=<collect_urls.<locals>.geturls() running at <ipython-input-35-e668814a0b82>:19> wait_for=<Future pending cb=[_chain_future.<locals>._call_check_cancel() at C:\\ProgramData\\Anaconda3\\lib\\asyncio\\futures.py:348, <TaskWakeupMethWrapper object at 0x000001893272C708>()]> cb=[gather.<locals>._done_callback() at C:\\ProgramData\\Anaconda3\\lib\\asyncio\\tasks.py:664]>\n",
      "Task was destroyed but it is pending!\n",
      "task: <Task pending coro=<collect_urls.<locals>.geturls() running at <ipython-input-35-e668814a0b82>:19> wait_for=<Future pending cb=[_chain_future.<locals>._call_check_cancel() at C:\\ProgramData\\Anaconda3\\lib\\asyncio\\futures.py:348, <TaskWakeupMethWrapper object at 0x000001893272C6A8>()]> cb=[gather.<locals>._done_callback() at C:\\ProgramData\\Anaconda3\\lib\\asyncio\\tasks.py:664]>\n"
     ]
    },
    {
     "name": "stdout",
     "output_type": "stream",
     "text": [
      "100.00% completed: huffpost            \n",
      "DONE: 16.91 seconds\n"
     ]
    },
    {
     "data": {
      "text/plain": [
       "{'huffpost': {'https://huffingtonpost.co.uk/p/contributor-terms-of-use-and-agreement',\n",
       "  'https://huffpost.com/entry/ad-joe-biden-elizabeth-warren-delaware-chancery-court_n_5d67d14ae4b01fcc6910188b',\n",
       "  'https://huffpost.com/entry/alexandria-ocasio-cortez-laura-ingraham-twitter-exchange_n_5d6901b5e4b06beb649ccfa0',\n",
       "  'https://huffpost.com/entry/alexandria-ocasio-cortez-loves-gop-attack-ad_n_5d68917ae4b06beb649bbf66',\n",
       "  'https://huffpost.com/entry/alexandria-ocasio-cortez-trump-puerto-rico_n_5d673db2e4b063c341fa8ad6',\n",
       "  'https://huffpost.com/entry/american-families-trump-china-tariffs-jpmorgan_n_5d5ade7ce4b04e1e14de8a9e',\n",
       "  'https://huffpost.com/entry/best-home-equity-loan-ways-to-use_l_5d5af341e4b036065b6abf17',\n",
       "  'https://huffpost.com/entry/biden-defends-faulty-telling-of-military-heroism-story_n_5d68ed99e4b06beb649c7685',\n",
       "  'https://huffpost.com/entry/black-womens-equal-pay-day-2019_n_5d5d4bc6e4b09e2b9fe4e415',\n",
       "  'https://huffpost.com/entry/bruce-lees-daughter-quentin-tarantino-could-shut-up-about-his-depiction-of-her-dad_n_5d55a322e4b0d8840ff01357',\n",
       "  'https://huffpost.com/entry/california-tax-return-law-donald-trump_n_5d6823f4e4b0488c0d11959a',\n",
       "  'https://huffpost.com/entry/carl-cameron-fox-news-donald-trump-attacks_n_5d67a366e4b01fcc690f92f8',\n",
       "  'https://huffpost.com/entry/catherine-zeta-jones-dylan-douglas-skydiving_n_5d68d4c1e4b02bc6bb377d14',\n",
       "  'https://huffpost.com/entry/cheeto-christ-randy-rainbow-trump-satire-music-video_n_5d6858ece4b06beb649b96a7',\n",
       "  'https://huffpost.com/entry/chicken-sandwich-recipe-popeyes-chick-fil-a_l_5d653f93e4b008b1fd219625',\n",
       "  'https://huffpost.com/entry/china-phone-calls-market-manipulation-donald-trump-george-conway-kellyanne-conway_n_5d689549e4b02bc6bb371b3d',\n",
       "  'https://huffpost.com/entry/cnn-don-lemon-chris-cuomo-cutting-off-interview-trump_n_5d67e774e4b01fcc6910689d',\n",
       "  'https://huffpost.com/entry/constance-wu-fresh-off-the-boat-twitter-hustlers_n_5d68378ce4b0488c0d11b2c0',\n",
       "  'https://huffpost.com/entry/dhs-blocks-house-oversight-visiting-migrant-border-facility_n_5d685800e4b02bc6bb36eb76',\n",
       "  'https://huffpost.com/entry/donald-trump-jr-bernie-sanders-punching-bag-twitter_n_5d67e7d1e4b01fcc691069de',\n",
       "  'https://huffpost.com/entry/dont-let-go-fast-color-black-women-sci-fi-films-tv_n_5d66c493e4b063c341f9d22d',\n",
       "  'https://huffpost.com/entry/fox-news-jeanine-pirro-white-nationalist_n_5d68e865e4b0488c0d12b566',\n",
       "  'https://huffpost.com/entry/george-takei-on-reliving-japanese-american-concentration-camp-experience-on-set_n_5d52b766e4b0cfeed1a36591',\n",
       "  'https://huffpost.com/entry/great-barrier-reef-outlook-very-poor_n_5d68a900e4b02bc6bb372c4a',\n",
       "  'https://huffpost.com/entry/greg-abbott-fundraising-letter-el-paso_n_5d68663ee4b0488c0d11ea19',\n",
       "  'https://huffpost.com/entry/hugh-grant-boris-johnson-twitter-message_n_5d679675e4b01fcc690f56a0',\n",
       "  'https://huffpost.com/entry/international-space-station-hurricane-dorian-photos_n_5d68d6b3e4b0488c0d1277f0',\n",
       "  'https://huffpost.com/entry/is-your-child-a-bully-or-just-doing-normal-mean-kid-stuff_l_5d5ad55ce4b0d8840ff6bd50',\n",
       "  'https://huffpost.com/entry/james-comey-trump-memos-doj-fbi_n_5d67dbc6e4b063c341fc1372',\n",
       "  'https://huffpost.com/entry/jeffrey-epstein-prince-andrew-rape-allegations-virginia-giuffre_n_5d6676bbe4b063c341f89efe',\n",
       "  'https://huffpost.com/entry/jim-leavelle-dead-dallas-detective-lee-harvey-oswald_n_5d68aed9e4b06beb649bdd8a',\n",
       "  'https://huffpost.com/entry/joel-schumacher-20000-sex-partners_n_5d67984ae4b01fcc690f5f88',\n",
       "  'https://huffpost.com/entry/john-stamos-lori-loughlin-college-admissions-scandal-punishment_n_5d669ef0e4b022fbceb49a29',\n",
       "  'https://huffpost.com/entry/kareem-abdul-jabbar-bruce-lee-once-upon-a-time-in-hollywood_n_5d56e7c9e4b0eb875f236084',\n",
       "  'https://huffpost.com/entry/kirsten-gillibrand-me-too-candidate-democratic-primary_n_5d67d8eae4b063c341fc0871',\n",
       "  'https://huffpost.com/entry/labor-day-2019-sales-on-skin-care-and-makeup_l_5d66dc68e4b063c341fa0bba',\n",
       "  'https://huffpost.com/entry/labor-day-2019-sales-on-tvs-furniture-and-appliances_l_5d66b90de4b022fbceb515f6',\n",
       "  'https://huffpost.com/entry/larry-nassar-argues-his-child-porn-sentence-is-draconian-in-another-appeal_n_5d67cf07e4b022fbceb754f7',\n",
       "  'https://huffpost.com/entry/lawrence-odonnell-msnbc-trump-finances-deutsche-bank-unverified-report_n_5d66ddf1e4b063c341fa0f2a',\n",
       "  'https://huffpost.com/entry/learn-basic-drawing-techniques-step-by-step_l_5d6551a6e4b063c341f64632',\n",
       "  'https://huffpost.com/entry/legal-bid-to-block-boris-johnsons-parliament-suspension-fails_n_5d68eba7e4b06beb649c7096',\n",
       "  'https://huffpost.com/entry/lizzo-isnt-brave-just-for-existing_n_5d669bfee4b022fbceb48eb0',\n",
       "  'https://huffpost.com/entry/local-news-anchor-koco-black-co-host-gorilla_n_5d654a4ce4b008b1fd21c99c',\n",
       "  'https://huffpost.com/entry/los-angeles-transgender-bar-hate-crime_n_5d656a5ce4b063c341f6b406',\n",
       "  'https://huffpost.com/entry/madeleine-westerhout-resigns-trump-personal-assistant_n_5d6883c9e4b06beb649bb3ab',\n",
       "  'https://huffpost.com/entry/meet-andrea-londo-who-has-gone-from-border-child-to-inspiring-actress_n_5d236a6ce4b0f3125687f3ac',\n",
       "  'https://huffpost.com/entry/meet-clara-pablo-a-music-executive-helping-latinas-stand-up-to-breast-cancer_n_5d236cdde4b0f3125687fb21',\n",
       "  'https://huffpost.com/entry/most-popular-instagram-recipes-august-2019_l_5d65959ce4b063c341f71e6c',\n",
       "  'https://huffpost.com/entry/mulan-liu-yifei-boycott-hong-kong-protest_n_5d56d071e4b0eb875f23378e',\n",
       "  'https://huffpost.com/entry/muslim-women-are-fighting-to-swim-in-america_n_5d5594d1e4b056fafd08aa70',\n",
       "  'https://huffpost.com/entry/national-farmers-union-roger-johnson-trump-trade-war-china_n_5d68b124e4b0488c0d122b1c',\n",
       "  'https://huffpost.com/entry/nfl-ryan-russell-comes-out-bisexual_n_5d6838a7e4b02bc6bb36bc37',\n",
       "  'https://huffpost.com/entry/phoebe-robinson-between-you-and-me_n_5d5f0de9e4b0dfcbd48ac6a3',\n",
       "  'https://huffpost.com/entry/priyanka-chopra-photoshop-nick-jonas-vmas-pda_n_5d66a62de4b063c341f95135',\n",
       "  'https://huffpost.com/entry/professor-matthew-mcconaughey-university-of-texas-faculty_n_5d6729f5e4b063c341fa7d9f',\n",
       "  'https://huffpost.com/entry/scarlett-johansson-marriage-story-casting-fate_n_5d682916e4b06beb649b54e7',\n",
       "  'https://huffpost.com/entry/sean-hannity-donald-trump-jr-new-book_n_5d677005e4b01fcc690eddfb',\n",
       "  'https://huffpost.com/entry/shang-chi-actor-simu-liu-congratulates-ludi-lin-on-new-mortal-kombat-role_n_5d5af6b6e4b04e1e14dece0b',\n",
       "  'https://huffpost.com/entry/simone-biles-brother-charged-triple-homicdie_n_5d68e5e2e4b0488c0d12ad87',\n",
       "  'https://huffpost.com/entry/simu-liu-responds-to-critics-who-claim-hes-too-ugly-to-play-shang-chi_n_5d51a488e4b0cfeed1a175ee',\n",
       "  'https://huffpost.com/entry/sophie-turner-hailee-steinfeld-vmas-wife_n_5d669c5fe4b022fbceb4904c',\n",
       "  'https://huffpost.com/entry/spike-lee-donald-trump-white-supremacist_n_5d5cf8d6e4b063487e9496b6',\n",
       "  'https://huffpost.com/entry/taylor-swift-john-travolta-gaffe-todrick-hall_n_5d67c0aee4b01fcc690feb82',\n",
       "  'https://huffpost.com/entry/ted-cruz-martin-luther-king-jr-twitter_n_5d677b3fe4b01fcc690ef7eb',\n",
       "  'https://huffpost.com/entry/the-20-funniest-tweets-from-women-this-week-aug-17-23_n_5d5daba8e4b0dfcbd48780b5',\n",
       "  'https://huffpost.com/entry/tim-mcgraw-faith-hill-gracie-singing_n_5d66a5a3e4b063c341f94ea8',\n",
       "  'https://huffpost.com/entry/troye-sivan-top-or-bottom-interview_n_5d67df44e4b022fbceb78e18',\n",
       "  'https://huffpost.com/entry/trump-puerto-rico-hurricane-dorian-tweets_n_5d6705a2e4b01fcc690e84bf',\n",
       "  'https://huffpost.com/entry/trump-responds-james-comey-fbi-memos_n_5d67e1f0e4b022fbceb797ac',\n",
       "  'https://huffpost.com/entry/vdare-trump-white-nationalist-anti-semitic-lion-logo_n_5d6844d1e4b02bc6bb36d6fe',\n",
       "  'https://huffpost.com/entry/we-run-313-detroit-runners-fitness_n_5d5aa157e4b0d8840ff61f9f',\n",
       "  'https://huffpost.com/entry/when-transgender-travelers-walk-into-scanners-invasive-searches-sometimes-wait-on-the-other-side_n_5d655a67e4b063c341f66db3',\n",
       "  'https://huffpost.com/feature/listen-to-america',\n",
       "  'https://huffpost.com/news/media',\n",
       "  'https://huffpost.com/news/politics',\n",
       "  'https://huffpost.com/news/topic/2020-election',\n",
       "  'https://huffpost.com/news/topic/donald-trump',\n",
       "  'https://huffpost.com/news/topic/extremism',\n",
       "  'https://huffpost.com/news/topic/press-room',\n",
       "  'https://huffpost.com/news/topic/us-congress',\n",
       "  'https://huffpost.com/news/us-news',\n",
       "  'https://huffpost.com/news/world-news',\n",
       "  'https://huffpost.com/section/media/feed',\n",
       "  'https://huffpost.com/section/video',\n",
       "  'https://huffpost.com/section/video/feed',\n",
       "  'https://huffpost.com/topic/2009-media-deaths/feed',\n",
       "  'https://huffpost.com/topic/2011-game-changers/feed',\n",
       "  'https://huffpost.com/topic/media/feed',\n",
       "  'https://huffpost.com/topic/news/feed'}}"
      ]
     },
     "execution_count": 78,
     "metadata": {},
     "output_type": "execute_result"
    }
   ],
   "source": [
    "urls = collect_urls(dict(list(src.items())[:1])); urls"
   ]
  },
  {
   "cell_type": "code",
   "execution_count": 79,
   "metadata": {},
   "outputs": [],
   "source": [
    "def get_download_urls(urls):\n",
    "    download_urls = {}\n",
    "    basedir = os.path.join(os.getcwd(), 'newsdata')\n",
    "    ext = '.json'\n",
    "\n",
    "    for pub, _urls in tqdm(urls.items()):\n",
    "        download_urls[pub] = {}\n",
    "        pubdir = os.path.join(basedir, pub)\n",
    "\n",
    "        if not os.path.isdir(pubdir):\n",
    "            os.makedirs(pubdir)\n",
    "\n",
    "        for _url in _urls:\n",
    "            hash_url = hashlib.sha1(_url.encode('utf-8')).hexdigest()\n",
    "            file = os.path.join(pubdir, hash_url + ext)\n",
    "\n",
    "            if not os.path.isfile(file):\n",
    "                download_urls[pub][file] = _url\n",
    "                \n",
    "    return download_urls"
   ]
  },
  {
   "cell_type": "code",
   "execution_count": 80,
   "metadata": {
    "scrolled": true
   },
   "outputs": [
    {
     "data": {
      "application/vnd.jupyter.widget-view+json": {
       "model_id": "080ef69473f94b3fa396e19f35ed7cec",
       "version_major": 2,
       "version_minor": 0
      },
      "text/plain": [
       "HBox(children=(IntProgress(value=0, max=1), HTML(value='')))"
      ]
     },
     "metadata": {},
     "output_type": "display_data"
    },
    {
     "name": "stdout",
     "output_type": "stream",
     "text": [
      "\n"
     ]
    }
   ],
   "source": [
    "download_urls = get_download_urls(urls)"
   ]
  },
  {
   "cell_type": "code",
   "execution_count": 81,
   "metadata": {
    "collapsed": true
   },
   "outputs": [
    {
     "data": {
      "text/plain": [
       "{'huffpost': {'C:\\\\Users\\\\Sejin\\\\Documents\\\\GitHub\\\\protobed\\\\etc\\\\newsdata\\\\huffpost\\\\29b48cfa282143b5b56fc5494e9ae1aa02d35f5b.json': 'https://huffpost.com/entry/labor-day-2019-sales-on-tvs-furniture-and-appliances_l_5d66b90de4b022fbceb515f6',\n",
       "  'C:\\\\Users\\\\Sejin\\\\Documents\\\\GitHub\\\\protobed\\\\etc\\\\newsdata\\\\huffpost\\\\0607064aca7aa47f99df3eb85588d1923068da77.json': 'https://huffpost.com/entry/nfl-ryan-russell-comes-out-bisexual_n_5d6838a7e4b02bc6bb36bc37',\n",
       "  'C:\\\\Users\\\\Sejin\\\\Documents\\\\GitHub\\\\protobed\\\\etc\\\\newsdata\\\\huffpost\\\\00373a444ad611e2c52b4f8d3f08b31c3259fe5f.json': 'https://huffpost.com/entry/meet-andrea-londo-who-has-gone-from-border-child-to-inspiring-actress_n_5d236a6ce4b0f3125687f3ac',\n",
       "  'C:\\\\Users\\\\Sejin\\\\Documents\\\\GitHub\\\\protobed\\\\etc\\\\newsdata\\\\huffpost\\\\cab5cb45b5efa210bedf673c20497c2773245d55.json': 'https://huffpost.com/entry/meet-clara-pablo-a-music-executive-helping-latinas-stand-up-to-breast-cancer_n_5d236cdde4b0f3125687fb21',\n",
       "  'C:\\\\Users\\\\Sejin\\\\Documents\\\\GitHub\\\\protobed\\\\etc\\\\newsdata\\\\huffpost\\\\2d59a68cb83fcf29794e732a81b95a8332f1388f.json': 'https://huffpost.com/entry/lizzo-isnt-brave-just-for-existing_n_5d669bfee4b022fbceb48eb0',\n",
       "  'C:\\\\Users\\\\Sejin\\\\Documents\\\\GitHub\\\\protobed\\\\etc\\\\newsdata\\\\huffpost\\\\256f2af782db7d40e1509cdea77aab694fff0bdd.json': 'https://huffpost.com/news/world-news',\n",
       "  'C:\\\\Users\\\\Sejin\\\\Documents\\\\GitHub\\\\protobed\\\\etc\\\\newsdata\\\\huffpost\\\\fc16185c4edc960d287d75dc9d2abe9de3c4dc74.json': 'https://huffingtonpost.co.uk/p/contributor-terms-of-use-and-agreement',\n",
       "  'C:\\\\Users\\\\Sejin\\\\Documents\\\\GitHub\\\\protobed\\\\etc\\\\newsdata\\\\huffpost\\\\c44f81bada6a876a2a90ea8d47d90146d62b8fa9.json': 'https://huffpost.com/entry/fox-news-jeanine-pirro-white-nationalist_n_5d68e865e4b0488c0d12b566',\n",
       "  'C:\\\\Users\\\\Sejin\\\\Documents\\\\GitHub\\\\protobed\\\\etc\\\\newsdata\\\\huffpost\\\\62ee3a068e5615e64505336efbc6d70f7b790790.json': 'https://huffpost.com/entry/vdare-trump-white-nationalist-anti-semitic-lion-logo_n_5d6844d1e4b02bc6bb36d6fe',\n",
       "  'C:\\\\Users\\\\Sejin\\\\Documents\\\\GitHub\\\\protobed\\\\etc\\\\newsdata\\\\huffpost\\\\014e2dd7ba8e92aa70b5fe3bb356ff104f7618ed.json': 'https://huffpost.com/entry/biden-defends-faulty-telling-of-military-heroism-story_n_5d68ed99e4b06beb649c7685',\n",
       "  'C:\\\\Users\\\\Sejin\\\\Documents\\\\GitHub\\\\protobed\\\\etc\\\\newsdata\\\\huffpost\\\\19fca824f3e293b801ee9b77d94c1b31db416fb4.json': 'https://huffpost.com/entry/priyanka-chopra-photoshop-nick-jonas-vmas-pda_n_5d66a62de4b063c341f95135',\n",
       "  'C:\\\\Users\\\\Sejin\\\\Documents\\\\GitHub\\\\protobed\\\\etc\\\\newsdata\\\\huffpost\\\\01ee870e0ffbe5dcd58c9122b0ec3df7950d6260.json': 'https://huffpost.com/entry/greg-abbott-fundraising-letter-el-paso_n_5d68663ee4b0488c0d11ea19',\n",
       "  'C:\\\\Users\\\\Sejin\\\\Documents\\\\GitHub\\\\protobed\\\\etc\\\\newsdata\\\\huffpost\\\\cb77199d10e7751ba9b2da32057a9e1b7c21fa6e.json': 'https://huffpost.com/entry/larry-nassar-argues-his-child-porn-sentence-is-draconian-in-another-appeal_n_5d67cf07e4b022fbceb754f7',\n",
       "  'C:\\\\Users\\\\Sejin\\\\Documents\\\\GitHub\\\\protobed\\\\etc\\\\newsdata\\\\huffpost\\\\6a149b56641b0711db23d8c835cdae59a3556a11.json': 'https://huffpost.com/entry/we-run-313-detroit-runners-fitness_n_5d5aa157e4b0d8840ff61f9f',\n",
       "  'C:\\\\Users\\\\Sejin\\\\Documents\\\\GitHub\\\\protobed\\\\etc\\\\newsdata\\\\huffpost\\\\710983d8f89c80df238b67dc3515c17ab3015f41.json': 'https://huffpost.com/news/topic/press-room',\n",
       "  'C:\\\\Users\\\\Sejin\\\\Documents\\\\GitHub\\\\protobed\\\\etc\\\\newsdata\\\\huffpost\\\\009b1a9302dc80bf39add9f972f9c1925943cfa1.json': 'https://huffpost.com/entry/carl-cameron-fox-news-donald-trump-attacks_n_5d67a366e4b01fcc690f92f8',\n",
       "  'C:\\\\Users\\\\Sejin\\\\Documents\\\\GitHub\\\\protobed\\\\etc\\\\newsdata\\\\huffpost\\\\9f0bba3c5f7ab87b595fab26ea92234be5b5c385.json': 'https://huffpost.com/entry/hugh-grant-boris-johnson-twitter-message_n_5d679675e4b01fcc690f56a0',\n",
       "  'C:\\\\Users\\\\Sejin\\\\Documents\\\\GitHub\\\\protobed\\\\etc\\\\newsdata\\\\huffpost\\\\ebb86a2077287e7946019e70b8e23cae5eb829f3.json': 'https://huffpost.com/news/politics',\n",
       "  'C:\\\\Users\\\\Sejin\\\\Documents\\\\GitHub\\\\protobed\\\\etc\\\\newsdata\\\\huffpost\\\\0004729b16a11f7f62487a8461d0e158cc7ed936.json': 'https://huffpost.com/entry/jim-leavelle-dead-dallas-detective-lee-harvey-oswald_n_5d68aed9e4b06beb649bdd8a',\n",
       "  'C:\\\\Users\\\\Sejin\\\\Documents\\\\GitHub\\\\protobed\\\\etc\\\\newsdata\\\\huffpost\\\\63008d6ff36259539f5e9071165c0c78bed2c6cc.json': 'https://huffpost.com/entry/taylor-swift-john-travolta-gaffe-todrick-hall_n_5d67c0aee4b01fcc690feb82',\n",
       "  'C:\\\\Users\\\\Sejin\\\\Documents\\\\GitHub\\\\protobed\\\\etc\\\\newsdata\\\\huffpost\\\\32a685a502d4b68cf96ddf56ff62f4825f24171f.json': 'https://huffpost.com/entry/tim-mcgraw-faith-hill-gracie-singing_n_5d66a5a3e4b063c341f94ea8',\n",
       "  'C:\\\\Users\\\\Sejin\\\\Documents\\\\GitHub\\\\protobed\\\\etc\\\\newsdata\\\\huffpost\\\\a40ccad7a527a2e8881c4eb4ff19ddfbd064cfdc.json': 'https://huffpost.com/entry/local-news-anchor-koco-black-co-host-gorilla_n_5d654a4ce4b008b1fd21c99c',\n",
       "  'C:\\\\Users\\\\Sejin\\\\Documents\\\\GitHub\\\\protobed\\\\etc\\\\newsdata\\\\huffpost\\\\8d5d1c7aa23948bbb51b78bdcf7f8939d3bb7c69.json': 'https://huffpost.com/entry/cnn-don-lemon-chris-cuomo-cutting-off-interview-trump_n_5d67e774e4b01fcc6910689d',\n",
       "  'C:\\\\Users\\\\Sejin\\\\Documents\\\\GitHub\\\\protobed\\\\etc\\\\newsdata\\\\huffpost\\\\efb8694db572a6c1469987977d35e761248c3d19.json': 'https://huffpost.com/entry/simone-biles-brother-charged-triple-homicdie_n_5d68e5e2e4b0488c0d12ad87',\n",
       "  'C:\\\\Users\\\\Sejin\\\\Documents\\\\GitHub\\\\protobed\\\\etc\\\\newsdata\\\\huffpost\\\\57b73d3e7696b99b8b6b5fc2771f7d5dac0522d1.json': 'https://huffpost.com/topic/news/feed',\n",
       "  'C:\\\\Users\\\\Sejin\\\\Documents\\\\GitHub\\\\protobed\\\\etc\\\\newsdata\\\\huffpost\\\\2ec7d4cf1e18195f2a4df761169523cd2afa4b2a.json': 'https://huffpost.com/entry/learn-basic-drawing-techniques-step-by-step_l_5d6551a6e4b063c341f64632',\n",
       "  'C:\\\\Users\\\\Sejin\\\\Documents\\\\GitHub\\\\protobed\\\\etc\\\\newsdata\\\\huffpost\\\\82132f1d0f38509063cb474e2cc920c7bff040c1.json': 'https://huffpost.com/entry/national-farmers-union-roger-johnson-trump-trade-war-china_n_5d68b124e4b0488c0d122b1c',\n",
       "  'C:\\\\Users\\\\Sejin\\\\Documents\\\\GitHub\\\\protobed\\\\etc\\\\newsdata\\\\huffpost\\\\f08bdcc20dff56f680099458739f23482b24a645.json': 'https://huffpost.com/entry/simu-liu-responds-to-critics-who-claim-hes-too-ugly-to-play-shang-chi_n_5d51a488e4b0cfeed1a175ee',\n",
       "  'C:\\\\Users\\\\Sejin\\\\Documents\\\\GitHub\\\\protobed\\\\etc\\\\newsdata\\\\huffpost\\\\d4a6436c71d4959842024190be90f80ca63b62b0.json': 'https://huffpost.com/entry/most-popular-instagram-recipes-august-2019_l_5d65959ce4b063c341f71e6c',\n",
       "  'C:\\\\Users\\\\Sejin\\\\Documents\\\\GitHub\\\\protobed\\\\etc\\\\newsdata\\\\huffpost\\\\58fa4faba728f549bbb00e6c0e5ab7603e1b4540.json': 'https://huffpost.com/entry/dont-let-go-fast-color-black-women-sci-fi-films-tv_n_5d66c493e4b063c341f9d22d',\n",
       "  'C:\\\\Users\\\\Sejin\\\\Documents\\\\GitHub\\\\protobed\\\\etc\\\\newsdata\\\\huffpost\\\\a0f89b2dffc199d6058dd48e26e39a3ef757ea22.json': 'https://huffpost.com/entry/george-takei-on-reliving-japanese-american-concentration-camp-experience-on-set_n_5d52b766e4b0cfeed1a36591',\n",
       "  'C:\\\\Users\\\\Sejin\\\\Documents\\\\GitHub\\\\protobed\\\\etc\\\\newsdata\\\\huffpost\\\\022d057995dee21168d772be72610763216d7c61.json': 'https://huffpost.com/entry/joel-schumacher-20000-sex-partners_n_5d67984ae4b01fcc690f5f88',\n",
       "  'C:\\\\Users\\\\Sejin\\\\Documents\\\\GitHub\\\\protobed\\\\etc\\\\newsdata\\\\huffpost\\\\ea22d1fbe6951717c5f946a3452a367a360d867d.json': 'https://huffpost.com/entry/american-families-trump-china-tariffs-jpmorgan_n_5d5ade7ce4b04e1e14de8a9e',\n",
       "  'C:\\\\Users\\\\Sejin\\\\Documents\\\\GitHub\\\\protobed\\\\etc\\\\newsdata\\\\huffpost\\\\a9d735c7d1a255fc27b6c04a5c911db551773606.json': 'https://huffpost.com/entry/los-angeles-transgender-bar-hate-crime_n_5d656a5ce4b063c341f6b406',\n",
       "  'C:\\\\Users\\\\Sejin\\\\Documents\\\\GitHub\\\\protobed\\\\etc\\\\newsdata\\\\huffpost\\\\0b4d05fff1edfc8aab03af3016dfb7e0e3177475.json': 'https://huffpost.com/entry/legal-bid-to-block-boris-johnsons-parliament-suspension-fails_n_5d68eba7e4b06beb649c7096',\n",
       "  'C:\\\\Users\\\\Sejin\\\\Documents\\\\GitHub\\\\protobed\\\\etc\\\\newsdata\\\\huffpost\\\\db69f1edf2725bacbaffa7731bba0cf8602d3548.json': 'https://huffpost.com/section/video/feed',\n",
       "  'C:\\\\Users\\\\Sejin\\\\Documents\\\\GitHub\\\\protobed\\\\etc\\\\newsdata\\\\huffpost\\\\05d41a938e6188ebcd0cad2cc7ddfe42d9b4091d.json': 'https://huffpost.com/entry/kirsten-gillibrand-me-too-candidate-democratic-primary_n_5d67d8eae4b063c341fc0871',\n",
       "  'C:\\\\Users\\\\Sejin\\\\Documents\\\\GitHub\\\\protobed\\\\etc\\\\newsdata\\\\huffpost\\\\1536f0339d022199df35bc050d8faa62926c3b0f.json': 'https://huffpost.com/section/media/feed',\n",
       "  'C:\\\\Users\\\\Sejin\\\\Documents\\\\GitHub\\\\protobed\\\\etc\\\\newsdata\\\\huffpost\\\\d370676323e833695d6a5b9979813c5bbc887f83.json': 'https://huffpost.com/entry/catherine-zeta-jones-dylan-douglas-skydiving_n_5d68d4c1e4b02bc6bb377d14',\n",
       "  'C:\\\\Users\\\\Sejin\\\\Documents\\\\GitHub\\\\protobed\\\\etc\\\\newsdata\\\\huffpost\\\\a85d897074530385212e261826cb485e461ae9b8.json': 'https://huffpost.com/entry/is-your-child-a-bully-or-just-doing-normal-mean-kid-stuff_l_5d5ad55ce4b0d8840ff6bd50',\n",
       "  'C:\\\\Users\\\\Sejin\\\\Documents\\\\GitHub\\\\protobed\\\\etc\\\\newsdata\\\\huffpost\\\\8bc23ad8afeac57acabcac9a9c3dd54196468590.json': 'https://huffpost.com/entry/cheeto-christ-randy-rainbow-trump-satire-music-video_n_5d6858ece4b06beb649b96a7',\n",
       "  'C:\\\\Users\\\\Sejin\\\\Documents\\\\GitHub\\\\protobed\\\\etc\\\\newsdata\\\\huffpost\\\\7d66bfc14749531048687fce710c668f0be9422f.json': 'https://huffpost.com/entry/china-phone-calls-market-manipulation-donald-trump-george-conway-kellyanne-conway_n_5d689549e4b02bc6bb371b3d',\n",
       "  'C:\\\\Users\\\\Sejin\\\\Documents\\\\GitHub\\\\protobed\\\\etc\\\\newsdata\\\\huffpost\\\\198c5cd4fca77569b04bb450b99cfe0c1cf64600.json': 'https://huffpost.com/entry/professor-matthew-mcconaughey-university-of-texas-faculty_n_5d6729f5e4b063c341fa7d9f',\n",
       "  'C:\\\\Users\\\\Sejin\\\\Documents\\\\GitHub\\\\protobed\\\\etc\\\\newsdata\\\\huffpost\\\\25d1bbb84a22ed63b758d86b4aadb54986213e89.json': 'https://huffpost.com/entry/shang-chi-actor-simu-liu-congratulates-ludi-lin-on-new-mortal-kombat-role_n_5d5af6b6e4b04e1e14dece0b',\n",
       "  'C:\\\\Users\\\\Sejin\\\\Documents\\\\GitHub\\\\protobed\\\\etc\\\\newsdata\\\\huffpost\\\\ac64bbd5e2e3cfda8746ddce0acc905131920bd9.json': 'https://huffpost.com/entry/jeffrey-epstein-prince-andrew-rape-allegations-virginia-giuffre_n_5d6676bbe4b063c341f89efe',\n",
       "  'C:\\\\Users\\\\Sejin\\\\Documents\\\\GitHub\\\\protobed\\\\etc\\\\newsdata\\\\huffpost\\\\a9163245da8249b082099af62731bf321ea1ac83.json': 'https://huffpost.com/entry/trump-responds-james-comey-fbi-memos_n_5d67e1f0e4b022fbceb797ac',\n",
       "  'C:\\\\Users\\\\Sejin\\\\Documents\\\\GitHub\\\\protobed\\\\etc\\\\newsdata\\\\huffpost\\\\1d5698cad4c6f7a89497525651bab89c147f290e.json': 'https://huffpost.com/topic/media/feed',\n",
       "  'C:\\\\Users\\\\Sejin\\\\Documents\\\\GitHub\\\\protobed\\\\etc\\\\newsdata\\\\huffpost\\\\0fbd45c8a9b114954079b3865478298bf92efccd.json': 'https://huffpost.com/entry/madeleine-westerhout-resigns-trump-personal-assistant_n_5d6883c9e4b06beb649bb3ab',\n",
       "  'C:\\\\Users\\\\Sejin\\\\Documents\\\\GitHub\\\\protobed\\\\etc\\\\newsdata\\\\huffpost\\\\008d7dc8a307dafa808bcde04388a63d0cf11ee8.json': 'https://huffpost.com/entry/phoebe-robinson-between-you-and-me_n_5d5f0de9e4b0dfcbd48ac6a3',\n",
       "  'C:\\\\Users\\\\Sejin\\\\Documents\\\\GitHub\\\\protobed\\\\etc\\\\newsdata\\\\huffpost\\\\cdece555df5d45d1dd9ed63266f547fe4c91a500.json': 'https://huffpost.com/entry/muslim-women-are-fighting-to-swim-in-america_n_5d5594d1e4b056fafd08aa70',\n",
       "  'C:\\\\Users\\\\Sejin\\\\Documents\\\\GitHub\\\\protobed\\\\etc\\\\newsdata\\\\huffpost\\\\7d6cfa180f8cc523c46d1d55223c7ea5fd49441a.json': 'https://huffpost.com/news/topic/us-congress',\n",
       "  'C:\\\\Users\\\\Sejin\\\\Documents\\\\GitHub\\\\protobed\\\\etc\\\\newsdata\\\\huffpost\\\\5a0a048f23d24f799bea8703ecd5530fb5a1950a.json': 'https://huffpost.com/entry/when-transgender-travelers-walk-into-scanners-invasive-searches-sometimes-wait-on-the-other-side_n_5d655a67e4b063c341f66db3',\n",
       "  'C:\\\\Users\\\\Sejin\\\\Documents\\\\GitHub\\\\protobed\\\\etc\\\\newsdata\\\\huffpost\\\\ea11a3d3cc46707caab648ecb6dd1eb92bd2d2ac.json': 'https://huffpost.com/section/video',\n",
       "  'C:\\\\Users\\\\Sejin\\\\Documents\\\\GitHub\\\\protobed\\\\etc\\\\newsdata\\\\huffpost\\\\5787e5b6bea8d3191c9be0eff8af39a640468567.json': 'https://huffpost.com/news/topic/extremism',\n",
       "  'C:\\\\Users\\\\Sejin\\\\Documents\\\\GitHub\\\\protobed\\\\etc\\\\newsdata\\\\huffpost\\\\2b5df3b8efb54f363c0fef43f337ab1eedc64acb.json': 'https://huffpost.com/news/topic/2020-election',\n",
       "  'C:\\\\Users\\\\Sejin\\\\Documents\\\\GitHub\\\\protobed\\\\etc\\\\newsdata\\\\huffpost\\\\b949228a0ffeb6aa439c8cb303acb1f3a741dc55.json': 'https://huffpost.com/entry/sean-hannity-donald-trump-jr-new-book_n_5d677005e4b01fcc690eddfb',\n",
       "  'C:\\\\Users\\\\Sejin\\\\Documents\\\\GitHub\\\\protobed\\\\etc\\\\newsdata\\\\huffpost\\\\c07ad881c83e9bd8ac48f1c1954ef8b59f41e21c.json': 'https://huffpost.com/entry/kareem-abdul-jabbar-bruce-lee-once-upon-a-time-in-hollywood_n_5d56e7c9e4b0eb875f236084',\n",
       "  'C:\\\\Users\\\\Sejin\\\\Documents\\\\GitHub\\\\protobed\\\\etc\\\\newsdata\\\\huffpost\\\\ed645868e212adb3e4375a103b50007b33714a43.json': 'https://huffpost.com/entry/best-home-equity-loan-ways-to-use_l_5d5af341e4b036065b6abf17',\n",
       "  'C:\\\\Users\\\\Sejin\\\\Documents\\\\GitHub\\\\protobed\\\\etc\\\\newsdata\\\\huffpost\\\\b6ad0658bd69963f7f5075fc8a9ab516e21a57c4.json': 'https://huffpost.com/entry/dhs-blocks-house-oversight-visiting-migrant-border-facility_n_5d685800e4b02bc6bb36eb76',\n",
       "  'C:\\\\Users\\\\Sejin\\\\Documents\\\\GitHub\\\\protobed\\\\etc\\\\newsdata\\\\huffpost\\\\cd22af8b3975587f8c0b58b9d559c133b114eaae.json': 'https://huffpost.com/entry/spike-lee-donald-trump-white-supremacist_n_5d5cf8d6e4b063487e9496b6',\n",
       "  'C:\\\\Users\\\\Sejin\\\\Documents\\\\GitHub\\\\protobed\\\\etc\\\\newsdata\\\\huffpost\\\\1fdc560f7858c543ceb37c39dcd70df408125b35.json': 'https://huffpost.com/entry/alexandria-ocasio-cortez-trump-puerto-rico_n_5d673db2e4b063c341fa8ad6',\n",
       "  'C:\\\\Users\\\\Sejin\\\\Documents\\\\GitHub\\\\protobed\\\\etc\\\\newsdata\\\\huffpost\\\\745d57900c0e326b77a16a761f7da70ba33a3351.json': 'https://huffpost.com/entry/john-stamos-lori-loughlin-college-admissions-scandal-punishment_n_5d669ef0e4b022fbceb49a29',\n",
       "  'C:\\\\Users\\\\Sejin\\\\Documents\\\\GitHub\\\\protobed\\\\etc\\\\newsdata\\\\huffpost\\\\a70bab636e5de324b3659fa7e220a7788d079e22.json': 'https://huffpost.com/entry/trump-puerto-rico-hurricane-dorian-tweets_n_5d6705a2e4b01fcc690e84bf',\n",
       "  'C:\\\\Users\\\\Sejin\\\\Documents\\\\GitHub\\\\protobed\\\\etc\\\\newsdata\\\\huffpost\\\\ccaae43458b0693491a387b382022b6ef65e8405.json': 'https://huffpost.com/entry/alexandria-ocasio-cortez-loves-gop-attack-ad_n_5d68917ae4b06beb649bbf66',\n",
       "  'C:\\\\Users\\\\Sejin\\\\Documents\\\\GitHub\\\\protobed\\\\etc\\\\newsdata\\\\huffpost\\\\0e9efdd913f6f8c46167d3421723cad4a1338886.json': 'https://huffpost.com/news/topic/donald-trump',\n",
       "  'C:\\\\Users\\\\Sejin\\\\Documents\\\\GitHub\\\\protobed\\\\etc\\\\newsdata\\\\huffpost\\\\cd9750bc4940bf21c8869281520d4475112d972e.json': 'https://huffpost.com/entry/labor-day-2019-sales-on-skin-care-and-makeup_l_5d66dc68e4b063c341fa0bba',\n",
       "  'C:\\\\Users\\\\Sejin\\\\Documents\\\\GitHub\\\\protobed\\\\etc\\\\newsdata\\\\huffpost\\\\d4776ee6fa1cf8a12ff3cb0b0b5edae4607c1631.json': 'https://huffpost.com/entry/bruce-lees-daughter-quentin-tarantino-could-shut-up-about-his-depiction-of-her-dad_n_5d55a322e4b0d8840ff01357',\n",
       "  'C:\\\\Users\\\\Sejin\\\\Documents\\\\GitHub\\\\protobed\\\\etc\\\\newsdata\\\\huffpost\\\\f717e41b26c3bf2ef9e01b99bd0676df39905840.json': 'https://huffpost.com/entry/alexandria-ocasio-cortez-laura-ingraham-twitter-exchange_n_5d6901b5e4b06beb649ccfa0',\n",
       "  'C:\\\\Users\\\\Sejin\\\\Documents\\\\GitHub\\\\protobed\\\\etc\\\\newsdata\\\\huffpost\\\\e0673c634ee4fa29f2c0af23aff1b8d35ce8cae0.json': 'https://huffpost.com/news/us-news',\n",
       "  'C:\\\\Users\\\\Sejin\\\\Documents\\\\GitHub\\\\protobed\\\\etc\\\\newsdata\\\\huffpost\\\\c70b46404054f7dec6328c517ee3e849d4df9092.json': 'https://huffpost.com/entry/james-comey-trump-memos-doj-fbi_n_5d67dbc6e4b063c341fc1372',\n",
       "  'C:\\\\Users\\\\Sejin\\\\Documents\\\\GitHub\\\\protobed\\\\etc\\\\newsdata\\\\huffpost\\\\6cfa4673a92ec3c1a989acd568844e6ddd130b33.json': 'https://huffpost.com/entry/troye-sivan-top-or-bottom-interview_n_5d67df44e4b022fbceb78e18',\n",
       "  'C:\\\\Users\\\\Sejin\\\\Documents\\\\GitHub\\\\protobed\\\\etc\\\\newsdata\\\\huffpost\\\\47844f94845cae7a2a895f4d5168d5d9fc21dda9.json': 'https://huffpost.com/news/media',\n",
       "  'C:\\\\Users\\\\Sejin\\\\Documents\\\\GitHub\\\\protobed\\\\etc\\\\newsdata\\\\huffpost\\\\faad25b4903351d79cf04ad2f9485118768fc1a1.json': 'https://huffpost.com/entry/donald-trump-jr-bernie-sanders-punching-bag-twitter_n_5d67e7d1e4b01fcc691069de',\n",
       "  'C:\\\\Users\\\\Sejin\\\\Documents\\\\GitHub\\\\protobed\\\\etc\\\\newsdata\\\\huffpost\\\\0c5a8524cdf4c20bbbb0dda5bacccbbdb41006be.json': 'https://huffpost.com/entry/sophie-turner-hailee-steinfeld-vmas-wife_n_5d669c5fe4b022fbceb4904c',\n",
       "  'C:\\\\Users\\\\Sejin\\\\Documents\\\\GitHub\\\\protobed\\\\etc\\\\newsdata\\\\huffpost\\\\5e6390c253d11b7efaa3a21395702e0776329414.json': 'https://huffpost.com/topic/2009-media-deaths/feed',\n",
       "  'C:\\\\Users\\\\Sejin\\\\Documents\\\\GitHub\\\\protobed\\\\etc\\\\newsdata\\\\huffpost\\\\fa9e05c0763ef0803cca49873c2198040554ca88.json': 'https://huffpost.com/entry/great-barrier-reef-outlook-very-poor_n_5d68a900e4b02bc6bb372c4a',\n",
       "  'C:\\\\Users\\\\Sejin\\\\Documents\\\\GitHub\\\\protobed\\\\etc\\\\newsdata\\\\huffpost\\\\2dda020ab65d99746050220feeb8ec36cf694100.json': 'https://huffpost.com/entry/black-womens-equal-pay-day-2019_n_5d5d4bc6e4b09e2b9fe4e415',\n",
       "  'C:\\\\Users\\\\Sejin\\\\Documents\\\\GitHub\\\\protobed\\\\etc\\\\newsdata\\\\huffpost\\\\b1fd328197a0ab09c656766495b9dbf293ce1a3e.json': 'https://huffpost.com/entry/ad-joe-biden-elizabeth-warren-delaware-chancery-court_n_5d67d14ae4b01fcc6910188b',\n",
       "  'C:\\\\Users\\\\Sejin\\\\Documents\\\\GitHub\\\\protobed\\\\etc\\\\newsdata\\\\huffpost\\\\c8cb4250e01abc87cf63972dd606eb7f044a386c.json': 'https://huffpost.com/topic/2011-game-changers/feed',\n",
       "  'C:\\\\Users\\\\Sejin\\\\Documents\\\\GitHub\\\\protobed\\\\etc\\\\newsdata\\\\huffpost\\\\45d538ab97f41eab19bbbdcf901ab7ba27972379.json': 'https://huffpost.com/entry/the-20-funniest-tweets-from-women-this-week-aug-17-23_n_5d5daba8e4b0dfcbd48780b5',\n",
       "  'C:\\\\Users\\\\Sejin\\\\Documents\\\\GitHub\\\\protobed\\\\etc\\\\newsdata\\\\huffpost\\\\fcdafd234d50b93b09e8910e683d4fceab006ff5.json': 'https://huffpost.com/entry/california-tax-return-law-donald-trump_n_5d6823f4e4b0488c0d11959a',\n",
       "  'C:\\\\Users\\\\Sejin\\\\Documents\\\\GitHub\\\\protobed\\\\etc\\\\newsdata\\\\huffpost\\\\610a28666cd8bddf2c2a74351d4d11a4bdd03e47.json': 'https://huffpost.com/entry/mulan-liu-yifei-boycott-hong-kong-protest_n_5d56d071e4b0eb875f23378e',\n",
       "  'C:\\\\Users\\\\Sejin\\\\Documents\\\\GitHub\\\\protobed\\\\etc\\\\newsdata\\\\huffpost\\\\532dcaca7120911b483e6cc5efebd25aa0944938.json': 'https://huffpost.com/entry/ted-cruz-martin-luther-king-jr-twitter_n_5d677b3fe4b01fcc690ef7eb',\n",
       "  'C:\\\\Users\\\\Sejin\\\\Documents\\\\GitHub\\\\protobed\\\\etc\\\\newsdata\\\\huffpost\\\\e9224ca5c94bd3b58de70c1a2372b0d573d825b7.json': 'https://huffpost.com/entry/constance-wu-fresh-off-the-boat-twitter-hustlers_n_5d68378ce4b0488c0d11b2c0',\n",
       "  'C:\\\\Users\\\\Sejin\\\\Documents\\\\GitHub\\\\protobed\\\\etc\\\\newsdata\\\\huffpost\\\\60cfdaf1726c8355278361b2f5758fdbd1da6829.json': 'https://huffpost.com/feature/listen-to-america',\n",
       "  'C:\\\\Users\\\\Sejin\\\\Documents\\\\GitHub\\\\protobed\\\\etc\\\\newsdata\\\\huffpost\\\\ff107e8b83ffe05e769ad420ce79850fb0dee0fa.json': 'https://huffpost.com/entry/international-space-station-hurricane-dorian-photos_n_5d68d6b3e4b0488c0d1277f0',\n",
       "  'C:\\\\Users\\\\Sejin\\\\Documents\\\\GitHub\\\\protobed\\\\etc\\\\newsdata\\\\huffpost\\\\7be90948bcffd69becf6ada4630f4aef265c1397.json': 'https://huffpost.com/entry/chicken-sandwich-recipe-popeyes-chick-fil-a_l_5d653f93e4b008b1fd219625',\n",
       "  'C:\\\\Users\\\\Sejin\\\\Documents\\\\GitHub\\\\protobed\\\\etc\\\\newsdata\\\\huffpost\\\\2a1457cf7ef06896d1b3d7a397645f7977d0673d.json': 'https://huffpost.com/entry/lawrence-odonnell-msnbc-trump-finances-deutsche-bank-unverified-report_n_5d66ddf1e4b063c341fa0f2a',\n",
       "  'C:\\\\Users\\\\Sejin\\\\Documents\\\\GitHub\\\\protobed\\\\etc\\\\newsdata\\\\huffpost\\\\333cf57678df59182bb348e1223a2ffdc38cbd68.json': 'https://huffpost.com/entry/scarlett-johansson-marriage-story-casting-fate_n_5d682916e4b06beb649b54e7'}}"
      ]
     },
     "execution_count": 81,
     "metadata": {},
     "output_type": "execute_result"
    }
   ],
   "source": [
    "download_urls"
   ]
  },
  {
   "cell_type": "code",
   "execution_count": 91,
   "metadata": {
    "scrolled": false
   },
   "outputs": [],
   "source": [
    "def download(what):\n",
    "    s = time.time()\n",
    "    n = len(src)\n",
    "    n_done = [0]\n",
    "    status = '\\r{pct}% completed: {pub:<20}'\n",
    "    #status = '\\r{pct}% completed: {pub}' + ' '*20\n",
    "    \n",
    "    def progress(pub):\n",
    "        n_done[0] += 1  # 그냥 n_done으로는 외부에서 변수값을 바꿀수 없으므로\n",
    "        pct = '%.2f' % (n_done[0] / n * 100)\n",
    "        print(status.format(pub=pub, pct=pct), end='')\n",
    "        \n",
    "    \n",
    "    async def _download(urls):\n",
    "        for file, url in urls.items():\n",
    "            article = await loop.run_in_executor(None, Article, url)\n",
    "            await loop.run_in_executor(None, article.download)\n",
    "            await loop.run_in_executor(None, article.parse)\n",
    "            \n",
    "            content = {\n",
    "                'title': article.title, \n",
    "                'pub_date': str(article.publish_date) ,\n",
    "                'text': article.text, \n",
    "                'img': article.top_image, \n",
    "                'url': url,\n",
    "            }\n",
    "            \n",
    "            with open(file, 'w') as f:\n",
    "                json.dump(content, f)\n",
    "        \n",
    "        #progress(pub)\n",
    "        #return pub, urls\n",
    "\n",
    "\n",
    "    async def main():\n",
    "        fts = [asyncio.ensure_future(_download(urls)) for pub, urls in what.items()]\n",
    "        await asyncio.gather(*fts)\n",
    "\n",
    "\n",
    "    result = None\n",
    "    asyncio.set_event_loop(asyncio.new_event_loop())\n",
    "    loop = asyncio.get_event_loop()\n",
    "\n",
    "    try:\n",
    "        # 다음 코드를 주피터에서 돌리려면, tornado를 downgrade 해야함\n",
    "        # pip install tornado==4.5.3\n",
    "        result = loop.run_until_complete(main())\n",
    "        result = dict(result) #set.union(*result)\n",
    "\n",
    "    except Exception as ex:\n",
    "        print(ex)\n",
    "\n",
    "    finally:\n",
    "        loop.close()\n",
    "\n",
    "    print('\\nDONE: {0:.2f} seconds'.format(time.time() - s))\n",
    "    #return result"
   ]
  },
  {
   "cell_type": "code",
   "execution_count": 92,
   "metadata": {},
   "outputs": [
    {
     "name": "stdout",
     "output_type": "stream",
     "text": [
      "'NoneType' object is not iterable\n",
      "\n",
      "DONE: 176.10 seconds\n"
     ]
    }
   ],
   "source": [
    "download(download_urls)"
   ]
  },
  {
   "cell_type": "code",
   "execution_count": null,
   "metadata": {},
   "outputs": [],
   "source": []
  },
  {
   "cell_type": "code",
   "execution_count": null,
   "metadata": {},
   "outputs": [],
   "source": []
  },
  {
   "cell_type": "code",
   "execution_count": 122,
   "metadata": {
    "collapsed": true
   },
   "outputs": [
    {
     "data": {
      "application/vnd.jupyter.widget-view+json": {
       "model_id": "e00673fbffa34de1a684bcc68d2e9ea8",
       "version_major": 2,
       "version_minor": 0
      },
      "text/plain": [
       "HBox(children=(IntProgress(value=0, max=11), HTML(value='')))"
      ]
     },
     "metadata": {},
     "output_type": "display_data"
    },
    {
     "name": "stdout",
     "output_type": "stream",
     "text": [
      "\n"
     ]
    },
    {
     "ename": "FileNotFoundError",
     "evalue": "[WinError 3] 지정된 경로를 찾을 수 없습니다: 'C:\\\\Users\\\\infomax\\\\Documents\\\\GitHub\\\\protobed\\\\etc\\\\newsdata\\\\cnn\\\\https\\\\comparecards.com\\\\guide\\\\credit-cards-to-have-you-flying-in-no-time\\\\esourceid=6317676\\\\utm_source=cnn\\\\utm_medium=native\\\\pla=cnn.com\\\\bdst=rv\\\\acqs=prospecting\\\\utm_campaign=sectionfront\\\\grp=travel-no-time'",
     "output_type": "error",
     "traceback": [
      "\u001b[1;31m---------------------------------------------------------------------------\u001b[0m",
      "\u001b[1;31mFileNotFoundError\u001b[0m                         Traceback (most recent call last)",
      "\u001b[1;32m<ipython-input-122-98e186d3fe49>\u001b[0m in \u001b[0;36m<module>\u001b[1;34m\u001b[0m\n\u001b[0;32m     21\u001b[0m \u001b[1;33m\u001b[0m\u001b[0m\n\u001b[0;32m     22\u001b[0m         \u001b[1;32mif\u001b[0m \u001b[1;32mnot\u001b[0m \u001b[0mos\u001b[0m\u001b[1;33m.\u001b[0m\u001b[0mpath\u001b[0m\u001b[1;33m.\u001b[0m\u001b[0misdir\u001b[0m\u001b[1;33m(\u001b[0m\u001b[0mfulldir\u001b[0m\u001b[1;33m)\u001b[0m\u001b[1;33m:\u001b[0m\u001b[1;33m\u001b[0m\u001b[1;33m\u001b[0m\u001b[0m\n\u001b[1;32m---> 23\u001b[1;33m             \u001b[0mos\u001b[0m\u001b[1;33m.\u001b[0m\u001b[0mmakedirs\u001b[0m\u001b[1;33m(\u001b[0m\u001b[0mfulldir\u001b[0m\u001b[1;33m)\u001b[0m\u001b[1;33m\u001b[0m\u001b[1;33m\u001b[0m\u001b[0m\n\u001b[0m\u001b[0;32m     24\u001b[0m \u001b[1;33m\u001b[0m\u001b[0m\n\u001b[0;32m     25\u001b[0m         \u001b[1;32mif\u001b[0m \u001b[1;32mnot\u001b[0m \u001b[0mos\u001b[0m\u001b[1;33m.\u001b[0m\u001b[0mpath\u001b[0m\u001b[1;33m.\u001b[0m\u001b[0misfile\u001b[0m\u001b[1;33m(\u001b[0m\u001b[0mfile\u001b[0m\u001b[1;33m)\u001b[0m\u001b[1;33m:\u001b[0m\u001b[1;33m\u001b[0m\u001b[1;33m\u001b[0m\u001b[0m\n",
      "\u001b[1;32m~\\Anaconda3\\lib\\os.py\u001b[0m in \u001b[0;36mmakedirs\u001b[1;34m(name, mode, exist_ok)\u001b[0m\n\u001b[0;32m    209\u001b[0m     \u001b[1;32mif\u001b[0m \u001b[0mhead\u001b[0m \u001b[1;32mand\u001b[0m \u001b[0mtail\u001b[0m \u001b[1;32mand\u001b[0m \u001b[1;32mnot\u001b[0m \u001b[0mpath\u001b[0m\u001b[1;33m.\u001b[0m\u001b[0mexists\u001b[0m\u001b[1;33m(\u001b[0m\u001b[0mhead\u001b[0m\u001b[1;33m)\u001b[0m\u001b[1;33m:\u001b[0m\u001b[1;33m\u001b[0m\u001b[1;33m\u001b[0m\u001b[0m\n\u001b[0;32m    210\u001b[0m         \u001b[1;32mtry\u001b[0m\u001b[1;33m:\u001b[0m\u001b[1;33m\u001b[0m\u001b[1;33m\u001b[0m\u001b[0m\n\u001b[1;32m--> 211\u001b[1;33m             \u001b[0mmakedirs\u001b[0m\u001b[1;33m(\u001b[0m\u001b[0mhead\u001b[0m\u001b[1;33m,\u001b[0m \u001b[0mexist_ok\u001b[0m\u001b[1;33m=\u001b[0m\u001b[0mexist_ok\u001b[0m\u001b[1;33m)\u001b[0m\u001b[1;33m\u001b[0m\u001b[1;33m\u001b[0m\u001b[0m\n\u001b[0m\u001b[0;32m    212\u001b[0m         \u001b[1;32mexcept\u001b[0m \u001b[0mFileExistsError\u001b[0m\u001b[1;33m:\u001b[0m\u001b[1;33m\u001b[0m\u001b[1;33m\u001b[0m\u001b[0m\n\u001b[0;32m    213\u001b[0m             \u001b[1;31m# Defeats race condition when another thread created the path\u001b[0m\u001b[1;33m\u001b[0m\u001b[1;33m\u001b[0m\u001b[1;33m\u001b[0m\u001b[0m\n",
      "\u001b[1;32m~\\Anaconda3\\lib\\os.py\u001b[0m in \u001b[0;36mmakedirs\u001b[1;34m(name, mode, exist_ok)\u001b[0m\n\u001b[0;32m    209\u001b[0m     \u001b[1;32mif\u001b[0m \u001b[0mhead\u001b[0m \u001b[1;32mand\u001b[0m \u001b[0mtail\u001b[0m \u001b[1;32mand\u001b[0m \u001b[1;32mnot\u001b[0m \u001b[0mpath\u001b[0m\u001b[1;33m.\u001b[0m\u001b[0mexists\u001b[0m\u001b[1;33m(\u001b[0m\u001b[0mhead\u001b[0m\u001b[1;33m)\u001b[0m\u001b[1;33m:\u001b[0m\u001b[1;33m\u001b[0m\u001b[1;33m\u001b[0m\u001b[0m\n\u001b[0;32m    210\u001b[0m         \u001b[1;32mtry\u001b[0m\u001b[1;33m:\u001b[0m\u001b[1;33m\u001b[0m\u001b[1;33m\u001b[0m\u001b[0m\n\u001b[1;32m--> 211\u001b[1;33m             \u001b[0mmakedirs\u001b[0m\u001b[1;33m(\u001b[0m\u001b[0mhead\u001b[0m\u001b[1;33m,\u001b[0m \u001b[0mexist_ok\u001b[0m\u001b[1;33m=\u001b[0m\u001b[0mexist_ok\u001b[0m\u001b[1;33m)\u001b[0m\u001b[1;33m\u001b[0m\u001b[1;33m\u001b[0m\u001b[0m\n\u001b[0m\u001b[0;32m    212\u001b[0m         \u001b[1;32mexcept\u001b[0m \u001b[0mFileExistsError\u001b[0m\u001b[1;33m:\u001b[0m\u001b[1;33m\u001b[0m\u001b[1;33m\u001b[0m\u001b[0m\n\u001b[0;32m    213\u001b[0m             \u001b[1;31m# Defeats race condition when another thread created the path\u001b[0m\u001b[1;33m\u001b[0m\u001b[1;33m\u001b[0m\u001b[1;33m\u001b[0m\u001b[0m\n",
      "\u001b[1;32m~\\Anaconda3\\lib\\os.py\u001b[0m in \u001b[0;36mmakedirs\u001b[1;34m(name, mode, exist_ok)\u001b[0m\n\u001b[0;32m    209\u001b[0m     \u001b[1;32mif\u001b[0m \u001b[0mhead\u001b[0m \u001b[1;32mand\u001b[0m \u001b[0mtail\u001b[0m \u001b[1;32mand\u001b[0m \u001b[1;32mnot\u001b[0m \u001b[0mpath\u001b[0m\u001b[1;33m.\u001b[0m\u001b[0mexists\u001b[0m\u001b[1;33m(\u001b[0m\u001b[0mhead\u001b[0m\u001b[1;33m)\u001b[0m\u001b[1;33m:\u001b[0m\u001b[1;33m\u001b[0m\u001b[1;33m\u001b[0m\u001b[0m\n\u001b[0;32m    210\u001b[0m         \u001b[1;32mtry\u001b[0m\u001b[1;33m:\u001b[0m\u001b[1;33m\u001b[0m\u001b[1;33m\u001b[0m\u001b[0m\n\u001b[1;32m--> 211\u001b[1;33m             \u001b[0mmakedirs\u001b[0m\u001b[1;33m(\u001b[0m\u001b[0mhead\u001b[0m\u001b[1;33m,\u001b[0m \u001b[0mexist_ok\u001b[0m\u001b[1;33m=\u001b[0m\u001b[0mexist_ok\u001b[0m\u001b[1;33m)\u001b[0m\u001b[1;33m\u001b[0m\u001b[1;33m\u001b[0m\u001b[0m\n\u001b[0m\u001b[0;32m    212\u001b[0m         \u001b[1;32mexcept\u001b[0m \u001b[0mFileExistsError\u001b[0m\u001b[1;33m:\u001b[0m\u001b[1;33m\u001b[0m\u001b[1;33m\u001b[0m\u001b[0m\n\u001b[0;32m    213\u001b[0m             \u001b[1;31m# Defeats race condition when another thread created the path\u001b[0m\u001b[1;33m\u001b[0m\u001b[1;33m\u001b[0m\u001b[1;33m\u001b[0m\u001b[0m\n",
      "\u001b[1;32m~\\Anaconda3\\lib\\os.py\u001b[0m in \u001b[0;36mmakedirs\u001b[1;34m(name, mode, exist_ok)\u001b[0m\n\u001b[0;32m    209\u001b[0m     \u001b[1;32mif\u001b[0m \u001b[0mhead\u001b[0m \u001b[1;32mand\u001b[0m \u001b[0mtail\u001b[0m \u001b[1;32mand\u001b[0m \u001b[1;32mnot\u001b[0m \u001b[0mpath\u001b[0m\u001b[1;33m.\u001b[0m\u001b[0mexists\u001b[0m\u001b[1;33m(\u001b[0m\u001b[0mhead\u001b[0m\u001b[1;33m)\u001b[0m\u001b[1;33m:\u001b[0m\u001b[1;33m\u001b[0m\u001b[1;33m\u001b[0m\u001b[0m\n\u001b[0;32m    210\u001b[0m         \u001b[1;32mtry\u001b[0m\u001b[1;33m:\u001b[0m\u001b[1;33m\u001b[0m\u001b[1;33m\u001b[0m\u001b[0m\n\u001b[1;32m--> 211\u001b[1;33m             \u001b[0mmakedirs\u001b[0m\u001b[1;33m(\u001b[0m\u001b[0mhead\u001b[0m\u001b[1;33m,\u001b[0m \u001b[0mexist_ok\u001b[0m\u001b[1;33m=\u001b[0m\u001b[0mexist_ok\u001b[0m\u001b[1;33m)\u001b[0m\u001b[1;33m\u001b[0m\u001b[1;33m\u001b[0m\u001b[0m\n\u001b[0m\u001b[0;32m    212\u001b[0m         \u001b[1;32mexcept\u001b[0m \u001b[0mFileExistsError\u001b[0m\u001b[1;33m:\u001b[0m\u001b[1;33m\u001b[0m\u001b[1;33m\u001b[0m\u001b[0m\n\u001b[0;32m    213\u001b[0m             \u001b[1;31m# Defeats race condition when another thread created the path\u001b[0m\u001b[1;33m\u001b[0m\u001b[1;33m\u001b[0m\u001b[1;33m\u001b[0m\u001b[0m\n",
      "\u001b[1;32m~\\Anaconda3\\lib\\os.py\u001b[0m in \u001b[0;36mmakedirs\u001b[1;34m(name, mode, exist_ok)\u001b[0m\n\u001b[0;32m    209\u001b[0m     \u001b[1;32mif\u001b[0m \u001b[0mhead\u001b[0m \u001b[1;32mand\u001b[0m \u001b[0mtail\u001b[0m \u001b[1;32mand\u001b[0m \u001b[1;32mnot\u001b[0m \u001b[0mpath\u001b[0m\u001b[1;33m.\u001b[0m\u001b[0mexists\u001b[0m\u001b[1;33m(\u001b[0m\u001b[0mhead\u001b[0m\u001b[1;33m)\u001b[0m\u001b[1;33m:\u001b[0m\u001b[1;33m\u001b[0m\u001b[1;33m\u001b[0m\u001b[0m\n\u001b[0;32m    210\u001b[0m         \u001b[1;32mtry\u001b[0m\u001b[1;33m:\u001b[0m\u001b[1;33m\u001b[0m\u001b[1;33m\u001b[0m\u001b[0m\n\u001b[1;32m--> 211\u001b[1;33m             \u001b[0mmakedirs\u001b[0m\u001b[1;33m(\u001b[0m\u001b[0mhead\u001b[0m\u001b[1;33m,\u001b[0m \u001b[0mexist_ok\u001b[0m\u001b[1;33m=\u001b[0m\u001b[0mexist_ok\u001b[0m\u001b[1;33m)\u001b[0m\u001b[1;33m\u001b[0m\u001b[1;33m\u001b[0m\u001b[0m\n\u001b[0m\u001b[0;32m    212\u001b[0m         \u001b[1;32mexcept\u001b[0m \u001b[0mFileExistsError\u001b[0m\u001b[1;33m:\u001b[0m\u001b[1;33m\u001b[0m\u001b[1;33m\u001b[0m\u001b[0m\n\u001b[0;32m    213\u001b[0m             \u001b[1;31m# Defeats race condition when another thread created the path\u001b[0m\u001b[1;33m\u001b[0m\u001b[1;33m\u001b[0m\u001b[1;33m\u001b[0m\u001b[0m\n",
      "\u001b[1;32m~\\Anaconda3\\lib\\os.py\u001b[0m in \u001b[0;36mmakedirs\u001b[1;34m(name, mode, exist_ok)\u001b[0m\n\u001b[0;32m    209\u001b[0m     \u001b[1;32mif\u001b[0m \u001b[0mhead\u001b[0m \u001b[1;32mand\u001b[0m \u001b[0mtail\u001b[0m \u001b[1;32mand\u001b[0m \u001b[1;32mnot\u001b[0m \u001b[0mpath\u001b[0m\u001b[1;33m.\u001b[0m\u001b[0mexists\u001b[0m\u001b[1;33m(\u001b[0m\u001b[0mhead\u001b[0m\u001b[1;33m)\u001b[0m\u001b[1;33m:\u001b[0m\u001b[1;33m\u001b[0m\u001b[1;33m\u001b[0m\u001b[0m\n\u001b[0;32m    210\u001b[0m         \u001b[1;32mtry\u001b[0m\u001b[1;33m:\u001b[0m\u001b[1;33m\u001b[0m\u001b[1;33m\u001b[0m\u001b[0m\n\u001b[1;32m--> 211\u001b[1;33m             \u001b[0mmakedirs\u001b[0m\u001b[1;33m(\u001b[0m\u001b[0mhead\u001b[0m\u001b[1;33m,\u001b[0m \u001b[0mexist_ok\u001b[0m\u001b[1;33m=\u001b[0m\u001b[0mexist_ok\u001b[0m\u001b[1;33m)\u001b[0m\u001b[1;33m\u001b[0m\u001b[1;33m\u001b[0m\u001b[0m\n\u001b[0m\u001b[0;32m    212\u001b[0m         \u001b[1;32mexcept\u001b[0m \u001b[0mFileExistsError\u001b[0m\u001b[1;33m:\u001b[0m\u001b[1;33m\u001b[0m\u001b[1;33m\u001b[0m\u001b[0m\n\u001b[0;32m    213\u001b[0m             \u001b[1;31m# Defeats race condition when another thread created the path\u001b[0m\u001b[1;33m\u001b[0m\u001b[1;33m\u001b[0m\u001b[1;33m\u001b[0m\u001b[0m\n",
      "\u001b[1;32m~\\Anaconda3\\lib\\os.py\u001b[0m in \u001b[0;36mmakedirs\u001b[1;34m(name, mode, exist_ok)\u001b[0m\n\u001b[0;32m    209\u001b[0m     \u001b[1;32mif\u001b[0m \u001b[0mhead\u001b[0m \u001b[1;32mand\u001b[0m \u001b[0mtail\u001b[0m \u001b[1;32mand\u001b[0m \u001b[1;32mnot\u001b[0m \u001b[0mpath\u001b[0m\u001b[1;33m.\u001b[0m\u001b[0mexists\u001b[0m\u001b[1;33m(\u001b[0m\u001b[0mhead\u001b[0m\u001b[1;33m)\u001b[0m\u001b[1;33m:\u001b[0m\u001b[1;33m\u001b[0m\u001b[1;33m\u001b[0m\u001b[0m\n\u001b[0;32m    210\u001b[0m         \u001b[1;32mtry\u001b[0m\u001b[1;33m:\u001b[0m\u001b[1;33m\u001b[0m\u001b[1;33m\u001b[0m\u001b[0m\n\u001b[1;32m--> 211\u001b[1;33m             \u001b[0mmakedirs\u001b[0m\u001b[1;33m(\u001b[0m\u001b[0mhead\u001b[0m\u001b[1;33m,\u001b[0m \u001b[0mexist_ok\u001b[0m\u001b[1;33m=\u001b[0m\u001b[0mexist_ok\u001b[0m\u001b[1;33m)\u001b[0m\u001b[1;33m\u001b[0m\u001b[1;33m\u001b[0m\u001b[0m\n\u001b[0m\u001b[0;32m    212\u001b[0m         \u001b[1;32mexcept\u001b[0m \u001b[0mFileExistsError\u001b[0m\u001b[1;33m:\u001b[0m\u001b[1;33m\u001b[0m\u001b[1;33m\u001b[0m\u001b[0m\n\u001b[0;32m    213\u001b[0m             \u001b[1;31m# Defeats race condition when another thread created the path\u001b[0m\u001b[1;33m\u001b[0m\u001b[1;33m\u001b[0m\u001b[1;33m\u001b[0m\u001b[0m\n",
      "\u001b[1;32m~\\Anaconda3\\lib\\os.py\u001b[0m in \u001b[0;36mmakedirs\u001b[1;34m(name, mode, exist_ok)\u001b[0m\n\u001b[0;32m    209\u001b[0m     \u001b[1;32mif\u001b[0m \u001b[0mhead\u001b[0m \u001b[1;32mand\u001b[0m \u001b[0mtail\u001b[0m \u001b[1;32mand\u001b[0m \u001b[1;32mnot\u001b[0m \u001b[0mpath\u001b[0m\u001b[1;33m.\u001b[0m\u001b[0mexists\u001b[0m\u001b[1;33m(\u001b[0m\u001b[0mhead\u001b[0m\u001b[1;33m)\u001b[0m\u001b[1;33m:\u001b[0m\u001b[1;33m\u001b[0m\u001b[1;33m\u001b[0m\u001b[0m\n\u001b[0;32m    210\u001b[0m         \u001b[1;32mtry\u001b[0m\u001b[1;33m:\u001b[0m\u001b[1;33m\u001b[0m\u001b[1;33m\u001b[0m\u001b[0m\n\u001b[1;32m--> 211\u001b[1;33m             \u001b[0mmakedirs\u001b[0m\u001b[1;33m(\u001b[0m\u001b[0mhead\u001b[0m\u001b[1;33m,\u001b[0m \u001b[0mexist_ok\u001b[0m\u001b[1;33m=\u001b[0m\u001b[0mexist_ok\u001b[0m\u001b[1;33m)\u001b[0m\u001b[1;33m\u001b[0m\u001b[1;33m\u001b[0m\u001b[0m\n\u001b[0m\u001b[0;32m    212\u001b[0m         \u001b[1;32mexcept\u001b[0m \u001b[0mFileExistsError\u001b[0m\u001b[1;33m:\u001b[0m\u001b[1;33m\u001b[0m\u001b[1;33m\u001b[0m\u001b[0m\n\u001b[0;32m    213\u001b[0m             \u001b[1;31m# Defeats race condition when another thread created the path\u001b[0m\u001b[1;33m\u001b[0m\u001b[1;33m\u001b[0m\u001b[1;33m\u001b[0m\u001b[0m\n",
      "\u001b[1;32m~\\Anaconda3\\lib\\os.py\u001b[0m in \u001b[0;36mmakedirs\u001b[1;34m(name, mode, exist_ok)\u001b[0m\n\u001b[0;32m    219\u001b[0m             \u001b[1;32mreturn\u001b[0m\u001b[1;33m\u001b[0m\u001b[1;33m\u001b[0m\u001b[0m\n\u001b[0;32m    220\u001b[0m     \u001b[1;32mtry\u001b[0m\u001b[1;33m:\u001b[0m\u001b[1;33m\u001b[0m\u001b[1;33m\u001b[0m\u001b[0m\n\u001b[1;32m--> 221\u001b[1;33m         \u001b[0mmkdir\u001b[0m\u001b[1;33m(\u001b[0m\u001b[0mname\u001b[0m\u001b[1;33m,\u001b[0m \u001b[0mmode\u001b[0m\u001b[1;33m)\u001b[0m\u001b[1;33m\u001b[0m\u001b[1;33m\u001b[0m\u001b[0m\n\u001b[0m\u001b[0;32m    222\u001b[0m     \u001b[1;32mexcept\u001b[0m \u001b[0mOSError\u001b[0m\u001b[1;33m:\u001b[0m\u001b[1;33m\u001b[0m\u001b[1;33m\u001b[0m\u001b[0m\n\u001b[0;32m    223\u001b[0m         \u001b[1;31m# Cannot rely on checking for EEXIST, since the operating system\u001b[0m\u001b[1;33m\u001b[0m\u001b[1;33m\u001b[0m\u001b[1;33m\u001b[0m\u001b[0m\n",
      "\u001b[1;31mFileNotFoundError\u001b[0m: [WinError 3] 지정된 경로를 찾을 수 없습니다: 'C:\\\\Users\\\\infomax\\\\Documents\\\\GitHub\\\\protobed\\\\etc\\\\newsdata\\\\cnn\\\\https\\\\comparecards.com\\\\guide\\\\credit-cards-to-have-you-flying-in-no-time\\\\esourceid=6317676\\\\utm_source=cnn\\\\utm_medium=native\\\\pla=cnn.com\\\\bdst=rv\\\\acqs=prospecting\\\\utm_campaign=sectionfront\\\\grp=travel-no-time'"
     ]
    }
   ],
   "source": [
    "# from urllib.parse import quote_plus\n",
    "import re\n",
    "\n",
    "# / ? & % : * \" < > | \\\n",
    "delimiters = '/|\\?|\\&|\\%|:|\\*|\\\"|\\<|\\>|\\||\\\\\\\\'\n",
    "basedir = os.path.join(os.getcwd(), 'newsdata')\n",
    "ext = '.json'\n",
    "\n",
    "for pub, _urls in tqdm(urls.items()):\n",
    "    #pubdir = os.path.join(os.getcwd(), 'newsdata', pub)\n",
    "    \n",
    "    #if not os.path.isdir(pubdir):\n",
    "    #    os.makedirs(pubdir)\n",
    "        \n",
    "    for _url in _urls:\n",
    "        fname = _url + ext\n",
    "        file = os.path.join(basedir, pub, *re.split(delimiters, fname))\n",
    "        fulldir = os.path.dirname(file)\n",
    "        #file = os.path.join(pubdir, *re.split(delimiters, fname))\n",
    "        #file = os.path.join(pubdir, quote_plus(_url) + '.json')\n",
    "        \n",
    "        if not os.path.isdir(fulldir):\n",
    "            os.makedirs(fulldir)\n",
    "        \n",
    "        if not os.path.isfile(file):\n",
    "            with open(file, 'w') as f:\n",
    "                pass\n",
    "                #json.dump(list(newsdata), f)"
   ]
  },
  {
   "cell_type": "code",
   "execution_count": null,
   "metadata": {},
   "outputs": [],
   "source": []
  },
  {
   "cell_type": "code",
   "execution_count": null,
   "metadata": {},
   "outputs": [],
   "source": []
  },
  {
   "cell_type": "code",
   "execution_count": null,
   "metadata": {},
   "outputs": [],
   "source": []
  },
  {
   "cell_type": "code",
   "execution_count": null,
   "metadata": {},
   "outputs": [],
   "source": []
  },
  {
   "cell_type": "code",
   "execution_count": 11,
   "metadata": {},
   "outputs": [],
   "source": [
    "ar = Article('https://www.politico.com/story/2019/08/29/republicans-trump-economy-anxiety-1476780')\n",
    "ar.download()\n",
    "ar.parse()"
   ]
  },
  {
   "cell_type": "code",
   "execution_count": 12,
   "metadata": {
    "collapsed": true
   },
   "outputs": [
    {
     "data": {
      "text/plain": [
       "defaultdict(dict,\n",
       "            {'og': {'title': 'Republicans grow anxious about the Trump economy',\n",
       "              'description': \"Trump's trade war with China could undermine GOP chances of holding the White House and Senate in 2020.\",\n",
       "              'type': 'article',\n",
       "              'url': 'https://politi.co/2Zw7Sjt',\n",
       "              'image': 'https://static.politico.com/16/30/e63e94e8488a90d8218dc7bb34c8/190828-toomey-ap-773.jpg',\n",
       "              'fb_appid': 114037015331397,\n",
       "              'site_name': 'POLITICO'},\n",
       "             'description': \"Trump's trade war with China could undermine GOP chances of holding the White House and Senate in 2020.\",\n",
       "             'viewport': 'width=device-width, initial-scale=1',\n",
       "             'theme-color': '#dc0228',\n",
       "             'fb': {'pages': 62317591679},\n",
       "             'twitter': {'card': 'summary_large_image',\n",
       "              'site': '@politico',\n",
       "              'creator': '@politico'},\n",
       "             'host': 'www.politico.com',\n",
       "             'build': 'release/2019-tanya 593fbe7 2019-08-07T20:31:58Z'})"
      ]
     },
     "execution_count": 12,
     "metadata": {},
     "output_type": "execute_result"
    }
   ],
   "source": [
    "ar.meta_data"
   ]
  },
  {
   "cell_type": "code",
   "execution_count": 32,
   "metadata": {
    "collapsed": true
   },
   "outputs": [
    {
     "data": {
      "text/plain": [
       "{'status': 'ok',\n",
       " 'totalResults': 1,\n",
       " 'articles': [{'source': {'id': None, 'name': 'Slashdot.org'},\n",
       "   'author': 'feedfeeder',\n",
       "   'title': 'Jim Mattis: Duty, Democracy and the Threat of Tribalism - The Wall Street Journal',\n",
       "   'description': \"Jim Mattis: Duty, Democracy and the Threat of TribalismThe Wall Street Journal WSJ: Mattis says he 'did as well as I could for as long as I could' under TrumpCNN Mattis says he served ‘as long as I could,’ warns of a leader not committed to working with allie…\",\n",
       "   'url': 'https://slashdot.org/firehose.pl?op=view&amp;id=114692256',\n",
       "   'urlToImage': None,\n",
       "   'publishedAt': '2019-08-28T17:33:36Z',\n",
       "   'content': '\"I don\\'t believe in sweeping social change being manifested by one person, \\r\\nunless he has an atomic weapon.\"\\r\\n-- Howard Chaykin'}]}"
      ]
     },
     "execution_count": 32,
     "metadata": {},
     "output_type": "execute_result"
    }
   ],
   "source": [
    "title = \"Jim Mattis: Duty, Democracy and the Threat of Tribalism\"\n",
    "url = 'https://newsapi.org/v2/everything?qInTitle=\"{title}\"&apiKey=bfb917bca91c435d9c7efd247d95227b&pageSize=100'.format(title=title)\n",
    "resp = requests.get(url)\n",
    "resp.json()"
   ]
  },
  {
   "cell_type": "code",
   "execution_count": 48,
   "metadata": {},
   "outputs": [
    {
     "data": {
      "text/plain": [
       "[{'id': 'n8Gm8IoHnnJ18Ps04A8Zk2-luqiA81d11wuX99gxVHC9UOid9dv2ESmfHWRkI8OlMmfKoJCXoj0cQNPyar1nXQ',\n",
       "  'discoverDate': '2019-08-29T16:15:47.964+0000',\n",
       "  'title': 'Young Chinese Spend Like Americans -- And Take on Worrisome Debt',\n",
       "  'language': 'en',\n",
       "  'text': 'By Stella Yifan Xie, Shan Li and Julie Wernau | Photographs by Noah Sheldon for The Wall Street Journal Western economists have long said that China needed a base of American-style consumers to bring the country sustained economic growth. Now China has one: Its young people. While previous generations were frugal savers -- a product of their years growing up in a turbulent economy with a weak social safety net -- the 335 million people under 30 born in China between 1990 and 2009 behave much more like Americans, spending avidly on gadgets, entertainment and travel. The freewheeling consumption is helping China diversify its economy at a crucial time. Beijing has relied on exports and infrastructure-building to drive growth for decades, but recent signs point to a slowdown amid tariffs from the Trump administration. The new spending patterns have benefited Alibaba Group Holding Ltd., Tencent Holdings Ltd. and other tech companies, whose rapid growth has helped energize China\\'s economy. Yet all this consumption has a downside. Household debt levels have risen rapidly over the past several years, with many young Chinese borrowing money for their purchases. High levels of corporate and government debt are already longstanding concerns for Beijing. As household debt climbs, some economists worry the country\\'s debt burdens overall could become unmanageable and weigh on China\\'s growth. To avoid problems down the road, some economists say, household borrowing will have to slow to more sustainable levels, adding another headwind to China\\'s economy. In a worst-case scenario, they say, the combination of high government, corporate and consumer debt could exacerbate the economic slowdown and trigger a broader loss of confidence in China. Liu Biting, 25 years old, says she spends all of her paycheck each month: 10,000 yuan ($1,400) a month from her marketing job in Shanghai. About a third goes to rent, and the rest on food, her sewing hobby, going out, music and other products. So far, she has avoided falling into debt. Until recently, one of her monthly expenses was a clothing rental subscription that cost $70 a month. She liked it, she says, because she could \"try out a lot of strange clothes.\" She discovers makeup brands on a WeChat account she follows that recommends products, many of them local. \"For my parents\\' generation, for them to get a decent job, a stable job, is good enough -- and what they do is they save money, they buy houses and they raise kids,\" she says. \"We see money as a thing to be spent.\" Her parents repeatedly ask her how much she has saved in her three years of working. \"I say, \\'I\\'m sorry, probably nothing.\\' All my friends are like this. We have no savings and we don\\'t really care about it.\" Young people have \"become the main consumption power\" in China, Alibaba chief executive Daniel Zhang told reporters in November. People born after 1990 made up nearly half the customers during the latest \"Singles Day\" annual shopping event, when Alibaba sold roughly $30.8 billion of merchandise in 24 hours. Almost a quarter of car buyers in China are under 30, and that figure is expected to rise to roughly 60% by 2025, says Zhou Ya, head of market research and customer intelligence for Volkswagen Group China. She says Volkswagen sees Chinese customers under 30 as crucial to its future in the country. The company is rolling out three entry-level models geared toward young drivers in China\\'s less developed cities this quarter. The spending is also helping power local brands including Heytea, an upscale tea salon, and Starbucks competitor Luckin Coffee, which raised about $571 million after going public earlier this year. Chinese youths are especially more willing to pay for travel. A report last year by Mastercard and Ctrip.com, China\\'s biggest online travel website, found that about one-third of China\\'s outbound tourists who booked with Ctrip were born after 1990, and they spend more on a single trip than those born in the 1980s. Short-term loans from online lenders such as Ant Financial Services Group are helping fuel the spending. Ant Financial charges rates up to nearly 16% on an annualized basis, depending on the credit profile of the borrower. A 2018 survey in China by Rong360, a loan recommendation website, found that around half of respondents who took out consumer loans were born after 1990. Most had borrowed from multiple lending platforms, the survey found, and nearly a third took out short-term loans to repay other debts. Nearly half of them had missed payments. One of the most popular ways to borrow is a Huabei account, a revolving credit line embedded in China\\'s Alipay mobile payments network. Huabei has extended loans in excess of 1 trillion yuan, or more than $140 billion, since its launch in April 2015, a person familiar with the matter said. Ant Financial, which owns Alipay, declined to disclose any figures related to Huabei. China\\'s former central banker Zhou Xiaochuan warned last November that the rise of fintech, while helping develop the consumer credit market, may \"excessively induce\" the younger generation to spend beyond its means. Yang Huixuan, 22, who graduated from college this year and works in communications for a soccer club in Nanjing, says she turned to Huabei while in school. She says she often borrowed around $100 a month to pay for meals out, cosmetics and clothes that she couldn\\'t cover with the roughly $215 stipend she got every month from her parents. She relied on Huabei\\'s installment payment function to afford bigger items like cameras and smartphones. Huabei is \"truly addictive,\" says Ms. Yang, \"It gives me an illusion that I\\'m not really spending my own money.\" Ms. Yang says she\\'s scaling back some now because of higher living costs and because she\\'s reluctant to keep turning to her father for money. An Ant spokesman says Huabei encourages its users to spend responsibly, and gives users the option to set monthly limits to help monitor their own spending. Easy credit has come from a wave of online micro-lenders and peer-to-peer lenders, which proliferated several years ago amid loose regulations. Some charged exorbitantly high interest rates. Authorities have halted issuing licenses to new online lenders since late 2017, and tightened oversight to ensure interest rates on some loans are capped at an annual percentage rate of 36%. As of July, fewer than 800 peer-to-peer lenders remained in operation, from more than 2,600 in early 2016, according to industry website wdzj.com. The average consumer spending of Chinese credit-card holders between ages 21 and 30 in 2016 was around $8,820, 39% higher than their average credit line of $6,360, according to data from Oliver Wyman, a New York-based consulting firm. Consumers can spend more than their credit limits by taking out additional loans from other channels, such as online lenders, or with subsidies from family. Wang Xinyu, 24, says he has about $11,200 in debt spread over six credit cards, much of it accrued when he was in college and found it easy to swipe cards to pay for everyday expenses. Mr. Wang, who earns about $600 a month working at a Beijing bookstore, says he now puts his entire salary toward paying down his debt. He still relies on credit cards to pay for food and rent, and sometimes uses one credit card to pay back another. Young people in China are being \"pushed by the tide of the era\" in their reliance on easy credit to pay for things, he says. JPMorgan estimates China\\'s ratio of household debt to gross domestic product will climb to 61% by 2020. That\\'s up from 26% in 2010 and higher than current levels in Italy and Greece. The level in the U.S. is about 76%, after falling from 98% in 2006, according to the International Monetary Fund. By another measure -- the ratio of household debt to disposable income -- China appears to have already surpassed the U.S. Its ratio reached 117.2% in 2018, up from 42.7% 2008, according to calculations by Lei Ning, a researcher at the Institute for Advanced Research at Shanghai University of Finance and Economics. The U.S. peaked at 135% in 2007 and dropped to 101% in 2018. Some economists remain unconcerned by the rise in household debt, noting that default rates with consumer loans appear relatively low. One fear, others say, is that China\\'s slowdown could be exacerbated if young Chinese lose their jobs or see their wages cut, and have to sharply curtail spending. If they don\\'t and continue falling into further debt, they could become even more vulnerable in future years. As the U.S. saw in the 2008 financial crisis, default rates can shoot up rapidly when growth slows. This generation \"has no idea what a rainy day feels like,\" said Dong Tao, an economist at Credit Suisse in Hong Kong. \"Any consumer credit boom will always be tested -- no exception,\" he says. He points to mortgage debt as a deepening problem across China\\'s economy, including for young people. Mortgage debt outstanding grew from $1.1 trillion in the fourth quarter of 2012 to $3.9 trillion as of June. Mortgages accounted for about a third of China\\'s medium- to long-term loans, up from 20% in 2012, according to the People\\'s Bank of China. Parents often help young Chinese to buy a home, which Mr. Tao sees as a danger, with multiple generations now required to afford a single property. A similar phenomenon occurred in Japan in the 1980s, he says, sometimes with three generations helping to pay for a mortgage -- a sign the market was overheated. Japan\\'s economy eventually entered a protracted slowdown as equity and real-estate asset prices corrected. (MORE TO FOLLOW) Dow Jones Newswires 08-29-19 1207ET',\n",
       "  'structuredText': '<div> \\n <p> By Stella Yifan Xie, Shan Li and Julie Wernau | Photographs by Noah Sheldon for The Wall Street Journal </p> \\n <p> Western economists have long said that China needed a base of American-style consumers to bring the country sustained economic growth. Now China has one: Its young people. </p> \\n <p> While previous generations were frugal savers -- a product of their years growing up in a turbulent economy with a weak social safety net -- the 335 million people under 30 born in China between 1990 and 2009 behave much more like Americans, spending avidly on gadgets, entertainment and travel. </p> \\n <p> The freewheeling consumption is helping China diversify its economy at a crucial time. Beijing has relied on exports and infrastructure-building to drive growth for decades, but recent signs point to a slowdown amid tariffs from the Trump administration. The new spending patterns have benefited Alibaba Group Holding Ltd., Tencent Holdings Ltd. and other tech companies, whose rapid growth has helped energize China\\'s economy. </p> \\n <p> Yet all this consumption has a downside. Household debt levels have risen rapidly over the past several years, with many young Chinese borrowing money for their purchases. </p> \\n <p> High levels of corporate and government debt are already longstanding concerns for Beijing. As household debt climbs, some economists worry the country\\'s debt burdens overall could become unmanageable and weigh on China\\'s growth. </p> \\n <p> To avoid problems down the road, some economists say, household borrowing will have to slow to more sustainable levels, adding another headwind to China\\'s economy. In a worst-case scenario, they say, the combination of high government, corporate and consumer debt could exacerbate the economic slowdown and trigger a broader loss of confidence in China. </p> \\n <p> Liu Biting, 25 years old, says she spends all of her paycheck each month: 10,000 yuan ($1,400) a month from her marketing job in Shanghai. About a third goes to rent, and the rest on food, her sewing hobby, going out, music and other products. So far, she has avoided falling into debt. </p> \\n <p> Until recently, one of her monthly expenses was a clothing rental subscription that cost $70 a month. She liked it, she says, because she could \"try out a lot of strange clothes.\" She discovers makeup brands on a WeChat account she follows that recommends products, many of them local. </p> \\n <p> \"For my parents\\' generation, for them to get a decent job, a stable job, is good enough -- and what they do is they save money, they buy houses and they raise kids,\" she says. \"We see money as a thing to be spent.\" </p> \\n <p> Her parents repeatedly ask her how much she has saved in her three years of working. \"I say, \\'I\\'m sorry, probably nothing.\\' All my friends are like this. We have no savings and we don\\'t really care about it.\" </p> \\n <p> Young people have \"become the main consumption power\" in China, Alibaba chief executive Daniel Zhang told reporters in November. People born after 1990 made up nearly half the customers during the latest \"Singles Day\" annual shopping event, when Alibaba sold roughly $30.8 billion of merchandise in 24 hours. </p> \\n <p> Almost a quarter of car buyers in China are under 30, and that figure is expected to rise to roughly 60% by 2025, says Zhou Ya, head of market research and customer intelligence for Volkswagen Group China. She says Volkswagen sees Chinese customers under 30 as crucial to its future in the country. The company is rolling out three entry-level models geared toward young drivers in China\\'s less developed cities this quarter. </p> \\n <p> The spending is also helping power local brands including Heytea, an upscale tea salon, and Starbucks competitor Luckin Coffee, which raised about $571 million after going public earlier this year. </p> \\n <p> Chinese youths are especially more willing to pay for travel. A report last year by Mastercard and Ctrip.com, China\\'s biggest online travel website, found that about one-third of China\\'s outbound tourists who booked with Ctrip were born after 1990, and they spend more on a single trip than those born in the 1980s. </p> \\n <p> Short-term loans from online lenders such as Ant Financial Services Group are helping fuel the spending. Ant Financial charges rates up to nearly 16% on an annualized basis, depending on the credit profile of the borrower. A 2018 survey in China by Rong360, a loan recommendation website, found that around half of respondents who took out consumer loans were born after 1990. </p> \\n <p> Most had borrowed from multiple lending platforms, the survey found, and nearly a third took out short-term loans to repay other debts. Nearly half of them had missed payments. </p> \\n <p> One of the most popular ways to borrow is a Huabei account, a revolving credit line embedded in China\\'s Alipay mobile payments network. Huabei has extended loans in excess of 1 trillion yuan, or more than $140 billion, since its launch in April 2015, a person familiar with the matter said. Ant Financial, which owns Alipay, declined to disclose any figures related to Huabei. </p> \\n <p> China\\'s former central banker Zhou Xiaochuan warned last November that the rise of fintech, while helping develop the consumer credit market, may \"excessively induce\" the younger generation to spend beyond its means. </p> \\n <p> Yang Huixuan, 22, who graduated from college this year and works in communications for a soccer club in Nanjing, says she turned to Huabei while in school. She says she often borrowed around $100 a month to pay for meals out, cosmetics and clothes that she couldn\\'t cover with the roughly $215 stipend she got every month from her parents. She relied on Huabei\\'s installment payment function to afford bigger items like cameras and smartphones. </p> \\n <p> Huabei is \"truly addictive,\" says Ms. Yang, \"It gives me an illusion that I\\'m not really spending my own money.\" Ms. Yang says she\\'s scaling back some now because of higher living costs and because she\\'s reluctant to keep turning to her father for money. </p> \\n <p> An Ant spokesman says Huabei encourages its users to spend responsibly, and gives users the option to set monthly limits to help monitor their own spending. </p> \\n <p> Easy credit has come from a wave of online micro-lenders and peer-to-peer lenders, which proliferated several years ago amid loose regulations. Some charged exorbitantly high interest rates. </p> \\n <p> Authorities have halted issuing licenses to new online lenders since late 2017, and tightened oversight to ensure interest rates on some loans are capped at an annual percentage rate of 36%. As of July, fewer than 800 peer-to-peer lenders remained in operation, from more than 2,600 in early 2016, according to industry website wdzj.com. </p> \\n <p> The average consumer spending of Chinese credit-card holders between ages 21 and 30 in 2016 was around $8,820, 39% higher than their average credit line of $6,360, according to data from Oliver Wyman, a New York-based consulting firm. Consumers can spend more than their credit limits by taking out additional loans from other channels, such as online lenders, or with subsidies from family. </p> \\n <p> Wang Xinyu, 24, says he has about $11,200 in debt spread over six credit cards, much of it accrued when he was in college and found it easy to swipe cards to pay for everyday expenses. </p> \\n <p> Mr. Wang, who earns about $600 a month working at a Beijing bookstore, says he now puts his entire salary toward paying down his debt. He still relies on credit cards to pay for food and rent, and sometimes uses one credit card to pay back another. </p> \\n <p> Young people in China are being \"pushed by the tide of the era\" in their reliance on easy credit to pay for things, he says. </p> \\n <p> JPMorgan estimates China\\'s ratio of household debt to gross domestic product will climb to 61% by 2020. That\\'s up from 26% in 2010 and higher than current levels in Italy and Greece. </p> \\n <p> The level in the U.S. is about 76%, after falling from 98% in 2006, according to the International Monetary Fund. </p> \\n <p> By another measure -- the ratio of household debt to disposable income -- China appears to have already surpassed the U.S. Its ratio reached 117.2% in 2018, up from 42.7% 2008, according to calculations by Lei Ning, a researcher at the Institute for Advanced Research at Shanghai University of Finance and Economics. The U.S. peaked at 135% in 2007 and dropped to 101% in 2018. </p> \\n <p> Some economists remain unconcerned by the rise in household debt, noting that default rates with consumer loans appear relatively low. </p> \\n <p> One fear, others say, is that China\\'s slowdown could be exacerbated if young Chinese lose their jobs or see their wages cut, and have to sharply curtail spending. If they don\\'t and continue falling into further debt, they could become even more vulnerable in future years. </p> \\n <p> As the U.S. saw in the 2008 financial crisis, default rates can shoot up rapidly when growth slows. </p> \\n <p> This generation \"has no idea what a rainy day feels like,\" said Dong Tao, an economist at Credit Suisse in Hong Kong. \"Any consumer credit boom will always be tested -- no exception,\" he says. </p> \\n <p> He points to mortgage debt as a deepening problem across China\\'s economy, including for young people. Mortgage debt outstanding grew from $1.1 trillion in the fourth quarter of 2012 to $3.9 trillion as of June. </p> \\n <p> Mortgages accounted for about a third of China\\'s medium- to long-term loans, up from 20% in 2012, according to the People\\'s Bank of China. </p> \\n <p> Parents often help young Chinese to buy a home, which Mr. Tao sees as a danger, with multiple generations now required to afford a single property. A similar phenomenon occurred in Japan in the 1980s, he says, sometimes with three generations helping to pay for a mortgage -- a sign the market was overheated. Japan\\'s economy eventually entered a protracted slowdown as equity and real-estate asset prices corrected. </p> \\n <p> (MORE TO FOLLOW) Dow Jones Newswires</p> \\n <p> 08-29-19 1207ET</p> \\n</div>',\n",
       "  'url': 'https://www.marketscreener.com/news/Young-Chinese-Spend-Like-Americans-And-Take-on-Worrisome-Debt--29131387/',\n",
       "  'elements': [{'type': 'Image',\n",
       "    'primary': True,\n",
       "    'url': 'https://www.marketscreener.com/images/twitter_MS_fdgris.png',\n",
       "    'width': None,\n",
       "    'height': None,\n",
       "    'title': None,\n",
       "    'alternative': None}],\n",
       "  'metadata': {'finSentiment': {'type': 'finSentiment', 'sentiment': -0.03},\n",
       "   'readTime': {'type': 'readTime', 'seconds': 367}},\n",
       "  'highlight': '<highlighted>Young</highlighted> <highlighted>Chinese</highlighted> <highlighted>Spend</highlighted> <highlighted>Like</highlighted> <highlighted>Americans</highlighted> -- <highlighted>And</highlighted> <highlighted>Take</highlighted> <highlighted>on</highlighted> <highlighted>Worrisome</highlighted> <highlighted>Debt</highlighted>',\n",
       "  'score': 64.874115}]"
      ]
     },
     "execution_count": 48,
     "metadata": {},
     "output_type": "execute_result"
    }
   ],
   "source": [
    "headers = {\"Authorization\":\"sBBqsGXiYgF0Db5OV5tAw-akap7JBapGCe67Tuuz0lhquXd0k1oQC4B5B91GiHcVn2pHZrSf1gT2PUujH1YaQA\"}\n",
    "endpoint = 'https://api.newsriver.io/v2/search?'\n",
    "qry = 'query=title:\"Young Chinese Spend Like Americans—and Take on Worrisome Debt\"&sortOrder=DESC&limit=15'\n",
    "# qry = 'query=language:en AND website.domainName:\"wsj.com\"&sortOrder=DESC&limit=15'\n",
    "url = endpoint + qry\n",
    "response = requests.get(url, headers=headers)\n",
    "out = response.json();out"
   ]
  },
  {
   "cell_type": "code",
   "execution_count": 49,
   "metadata": {},
   "outputs": [],
   "source": [
    "ar = Article('https://wsj.com/articles/young-chinese-spend-like-americansand-take-on-worrisome-debt-11567093953?mod=rsswn')"
   ]
  },
  {
   "cell_type": "code",
   "execution_count": 56,
   "metadata": {
    "scrolled": true
   },
   "outputs": [
    {
     "name": "stdout",
     "output_type": "stream",
     "text": [
      "Wall time: 2.04 s\n"
     ]
    }
   ],
   "source": [
    "%%time\n",
    "ar = Article('https://huffpost.com/entry/ad-joe-biden-elizabeth-warren-delaware-chancery-court_n_5d67d14ae4b01fcc6910188b')\n",
    "ar.download()\n",
    "ar.parse()\n",
    "ar.text;"
   ]
  },
  {
   "cell_type": "code",
   "execution_count": 52,
   "metadata": {},
   "outputs": [
    {
     "data": {
      "text/plain": [
       "'Woman’s $500,000 Ad Buy Against Joe Biden Uses Misleading Video Footage'"
      ]
     },
     "execution_count": 52,
     "metadata": {},
     "output_type": "execute_result"
    }
   ],
   "source": [
    "ar.top_image"
   ]
  },
  {
   "cell_type": "code",
   "execution_count": 90,
   "metadata": {},
   "outputs": [
    {
     "data": {
      "text/plain": [
       "{'title': 'Woman’s $500,000 Ad Buy Against Joe Biden Uses Misleading Video Footage',\n",
       " 'pub_date': '2019-08-29 18:09:12-04:00',\n",
       " 'text': \"An investor recently embroiled in a years-long legal battle has reportedly purchased $500,000 worth of ads against former Vice President Joe Biden that attempts to tie the 2020 candidate to allegations of corruption in a Delaware court.\\n\\nThe newly released video ad targeting Biden and Delaware’s Chancery Court is the largest third-party attack ad purchased this primary season, Bloomberg News reported.\\n\\nThough it’s reportedly scheduled to air in Delaware and the early nominating states of Iowa and New Hampshire, Shirley Shawe, a registered Republican who purchased the ad and had dealings with the Chancery Court, said its focus is less on the presidential race.\\n\\nYouTube The ad video shows edited footage of then-Sen. Joe Biden discussing bankruptcy reform with then-Harvard Professor Elizabeth Warren during a Senate Judiciary Committee hearing in 2005.\\n\\nRather, its goal is “to raise public awareness related to the current state of one of America’s most powerful business courts, and to encourage the candidates to drive reform,” she told HuffPost in an email on Thursday.\\n\\nThe video, using footage from 2005, inaccurately depicts Biden as advocating for the Chancery Court during a Senate Judiciary Committee hearing on overhauling the nation’s bankruptcy laws. Sen. Elizabeth Warren, his now 2020 rival, was a Harvard Law School bankruptcy professor at the time and testified against the overhaul. Biden, a then Delaware senator, supported it.\\n\\nBiden took issue with Warren’s criticism of the bankruptcy court system, though while vocalizing this he misspoke, and uttered the wrong court’s name.\\n\\nJoe Biden supports the unaccountable Chancery Court, paid for by good government activist Shirley Shawe. #transparency #accountability pic.twitter.com/0r87cYJPkN — Delaware 4 Business (@ProBizDelaware) August 28, 2019\\n\\n“Is the colleague suggesting that the Delaware Chancery Court is not open?” Biden asks Warren, as seen in the ad. “I find it outrageous, such a statement. Maybe you can tell me. Is it not a competent court? Is it not an open court?”\\n\\nThis edited video is misleading, however, as it does not include Warren’s subsequent correction of Biden: She points out that he meant Delaware’s bankruptcy courts and not the Chancery Court, which reviews disputes involving corporations and business’ internal affairs, not bankruptcy.\\n\\n“Excuse me, in Delaware, in Delaware. Bankruptcy courts in Delaware are not open?” Biden corrects himself, according to a transcript of the hearing and unedited video of their discussion.\\n\\nWithout including this note of Biden correcting himself, the video suggests that he was defending the Chancery Court, which, the video notes, has faced public oversight criticism.\\n\\nShawe’s ad buy follows a pricey legal dispute in Chancery Court over the ownership of her son’s translation software company, Transperfect Global Inc., of which Shawe owns a 1% share, according to Delaware Business Now.\\n\\nThe case ended with the court allowing Shawe’s son the right to buy out his co-founder’s share. It also ended with Shawe spending more than $250 million in legal fees over the last five years, unjustifiably, she argued.\\n\\nScott Morgan / Reuters Biden's presidential campaign team has asked that the video be removed, saying it misrepresents his position.\\n\\nShe told HuffPost that she is still being billed “outrageous sums” per month and that she is “required to pay these bills by court order, yet we are not allowed to see them, or even know what this work is for.\\n\\nA spokesperson for Biden’s election committee, reached by HuffPost, urged that the video be removed because of its misrepresentation.\\n\\n“The ad misrepresents Vice President Biden’s position in this exchange from 2005 by manipulating footage to suggest he means one court when he means another,” Biden campaign national press secretary Jamal Brown said in a statement. “It’s a clear reminder of the way that third-party money poisons our politics with false attack ads, and it has no place in this race.”\\n\\nShawe denied that the video is misleading, however, insisting in an email that “Mr. Biden is clearly talking about the Chancery Court. He mentions it by name.”\\n\\nA spokesperson for Warren’s campaign also wants the video to be removed.\\n\\n“Elizabeth does not believe individual donors should have an outsized influence in this primary, and has consistently said that Super PACs or individuals with the means to finance ad campaigns on their own should stay out of the primary,” said deputy communications director Chris Hayden in an email.\\n\\nShawe, when asked, said she does not support a 2020 candidate at this time.\",\n",
       " 'img': 'https://img.huffingtonpost.com/asset/5d683c4c2500003203894124.jpeg?ops=1778_1000'}"
      ]
     },
     "execution_count": 90,
     "metadata": {},
     "output_type": "execute_result"
    }
   ],
   "source": [
    "{'title':ar.title, 'pub_date':str(ar.publish_date) ,'text':ar.text, 'img':ar.top_image}"
   ]
  },
  {
   "cell_type": "code",
   "execution_count": 58,
   "metadata": {},
   "outputs": [
    {
     "data": {
      "text/plain": [
       "5.555555555555555"
      ]
     },
     "execution_count": 58,
     "metadata": {},
     "output_type": "execute_result"
    }
   ],
   "source": [
    "2*10000/3600"
   ]
  },
  {
   "cell_type": "code",
   "execution_count": null,
   "metadata": {},
   "outputs": [],
   "source": []
  }
 ],
 "metadata": {
  "kernelspec": {
   "display_name": "Python 3",
   "language": "python",
   "name": "python3"
  },
  "language_info": {
   "codemirror_mode": {
    "name": "ipython",
    "version": 3
   },
   "file_extension": ".py",
   "mimetype": "text/x-python",
   "name": "python",
   "nbconvert_exporter": "python",
   "pygments_lexer": "ipython3",
   "version": "3.7.1"
  }
 },
 "nbformat": 4,
 "nbformat_minor": 2
}
