{
 "cells": [
  {
   "cell_type": "code",
   "execution_count": 2,
   "metadata": {},
   "outputs": [],
   "source": [
    "from news_crawler import NewsCrawler\n",
    "from IPython.display import display"
   ]
  },
  {
   "cell_type": "code",
   "execution_count": 3,
   "metadata": {},
   "outputs": [],
   "source": [
    "crawler = NewsCrawler()"
   ]
  },
  {
   "cell_type": "markdown",
   "metadata": {},
   "source": [
    "# 1. URL을 모은다"
   ]
  },
  {
   "cell_type": "code",
   "execution_count": 4,
   "metadata": {},
   "outputs": [],
   "source": [
    "# foxnews, foxbusiness를 합치자. 다른 소스도 집어넣자..."
   ]
  },
  {
   "cell_type": "code",
   "execution_count": 5,
   "metadata": {
    "scrolled": true
   },
   "outputs": [
    {
     "name": "stdout",
     "output_type": "stream",
     "text": [
      "100.00% (141.13 seconds): URLs collecting... investingcom        "
     ]
    },
    {
     "data": {
      "text/plain": [
       "n_total     10997\n",
       "n_unique    10968\n",
       "dtype: int64"
      ]
     },
     "metadata": {},
     "output_type": "display_data"
    },
    {
     "data": {
      "text/plain": [
       "huffpost               72\n",
       "cnn                   811\n",
       "investingcom          926\n",
       "politico              217\n",
       "time                   16\n",
       "cnbc                  163\n",
       "foxnews               189\n",
       "foxbusiness           124\n",
       "bbc                   285\n",
       "businessinsider       582\n",
       "morningstar           101\n",
       "wsj                   100\n",
       "nyt                    91\n",
       "guardian              158\n",
       "reuters              1162\n",
       "washingtontimes       466\n",
       "washingtonpost        134\n",
       "cbs                   414\n",
       "marketwatch           157\n",
       "atlantic               98\n",
       "vice                   19\n",
       "npr                   847\n",
       "newrepublic            20\n",
       "yahoo                 233\n",
       "independent           707\n",
       "heritage              283\n",
       "zdnet                 376\n",
       "townhall              605\n",
       "abcnews                95\n",
       "hotair                 85\n",
       "cbc                   293\n",
       "nymag                 228\n",
       "thestreet             149\n",
       "thinkprogress          82\n",
       "dailybeast             42\n",
       "realclearpolitics     163\n",
       "aljazeera             504\n",
       "dtype: int64"
      ]
     },
     "metadata": {},
     "output_type": "display_data"
    },
    {
     "data": {
      "text/html": [
       "<div>\n",
       "<style scoped>\n",
       "    .dataframe tbody tr th:only-of-type {\n",
       "        vertical-align: middle;\n",
       "    }\n",
       "\n",
       "    .dataframe tbody tr th {\n",
       "        vertical-align: top;\n",
       "    }\n",
       "\n",
       "    .dataframe thead th {\n",
       "        text-align: right;\n",
       "    }\n",
       "</style>\n",
       "<table border=\"1\" class=\"dataframe\">\n",
       "  <thead>\n",
       "    <tr style=\"text-align: right;\">\n",
       "      <th></th>\n",
       "      <th>pubs</th>\n",
       "    </tr>\n",
       "  </thead>\n",
       "  <tbody>\n",
       "    <tr>\n",
       "      <th>https://cbsnews.com/news/kanye-west-jesus-is-king-album-united-palace-kim-kardashian-secular-gospel-music</th>\n",
       "      <td>cbs, realclearpolitics</td>\n",
       "    </tr>\n",
       "    <tr>\n",
       "      <th>https://foxbusiness.com/lifestyle/president-jimmy-carter-birthday-95-money</th>\n",
       "      <td>foxnews, foxbusiness</td>\n",
       "    </tr>\n",
       "    <tr>\n",
       "      <th>https://foxbusiness.com/markets/houston-rockets-owner-business-mogul-tilman-fertitta-why-i-live-by-the-955-rule</th>\n",
       "      <td>foxnews, foxbusiness</td>\n",
       "    </tr>\n",
       "    <tr>\n",
       "      <th>https://foxbusiness.com/markets/stephen-schwarzman-tips-to-starting-a-business</th>\n",
       "      <td>foxnews, foxbusiness</td>\n",
       "    </tr>\n",
       "    <tr>\n",
       "      <th>https://foxbusiness.com/markets/warren-buffetts-duracell-sued-by-energizer</th>\n",
       "      <td>foxnews, foxbusiness</td>\n",
       "    </tr>\n",
       "    <tr>\n",
       "      <th>https://foxbusiness.com/money/bernie-sanders-income-inequality-tax-apple</th>\n",
       "      <td>foxnews, foxbusiness</td>\n",
       "    </tr>\n",
       "    <tr>\n",
       "      <th>https://foxbusiness.com/money/eric-trump-american-dream-alive-and-well</th>\n",
       "      <td>foxnews, foxbusiness</td>\n",
       "    </tr>\n",
       "    <tr>\n",
       "      <th>https://foxbusiness.com/money/government-mandated-wage-benefits-hurting-small-businesses</th>\n",
       "      <td>foxnews, foxbusiness</td>\n",
       "    </tr>\n",
       "    <tr>\n",
       "      <th>https://foxbusiness.com/money/heres-how-much-you-should-have-in-your-401k-to-reach-retirement-goals</th>\n",
       "      <td>foxnews, foxbusiness</td>\n",
       "    </tr>\n",
       "    <tr>\n",
       "      <th>https://foxbusiness.com/money/how-to-quit-stalling-and-write-your-will</th>\n",
       "      <td>foxnews, foxbusiness</td>\n",
       "    </tr>\n",
       "    <tr>\n",
       "      <th>https://foxbusiness.com/money/new-york-high-tax-states-dealt-salt-cap-blow-in-court-but-fight-likely-not-over</th>\n",
       "      <td>foxnews, foxbusiness</td>\n",
       "    </tr>\n",
       "    <tr>\n",
       "      <th>https://foxbusiness.com/money/salt-cap-ruling-high-tax-exodus</th>\n",
       "      <td>foxnews, foxbusiness</td>\n",
       "    </tr>\n",
       "    <tr>\n",
       "      <th>https://foxbusiness.com/money/trump-rips-fed-powell-own-worst-enemies</th>\n",
       "      <td>foxnews, foxbusiness</td>\n",
       "    </tr>\n",
       "    <tr>\n",
       "      <th>https://foxbusiness.com/politics/hong-kong-protester-shot-china-national-day</th>\n",
       "      <td>foxbusiness, realclearpolitics</td>\n",
       "    </tr>\n",
       "    <tr>\n",
       "      <th>https://foxbusiness.com/real-estate/replacing-poles-with-pews-church-to-buy-former-strip-club-for-growing-congregation</th>\n",
       "      <td>foxnews, foxbusiness</td>\n",
       "    </tr>\n",
       "    <tr>\n",
       "      <th>https://foxbusiness.com/technology/leaked-mark-zuckerberg-audio-elizabeth-warren</th>\n",
       "      <td>foxnews, foxbusiness</td>\n",
       "    </tr>\n",
       "    <tr>\n",
       "      <th>https://foxnews.com/politics/joe-hunter-biden-seen-golfing-with-ukraine-gas-company-exec-back-in-2014-photo-shows</th>\n",
       "      <td>foxnews, realclearpolitics</td>\n",
       "    </tr>\n",
       "    <tr>\n",
       "      <th>https://hotair.com/archives/allahpundit/2019/09/30/lindsey-graham-not-going-try-president-united-states-based-hearsay</th>\n",
       "      <td>townhall, hotair</td>\n",
       "    </tr>\n",
       "    <tr>\n",
       "      <th>https://politico.com/magazine/story/2019/09/30/bernie-sanders-2020-election-decline-228755</th>\n",
       "      <td>politico, realclearpolitics</td>\n",
       "    </tr>\n",
       "    <tr>\n",
       "      <th>https://politico.com/magazine/story/2019/09/30/giuliani-biden-campaign-news-ban-228827</th>\n",
       "      <td>politico, realclearpolitics</td>\n",
       "    </tr>\n",
       "    <tr>\n",
       "      <th>https://politico.com/news/2019/09/30/john-bolton-north-korea-nukes-011658</th>\n",
       "      <td>politico, realclearpolitics</td>\n",
       "    </tr>\n",
       "    <tr>\n",
       "      <th>https://politico.com/news/2019/09/30/kamala-harris-2020-shakeup-campaign-013861</th>\n",
       "      <td>politico, realclearpolitics</td>\n",
       "    </tr>\n",
       "    <tr>\n",
       "      <th>https://politico.com/story/2019/09/30/chris-collins-guilty-plea-insider-trading-1519268</th>\n",
       "      <td>politico, realclearpolitics</td>\n",
       "    </tr>\n",
       "    <tr>\n",
       "      <th>https://redstate.com/nick-arama/2019/09/30/schiffs-staffer-traveled-to-ukraine-in-august-his-trip-was-paid-for-by-group-funded-by-hunter-bidens-former-company</th>\n",
       "      <td>townhall, hotair</td>\n",
       "    </tr>\n",
       "    <tr>\n",
       "      <th>https://reuters.com/article/us-usa-court-justices/with-liberal-bloc-aging-trump-may-get-more-supreme-court-appointments-idUSKBN1WG3PB</th>\n",
       "      <td>reuters, realclearpolitics</td>\n",
       "    </tr>\n",
       "    <tr>\n",
       "      <th>https://theatlantic.com/science/archive/2019/09/elon-musk-spacex-starship/599065</th>\n",
       "      <td>atlantic, realclearpolitics</td>\n",
       "    </tr>\n",
       "    <tr>\n",
       "      <th>https://thecut.com/2019/09/the-toll-of-me-too.html</th>\n",
       "      <td>nymag, realclearpolitics</td>\n",
       "    </tr>\n",
       "    <tr>\n",
       "      <th>https://townhall.com/columnists/derekhunter/2019/10/01/senate-gop-should-give-democrats-a-dose-of-their-own-medicine-n2553917</th>\n",
       "      <td>townhall, realclearpolitics</td>\n",
       "    </tr>\n",
       "    <tr>\n",
       "      <th>https://washingtontimes.com/news/2019/sep/29/how-gloomy-stories-of-the-coming-apocalypse-have-b</th>\n",
       "      <td>washingtontimes, realclearpolitics</td>\n",
       "    </tr>\n",
       "  </tbody>\n",
       "</table>\n",
       "</div>"
      ],
      "text/plain": [
       "                                                                                  pubs\n",
       "https://cbsnews.com/news/kanye-west-jesus-is-ki...              cbs, realclearpolitics\n",
       "https://foxbusiness.com/lifestyle/president-jim...                foxnews, foxbusiness\n",
       "https://foxbusiness.com/markets/houston-rockets...                foxnews, foxbusiness\n",
       "https://foxbusiness.com/markets/stephen-schwarz...                foxnews, foxbusiness\n",
       "https://foxbusiness.com/markets/warren-buffetts...                foxnews, foxbusiness\n",
       "https://foxbusiness.com/money/bernie-sanders-in...                foxnews, foxbusiness\n",
       "https://foxbusiness.com/money/eric-trump-americ...                foxnews, foxbusiness\n",
       "https://foxbusiness.com/money/government-mandat...                foxnews, foxbusiness\n",
       "https://foxbusiness.com/money/heres-how-much-yo...                foxnews, foxbusiness\n",
       "https://foxbusiness.com/money/how-to-quit-stall...                foxnews, foxbusiness\n",
       "https://foxbusiness.com/money/new-york-high-tax...                foxnews, foxbusiness\n",
       "https://foxbusiness.com/money/salt-cap-ruling-h...                foxnews, foxbusiness\n",
       "https://foxbusiness.com/money/trump-rips-fed-po...                foxnews, foxbusiness\n",
       "https://foxbusiness.com/politics/hong-kong-prot...      foxbusiness, realclearpolitics\n",
       "https://foxbusiness.com/real-estate/replacing-p...                foxnews, foxbusiness\n",
       "https://foxbusiness.com/technology/leaked-mark-...                foxnews, foxbusiness\n",
       "https://foxnews.com/politics/joe-hunter-biden-s...          foxnews, realclearpolitics\n",
       "https://hotair.com/archives/allahpundit/2019/09...                    townhall, hotair\n",
       "https://politico.com/magazine/story/2019/09/30/...         politico, realclearpolitics\n",
       "https://politico.com/magazine/story/2019/09/30/...         politico, realclearpolitics\n",
       "https://politico.com/news/2019/09/30/john-bolto...         politico, realclearpolitics\n",
       "https://politico.com/news/2019/09/30/kamala-har...         politico, realclearpolitics\n",
       "https://politico.com/story/2019/09/30/chris-col...         politico, realclearpolitics\n",
       "https://redstate.com/nick-arama/2019/09/30/schi...                    townhall, hotair\n",
       "https://reuters.com/article/us-usa-court-justic...          reuters, realclearpolitics\n",
       "https://theatlantic.com/science/archive/2019/09...         atlantic, realclearpolitics\n",
       "https://thecut.com/2019/09/the-toll-of-me-too.html            nymag, realclearpolitics\n",
       "https://townhall.com/columnists/derekhunter/201...         townhall, realclearpolitics\n",
       "https://washingtontimes.com/news/2019/sep/29/ho...  washingtontimes, realclearpolitics"
      ]
     },
     "metadata": {},
     "output_type": "display_data"
    }
   ],
   "source": [
    "collect_results = crawler.collect(); display(*collect_results)"
   ]
  },
  {
   "cell_type": "markdown",
   "metadata": {},
   "source": [
    "# 2. 모은 URL중 이미 받은 것은 버린다"
   ]
  },
  {
   "cell_type": "code",
   "execution_count": 6,
   "metadata": {
    "scrolled": true
   },
   "outputs": [
    {
     "name": "stdout",
     "output_type": "stream",
     "text": [
      "100.00% (14.65 seconds): URLs selecting... aljazeera           "
     ]
    },
    {
     "data": {
      "text/plain": [
       "n_total     1651\n",
       "n_unique    1646\n",
       "dtype: int64"
      ]
     },
     "metadata": {},
     "output_type": "display_data"
    },
    {
     "data": {
      "text/plain": [
       "huffpost               4\n",
       "cnn                   31\n",
       "investingcom         121\n",
       "politico              25\n",
       "time                   1\n",
       "cnbc                  19\n",
       "foxnews               47\n",
       "foxbusiness           21\n",
       "bbc                   12\n",
       "businessinsider      116\n",
       "morningstar           10\n",
       "wsj                   16\n",
       "nyt                    4\n",
       "guardian              25\n",
       "reuters              232\n",
       "washingtontimes       33\n",
       "washingtonpost        31\n",
       "cbs                   20\n",
       "marketwatch           30\n",
       "atlantic               2\n",
       "vice                   0\n",
       "npr                    1\n",
       "newrepublic            0\n",
       "yahoo                167\n",
       "independent           31\n",
       "heritage               0\n",
       "zdnet                 10\n",
       "townhall              28\n",
       "abcnews               24\n",
       "hotair                11\n",
       "cbc                   23\n",
       "nymag                 14\n",
       "thestreet             24\n",
       "thinkprogress          0\n",
       "dailybeast             7\n",
       "realclearpolitics      7\n",
       "aljazeera            504\n",
       "dtype: int64"
      ]
     },
     "metadata": {},
     "output_type": "display_data"
    },
    {
     "data": {
      "text/html": [
       "<div>\n",
       "<style scoped>\n",
       "    .dataframe tbody tr th:only-of-type {\n",
       "        vertical-align: middle;\n",
       "    }\n",
       "\n",
       "    .dataframe tbody tr th {\n",
       "        vertical-align: top;\n",
       "    }\n",
       "\n",
       "    .dataframe thead th {\n",
       "        text-align: right;\n",
       "    }\n",
       "</style>\n",
       "<table border=\"1\" class=\"dataframe\">\n",
       "  <thead>\n",
       "    <tr style=\"text-align: right;\">\n",
       "      <th></th>\n",
       "      <th>pubs</th>\n",
       "    </tr>\n",
       "  </thead>\n",
       "  <tbody>\n",
       "    <tr>\n",
       "      <th>https://foxbusiness.com/lifestyle/president-jimmy-carter-birthday-95-money</th>\n",
       "      <td>foxnews, foxbusiness</td>\n",
       "    </tr>\n",
       "    <tr>\n",
       "      <th>https://foxbusiness.com/money/bernie-sanders-income-inequality-tax-apple</th>\n",
       "      <td>foxnews, foxbusiness</td>\n",
       "    </tr>\n",
       "    <tr>\n",
       "      <th>https://foxbusiness.com/money/trump-rips-fed-powell-own-worst-enemies</th>\n",
       "      <td>foxnews, foxbusiness</td>\n",
       "    </tr>\n",
       "    <tr>\n",
       "      <th>https://foxbusiness.com/real-estate/replacing-poles-with-pews-church-to-buy-former-strip-club-for-growing-congregation</th>\n",
       "      <td>foxnews, foxbusiness</td>\n",
       "    </tr>\n",
       "    <tr>\n",
       "      <th>https://foxbusiness.com/technology/leaked-mark-zuckerberg-audio-elizabeth-warren</th>\n",
       "      <td>foxnews, foxbusiness</td>\n",
       "    </tr>\n",
       "  </tbody>\n",
       "</table>\n",
       "</div>"
      ],
      "text/plain": [
       "                                                                    pubs\n",
       "https://foxbusiness.com/lifestyle/president-jim...  foxnews, foxbusiness\n",
       "https://foxbusiness.com/money/bernie-sanders-in...  foxnews, foxbusiness\n",
       "https://foxbusiness.com/money/trump-rips-fed-po...  foxnews, foxbusiness\n",
       "https://foxbusiness.com/real-estate/replacing-p...  foxnews, foxbusiness\n",
       "https://foxbusiness.com/technology/leaked-mark-...  foxnews, foxbusiness"
      ]
     },
     "metadata": {},
     "output_type": "display_data"
    }
   ],
   "source": [
    "select_results = crawler.select(); display(*select_results)"
   ]
  },
  {
   "cell_type": "markdown",
   "metadata": {},
   "source": [
    "# 3. 해당 URL의 뉴스를 다운로드한다"
   ]
  },
  {
   "cell_type": "code",
   "execution_count": null,
   "metadata": {
    "scrolled": true
   },
   "outputs": [
    {
     "name": "stdout",
     "output_type": "stream",
     "text": [
      "55.78% (1037.05 seconds): downloading... businessinsider     "
     ]
    },
    {
     "name": "stderr",
     "output_type": "stream",
     "text": [
      "Building prefix dict from C:\\ProgramData\\Anaconda3\\lib\\site-packages\\jieba\\dict.txt ...\n",
      "Loading model from cache C:\\Users\\Sejin\\AppData\\Local\\Temp\\jieba.cache\n"
     ]
    },
    {
     "name": "stdout",
     "output_type": "stream",
     "text": [
      "55.91% (1041.26 seconds): downloading... aljazeera           "
     ]
    },
    {
     "name": "stderr",
     "output_type": "stream",
     "text": [
      "Loading model cost 3.8068246841430664 seconds.\n",
      "Prefix dict has been built succesfully.\n"
     ]
    },
    {
     "name": "stdout",
     "output_type": "stream",
     "text": [
      "78.07% (1847.56 seconds): downloading... aljazeera           "
     ]
    }
   ],
   "source": [
    "download_results = crawler.download(); download_results # 뒤에 pub print는 빼도 되겠다..."
   ]
  },
  {
   "cell_type": "code",
   "execution_count": null,
   "metadata": {},
   "outputs": [],
   "source": []
  },
  {
   "cell_type": "code",
   "execution_count": null,
   "metadata": {},
   "outputs": [],
   "source": []
  },
  {
   "cell_type": "code",
   "execution_count": 51,
   "metadata": {},
   "outputs": [
    {
     "data": {
      "text/plain": [
       "{'downloaded': set(),\n",
       " 'trashed': {'https://thestreet.com/partner/fight-over-hong-kong-lennon-wall-leaves-two-men-injured-as-tensions-escalate-between-anti-government-protesters-and-opponents-15108161',\n",
       "  'https://thestreet.com/partner/people-s-bank-of-china-to-survey-30-000-households-about-debt-levels-as-financial-risks-continue-to-rise-15108163'}}"
      ]
     },
     "execution_count": 51,
     "metadata": {},
     "output_type": "execute_result"
    }
   ],
   "source": [
    "crawler.urls_final['thestreet']"
   ]
  },
  {
   "cell_type": "code",
   "execution_count": null,
   "metadata": {},
   "outputs": [],
   "source": []
  },
  {
   "cell_type": "code",
   "execution_count": null,
   "metadata": {},
   "outputs": [],
   "source": []
  }
 ],
 "metadata": {
  "kernelspec": {
   "display_name": "Python 3",
   "language": "python",
   "name": "python3"
  },
  "language_info": {
   "codemirror_mode": {
    "name": "ipython",
    "version": 3
   },
   "file_extension": ".py",
   "mimetype": "text/x-python",
   "name": "python",
   "nbconvert_exporter": "python",
   "pygments_lexer": "ipython3",
   "version": "3.7.1"
  }
 },
 "nbformat": 4,
 "nbformat_minor": 2
}
