{
 "cells": [
  {
   "cell_type": "code",
   "execution_count": 1,
   "metadata": {},
   "outputs": [],
   "source": [
    "%load_ext autoreload\n",
    "%autoreload\n",
    "%matplotlib inline\n",
    "\n",
    "from news_crawler import NewsCrawler, select_urls\n",
    "from IPython.display import display\n",
    "from IPython.core.debugger import set_trace"
   ]
  },
  {
   "cell_type": "code",
   "execution_count": 2,
   "metadata": {},
   "outputs": [],
   "source": [
    "crawler = NewsCrawler()#'vice')"
   ]
  },
  {
   "cell_type": "markdown",
   "metadata": {},
   "source": [
    "# 1. URL을 모은다"
   ]
  },
  {
   "cell_type": "code",
   "execution_count": 3,
   "metadata": {},
   "outputs": [],
   "source": [
    "# 제거고려: nextbigfuture, nbcnews, joongang, chosun"
   ]
  },
  {
   "cell_type": "code",
   "execution_count": null,
   "metadata": {},
   "outputs": [
    {
     "name": "stdout",
     "output_type": "stream",
     "text": [
      "35.62% (197.59 seconds): Collecting URLs... nymag               "
     ]
    }
   ],
   "source": [
    "collect_results = crawler.collect(); display(*collect_results)"
   ]
  },
  {
   "cell_type": "code",
   "execution_count": null,
   "metadata": {},
   "outputs": [],
   "source": [
    "collect_results[2]['thinkprogress']"
   ]
  },
  {
   "cell_type": "markdown",
   "metadata": {},
   "source": [
    "# 2. 모은 URL중 이미 받은 것은 버린다"
   ]
  },
  {
   "cell_type": "code",
   "execution_count": null,
   "metadata": {
    "scrolled": true
   },
   "outputs": [],
   "source": [
    "select_results = crawler.select(); display(*select_results)"
   ]
  },
  {
   "cell_type": "code",
   "execution_count": null,
   "metadata": {},
   "outputs": [],
   "source": [
    "crawler.urls_selected['thinkprogress']"
   ]
  },
  {
   "cell_type": "markdown",
   "metadata": {},
   "source": [
    "# 3. 해당 URL의 뉴스를 다운로드한다"
   ]
  },
  {
   "cell_type": "code",
   "execution_count": null,
   "metadata": {
    "scrolled": true
   },
   "outputs": [],
   "source": [
    "download_results = crawler.download(); download_results"
   ]
  },
  {
   "cell_type": "code",
   "execution_count": 20,
   "metadata": {
    "scrolled": true
   },
   "outputs": [
    {
     "data": {
      "text/plain": [
       "['d80494a4761ead4276e510dc4f64762e319902e0',\n",
       " 'f25b1d06e58c05786ad57fe9bea9817859de3861',\n",
       " '02d668060004e25c2299c9a23445e38a9c6ec771',\n",
       " '2d3e330325b35d2c622806feac055478a4a61559',\n",
       " '2e87c621d1ffb7f28485496eb82814891ff5dd1b',\n",
       " '40cf0a5a2b87e040cd211da1855cb615702cb0ca',\n",
       " 'feefa98b143ce76ef3cadf0a2764ca634f773fee',\n",
       " '0a900188f145b48aad8c70bde741aea563dba542',\n",
       " 'ef7e33fa30c8be4b6d90681b383234ee4f73e51a',\n",
       " '64cc9a5e5a51520306154fda70d482b57a7420b0',\n",
       " '12e43a97340dc5a9f9270b38a9705e461456041b',\n",
       " 'd71b4a23216b50deb276d3ccd8c1905939f5a9c2',\n",
       " '9a5e5f813637acd5359da986e562fa9ad9858f4b',\n",
       " '44c36bff1fe4d64fb468131f1221959fa30718d6',\n",
       " 'dbf61f3dd462f9c650d0b2f42ca69717701fc7d1',\n",
       " '385dbc7ad54410ac2078055044e34c6e30cfde4b',\n",
       " 'a31fe291585e194540805022e45df9ebdbabc9fc',\n",
       " '66afae226b2dc5d329fc731f7931f9f6d6f37e23']"
      ]
     },
     "execution_count": 20,
     "metadata": {},
     "output_type": "execute_result"
    }
   ],
   "source": [
    "import hashlib\n",
    "[hashlib.sha1(url.encode('utf-8')).hexdigest() for url in crawler.urls_final['japan-news']['trashed']]"
   ]
  },
  {
   "cell_type": "code",
   "execution_count": null,
   "metadata": {},
   "outputs": [],
   "source": []
  },
  {
   "cell_type": "code",
   "execution_count": null,
   "metadata": {},
   "outputs": [],
   "source": []
  },
  {
   "cell_type": "code",
   "execution_count": null,
   "metadata": {},
   "outputs": [],
   "source": []
  }
 ],
 "metadata": {
  "kernelspec": {
   "display_name": "Python 3",
   "language": "python",
   "name": "python3"
  },
  "language_info": {
   "codemirror_mode": {
    "name": "ipython",
    "version": 3
   },
   "file_extension": ".py",
   "mimetype": "text/x-python",
   "name": "python",
   "nbconvert_exporter": "python",
   "pygments_lexer": "ipython3",
   "version": "3.7.1"
  }
 },
 "nbformat": 4,
 "nbformat_minor": 2
}
