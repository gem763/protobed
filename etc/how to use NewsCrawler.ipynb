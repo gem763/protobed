{
 "cells": [
  {
   "cell_type": "code",
   "execution_count": 1,
   "metadata": {},
   "outputs": [],
   "source": [
    "from news_crawler import NewsCrawler\n",
    "from IPython.display import display"
   ]
  },
  {
   "cell_type": "code",
   "execution_count": 2,
   "metadata": {},
   "outputs": [],
   "source": [
    "crawler = NewsCrawler()"
   ]
  },
  {
   "cell_type": "markdown",
   "metadata": {},
   "source": [
    "# 1. URL을 모은다"
   ]
  },
  {
   "cell_type": "code",
   "execution_count": 3,
   "metadata": {
    "scrolled": true
   },
   "outputs": [
    {
     "name": "stdout",
     "output_type": "stream",
     "text": [
      "100.00% (56.08 seconds): URLs collecting... nymag               "
     ]
    },
    {
     "data": {
      "text/plain": [
       "n_total     10571\n",
       "n_unique    10542\n",
       "dtype: int64"
      ]
     },
     "metadata": {},
     "output_type": "display_data"
    },
    {
     "data": {
      "text/plain": [
       "huffpost               66\n",
       "cnn                   828\n",
       "investingcom          900\n",
       "politico              228\n",
       "time                   20\n",
       "cnbc                  164\n",
       "foxnews               186\n",
       "foxbusiness           131\n",
       "bbc                   276\n",
       "businessinsider       536\n",
       "morningstar           100\n",
       "wsj                   112\n",
       "nyt                    97\n",
       "guardian              157\n",
       "reuters              1136\n",
       "washingtontimes       473\n",
       "washingtonpost        128\n",
       "cbs                   399\n",
       "marketwatch           140\n",
       "atlantic              109\n",
       "vice                   17\n",
       "npr                   846\n",
       "newrepublic            20\n",
       "yahoo                 218\n",
       "independent           718\n",
       "heritage              281\n",
       "zdnet                 406\n",
       "townhall              600\n",
       "abcnews               105\n",
       "hotair                 85\n",
       "cbc                   296\n",
       "nymag                 226\n",
       "thestreet             144\n",
       "thinkprogress          82\n",
       "dailybeast             45\n",
       "realclearpolitics     296\n",
       "dtype: int64"
      ]
     },
     "metadata": {},
     "output_type": "display_data"
    },
    {
     "data": {
      "text/html": [
       "<div>\n",
       "<style scoped>\n",
       "    .dataframe tbody tr th:only-of-type {\n",
       "        vertical-align: middle;\n",
       "    }\n",
       "\n",
       "    .dataframe tbody tr th {\n",
       "        vertical-align: top;\n",
       "    }\n",
       "\n",
       "    .dataframe thead th {\n",
       "        text-align: right;\n",
       "    }\n",
       "</style>\n",
       "<table border=\"1\" class=\"dataframe\">\n",
       "  <thead>\n",
       "    <tr style=\"text-align: right;\">\n",
       "      <th></th>\n",
       "      <th>pubs</th>\n",
       "    </tr>\n",
       "  </thead>\n",
       "  <tbody>\n",
       "    <tr>\n",
       "      <th>https://cbsnews.com/news/hong-kong-protest-today-rally-to-commemorate-2014-umbrella-movement</th>\n",
       "      <td>cbs, realclearpolitics</td>\n",
       "    </tr>\n",
       "    <tr>\n",
       "      <th>https://cbsnews.com/news/trump-impeachment-inquiry-poll-cbs-news-poll-finds-majority-of-americans-and-democrats-approve</th>\n",
       "      <td>cnn, cbs</td>\n",
       "    </tr>\n",
       "    <tr>\n",
       "      <th>https://cnbc.com/2019/09/27/new-sec-rule-to-stave-off-disappointing-ipo-debuts-like-peloton.html</th>\n",
       "      <td>investingcom, cnbc</td>\n",
       "    </tr>\n",
       "    <tr>\n",
       "      <th>https://foxbusiness.com/business-leaders/musk-set-to-reveal-starship-super-heavy-designs-saturday-after-twitter-tease</th>\n",
       "      <td>foxnews, foxbusiness</td>\n",
       "    </tr>\n",
       "    <tr>\n",
       "      <th>https://foxbusiness.com/business-leaders/oprah-winfrey-surprises-students-million-dollar-donation</th>\n",
       "      <td>foxnews, foxbusiness</td>\n",
       "    </tr>\n",
       "    <tr>\n",
       "      <th>https://foxbusiness.com/category/media</th>\n",
       "      <td>foxnews, foxbusiness</td>\n",
       "    </tr>\n",
       "    <tr>\n",
       "      <th>https://foxbusiness.com/media/comcast-accused-by-naacp-civil-rights</th>\n",
       "      <td>foxnews, foxbusiness</td>\n",
       "    </tr>\n",
       "    <tr>\n",
       "      <th>https://foxbusiness.com/personal-finance/why-a-tight-labor-market-could-make-it-easier-for-you-to-get-a-job</th>\n",
       "      <td>foxnews, foxbusiness</td>\n",
       "    </tr>\n",
       "    <tr>\n",
       "      <th>https://foxbusiness.com/politics/republicans-rake-in-15-million-off-trump-impeachment-threat</th>\n",
       "      <td>foxbusiness, realclearpolitics</td>\n",
       "    </tr>\n",
       "    <tr>\n",
       "      <th>https://foxbusiness.com/real-estate/american-dream-from-busboy-to-top-realtor</th>\n",
       "      <td>foxnews, foxbusiness</td>\n",
       "    </tr>\n",
       "    <tr>\n",
       "      <th>https://foxbusiness.com/retail/frugal-consumers-dupe-retailers-shift-landscape</th>\n",
       "      <td>foxnews, foxbusiness</td>\n",
       "    </tr>\n",
       "    <tr>\n",
       "      <th>https://foxbusiness.com/technology/tesla-elon-musk-violated-labor-laws</th>\n",
       "      <td>foxnews, foxbusiness</td>\n",
       "    </tr>\n",
       "    <tr>\n",
       "      <th>https://hotair.com/archives/allahpundit/2019/09/29/chris-wallace-rudy-help-trying-get-dirt-biden-ukraine-name-fox-news-viewers-will-recognize</th>\n",
       "      <td>townhall, hotair</td>\n",
       "    </tr>\n",
       "    <tr>\n",
       "      <th>https://newrepublic.com/article/154961/failed-political-promise-silicon-valley</th>\n",
       "      <td>newrepublic, realclearpolitics</td>\n",
       "    </tr>\n",
       "    <tr>\n",
       "      <th>https://nymag.com/intelligencer/2019/09/is-impeachment-the-end-of-the-road-for-most-2020-democrats.html</th>\n",
       "      <td>nymag, realclearpolitics</td>\n",
       "    </tr>\n",
       "    <tr>\n",
       "      <th>https://politico.com/magazine/story/2019/09/24/donald-trump-iran-saudi-arabia-228170</th>\n",
       "      <td>politico, realclearpolitics</td>\n",
       "    </tr>\n",
       "    <tr>\n",
       "      <th>https://politico.com/magazine/story/2019/09/24/elizabeth-warren-campaign-crowds-228172</th>\n",
       "      <td>politico, realclearpolitics</td>\n",
       "    </tr>\n",
       "    <tr>\n",
       "      <th>https://politico.com/magazine/story/2019/09/27/trump-impeachment-national-security-house-democrats-moderate-mikie-sherrill-228430</th>\n",
       "      <td>politico, realclearpolitics</td>\n",
       "    </tr>\n",
       "    <tr>\n",
       "      <th>https://politico.com/magazine/story/2019/09/29/republicans-orange-county-california-228110</th>\n",
       "      <td>politico, realclearpolitics</td>\n",
       "    </tr>\n",
       "    <tr>\n",
       "      <th>https://politico.com/news/2019/09/28/mitch-mcconnell-trump-impeachment-007689</th>\n",
       "      <td>politico, realclearpolitics</td>\n",
       "    </tr>\n",
       "    <tr>\n",
       "      <th>https://redstate.com/kiradavis/2019/09/29/hilarious-snl-hits-nail-head-dnc-debate-skit</th>\n",
       "      <td>townhall, hotair</td>\n",
       "    </tr>\n",
       "    <tr>\n",
       "      <th>https://theatlantic.com/ideas/archive/2019/09/atheism-fastest-growing-religion-us/598843</th>\n",
       "      <td>atlantic, realclearpolitics</td>\n",
       "    </tr>\n",
       "    <tr>\n",
       "      <th>https://townhall.com/columnists/derekhunter/2019/09/29/if-the-case-for-trumps-impeachment-is-so-strong-why-are-liberals-lying-about-it-n2553861</th>\n",
       "      <td>townhall, realclearpolitics</td>\n",
       "    </tr>\n",
       "    <tr>\n",
       "      <th>https://townhall.com/columnists/kurtschlichter/2019/09/23/this-will-totally-destroy-trump-volume-mcxxxvii-n2553455</th>\n",
       "      <td>townhall, realclearpolitics</td>\n",
       "    </tr>\n",
       "    <tr>\n",
       "      <th>https://townhall.com/columnists/markdavis/2019/09/26/impeachment-gamble-already-backfiring-on-democrats-n2553739</th>\n",
       "      <td>townhall, realclearpolitics</td>\n",
       "    </tr>\n",
       "    <tr>\n",
       "      <th>https://washingtonpost.com/politics/pelosi-turns-to-schiff-to-lead-house-democrats-impeachment-inquiry-of-trump/2019/09/28/ed6c4608-e149-11e9-8dc8-498eabc129a0_story.html</th>\n",
       "      <td>washingtonpost, realclearpolitics</td>\n",
       "    </tr>\n",
       "    <tr>\n",
       "      <th>https://washingtontimes.com/news/2019/sep/26/the-hypocrisy-of-climate-change-warriors</th>\n",
       "      <td>washingtontimes, realclearpolitics</td>\n",
       "    </tr>\n",
       "    <tr>\n",
       "      <th>https://washingtontimes.com/news/2019/sep/27/adam-schiff-should-be-forced-to-take-oath-before-e</th>\n",
       "      <td>washingtontimes, realclearpolitics</td>\n",
       "    </tr>\n",
       "    <tr>\n",
       "      <th>https://washingtontimes.com/news/2019/sep/28/adam-schiff-should-be-censured-making-trump-quotes</th>\n",
       "      <td>washingtontimes, realclearpolitics</td>\n",
       "    </tr>\n",
       "  </tbody>\n",
       "</table>\n",
       "</div>"
      ],
      "text/plain": [
       "                                                                                  pubs\n",
       "https://cbsnews.com/news/hong-kong-protest-toda...              cbs, realclearpolitics\n",
       "https://cbsnews.com/news/trump-impeachment-inqu...                            cnn, cbs\n",
       "https://cnbc.com/2019/09/27/new-sec-rule-to-sta...                  investingcom, cnbc\n",
       "https://foxbusiness.com/business-leaders/musk-s...                foxnews, foxbusiness\n",
       "https://foxbusiness.com/business-leaders/oprah-...                foxnews, foxbusiness\n",
       "https://foxbusiness.com/category/media                            foxnews, foxbusiness\n",
       "https://foxbusiness.com/media/comcast-accused-b...                foxnews, foxbusiness\n",
       "https://foxbusiness.com/personal-finance/why-a-...                foxnews, foxbusiness\n",
       "https://foxbusiness.com/politics/republicans-ra...      foxbusiness, realclearpolitics\n",
       "https://foxbusiness.com/real-estate/american-dr...                foxnews, foxbusiness\n",
       "https://foxbusiness.com/retail/frugal-consumers...                foxnews, foxbusiness\n",
       "https://foxbusiness.com/technology/tesla-elon-m...                foxnews, foxbusiness\n",
       "https://hotair.com/archives/allahpundit/2019/09...                    townhall, hotair\n",
       "https://newrepublic.com/article/154961/failed-p...      newrepublic, realclearpolitics\n",
       "https://nymag.com/intelligencer/2019/09/is-impe...            nymag, realclearpolitics\n",
       "https://politico.com/magazine/story/2019/09/24/...         politico, realclearpolitics\n",
       "https://politico.com/magazine/story/2019/09/24/...         politico, realclearpolitics\n",
       "https://politico.com/magazine/story/2019/09/27/...         politico, realclearpolitics\n",
       "https://politico.com/magazine/story/2019/09/29/...         politico, realclearpolitics\n",
       "https://politico.com/news/2019/09/28/mitch-mcco...         politico, realclearpolitics\n",
       "https://redstate.com/kiradavis/2019/09/29/hilar...                    townhall, hotair\n",
       "https://theatlantic.com/ideas/archive/2019/09/a...         atlantic, realclearpolitics\n",
       "https://townhall.com/columnists/derekhunter/201...         townhall, realclearpolitics\n",
       "https://townhall.com/columnists/kurtschlichter/...         townhall, realclearpolitics\n",
       "https://townhall.com/columnists/markdavis/2019/...         townhall, realclearpolitics\n",
       "https://washingtonpost.com/politics/pelosi-turn...   washingtonpost, realclearpolitics\n",
       "https://washingtontimes.com/news/2019/sep/26/th...  washingtontimes, realclearpolitics\n",
       "https://washingtontimes.com/news/2019/sep/27/ad...  washingtontimes, realclearpolitics\n",
       "https://washingtontimes.com/news/2019/sep/28/ad...  washingtontimes, realclearpolitics"
      ]
     },
     "metadata": {},
     "output_type": "display_data"
    }
   ],
   "source": [
    "collect_results = crawler.collect(); display(*collect_results)"
   ]
  },
  {
   "cell_type": "markdown",
   "metadata": {},
   "source": [
    "# 2. 모은 URL중 이미 받은 것은 버린다"
   ]
  },
  {
   "cell_type": "code",
   "execution_count": 4,
   "metadata": {
    "scrolled": true
   },
   "outputs": [
    {
     "name": "stdout",
     "output_type": "stream",
     "text": [
      "100.00% (1.11 seconds): URLs selecting... realclearpolitics   "
     ]
    },
    {
     "data": {
      "text/plain": [
       "n_total     337\n",
       "n_unique    337\n",
       "dtype: int64"
      ]
     },
     "metadata": {},
     "output_type": "display_data"
    },
    {
     "data": {
      "text/plain": [
       "huffpost              0\n",
       "cnn                   4\n",
       "investingcom         82\n",
       "politico              0\n",
       "time                  1\n",
       "cnbc                  3\n",
       "foxnews               1\n",
       "foxbusiness           4\n",
       "bbc                   4\n",
       "businessinsider      38\n",
       "morningstar           1\n",
       "wsj                   2\n",
       "nyt                   0\n",
       "guardian             14\n",
       "reuters              93\n",
       "washingtontimes       4\n",
       "washingtonpost        0\n",
       "cbs                   0\n",
       "marketwatch           2\n",
       "atlantic              0\n",
       "vice                  0\n",
       "npr                   0\n",
       "newrepublic           0\n",
       "yahoo                60\n",
       "independent          12\n",
       "heritage              0\n",
       "zdnet                11\n",
       "townhall              1\n",
       "abcnews               0\n",
       "hotair                0\n",
       "cbc                   0\n",
       "nymag                 0\n",
       "thestreet             0\n",
       "thinkprogress         0\n",
       "dailybeast            0\n",
       "realclearpolitics     0\n",
       "dtype: int64"
      ]
     },
     "metadata": {},
     "output_type": "display_data"
    },
    {
     "data": {
      "text/html": [
       "<div>\n",
       "<style scoped>\n",
       "    .dataframe tbody tr th:only-of-type {\n",
       "        vertical-align: middle;\n",
       "    }\n",
       "\n",
       "    .dataframe tbody tr th {\n",
       "        vertical-align: top;\n",
       "    }\n",
       "\n",
       "    .dataframe thead th {\n",
       "        text-align: right;\n",
       "    }\n",
       "</style>\n",
       "<table border=\"1\" class=\"dataframe\">\n",
       "  <thead>\n",
       "    <tr style=\"text-align: right;\">\n",
       "      <th></th>\n",
       "      <th>pubs</th>\n",
       "    </tr>\n",
       "  </thead>\n",
       "  <tbody>\n",
       "  </tbody>\n",
       "</table>\n",
       "</div>"
      ],
      "text/plain": [
       "Empty DataFrame\n",
       "Columns: [pubs]\n",
       "Index: []"
      ]
     },
     "metadata": {},
     "output_type": "display_data"
    }
   ],
   "source": [
    "select_results = crawler.select(); display(*select_results)"
   ]
  },
  {
   "cell_type": "markdown",
   "metadata": {},
   "source": [
    "# 3. 해당 URL의 뉴스를 다운로드한다"
   ]
  },
  {
   "cell_type": "code",
   "execution_count": null,
   "metadata": {
    "scrolled": true
   },
   "outputs": [
    {
     "name": "stdout",
     "output_type": "stream",
     "text": [
      "19.88% (19.25 seconds): downloading... reuters             "
     ]
    },
    {
     "name": "stderr",
     "output_type": "stream",
     "text": [
      "Some characters could not be decoded, and were replaced with REPLACEMENT CHARACTER.\n"
     ]
    },
    {
     "name": "stdout",
     "output_type": "stream",
     "text": [
      "40.06% (49.97 seconds): downloading... reuters             "
     ]
    },
    {
     "name": "stderr",
     "output_type": "stream",
     "text": [
      "Building prefix dict from C:\\Users\\infomax\\Anaconda3\\lib\\site-packages\\jieba\\dict.txt ...\n",
      "Loading model from cache C:\\Users\\infomax\\AppData\\Local\\Temp\\jieba.cache\n",
      "Loading model cost 0.9260382652282715 seconds.\n",
      "Prefix dict has been built succesfully.\n"
     ]
    },
    {
     "name": "stdout",
     "output_type": "stream",
     "text": [
      "97.03% (277.85 seconds): downloading... investingcom        "
     ]
    }
   ],
   "source": [
    "download_results = crawler.download(); download_results # 뒤에 pub print는 빼도 되겠다..."
   ]
  },
  {
   "cell_type": "code",
   "execution_count": null,
   "metadata": {},
   "outputs": [],
   "source": []
  },
  {
   "cell_type": "code",
   "execution_count": null,
   "metadata": {},
   "outputs": [],
   "source": []
  },
  {
   "cell_type": "code",
   "execution_count": 51,
   "metadata": {},
   "outputs": [
    {
     "data": {
      "text/plain": [
       "{'downloaded': set(),\n",
       " 'trashed': {'https://thestreet.com/partner/fight-over-hong-kong-lennon-wall-leaves-two-men-injured-as-tensions-escalate-between-anti-government-protesters-and-opponents-15108161',\n",
       "  'https://thestreet.com/partner/people-s-bank-of-china-to-survey-30-000-households-about-debt-levels-as-financial-risks-continue-to-rise-15108163'}}"
      ]
     },
     "execution_count": 51,
     "metadata": {},
     "output_type": "execute_result"
    }
   ],
   "source": [
    "crawler.urls_final['thestreet']"
   ]
  },
  {
   "cell_type": "code",
   "execution_count": null,
   "metadata": {},
   "outputs": [],
   "source": []
  },
  {
   "cell_type": "code",
   "execution_count": null,
   "metadata": {},
   "outputs": [],
   "source": []
  }
 ],
 "metadata": {
  "kernelspec": {
   "display_name": "Python 3",
   "language": "python",
   "name": "python3"
  },
  "language_info": {
   "codemirror_mode": {
    "name": "ipython",
    "version": 3
   },
   "file_extension": ".py",
   "mimetype": "text/x-python",
   "name": "python",
   "nbconvert_exporter": "python",
   "pygments_lexer": "ipython3",
   "version": "3.7.3"
  }
 },
 "nbformat": 4,
 "nbformat_minor": 2
}
